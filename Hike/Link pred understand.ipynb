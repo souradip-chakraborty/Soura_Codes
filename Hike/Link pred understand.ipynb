{
 "cells": [
  {
   "cell_type": "code",
   "execution_count": 2,
   "metadata": {},
   "outputs": [],
   "source": [
    "import numpy as np\n",
    "import pandas as pd\n",
    "import matplotlib.pyplot as plt\n",
    "import time\n",
    "import re\n",
    "import itertools\n",
    "from tqdm import tqdm\n",
    "\n",
    "from sklearn.model_selection import cross_val_score\n",
    "from sklearn.metrics import precision_score,recall_score,roc_auc_score\n",
    "from sklearn.preprocessing import StandardScaler\n",
    "from sklearn.preprocessing import OneHotEncoder\n",
    "from sklearn.manifold import TSNE\n",
    "from sklearn.ensemble import RandomForestClassifier \n",
    "from sklearn.model_selection import train_test_split\n",
    "import lightgbm as lgb\n",
    "\n",
    "import networkx as nx\n",
    "from networkit import linkprediction as lp, nxadapter\n",
    "import seaborn as sns\n",
    "from functools import partial"
   ]
  },
  {
   "cell_type": "code",
   "execution_count": 3,
   "metadata": {},
   "outputs": [],
   "source": [
    "G = nx.read_edgelist('/Users/s0c02nj/Desktop/IT-Blog-master/scripts/link-prediction/data/graph.txt', comments='#')"
   ]
  },
  {
   "cell_type": "code",
   "execution_count": 5,
   "metadata": {},
   "outputs": [],
   "source": [
    "valid_graph = nxadapter.nx2nk(G)"
   ]
  },
  {
   "cell_type": "code",
   "execution_count": 6,
   "metadata": {},
   "outputs": [],
   "source": [
    "# Training and test graphs creation\n",
    "test_graph = lp.RandomLinkSampler.byPercentage(valid_graph, 0.9)\n",
    "train_graph = lp.RandomLinkSampler.byPercentage(test_graph, 0.7)\n"
   ]
  },
  {
   "cell_type": "code",
   "execution_count": 7,
   "metadata": {},
   "outputs": [],
   "source": [
    "# Training and testing sets creation\n",
    "testing_set = lp.MissingLinksFinder(test_graph).findAtDistance(2)\n",
    "training_set = lp.MissingLinksFinder(train_graph).findAtDistance(2)\n"
   ]
  },
  {
   "cell_type": "code",
   "execution_count": 14,
   "metadata": {},
   "outputs": [],
   "source": [
    "def concatenate(node_set, label):\n",
    "    dataset = pd.DataFrame({'nodes': node_set, 'label': label})\n",
    "    return dataset"
   ]
  },
  {
   "cell_type": "code",
   "execution_count": 15,
   "metadata": {},
   "outputs": [],
   "source": [
    "# Label creation\n",
    "def assign_label(pair, graph):\n",
    "    u, v = pair[0], pair[1]\n",
    "    return (int(graph.hasEdge(u, v)))\n"
   ]
  },
  {
   "cell_type": "code",
   "execution_count": 12,
   "metadata": {},
   "outputs": [],
   "source": [
    "y_train = list(map(partial(assign_label, graph=test_graph), training_set))\n",
    "y_test = list(map(partial(assign_label, graph=valid_graph), testing_set))"
   ]
  },
  {
   "cell_type": "code",
   "execution_count": 16,
   "metadata": {},
   "outputs": [],
   "source": [
    "# Concatenation of labels with samples\n",
    "train = concatenate(training_set, y_train)\n",
    "test = concatenate(testing_set, y_test)\n",
    "trainingSet = train.nodes.values\n",
    "testingSet = test.nodes.values"
   ]
  },
  {
   "cell_type": "code",
   "execution_count": 22,
   "metadata": {},
   "outputs": [],
   "source": [
    "# Feature engineering\n",
    "    trainLPs = [\n",
    "        lp.CommonNeighborsIndex(train_graph), lp.JaccardIndex(train_graph),\n",
    "        lp.AdamicAdarIndex(train_graph), lp.ResourceAllocationIndex(train_graph),\n",
    "        lp.PreferentialAttachmentIndex(train_graph), lp.AdjustedRandIndex(train_graph),\n",
    "        lp.NeighborhoodDistanceIndex(train_graph), lp.TotalNeighborsIndex(train_graph),\n",
    "        lp.SameCommunityIndex(train_graph), lp.UDegreeIndex(train_graph),\n",
    "        lp.VDegreeIndex(train_graph)\n",
    "    ]"
   ]
  },
  {
   "cell_type": "code",
   "execution_count": 34,
   "metadata": {},
   "outputs": [],
   "source": [
    "#X_train = lp.getFeatures(trainingSet, *trainLPs)"
   ]
  },
  {
   "cell_type": "code",
   "execution_count": null,
   "metadata": {},
   "outputs": [],
   "source": []
  },
  {
   "cell_type": "code",
   "execution_count": null,
   "metadata": {},
   "outputs": [],
   "source": []
  }
 ],
 "metadata": {
  "kernelspec": {
   "display_name": "Python 3",
   "language": "python",
   "name": "python3"
  },
  "language_info": {
   "codemirror_mode": {
    "name": "ipython",
    "version": 3
   },
   "file_extension": ".py",
   "mimetype": "text/x-python",
   "name": "python",
   "nbconvert_exporter": "python",
   "pygments_lexer": "ipython3",
   "version": "3.6.7"
  }
 },
 "nbformat": 4,
 "nbformat_minor": 2
}

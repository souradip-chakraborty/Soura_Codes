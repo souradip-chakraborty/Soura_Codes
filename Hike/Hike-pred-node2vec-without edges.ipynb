{
 "cells": [
  {
   "cell_type": "code",
   "execution_count": 1,
   "metadata": {},
   "outputs": [
    {
     "name": "stderr",
     "output_type": "stream",
     "text": [
      "Using TensorFlow backend.\n"
     ]
    }
   ],
   "source": [
    "import numpy as np\n",
    "import pandas as pd\n",
    "import matplotlib.pyplot as plt\n",
    "import time\n",
    "import re\n",
    "import itertools\n",
    "\n",
    "from sklearn.model_selection import cross_val_score\n",
    "from sklearn.preprocessing import StandardScaler\n",
    "from sklearn.preprocessing import OneHotEncoder\n",
    "from sklearn.manifold import TSNE\n",
    "import networkx as nx\n",
    "\n",
    "import tensorflow as tf\n",
    "from keras.layers import Dense, Flatten, LSTM, Conv1D, MaxPooling1D, Dropout, Activation\n",
    "from keras.layers.embeddings import Embedding\n",
    "import keras \n",
    "import scipy\n",
    "from keras import backend as K\n",
    "from keras.preprocessing.text import Tokenizer, one_hot\n",
    "from keras.preprocessing.sequence import pad_sequences\n",
    "from keras.models import Sequential\n",
    "from keras.layers import Dense,Flatten,Activation,Dropout,Input,Embedding,RepeatVector,Permute,merge,Lambda\n",
    "from keras.layers import multiply ,concatenate ,subtract,add,Add,Reshape                   \n",
    "from keras.optimizers import RMSprop ,Adam\n",
    "from keras.preprocessing import sequence\n",
    "from keras.utils import to_categorical\n",
    "from keras.callbacks import EarlyStopping\n",
    "from keras.models import Model"
   ]
  },
  {
   "cell_type": "code",
   "execution_count": 2,
   "metadata": {},
   "outputs": [],
   "source": [
    "train_data = pd.read_csv('/Users/s0c02nj/Desktop/Hike/train/train.csv')\n",
    "train_feat = pd.read_csv('/Users/s0c02nj/Desktop/Hike/train/user_features.csv')"
   ]
  },
  {
   "cell_type": "code",
   "execution_count": 3,
   "metadata": {},
   "outputs": [],
   "source": [
    "test_data = pd.read_csv('/Users/s0c02nj/Desktop/Hike/test.csv')"
   ]
  },
  {
   "cell_type": "code",
   "execution_count": 4,
   "metadata": {},
   "outputs": [],
   "source": [
    "train_data1 = train_data[['node1_id']]\n",
    "train_data2 = train_data[['node2_id']]\n",
    "\n",
    "y_train = train_data['is_chat']"
   ]
  },
  {
   "cell_type": "code",
   "execution_count": 5,
   "metadata": {},
   "outputs": [],
   "source": [
    "test_data1 = test_data[['node1_id']]\n",
    "test_data2 = test_data[['node2_id']]\n"
   ]
  },
  {
   "cell_type": "markdown",
   "metadata": {},
   "source": [
    "Bringing the Train Features"
   ]
  },
  {
   "cell_type": "code",
   "execution_count": null,
   "metadata": {},
   "outputs": [],
   "source": [
    "# train_feat1 = pd.merge(left = train_data, right= train_feat, how='inner', \n",
    "#                  left_on=['node1_id'], right_on=['node_id'])"
   ]
  },
  {
   "cell_type": "code",
   "execution_count": null,
   "metadata": {},
   "outputs": [],
   "source": [
    "# train_feat2 = pd.merge(left = train_data, right= train_feat, how='inner', \n",
    "#                  left_on=['node2_id'], right_on=['node_id'])"
   ]
  },
  {
   "cell_type": "markdown",
   "metadata": {},
   "source": [
    "Bringing Test Features"
   ]
  },
  {
   "cell_type": "code",
   "execution_count": null,
   "metadata": {},
   "outputs": [],
   "source": [
    "# test_feat1 = pd.merge(left = test_data1, right= train_feat, how='inner', \n",
    "#                  left_on=['node1_id'], right_on=['node_id'])"
   ]
  },
  {
   "cell_type": "code",
   "execution_count": null,
   "metadata": {},
   "outputs": [],
   "source": [
    "# test_feat2 = pd.merge(left = test_data2, right= train_feat, how='inner', \n",
    "#                  left_on=['node2_id'], right_on=['node_id'])"
   ]
  },
  {
   "cell_type": "markdown",
   "metadata": {},
   "source": [
    "Standardizing Columns"
   ]
  },
  {
   "cell_type": "code",
   "execution_count": null,
   "metadata": {},
   "outputs": [],
   "source": [
    "#cols_std = ['f1','f2','f3','f4','f5','f5', 'f6','f7', 'f8', 'f9', 'f10', 'f11', 'f12', 'f13']"
   ]
  },
  {
   "cell_type": "code",
   "execution_count": null,
   "metadata": {},
   "outputs": [],
   "source": [
    "# train_feat1 = train_feat1[cols_std]\n",
    "# train_feat2 = train_feat2[cols_std]\n",
    "\n",
    "# test_feat1 = test_feat1[cols_std]\n",
    "# test_feat2 = test_feat2[cols_std]"
   ]
  },
  {
   "cell_type": "code",
   "execution_count": 6,
   "metadata": {},
   "outputs": [],
   "source": [
    "y_train = train_data['is_chat']"
   ]
  },
  {
   "cell_type": "code",
   "execution_count": 7,
   "metadata": {},
   "outputs": [],
   "source": [
    "a = list(np.unique(list(train_data['node1_id'].unique()) + list(train_data['node2_id'].unique())))\n"
   ]
  },
  {
   "cell_type": "code",
   "execution_count": 8,
   "metadata": {},
   "outputs": [],
   "source": [
    "x_ones = train_data[train_data['is_chat']==1]\n",
    "x_ones.index = range(0,len(x_ones))"
   ]
  },
  {
   "cell_type": "markdown",
   "metadata": {},
   "source": [
    "#### Implementation of Node2Vec"
   ]
  },
  {
   "cell_type": "code",
   "execution_count": 9,
   "metadata": {},
   "outputs": [],
   "source": [
    "from node2vec import Node2Vec"
   ]
  },
  {
   "cell_type": "code",
   "execution_count": 10,
   "metadata": {},
   "outputs": [],
   "source": [
    "G = nx.Graph()\n",
    "G.add_nodes_from(a)"
   ]
  },
  {
   "cell_type": "code",
   "execution_count": 11,
   "metadata": {},
   "outputs": [],
   "source": [
    "x_ls1=[]\n",
    "for i in range(0,len(x_ones)) :\n",
    "    x_ls1.append((x_ones['node1_id'].iloc[i],x_ones['node2_id'].iloc[i]))"
   ]
  },
  {
   "cell_type": "code",
   "execution_count": 12,
   "metadata": {},
   "outputs": [],
   "source": [
    "# add edges from txt \n",
    "G.add_edges_from(x_ls1)"
   ]
  },
  {
   "cell_type": "markdown",
   "metadata": {},
   "source": [
    "Generate Random Walks"
   ]
  },
  {
   "cell_type": "code",
   "execution_count": 14,
   "metadata": {
    "scrolled": true
   },
   "outputs": [],
   "source": [
    "#3# Generate walks\n",
    "node2vec = Node2Vec(G, dimensions=100, walk_length=16, num_walks=2)"
   ]
  },
  {
   "cell_type": "code",
   "execution_count": null,
   "metadata": {},
   "outputs": [],
   "source": [
    "# Learn embeddings \n",
    "model = node2vec.fit(window=10, min_count=1)"
   ]
  },
  {
   "cell_type": "code",
   "execution_count": null,
   "metadata": {},
   "outputs": [],
   "source": [
    "from scipy.stats import cosine"
   ]
  },
  {
   "cell_type": "code",
   "execution_count": null,
   "metadata": {},
   "outputs": [],
   "source": [
    "a1 = list(model.wv.get_vector('5931925'))\n",
    "a2 = list(model.wv.get_vector('4200009'))"
   ]
  },
  {
   "cell_type": "code",
   "execution_count": null,
   "metadata": {},
   "outputs": [],
   "source": [
    "from scipy import spatial\n",
    "result = spatial.distance.cosine(a1, a2)"
   ]
  },
  {
   "cell_type": "code",
   "execution_count": null,
   "metadata": {},
   "outputs": [],
   "source": []
  },
  {
   "cell_type": "markdown",
   "metadata": {},
   "source": [
    "##### Deep Implementation"
   ]
  },
  {
   "cell_type": "code",
   "execution_count": 16,
   "metadata": {},
   "outputs": [
    {
     "data": {
      "text/plain": [
       "8446602"
      ]
     },
     "execution_count": 16,
     "metadata": {},
     "output_type": "execute_result"
    }
   ],
   "source": [
    "train_data1['node1_id'].iloc[0]"
   ]
  },
  {
   "cell_type": "code",
   "execution_count": 15,
   "metadata": {},
   "outputs": [
    {
     "data": {
      "text/html": [
       "<div>\n",
       "<style scoped>\n",
       "    .dataframe tbody tr th:only-of-type {\n",
       "        vertical-align: middle;\n",
       "    }\n",
       "\n",
       "    .dataframe tbody tr th {\n",
       "        vertical-align: top;\n",
       "    }\n",
       "\n",
       "    .dataframe thead th {\n",
       "        text-align: right;\n",
       "    }\n",
       "</style>\n",
       "<table border=\"1\" class=\"dataframe\">\n",
       "  <thead>\n",
       "    <tr style=\"text-align: right;\">\n",
       "      <th></th>\n",
       "      <th>node1_id</th>\n",
       "    </tr>\n",
       "  </thead>\n",
       "  <tbody>\n",
       "    <tr>\n",
       "      <th>0</th>\n",
       "      <td>8446602</td>\n",
       "    </tr>\n",
       "    <tr>\n",
       "      <th>1</th>\n",
       "      <td>1430102</td>\n",
       "    </tr>\n",
       "    <tr>\n",
       "      <th>2</th>\n",
       "      <td>2803017</td>\n",
       "    </tr>\n",
       "    <tr>\n",
       "      <th>3</th>\n",
       "      <td>4529348</td>\n",
       "    </tr>\n",
       "    <tr>\n",
       "      <th>4</th>\n",
       "      <td>5096572</td>\n",
       "    </tr>\n",
       "    <tr>\n",
       "      <th>5</th>\n",
       "      <td>8325853</td>\n",
       "    </tr>\n",
       "    <tr>\n",
       "      <th>6</th>\n",
       "      <td>7218175</td>\n",
       "    </tr>\n",
       "    <tr>\n",
       "      <th>7</th>\n",
       "      <td>7159649</td>\n",
       "    </tr>\n",
       "    <tr>\n",
       "      <th>8</th>\n",
       "      <td>4481049</td>\n",
       "    </tr>\n",
       "    <tr>\n",
       "      <th>9</th>\n",
       "      <td>2232007</td>\n",
       "    </tr>\n",
       "    <tr>\n",
       "      <th>10</th>\n",
       "      <td>5959148</td>\n",
       "    </tr>\n",
       "    <tr>\n",
       "      <th>11</th>\n",
       "      <td>321786</td>\n",
       "    </tr>\n",
       "    <tr>\n",
       "      <th>12</th>\n",
       "      <td>4220897</td>\n",
       "    </tr>\n",
       "    <tr>\n",
       "      <th>13</th>\n",
       "      <td>6696379</td>\n",
       "    </tr>\n",
       "    <tr>\n",
       "      <th>14</th>\n",
       "      <td>3233784</td>\n",
       "    </tr>\n",
       "    <tr>\n",
       "      <th>15</th>\n",
       "      <td>1143595</td>\n",
       "    </tr>\n",
       "    <tr>\n",
       "      <th>16</th>\n",
       "      <td>2762740</td>\n",
       "    </tr>\n",
       "    <tr>\n",
       "      <th>17</th>\n",
       "      <td>8308507</td>\n",
       "    </tr>\n",
       "    <tr>\n",
       "      <th>18</th>\n",
       "      <td>2489784</td>\n",
       "    </tr>\n",
       "    <tr>\n",
       "      <th>19</th>\n",
       "      <td>4771042</td>\n",
       "    </tr>\n",
       "    <tr>\n",
       "      <th>20</th>\n",
       "      <td>380641</td>\n",
       "    </tr>\n",
       "    <tr>\n",
       "      <th>21</th>\n",
       "      <td>3728724</td>\n",
       "    </tr>\n",
       "    <tr>\n",
       "      <th>22</th>\n",
       "      <td>8028135</td>\n",
       "    </tr>\n",
       "    <tr>\n",
       "      <th>23</th>\n",
       "      <td>4477060</td>\n",
       "    </tr>\n",
       "    <tr>\n",
       "      <th>24</th>\n",
       "      <td>180331</td>\n",
       "    </tr>\n",
       "    <tr>\n",
       "      <th>25</th>\n",
       "      <td>2791317</td>\n",
       "    </tr>\n",
       "    <tr>\n",
       "      <th>26</th>\n",
       "      <td>4755157</td>\n",
       "    </tr>\n",
       "    <tr>\n",
       "      <th>27</th>\n",
       "      <td>5814800</td>\n",
       "    </tr>\n",
       "    <tr>\n",
       "      <th>28</th>\n",
       "      <td>2087636</td>\n",
       "    </tr>\n",
       "    <tr>\n",
       "      <th>29</th>\n",
       "      <td>8522620</td>\n",
       "    </tr>\n",
       "    <tr>\n",
       "      <th>...</th>\n",
       "      <td>...</td>\n",
       "    </tr>\n",
       "    <tr>\n",
       "      <th>70661772</th>\n",
       "      <td>7116244</td>\n",
       "    </tr>\n",
       "    <tr>\n",
       "      <th>70661773</th>\n",
       "      <td>7197439</td>\n",
       "    </tr>\n",
       "    <tr>\n",
       "      <th>70661774</th>\n",
       "      <td>1297069</td>\n",
       "    </tr>\n",
       "    <tr>\n",
       "      <th>70661775</th>\n",
       "      <td>5328423</td>\n",
       "    </tr>\n",
       "    <tr>\n",
       "      <th>70661776</th>\n",
       "      <td>5339305</td>\n",
       "    </tr>\n",
       "    <tr>\n",
       "      <th>70661777</th>\n",
       "      <td>1902721</td>\n",
       "    </tr>\n",
       "    <tr>\n",
       "      <th>70661778</th>\n",
       "      <td>8433560</td>\n",
       "    </tr>\n",
       "    <tr>\n",
       "      <th>70661779</th>\n",
       "      <td>2198706</td>\n",
       "    </tr>\n",
       "    <tr>\n",
       "      <th>70661780</th>\n",
       "      <td>323123</td>\n",
       "    </tr>\n",
       "    <tr>\n",
       "      <th>70661781</th>\n",
       "      <td>4227378</td>\n",
       "    </tr>\n",
       "    <tr>\n",
       "      <th>70661782</th>\n",
       "      <td>968870</td>\n",
       "    </tr>\n",
       "    <tr>\n",
       "      <th>70661783</th>\n",
       "      <td>4192725</td>\n",
       "    </tr>\n",
       "    <tr>\n",
       "      <th>70661784</th>\n",
       "      <td>6836821</td>\n",
       "    </tr>\n",
       "    <tr>\n",
       "      <th>70661785</th>\n",
       "      <td>1297325</td>\n",
       "    </tr>\n",
       "    <tr>\n",
       "      <th>70661786</th>\n",
       "      <td>4216934</td>\n",
       "    </tr>\n",
       "    <tr>\n",
       "      <th>70661787</th>\n",
       "      <td>6607254</td>\n",
       "    </tr>\n",
       "    <tr>\n",
       "      <th>70661788</th>\n",
       "      <td>110438</td>\n",
       "    </tr>\n",
       "    <tr>\n",
       "      <th>70661789</th>\n",
       "      <td>8307728</td>\n",
       "    </tr>\n",
       "    <tr>\n",
       "      <th>70661790</th>\n",
       "      <td>3686768</td>\n",
       "    </tr>\n",
       "    <tr>\n",
       "      <th>70661791</th>\n",
       "      <td>6973312</td>\n",
       "    </tr>\n",
       "    <tr>\n",
       "      <th>70661792</th>\n",
       "      <td>4748795</td>\n",
       "    </tr>\n",
       "    <tr>\n",
       "      <th>70661793</th>\n",
       "      <td>3835697</td>\n",
       "    </tr>\n",
       "    <tr>\n",
       "      <th>70661794</th>\n",
       "      <td>7715016</td>\n",
       "    </tr>\n",
       "    <tr>\n",
       "      <th>70661795</th>\n",
       "      <td>6491097</td>\n",
       "    </tr>\n",
       "    <tr>\n",
       "      <th>70661796</th>\n",
       "      <td>7708390</td>\n",
       "    </tr>\n",
       "    <tr>\n",
       "      <th>70661797</th>\n",
       "      <td>7517344</td>\n",
       "    </tr>\n",
       "    <tr>\n",
       "      <th>70661798</th>\n",
       "      <td>129076</td>\n",
       "    </tr>\n",
       "    <tr>\n",
       "      <th>70661799</th>\n",
       "      <td>2889780</td>\n",
       "    </tr>\n",
       "    <tr>\n",
       "      <th>70661800</th>\n",
       "      <td>338256</td>\n",
       "    </tr>\n",
       "    <tr>\n",
       "      <th>70661801</th>\n",
       "      <td>5818323</td>\n",
       "    </tr>\n",
       "  </tbody>\n",
       "</table>\n",
       "<p>70661802 rows × 1 columns</p>\n",
       "</div>"
      ],
      "text/plain": [
       "          node1_id\n",
       "0          8446602\n",
       "1          1430102\n",
       "2          2803017\n",
       "3          4529348\n",
       "4          5096572\n",
       "5          8325853\n",
       "6          7218175\n",
       "7          7159649\n",
       "8          4481049\n",
       "9          2232007\n",
       "10         5959148\n",
       "11          321786\n",
       "12         4220897\n",
       "13         6696379\n",
       "14         3233784\n",
       "15         1143595\n",
       "16         2762740\n",
       "17         8308507\n",
       "18         2489784\n",
       "19         4771042\n",
       "20          380641\n",
       "21         3728724\n",
       "22         8028135\n",
       "23         4477060\n",
       "24          180331\n",
       "25         2791317\n",
       "26         4755157\n",
       "27         5814800\n",
       "28         2087636\n",
       "29         8522620\n",
       "...            ...\n",
       "70661772   7116244\n",
       "70661773   7197439\n",
       "70661774   1297069\n",
       "70661775   5328423\n",
       "70661776   5339305\n",
       "70661777   1902721\n",
       "70661778   8433560\n",
       "70661779   2198706\n",
       "70661780    323123\n",
       "70661781   4227378\n",
       "70661782    968870\n",
       "70661783   4192725\n",
       "70661784   6836821\n",
       "70661785   1297325\n",
       "70661786   4216934\n",
       "70661787   6607254\n",
       "70661788    110438\n",
       "70661789   8307728\n",
       "70661790   3686768\n",
       "70661791   6973312\n",
       "70661792   4748795\n",
       "70661793   3835697\n",
       "70661794   7715016\n",
       "70661795   6491097\n",
       "70661796   7708390\n",
       "70661797   7517344\n",
       "70661798    129076\n",
       "70661799   2889780\n",
       "70661800    338256\n",
       "70661801   5818323\n",
       "\n",
       "[70661802 rows x 1 columns]"
      ]
     },
     "execution_count": 15,
     "metadata": {},
     "output_type": "execute_result"
    }
   ],
   "source": [
    "train_vec1=[]\n",
    "train_vec2=[]\n",
    "\n",
    "for i in range(0,len(train_data1)):\n",
    "    \n",
    "    node1 = train_data1['node1_id'].iloc[i]\n",
    "    node2 = train_data2['node2_id'].iloc[i]\n",
    "    \n",
    "    train_vec1.append(list(model.wv.get_vector('node1')))\n",
    "    train_vec2.append(list(model.wv.get_vector('node2')))"
   ]
  },
  {
   "cell_type": "code",
   "execution_count": null,
   "metadata": {},
   "outputs": [],
   "source": []
  },
  {
   "cell_type": "code",
   "execution_count": null,
   "metadata": {},
   "outputs": [],
   "source": []
  },
  {
   "cell_type": "code",
   "execution_count": null,
   "metadata": {},
   "outputs": [],
   "source": []
  },
  {
   "cell_type": "code",
   "execution_count": null,
   "metadata": {},
   "outputs": [],
   "source": []
  },
  {
   "cell_type": "code",
   "execution_count": null,
   "metadata": {},
   "outputs": [],
   "source": []
  },
  {
   "cell_type": "code",
   "execution_count": null,
   "metadata": {},
   "outputs": [],
   "source": []
  }
 ],
 "metadata": {
  "kernelspec": {
   "display_name": "Python 3",
   "language": "python",
   "name": "python3"
  },
  "language_info": {
   "codemirror_mode": {
    "name": "ipython",
    "version": 3
   },
   "file_extension": ".py",
   "mimetype": "text/x-python",
   "name": "python",
   "nbconvert_exporter": "python",
   "pygments_lexer": "ipython3",
   "version": "3.6.7"
  }
 },
 "nbformat": 4,
 "nbformat_minor": 2
}

{
 "cells": [
  {
   "cell_type": "code",
   "execution_count": 15,
   "metadata": {},
   "outputs": [],
   "source": [
    "import pandas as pd \n",
    "import numpy as np\n",
    "import seaborn as sns\n",
    "import imblearn\n",
    "import matplotlib.pyplot as plt\n",
    "from sklearn.model_selection import train_test_split \n",
    "from sklearn.linear_model import LogisticRegression\n",
    "from sklearn.metrics import classification_report, accuracy_score\n",
    "from sklearn.manifold import TSNE\n",
    "from sklearn import preprocessing "
   ]
  },
  {
   "cell_type": "code",
   "execution_count": 65,
   "metadata": {},
   "outputs": [
    {
     "data": {
      "image/png": "[encoded data removed]",
      "text/plain": [
       "<Figure size 432x288 with 1 Axes>"
      ]
     },
     "metadata": {
      "needs_background": "light"
     },
     "output_type": "display_data"
    }
   ],
   "source": [
    "from sklearn.datasets import make_classification\n",
    "\n",
    "X, y = make_classification(\n",
    "    n_classes=2, class_sep=1.5, weights=[0.9, 0.1],\n",
    "    n_informative=3, n_redundant=1, flip_y=0,\n",
    "    n_features=20, n_clusters_per_class=1,\n",
    "    n_samples=100, random_state=1\n",
    ")\n",
    "\n",
    "df = pd.DataFrame(X)\n",
    "df['target'] = y\n",
    "df.target.value_counts().plot(kind='bar', title='Count (target)');"
   ]
  },
  {
   "cell_type": "code",
   "execution_count": 66,
   "metadata": {},
   "outputs": [
    {
     "data": {
      "text/html": [
       "<div>\n",
       "<style scoped>\n",
       "    .dataframe tbody tr th:only-of-type {\n",
       "        vertical-align: middle;\n",
       "    }\n",
       "\n",
       "    .dataframe tbody tr th {\n",
       "        vertical-align: top;\n",
       "    }\n",
       "\n",
       "    .dataframe thead th {\n",
       "        text-align: right;\n",
       "    }\n",
       "</style>\n",
       "<table border=\"1\" class=\"dataframe\">\n",
       "  <thead>\n",
       "    <tr style=\"text-align: right;\">\n",
       "      <th></th>\n",
       "      <th>0</th>\n",
       "      <th>1</th>\n",
       "      <th>2</th>\n",
       "      <th>3</th>\n",
       "      <th>4</th>\n",
       "      <th>5</th>\n",
       "      <th>6</th>\n",
       "      <th>7</th>\n",
       "      <th>8</th>\n",
       "      <th>9</th>\n",
       "      <th>...</th>\n",
       "      <th>11</th>\n",
       "      <th>12</th>\n",
       "      <th>13</th>\n",
       "      <th>14</th>\n",
       "      <th>15</th>\n",
       "      <th>16</th>\n",
       "      <th>17</th>\n",
       "      <th>18</th>\n",
       "      <th>19</th>\n",
       "      <th>target</th>\n",
       "    </tr>\n",
       "  </thead>\n",
       "  <tbody>\n",
       "    <tr>\n",
       "      <th>0</th>\n",
       "      <td>0.016150</td>\n",
       "      <td>0.527693</td>\n",
       "      <td>0.568662</td>\n",
       "      <td>1.683788</td>\n",
       "      <td>1.406880</td>\n",
       "      <td>-2.477522</td>\n",
       "      <td>1.018744</td>\n",
       "      <td>1.662330</td>\n",
       "      <td>0.254243</td>\n",
       "      <td>0.986891</td>\n",
       "      <td>...</td>\n",
       "      <td>0.564936</td>\n",
       "      <td>-0.156267</td>\n",
       "      <td>2.218604</td>\n",
       "      <td>-0.438197</td>\n",
       "      <td>1.728553</td>\n",
       "      <td>-0.070641</td>\n",
       "      <td>-0.952357</td>\n",
       "      <td>0.576058</td>\n",
       "      <td>-1.528753</td>\n",
       "      <td>0</td>\n",
       "    </tr>\n",
       "    <tr>\n",
       "      <th>1</th>\n",
       "      <td>1.604534</td>\n",
       "      <td>0.186345</td>\n",
       "      <td>2.946322</td>\n",
       "      <td>0.204737</td>\n",
       "      <td>2.696158</td>\n",
       "      <td>0.597269</td>\n",
       "      <td>-0.293594</td>\n",
       "      <td>2.311881</td>\n",
       "      <td>-1.670981</td>\n",
       "      <td>0.079923</td>\n",
       "      <td>...</td>\n",
       "      <td>1.070010</td>\n",
       "      <td>-0.958491</td>\n",
       "      <td>0.426854</td>\n",
       "      <td>-1.080729</td>\n",
       "      <td>1.835100</td>\n",
       "      <td>-2.230898</td>\n",
       "      <td>0.171957</td>\n",
       "      <td>-1.455205</td>\n",
       "      <td>-0.806069</td>\n",
       "      <td>0</td>\n",
       "    </tr>\n",
       "    <tr>\n",
       "      <th>2</th>\n",
       "      <td>0.794764</td>\n",
       "      <td>0.395478</td>\n",
       "      <td>-0.612822</td>\n",
       "      <td>1.759456</td>\n",
       "      <td>1.294857</td>\n",
       "      <td>2.391639</td>\n",
       "      <td>0.618029</td>\n",
       "      <td>1.123983</td>\n",
       "      <td>0.074106</td>\n",
       "      <td>1.160694</td>\n",
       "      <td>...</td>\n",
       "      <td>1.450137</td>\n",
       "      <td>0.020639</td>\n",
       "      <td>0.769802</td>\n",
       "      <td>1.588364</td>\n",
       "      <td>2.025951</td>\n",
       "      <td>0.109831</td>\n",
       "      <td>-2.273432</td>\n",
       "      <td>-0.701098</td>\n",
       "      <td>0.631995</td>\n",
       "      <td>0</td>\n",
       "    </tr>\n",
       "    <tr>\n",
       "      <th>3</th>\n",
       "      <td>1.340552</td>\n",
       "      <td>-0.036035</td>\n",
       "      <td>-0.292620</td>\n",
       "      <td>0.793551</td>\n",
       "      <td>2.191498</td>\n",
       "      <td>-0.004534</td>\n",
       "      <td>-1.557876</td>\n",
       "      <td>2.193924</td>\n",
       "      <td>0.833827</td>\n",
       "      <td>-1.119005</td>\n",
       "      <td>...</td>\n",
       "      <td>-0.212894</td>\n",
       "      <td>-0.219753</td>\n",
       "      <td>0.208788</td>\n",
       "      <td>0.901000</td>\n",
       "      <td>1.703138</td>\n",
       "      <td>-1.277749</td>\n",
       "      <td>-0.093030</td>\n",
       "      <td>-0.801410</td>\n",
       "      <td>-1.338929</td>\n",
       "      <td>0</td>\n",
       "    </tr>\n",
       "    <tr>\n",
       "      <th>4</th>\n",
       "      <td>-0.874388</td>\n",
       "      <td>-2.375302</td>\n",
       "      <td>-1.071145</td>\n",
       "      <td>-0.140657</td>\n",
       "      <td>4.124040</td>\n",
       "      <td>1.553146</td>\n",
       "      <td>-0.202963</td>\n",
       "      <td>2.145510</td>\n",
       "      <td>-1.528091</td>\n",
       "      <td>-0.085507</td>\n",
       "      <td>...</td>\n",
       "      <td>0.041908</td>\n",
       "      <td>-0.109001</td>\n",
       "      <td>-0.443421</td>\n",
       "      <td>-0.547846</td>\n",
       "      <td>3.482543</td>\n",
       "      <td>-0.204270</td>\n",
       "      <td>0.073283</td>\n",
       "      <td>0.845614</td>\n",
       "      <td>0.164630</td>\n",
       "      <td>1</td>\n",
       "    </tr>\n",
       "  </tbody>\n",
       "</table>\n",
       "<p>5 rows × 21 columns</p>\n",
       "</div>"
      ],
      "text/plain": [
       "          0         1         2         3         4         5         6  \\\n",
       "0  0.016150  0.527693  0.568662  1.683788  1.406880 -2.477522  1.018744   \n",
       "1  1.604534  0.186345  2.946322  0.204737  2.696158  0.597269 -0.293594   \n",
       "2  0.794764  0.395478 -0.612822  1.759456  1.294857  2.391639  0.618029   \n",
       "3  1.340552 -0.036035 -0.292620  0.793551  2.191498 -0.004534 -1.557876   \n",
       "4 -0.874388 -2.375302 -1.071145 -0.140657  4.124040  1.553146 -0.202963   \n",
       "\n",
       "          7         8         9   ...          11        12        13  \\\n",
       "0  1.662330  0.254243  0.986891   ...    0.564936 -0.156267  2.218604   \n",
       "1  2.311881 -1.670981  0.079923   ...    1.070010 -0.958491  0.426854   \n",
       "2  1.123983  0.074106  1.160694   ...    1.450137  0.020639  0.769802   \n",
       "3  2.193924  0.833827 -1.119005   ...   -0.212894 -0.219753  0.208788   \n",
       "4  2.145510 -1.528091 -0.085507   ...    0.041908 -0.109001 -0.443421   \n",
       "\n",
       "         14        15        16        17        18        19  target  \n",
       "0 -0.438197  1.728553 -0.070641 -0.952357  0.576058 -1.528753       0  \n",
       "1 -1.080729  1.835100 -2.230898  0.171957 -1.455205 -0.806069       0  \n",
       "2  1.588364  2.025951  0.109831 -2.273432 -0.701098  0.631995       0  \n",
       "3  0.901000  1.703138 -1.277749 -0.093030 -0.801410 -1.338929       0  \n",
       "4 -0.547846  3.482543 -0.204270  0.073283  0.845614  0.164630       1  \n",
       "\n",
       "[5 rows x 21 columns]"
      ]
     },
     "execution_count": 66,
     "metadata": {},
     "output_type": "execute_result"
    }
   ],
   "source": [
    "df.head(5)"
   ]
  },
  {
   "cell_type": "code",
   "execution_count": 67,
   "metadata": {},
   "outputs": [
    {
     "data": {
      "text/plain": [
       "0    90\n",
       "1    10\n",
       "Name: target, dtype: int64"
      ]
     },
     "execution_count": 67,
     "metadata": {},
     "output_type": "execute_result"
    }
   ],
   "source": [
    "df['target'].value_counts()"
   ]
  },
  {
   "cell_type": "code",
   "execution_count": 68,
   "metadata": {},
   "outputs": [],
   "source": [
    "def plot_2d_space(X, y, label='Classes'):   \n",
    "    colors = ['#1F77B4', '#FF7F0E']\n",
    "    markers = ['o', 's']\n",
    "    for l, c, m in zip(np.unique(y), colors, markers):\n",
    "        plt.scatter(\n",
    "            X[y==l, 0],\n",
    "            X[y==l, 1],\n",
    "            c=c, label=l, marker=m\n",
    "        )\n",
    "    plt.title(label)\n",
    "    plt.legend(loc='upper right')\n",
    "    plt.show()\n"
   ]
  },
  {
   "cell_type": "code",
   "execution_count": 69,
   "metadata": {},
   "outputs": [
    {
     "data": {
      "image/png": "[encoded data removed]",
      "text/plain": [
       "<Figure size 432x288 with 1 Axes>"
      ]
     },
     "metadata": {
      "needs_background": "light"
     },
     "output_type": "display_data"
    }
   ],
   "source": [
    "from sklearn.decomposition import PCA\n",
    "\n",
    "pca = PCA(n_components=2)\n",
    "X =   pca.fit_transform(X)\n",
    "\n",
    "plot_2d_space(X, y, 'Imbalanced dataset (2 PCA components)')"
   ]
  },
  {
   "cell_type": "code",
   "execution_count": 70,
   "metadata": {},
   "outputs": [
    {
     "name": "stdout",
     "output_type": "stream",
     "text": [
      "Removed indexes: [28 53 42 61 27 23 44 22 37 99  4  7 20 26 51 59 75 81 84 88]\n"
     ]
    },
    {
     "data": {
      "image/png": "[encoded data removed]",
      "text/plain": [
       "<Figure size 432x288 with 1 Axes>"
      ]
     },
     "metadata": {
      "needs_background": "light"
     },
     "output_type": "display_data"
    }
   ],
   "source": [
    "from imblearn.under_sampling import RandomUnderSampler\n",
    "\n",
    "rus = RandomUnderSampler(return_indices=True)\n",
    "X_rus, y_rus, id_rus = rus.fit_sample(X, y)\n",
    "\n",
    "print('Removed indexes:', id_rus)\n",
    "\n",
    "plot_2d_space(X_rus, y_rus, 'Random under-sampling')"
   ]
  },
  {
   "cell_type": "code",
   "execution_count": 71,
   "metadata": {},
   "outputs": [
    {
     "name": "stdout",
     "output_type": "stream",
     "text": [
      "80 new random picked points\n"
     ]
    },
    {
     "data": {
      "image/png": "[encoded data removed]",
      "text/plain": [
       "<Figure size 432x288 with 1 Axes>"
      ]
     },
     "metadata": {
      "needs_background": "light"
     },
     "output_type": "display_data"
    }
   ],
   "source": [
    "from imblearn.over_sampling import RandomOverSampler\n",
    "\n",
    "ros = RandomOverSampler()\n",
    "X_ros, y_ros = ros.fit_sample(X, y)\n",
    "\n",
    "print(X_ros.shape[0] - X.shape[0], 'new random picked points')\n",
    "\n",
    "plot_2d_space(X_ros, y_ros, 'Random over-sampling')"
   ]
  },
  {
   "cell_type": "code",
   "execution_count": 73,
   "metadata": {},
   "outputs": [
    {
     "data": {
      "image/png": "[encoded data removed]",
      "text/plain": [
       "<Figure size 432x288 with 1 Axes>"
      ]
     },
     "metadata": {
      "needs_background": "light"
     },
     "output_type": "display_data"
    }
   ],
   "source": [
    "#Removes close pair majority classes\n",
    "\n",
    "from imblearn.under_sampling import TomekLinks\n",
    "\n",
    "tl = TomekLinks(return_indices=False, ratio='majority')\n",
    "X_tl, y_tl = tl.fit_sample(X, y)\n",
    "\n",
    "#print('Removed indexes:', id_tl)\n",
    "\n",
    "plot_2d_space(X_tl, y_tl, 'Tomek links under-sampling')"
   ]
  },
  {
   "cell_type": "markdown",
   "metadata": {},
   "source": [
    "Under-sampling: Cluster Centroids"
   ]
  },
  {
   "cell_type": "markdown",
   "metadata": {},
   "source": [
    "This technique performs under-sampling by generating centroids based on clustering methods. The data will be previously grouped by similarity, in order to preserve information.\n",
    "\n",
    "In this example we will pass the {0: 10} dict for the parameter ratio, to preserve 10 elements from the majority class (0), and all minority class (1) ."
   ]
  },
  {
   "cell_type": "code",
   "execution_count": 79,
   "metadata": {},
   "outputs": [
    {
     "data": {
      "image/png": "[encoded data removed]",
      "text/plain": [
       "<Figure size 432x288 with 1 Axes>"
      ]
     },
     "metadata": {
      "needs_background": "light"
     },
     "output_type": "display_data"
    }
   ],
   "source": [
    "from imblearn.under_sampling import ClusterCentroids\n",
    "\n",
    "cc = ClusterCentroids(ratio={0: 60})\n",
    "X_cc, y_cc = cc.fit_sample(X, y)\n",
    "\n",
    "plot_2d_space(X_cc, y_cc, 'Cluster Centroids under-sampling')\n"
   ]
  },
  {
   "cell_type": "markdown",
   "metadata": {},
   "source": [
    "Smote"
   ]
  },
  {
   "cell_type": "code",
   "execution_count": 81,
   "metadata": {},
   "outputs": [
    {
     "data": {
      "image/png": "[encoded data removed]",
      "text/plain": [
       "<Figure size 432x288 with 1 Axes>"
      ]
     },
     "metadata": {
      "needs_background": "light"
     },
     "output_type": "display_data"
    }
   ],
   "source": [
    "from imblearn.over_sampling import SMOTE\n",
    "\n",
    "smote = SMOTE(ratio='minority')\n",
    "X_sm, y_sm = smote.fit_sample(X, y)\n",
    "\n",
    "plot_2d_space(X_sm, y_sm, 'SMOTE over-sampling')"
   ]
  },
  {
   "cell_type": "code",
   "execution_count": 82,
   "metadata": {},
   "outputs": [
    {
     "data": {
      "image/png": "[encoded data removed]",
      "text/plain": [
       "<Figure size 432x288 with 1 Axes>"
      ]
     },
     "metadata": {
      "needs_background": "light"
     },
     "output_type": "display_data"
    }
   ],
   "source": [
    "#Removes close pair majority classes\n",
    "\n",
    "tl = TomekLinks(return_indices=False, ratio='majority')\n",
    "X_tl, y_tl = tl.fit_sample(X_sm, y_sm)\n",
    "\n",
    "#print('Removed indexes:', id_tl)\n",
    "\n",
    "plot_2d_space(X_tl, y_tl, 'Tomek links under-sampling')"
   ]
  },
  {
   "cell_type": "code",
   "execution_count": 83,
   "metadata": {},
   "outputs": [
    {
     "data": {
      "image/png": "[encoded data removed]",
      "text/plain": [
       "<Figure size 432x288 with 1 Axes>"
      ]
     },
     "metadata": {
      "needs_background": "light"
     },
     "output_type": "display_data"
    }
   ],
   "source": [
    "from imblearn.combine import SMOTETomek\n",
    "\n",
    "smt = SMOTETomek(ratio='auto')\n",
    "X_smt, y_smt = smt.fit_sample(X, y)\n",
    "\n",
    "plot_2d_space(X_smt, y_smt, 'SMOTE + Tomek links')"
   ]
  },
  {
   "cell_type": "code",
   "execution_count": null,
   "metadata": {},
   "outputs": [],
   "source": []
  }
 ],
 "metadata": {
  "kernelspec": {
   "display_name": "Python 3",
   "language": "python",
   "name": "python3"
  },
  "language_info": {
   "codemirror_mode": {
    "name": "ipython",
    "version": 3
   },
   "file_extension": ".py",
   "mimetype": "text/x-python",
   "name": "python",
   "nbconvert_exporter": "python",
   "pygments_lexer": "ipython3",
   "version": "3.6.8"
  }
 },
 "nbformat": 4,
 "nbformat_minor": 2
}

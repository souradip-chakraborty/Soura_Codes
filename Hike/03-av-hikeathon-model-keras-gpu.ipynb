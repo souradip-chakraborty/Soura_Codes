{
 "cells": [
  {
   "cell_type": "code",
   "execution_count": 1,
   "metadata": {
    "_cell_guid": "b1076dfc-b9ad-4769-8c92-a6c4dae69d19",
    "_uuid": "8f2839f25d086af736a60e9eeb907d3b93b6e0e5"
   },
   "outputs": [
    {
     "name": "stderr",
     "output_type": "stream",
     "text": [
      "Using TensorFlow backend.\n"
     ]
    },
    {
     "name": "stdout",
     "output_type": "stream",
     "text": [
      "['avhikeathonfeatparquet', 'avhikeathon', 'avhikeathonfeatparquettest']\n"
     ]
    }
   ],
   "source": [
    "import gc\n",
    "import numpy as np\n",
    "import pandas as pd\n",
    "import matplotlib.pyplot as plt\n",
    "\n",
    "from keras.models import Sequential\n",
    "from keras.layers import Dense, Dropout\n",
    "\n",
    "from keras.utils import plot_model\n",
    "\n",
    "import os\n",
    "print(os.listdir(\"../input\"))"
   ]
  },
  {
   "cell_type": "code",
   "execution_count": 2,
   "metadata": {
    "_cell_guid": "79c7e3d0-c299-4dcb-8224-4455121ee9b0",
    "_uuid": "d629ff2d2480ee46fbb7e2d37f6b5fab8052498a",
    "collapsed": true
   },
   "outputs": [],
   "source": [
    "train = pd.read_parquet('../input/avhikeathonfeatparquet/av-hikeathon-feat.parquet')\n",
    "test = pd.read_parquet('../input/avhikeathonfeatparquettest/av-hikeathon-feat-test.parquet')"
   ]
  },
  {
   "cell_type": "code",
   "execution_count": 3,
   "metadata": {},
   "outputs": [
    {
     "data": {
      "text/plain": [
       "21"
      ]
     },
     "execution_count": 3,
     "metadata": {},
     "output_type": "execute_result"
    }
   ],
   "source": [
    "train_sample = pd.concat([train[train.is_chat==1],\n",
    "                          train[train.is_chat==0].sample(train.is_chat.sum() * 2)])\n",
    "del train\n",
    "gc.collect()"
   ]
  },
  {
   "cell_type": "code",
   "execution_count": 4,
   "metadata": {},
   "outputs": [
    {
     "data": {
      "text/html": [
       "<div>\n",
       "<style scoped>\n",
       "    .dataframe tbody tr th:only-of-type {\n",
       "        vertical-align: middle;\n",
       "    }\n",
       "\n",
       "    .dataframe tbody tr th {\n",
       "        vertical-align: top;\n",
       "    }\n",
       "\n",
       "    .dataframe thead th {\n",
       "        text-align: right;\n",
       "    }\n",
       "</style>\n",
       "<table border=\"1\" class=\"dataframe\">\n",
       "  <thead>\n",
       "    <tr style=\"text-align: right;\">\n",
       "      <th></th>\n",
       "      <th>node1_id</th>\n",
       "      <th>node2_id</th>\n",
       "      <th>prev_is_chat</th>\n",
       "      <th>is_chat</th>\n",
       "      <th>f1_n1</th>\n",
       "      <th>f2_n1</th>\n",
       "      <th>f3_n1</th>\n",
       "      <th>f4_n1</th>\n",
       "      <th>f5_n1</th>\n",
       "      <th>f6_n1</th>\n",
       "      <th>f7_n1</th>\n",
       "      <th>f8_n1</th>\n",
       "      <th>f9_n1</th>\n",
       "      <th>f10_n1</th>\n",
       "      <th>f12_n1</th>\n",
       "      <th>f13_n1</th>\n",
       "      <th>f1_n2</th>\n",
       "      <th>f2_n2</th>\n",
       "      <th>f3_n2</th>\n",
       "      <th>f4_n2</th>\n",
       "      <th>f5_n2</th>\n",
       "      <th>f6_n2</th>\n",
       "      <th>f7_n2</th>\n",
       "      <th>f8_n2</th>\n",
       "      <th>f9_n2</th>\n",
       "      <th>f10_n2</th>\n",
       "      <th>f12_n2</th>\n",
       "      <th>f13_n2</th>\n",
       "    </tr>\n",
       "  </thead>\n",
       "  <tbody>\n",
       "    <tr>\n",
       "      <th>108</th>\n",
       "      <td>6708917</td>\n",
       "      <td>1580</td>\n",
       "      <td>1</td>\n",
       "      <td>1</td>\n",
       "      <td>31</td>\n",
       "      <td>28</td>\n",
       "      <td>1</td>\n",
       "      <td>31</td>\n",
       "      <td>28</td>\n",
       "      <td>1</td>\n",
       "      <td>31</td>\n",
       "      <td>29</td>\n",
       "      <td>1</td>\n",
       "      <td>31</td>\n",
       "      <td>1</td>\n",
       "      <td>7</td>\n",
       "      <td>23</td>\n",
       "      <td>3</td>\n",
       "      <td>0</td>\n",
       "      <td>29</td>\n",
       "      <td>6</td>\n",
       "      <td>0</td>\n",
       "      <td>31</td>\n",
       "      <td>6</td>\n",
       "      <td>0</td>\n",
       "      <td>31</td>\n",
       "      <td>1</td>\n",
       "      <td>8</td>\n",
       "    </tr>\n",
       "    <tr>\n",
       "      <th>139</th>\n",
       "      <td>2709023</td>\n",
       "      <td>1645</td>\n",
       "      <td>1</td>\n",
       "      <td>1</td>\n",
       "      <td>31</td>\n",
       "      <td>16</td>\n",
       "      <td>1</td>\n",
       "      <td>31</td>\n",
       "      <td>17</td>\n",
       "      <td>4</td>\n",
       "      <td>31</td>\n",
       "      <td>18</td>\n",
       "      <td>5</td>\n",
       "      <td>31</td>\n",
       "      <td>11</td>\n",
       "      <td>10</td>\n",
       "      <td>0</td>\n",
       "      <td>0</td>\n",
       "      <td>0</td>\n",
       "      <td>0</td>\n",
       "      <td>0</td>\n",
       "      <td>0</td>\n",
       "      <td>0</td>\n",
       "      <td>0</td>\n",
       "      <td>0</td>\n",
       "      <td>0</td>\n",
       "      <td>0</td>\n",
       "      <td>15</td>\n",
       "    </tr>\n",
       "  </tbody>\n",
       "</table>\n",
       "</div>"
      ],
      "text/plain": [
       "     node1_id  node2_id  prev_is_chat   ...    f10_n2  f12_n2  f13_n2\n",
       "108   6708917      1580             1   ...        31       1       8\n",
       "139   2709023      1645             1   ...         0       0      15\n",
       "\n",
       "[2 rows x 28 columns]"
      ]
     },
     "execution_count": 4,
     "metadata": {},
     "output_type": "execute_result"
    }
   ],
   "source": [
    "train_sample.head(2)"
   ]
  },
  {
   "cell_type": "code",
   "execution_count": 5,
   "metadata": {},
   "outputs": [
    {
     "data": {
      "text/html": [
       "<div>\n",
       "<style scoped>\n",
       "    .dataframe tbody tr th:only-of-type {\n",
       "        vertical-align: middle;\n",
       "    }\n",
       "\n",
       "    .dataframe tbody tr th {\n",
       "        vertical-align: top;\n",
       "    }\n",
       "\n",
       "    .dataframe thead th {\n",
       "        text-align: right;\n",
       "    }\n",
       "</style>\n",
       "<table border=\"1\" class=\"dataframe\">\n",
       "  <thead>\n",
       "    <tr style=\"text-align: right;\">\n",
       "      <th></th>\n",
       "      <th>id</th>\n",
       "      <th>node1_id</th>\n",
       "      <th>node2_id</th>\n",
       "      <th>prev_is_chat</th>\n",
       "      <th>f1_n1</th>\n",
       "      <th>f2_n1</th>\n",
       "      <th>f3_n1</th>\n",
       "      <th>f4_n1</th>\n",
       "      <th>f5_n1</th>\n",
       "      <th>f6_n1</th>\n",
       "      <th>f7_n1</th>\n",
       "      <th>f8_n1</th>\n",
       "      <th>f9_n1</th>\n",
       "      <th>f10_n1</th>\n",
       "      <th>f12_n1</th>\n",
       "      <th>f13_n1</th>\n",
       "      <th>f1_n2</th>\n",
       "      <th>f2_n2</th>\n",
       "      <th>f3_n2</th>\n",
       "      <th>f4_n2</th>\n",
       "      <th>f5_n2</th>\n",
       "      <th>f6_n2</th>\n",
       "      <th>f7_n2</th>\n",
       "      <th>f8_n2</th>\n",
       "      <th>f9_n2</th>\n",
       "      <th>f10_n2</th>\n",
       "      <th>f12_n2</th>\n",
       "      <th>f13_n2</th>\n",
       "    </tr>\n",
       "  </thead>\n",
       "  <tbody>\n",
       "    <tr>\n",
       "      <th>0</th>\n",
       "      <td>7727769</td>\n",
       "      <td>6877352</td>\n",
       "      <td>148</td>\n",
       "      <td>0</td>\n",
       "      <td>31</td>\n",
       "      <td>12</td>\n",
       "      <td>5</td>\n",
       "      <td>31</td>\n",
       "      <td>11</td>\n",
       "      <td>6</td>\n",
       "      <td>31</td>\n",
       "      <td>10</td>\n",
       "      <td>8</td>\n",
       "      <td>31</td>\n",
       "      <td>9</td>\n",
       "      <td>8</td>\n",
       "      <td>31</td>\n",
       "      <td>30</td>\n",
       "      <td>0</td>\n",
       "      <td>31</td>\n",
       "      <td>30</td>\n",
       "      <td>0</td>\n",
       "      <td>31</td>\n",
       "      <td>30</td>\n",
       "      <td>0</td>\n",
       "      <td>31</td>\n",
       "      <td>0</td>\n",
       "      <td>15</td>\n",
       "    </tr>\n",
       "    <tr>\n",
       "      <th>1</th>\n",
       "      <td>6000097</td>\n",
       "      <td>7312923</td>\n",
       "      <td>148</td>\n",
       "      <td>0</td>\n",
       "      <td>19</td>\n",
       "      <td>13</td>\n",
       "      <td>1</td>\n",
       "      <td>26</td>\n",
       "      <td>17</td>\n",
       "      <td>1</td>\n",
       "      <td>31</td>\n",
       "      <td>22</td>\n",
       "      <td>1</td>\n",
       "      <td>31</td>\n",
       "      <td>1</td>\n",
       "      <td>15</td>\n",
       "      <td>31</td>\n",
       "      <td>30</td>\n",
       "      <td>0</td>\n",
       "      <td>31</td>\n",
       "      <td>30</td>\n",
       "      <td>0</td>\n",
       "      <td>31</td>\n",
       "      <td>30</td>\n",
       "      <td>0</td>\n",
       "      <td>31</td>\n",
       "      <td>0</td>\n",
       "      <td>15</td>\n",
       "    </tr>\n",
       "  </tbody>\n",
       "</table>\n",
       "</div>"
      ],
      "text/plain": [
       "        id  node1_id  node2_id   ...    f10_n2  f12_n2  f13_n2\n",
       "0  7727769   6877352       148   ...        31       0      15\n",
       "1  6000097   7312923       148   ...        31       0      15\n",
       "\n",
       "[2 rows x 28 columns]"
      ]
     },
     "execution_count": 5,
     "metadata": {},
     "output_type": "execute_result"
    }
   ],
   "source": [
    "test.head(2)"
   ]
  },
  {
   "cell_type": "code",
   "execution_count": 6,
   "metadata": {
    "collapsed": true
   },
   "outputs": [],
   "source": [
    "feature = ['prev_is_chat', 'f1_n1', 'f2_n1', 'f3_n1', 'f4_n1', 'f5_n1', 'f6_n1', 'f7_n1', 'f8_n1',\n",
    "           'f9_n1', 'f10_n1', 'f12_n1', 'f13_n1', 'f1_n2', 'f2_n2', 'f3_n2', 'f4_n2', 'f5_n2',\n",
    "           'f6_n2', 'f7_n2', 'f8_n2', 'f9_n2', 'f10_n2', 'f12_n2', 'f13_n2']\n",
    "label = 'is_chat'"
   ]
  },
  {
   "cell_type": "code",
   "execution_count": 7,
   "metadata": {
    "collapsed": true
   },
   "outputs": [],
   "source": [
    "X_train = train_sample[feature]\n",
    "y = train_sample[label]\n",
    "\n",
    "X_test = test[feature]\n",
    "submission = test.loc[:,['id']]"
   ]
  },
  {
   "cell_type": "code",
   "execution_count": 8,
   "metadata": {},
   "outputs": [
    {
     "name": "stdout",
     "output_type": "stream",
     "text": [
      "WARNING:tensorflow:From /opt/conda/lib/python3.6/site-packages/tensorflow/python/framework/op_def_library.py:263: colocate_with (from tensorflow.python.framework.ops) is deprecated and will be removed in a future version.\n",
      "Instructions for updating:\n",
      "Colocations handled automatically by placer.\n",
      "WARNING:tensorflow:From /opt/conda/lib/python3.6/site-packages/keras/backend/tensorflow_backend.py:3445: calling dropout (from tensorflow.python.ops.nn_ops) with keep_prob is deprecated and will be removed in a future version.\n",
      "Instructions for updating:\n",
      "Please use `rate` instead of `keep_prob`. Rate should be set to `rate = 1 - keep_prob`.\n"
     ]
    }
   ],
   "source": [
    "model = Sequential()\n",
    "model.add(Dense(64, input_dim=len(feature), activation='relu'))\n",
    "model.add(Dropout(0.8))\n",
    "model.add(Dense(64, activation='relu'))\n",
    "model.add(Dropout(0.6))\n",
    "model.add(Dense(1, activation='sigmoid'))\n",
    "\n",
    "model.compile(loss='binary_crossentropy',\n",
    "              optimizer='rmsprop',\n",
    "              metrics=['accuracy']);"
   ]
  },
  {
   "cell_type": "code",
   "execution_count": 9,
   "metadata": {},
   "outputs": [
    {
     "name": "stdout",
     "output_type": "stream",
     "text": [
      "WARNING:tensorflow:From /opt/conda/lib/python3.6/site-packages/tensorflow/python/ops/math_ops.py:3066: to_int32 (from tensorflow.python.ops.math_ops) is deprecated and will be removed in a future version.\n",
      "Instructions for updating:\n",
      "Use tf.cast instead.\n",
      "Train on 5404281 samples, validate on 1351071 samples\n",
      "Epoch 1/50\n",
      "5404281/5404281 [==============================] - 17s 3us/step - loss: 0.5991 - acc: 0.7414 - val_loss: 0.5096 - val_acc: 0.8341\n",
      "Epoch 2/50\n",
      "5404281/5404281 [==============================] - 15s 3us/step - loss: 0.4841 - acc: 0.7924 - val_loss: 0.4241 - val_acc: 0.9079\n",
      "Epoch 3/50\n",
      "5404281/5404281 [==============================] - 15s 3us/step - loss: 0.4744 - acc: 0.7936 - val_loss: 0.4044 - val_acc: 0.9127\n",
      "Epoch 4/50\n",
      "5404281/5404281 [==============================] - 15s 3us/step - loss: 0.4703 - acc: 0.7937 - val_loss: 0.3738 - val_acc: 0.9155\n",
      "Epoch 5/50\n",
      "5404281/5404281 [==============================] - 16s 3us/step - loss: 0.4679 - acc: 0.7947 - val_loss: 0.3880 - val_acc: 0.9163\n",
      "Epoch 6/50\n",
      "5404281/5404281 [==============================] - 16s 3us/step - loss: 0.4664 - acc: 0.7950 - val_loss: 0.4082 - val_acc: 0.9108\n",
      "Epoch 7/50\n",
      "5404281/5404281 [==============================] - 15s 3us/step - loss: 0.4652 - acc: 0.7953 - val_loss: 0.4369 - val_acc: 0.9030\n",
      "Epoch 8/50\n",
      "5404281/5404281 [==============================] - 15s 3us/step - loss: 0.4644 - acc: 0.7955 - val_loss: 0.3944 - val_acc: 0.9136\n",
      "Epoch 9/50\n",
      "5404281/5404281 [==============================] - 16s 3us/step - loss: 0.4638 - acc: 0.7955 - val_loss: 0.3978 - val_acc: 0.8974\n",
      "Epoch 10/50\n",
      "5404281/5404281 [==============================] - 17s 3us/step - loss: 0.4631 - acc: 0.7955 - val_loss: 0.4083 - val_acc: 0.9062\n",
      "Epoch 11/50\n",
      "5404281/5404281 [==============================] - 15s 3us/step - loss: 0.4624 - acc: 0.7960 - val_loss: 0.4442 - val_acc: 0.8941\n",
      "Epoch 12/50\n",
      "5404281/5404281 [==============================] - 15s 3us/step - loss: 0.4622 - acc: 0.7959 - val_loss: 0.4279 - val_acc: 0.9011\n",
      "Epoch 13/50\n",
      "5404281/5404281 [==============================] - 15s 3us/step - loss: 0.4619 - acc: 0.7958 - val_loss: 0.4212 - val_acc: 0.8947\n",
      "Epoch 14/50\n",
      "5404281/5404281 [==============================] - 15s 3us/step - loss: 0.4618 - acc: 0.7958 - val_loss: 0.4343 - val_acc: 0.8923\n",
      "Epoch 15/50\n",
      "5404281/5404281 [==============================] - 16s 3us/step - loss: 0.4614 - acc: 0.7960 - val_loss: 0.4056 - val_acc: 0.9033\n",
      "Epoch 16/50\n",
      "5404281/5404281 [==============================] - 15s 3us/step - loss: 0.4608 - acc: 0.7959 - val_loss: 0.4410 - val_acc: 0.8954\n",
      "Epoch 17/50\n",
      "5404281/5404281 [==============================] - 15s 3us/step - loss: 0.4603 - acc: 0.7960 - val_loss: 0.4160 - val_acc: 0.8996\n",
      "Epoch 18/50\n",
      "5404281/5404281 [==============================] - 15s 3us/step - loss: 0.4597 - acc: 0.7961 - val_loss: 0.4507 - val_acc: 0.8941\n",
      "Epoch 19/50\n",
      "5404281/5404281 [==============================] - 15s 3us/step - loss: 0.4597 - acc: 0.7962 - val_loss: 0.4219 - val_acc: 0.8963\n",
      "Epoch 20/50\n",
      "5404281/5404281 [==============================] - 16s 3us/step - loss: 0.4595 - acc: 0.7962 - val_loss: 0.4212 - val_acc: 0.9028\n",
      "Epoch 21/50\n",
      "5404281/5404281 [==============================] - 16s 3us/step - loss: 0.4595 - acc: 0.7963 - val_loss: 0.4274 - val_acc: 0.8953\n",
      "Epoch 22/50\n",
      "4966400/5404281 [==========================>...] - ETA: 1s - loss: 0.4595 - acc: 0.7962"
     ]
    }
   ],
   "source": [
    "history = model.fit(X_train, y,\n",
    "                    validation_split=0.20,\n",
    "                    epochs=50,\n",
    "                    batch_size=2048)"
   ]
  },
  {
   "cell_type": "code",
   "execution_count": 10,
   "metadata": {},
   "outputs": [
    {
     "name": "stdout",
     "output_type": "stream",
     "text": [
      "acc: 82.18%\n"
     ]
    }
   ],
   "source": [
    "scores = model.evaluate(X_train, y, verbose=0)\n",
    "print(\"%s: %.2f%%\" % (model.metrics_names[1], scores[1]*100))"
   ]
  },
  {
   "cell_type": "code",
   "execution_count": 11,
   "metadata": {
    "collapsed": true
   },
   "outputs": [],
   "source": [
    "plot_model(model, to_file='model.png')"
   ]
  },
  {
   "cell_type": "code",
   "execution_count": 12,
   "metadata": {},
   "outputs": [
    {
     "data": {
      "image/png": "[encoded data removed]",
      "text/plain": [
       "<Figure size 432x288 with 1 Axes>"
      ]
     },
     "metadata": {},
     "output_type": "display_data"
    },
    {
     "data": {
      "image/png": "[encoded data removed]",
      "text/plain": [
       "<Figure size 432x288 with 1 Axes>"
      ]
     },
     "metadata": {},
     "output_type": "display_data"
    }
   ],
   "source": [
    "# Plot training & validation accuracy values\n",
    "plt.plot(history.history['acc'])\n",
    "plt.plot(history.history['val_acc'])\n",
    "plt.title('Model accuracy')\n",
    "plt.ylabel('Accuracy')\n",
    "plt.xlabel('Epoch')\n",
    "plt.legend(['Train', 'Test'], loc='upper left')\n",
    "plt.show()\n",
    "\n",
    "# Plot training & validation loss values\n",
    "plt.plot(history.history['loss'])\n",
    "plt.plot(history.history['val_loss'])\n",
    "plt.title('Model loss')\n",
    "plt.ylabel('Loss')\n",
    "plt.xlabel('Epoch')\n",
    "plt.legend(['Train', 'Test'], loc='upper left')\n",
    "plt.show()\n"
   ]
  },
  {
   "cell_type": "code",
   "execution_count": 13,
   "metadata": {},
   "outputs": [
    {
     "name": "stdout",
     "output_type": "stream",
     "text": [
      "Saved model to disk\n"
     ]
    }
   ],
   "source": [
    "# serialize model to JSON\n",
    "model_json = model.to_json()\n",
    "with open(\"model.json\", \"w\") as json_file:\n",
    "    json_file.write(model_json)\n",
    "# serialize weights to HDF5\n",
    "model.save_weights(\"model.h5\")\n",
    "print(\"Saved model to disk\")"
   ]
  },
  {
   "cell_type": "code",
   "execution_count": 14,
   "metadata": {
    "collapsed": true
   },
   "outputs": [],
   "source": [
    "submission[label] = model.predict(X_test)"
   ]
  },
  {
   "cell_type": "code",
   "execution_count": 15,
   "metadata": {
    "collapsed": true
   },
   "outputs": [],
   "source": [
    "submission.to_csv('submission.csv', compression='zip', index=False)"
   ]
  }
 ],
 "metadata": {
  "kernelspec": {
   "display_name": "Python 3",
   "language": "python",
   "name": "python3"
  },
  "language_info": {
   "codemirror_mode": {
    "name": "ipython",
    "version": 3
   },
   "file_extension": ".py",
   "mimetype": "text/x-python",
   "name": "python",
   "nbconvert_exporter": "python",
   "pygments_lexer": "ipython3",
   "version": "3.6.7"
  }
 },
 "nbformat": 4,
 "nbformat_minor": 1
}

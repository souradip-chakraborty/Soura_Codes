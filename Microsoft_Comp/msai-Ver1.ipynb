{
 "cells": [
  {
   "cell_type": "code",
   "execution_count": 1,
   "metadata": {},
   "outputs": [
    {
     "name": "stderr",
     "output_type": "stream",
     "text": [
      "/Users/s0c02nj/anaconda2/lib/python2.7/site-packages/h5py/__init__.py:36: FutureWarning: Conversion of the second argument of issubdtype from `float` to `np.floating` is deprecated. In future, it will be treated as `np.float64 == np.dtype(float).type`.\n",
      "  from ._conv import register_converters as _register_converters\n",
      "Using TensorFlow backend.\n",
      "/Users/s0c02nj/anaconda2/lib/python2.7/site-packages/sklearn/cross_validation.py:41: DeprecationWarning: This module was deprecated in version 0.18 in favor of the model_selection module into which all the refactored classes and functions are moved. Also note that the interface of the new CV iterators are different from that of this module. This module will be removed in 0.20.\n",
      "  \"This module will be removed in 0.20.\", DeprecationWarning)\n"
     ]
    }
   ],
   "source": [
    "import numpy as np\n",
    "import pandas as pd\n",
    "import pickle\n",
    "from keras.preprocessing.sequence import pad_sequences\n",
    "from keras.layers import Dense, Input, Flatten\n",
    "from keras.layers import Embedding\n",
    "from keras.models import Model\n",
    "from keras.preprocessing.text import Tokenizer\n",
    "from keras.models import Sequential, model_from_json\n",
    "from keras.layers import Dense, LSTM, Dropout, Bidirectional, merge\n",
    "from keras.layers.convolutional import Convolution1D, MaxPooling1D\n",
    "from keras.callbacks import ModelCheckpoint\n",
    "from keras.layers.normalization import BatchNormalization\n",
    "from IPython.display import SVG\n",
    "#from keras.utils.visualize_util import model_to_dot\n",
    "from nltk.corpus import stopwords\n",
    "import wikipedia\n",
    "from sklearn.preprocessing import StandardScaler\n",
    "from multiprocessing import Pool\n",
    "\n",
    "#from mlutils import dataset\n",
    "import numpy as np\n",
    "import pandas as pd\n",
    "from sklearn.linear_model import Ridge\n",
    "import numpy as np\n",
    "import sklearn.datasets\n",
    "import sklearn.cross_validation\n",
    "import pandas as pd\n",
    "import matplotlib.pyplot as plt\n",
    "from sklearn.model_selection import cross_val_score\n",
    "from sklearn.decomposition import PCA\n",
    "from sklearn.metrics import recall_score\n",
    "from sklearn.metrics import precision_score\n",
    "from sklearn.metrics import f1_score\n",
    "\n",
    "from sklearn.metrics import confusion_matrix\n",
    "\n",
    "import os, sys, re, csv\n",
    "import pandas as pd\n",
    "import numpy as np\n",
    "from nltk.corpus import stopwords\n",
    "from collections import Counter\n",
    "from difflib import SequenceMatcher\n",
    "import math\n",
    "import nltk\n",
    "from datetime import datetime\n",
    "from nltk.tokenize import word_tokenize\n",
    "from itertools import product\n",
    "\n",
    "import time \n",
    "from sklearn.preprocessing import StandardScaler\n",
    "from multiprocessing import Pool"
   ]
  },
  {
   "cell_type": "code",
   "execution_count": 2,
   "metadata": {},
   "outputs": [],
   "source": [
    "#Train Data\n",
    "df_train = pd.read_csv('/Users/s0c02nj/Desktop/Personal Edu doc/Competitions /Microsoft/data/data.tsv', \n",
    "                       delimiter=\"\\t\",header=None)"
   ]
  },
  {
   "cell_type": "code",
   "execution_count": 3,
   "metadata": {},
   "outputs": [],
   "source": [
    "#Test Data\n",
    "df_test = pd.read_csv('/Users/s0c02nj/Desktop/Personal Edu doc/Competitions /Microsoft/data/eval1_unlabelled.tsv', \n",
    "                      delimiter=\"\\t\",header=None)"
   ]
  },
  {
   "cell_type": "code",
   "execution_count": 4,
   "metadata": {},
   "outputs": [],
   "source": [
    "df_train.columns = [\"id\", \"question\", \"answer\", \"is_ans\", \"seq_no\"]"
   ]
  },
  {
   "cell_type": "code",
   "execution_count": 5,
   "metadata": {},
   "outputs": [],
   "source": [
    "df_test.columns = [\"id\", \"question\", \"answer\", \"seq_no\"]"
   ]
  },
  {
   "cell_type": "code",
   "execution_count": 47,
   "metadata": {},
   "outputs": [],
   "source": [
    "# df_zero = df_train[df_train['is_ans'] == 0]\n",
    "# df_zero = df_zero.drop_duplicates(subset='id', keep=\"last\")\n",
    "# df_one  = df_train[df_train['is_ans'] == 1]\n",
    "# df_train= pd.concat([df_zero,df_one], axis=0)\n",
    "# df_train= df_train.sample(frac=1)"
   ]
  },
  {
   "cell_type": "code",
   "execution_count": 8,
   "metadata": {},
   "outputs": [],
   "source": [
    "#df_one.head(10)"
   ]
  },
  {
   "cell_type": "code",
   "execution_count": 7,
   "metadata": {},
   "outputs": [],
   "source": [
    "# folder_path= '/Users/s0c02nj/Downloads/glove.6B/glove.6B.300d.txt'\n",
    "# f=open(folder_path)\n",
    "# doc=f.readlines()\n",
    "# #****VIP\n",
    "# #**WORD TO VEC DICTIONARY\n",
    "# #Forming a dictionary-word2vec\n",
    "# word2vec={}\n",
    "# key=[]\n",
    "# #looping though the doc.in the doc the entire thing is saved and is separated by a space bar.\n",
    "# for line in doc:\n",
    "#     #parts contains every word separately for doc1\n",
    "#     parts=line.split(' ')\n",
    "#     #part[0] contains the word\n",
    "#     word=parts[0]\n",
    "#     key.append(word)\n",
    "#     #embed contains the vector\n",
    "#     embed=np.array(parts[1:],dtype='float32')\n",
    "#     #filling up the dictionary\n",
    "#     word2vec[word]=embed\n",
    "\n",
    "#NOW IF i give word as the key, the corre"
   ]
  },
  {
   "cell_type": "code",
   "execution_count": 8,
   "metadata": {},
   "outputs": [],
   "source": [
    "# #Creating a Dictionary for Item Desc\n",
    "# def get_item_vec(str1):\n",
    "#     w2v=np.zeros((1,300))\n",
    "#     str1 = str1.split()\n",
    "#     for token1 in str1:\n",
    "#         if token1 in word2vec.keys():\n",
    "#             w2v=w2v+word2vec[token1]\n",
    "#     return w2v"
   ]
  },
  {
   "cell_type": "code",
   "execution_count": 33,
   "metadata": {
    "scrolled": true
   },
   "outputs": [],
   "source": [
    "# #Creating the dict for the question\n",
    "# q2vec={}\n",
    "# a2vec={}\n",
    "# for i in range(0,len(df_train)):\n",
    "#     print i\n",
    "#     d=df_train.iloc[i]\n",
    "#     q=df_train['question'].iloc[i]\n",
    "#     a=df_train['answer'].iloc[i]\n",
    "#     if q not in q2vec:\n",
    "#         q2vec[q] = get_item_vec(q)\n",
    "#     if a not in a2vec:\n",
    "#         a2vec[a]= get_item_vec(a)"
   ]
  },
  {
   "cell_type": "code",
   "execution_count": 31,
   "metadata": {},
   "outputs": [],
   "source": [
    "# import time\n",
    "# t1=time.time()\n",
    "# num_partitions = 16\n",
    "# n_cores=8\n",
    "# dist_df = parallelize_dataframe(df_train, get_glove_embed)\n",
    "# t2=time.time()\n",
    "\n",
    "# print t2-t1"
   ]
  },
  {
   "cell_type": "code",
   "execution_count": 6,
   "metadata": {},
   "outputs": [],
   "source": [
    "df_one  = df_train[df_train['is_ans'] == 1]"
   ]
  },
  {
   "cell_type": "code",
   "execution_count": 7,
   "metadata": {},
   "outputs": [],
   "source": [
    "#Left Join\n",
    "join_df=pd.merge(left=df_train, right=df_one, how='inner', left_on=['question'], right_on=['question'])\n"
   ]
  },
  {
   "cell_type": "code",
   "execution_count": 8,
   "metadata": {},
   "outputs": [
    {
     "data": {
      "text/html": [
       "<div>\n",
       "<style scoped>\n",
       "    .dataframe tbody tr th:only-of-type {\n",
       "        vertical-align: middle;\n",
       "    }\n",
       "\n",
       "    .dataframe tbody tr th {\n",
       "        vertical-align: top;\n",
       "    }\n",
       "\n",
       "    .dataframe thead th {\n",
       "        text-align: right;\n",
       "    }\n",
       "</style>\n",
       "<table border=\"1\" class=\"dataframe\">\n",
       "  <thead>\n",
       "    <tr style=\"text-align: right;\">\n",
       "      <th></th>\n",
       "      <th>id_x</th>\n",
       "      <th>question</th>\n",
       "      <th>answer_x</th>\n",
       "      <th>is_ans_x</th>\n",
       "      <th>seq_no_x</th>\n",
       "      <th>id_y</th>\n",
       "      <th>answer_y</th>\n",
       "      <th>is_ans_y</th>\n",
       "      <th>seq_no_y</th>\n",
       "    </tr>\n",
       "  </thead>\n",
       "  <tbody>\n",
       "    <tr>\n",
       "      <th>0</th>\n",
       "      <td>131</td>\n",
       "      <td>. what is a corporation?</td>\n",
       "      <td>A company is incorporated in a specific nation...</td>\n",
       "      <td>0</td>\n",
       "      <td>0</td>\n",
       "      <td>131</td>\n",
       "      <td>McDonald's Corporation is one of the most reco...</td>\n",
       "      <td>1</td>\n",
       "      <td>5</td>\n",
       "    </tr>\n",
       "    <tr>\n",
       "      <th>1</th>\n",
       "      <td>131</td>\n",
       "      <td>. what is a corporation?</td>\n",
       "      <td>Today, there is a growing community of more th...</td>\n",
       "      <td>0</td>\n",
       "      <td>1</td>\n",
       "      <td>131</td>\n",
       "      <td>McDonald's Corporation is one of the most reco...</td>\n",
       "      <td>1</td>\n",
       "      <td>5</td>\n",
       "    </tr>\n",
       "  </tbody>\n",
       "</table>\n",
       "</div>"
      ],
      "text/plain": [
       "   id_x                  question  \\\n",
       "0   131  . what is a corporation?   \n",
       "1   131  . what is a corporation?   \n",
       "\n",
       "                                            answer_x  is_ans_x  seq_no_x  \\\n",
       "0  A company is incorporated in a specific nation...         0         0   \n",
       "1  Today, there is a growing community of more th...         0         1   \n",
       "\n",
       "   id_y                                           answer_y  is_ans_y  seq_no_y  \n",
       "0   131  McDonald's Corporation is one of the most reco...         1         5  \n",
       "1   131  McDonald's Corporation is one of the most reco...         1         5  "
      ]
     },
     "execution_count": 8,
     "metadata": {},
     "output_type": "execute_result"
    }
   ],
   "source": [
    "join_df.head(2)"
   ]
  },
  {
   "cell_type": "code",
   "execution_count": 9,
   "metadata": {},
   "outputs": [
    {
     "data": {
      "text/plain": [
       "\"McDonald's Corporation is one of the most recognizable corporations in the world. A corporation is a company or group of people authorized to act as a single entity (legally a person) and recognized as such in law. Early incorporated entities were established by charter (i.e. by an ad hoc act granted by a monarch or passed by a parliament or legislature).\""
      ]
     },
     "execution_count": 9,
     "metadata": {},
     "output_type": "execute_result"
    }
   ],
   "source": [
    "join_df.iloc[0]['answer_y']"
   ]
  },
  {
   "cell_type": "code",
   "execution_count": 10,
   "metadata": {},
   "outputs": [],
   "source": [
    "def get_cosine(str1, str2):\n",
    "    \n",
    "    #Counter forms a dictionary----> Frequency of words as values and key is the word\n",
    "    vec1 = Counter(str1.split())\n",
    "    vec2 = Counter(str2.split())\n",
    "    \n",
    "    #Intersection contains the set of common words\n",
    "    intersection = set(vec1.keys()) & set(vec2.keys())\n",
    "    \n",
    "    #W1W2W2=[1,2,3] and W1W2W3=[2,4,6] ,it finds the a.b value\n",
    "    numerator = sum([vec1[x] * vec2[x] for x in intersection])\n",
    "\n",
    "    #|a| and |b| are computed through the process\n",
    "    sum1 = sum([vec1[x]**2 for x in vec1.keys()])\n",
    "    sum2 = sum([vec2[x]**2 for x in vec2.keys()])\n",
    "    denominator = math.sqrt(sum1) * math.sqrt(sum2)\n",
    "\n",
    "    #cosine value is computed\n",
    "    if not denominator:\n",
    "        return 0.0\n",
    "    else:\n",
    "        return float(numerator) / denominator"
   ]
  },
  {
   "cell_type": "code",
   "execution_count": 11,
   "metadata": {},
   "outputs": [],
   "source": [
    "# def DistJaccard(str1, str2):\n",
    "#     str1 = set(str1.split())\n",
    "#     str2 = set(str2.split())\n",
    "#     #a_intersection_b ---unique\n",
    "#     numerator = len(str1 & str2)\n",
    "#     #a_union_b---unique\n",
    "#     denominator = len(str1 | str2)\n",
    "#     if not denominator:\n",
    "#         return 0.0\n",
    "#     else:\n",
    "#         return float(numerator) / denominator\n"
   ]
  },
  {
   "cell_type": "code",
   "execution_count": 12,
   "metadata": {},
   "outputs": [],
   "source": [
    "# def shared_2gram(q1, q2):\n",
    "#     #zip will combine the first doc with the second doc element by element\n",
    "#     q1_2gram = set([i for i in zip(q1.split(), q1.split()[1:])])\n",
    "#     q2_2gram = set([i for i in zip(q2.split(), q2.split()[1:])])\n",
    "#     shared_2gram = q1_2gram.intersection(q2_2gram)\n",
    "#     if len(q1_2gram)==0 or len(q2_2gram) == 0:\n",
    "#         return 0\n",
    "#     return len(shared_2gram)*2.0/(len(q1_2gram) + len(q2_2gram))"
   ]
  },
  {
   "cell_type": "code",
   "execution_count": 13,
   "metadata": {},
   "outputs": [],
   "source": [
    "# def shared_3gram(q1, q2):\n",
    "#     q1_3gram = set([i for i in zip(q1.split(), q1.split()[1:], q1.split()[2:])])\n",
    "#     q2_3gram = set([i for i in zip(q2.split(), q2.split()[1:], q2.split()[2:])])\n",
    "#     shared_3gram = q1_3gram.intersection(q2_3gram)\n",
    "#     if len(q1_3gram)==0 or len(q2_3gram) == 0:\n",
    "#         return 0\n",
    "#     return len(shared_3gram)*1.0/(len(q1_3gram) + len(q2_3gram))\n"
   ]
  },
  {
   "cell_type": "code",
   "execution_count": 14,
   "metadata": {},
   "outputs": [],
   "source": [
    "def worker(data):\n",
    "    cosine_sim, jaccard_sim, shared_2gram_sim, shared_3gram_sim,len_sim = np.zeros((len(data), )), np.zeros((len(data), )), np.zeros((len(data), )), np.zeros((len(data), )),np.zeros((len(data), ))       \n",
    "    #print '*'*50\n",
    "    for i in range(0,len(data)):\n",
    "        act_ans=data.iloc[i]['answer_x']\n",
    "        cor_ans=data.iloc[i]['answer_y']\n",
    "        cosine_sim[i] = get_cosine(act_ans,cor_ans)\n",
    "        #abb_desc_sim[i] = get_desc_sim(str(d[1]), str(d[2]))\n",
    "        #jaccard_sim[i] =  DistJaccard(str(d[1]), str(d[2]))\n",
    "        #shared_2gram_sim[i] = shared_2gram(str(d[1]), str(d[2]))\n",
    "        #shared_3gram_sim[i] = shared_3gram(str(d[1]), str(d[2]))\n",
    "        #len_sim[i] =len(d[2])\n",
    "    result = pd.DataFrame()\n",
    "    result['cosine'] = pd.Series(list(cosine_sim))\n",
    "    #result['jaccard'] = pd.Series(list(jaccard_sim))\n",
    "    #result['shared_2gram'] = pd.Series(list(shared_2gram_sim))\n",
    "    #result['shared_3gram'] = pd.Series(list(shared_3gram_sim))\n",
    "    #result['len_ans']=pd.Series(list(len_sim))\n",
    "    return result"
   ]
  },
  {
   "cell_type": "code",
   "execution_count": 15,
   "metadata": {},
   "outputs": [],
   "source": [
    "def parallelize_dataframe(df, func):\n",
    "    df_split = np.array_split(df, num_partitions)\n",
    "    pool = Pool(n_cores)\n",
    "    df = pd.concat(pool.map(func, df_split))\n",
    "    pool.close()\n",
    "    pool.join()\n",
    "    return df"
   ]
  },
  {
   "cell_type": "code",
   "execution_count": 16,
   "metadata": {
    "scrolled": true
   },
   "outputs": [
    {
     "name": "stdout",
     "output_type": "stream",
     "text": [
      "644.873388052\n"
     ]
    }
   ],
   "source": [
    "import time\n",
    "t1=time.time()\n",
    "num_partitions = 16\n",
    "n_cores=8\n",
    "dist_df = parallelize_dataframe(join_df, worker)\n",
    "t2=time.time()\n",
    "\n",
    "print t2-t1"
   ]
  },
  {
   "cell_type": "code",
   "execution_count": 27,
   "metadata": {},
   "outputs": [],
   "source": [
    "#dist_df"
   ]
  },
  {
   "cell_type": "code",
   "execution_count": 17,
   "metadata": {},
   "outputs": [],
   "source": [
    "df_train['cosine']=np.ravel(dist_df)"
   ]
  },
  {
   "cell_type": "code",
   "execution_count": 35,
   "metadata": {},
   "outputs": [],
   "source": [
    "#df_train.values"
   ]
  },
  {
   "cell_type": "code",
   "execution_count": null,
   "metadata": {},
   "outputs": [],
   "source": []
  },
  {
   "cell_type": "code",
   "execution_count": 22,
   "metadata": {},
   "outputs": [
    {
     "data": {
      "text/html": [
       "<div>\n",
       "<style scoped>\n",
       "    .dataframe tbody tr th:only-of-type {\n",
       "        vertical-align: middle;\n",
       "    }\n",
       "\n",
       "    .dataframe tbody tr th {\n",
       "        vertical-align: top;\n",
       "    }\n",
       "\n",
       "    .dataframe thead th {\n",
       "        text-align: right;\n",
       "    }\n",
       "</style>\n",
       "<table border=\"1\" class=\"dataframe\">\n",
       "  <thead>\n",
       "    <tr style=\"text-align: right;\">\n",
       "      <th></th>\n",
       "      <th>id</th>\n",
       "      <th>question</th>\n",
       "      <th>answer</th>\n",
       "      <th>is_ans</th>\n",
       "      <th>seq_no</th>\n",
       "      <th>cosine</th>\n",
       "    </tr>\n",
       "  </thead>\n",
       "  <tbody>\n",
       "    <tr>\n",
       "      <th>0</th>\n",
       "      <td>131</td>\n",
       "      <td>. what is a corporation?</td>\n",
       "      <td>A company is incorporated in a specific nation...</td>\n",
       "      <td>0</td>\n",
       "      <td>0</td>\n",
       "      <td>0.593617</td>\n",
       "    </tr>\n",
       "    <tr>\n",
       "      <th>1</th>\n",
       "      <td>131</td>\n",
       "      <td>. what is a corporation?</td>\n",
       "      <td>Today, there is a growing community of more th...</td>\n",
       "      <td>0</td>\n",
       "      <td>1</td>\n",
       "      <td>0.244169</td>\n",
       "    </tr>\n",
       "    <tr>\n",
       "      <th>2</th>\n",
       "      <td>131</td>\n",
       "      <td>. what is a corporation?</td>\n",
       "      <td>Corporation definition, an association of indi...</td>\n",
       "      <td>0</td>\n",
       "      <td>2</td>\n",
       "      <td>0.340276</td>\n",
       "    </tr>\n",
       "    <tr>\n",
       "      <th>3</th>\n",
       "      <td>131</td>\n",
       "      <td>. what is a corporation?</td>\n",
       "      <td>Examples of corporation in a Sentence. 1  He w...</td>\n",
       "      <td>0</td>\n",
       "      <td>3</td>\n",
       "      <td>0.383598</td>\n",
       "    </tr>\n",
       "    <tr>\n",
       "      <th>4</th>\n",
       "      <td>131</td>\n",
       "      <td>. what is a corporation?</td>\n",
       "      <td>1: a government-owned corporation (as a utilit...</td>\n",
       "      <td>0</td>\n",
       "      <td>4</td>\n",
       "      <td>0.373812</td>\n",
       "    </tr>\n",
       "    <tr>\n",
       "      <th>5</th>\n",
       "      <td>131</td>\n",
       "      <td>. what is a corporation?</td>\n",
       "      <td>McDonald's Corporation is one of the most reco...</td>\n",
       "      <td>1</td>\n",
       "      <td>5</td>\n",
       "      <td>1.000000</td>\n",
       "    </tr>\n",
       "    <tr>\n",
       "      <th>6</th>\n",
       "      <td>131</td>\n",
       "      <td>. what is a corporation?</td>\n",
       "      <td>Corporations are owned by their stockholders (...</td>\n",
       "      <td>0</td>\n",
       "      <td>6</td>\n",
       "      <td>0.354654</td>\n",
       "    </tr>\n",
       "    <tr>\n",
       "      <th>7</th>\n",
       "      <td>131</td>\n",
       "      <td>. what is a corporation?</td>\n",
       "      <td>An Association is an organized group of people...</td>\n",
       "      <td>0</td>\n",
       "      <td>7</td>\n",
       "      <td>0.318195</td>\n",
       "    </tr>\n",
       "    <tr>\n",
       "      <th>8</th>\n",
       "      <td>131</td>\n",
       "      <td>. what is a corporation?</td>\n",
       "      <td>B Corp certification shines a light on the com...</td>\n",
       "      <td>0</td>\n",
       "      <td>8</td>\n",
       "      <td>0.220564</td>\n",
       "    </tr>\n",
       "    <tr>\n",
       "      <th>9</th>\n",
       "      <td>131</td>\n",
       "      <td>. what is a corporation?</td>\n",
       "      <td>LLCs offer greater flexibility when it comes t...</td>\n",
       "      <td>0</td>\n",
       "      <td>9</td>\n",
       "      <td>0.273998</td>\n",
       "    </tr>\n",
       "  </tbody>\n",
       "</table>\n",
       "</div>"
      ],
      "text/plain": [
       "    id                  question  \\\n",
       "0  131  . what is a corporation?   \n",
       "1  131  . what is a corporation?   \n",
       "2  131  . what is a corporation?   \n",
       "3  131  . what is a corporation?   \n",
       "4  131  . what is a corporation?   \n",
       "5  131  . what is a corporation?   \n",
       "6  131  . what is a corporation?   \n",
       "7  131  . what is a corporation?   \n",
       "8  131  . what is a corporation?   \n",
       "9  131  . what is a corporation?   \n",
       "\n",
       "                                              answer  is_ans  seq_no    cosine  \n",
       "0  A company is incorporated in a specific nation...       0       0  0.593617  \n",
       "1  Today, there is a growing community of more th...       0       1  0.244169  \n",
       "2  Corporation definition, an association of indi...       0       2  0.340276  \n",
       "3  Examples of corporation in a Sentence. 1  He w...       0       3  0.383598  \n",
       "4  1: a government-owned corporation (as a utilit...       0       4  0.373812  \n",
       "5  McDonald's Corporation is one of the most reco...       1       5  1.000000  \n",
       "6  Corporations are owned by their stockholders (...       0       6  0.354654  \n",
       "7  An Association is an organized group of people...       0       7  0.318195  \n",
       "8  B Corp certification shines a light on the com...       0       8  0.220564  \n",
       "9  LLCs offer greater flexibility when it comes t...       0       9  0.273998  "
      ]
     },
     "execution_count": 22,
     "metadata": {},
     "output_type": "execute_result"
    }
   ],
   "source": [
    "df_train.head(10)"
   ]
  },
  {
   "cell_type": "code",
   "execution_count": null,
   "metadata": {},
   "outputs": [],
   "source": []
  },
  {
   "cell_type": "code",
   "execution_count": null,
   "metadata": {},
   "outputs": [],
   "source": []
  },
  {
   "cell_type": "code",
   "execution_count": null,
   "metadata": {},
   "outputs": [],
   "source": []
  },
  {
   "cell_type": "code",
   "execution_count": null,
   "metadata": {},
   "outputs": [],
   "source": []
  },
  {
   "cell_type": "code",
   "execution_count": null,
   "metadata": {},
   "outputs": [],
   "source": []
  },
  {
   "cell_type": "code",
   "execution_count": null,
   "metadata": {},
   "outputs": [],
   "source": []
  },
  {
   "cell_type": "code",
   "execution_count": null,
   "metadata": {},
   "outputs": [],
   "source": []
  },
  {
   "cell_type": "code",
   "execution_count": null,
   "metadata": {},
   "outputs": [],
   "source": []
  },
  {
   "cell_type": "code",
   "execution_count": null,
   "metadata": {},
   "outputs": [],
   "source": []
  },
  {
   "cell_type": "code",
   "execution_count": null,
   "metadata": {},
   "outputs": [],
   "source": []
  },
  {
   "cell_type": "code",
   "execution_count": null,
   "metadata": {},
   "outputs": [],
   "source": []
  },
  {
   "cell_type": "code",
   "execution_count": null,
   "metadata": {},
   "outputs": [],
   "source": []
  },
  {
   "cell_type": "code",
   "execution_count": 19,
   "metadata": {},
   "outputs": [],
   "source": [
    "df_train.to_csv(path_or_buf=\"/Users/s0c02nj/Desktop/cosine\", encoding='utf-8')"
   ]
  },
  {
   "cell_type": "code",
   "execution_count": null,
   "metadata": {},
   "outputs": [],
   "source": [
    "unique_qs=df_train['question'].unique()"
   ]
  },
  {
   "cell_type": "code",
   "execution_count": null,
   "metadata": {},
   "outputs": [],
   "source": [
    "qs_ans=np.zeros((len(unique_qs),10))\n",
    "for i,j in enumerate(unique_qs):\n",
    "    print i\n",
    "    qs_ans[i]=df_train[df_train['question']==j]['cosine']"
   ]
  },
  {
   "cell_type": "code",
   "execution_count": null,
   "metadata": {},
   "outputs": [],
   "source": []
  },
  {
   "cell_type": "code",
   "execution_count": 20,
   "metadata": {},
   "outputs": [],
   "source": [
    "#np.array(df_train[df_train['question']=='. what is a corporation?']['cosine'])"
   ]
  },
  {
   "cell_type": "code",
   "execution_count": 21,
   "metadata": {},
   "outputs": [],
   "source": [
    "#np.array(df_train[df_train['question']==0]['cosine'])"
   ]
  },
  {
   "cell_type": "code",
   "execution_count": null,
   "metadata": {},
   "outputs": [],
   "source": []
  },
  {
   "cell_type": "code",
   "execution_count": 118,
   "metadata": {},
   "outputs": [
    {
     "data": {
      "text/plain": [
       "'. what is a corporation?'"
      ]
     },
     "execution_count": 118,
     "metadata": {},
     "output_type": "execute_result"
    }
   ],
   "source": [
    "df_train.iloc[0]['question']"
   ]
  },
  {
   "cell_type": "code",
   "execution_count": null,
   "metadata": {},
   "outputs": [],
   "source": [
    "a=data[data['question']==data.iloc[i]['question']]\n",
    "b=a[a['is_ans']==1]['answer']"
   ]
  },
  {
   "cell_type": "code",
   "execution_count": 128,
   "metadata": {},
   "outputs": [],
   "source": [
    "a=df_train[df_train['question']==df_train.iloc[0]['question']]\n",
    "b=a[a['is_ans']==1]['answer']"
   ]
  },
  {
   "cell_type": "code",
   "execution_count": 131,
   "metadata": {},
   "outputs": [
    {
     "data": {
      "text/plain": [
       "'A company is incorporated in a specific nation, often within the bounds of a smaller subset of that nation, such as a state or province. The corporation is then governed by the laws of incorporation in that state. A corporation may issue stock, either private or public, or may be classified as a non-stock corporation. If stock is issued, the corporation will usually be governed by its shareholders, either directly or indirectly.'"
      ]
     },
     "execution_count": 131,
     "metadata": {},
     "output_type": "execute_result"
    }
   ],
   "source": [
    "df_train.iloc[0][2]"
   ]
  },
  {
   "cell_type": "code",
   "execution_count": null,
   "metadata": {},
   "outputs": [],
   "source": []
  },
  {
   "cell_type": "code",
   "execution_count": null,
   "metadata": {},
   "outputs": [],
   "source": []
  },
  {
   "cell_type": "code",
   "execution_count": null,
   "metadata": {},
   "outputs": [],
   "source": []
  },
  {
   "cell_type": "code",
   "execution_count": null,
   "metadata": {},
   "outputs": [],
   "source": []
  },
  {
   "cell_type": "code",
   "execution_count": null,
   "metadata": {},
   "outputs": [],
   "source": []
  },
  {
   "cell_type": "code",
   "execution_count": null,
   "metadata": {},
   "outputs": [],
   "source": []
  },
  {
   "cell_type": "code",
   "execution_count": 67,
   "metadata": {},
   "outputs": [],
   "source": [
    "x_feat=dist_df"
   ]
  },
  {
   "cell_type": "code",
   "execution_count": 68,
   "metadata": {},
   "outputs": [],
   "source": [
    "y=df_train['is_ans']"
   ]
  },
  {
   "cell_type": "code",
   "execution_count": null,
   "metadata": {},
   "outputs": [],
   "source": []
  },
  {
   "cell_type": "code",
   "execution_count": null,
   "metadata": {},
   "outputs": [],
   "source": []
  },
  {
   "cell_type": "code",
   "execution_count": 69,
   "metadata": {},
   "outputs": [
    {
     "name": "stderr",
     "output_type": "stream",
     "text": [
      "/Users/s0c02nj/anaconda2/lib/python2.7/site-packages/ipykernel_launcher.py:1: UserWarning: Boolean Series key will be reindexed to match DataFrame index.\n",
      "  \"\"\"Entry point for launching an IPython kernel.\n"
     ]
    },
    {
     "data": {
      "text/plain": [
       "(array([1.66700e+05, 1.43430e+05, 1.09484e+05, 6.38190e+04, 2.93050e+04,\n",
       "        1.04310e+04, 2.97300e+03, 6.43000e+02, 1.11000e+02, 1.60000e+01]),\n",
       " array([0.        , 0.09807692, 0.19615385, 0.29423077, 0.39230769,\n",
       "        0.49038462, 0.58846154, 0.68653846, 0.78461538, 0.88269231,\n",
       "        0.98076923]),\n",
       " <a list of 10 Patch objects>)"
      ]
     },
     "execution_count": 69,
     "metadata": {},
     "output_type": "execute_result"
    },
    {
     "data": {
      "image/png": "[encoded data removed]",
      "text/plain": [
       "<Figure size 432x288 with 1 Axes>"
      ]
     },
     "metadata": {},
     "output_type": "display_data"
    }
   ],
   "source": [
    "plt.hist(x_feat[y==0]['cosine'])"
   ]
  },
  {
   "cell_type": "code",
   "execution_count": 70,
   "metadata": {},
   "outputs": [
    {
     "name": "stderr",
     "output_type": "stream",
     "text": [
      "/Users/s0c02nj/anaconda2/lib/python2.7/site-packages/ipykernel_launcher.py:1: UserWarning: Boolean Series key will be reindexed to match DataFrame index.\n",
      "  \"\"\"Entry point for launching an IPython kernel.\n"
     ]
    },
    {
     "data": {
      "text/plain": [
       "(array([1.61171e+05, 1.42265e+05, 1.09487e+05, 6.47190e+04, 2.95260e+04,\n",
       "        1.05580e+04, 2.96200e+03, 6.45000e+02, 1.12000e+02, 1.90000e+01]),\n",
       " array([0.        , 0.09807692, 0.19615385, 0.29423077, 0.39230769,\n",
       "        0.49038462, 0.58846154, 0.68653846, 0.78461538, 0.88269231,\n",
       "        0.98076923]),\n",
       " <a list of 10 Patch objects>)"
      ]
     },
     "execution_count": 70,
     "metadata": {},
     "output_type": "execute_result"
    },
    {
     "data": {
      "image/png": "[encoded data removed]",
      "text/plain": [
       "<Figure size 432x288 with 1 Axes>"
      ]
     },
     "metadata": {},
     "output_type": "display_data"
    }
   ],
   "source": [
    "plt.hist(x_feat[y==1]['cosine'])"
   ]
  },
  {
   "cell_type": "code",
   "execution_count": 71,
   "metadata": {},
   "outputs": [
    {
     "name": "stderr",
     "output_type": "stream",
     "text": [
      "/Users/s0c02nj/anaconda2/lib/python2.7/site-packages/ipykernel_launcher.py:1: UserWarning: Boolean Series key will be reindexed to match DataFrame index.\n",
      "  \"\"\"Entry point for launching an IPython kernel.\n"
     ]
    },
    {
     "data": {
      "text/plain": [
       "(array([4.51158e+05, 7.06240e+04, 4.21500e+03, 5.64000e+02, 2.02000e+02,\n",
       "        8.20000e+01, 3.30000e+01, 1.90000e+01, 1.10000e+01, 4.00000e+00]),\n",
       " array([0.  , 0.09, 0.18, 0.27, 0.36, 0.45, 0.54, 0.63, 0.72, 0.81, 0.9 ]),\n",
       " <a list of 10 Patch objects>)"
      ]
     },
     "execution_count": 71,
     "metadata": {},
     "output_type": "execute_result"
    },
    {
     "data": {
      "image/png": "[encoded data removed]",
      "text/plain": [
       "<Figure size 432x288 with 1 Axes>"
      ]
     },
     "metadata": {},
     "output_type": "display_data"
    }
   ],
   "source": [
    "plt.hist(x_feat[y==0]['jaccard'])"
   ]
  },
  {
   "cell_type": "code",
   "execution_count": 72,
   "metadata": {},
   "outputs": [
    {
     "name": "stderr",
     "output_type": "stream",
     "text": [
      "/Users/s0c02nj/anaconda2/lib/python2.7/site-packages/ipykernel_launcher.py:1: UserWarning: Boolean Series key will be reindexed to match DataFrame index.\n",
      "  \"\"\"Entry point for launching an IPython kernel.\n"
     ]
    },
    {
     "data": {
      "text/plain": [
       "(array([4.41969e+05, 7.38260e+04, 4.61200e+03, 6.96000e+02, 1.99000e+02,\n",
       "        9.90000e+01, 4.00000e+01, 1.30000e+01, 5.00000e+00, 5.00000e+00]),\n",
       " array([0.        , 0.08888889, 0.17777778, 0.26666667, 0.35555556,\n",
       "        0.44444444, 0.53333333, 0.62222222, 0.71111111, 0.8       ,\n",
       "        0.88888889]),\n",
       " <a list of 10 Patch objects>)"
      ]
     },
     "execution_count": 72,
     "metadata": {},
     "output_type": "execute_result"
    },
    {
     "data": {
      "image/png": "[encoded data removed]",
      "text/plain": [
       "<Figure size 432x288 with 1 Axes>"
      ]
     },
     "metadata": {},
     "output_type": "display_data"
    }
   ],
   "source": [
    "plt.hist(x_feat[y==1]['jaccard'])"
   ]
  },
  {
   "cell_type": "code",
   "execution_count": 73,
   "metadata": {},
   "outputs": [
    {
     "name": "stderr",
     "output_type": "stream",
     "text": [
      "/Users/s0c02nj/anaconda2/lib/python2.7/site-packages/ipykernel_launcher.py:1: UserWarning: Boolean Series key will be reindexed to match DataFrame index.\n",
      "  \"\"\"Entry point for launching an IPython kernel.\n"
     ]
    },
    {
     "data": {
      "text/plain": [
       "(array([5.10517e+05, 1.39550e+04, 1.58800e+03, 4.56000e+02, 1.88000e+02,\n",
       "        9.70000e+01, 5.20000e+01, 3.60000e+01, 1.60000e+01, 7.00000e+00]),\n",
       " array([0.        , 0.09473684, 0.18947368, 0.28421053, 0.37894737,\n",
       "        0.47368421, 0.56842105, 0.66315789, 0.75789474, 0.85263158,\n",
       "        0.94736842]),\n",
       " <a list of 10 Patch objects>)"
      ]
     },
     "execution_count": 73,
     "metadata": {},
     "output_type": "execute_result"
    },
    {
     "data": {
      "image/png": "[encoded data removed]",
      "text/plain": [
       "<Figure size 432x288 with 1 Axes>"
      ]
     },
     "metadata": {},
     "output_type": "display_data"
    }
   ],
   "source": [
    "plt.hist(x_feat[y==0]['shared_2gram'])"
   ]
  },
  {
   "cell_type": "code",
   "execution_count": 74,
   "metadata": {},
   "outputs": [
    {
     "name": "stderr",
     "output_type": "stream",
     "text": [
      "/Users/s0c02nj/anaconda2/lib/python2.7/site-packages/ipykernel_launcher.py:1: UserWarning: Boolean Series key will be reindexed to match DataFrame index.\n",
      "  \"\"\"Entry point for launching an IPython kernel.\n"
     ]
    },
    {
     "data": {
      "text/plain": [
       "(array([5.04638e+05, 1.41630e+04, 1.77000e+03, 4.78000e+02, 1.95000e+02,\n",
       "        1.11000e+02, 6.90000e+01, 2.60000e+01, 9.00000e+00, 5.00000e+00]),\n",
       " array([0.        , 0.09411765, 0.18823529, 0.28235294, 0.37647059,\n",
       "        0.47058824, 0.56470588, 0.65882353, 0.75294118, 0.84705882,\n",
       "        0.94117647]),\n",
       " <a list of 10 Patch objects>)"
      ]
     },
     "execution_count": 74,
     "metadata": {},
     "output_type": "execute_result"
    },
    {
     "data": {
      "image/png": "[encoded data removed]",
      "text/plain": [
       "<Figure size 432x288 with 1 Axes>"
      ]
     },
     "metadata": {},
     "output_type": "display_data"
    }
   ],
   "source": [
    "plt.hist(x_feat[y==1]['shared_2gram'])"
   ]
  },
  {
   "cell_type": "code",
   "execution_count": 75,
   "metadata": {},
   "outputs": [
    {
     "name": "stderr",
     "output_type": "stream",
     "text": [
      "/Users/s0c02nj/anaconda2/lib/python2.7/site-packages/ipykernel_launcher.py:1: UserWarning: Boolean Series key will be reindexed to match DataFrame index.\n",
      "  \"\"\"Entry point for launching an IPython kernel.\n"
     ]
    },
    {
     "data": {
      "text/plain": [
       "(array([5.22651e+05, 3.18000e+03, 5.78000e+02, 2.32000e+02, 1.23000e+02,\n",
       "        6.90000e+01, 3.40000e+01, 2.90000e+01, 1.10000e+01, 5.00000e+00]),\n",
       " array([0.        , 0.04722222, 0.09444444, 0.14166667, 0.18888889,\n",
       "        0.23611111, 0.28333333, 0.33055556, 0.37777778, 0.425     ,\n",
       "        0.47222222]),\n",
       " <a list of 10 Patch objects>)"
      ]
     },
     "execution_count": 75,
     "metadata": {},
     "output_type": "execute_result"
    },
    {
     "data": {
      "image/png": "[encoded data removed]",
      "text/plain": [
       "<Figure size 432x288 with 1 Axes>"
      ]
     },
     "metadata": {},
     "output_type": "display_data"
    }
   ],
   "source": [
    "plt.hist(x_feat[y==0]['shared_3gram'])"
   ]
  },
  {
   "cell_type": "code",
   "execution_count": 76,
   "metadata": {},
   "outputs": [
    {
     "name": "stderr",
     "output_type": "stream",
     "text": [
      "/Users/s0c02nj/anaconda2/lib/python2.7/site-packages/ipykernel_launcher.py:1: UserWarning: Boolean Series key will be reindexed to match DataFrame index.\n",
      "  \"\"\"Entry point for launching an IPython kernel.\n"
     ]
    },
    {
     "data": {
      "text/plain": [
       "(array([5.16852e+05, 3.40000e+03, 6.80000e+02, 2.37000e+02, 1.37000e+02,\n",
       "        7.60000e+01, 5.40000e+01, 1.70000e+01, 6.00000e+00, 5.00000e+00]),\n",
       " array([0.      , 0.046875, 0.09375 , 0.140625, 0.1875  , 0.234375,\n",
       "        0.28125 , 0.328125, 0.375   , 0.421875, 0.46875 ]),\n",
       " <a list of 10 Patch objects>)"
      ]
     },
     "execution_count": 76,
     "metadata": {},
     "output_type": "execute_result"
    },
    {
     "data": {
      "image/png": "[encoded data removed]",
      "text/plain": [
       "<Figure size 432x288 with 1 Axes>"
      ]
     },
     "metadata": {},
     "output_type": "display_data"
    }
   ],
   "source": [
    "plt.hist(x_feat[y==1]['shared_3gram'])"
   ]
  },
  {
   "cell_type": "code",
   "execution_count": 77,
   "metadata": {},
   "outputs": [
    {
     "name": "stderr",
     "output_type": "stream",
     "text": [
      "/Users/s0c02nj/anaconda2/lib/python2.7/site-packages/ipykernel_launcher.py:1: UserWarning: Boolean Series key will be reindexed to match DataFrame index.\n",
      "  \"\"\"Entry point for launching an IPython kernel.\n"
     ]
    },
    {
     "data": {
      "text/plain": [
       "(array([7.9770e+03, 1.2391e+05, 2.5030e+05, 7.1509e+04, 5.5771e+04,\n",
       "        1.3096e+04, 3.4710e+03, 7.3000e+02, 1.3200e+02, 1.6000e+01]),\n",
       " array([   5. ,  130.7,  256.4,  382.1,  507.8,  633.5,  759.2,  884.9,\n",
       "        1010.6, 1136.3, 1262. ]),\n",
       " <a list of 10 Patch objects>)"
      ]
     },
     "execution_count": 77,
     "metadata": {},
     "output_type": "execute_result"
    },
    {
     "data": {
      "image/png": "[encoded data removed]",
      "text/plain": [
       "<Figure size 432x288 with 1 Axes>"
      ]
     },
     "metadata": {},
     "output_type": "display_data"
    }
   ],
   "source": [
    "plt.hist(x_feat[y==0]['len_ans'])"
   ]
  },
  {
   "cell_type": "code",
   "execution_count": 78,
   "metadata": {},
   "outputs": [
    {
     "name": "stderr",
     "output_type": "stream",
     "text": [
      "/Users/s0c02nj/anaconda2/lib/python2.7/site-packages/ipykernel_launcher.py:1: UserWarning: Boolean Series key will be reindexed to match DataFrame index.\n",
      "  \"\"\"Entry point for launching an IPython kernel.\n"
     ]
    },
    {
     "data": {
      "text/plain": [
       "(array([8.76000e+03, 1.40543e+05, 2.34987e+05, 7.49430e+04, 4.85940e+04,\n",
       "        1.03430e+04, 2.72200e+03, 5.02000e+02, 5.80000e+01, 1.20000e+01]),\n",
       " array([   4. ,  134.8,  265.6,  396.4,  527.2,  658. ,  788.8,  919.6,\n",
       "        1050.4, 1181.2, 1312. ]),\n",
       " <a list of 10 Patch objects>)"
      ]
     },
     "execution_count": 78,
     "metadata": {},
     "output_type": "execute_result"
    },
    {
     "data": {
      "image/png": "[encoded data removed]",
      "text/plain": [
       "<Figure size 432x288 with 1 Axes>"
      ]
     },
     "metadata": {},
     "output_type": "display_data"
    }
   ],
   "source": [
    "plt.hist(x_feat[y==1]['len_ans'])"
   ]
  },
  {
   "cell_type": "code",
   "execution_count": 79,
   "metadata": {},
   "outputs": [],
   "source": [
    "params = {\n",
    "    'objective' :'binary',\n",
    "    'learning_rate' : 0.01,\n",
    "    'num_leaves' : 100,\n",
    "    'feature_fraction': 0.64, \n",
    "    'bagging_fraction': 0.8, \n",
    "    'bagging_freq':1,\n",
    "    'boosting_type' : 'gbdt',\n",
    "    'metric': 'binary_logloss'\n",
    "}"
   ]
  },
  {
   "cell_type": "code",
   "execution_count": 81,
   "metadata": {},
   "outputs": [],
   "source": [
    "from sklearn.cross_validation import train_test_split\n",
    "x_train, x_test, y_train, y_test = train_test_split(x_feat, y, test_size=0.05, random_state=42)"
   ]
  },
  {
   "cell_type": "code",
   "execution_count": 82,
   "metadata": {},
   "outputs": [],
   "source": [
    "import lightgbm as lgb\n",
    "d_train = lgb.Dataset(x_train, label=y_train)\n",
    "d_valid = lgb.Dataset(x_test, y_test)"
   ]
  },
  {
   "cell_type": "code",
   "execution_count": 84,
   "metadata": {},
   "outputs": [
    {
     "name": "stdout",
     "output_type": "stream",
     "text": [
      "Training until validation scores don't improve for 50 rounds.\n",
      "[50]\tvalid_0's binary_logloss: 0.683424\n",
      "[100]\tvalid_0's binary_logloss: 0.678984\n",
      "[150]\tvalid_0's binary_logloss: 0.676915\n",
      "[200]\tvalid_0's binary_logloss: 0.675777\n",
      "[250]\tvalid_0's binary_logloss: 0.675161\n",
      "[300]\tvalid_0's binary_logloss: 0.674802\n",
      "[350]\tvalid_0's binary_logloss: 0.674537\n",
      "[400]\tvalid_0's binary_logloss: 0.674394\n",
      "[450]\tvalid_0's binary_logloss: 0.674269\n",
      "[500]\tvalid_0's binary_logloss: 0.674191\n",
      "[550]\tvalid_0's binary_logloss: 0.674099\n",
      "[600]\tvalid_0's binary_logloss: 0.674039\n",
      "[650]\tvalid_0's binary_logloss: 0.673999\n",
      "[700]\tvalid_0's binary_logloss: 0.673958\n",
      "[750]\tvalid_0's binary_logloss: 0.673946\n",
      "[800]\tvalid_0's binary_logloss: 0.673916\n",
      "[850]\tvalid_0's binary_logloss: 0.673902\n",
      "[900]\tvalid_0's binary_logloss: 0.673892\n",
      "[950]\tvalid_0's binary_logloss: 0.673886\n",
      "[1000]\tvalid_0's binary_logloss: 0.673875\n",
      "Early stopping, best iteration is:\n",
      "[980]\tvalid_0's binary_logloss: 0.673867\n"
     ]
    }
   ],
   "source": [
    "bst = lgb.train(params, d_train, 5000, valid_sets=[d_valid], verbose_eval=50, early_stopping_rounds=50)"
   ]
  },
  {
   "cell_type": "code",
   "execution_count": 76,
   "metadata": {},
   "outputs": [],
   "source": [
    "#predictions=bst.predict(df_train[''])"
   ]
  },
  {
   "cell_type": "code",
   "execution_count": 71,
   "metadata": {},
   "outputs": [],
   "source": [
    "# all_scores = {}\n",
    " \n",
    "# for qid, pred in zip(df_test['id'], predictions):\n",
    "   \n",
    "#     if qid in all_scores:\n",
    "#         all_scores[qid].append(pred[0])\n",
    "#     else:\n",
    "#         all_scores[qid] = [pred[0]]\n",
    " \n",
    "       "
   ]
  },
  {
   "cell_type": "code",
   "execution_count": 85,
   "metadata": {},
   "outputs": [],
   "source": [
    "predictions_total=bst.predict(x_feat)"
   ]
  },
  {
   "cell_type": "code",
   "execution_count": 94,
   "metadata": {},
   "outputs": [],
   "source": [
    "import nltk"
   ]
  },
  {
   "cell_type": "code",
   "execution_count": null,
   "metadata": {},
   "outputs": [],
   "source": []
  },
  {
   "cell_type": "code",
   "execution_count": null,
   "metadata": {},
   "outputs": [],
   "source": []
  },
  {
   "cell_type": "code",
   "execution_count": null,
   "metadata": {},
   "outputs": [],
   "source": []
  },
  {
   "cell_type": "code",
   "execution_count": null,
   "metadata": {},
   "outputs": [],
   "source": []
  },
  {
   "cell_type": "code",
   "execution_count": null,
   "metadata": {},
   "outputs": [],
   "source": []
  },
  {
   "cell_type": "code",
   "execution_count": null,
   "metadata": {},
   "outputs": [],
   "source": []
  },
  {
   "cell_type": "code",
   "execution_count": null,
   "metadata": {},
   "outputs": [],
   "source": []
  },
  {
   "cell_type": "code",
   "execution_count": null,
   "metadata": {},
   "outputs": [],
   "source": []
  },
  {
   "cell_type": "code",
   "execution_count": null,
   "metadata": {},
   "outputs": [],
   "source": []
  },
  {
   "cell_type": "code",
   "execution_count": null,
   "metadata": {},
   "outputs": [],
   "source": []
  },
  {
   "cell_type": "code",
   "execution_count": null,
   "metadata": {},
   "outputs": [],
   "source": []
  },
  {
   "cell_type": "code",
   "execution_count": null,
   "metadata": {},
   "outputs": [],
   "source": []
  },
  {
   "cell_type": "code",
   "execution_count": null,
   "metadata": {},
   "outputs": [],
   "source": []
  },
  {
   "cell_type": "code",
   "execution_count": null,
   "metadata": {},
   "outputs": [],
   "source": []
  },
  {
   "cell_type": "code",
   "execution_count": null,
   "metadata": {},
   "outputs": [],
   "source": []
  },
  {
   "cell_type": "code",
   "execution_count": null,
   "metadata": {},
   "outputs": [],
   "source": []
  },
  {
   "cell_type": "code",
   "execution_count": 78,
   "metadata": {},
   "outputs": [],
   "source": [
    "#len(predictions_total)"
   ]
  },
  {
   "cell_type": "code",
   "execution_count": 86,
   "metadata": {},
   "outputs": [],
   "source": [
    "truths = {}\n",
    " \n",
    "for qid, pred in zip(df_train['id'], df_train['is_ans']):   \n",
    "    \n",
    "    if qid in truths:\n",
    "        truths[qid].append(pred)\n",
    "    else:\n",
    "        truths[qid] = [pred]"
   ]
  },
  {
   "cell_type": "code",
   "execution_count": 87,
   "metadata": {},
   "outputs": [
    {
     "name": "stdout",
     "output_type": "stream",
     "text": [
      "0.8221344250536067\n"
     ]
    }
   ],
   "source": [
    "preds = {}\n",
    " \n",
    "for qid, pred in zip(df_train['id'], predictions_total):\n",
    "    if qid in preds:\n",
    "        preds[qid].append(pred)\n",
    "    else:\n",
    "        preds[qid] = [pred]\n",
    " \n",
    "scores = []\n",
    "ranks = []\n",
    "for q_id in truths:\n",
    "   \n",
    "    if q_id not in preds:\n",
    "        scores.append(0)\n",
    "    else:\n",
    "        selected_psg = np.nonzero(truths[q_id])[0][0]\n",
    "        sorted_preds = np.argsort(preds[q_id])[::-1]\n",
    "        rank = np.where(sorted_preds==selected_psg)[0][0] + 1\n",
    "        ranks.append(rank)\n",
    "        scores.append(1.0 / rank)\n",
    "       \n",
    "score = np.mean(scores)\n",
    "print(score)\n",
    " "
   ]
  },
  {
   "cell_type": "code",
   "execution_count": 88,
   "metadata": {},
   "outputs": [
    {
     "name": "stdout",
     "output_type": "stream",
     "text": [
      "13.5831508636\n"
     ]
    }
   ],
   "source": [
    "import time\n",
    "t1=time.time()\n",
    "num_partitions = 16\n",
    "n_cores=7\n",
    "dist_df_test = parallelize_dataframe(df_test, worker)\n",
    "t2=time.time()\n",
    "\n",
    "print t2-t1"
   ]
  },
  {
   "cell_type": "code",
   "execution_count": 89,
   "metadata": {},
   "outputs": [],
   "source": [
    "predictions=bst.predict(dist_df_test)"
   ]
  },
  {
   "cell_type": "code",
   "execution_count": 90,
   "metadata": {},
   "outputs": [],
   "source": [
    "all_scores = {}\n",
    " \n",
    "for qid, pred in zip(df_test['id'], predictions):\n",
    "   \n",
    "    if qid in all_scores:\n",
    "        all_scores[qid].append(pred)\n",
    "    else:\n",
    "        all_scores[qid] = [pred]\n",
    " "
   ]
  },
  {
   "cell_type": "code",
   "execution_count": 92,
   "metadata": {},
   "outputs": [],
   "source": [
    "submissionFileName = \"answer3.tsv\"\n",
    "fw = open(submissionFileName, \"w\")\n",
    " \n",
    "for query_id in all_scores:\n",
    "    scores = all_scores[query_id]\n",
    "    scores_str = [str(sc) for sc in scores] # convert all scores to string values\n",
    "    scores_str = \"\\t\".join(scores_str) # join all scores in list to make it one string with  tab delimiter. \n",
    "    fw.write(str(query_id)+\"\\t\"+scores_str+\"\\n\")\n",
    "fw.close()"
   ]
  },
  {
   "cell_type": "code",
   "execution_count": null,
   "metadata": {},
   "outputs": [],
   "source": []
  },
  {
   "cell_type": "code",
   "execution_count": null,
   "metadata": {},
   "outputs": [],
   "source": []
  },
  {
   "cell_type": "code",
   "execution_count": null,
   "metadata": {},
   "outputs": [],
   "source": []
  },
  {
   "cell_type": "code",
   "execution_count": null,
   "metadata": {},
   "outputs": [],
   "source": []
  },
  {
   "cell_type": "code",
   "execution_count": null,
   "metadata": {},
   "outputs": [],
   "source": []
  },
  {
   "cell_type": "code",
   "execution_count": null,
   "metadata": {},
   "outputs": [],
   "source": []
  },
  {
   "cell_type": "code",
   "execution_count": null,
   "metadata": {},
   "outputs": [],
   "source": []
  },
  {
   "cell_type": "code",
   "execution_count": null,
   "metadata": {},
   "outputs": [],
   "source": []
  },
  {
   "cell_type": "code",
   "execution_count": null,
   "metadata": {},
   "outputs": [],
   "source": []
  },
  {
   "cell_type": "code",
   "execution_count": null,
   "metadata": {},
   "outputs": [],
   "source": []
  },
  {
   "cell_type": "code",
   "execution_count": null,
   "metadata": {},
   "outputs": [],
   "source": []
  },
  {
   "cell_type": "code",
   "execution_count": null,
   "metadata": {},
   "outputs": [],
   "source": []
  },
  {
   "cell_type": "code",
   "execution_count": null,
   "metadata": {},
   "outputs": [],
   "source": []
  },
  {
   "cell_type": "code",
   "execution_count": null,
   "metadata": {},
   "outputs": [],
   "source": []
  },
  {
   "cell_type": "code",
   "execution_count": null,
   "metadata": {},
   "outputs": [],
   "source": []
  },
  {
   "cell_type": "code",
   "execution_count": null,
   "metadata": {},
   "outputs": [],
   "source": []
  },
  {
   "cell_type": "code",
   "execution_count": 123,
   "metadata": {},
   "outputs": [],
   "source": [
    "x_feat=dist_df\n",
    "y=df_train['is_ans']"
   ]
  },
  {
   "cell_type": "code",
   "execution_count": 50,
   "metadata": {},
   "outputs": [],
   "source": [
    "from sklearn.cross_validation import train_test_split\n",
    "x_train, x_test, y_train, y_test = train_test_split(x_feat, y, test_size=0.05, random_state=42)"
   ]
  },
  {
   "cell_type": "code",
   "execution_count": 125,
   "metadata": {},
   "outputs": [
    {
     "data": {
      "text/plain": [
       "LogisticRegression(C=1.0, class_weight=None, dual=False, fit_intercept=True,\n",
       "          intercept_scaling=1, max_iter=100, multi_class='ovr', n_jobs=1,\n",
       "          penalty='l2', random_state=0, solver='liblinear', tol=0.0001,\n",
       "          verbose=0, warm_start=False)"
      ]
     },
     "execution_count": 125,
     "metadata": {},
     "output_type": "execute_result"
    }
   ],
   "source": [
    "from sklearn.linear_model import LogisticRegression\n",
    "log_model = LogisticRegression(random_state=0)\n",
    "log_model.fit(x_train,y_train)"
   ]
  },
  {
   "cell_type": "code",
   "execution_count": 126,
   "metadata": {},
   "outputs": [
    {
     "data": {
      "text/plain": [
       "0.900180851145009"
      ]
     },
     "execution_count": 126,
     "metadata": {},
     "output_type": "execute_result"
    }
   ],
   "source": [
    "log_model.score(x_test,y_test)"
   ]
  },
  {
   "cell_type": "code",
   "execution_count": 130,
   "metadata": {},
   "outputs": [],
   "source": [
    "#print (recall_score(y_test, log_model.predict(x_test)))\n",
    "#print (precision_score(y_test, log_model.predict(x_test)))"
   ]
  },
  {
   "cell_type": "code",
   "execution_count": 131,
   "metadata": {},
   "outputs": [],
   "source": [
    "y_pred=log_model.predict(x_test)"
   ]
  },
  {
   "cell_type": "code",
   "execution_count": 132,
   "metadata": {},
   "outputs": [
    {
     "data": {
      "text/plain": [
       "array([[235932,      5],\n",
       "       [ 26157,      0]])"
      ]
     },
     "execution_count": 132,
     "metadata": {},
     "output_type": "execute_result"
    }
   ],
   "source": [
    "confusion_matrix(y_test, y_pred)"
   ]
  },
  {
   "cell_type": "code",
   "execution_count": 133,
   "metadata": {},
   "outputs": [
    {
     "data": {
      "text/plain": [
       "262094"
      ]
     },
     "execution_count": 133,
     "metadata": {},
     "output_type": "execute_result"
    }
   ],
   "source": [
    "len(y_test)"
   ]
  },
  {
   "cell_type": "code",
   "execution_count": null,
   "metadata": {},
   "outputs": [],
   "source": []
  },
  {
   "cell_type": "code",
   "execution_count": 144,
   "metadata": {},
   "outputs": [],
   "source": [
    "import xgboost as xgb\n",
    "from sklearn.ensemble import (RandomForestClassifier, AdaBoostClassifier, GradientBoostingClassifier, ExtraTreesClassifier)\n",
    "from sklearn.svm import SVC"
   ]
  },
  {
   "cell_type": "code",
   "execution_count": 145,
   "metadata": {},
   "outputs": [],
   "source": [
    "xgb_model = xgb.XGBClassifier(\n",
    "    #learning_rate = 0.02,\n",
    " n_estimators= 2000,\n",
    " max_depth= 30,\n",
    " min_child_weight= 2,\n",
    " learning_rate=0.01,\n",
    " gamma=0.9,                        \n",
    " subsample=0.9,\n",
    " colsample_bytree=0.8,\n",
    " objective= 'binary:logistic',\n",
    " nthread= -1,\n",
    " scale_pos_weight=1)"
   ]
  },
  {
   "cell_type": "code",
   "execution_count": null,
   "metadata": {},
   "outputs": [
    {
     "name": "stdout",
     "output_type": "stream",
     "text": [
      "[23:22:50] Tree method is automatically selected to be 'approx' for faster speed. to use old behavior(exact greedy algorithm on single machine), set tree_method to 'exact'\n"
     ]
    }
   ],
   "source": [
    "xgb.XGBClassifier()\n",
    "xgb_model.fit(np.array(x_train), np.array(y_train))"
   ]
  },
  {
   "cell_type": "code",
   "execution_count": null,
   "metadata": {},
   "outputs": [],
   "source": [
    "xgb_model.score(x_test,y_test)"
   ]
  },
  {
   "cell_type": "code",
   "execution_count": null,
   "metadata": {},
   "outputs": [],
   "source": [
    "y_pred=xgb_model.predict(x_test)"
   ]
  },
  {
   "cell_type": "code",
   "execution_count": null,
   "metadata": {},
   "outputs": [],
   "source": [
    "print (recall_score(y_test, log_model.predict(x_test)))\n",
    "print (precision_score(y_test, log_model.predict(x_test)))"
   ]
  },
  {
   "cell_type": "code",
   "execution_count": null,
   "metadata": {},
   "outputs": [],
   "source": [
    "confusion_matrix(y_test, y_pred)"
   ]
  },
  {
   "cell_type": "code",
   "execution_count": null,
   "metadata": {},
   "outputs": [],
   "source": []
  }
 ],
 "metadata": {
  "kernelspec": {
   "display_name": "Python 3",
   "language": "python",
   "name": "python3"
  },
  "language_info": {
   "codemirror_mode": {
    "name": "ipython",
    "version": 3
   },
   "file_extension": ".py",
   "mimetype": "text/x-python",
   "name": "python",
   "nbconvert_exporter": "python",
   "pygments_lexer": "ipython3",
   "version": "3.6.8"
  }
 },
 "nbformat": 4,
 "nbformat_minor": 2
}

{
 "cells": [
  {
   "cell_type": "code",
   "execution_count": 145,
   "metadata": {},
   "outputs": [],
   "source": [
    "import xml.etree.ElementTree as ET\n",
    "import numpy as np\n",
    "import re\n",
    "import pandas as pd\n",
    "from sklearn.preprocessing import LabelEncoder"
   ]
  },
  {
   "cell_type": "code",
   "execution_count": 266,
   "metadata": {},
   "outputs": [],
   "source": [
    "#file = ET.parse('/Users/s0c02nj/Desktop/Brainwaves/ML/data/17_bk.xml')\n",
    "df = pd.read_csv('/Users/s0c02nj/Desktop/Brainwaves/ML/train_labels.csv')\n",
    "files = df.File_Name\n",
    "NSMAP = {'ab':'http://www.abbyy.com/FineReader_xml/FineReader10-schema-v1.xml'}"
   ]
  },
  {
   "cell_type": "code",
   "execution_count": 285,
   "metadata": {},
   "outputs": [
    {
     "data": {
      "text/plain": [
       "0    SOCIETE GENERALE\n",
       "dtype: object"
      ]
     },
     "execution_count": 285,
     "metadata": {},
     "output_type": "execute_result"
    }
   ],
   "source": [
    "df['party_A'].mode()"
   ]
  },
  {
   "cell_type": "code",
   "execution_count": 286,
   "metadata": {},
   "outputs": [],
   "source": [
    "df_test = pd.read_csv('/Users/s0c02nj/Desktop/Brainwaves/submission_format6c29943.csv')\n",
    "files2 = df_test.File_Name"
   ]
  },
  {
   "cell_type": "code",
   "execution_count": 287,
   "metadata": {},
   "outputs": [],
   "source": [
    "#pages_text[1][0]----Paragraph\n",
    "def read_xml(xml_file):\n",
    "    xml_file = '/Users/s0c02nj/Desktop/Brainwaves/private_test_data/' + xml_file + '.xml'\n",
    "    tree = ET.parse(xml_file) \n",
    "    root = tree.getroot()\n",
    "    pages_text = []\n",
    "    \n",
    "    for page in root.findall('.//ab:page', namespaces=NSMAP):\n",
    "\n",
    "        paras = []\n",
    "        temp = \"\"\n",
    "        for block in page.findall('ab:block', namespaces=NSMAP):\n",
    "            for line in block.findall('ab:text/ab:par/ab:line/ab:formatting', namespaces=NSMAP):\n",
    "                temp = temp + \" \" + line.text\n",
    "\n",
    "            paras.append(temp)\n",
    "            temp = \"\"\n",
    "\n",
    "        pages_text.append(paras)\n",
    "    \n",
    "    return pages_text"
   ]
  },
  {
   "cell_type": "code",
   "execution_count": 288,
   "metadata": {},
   "outputs": [],
   "source": [
    "def get_relevent_ind(l):\n",
    "    inds = []\n",
    "    for i,e in enumerate(l):\n",
    "        #e = re.sub(r'\\\"','',e)\n",
    "        if 'calculation agent' in e.lower() :\n",
    "            #print (e)\n",
    "            #print ('Hello')\n",
    "            #if i > 0 and i < len(l)-1: \n",
    "                #for j in range(1,30):\n",
    "            inds.append(i)\n",
    "            inds.append(i+1)\n",
    "            inds.append(i+2)\n",
    "            inds.append(i+3)\n",
    "            inds.append(i+4)\n",
    "            inds.append(i+5)\n",
    "            inds.append(i+6)\n",
    "            inds.append(i+7)\n",
    "            inds.append(i+8)\n",
    "            inds.append(i+9)\n",
    "            inds.append(i+10)\n",
    "            inds.append(i+11)\n",
    "            inds.append(i+12)\n",
    "            inds.append(i+13)\n",
    "            inds.append(i+14)\n",
    "            inds.append(i+15)\n",
    "            inds.append(i+16)\n",
    "            inds.append(i+17)\n",
    "            inds.append(i+18)\n",
    "            inds.append(i+19)\n",
    "            inds.append(i+20)\n",
    "                \n",
    "    return(list(set(inds)))"
   ]
  },
  {
   "cell_type": "code",
   "execution_count": 289,
   "metadata": {},
   "outputs": [],
   "source": [
    "def get_term_curr_para(file):\n",
    "    list_rel_doc =[]\n",
    "    page_text = read_xml(file)\n",
    "    for page in page_text:\n",
    "        inds = get_relevent_ind(page)\n",
    "        l = len(page) \n",
    "        page = \" \".join([page[i] for i in inds if i>=0 and i<l])\n",
    "        if page != '':\n",
    "            list_rel_doc.append(page)\n",
    "    \n",
    "    return list_rel_doc\n",
    "        "
   ]
  },
  {
   "cell_type": "code",
   "execution_count": 290,
   "metadata": {},
   "outputs": [],
   "source": [
    "def get_most_rel(file):\n",
    "    doc1=''\n",
    "    list1=[]\n",
    "    doc = get_term_curr_para(file)\n",
    "    \n",
    "    if len(doc)>1:\n",
    "        for i in range(0,len(doc)):\n",
    "            doc1 = doc[i]+doc1\n",
    "        list1.append(doc1)\n",
    "    \n",
    "    elif len(doc)==1:\n",
    "        list1.append(doc[0])\n",
    "    \n",
    "    return list1"
   ]
  },
  {
   "cell_type": "code",
   "execution_count": 250,
   "metadata": {},
   "outputs": [],
   "source": [
    "paras = []\n",
    "for i,file in enumerate(files2):\n",
    "    #print(i)\n",
    "    page = get_most_rel(file)\n",
    "    paras.append(page)"
   ]
  },
  {
   "cell_type": "code",
   "execution_count": 251,
   "metadata": {},
   "outputs": [
    {
     "data": {
      "text/plain": [
       "61"
      ]
     },
     "execution_count": 251,
     "metadata": {},
     "output_type": "execute_result"
    }
   ],
   "source": [
    "len(paras)"
   ]
  },
  {
   "cell_type": "code",
   "execution_count": 252,
   "metadata": {},
   "outputs": [],
   "source": [
    "txt=[]\n",
    "for i in range(0,len(paras)):\n",
    "    if len(paras[i])!=0: \n",
    "        #print (i)\n",
    "        txt.append(paras[i][0])\n",
    "    else:\n",
    "        txt.append('')"
   ]
  },
  {
   "cell_type": "code",
   "execution_count": 253,
   "metadata": {},
   "outputs": [
    {
     "data": {
      "text/plain": [
       "61"
      ]
     },
     "execution_count": 253,
     "metadata": {},
     "output_type": "execute_result"
    }
   ],
   "source": [
    "len(txt)"
   ]
  },
  {
   "cell_type": "markdown",
   "metadata": {},
   "source": [
    "#### Model Fitting for Diefault Dispute"
   ]
  },
  {
   "cell_type": "code",
   "execution_count": 254,
   "metadata": {},
   "outputs": [],
   "source": [
    "df_test['text_sum']=txt"
   ]
  },
  {
   "cell_type": "code",
   "execution_count": 133,
   "metadata": {},
   "outputs": [],
   "source": [
    "df1 = df[['text_sum','CA_fallback_default_dispute','CA_dispute_resolution ']]"
   ]
  },
  {
   "cell_type": "code",
   "execution_count": 255,
   "metadata": {},
   "outputs": [],
   "source": [
    "df_test['text_sum'] = df_test['text_sum'].apply(lambda x: re.sub(r'[^a-zA-Z]', ' ', x))\n",
    "df_test['text_sum'] = df_test['text_sum'] .apply(lambda x:x.lower())"
   ]
  },
  {
   "cell_type": "code",
   "execution_count": 242,
   "metadata": {},
   "outputs": [],
   "source": [
    "from sklearn.feature_extraction.text import TfidfVectorizer\n",
    "\n",
    "vectorizer = TfidfVectorizer(stop_words='english',max_df=1.0, min_df=1, max_features=600)\n",
    "vectorizer.fit_transform(df1['text_sum'])\n",
    "tf_feat = vectorizer.transform(df1['text_sum'])"
   ]
  },
  {
   "cell_type": "code",
   "execution_count": 243,
   "metadata": {},
   "outputs": [],
   "source": [
    "from scipy.sparse import csr_matrix\n",
    "tf_idf_arr= tf_feat.toarray()"
   ]
  },
  {
   "cell_type": "code",
   "execution_count": 244,
   "metadata": {},
   "outputs": [],
   "source": [
    "#Response \n",
    "le= LabelEncoder()\n",
    "y_cat=le.fit_transform(df1['CA_fallback_default_dispute'])"
   ]
  },
  {
   "cell_type": "code",
   "execution_count": 245,
   "metadata": {},
   "outputs": [],
   "source": [
    "from sklearn.model_selection import train_test_split\n",
    "x_train,x_test,y_train,y_test = train_test_split(tf_idf_arr,y_cat,test_size=0.5, random_state=42)"
   ]
  },
  {
   "cell_type": "code",
   "execution_count": 246,
   "metadata": {},
   "outputs": [],
   "source": [
    "from sklearn.ensemble import RandomForestClassifier\n",
    "\n",
    "rf =  RandomForestClassifier(bootstrap=True, criterion='gini',\n",
    "                max_depth=3, max_features='auto', max_leaf_nodes=None, \n",
    "                min_impurity_decrease=0.0, min_impurity_split=None,\n",
    "                min_samples_leaf=1, min_samples_split=2,\n",
    "                min_weight_fraction_leaf=0.0, n_estimators=1000, n_jobs=-1,\n",
    "                oob_score=False, random_state=0, verbose=0, warm_start=False)"
   ]
  },
  {
   "cell_type": "code",
   "execution_count": 247,
   "metadata": {},
   "outputs": [
    {
     "data": {
      "text/plain": [
       "RandomForestClassifier(bootstrap=True, class_weight=None, criterion='gini',\n",
       "            max_depth=3, max_features='auto', max_leaf_nodes=None,\n",
       "            min_impurity_decrease=0.0, min_impurity_split=None,\n",
       "            min_samples_leaf=1, min_samples_split=2,\n",
       "            min_weight_fraction_leaf=0.0, n_estimators=1000, n_jobs=-1,\n",
       "            oob_score=False, random_state=0, verbose=0, warm_start=False)"
      ]
     },
     "execution_count": 247,
     "metadata": {},
     "output_type": "execute_result"
    }
   ],
   "source": [
    "rf.fit(x_train,y_train)"
   ]
  },
  {
   "cell_type": "code",
   "execution_count": 248,
   "metadata": {},
   "outputs": [
    {
     "data": {
      "text/plain": [
       "0.8225806451612904"
      ]
     },
     "execution_count": 248,
     "metadata": {},
     "output_type": "execute_result"
    }
   ],
   "source": [
    "rf.score(x_train,y_train)"
   ]
  },
  {
   "cell_type": "code",
   "execution_count": 249,
   "metadata": {},
   "outputs": [
    {
     "data": {
      "text/plain": [
       "0.84"
      ]
     },
     "execution_count": 249,
     "metadata": {},
     "output_type": "execute_result"
    }
   ],
   "source": [
    "rf.score(x_test,y_test)"
   ]
  },
  {
   "cell_type": "code",
   "execution_count": 256,
   "metadata": {},
   "outputs": [],
   "source": [
    "x_test = vectorizer.transform(df_test['text_sum'])"
   ]
  },
  {
   "cell_type": "code",
   "execution_count": 257,
   "metadata": {},
   "outputs": [],
   "source": [
    "test_pred = rf.predict(x_test)"
   ]
  },
  {
   "cell_type": "code",
   "execution_count": 260,
   "metadata": {},
   "outputs": [],
   "source": [
    "#le.inverse_transform(test_pred)"
   ]
  },
  {
   "cell_type": "code",
   "execution_count": null,
   "metadata": {},
   "outputs": [],
   "source": []
  },
  {
   "cell_type": "code",
   "execution_count": null,
   "metadata": {},
   "outputs": [],
   "source": []
  },
  {
   "cell_type": "code",
   "execution_count": null,
   "metadata": {},
   "outputs": [],
   "source": []
  },
  {
   "cell_type": "markdown",
   "metadata": {},
   "source": [
    "#### Predicting dispute resolution"
   ]
  },
  {
   "cell_type": "code",
   "execution_count": 215,
   "metadata": {},
   "outputs": [],
   "source": [
    "#Response \n",
    "le2= LabelEncoder()\n",
    "y_cat2=le2.fit_transform(df['CA_fallback_default_dispute'])"
   ]
  },
  {
   "cell_type": "code",
   "execution_count": 216,
   "metadata": {},
   "outputs": [],
   "source": [
    "from sklearn.model_selection import train_test_split\n",
    "x1_train,x1_test,y1_train,y1_test = train_test_split(tf_idf_arr,y_cat2,test_size=0.1, random_state=42)"
   ]
  },
  {
   "cell_type": "code",
   "execution_count": 214,
   "metadata": {},
   "outputs": [],
   "source": [
    "#df['CA_fallback_default_dispute'].value_counts()"
   ]
  },
  {
   "cell_type": "code",
   "execution_count": 224,
   "metadata": {},
   "outputs": [],
   "source": [
    "from sklearn.ensemble import RandomForestClassifier\n",
    "\n",
    "rf2 =  RandomForestClassifier(bootstrap=True, criterion='gini',\n",
    "                max_depth=3, max_features='auto', max_leaf_nodes=None, \n",
    "                min_impurity_decrease=0.0, min_impurity_split=None,\n",
    "                min_samples_leaf=1, min_samples_split=2,\n",
    "                min_weight_fraction_leaf=0.0, n_estimators=500, n_jobs=-1,\n",
    "                oob_score=False, random_state=0, verbose=0, warm_start=False)"
   ]
  },
  {
   "cell_type": "code",
   "execution_count": 225,
   "metadata": {},
   "outputs": [
    {
     "data": {
      "text/plain": [
       "RandomForestClassifier(bootstrap=True, class_weight=None, criterion='gini',\n",
       "            max_depth=3, max_features='auto', max_leaf_nodes=None,\n",
       "            min_impurity_decrease=0.0, min_impurity_split=None,\n",
       "            min_samples_leaf=1, min_samples_split=2,\n",
       "            min_weight_fraction_leaf=0.0, n_estimators=500, n_jobs=-1,\n",
       "            oob_score=False, random_state=0, verbose=0, warm_start=False)"
      ]
     },
     "execution_count": 225,
     "metadata": {},
     "output_type": "execute_result"
    }
   ],
   "source": [
    "rf2.fit(x1_train,y1_train)"
   ]
  },
  {
   "cell_type": "code",
   "execution_count": 226,
   "metadata": {},
   "outputs": [
    {
     "data": {
      "text/plain": [
       "0.8348214285714286"
      ]
     },
     "execution_count": 226,
     "metadata": {},
     "output_type": "execute_result"
    }
   ],
   "source": [
    "rf2.score(x1_train,y1_train)"
   ]
  },
  {
   "cell_type": "code",
   "execution_count": 227,
   "metadata": {},
   "outputs": [
    {
     "data": {
      "text/plain": [
       "0.76"
      ]
     },
     "execution_count": 227,
     "metadata": {},
     "output_type": "execute_result"
    }
   ],
   "source": [
    "rf2.score(x1_test,y1_test)"
   ]
  },
  {
   "cell_type": "code",
   "execution_count": 277,
   "metadata": {},
   "outputs": [],
   "source": [
    "#le.inverse_transform(rf2.predict(x_test))\n",
    "df_test['CA_fallback_default_dispute'] = p\n",
    "df_test['CA_dispute_resolution ']=p"
   ]
  },
  {
   "cell_type": "code",
   "execution_count": 278,
   "metadata": {},
   "outputs": [],
   "source": [
    "df_test.to_csv('/Users/s0c02nj/Desktop/test_v4.csv')"
   ]
  },
  {
   "cell_type": "code",
   "execution_count": null,
   "metadata": {},
   "outputs": [],
   "source": []
  }
 ],
 "metadata": {
  "kernelspec": {
   "display_name": "Python 3",
   "language": "python",
   "name": "python3"
  },
  "language_info": {
   "codemirror_mode": {
    "name": "ipython",
    "version": 3
   },
   "file_extension": ".py",
   "mimetype": "text/x-python",
   "name": "python",
   "nbconvert_exporter": "python",
   "pygments_lexer": "ipython3",
   "version": "3.6.7"
  }
 },
 "nbformat": 4,
 "nbformat_minor": 2
}

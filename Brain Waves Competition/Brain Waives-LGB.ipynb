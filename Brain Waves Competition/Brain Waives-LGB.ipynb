{
 "cells": [
  {
   "cell_type": "code",
   "execution_count": 1,
   "metadata": {},
   "outputs": [
    {
     "name": "stderr",
     "output_type": "stream",
     "text": [
      "/Users/s0c02nj/anaconda2/lib/python2.7/site-packages/h5py/__init__.py:36: FutureWarning: Conversion of the second argument of issubdtype from `float` to `np.floating` is deprecated. In future, it will be treated as `np.float64 == np.dtype(float).type`.\n",
      "  from ._conv import register_converters as _register_converters\n",
      "Using TensorFlow backend.\n"
     ]
    }
   ],
   "source": [
    "import numpy as np\n",
    "import pandas as pd\n",
    "from sklearn.linear_model import Ridge\n",
    "import numpy as np\n",
    "import sklearn.datasets\n",
    "#import sklearn.cross_validation\n",
    "import pandas as pd\n",
    "import matplotlib.pyplot as plt\n",
    "from sklearn.model_selection import cross_val_score\n",
    "from sklearn.decomposition import PCA\n",
    "from sklearn.tree import DecisionTreeClassifier\n",
    "from sklearn.neighbors import KNeighborsRegressor\n",
    "from sklearn import ensemble\n",
    "import time\n",
    "import pickle\n",
    "import random\n",
    "from keras.layers import Dense, Flatten, LSTM, Conv1D, MaxPooling1D, Dropout, Activation\n",
    "from keras.layers.embeddings import Embedding\n",
    "import keras \n",
    "from keras import backend as K\n",
    "from keras.preprocessing.text import Tokenizer\n",
    "from keras.preprocessing.sequence import pad_sequences\n",
    "from keras.preprocessing.text import one_hot\n",
    "from keras.models import Sequential\n",
    "from keras.layers import Dense\n",
    "from keras.layers import Flatten\n",
    "from keras.layers.embeddings import Embedding\n",
    "from sklearn.preprocessing import OneHotEncoder\n",
    "import re\n",
    "from keras.layers import LSTM, Activation, Dense, Dropout, Input, Embedding,Bidirectional\n",
    "from keras.optimizers import RMSprop\n",
    "from keras.preprocessing.text import Tokenizer\n",
    "from keras.preprocessing import sequence\n",
    "from keras.utils import to_categorical\n",
    "from keras.callbacks import EarlyStopping\n",
    "from keras.models import Model\n",
    "from keras.optimizers import Adam\n",
    "from sklearn.preprocessing import OneHotEncoder\n",
    "from keras.layers import RepeatVector\n",
    "from keras.layers import Permute\n",
    "from keras.layers import merge\n",
    "from keras.layers import Lambda\n",
    "from keras.layers import multiply\n",
    "from keras.layers import concatenate\n",
    "from keras.layers import Convolution1D\n",
    "from keras.layers import MaxPooling1D\n",
    "from keras.layers import GlobalAveragePooling1D\n",
    "from keras.layers import GlobalMaxPooling1D\n",
    "from sklearn import preprocessing\n",
    "import tensorflow as tf\n",
    "from keras.layers import Dense, Flatten, LSTM, Conv1D, MaxPooling1D, Dropout, Activation\n",
    "from keras.layers.embeddings import Embedding\n",
    "import keras \n",
    "from keras import backend as K\n",
    "from keras.preprocessing.text import Tokenizer\n",
    "from keras.preprocessing.sequence import pad_sequences\n",
    "from keras.preprocessing.text import one_hot\n",
    "from keras.models import Sequential\n",
    "from keras.layers import Dense\n",
    "from keras.layers import Flatten\n",
    "from keras.layers.embeddings import Embedding\n",
    "from sklearn.preprocessing import OneHotEncoder\n",
    "from keras.layers import Merge\n",
    "from keras.layers import LSTM, Activation, Dense, Dropout, Input, Embedding,Bidirectional\n",
    "from keras.optimizers import RMSprop\n",
    "from keras.preprocessing.text import Tokenizer\n",
    "from keras.preprocessing import sequence\n",
    "from keras.utils import to_categorical\n",
    "from keras.callbacks import EarlyStopping\n",
    "from keras.models import Model\n",
    "from keras.optimizers import Adam\n",
    "from sklearn.preprocessing import OneHotEncoder\n",
    "from keras.layers import RepeatVector\n",
    "from keras.layers import Permute\n",
    "from keras.layers import merge\n",
    "from keras.layers import Lambda\n",
    "from keras.layers import multiply\n",
    "from keras.layers import concatenate\n",
    "from keras.layers import Convolution1D\n",
    "from keras.layers import MaxPooling1D\n",
    "from keras.layers import GlobalAveragePooling1D\n",
    "from keras.layers import GlobalMaxPooling1D\n",
    "\n",
    "import tensorflow as tf\n",
    "import re\n",
    "import re\n",
    "from sklearn.model_selection import train_test_split\n",
    "from sklearn.preprocessing import StandardScaler"
   ]
  },
  {
   "cell_type": "code",
   "execution_count": 2,
   "metadata": {},
   "outputs": [],
   "source": [
    "train=pd.read_csv('/Users/s0c02nj/Desktop/c3cc8568-0-dataset/train.csv')\n",
    "test=pd.read_csv('/Users/s0c02nj/Desktop/c3cc8568-0-dataset/test.csv')\n",
    "sample_submission=pd.read_csv('/Users/s0c02nj/Desktop/c3cc8568-0-dataset/sample_submission.csv')"
   ]
  },
  {
   "cell_type": "code",
   "execution_count": 3,
   "metadata": {},
   "outputs": [
    {
     "data": {
      "text/html": [
       "<div>\n",
       "<style scoped>\n",
       "    .dataframe tbody tr th:only-of-type {\n",
       "        vertical-align: middle;\n",
       "    }\n",
       "\n",
       "    .dataframe tbody tr th {\n",
       "        vertical-align: top;\n",
       "    }\n",
       "\n",
       "    .dataframe thead th {\n",
       "        text-align: right;\n",
       "    }\n",
       "</style>\n",
       "<table border=\"1\" class=\"dataframe\">\n",
       "  <thead>\n",
       "    <tr style=\"text-align: right;\">\n",
       "      <th></th>\n",
       "      <th>Complaint-ID</th>\n",
       "      <th>Date-received</th>\n",
       "      <th>Transaction-Type</th>\n",
       "      <th>Complaint-reason</th>\n",
       "      <th>Company-response</th>\n",
       "      <th>Date-sent-to-company</th>\n",
       "      <th>Complaint-Status</th>\n",
       "      <th>Consumer-disputes</th>\n",
       "      <th>Consumer-complaint-summary</th>\n",
       "    </tr>\n",
       "  </thead>\n",
       "  <tbody>\n",
       "    <tr>\n",
       "      <th>0</th>\n",
       "      <td>Tr-1</td>\n",
       "      <td>11/11/2015</td>\n",
       "      <td>Mortgage</td>\n",
       "      <td>Loan servicing, payments, escrow account</td>\n",
       "      <td>NaN</td>\n",
       "      <td>11/11/2015</td>\n",
       "      <td>Closed with explanation</td>\n",
       "      <td>Yes</td>\n",
       "      <td>Seterus, Inc a déposé un faux rapport auprès d...</td>\n",
       "    </tr>\n",
       "    <tr>\n",
       "      <th>1</th>\n",
       "      <td>Tr-2</td>\n",
       "      <td>7/7/2015</td>\n",
       "      <td>Credit reporting</td>\n",
       "      <td>Incorrect information on credit report</td>\n",
       "      <td>Company chooses not to provide a public response</td>\n",
       "      <td>7/7/2015</td>\n",
       "      <td>Closed with non-monetary relief</td>\n",
       "      <td>No</td>\n",
       "      <td>XX / XX / XXXX La requête en faillite n ° XXXX...</td>\n",
       "    </tr>\n",
       "    <tr>\n",
       "      <th>2</th>\n",
       "      <td>Tr-3</td>\n",
       "      <td>5/7/2015</td>\n",
       "      <td>Bank account or service</td>\n",
       "      <td>Using a debit or ATM card</td>\n",
       "      <td>NaN</td>\n",
       "      <td>5/7/2015</td>\n",
       "      <td>Closed with explanation</td>\n",
       "      <td>No</td>\n",
       "      <td>El XXXX / XXXX / 15, estaba preparando el vuel...</td>\n",
       "    </tr>\n",
       "    <tr>\n",
       "      <th>3</th>\n",
       "      <td>Tr-4</td>\n",
       "      <td>11/12/2016</td>\n",
       "      <td>Debt collection</td>\n",
       "      <td>Cont'd attempts collect debt not owed</td>\n",
       "      <td>Company believes it acted appropriately as aut...</td>\n",
       "      <td>11/12/2016</td>\n",
       "      <td>Closed with explanation</td>\n",
       "      <td>No</td>\n",
       "      <td>The loan was paid in XXXX XXXX. In XXXX, 4 yea...</td>\n",
       "    </tr>\n",
       "    <tr>\n",
       "      <th>4</th>\n",
       "      <td>Tr-5</td>\n",
       "      <td>9/29/2016</td>\n",
       "      <td>Credit card</td>\n",
       "      <td>Payoff process</td>\n",
       "      <td>Company has responded to the consumer and the ...</td>\n",
       "      <td>9/29/2016</td>\n",
       "      <td>Closed with explanation</td>\n",
       "      <td>No</td>\n",
       "      <td>J'ai obtenu un compte de crédit de soins pour ...</td>\n",
       "    </tr>\n",
       "  </tbody>\n",
       "</table>\n",
       "</div>"
      ],
      "text/plain": [
       "  Complaint-ID Date-received         Transaction-Type  \\\n",
       "0         Tr-1    11/11/2015                 Mortgage   \n",
       "1         Tr-2      7/7/2015         Credit reporting   \n",
       "2         Tr-3      5/7/2015  Bank account or service   \n",
       "3         Tr-4    11/12/2016          Debt collection   \n",
       "4         Tr-5     9/29/2016              Credit card   \n",
       "\n",
       "                           Complaint-reason  \\\n",
       "0  Loan servicing, payments, escrow account   \n",
       "1    Incorrect information on credit report   \n",
       "2                 Using a debit or ATM card   \n",
       "3     Cont'd attempts collect debt not owed   \n",
       "4                            Payoff process   \n",
       "\n",
       "                                    Company-response Date-sent-to-company  \\\n",
       "0                                                NaN           11/11/2015   \n",
       "1   Company chooses not to provide a public response             7/7/2015   \n",
       "2                                                NaN             5/7/2015   \n",
       "3  Company believes it acted appropriately as aut...           11/12/2016   \n",
       "4  Company has responded to the consumer and the ...            9/29/2016   \n",
       "\n",
       "                  Complaint-Status Consumer-disputes  \\\n",
       "0          Closed with explanation               Yes   \n",
       "1  Closed with non-monetary relief                No   \n",
       "2          Closed with explanation                No   \n",
       "3          Closed with explanation                No   \n",
       "4          Closed with explanation                No   \n",
       "\n",
       "                          Consumer-complaint-summary  \n",
       "0  Seterus, Inc a déposé un faux rapport auprès d...  \n",
       "1  XX / XX / XXXX La requête en faillite n ° XXXX...  \n",
       "2  El XXXX / XXXX / 15, estaba preparando el vuel...  \n",
       "3  The loan was paid in XXXX XXXX. In XXXX, 4 yea...  \n",
       "4  J'ai obtenu un compte de crédit de soins pour ...  "
      ]
     },
     "execution_count": 3,
     "metadata": {},
     "output_type": "execute_result"
    }
   ],
   "source": [
    "train.head()"
   ]
  },
  {
   "cell_type": "code",
   "execution_count": 4,
   "metadata": {},
   "outputs": [
    {
     "data": {
      "text/plain": [
       "(43266, 9)"
      ]
     },
     "execution_count": 4,
     "metadata": {},
     "output_type": "execute_result"
    }
   ],
   "source": [
    "train.shape"
   ]
  },
  {
   "cell_type": "code",
   "execution_count": 5,
   "metadata": {},
   "outputs": [
    {
     "data": {
      "text/plain": [
       "43266"
      ]
     },
     "execution_count": 5,
     "metadata": {},
     "output_type": "execute_result"
    }
   ],
   "source": [
    "len(train['Complaint-ID'].unique())"
   ]
  },
  {
   "cell_type": "code",
   "execution_count": 6,
   "metadata": {},
   "outputs": [
    {
     "data": {
      "text/plain": [
       "array(['Mortgage', 'Credit reporting', 'Bank account or service',\n",
       "       'Debt collection', 'Credit card', 'Consumer Loan',\n",
       "       'Credit card or prepaid card',\n",
       "       'Credit reporting, credit repair services, or other personal consumer reports',\n",
       "       'Student loan', 'Payday loan', 'Vehicle loan or lease',\n",
       "       'Prepaid card', 'Payday loan, title loan, or personal loan',\n",
       "       'Money transfer, virtual currency, or money service',\n",
       "       'Checking or savings account', 'Other financial service',\n",
       "       'Money transfers', 'Virtual currency'], dtype=object)"
      ]
     },
     "execution_count": 6,
     "metadata": {},
     "output_type": "execute_result"
    }
   ],
   "source": [
    "train['Transaction-Type'].unique()"
   ]
  },
  {
   "cell_type": "code",
   "execution_count": 7,
   "metadata": {},
   "outputs": [
    {
     "data": {
      "text/plain": [
       "0    Loan servicing, payments, escrow account\n",
       "1      Incorrect information on credit report\n",
       "2                   Using a debit or ATM card\n",
       "3       Cont'd attempts collect debt not owed\n",
       "4                              Payoff process\n",
       "Name: Complaint-reason, dtype: object"
      ]
     },
     "execution_count": 7,
     "metadata": {},
     "output_type": "execute_result"
    }
   ],
   "source": [
    "train['Complaint-reason'].head()"
   ]
  },
  {
   "cell_type": "code",
   "execution_count": 8,
   "metadata": {},
   "outputs": [
    {
     "data": {
      "text/plain": [
       "5"
      ]
     },
     "execution_count": 8,
     "metadata": {},
     "output_type": "execute_result"
    }
   ],
   "source": [
    "len(train['Complaint-reason'].head())"
   ]
  },
  {
   "cell_type": "code",
   "execution_count": 9,
   "metadata": {},
   "outputs": [
    {
     "data": {
      "text/plain": [
       "array([nan, 'Company chooses not to provide a public response',\n",
       "       'Company believes it acted appropriately as authorized by contract or law',\n",
       "       'Company has responded to the consumer and the CFPB and chooses not to provide a public response',\n",
       "       'Company disputes the facts presented in the complaint',\n",
       "       'Company believes complaint is the result of an isolated error',\n",
       "       'Company believes the complaint is the result of a misunderstanding',\n",
       "       'Company believes complaint represents an opportunity for improvement to better serve consumers',\n",
       "       'Company believes complaint caused principally by actions of third party outside the control or direction of the company',\n",
       "       \"Company can't verify or dispute the facts in the complaint\",\n",
       "       'Company believes complaint relates to a discontinued policy or procedure'],\n",
       "      dtype=object)"
      ]
     },
     "execution_count": 9,
     "metadata": {},
     "output_type": "execute_result"
    }
   ],
   "source": [
    "train['Company-response'].unique()"
   ]
  },
  {
   "cell_type": "code",
   "execution_count": 10,
   "metadata": {},
   "outputs": [
    {
     "data": {
      "text/plain": [
       "11"
      ]
     },
     "execution_count": 10,
     "metadata": {},
     "output_type": "execute_result"
    }
   ],
   "source": [
    "len(train['Company-response'].unique())"
   ]
  },
  {
   "cell_type": "code",
   "execution_count": 11,
   "metadata": {},
   "outputs": [
    {
     "data": {
      "text/plain": [
       "array(['Yes', 'No', nan], dtype=object)"
      ]
     },
     "execution_count": 11,
     "metadata": {},
     "output_type": "execute_result"
    }
   ],
   "source": [
    "train['Consumer-disputes'].unique()"
   ]
  },
  {
   "cell_type": "code",
   "execution_count": 12,
   "metadata": {},
   "outputs": [
    {
     "data": {
      "text/plain": [
       "43022"
      ]
     },
     "execution_count": 12,
     "metadata": {},
     "output_type": "execute_result"
    }
   ],
   "source": [
    "len(train['Consumer-complaint-summary'].unique())"
   ]
  },
  {
   "cell_type": "code",
   "execution_count": 13,
   "metadata": {},
   "outputs": [
    {
     "data": {
      "text/plain": [
       "Closed with explanation            34300\n",
       "Closed with non-monetary relief     5018\n",
       "Closed with monetary relief         2818\n",
       "Closed                               809\n",
       "Untimely response                    321\n",
       "Name: Complaint-Status, dtype: int64"
      ]
     },
     "execution_count": 13,
     "metadata": {},
     "output_type": "execute_result"
    }
   ],
   "source": [
    "#Distribution of the classes\n",
    "train['Complaint-Status'].value_counts()"
   ]
  },
  {
   "cell_type": "code",
   "execution_count": 14,
   "metadata": {},
   "outputs": [
    {
     "data": {
      "text/plain": [
       "Closed with explanation            7103\n",
       "Closed with non-monetary relief     356\n",
       "Closed with monetary relief         307\n",
       "Closed                              158\n",
       "Untimely response                    26\n",
       "Name: Complaint-Status, dtype: int64"
      ]
     },
     "execution_count": 14,
     "metadata": {},
     "output_type": "execute_result"
    }
   ],
   "source": [
    "train[train['Transaction-Type']=='Mortgage']['Complaint-Status'].value_counts()"
   ]
  },
  {
   "cell_type": "code",
   "execution_count": 15,
   "metadata": {},
   "outputs": [
    {
     "data": {
      "text/plain": [
       "Closed with explanation            145\n",
       "Closed with monetary relief        116\n",
       "Closed with non-monetary relief     47\n",
       "Name: Complaint-Status, dtype: int64"
      ]
     },
     "execution_count": 15,
     "metadata": {},
     "output_type": "execute_result"
    }
   ],
   "source": [
    "train[train['Transaction-Type']=='Prepaid card']['Complaint-Status'].value_counts()"
   ]
  },
  {
   "cell_type": "code",
   "execution_count": null,
   "metadata": {},
   "outputs": [],
   "source": []
  },
  {
   "cell_type": "code",
   "execution_count": null,
   "metadata": {},
   "outputs": [],
   "source": []
  },
  {
   "cell_type": "markdown",
   "metadata": {},
   "source": [
    " "
   ]
  },
  {
   "cell_type": "markdown",
   "metadata": {},
   "source": [
    "#Test"
   ]
  },
  {
   "cell_type": "code",
   "execution_count": 16,
   "metadata": {},
   "outputs": [
    {
     "data": {
      "text/html": [
       "<div>\n",
       "<style scoped>\n",
       "    .dataframe tbody tr th:only-of-type {\n",
       "        vertical-align: middle;\n",
       "    }\n",
       "\n",
       "    .dataframe tbody tr th {\n",
       "        vertical-align: top;\n",
       "    }\n",
       "\n",
       "    .dataframe thead th {\n",
       "        text-align: right;\n",
       "    }\n",
       "</style>\n",
       "<table border=\"1\" class=\"dataframe\">\n",
       "  <thead>\n",
       "    <tr style=\"text-align: right;\">\n",
       "      <th></th>\n",
       "      <th>Complaint-ID</th>\n",
       "      <th>Date-received</th>\n",
       "      <th>Transaction-Type</th>\n",
       "      <th>Complaint-reason</th>\n",
       "      <th>Company-response</th>\n",
       "      <th>Date-sent-to-company</th>\n",
       "      <th>Consumer-disputes</th>\n",
       "      <th>Consumer-complaint-summary</th>\n",
       "    </tr>\n",
       "  </thead>\n",
       "  <tbody>\n",
       "    <tr>\n",
       "      <th>0</th>\n",
       "      <td>Te-1</td>\n",
       "      <td>8/18/2016</td>\n",
       "      <td>Bank account or service</td>\n",
       "      <td>Account opening, closing, or management</td>\n",
       "      <td>Company has responded to the consumer and the ...</td>\n",
       "      <td>8/18/2016</td>\n",
       "      <td>No</td>\n",
       "      <td>XXXX / XXXX / 16 I called Citibank to open a c...</td>\n",
       "    </tr>\n",
       "    <tr>\n",
       "      <th>1</th>\n",
       "      <td>Te-2</td>\n",
       "      <td>4/18/2016</td>\n",
       "      <td>Debt collection</td>\n",
       "      <td>Communication tactics</td>\n",
       "      <td>Company believes it acted appropriately as aut...</td>\n",
       "      <td>4/20/2016</td>\n",
       "      <td>No</td>\n",
       "      <td>I'm struggling financially. I called and I off...</td>\n",
       "    </tr>\n",
       "    <tr>\n",
       "      <th>2</th>\n",
       "      <td>Te-3</td>\n",
       "      <td>3/23/2016</td>\n",
       "      <td>Credit reporting</td>\n",
       "      <td>Incorrect information on credit report</td>\n",
       "      <td>NaN</td>\n",
       "      <td>3/23/2016</td>\n",
       "      <td>No</td>\n",
       "      <td>In XXXX of 2015, an automatic payment was conf...</td>\n",
       "    </tr>\n",
       "    <tr>\n",
       "      <th>3</th>\n",
       "      <td>Te-4</td>\n",
       "      <td>6/26/2017</td>\n",
       "      <td>Student loan</td>\n",
       "      <td>Dealing with your lender or servicer</td>\n",
       "      <td>NaN</td>\n",
       "      <td>6/26/2017</td>\n",
       "      <td>NaN</td>\n",
       "      <td>I submitted a request to XXXX, which is my cur...</td>\n",
       "    </tr>\n",
       "    <tr>\n",
       "      <th>4</th>\n",
       "      <td>Te-5</td>\n",
       "      <td>5/13/2016</td>\n",
       "      <td>Credit reporting</td>\n",
       "      <td>Incorrect information on credit report</td>\n",
       "      <td>Company has responded to the consumer and the ...</td>\n",
       "      <td>5/13/2016</td>\n",
       "      <td>No</td>\n",
       "      <td>A state tax lien was filed against me XXXX / X...</td>\n",
       "    </tr>\n",
       "  </tbody>\n",
       "</table>\n",
       "</div>"
      ],
      "text/plain": [
       "  Complaint-ID Date-received         Transaction-Type  \\\n",
       "0         Te-1     8/18/2016  Bank account or service   \n",
       "1         Te-2     4/18/2016          Debt collection   \n",
       "2         Te-3     3/23/2016         Credit reporting   \n",
       "3         Te-4     6/26/2017             Student loan   \n",
       "4         Te-5     5/13/2016         Credit reporting   \n",
       "\n",
       "                          Complaint-reason  \\\n",
       "0  Account opening, closing, or management   \n",
       "1                    Communication tactics   \n",
       "2   Incorrect information on credit report   \n",
       "3     Dealing with your lender or servicer   \n",
       "4   Incorrect information on credit report   \n",
       "\n",
       "                                    Company-response Date-sent-to-company  \\\n",
       "0  Company has responded to the consumer and the ...            8/18/2016   \n",
       "1  Company believes it acted appropriately as aut...            4/20/2016   \n",
       "2                                                NaN            3/23/2016   \n",
       "3                                                NaN            6/26/2017   \n",
       "4  Company has responded to the consumer and the ...            5/13/2016   \n",
       "\n",
       "  Consumer-disputes                         Consumer-complaint-summary  \n",
       "0                No  XXXX / XXXX / 16 I called Citibank to open a c...  \n",
       "1                No  I'm struggling financially. I called and I off...  \n",
       "2                No  In XXXX of 2015, an automatic payment was conf...  \n",
       "3               NaN  I submitted a request to XXXX, which is my cur...  \n",
       "4                No  A state tax lien was filed against me XXXX / X...  "
      ]
     },
     "execution_count": 16,
     "metadata": {},
     "output_type": "execute_result"
    }
   ],
   "source": [
    "test.head()"
   ]
  },
  {
   "cell_type": "code",
   "execution_count": 17,
   "metadata": {},
   "outputs": [
    {
     "data": {
      "text/html": [
       "<div>\n",
       "<style scoped>\n",
       "    .dataframe tbody tr th:only-of-type {\n",
       "        vertical-align: middle;\n",
       "    }\n",
       "\n",
       "    .dataframe tbody tr th {\n",
       "        vertical-align: top;\n",
       "    }\n",
       "\n",
       "    .dataframe thead th {\n",
       "        text-align: right;\n",
       "    }\n",
       "</style>\n",
       "<table border=\"1\" class=\"dataframe\">\n",
       "  <thead>\n",
       "    <tr style=\"text-align: right;\">\n",
       "      <th></th>\n",
       "      <th>Complaint-ID</th>\n",
       "      <th>Date-received</th>\n",
       "      <th>Transaction-Type</th>\n",
       "      <th>Complaint-reason</th>\n",
       "      <th>Company-response</th>\n",
       "      <th>Date-sent-to-company</th>\n",
       "      <th>Consumer-disputes</th>\n",
       "      <th>Consumer-complaint-summary</th>\n",
       "    </tr>\n",
       "  </thead>\n",
       "  <tbody>\n",
       "    <tr>\n",
       "      <th>0</th>\n",
       "      <td>Tr-1</td>\n",
       "      <td>11/11/2015</td>\n",
       "      <td>Mortgage</td>\n",
       "      <td>Loan servicing, payments, escrow account</td>\n",
       "      <td>NaN</td>\n",
       "      <td>11/11/2015</td>\n",
       "      <td>Yes</td>\n",
       "      <td>Seterus, Inc a déposé un faux rapport auprès d...</td>\n",
       "    </tr>\n",
       "    <tr>\n",
       "      <th>1</th>\n",
       "      <td>Tr-2</td>\n",
       "      <td>7/7/2015</td>\n",
       "      <td>Credit reporting</td>\n",
       "      <td>Incorrect information on credit report</td>\n",
       "      <td>Company chooses not to provide a public response</td>\n",
       "      <td>7/7/2015</td>\n",
       "      <td>No</td>\n",
       "      <td>XX / XX / XXXX La requête en faillite n ° XXXX...</td>\n",
       "    </tr>\n",
       "    <tr>\n",
       "      <th>2</th>\n",
       "      <td>Tr-3</td>\n",
       "      <td>5/7/2015</td>\n",
       "      <td>Bank account or service</td>\n",
       "      <td>Using a debit or ATM card</td>\n",
       "      <td>NaN</td>\n",
       "      <td>5/7/2015</td>\n",
       "      <td>No</td>\n",
       "      <td>El XXXX / XXXX / 15, estaba preparando el vuel...</td>\n",
       "    </tr>\n",
       "    <tr>\n",
       "      <th>3</th>\n",
       "      <td>Tr-4</td>\n",
       "      <td>11/12/2016</td>\n",
       "      <td>Debt collection</td>\n",
       "      <td>Cont'd attempts collect debt not owed</td>\n",
       "      <td>Company believes it acted appropriately as aut...</td>\n",
       "      <td>11/12/2016</td>\n",
       "      <td>No</td>\n",
       "      <td>The loan was paid in XXXX XXXX. In XXXX, 4 yea...</td>\n",
       "    </tr>\n",
       "    <tr>\n",
       "      <th>4</th>\n",
       "      <td>Tr-5</td>\n",
       "      <td>9/29/2016</td>\n",
       "      <td>Credit card</td>\n",
       "      <td>Payoff process</td>\n",
       "      <td>Company has responded to the consumer and the ...</td>\n",
       "      <td>9/29/2016</td>\n",
       "      <td>No</td>\n",
       "      <td>J'ai obtenu un compte de crédit de soins pour ...</td>\n",
       "    </tr>\n",
       "  </tbody>\n",
       "</table>\n",
       "</div>"
      ],
      "text/plain": [
       "  Complaint-ID Date-received         Transaction-Type  \\\n",
       "0         Tr-1    11/11/2015                 Mortgage   \n",
       "1         Tr-2      7/7/2015         Credit reporting   \n",
       "2         Tr-3      5/7/2015  Bank account or service   \n",
       "3         Tr-4    11/12/2016          Debt collection   \n",
       "4         Tr-5     9/29/2016              Credit card   \n",
       "\n",
       "                           Complaint-reason  \\\n",
       "0  Loan servicing, payments, escrow account   \n",
       "1    Incorrect information on credit report   \n",
       "2                 Using a debit or ATM card   \n",
       "3     Cont'd attempts collect debt not owed   \n",
       "4                            Payoff process   \n",
       "\n",
       "                                    Company-response Date-sent-to-company  \\\n",
       "0                                                NaN           11/11/2015   \n",
       "1   Company chooses not to provide a public response             7/7/2015   \n",
       "2                                                NaN             5/7/2015   \n",
       "3  Company believes it acted appropriately as aut...           11/12/2016   \n",
       "4  Company has responded to the consumer and the ...            9/29/2016   \n",
       "\n",
       "  Consumer-disputes                         Consumer-complaint-summary  \n",
       "0               Yes  Seterus, Inc a déposé un faux rapport auprès d...  \n",
       "1                No  XX / XX / XXXX La requête en faillite n ° XXXX...  \n",
       "2                No  El XXXX / XXXX / 15, estaba preparando el vuel...  \n",
       "3                No  The loan was paid in XXXX XXXX. In XXXX, 4 yea...  \n",
       "4                No  J'ai obtenu un compte de crédit de soins pour ...  "
      ]
     },
     "execution_count": 17,
     "metadata": {},
     "output_type": "execute_result"
    }
   ],
   "source": [
    "train_copy=train.drop(['Complaint-Status'],axis=1)\n",
    "train_copy.head()"
   ]
  },
  {
   "cell_type": "code",
   "execution_count": 18,
   "metadata": {},
   "outputs": [
    {
     "data": {
      "text/plain": [
       "array(['Bank account or service', 'Debt collection', 'Credit reporting',\n",
       "       'Student loan', 'Consumer Loan', 'Credit card or prepaid card',\n",
       "       'Mortgage', 'Credit card',\n",
       "       'Credit reporting, credit repair services, or other personal consumer reports',\n",
       "       'Payday loan', 'Checking or savings account',\n",
       "       'Payday loan, title loan, or personal loan',\n",
       "       'Vehicle loan or lease', 'Money transfers',\n",
       "       'Money transfer, virtual currency, or money service',\n",
       "       'Prepaid card', 'Other financial service', 'Virtual currency'],\n",
       "      dtype=object)"
      ]
     },
     "execution_count": 18,
     "metadata": {},
     "output_type": "execute_result"
    }
   ],
   "source": [
    "test['Transaction-Type'].unique()"
   ]
  },
  {
   "cell_type": "code",
   "execution_count": 19,
   "metadata": {},
   "outputs": [],
   "source": [
    "#Intersection with Test-----> Transaction-Type"
   ]
  },
  {
   "cell_type": "code",
   "execution_count": 20,
   "metadata": {},
   "outputs": [
    {
     "data": {
      "text/plain": [
       "set()"
      ]
     },
     "execution_count": 20,
     "metadata": {},
     "output_type": "execute_result"
    }
   ],
   "source": [
    "set(test['Transaction-Type'].unique())-(set(train['Transaction-Type'].unique()))"
   ]
  },
  {
   "cell_type": "code",
   "execution_count": 21,
   "metadata": {},
   "outputs": [],
   "source": [
    "#Intersection with Test---->  Company-response"
   ]
  },
  {
   "cell_type": "code",
   "execution_count": 22,
   "metadata": {},
   "outputs": [
    {
     "data": {
      "text/plain": [
       "set()"
      ]
     },
     "execution_count": 22,
     "metadata": {},
     "output_type": "execute_result"
    }
   ],
   "source": [
    "set(test['Company-response'].unique())-(set(train['Company-response'].unique()))"
   ]
  },
  {
   "cell_type": "code",
   "execution_count": 23,
   "metadata": {},
   "outputs": [
    {
     "name": "stdout",
     "output_type": "stream",
     "text": [
      "43266\n",
      "18543\n"
     ]
    }
   ],
   "source": [
    "#Length of the train and test database\n",
    "print len(train)\n",
    "print len(test)"
   ]
  },
  {
   "cell_type": "code",
   "execution_count": 24,
   "metadata": {},
   "outputs": [
    {
     "data": {
      "text/html": [
       "<div>\n",
       "<style scoped>\n",
       "    .dataframe tbody tr th:only-of-type {\n",
       "        vertical-align: middle;\n",
       "    }\n",
       "\n",
       "    .dataframe tbody tr th {\n",
       "        vertical-align: top;\n",
       "    }\n",
       "\n",
       "    .dataframe thead th {\n",
       "        text-align: right;\n",
       "    }\n",
       "</style>\n",
       "<table border=\"1\" class=\"dataframe\">\n",
       "  <thead>\n",
       "    <tr style=\"text-align: right;\">\n",
       "      <th></th>\n",
       "      <th>Complaint-ID</th>\n",
       "      <th>Date-received</th>\n",
       "      <th>Transaction-Type</th>\n",
       "      <th>Complaint-reason</th>\n",
       "      <th>Company-response</th>\n",
       "      <th>Date-sent-to-company</th>\n",
       "      <th>Consumer-disputes</th>\n",
       "      <th>Consumer-complaint-summary</th>\n",
       "    </tr>\n",
       "  </thead>\n",
       "  <tbody>\n",
       "    <tr>\n",
       "      <th>0</th>\n",
       "      <td>Tr-1</td>\n",
       "      <td>11/11/2015</td>\n",
       "      <td>Mortgage</td>\n",
       "      <td>Loan servicing, payments, escrow account</td>\n",
       "      <td>NaN</td>\n",
       "      <td>11/11/2015</td>\n",
       "      <td>Yes</td>\n",
       "      <td>Seterus, Inc a déposé un faux rapport auprès d...</td>\n",
       "    </tr>\n",
       "    <tr>\n",
       "      <th>1</th>\n",
       "      <td>Tr-2</td>\n",
       "      <td>7/7/2015</td>\n",
       "      <td>Credit reporting</td>\n",
       "      <td>Incorrect information on credit report</td>\n",
       "      <td>Company chooses not to provide a public response</td>\n",
       "      <td>7/7/2015</td>\n",
       "      <td>No</td>\n",
       "      <td>XX / XX / XXXX La requête en faillite n ° XXXX...</td>\n",
       "    </tr>\n",
       "    <tr>\n",
       "      <th>2</th>\n",
       "      <td>Tr-3</td>\n",
       "      <td>5/7/2015</td>\n",
       "      <td>Bank account or service</td>\n",
       "      <td>Using a debit or ATM card</td>\n",
       "      <td>NaN</td>\n",
       "      <td>5/7/2015</td>\n",
       "      <td>No</td>\n",
       "      <td>El XXXX / XXXX / 15, estaba preparando el vuel...</td>\n",
       "    </tr>\n",
       "    <tr>\n",
       "      <th>3</th>\n",
       "      <td>Tr-4</td>\n",
       "      <td>11/12/2016</td>\n",
       "      <td>Debt collection</td>\n",
       "      <td>Cont'd attempts collect debt not owed</td>\n",
       "      <td>Company believes it acted appropriately as aut...</td>\n",
       "      <td>11/12/2016</td>\n",
       "      <td>No</td>\n",
       "      <td>The loan was paid in XXXX XXXX. In XXXX, 4 yea...</td>\n",
       "    </tr>\n",
       "    <tr>\n",
       "      <th>4</th>\n",
       "      <td>Tr-5</td>\n",
       "      <td>9/29/2016</td>\n",
       "      <td>Credit card</td>\n",
       "      <td>Payoff process</td>\n",
       "      <td>Company has responded to the consumer and the ...</td>\n",
       "      <td>9/29/2016</td>\n",
       "      <td>No</td>\n",
       "      <td>J'ai obtenu un compte de crédit de soins pour ...</td>\n",
       "    </tr>\n",
       "  </tbody>\n",
       "</table>\n",
       "</div>"
      ],
      "text/plain": [
       "  Complaint-ID Date-received         Transaction-Type  \\\n",
       "0         Tr-1    11/11/2015                 Mortgage   \n",
       "1         Tr-2      7/7/2015         Credit reporting   \n",
       "2         Tr-3      5/7/2015  Bank account or service   \n",
       "3         Tr-4    11/12/2016          Debt collection   \n",
       "4         Tr-5     9/29/2016              Credit card   \n",
       "\n",
       "                           Complaint-reason  \\\n",
       "0  Loan servicing, payments, escrow account   \n",
       "1    Incorrect information on credit report   \n",
       "2                 Using a debit or ATM card   \n",
       "3     Cont'd attempts collect debt not owed   \n",
       "4                            Payoff process   \n",
       "\n",
       "                                    Company-response Date-sent-to-company  \\\n",
       "0                                                NaN           11/11/2015   \n",
       "1   Company chooses not to provide a public response             7/7/2015   \n",
       "2                                                NaN             5/7/2015   \n",
       "3  Company believes it acted appropriately as aut...           11/12/2016   \n",
       "4  Company has responded to the consumer and the ...            9/29/2016   \n",
       "\n",
       "  Consumer-disputes                         Consumer-complaint-summary  \n",
       "0               Yes  Seterus, Inc a déposé un faux rapport auprès d...  \n",
       "1                No  XX / XX / XXXX La requête en faillite n ° XXXX...  \n",
       "2                No  El XXXX / XXXX / 15, estaba preparando el vuel...  \n",
       "3                No  The loan was paid in XXXX XXXX. In XXXX, 4 yea...  \n",
       "4                No  J'ai obtenu un compte de crédit de soins pour ...  "
      ]
     },
     "execution_count": 24,
     "metadata": {},
     "output_type": "execute_result"
    }
   ],
   "source": [
    "#Joining Available Columns in Test and Train for Pre-processing\n",
    "join=train_copy.append(test,ignore_index=True)\n",
    "join.head()"
   ]
  },
  {
   "cell_type": "code",
   "execution_count": 25,
   "metadata": {},
   "outputs": [],
   "source": [
    "#Date Time\n",
    "join['Date-received'] =  pd.to_datetime(join['Date-received'], format='%m/%d/%Y')\n",
    "join['Date-sent-to-company'] =  pd.to_datetime(join['Date-sent-to-company'], format='%m/%d/%Y')"
   ]
  },
  {
   "cell_type": "code",
   "execution_count": 26,
   "metadata": {},
   "outputs": [
    {
     "data": {
      "text/plain": [
       "152"
      ]
     },
     "execution_count": 26,
     "metadata": {},
     "output_type": "execute_result"
    }
   ],
   "source": [
    "len(join['Complaint-reason'].unique())"
   ]
  },
  {
   "cell_type": "code",
   "execution_count": 27,
   "metadata": {},
   "outputs": [
    {
     "data": {
      "text/plain": [
       "11"
      ]
     },
     "execution_count": 27,
     "metadata": {},
     "output_type": "execute_result"
    }
   ],
   "source": [
    "len(join['Company-response'].unique())"
   ]
  },
  {
   "cell_type": "code",
   "execution_count": 28,
   "metadata": {},
   "outputs": [
    {
     "data": {
      "text/plain": [
       "18"
      ]
     },
     "execution_count": 28,
     "metadata": {},
     "output_type": "execute_result"
    }
   ],
   "source": [
    "len(join['Transaction-Type'].unique())"
   ]
  },
  {
   "cell_type": "code",
   "execution_count": 29,
   "metadata": {},
   "outputs": [],
   "source": [
    "#Adding Time Related Columns\n",
    "#Hour Month DaY Information to data\n",
    "#join['hour_recvd']= join['Date-received'].apply(lambda x: correct_spelling(x, mispell_dict))\n",
    "#join['month_recvd']=join['Date-received'].apply(lambda x: correct_spelling(x, mispell_dict))\n",
    "#join['year_recvd']= join['Date-received'].apply(lambda x: correct_spelling(x, mispell_dict))\n",
    "\n",
    "join['diff_time']=join['Date-sent-to-company']-join['Date-received']\n",
    "join['diff_time']=join['diff_time'].apply(lambda x:x.days )"
   ]
  },
  {
   "cell_type": "code",
   "execution_count": 30,
   "metadata": {},
   "outputs": [],
   "source": [
    "#join.head()\n",
    "#join['Transaction-Type'].hist()"
   ]
  },
  {
   "cell_type": "code",
   "execution_count": 31,
   "metadata": {},
   "outputs": [
    {
     "data": {
      "text/plain": [
       "Complaint-ID                  False\n",
       "Date-received                 False\n",
       "Transaction-Type              False\n",
       "Complaint-reason              False\n",
       "Company-response               True\n",
       "Date-sent-to-company          False\n",
       "Consumer-disputes              True\n",
       "Consumer-complaint-summary    False\n",
       "diff_time                     False\n",
       "dtype: bool"
      ]
     },
     "execution_count": 31,
     "metadata": {},
     "output_type": "execute_result"
    }
   ],
   "source": [
    "#Missing Value Treatments\n",
    "join.isna().any()"
   ]
  },
  {
   "cell_type": "code",
   "execution_count": 32,
   "metadata": {},
   "outputs": [],
   "source": [
    "#Null/Mkssinh\n",
    "#join.isnull().any()"
   ]
  },
  {
   "cell_type": "markdown",
   "metadata": {},
   "source": [
    "#Imputing Missing Values for two columns "
   ]
  },
  {
   "cell_type": "code",
   "execution_count": 33,
   "metadata": {},
   "outputs": [],
   "source": [
    "#join.isnull().sum()"
   ]
  },
  {
   "cell_type": "code",
   "execution_count": 34,
   "metadata": {},
   "outputs": [
    {
     "data": {
      "text/plain": [
       "Company has responded to the consumer and the CFPB and chooses not to provide a public response                            15623\n",
       "Company chooses not to provide a public response                                                                            6149\n",
       "Company believes it acted appropriately as authorized by contract or law                                                    5409\n",
       "Company believes the complaint is the result of a misunderstanding                                                           568\n",
       "Company disputes the facts presented in the complaint                                                                        537\n",
       "Company believes complaint caused principally by actions of third party outside the control or direction of the company      434\n",
       "Company believes complaint is the result of an isolated error                                                                416\n",
       "Company can't verify or dispute the facts in the complaint                                                                   235\n",
       "Company believes complaint represents an opportunity for improvement to better serve consumers                               224\n",
       "Company believes complaint relates to a discontinued policy or procedure                                                       7\n",
       "Name: Company-response, dtype: int64"
      ]
     },
     "execution_count": 34,
     "metadata": {},
     "output_type": "execute_result"
    }
   ],
   "source": [
    "join['Company-response'].value_counts()"
   ]
  },
  {
   "cell_type": "code",
   "execution_count": 35,
   "metadata": {},
   "outputs": [
    {
     "data": {
      "text/plain": [
       "No     39487\n",
       "Yes    11320\n",
       "Name: Consumer-disputes, dtype: int64"
      ]
     },
     "execution_count": 35,
     "metadata": {},
     "output_type": "execute_result"
    }
   ],
   "source": [
    "join['Consumer-disputes'].value_counts()"
   ]
  },
  {
   "cell_type": "code",
   "execution_count": 36,
   "metadata": {},
   "outputs": [],
   "source": [
    "#Imputing Missing Values \n",
    "# join['Company-response'].fillna(value=join['Company-response'].value_counts().index[0],inplace =True)\n",
    "# join['Consumer-disputes'].fillna(value=join['Consumer-disputes'].value_counts().index[0],inplace =True)"
   ]
  },
  {
   "cell_type": "code",
   "execution_count": 37,
   "metadata": {},
   "outputs": [
    {
     "data": {
      "text/plain": [
       "array([nan, 'Company chooses not to provide a public response',\n",
       "       'Company believes it acted appropriately as authorized by contract or law',\n",
       "       'Company has responded to the consumer and the CFPB and chooses not to provide a public response',\n",
       "       'Company disputes the facts presented in the complaint',\n",
       "       'Company believes complaint is the result of an isolated error',\n",
       "       'Company believes the complaint is the result of a misunderstanding',\n",
       "       'Company believes complaint represents an opportunity for improvement to better serve consumers',\n",
       "       'Company believes complaint caused principally by actions of third party outside the control or direction of the company',\n",
       "       \"Company can't verify or dispute the facts in the complaint\",\n",
       "       'Company believes complaint relates to a discontinued policy or procedure'],\n",
       "      dtype=object)"
      ]
     },
     "execution_count": 37,
     "metadata": {},
     "output_type": "execute_result"
    }
   ],
   "source": [
    "#Making Missing as One more Category\n",
    "join['Company-response'].unique()"
   ]
  },
  {
   "cell_type": "markdown",
   "metadata": {},
   "source": [
    "Making a Separate category for missing"
   ]
  },
  {
   "cell_type": "code",
   "execution_count": 38,
   "metadata": {},
   "outputs": [],
   "source": [
    "#Company Respose\n",
    "join['Company-response'].fillna(value='No response',inplace =True)\n",
    "\n",
    "#Missing Dispute-- No Dispute\n",
    "join['Consumer-disputes'].fillna(value=join['Consumer-disputes'].value_counts().index[0],inplace =True)"
   ]
  },
  {
   "cell_type": "code",
   "execution_count": 39,
   "metadata": {},
   "outputs": [
    {
     "data": {
      "text/plain": [
       "Complaint-ID                  False\n",
       "Date-received                 False\n",
       "Transaction-Type              False\n",
       "Complaint-reason              False\n",
       "Company-response              False\n",
       "Date-sent-to-company          False\n",
       "Consumer-disputes             False\n",
       "Consumer-complaint-summary    False\n",
       "diff_time                     False\n",
       "dtype: bool"
      ]
     },
     "execution_count": 39,
     "metadata": {},
     "output_type": "execute_result"
    }
   ],
   "source": [
    "join.isna().any()"
   ]
  },
  {
   "cell_type": "code",
   "execution_count": 40,
   "metadata": {},
   "outputs": [
    {
     "data": {
      "text/html": [
       "<div>\n",
       "<style scoped>\n",
       "    .dataframe tbody tr th:only-of-type {\n",
       "        vertical-align: middle;\n",
       "    }\n",
       "\n",
       "    .dataframe tbody tr th {\n",
       "        vertical-align: top;\n",
       "    }\n",
       "\n",
       "    .dataframe thead th {\n",
       "        text-align: right;\n",
       "    }\n",
       "</style>\n",
       "<table border=\"1\" class=\"dataframe\">\n",
       "  <thead>\n",
       "    <tr style=\"text-align: right;\">\n",
       "      <th></th>\n",
       "      <th>Complaint-ID</th>\n",
       "      <th>Date-received</th>\n",
       "      <th>Transaction-Type</th>\n",
       "      <th>Complaint-reason</th>\n",
       "      <th>Company-response</th>\n",
       "      <th>Date-sent-to-company</th>\n",
       "      <th>Consumer-disputes</th>\n",
       "      <th>Consumer-complaint-summary</th>\n",
       "      <th>diff_time</th>\n",
       "    </tr>\n",
       "  </thead>\n",
       "  <tbody>\n",
       "    <tr>\n",
       "      <th>0</th>\n",
       "      <td>Tr-1</td>\n",
       "      <td>2015-11-11</td>\n",
       "      <td>Mortgage</td>\n",
       "      <td>Loan servicing, payments, escrow account</td>\n",
       "      <td>No response</td>\n",
       "      <td>2015-11-11</td>\n",
       "      <td>Yes</td>\n",
       "      <td>Seterus, Inc a déposé un faux rapport auprès d...</td>\n",
       "      <td>0</td>\n",
       "    </tr>\n",
       "    <tr>\n",
       "      <th>1</th>\n",
       "      <td>Tr-2</td>\n",
       "      <td>2015-07-07</td>\n",
       "      <td>Credit reporting</td>\n",
       "      <td>Incorrect information on credit report</td>\n",
       "      <td>Company chooses not to provide a public response</td>\n",
       "      <td>2015-07-07</td>\n",
       "      <td>No</td>\n",
       "      <td>XX / XX / XXXX La requête en faillite n ° XXXX...</td>\n",
       "      <td>0</td>\n",
       "    </tr>\n",
       "    <tr>\n",
       "      <th>2</th>\n",
       "      <td>Tr-3</td>\n",
       "      <td>2015-05-07</td>\n",
       "      <td>Bank account or service</td>\n",
       "      <td>Using a debit or ATM card</td>\n",
       "      <td>No response</td>\n",
       "      <td>2015-05-07</td>\n",
       "      <td>No</td>\n",
       "      <td>El XXXX / XXXX / 15, estaba preparando el vuel...</td>\n",
       "      <td>0</td>\n",
       "    </tr>\n",
       "    <tr>\n",
       "      <th>3</th>\n",
       "      <td>Tr-4</td>\n",
       "      <td>2016-11-12</td>\n",
       "      <td>Debt collection</td>\n",
       "      <td>Cont'd attempts collect debt not owed</td>\n",
       "      <td>Company believes it acted appropriately as aut...</td>\n",
       "      <td>2016-11-12</td>\n",
       "      <td>No</td>\n",
       "      <td>The loan was paid in XXXX XXXX. In XXXX, 4 yea...</td>\n",
       "      <td>0</td>\n",
       "    </tr>\n",
       "    <tr>\n",
       "      <th>4</th>\n",
       "      <td>Tr-5</td>\n",
       "      <td>2016-09-29</td>\n",
       "      <td>Credit card</td>\n",
       "      <td>Payoff process</td>\n",
       "      <td>Company has responded to the consumer and the ...</td>\n",
       "      <td>2016-09-29</td>\n",
       "      <td>No</td>\n",
       "      <td>J'ai obtenu un compte de crédit de soins pour ...</td>\n",
       "      <td>0</td>\n",
       "    </tr>\n",
       "  </tbody>\n",
       "</table>\n",
       "</div>"
      ],
      "text/plain": [
       "  Complaint-ID Date-received         Transaction-Type  \\\n",
       "0         Tr-1    2015-11-11                 Mortgage   \n",
       "1         Tr-2    2015-07-07         Credit reporting   \n",
       "2         Tr-3    2015-05-07  Bank account or service   \n",
       "3         Tr-4    2016-11-12          Debt collection   \n",
       "4         Tr-5    2016-09-29              Credit card   \n",
       "\n",
       "                           Complaint-reason  \\\n",
       "0  Loan servicing, payments, escrow account   \n",
       "1    Incorrect information on credit report   \n",
       "2                 Using a debit or ATM card   \n",
       "3     Cont'd attempts collect debt not owed   \n",
       "4                            Payoff process   \n",
       "\n",
       "                                    Company-response Date-sent-to-company  \\\n",
       "0                                        No response           2015-11-11   \n",
       "1   Company chooses not to provide a public response           2015-07-07   \n",
       "2                                        No response           2015-05-07   \n",
       "3  Company believes it acted appropriately as aut...           2016-11-12   \n",
       "4  Company has responded to the consumer and the ...           2016-09-29   \n",
       "\n",
       "  Consumer-disputes                         Consumer-complaint-summary  \\\n",
       "0               Yes  Seterus, Inc a déposé un faux rapport auprès d...   \n",
       "1                No  XX / XX / XXXX La requête en faillite n ° XXXX...   \n",
       "2                No  El XXXX / XXXX / 15, estaba preparando el vuel...   \n",
       "3                No  The loan was paid in XXXX XXXX. In XXXX, 4 yea...   \n",
       "4                No  J'ai obtenu un compte de crédit de soins pour ...   \n",
       "\n",
       "   diff_time  \n",
       "0          0  \n",
       "1          0  \n",
       "2          0  \n",
       "3          0  \n",
       "4          0  "
      ]
     },
     "execution_count": 40,
     "metadata": {},
     "output_type": "execute_result"
    }
   ],
   "source": [
    "join.head()"
   ]
  },
  {
   "cell_type": "code",
   "execution_count": 41,
   "metadata": {},
   "outputs": [
    {
     "name": "stdout",
     "output_type": "stream",
     "text": [
      "18\n"
     ]
    }
   ],
   "source": [
    "count_trans=len(join['Transaction-Type'].unique())\n",
    "print count_trans"
   ]
  },
  {
   "cell_type": "code",
   "execution_count": 42,
   "metadata": {},
   "outputs": [
    {
     "name": "stdout",
     "output_type": "stream",
     "text": [
      "152\n"
     ]
    }
   ],
   "source": [
    "count_complain_reason=len(join['Complaint-reason'].unique())\n",
    "print count_complain_reason"
   ]
  },
  {
   "cell_type": "code",
   "execution_count": 43,
   "metadata": {},
   "outputs": [
    {
     "name": "stdout",
     "output_type": "stream",
     "text": [
      "11\n"
     ]
    }
   ],
   "source": [
    "count_company_response=len(join['Company-response'].unique())\n",
    "print count_company_response"
   ]
  },
  {
   "cell_type": "code",
   "execution_count": 44,
   "metadata": {},
   "outputs": [],
   "source": [
    "from sklearn.preprocessing import StandardScaler\n",
    "scaler = StandardScaler()"
   ]
  },
  {
   "cell_type": "code",
   "execution_count": 45,
   "metadata": {},
   "outputs": [],
   "source": [
    "diff_time=np.array(join['diff_time']).reshape(-1,1)"
   ]
  },
  {
   "cell_type": "code",
   "execution_count": 46,
   "metadata": {},
   "outputs": [
    {
     "name": "stderr",
     "output_type": "stream",
     "text": [
      "/Users/s0c02nj/anaconda2/lib/python2.7/site-packages/sklearn/utils/validation.py:475: DataConversionWarning: Data with input dtype int64 was converted to float64 by StandardScaler.\n",
      "  warnings.warn(msg, DataConversionWarning)\n"
     ]
    }
   ],
   "source": [
    "enc_time=scaler.fit_transform(diff_time)"
   ]
  },
  {
   "cell_type": "markdown",
   "metadata": {},
   "source": [
    "Processing The categorical Variables"
   ]
  },
  {
   "cell_type": "code",
   "execution_count": 47,
   "metadata": {},
   "outputs": [],
   "source": [
    "#1.Label Encoding the Categorical Varaible----TransactionType\n",
    "le1= preprocessing.LabelEncoder()\n",
    "enc_trans_type=le1.fit_transform(join['Transaction-Type'])"
   ]
  },
  {
   "cell_type": "code",
   "execution_count": 48,
   "metadata": {},
   "outputs": [],
   "source": [
    "#2.Label Encoding the Categorical Varaible----Complaint-reason\n",
    "le2= preprocessing.LabelEncoder()\n",
    "enc_complain_reason=le2.fit_transform(join['Complaint-reason'])"
   ]
  },
  {
   "cell_type": "code",
   "execution_count": 49,
   "metadata": {},
   "outputs": [],
   "source": [
    "#3.Label Encoding the Categorical Varaible----Company-response\n",
    "le3= preprocessing.LabelEncoder()\n",
    "enc_comp_response=le3.fit_transform(join['Company-response'])"
   ]
  },
  {
   "cell_type": "code",
   "execution_count": 50,
   "metadata": {},
   "outputs": [],
   "source": [
    "#4.Label Encoding the Categorical Varaible----Consumer-disputes\n",
    "le4= preprocessing.LabelEncoder()\n",
    "enc_cons_dispute=le4.fit_transform(join['Consumer-disputes'])"
   ]
  },
  {
   "cell_type": "code",
   "execution_count": 51,
   "metadata": {},
   "outputs": [],
   "source": [
    "#Response \n",
    "le5= preprocessing.LabelEncoder()\n",
    "y_cat=le5.fit_transform(train['Complaint-Status'])"
   ]
  },
  {
   "cell_type": "code",
   "execution_count": 52,
   "metadata": {},
   "outputs": [],
   "source": [
    "from sklearn.preprocessing import StandardScaler"
   ]
  },
  {
   "cell_type": "code",
   "execution_count": 53,
   "metadata": {},
   "outputs": [],
   "source": [
    "from keras.utils import to_categorical\n",
    "y_enc=to_categorical(y_cat,num_classes=5)"
   ]
  },
  {
   "cell_type": "code",
   "execution_count": 54,
   "metadata": {},
   "outputs": [
    {
     "data": {
      "text/plain": [
       "array([[0., 1., 0., 0., 0.],\n",
       "       [0., 0., 0., 1., 0.],\n",
       "       [0., 1., 0., 0., 0.],\n",
       "       ...,\n",
       "       [0., 1., 0., 0., 0.],\n",
       "       [0., 1., 0., 0., 0.],\n",
       "       [0., 1., 0., 0., 0.]])"
      ]
     },
     "execution_count": 54,
     "metadata": {},
     "output_type": "execute_result"
    }
   ],
   "source": [
    "y_enc"
   ]
  },
  {
   "cell_type": "markdown",
   "metadata": {},
   "source": [
    "Processing the Text Data Column----> Consumer-complaint-summary"
   ]
  },
  {
   "cell_type": "code",
   "execution_count": 55,
   "metadata": {},
   "outputs": [
    {
     "data": {
      "text/plain": [
       "'Esta escuela se ha cerrado permanentemente y no puedo obtener un registro de esta escuela ni completar mi educaci\\xc3\\xb3n.'"
      ]
     },
     "execution_count": 55,
     "metadata": {},
     "output_type": "execute_result"
    }
   ],
   "source": [
    "a=join['Consumer-complaint-summary'][100]\n",
    "a"
   ]
  },
  {
   "cell_type": "code",
   "execution_count": 56,
   "metadata": {},
   "outputs": [],
   "source": [
    "#import re\n",
    "#re.sub(r'[^a-zA-Z]', ' ', a)"
   ]
  },
  {
   "cell_type": "code",
   "execution_count": 57,
   "metadata": {},
   "outputs": [],
   "source": [
    "from googletrans import Translator\n",
    "translator = Translator()\n"
   ]
  },
  {
   "cell_type": "code",
   "execution_count": 58,
   "metadata": {},
   "outputs": [],
   "source": [
    "# #Translating\n",
    "# p1=p.text\n",
    "# p1\n",
    "\n",
    "# #Removing Numbers and other things\n",
    "# q1=re.sub(r'[^a-zA-Z]', ' ', p1)\n",
    "# q1\n",
    "\n",
    "# #Replacing XXX\n",
    "# r1=q1.replace('XX',\" \")\n",
    "# r1\n",
    "\n",
    "# #Replacing Extra spaces\n",
    "# s1=re.sub('\\s+', ' ', r1).strip()\n",
    "# s1\n",
    "\n",
    "# #Lower case for word vectors\n",
    "# s1.lower()"
   ]
  },
  {
   "cell_type": "code",
   "execution_count": 59,
   "metadata": {},
   "outputs": [],
   "source": [
    "join['Consumer-complaint-summary'] = join['Consumer-complaint-summary'].apply(lambda x: re.sub(r'[^a-zA-Z]', ' ', x))"
   ]
  },
  {
   "cell_type": "code",
   "execution_count": 60,
   "metadata": {},
   "outputs": [],
   "source": [
    "join['Consumer-complaint-summary'] = join['Consumer-complaint-summary'].apply(lambda x: str(x))"
   ]
  },
  {
   "cell_type": "code",
   "execution_count": 61,
   "metadata": {},
   "outputs": [],
   "source": [
    "join['Consumer-complaint-summary']=join['Consumer-complaint-summary'].str.replace('XX','')"
   ]
  },
  {
   "cell_type": "code",
   "execution_count": 62,
   "metadata": {},
   "outputs": [],
   "source": [
    "#Toeknizing\n",
    "import nltk\n",
    "#nltk.download('punkt')\n",
    "from nltk.tokenize import word_tokenize\n",
    "tokenized_doc=[]\n",
    "enc_trainx=join['Consumer-complaint-summary']\n",
    "for i in range(0,len(enc_trainx)):\n",
    "    word=word_tokenize(enc_trainx[i])\n",
    "    tokenized_doc.append(word)"
   ]
  },
  {
   "cell_type": "code",
   "execution_count": 63,
   "metadata": {},
   "outputs": [],
   "source": [
    "#Removing Stop words\n",
    "import nltk\n",
    "#nltk.download('stopwords')\n",
    "from nltk.corpus import stopwords\n",
    "stop_words = set(stopwords.words('english'))\n",
    "stpwrd_free_doc = []\n",
    "doc=[]\n",
    "\n",
    "for i in range (len(tokenized_doc)):\n",
    "    for w in tokenized_doc[i]:\n",
    "        if w not in stop_words:\n",
    "            doc.append(w)\n",
    "    stpwrd_free_doc.append(doc)\n",
    "    doc=[]"
   ]
  },
  {
   "cell_type": "code",
   "execution_count": 64,
   "metadata": {},
   "outputs": [],
   "source": [
    "def  get_clean_doc(doc):\n",
    "    doc2=[]\n",
    "    for i in range(0,len(doc)):\n",
    "        desc=doc[i]\n",
    "        for j in range(0,len(desc)):\n",
    "            if len(desc[j])<=2 :\n",
    "                desc[j]= ''\n",
    "        desc1=' '.join(desc)\n",
    "        desc1=re.sub(' +',' ',desc1)\n",
    "        doc2.append(desc1)\n",
    "    return doc2"
   ]
  },
  {
   "cell_type": "code",
   "execution_count": 65,
   "metadata": {},
   "outputs": [],
   "source": [
    "clean_desc= get_clean_doc(stpwrd_free_doc)"
   ]
  },
  {
   "cell_type": "code",
   "execution_count": 66,
   "metadata": {},
   "outputs": [],
   "source": [
    "from sklearn.feature_extraction.text import TfidfVectorizer\n",
    "\n",
    "vectorizer = TfidfVectorizer(stop_words='english', ngram_range=(1,2),max_df=1.0, min_df=1, max_features=30000)\n",
    "tf_feat = vectorizer.fit_transform(clean_desc)"
   ]
  },
  {
   "cell_type": "code",
   "execution_count": 67,
   "metadata": {},
   "outputs": [
    {
     "data": {
      "text/plain": [
       "(61809, 30000)"
      ]
     },
     "execution_count": 67,
     "metadata": {},
     "output_type": "execute_result"
    }
   ],
   "source": [
    "tf_feat.shape"
   ]
  },
  {
   "cell_type": "code",
   "execution_count": 68,
   "metadata": {},
   "outputs": [],
   "source": [
    "from scipy.sparse import csr_matrix\n",
    "tf_idf_arr= tf_feat.toarray()"
   ]
  },
  {
   "cell_type": "markdown",
   "metadata": {},
   "source": [
    "#Inputs for our Data"
   ]
  },
  {
   "cell_type": "code",
   "execution_count": 70,
   "metadata": {},
   "outputs": [],
   "source": [
    "#Transaction\n",
    "enc_trans_type_train=enc_trans_type[0:43266]\n",
    "enc_trans_type_test=enc_trans_type[43266:]"
   ]
  },
  {
   "cell_type": "code",
   "execution_count": 69,
   "metadata": {},
   "outputs": [
    {
     "data": {
      "text/plain": [
       "array([10,  5,  0, ...,  7, 10,  7])"
      ]
     },
     "execution_count": 69,
     "metadata": {},
     "output_type": "execute_result"
    }
   ],
   "source": []
  },
  {
   "cell_type": "code",
   "execution_count": 94,
   "metadata": {},
   "outputs": [],
   "source": [
    "#Complaint reason\n",
    "enc_complain_reason_train=enc_complain_reason[0:43266].reshape(-1,1)\n",
    "enc_complain_reason_test=enc_complain_reason[43266:].reshape(-1,1)"
   ]
  },
  {
   "cell_type": "code",
   "execution_count": 95,
   "metadata": {},
   "outputs": [],
   "source": [
    "enc_comp_response_train=enc_comp_response[0:43266].reshape(-1,1)\n",
    "enc_comp_response_test= enc_comp_response[43266:].reshape(-1,1)"
   ]
  },
  {
   "cell_type": "code",
   "execution_count": 96,
   "metadata": {},
   "outputs": [],
   "source": [
    "enc_cons_dispute_train=enc_cons_dispute[0:43266].reshape(-1,1)\n",
    "enc_cons_dispute_test= enc_cons_dispute[43266:].reshape(-1,1)"
   ]
  },
  {
   "cell_type": "code",
   "execution_count": 97,
   "metadata": {},
   "outputs": [],
   "source": [
    "enc_time_train=enc_time[0:43266]\n",
    "enc_time_test=enc_time[43266:]"
   ]
  },
  {
   "cell_type": "code",
   "execution_count": 98,
   "metadata": {},
   "outputs": [],
   "source": [
    "tf_idf_arr_train=tf_idf_arr[0:43266]\n",
    "tf_idf_arr_test=tf_idf_arr[43266:]"
   ]
  },
  {
   "cell_type": "code",
   "execution_count": 103,
   "metadata": {},
   "outputs": [],
   "source": [
    "train_data=np.concatenate([enc_complain_reason_train,enc_comp_response_train,enc_cons_dispute_train,\n",
    "                          enc_time_train,tf_idf_arr_train],axis=-1)\n",
    "\n",
    "test_data= np.concatenate([enc_complain_reason_test,enc_comp_response_test,enc_cons_dispute_test,\n",
    "                          enc_time_test,tf_idf_arr_test],axis=-1)"
   ]
  },
  {
   "cell_type": "code",
   "execution_count": 104,
   "metadata": {},
   "outputs": [],
   "source": [
    "#Train_Data\n",
    "import lightgbm as lgb"
   ]
  },
  {
   "cell_type": "code",
   "execution_count": null,
   "metadata": {},
   "outputs": [],
   "source": [
    "lgbm_params =  {\n",
    "    'task': 'train',\n",
    "    'boosting_type': 'gbdt',\n",
    "    'objective': 'multiclass',\n",
    "    'is_unbalance': 'True',\n",
    "    'num_class': 5,\n",
    "    'metric': ['multi_error'],\n",
    "    \"learning_rate\": 0.05,\n",
    "    \"num_leaves\": 60,\n",
    "    \"max_depth\": 9,\n",
    "    \"feature_fraction\": 0.45,\n",
    "    \"bagging_fraction\": 0.3,\n",
    "    \"reg_alpha\": 0.15,\n",
    "    \"reg_lambda\": 0.15,\n",
    "    \"min_split_gain\": 0,\n",
    "    \"min_child_weight\": 0}"
   ]
  },
  {
   "cell_type": "code",
   "execution_count": 105,
   "metadata": {},
   "outputs": [],
   "source": [
    "lgb_params = {\n",
    "        'boosting_type': 'gbdt',\n",
    "        'objective': 'multiclass',\n",
    "        'metric':['multi_error'],\n",
    "         'num_class': 5,\n",
    "        'learning_rate': 0.01,\n",
    "        'is_unbalance': 'true',  #because training data is unbalance (replaced with scale_pos_weight)\n",
    "        'num_leaves': 31,  # we should let it be smaller than 2^(max_depth)\n",
    "        'max_depth': -1,  # -1 means no limit\n",
    "        'min_child_samples': 20,  # Minimum number of data need in a child(min_data_in_leaf)\n",
    "        'max_bin': 255,  # Number of bucketed bin for feature values\n",
    "        'subsample': 0.6,  # Subsample ratio of the training instance.\n",
    "        'subsample_freq': 0,  # frequence of subsample, <=0 means no enable\n",
    "        'colsample_bytree': 0.3,  # Subsample ratio of columns when constructing each tree.\n",
    "        'min_child_weight': 5,  # Minimum sum of instance weight(hessian) needed in a child(leaf)\n",
    "        'subsample_for_bin': 200000,  # Number of samples for constructing bin\n",
    "        'min_split_gain': 0,  # lambda_l1, lambda_l2 and min_gain_to_split to regularization\n",
    "        'reg_alpha': 0.1,  # L1 regularization term on weights\n",
    "        'reg_lambda': 0.1,  # L2 regularization term on weights\n",
    "        'nthread': 4,\n",
    "        'verbose': 0\n",
    "    }"
   ]
  },
  {
   "cell_type": "code",
   "execution_count": null,
   "metadata": {},
   "outputs": [],
   "source": []
  },
  {
   "cell_type": "code",
   "execution_count": null,
   "metadata": {},
   "outputs": [],
   "source": []
  },
  {
   "cell_type": "code",
   "execution_count": null,
   "metadata": {},
   "outputs": [],
   "source": []
  },
  {
   "cell_type": "code",
   "execution_count": null,
   "metadata": {},
   "outputs": [],
   "source": []
  },
  {
   "cell_type": "code",
   "execution_count": null,
   "metadata": {},
   "outputs": [],
   "source": []
  },
  {
   "cell_type": "code",
   "execution_count": null,
   "metadata": {},
   "outputs": [],
   "source": [
    "#Tets\n",
    "y_prob = model.predict([enc_trans_type_test,enc_complain_reason_test,\n",
    "                     enc_comp_response_test,enc_cons_dispute_test,enc_time_test,tf_idf_arr_test]) \n",
    "\n",
    "#Pred\n",
    "y_classes = y_prob.argmax(axis=-1)"
   ]
  },
  {
   "cell_type": "code",
   "execution_count": null,
   "metadata": {},
   "outputs": [],
   "source": []
  },
  {
   "cell_type": "code",
   "execution_count": null,
   "metadata": {},
   "outputs": [],
   "source": []
  },
  {
   "cell_type": "code",
   "execution_count": null,
   "metadata": {},
   "outputs": [],
   "source": []
  },
  {
   "cell_type": "code",
   "execution_count": null,
   "metadata": {},
   "outputs": [],
   "source": []
  },
  {
   "cell_type": "code",
   "execution_count": null,
   "metadata": {},
   "outputs": [],
   "source": [
    "y_pred=list(le5.inverse_transform(y_classes))"
   ]
  },
  {
   "cell_type": "code",
   "execution_count": null,
   "metadata": {},
   "outputs": [],
   "source": [
    "#y_pred"
   ]
  },
  {
   "cell_type": "code",
   "execution_count": null,
   "metadata": {},
   "outputs": [],
   "source": [
    "submission=pd.DataFrame()\n",
    "submission['Complaint-ID']=test['Complaint-ID']\n",
    "submission['Complaint-Status']=y_pred"
   ]
  },
  {
   "cell_type": "code",
   "execution_count": null,
   "metadata": {},
   "outputs": [],
   "source": [
    "model.compile(loss = \"categorical_crossentropy\", optimizer = Adam(lr=0.001), metrics = [\"accuracy\"])"
   ]
  },
  {
   "cell_type": "code",
   "execution_count": null,
   "metadata": {},
   "outputs": [],
   "source": [
    "submission.to_csv(path_or_buf=\"/Users/s0c02nj/Desktop/Submission.csv\", encoding='utf-8',index=False)"
   ]
  },
  {
   "cell_type": "code",
   "execution_count": null,
   "metadata": {},
   "outputs": [],
   "source": []
  }
 ],
 "metadata": {
  "kernelspec": {
   "display_name": "Python 2",
   "language": "python",
   "name": "python2"
  },
  "language_info": {
   "codemirror_mode": {
    "name": "ipython",
    "version": 2
   },
   "file_extension": ".py",
   "mimetype": "text/x-python",
   "name": "python",
   "nbconvert_exporter": "python",
   "pygments_lexer": "ipython2",
   "version": "2.7.16"
  }
 },
 "nbformat": 4,
 "nbformat_minor": 2
}

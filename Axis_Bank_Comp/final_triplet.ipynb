{
 "cells": [
  {
   "cell_type": "code",
   "execution_count": 1,
   "metadata": {},
   "outputs": [
    {
     "name": "stderr",
     "output_type": "stream",
     "text": [
      "/Users/s0c02nj/anaconda2/lib/python2.7/site-packages/h5py/__init__.py:36: FutureWarning: Conversion of the second argument of issubdtype from `float` to `np.floating` is deprecated. In future, it will be treated as `np.float64 == np.dtype(float).type`.\n",
      "  from ._conv import register_converters as _register_converters\n",
      "Using TensorFlow backend.\n"
     ]
    }
   ],
   "source": [
    "import tensorflow as tf\n",
    "from keras.layers import Input, Lambda,subtract,GlobalMaxPooling2D,Dense,GlobalAveragePooling2D, concatenate, Activation\n",
    "from keras.applications.mobilenet import MobileNet as Net\n",
    "\n",
    "from keras.preprocessing import image\n",
    "from keras.applications.mobilenet import preprocess_input\n",
    "from keras.models import Model\n",
    "from keras.layers import Input, merge\n",
    "from keras.optimizers import Adam\n",
    "import cv2\n",
    "import numpy as np\n",
    "import os\n",
    "from tqdm import tqdm\n",
    "from keras.models import Sequential\n",
    "\n",
    "from keras.layers import Dense, Dropout, Flatten\n",
    "from keras.layers import Conv2D, MaxPooling2D\n",
    "\n",
    "ALPHA = 0.3  # Triplet Loss Parameter\n",
    "\n",
    "from keras.layers import Input,Lambda,subtract,GlobalMaxPooling2D,Dense,GlobalAveragePooling2D,concatenate,Activation\n",
    "from keras.applications.xception import Xception as Net\n",
    "from keras.preprocessing import image\n",
    "from keras.applications.xception import preprocess_input\n",
    "from keras.models import Model"
   ]
  },
  {
   "cell_type": "code",
   "execution_count": 8,
   "metadata": {},
   "outputs": [],
   "source": [
    "import matplotlib.pyplot as plt"
   ]
  },
  {
   "cell_type": "code",
   "execution_count": null,
   "metadata": {},
   "outputs": [],
   "source": [
    "#x_train.shape"
   ]
  },
  {
   "cell_type": "code",
   "execution_count": 7,
   "metadata": {},
   "outputs": [],
   "source": [
    "def triplet_loss(x):\n",
    "    anchor, positive, negative = x\n",
    "    \n",
    "    #x = tf.constant([[1, 1, 1], [1, 1, 1]]) ------ tf.reduce_sum(x, 1)  # [3, 3]\n",
    "    #It is trained in batches so, the tensor will be of the above shape for each triplet\n",
    "    pos_dist = tf.reduce_sum(tf.square(tf.subtract(anchor, positive)), 1)\n",
    "    neg_dist = tf.reduce_sum(tf.square(tf.subtract(anchor, negative)), 1)\n",
    "    \n",
    "    #x = tf.constant([[1, 1, 1], [1, 1, 1]])--------->tf.reduce_sum(x, 0)  # [2, 2, 2]\n",
    "\n",
    "    basic_loss = tf.add(tf.subtract(pos_dist, neg_dist), ALPHA)\n",
    "    loss = tf.reduce_mean(tf.maximum(basic_loss, 0.0), 0)\n",
    "\n",
    "    return loss\n"
   ]
  },
  {
   "cell_type": "code",
   "execution_count": 8,
   "metadata": {},
   "outputs": [
    {
     "name": "stdout",
     "output_type": "stream",
     "text": [
      "[array([5, 5], dtype=int32), array([5, 2], dtype=int32)]\n"
     ]
    }
   ],
   "source": [
    "x = tf.constant([[1, 3, 1], [3, 1, 1]]) \n",
    "y = tf.constant([[2, 1, 1], [1, 2, 1]]) \n",
    "z=  tf.constant([[2, 1, 1], [2, 2, 1]]) \n",
    "\n",
    "\n",
    "z1=tf.reduce_sum(tf.square(tf.subtract(x, y)), 1)\n",
    "z2=tf.reduce_sum(tf.square(tf.subtract(x, z)), 1)\n",
    "\n",
    "sess=tf.Session()\n",
    "print sess.run([z1,z2])\n",
    "sess.close()\n",
    "#tf.add(tf.subtract(pos_dist, neg_dist), ALPHA)"
   ]
  },
  {
   "cell_type": "code",
   "execution_count": 9,
   "metadata": {},
   "outputs": [],
   "source": [
    "def make_model(input_shape):\n",
    "    \n",
    "    cnn_model = Sequential()\n",
    "    cnn_model.add(Conv2D(32, kernel_size=(3, 3),\n",
    "                     activation='relu',\n",
    "                     input_shape=input_shape))\n",
    "    cnn_model.add(Conv2D(64, (3, 3), activation='relu'))\n",
    "    cnn_model.add(MaxPooling2D(pool_size=(2, 2)))\n",
    "    \n",
    "    \n",
    "    \n",
    "    return cnn_model\n",
    "    "
   ]
  },
  {
   "cell_type": "code",
   "execution_count": 16,
   "metadata": {},
   "outputs": [],
   "source": [
    "def create_model(d1, d2, c):\n",
    "    \n",
    "    # The triplet network takes 3 input images: 2 of the same class and 1 out-of-class sample\n",
    "    #shape: A shape tuple (integers), not including the batch size. For instance, shape=(32,) \n",
    "    #indicates that the expected input will be batches of 32-dimensional vectors.\n",
    "    \n",
    "    anchor_example =   Input(shape=(d1, d2, c), name = 'anchor')\n",
    "    positive_example = Input(shape=(d1, d2, c), name = 'positive')\n",
    "    negative_example = Input(shape=(d1, d2, c), name = 'negative')\n",
    "        \n",
    "    base_model = Net(input_shape=(d1,d2,3),weights='imagenet',include_top=False)\n",
    "    # the weights of this layer will be set to ones and fixed  (since they\n",
    "    # are shared we could also leave them trainable to get a weighted sum)\n",
    "    \n",
    "    # feed all 3 inputs into the pretrained keras model\n",
    "    x1 = base_model(anchor_example)\n",
    "    x2 = base_model(positive_example)\n",
    "    x3 = base_model(negative_example)\n",
    "    \n",
    "    # flatten/summarize the models output:\n",
    "    # (here we could also use GlobalAveragePooling or simply Flatten everything)\n",
    "    #Takes the max value for each of the filter\n",
    "    anchor =   GlobalMaxPooling2D()(x1)\n",
    "    positive = GlobalMaxPooling2D()(x2)\n",
    "    negative = GlobalMaxPooling2D()(x3)\n",
    "    \n",
    "    \n",
    "    #Loss gives the final loss value between a,p and n.\n",
    "    loss = merge([anchor, positive, negative], mode=triplet_loss, output_shape=(1,))\n",
    "\n",
    "    \n",
    "    triplet_model = Model(inputs=[anchor_example, positive_example, negative_example],\n",
    "                  outputs=loss)\n",
    "    \n",
    "    triplet_model.compile(loss='mean_absolute_error', optimizer=Adam())\n",
    "    print(triplet_model.summary())\n",
    "    \n",
    "    return triplet_model"
   ]
  },
  {
   "cell_type": "code",
   "execution_count": 17,
   "metadata": {},
   "outputs": [
    {
     "name": "stdout",
     "output_type": "stream",
     "text": [
      "__________________________________________________________________________________________________\n",
      "Layer (type)                    Output Shape         Param #     Connected to                     \n",
      "==================================================================================================\n",
      "anchor (InputLayer)             (None, 128, 128, 3)  0                                            \n",
      "__________________________________________________________________________________________________\n",
      "positive (InputLayer)           (None, 128, 128, 3)  0                                            \n",
      "__________________________________________________________________________________________________\n",
      "negative (InputLayer)           (None, 128, 128, 3)  0                                            \n",
      "__________________________________________________________________________________________________\n",
      "xception (Model)                (None, 4, 4, 2048)   20861480    anchor[0][0]                     \n",
      "                                                                 positive[0][0]                   \n",
      "                                                                 negative[0][0]                   \n",
      "__________________________________________________________________________________________________\n",
      "global_max_pooling2d_4 (GlobalM (None, 2048)         0           xception[1][0]                   \n",
      "__________________________________________________________________________________________________\n",
      "global_max_pooling2d_5 (GlobalM (None, 2048)         0           xception[2][0]                   \n",
      "__________________________________________________________________________________________________\n",
      "global_max_pooling2d_6 (GlobalM (None, 2048)         0           xception[3][0]                   \n",
      "__________________________________________________________________________________________________\n",
      "merge_2 (Merge)                 (None, 1)            0           global_max_pooling2d_4[0][0]     \n",
      "                                                                 global_max_pooling2d_5[0][0]     \n",
      "                                                                 global_max_pooling2d_6[0][0]     \n",
      "==================================================================================================\n",
      "Total params: 20,861,480\n",
      "Trainable params: 20,806,952\n",
      "Non-trainable params: 54,528\n",
      "__________________________________________________________________________________________________\n",
      "None\n"
     ]
    },
    {
     "name": "stderr",
     "output_type": "stream",
     "text": [
      "/Users/s0c02nj/anaconda2/lib/python2.7/site-packages/ipykernel_launcher.py:29: UserWarning: The `merge` function is deprecated and will be removed after 08/2017. Use instead layers from `keras.layers.merge`, e.g. `add`, `concatenate`, etc.\n"
     ]
    }
   ],
   "source": [
    "triplet_model=create_model(128, 128, 3)"
   ]
  },
  {
   "cell_type": "code",
   "execution_count": 18,
   "metadata": {},
   "outputs": [
    {
     "data": {
      "image/svg+xml": [
       "<svg height=\"264pt\" viewBox=\"0.00 0.00 919.71 264.00\" width=\"920pt\" xmlns=\"http://www.w3.org/2000/svg\" xmlns:xlink=\"http://www.w3.org/1999/xlink\">\n",
       "<g class=\"graph\" id=\"graph0\" transform=\"scale(1 1) rotate(0) translate(4 260)\">\n",
       "<title>G</title>\n",
       "<polygon fill=\"#ffffff\" points=\"-4,4 -4,-260 915.707,-260 915.707,4 -4,4\" stroke=\"transparent\"/>\n",
       "<!-- 4816144912 -->\n",
       "<g class=\"node\" id=\"node1\">\n",
       "<title>4816144912</title>\n",
       "<polygon fill=\"none\" points=\"249.0171,-219.5 249.0171,-255.5 372.6899,-255.5 372.6899,-219.5 249.0171,-219.5\" stroke=\"#000000\"/>\n",
       "<text fill=\"#000000\" font-family=\"Times,serif\" font-size=\"14.00\" text-anchor=\"middle\" x=\"310.8535\" y=\"-233.3\">anchor: InputLayer</text>\n",
       "</g>\n",
       "<!-- 4851829264 -->\n",
       "<g class=\"node\" id=\"node4\">\n",
       "<title>4851829264</title>\n",
       "<polygon fill=\"none\" points=\"401.7793,-146.5 401.7793,-182.5 509.9277,-182.5 509.9277,-146.5 401.7793,-146.5\" stroke=\"#000000\"/>\n",
       "<text fill=\"#000000\" font-family=\"Times,serif\" font-size=\"14.00\" text-anchor=\"middle\" x=\"455.8535\" y=\"-160.3\">xception: Model</text>\n",
       "</g>\n",
       "<!-- 4816144912&#45;&gt;4851829264 -->\n",
       "<g class=\"edge\" id=\"edge1\">\n",
       "<title>4816144912-&gt;4851829264</title>\n",
       "<path d=\"M346.6962,-219.4551C366.0414,-209.7157 390.1119,-197.5975 410.7233,-187.2207\" fill=\"none\" stroke=\"#000000\"/>\n",
       "<polygon fill=\"#000000\" points=\"412.5626,-190.2133 419.9206,-182.5904 409.4148,-183.961 412.5626,-190.2133\" stroke=\"#000000\"/>\n",
       "</g>\n",
       "<!-- 4816143824 -->\n",
       "<g class=\"node\" id=\"node2\">\n",
       "<title>4816143824</title>\n",
       "<polygon fill=\"none\" points=\"390.8965,-219.5 390.8965,-255.5 520.8105,-255.5 520.8105,-219.5 390.8965,-219.5\" stroke=\"#000000\"/>\n",
       "<text fill=\"#000000\" font-family=\"Times,serif\" font-size=\"14.00\" text-anchor=\"middle\" x=\"455.8535\" y=\"-233.3\">positive: InputLayer</text>\n",
       "</g>\n",
       "<!-- 4816143824&#45;&gt;4851829264 -->\n",
       "<g class=\"edge\" id=\"edge2\">\n",
       "<title>4816143824-&gt;4851829264</title>\n",
       "<path d=\"M455.8535,-219.4551C455.8535,-211.3828 455.8535,-201.6764 455.8535,-192.6817\" fill=\"none\" stroke=\"#000000\"/>\n",
       "<polygon fill=\"#000000\" points=\"459.3536,-192.5903 455.8535,-182.5904 452.3536,-192.5904 459.3536,-192.5903\" stroke=\"#000000\"/>\n",
       "</g>\n",
       "<!-- 4816146320 -->\n",
       "<g class=\"node\" id=\"node3\">\n",
       "<title>4816146320</title>\n",
       "<polygon fill=\"none\" points=\"538.3516,-219.5 538.3516,-255.5 671.3555,-255.5 671.3555,-219.5 538.3516,-219.5\" stroke=\"#000000\"/>\n",
       "<text fill=\"#000000\" font-family=\"Times,serif\" font-size=\"14.00\" text-anchor=\"middle\" x=\"604.8535\" y=\"-233.3\">negative: InputLayer</text>\n",
       "</g>\n",
       "<!-- 4816146320&#45;&gt;4851829264 -->\n",
       "<g class=\"edge\" id=\"edge3\">\n",
       "<title>4816146320-&gt;4851829264</title>\n",
       "<path d=\"M568.022,-219.4551C548.0536,-209.6719 523.1857,-197.4883 501.9427,-187.0806\" fill=\"none\" stroke=\"#000000\"/>\n",
       "<polygon fill=\"#000000\" points=\"503.2977,-183.847 492.7777,-182.5904 500.2179,-190.1331 503.2977,-183.847\" stroke=\"#000000\"/>\n",
       "</g>\n",
       "<!-- 4852218832 -->\n",
       "<g class=\"node\" id=\"node5\">\n",
       "<title>4852218832</title>\n",
       "<polygon fill=\"none\" points=\"0,-73.5 0,-109.5 291.707,-109.5 291.707,-73.5 0,-73.5\" stroke=\"#000000\"/>\n",
       "<text fill=\"#000000\" font-family=\"Times,serif\" font-size=\"14.00\" text-anchor=\"middle\" x=\"145.8535\" y=\"-87.3\">global_max_pooling2d_4: GlobalMaxPooling2D</text>\n",
       "</g>\n",
       "<!-- 4851829264&#45;&gt;4852218832 -->\n",
       "<g class=\"edge\" id=\"edge4\">\n",
       "<title>4851829264-&gt;4852218832</title>\n",
       "<path d=\"M401.5009,-151.7008C354.8298,-140.7106 286.7103,-124.6695 232.5218,-111.909\" fill=\"none\" stroke=\"#000000\"/>\n",
       "<polygon fill=\"#000000\" points=\"233.1101,-108.4519 222.5741,-109.5665 231.5056,-115.2655 233.1101,-108.4519\" stroke=\"#000000\"/>\n",
       "</g>\n",
       "<!-- 4806604752 -->\n",
       "<g class=\"node\" id=\"node6\">\n",
       "<title>4806604752</title>\n",
       "<polygon fill=\"none\" points=\"310,-73.5 310,-109.5 601.707,-109.5 601.707,-73.5 310,-73.5\" stroke=\"#000000\"/>\n",
       "<text fill=\"#000000\" font-family=\"Times,serif\" font-size=\"14.00\" text-anchor=\"middle\" x=\"455.8535\" y=\"-87.3\">global_max_pooling2d_5: GlobalMaxPooling2D</text>\n",
       "</g>\n",
       "<!-- 4851829264&#45;&gt;4806604752 -->\n",
       "<g class=\"edge\" id=\"edge5\">\n",
       "<title>4851829264-&gt;4806604752</title>\n",
       "<path d=\"M455.8535,-146.4551C455.8535,-138.3828 455.8535,-128.6764 455.8535,-119.6817\" fill=\"none\" stroke=\"#000000\"/>\n",
       "<polygon fill=\"#000000\" points=\"459.3536,-119.5903 455.8535,-109.5904 452.3536,-119.5904 459.3536,-119.5903\" stroke=\"#000000\"/>\n",
       "</g>\n",
       "<!-- 4979314320 -->\n",
       "<g class=\"node\" id=\"node7\">\n",
       "<title>4979314320</title>\n",
       "<polygon fill=\"none\" points=\"620,-73.5 620,-109.5 911.707,-109.5 911.707,-73.5 620,-73.5\" stroke=\"#000000\"/>\n",
       "<text fill=\"#000000\" font-family=\"Times,serif\" font-size=\"14.00\" text-anchor=\"middle\" x=\"765.8535\" y=\"-87.3\">global_max_pooling2d_6: GlobalMaxPooling2D</text>\n",
       "</g>\n",
       "<!-- 4851829264&#45;&gt;4979314320 -->\n",
       "<g class=\"edge\" id=\"edge6\">\n",
       "<title>4851829264-&gt;4979314320</title>\n",
       "<path d=\"M510.2061,-151.7008C556.8772,-140.7106 624.9967,-124.6695 679.1852,-111.909\" fill=\"none\" stroke=\"#000000\"/>\n",
       "<polygon fill=\"#000000\" points=\"680.2014,-115.2655 689.1329,-109.5665 678.5969,-108.4519 680.2014,-115.2655\" stroke=\"#000000\"/>\n",
       "</g>\n",
       "<!-- 4968693456 -->\n",
       "<g class=\"node\" id=\"node8\">\n",
       "<title>4968693456</title>\n",
       "<polygon fill=\"none\" points=\"401.646,-.5 401.646,-36.5 510.061,-36.5 510.061,-.5 401.646,-.5\" stroke=\"#000000\"/>\n",
       "<text fill=\"#000000\" font-family=\"Times,serif\" font-size=\"14.00\" text-anchor=\"middle\" x=\"455.8535\" y=\"-14.3\">merge_2: Merge</text>\n",
       "</g>\n",
       "<!-- 4852218832&#45;&gt;4968693456 -->\n",
       "<g class=\"edge\" id=\"edge7\">\n",
       "<title>4852218832-&gt;4968693456</title>\n",
       "<path d=\"M222.4827,-73.4551C274.4823,-61.21 342.4513,-45.2044 391.6136,-33.6275\" fill=\"none\" stroke=\"#000000\"/>\n",
       "<polygon fill=\"#000000\" points=\"392.5639,-36.9995 401.4953,-31.3005 390.9593,-30.1859 392.5639,-36.9995\" stroke=\"#000000\"/>\n",
       "</g>\n",
       "<!-- 4806604752&#45;&gt;4968693456 -->\n",
       "<g class=\"edge\" id=\"edge8\">\n",
       "<title>4806604752-&gt;4968693456</title>\n",
       "<path d=\"M455.8535,-73.4551C455.8535,-65.3828 455.8535,-55.6764 455.8535,-46.6817\" fill=\"none\" stroke=\"#000000\"/>\n",
       "<polygon fill=\"#000000\" points=\"459.3536,-46.5903 455.8535,-36.5904 452.3536,-46.5904 459.3536,-46.5903\" stroke=\"#000000\"/>\n",
       "</g>\n",
       "<!-- 4979314320&#45;&gt;4968693456 -->\n",
       "<g class=\"edge\" id=\"edge9\">\n",
       "<title>4979314320-&gt;4968693456</title>\n",
       "<path d=\"M689.2243,-73.4551C637.2248,-61.21 569.2557,-45.2044 520.0934,-33.6275\" fill=\"none\" stroke=\"#000000\"/>\n",
       "<polygon fill=\"#000000\" points=\"520.7477,-30.1859 510.2117,-31.3005 519.1432,-36.9995 520.7477,-30.1859\" stroke=\"#000000\"/>\n",
       "</g>\n",
       "</g>\n",
       "</svg>"
      ],
      "text/plain": [
       "<IPython.core.display.SVG object>"
      ]
     },
     "execution_count": 18,
     "metadata": {},
     "output_type": "execute_result"
    }
   ],
   "source": [
    "from IPython.display import SVG\n",
    "from keras.utils.vis_utils import model_to_dot\n",
    "\n",
    "SVG(model_to_dot(triplet_model).create(prog='dot', format='svg'))"
   ]
  },
  {
   "cell_type": "code",
   "execution_count": 15,
   "metadata": {},
   "outputs": [],
   "source": [
    "#!rm 'images/.DS_Store'"
   ]
  },
  {
   "cell_type": "code",
   "execution_count": null,
   "metadata": {},
   "outputs": [],
   "source": [
    "'''def load_images(path):\n",
    "    \n",
    "    dataset=[]\n",
    "    #List all the files in a directory\n",
    "    labels = os.listdir(path)\n",
    "    \n",
    "    for label in tqdm(labels):\n",
    "        \n",
    "        #Making list for separate classes\n",
    "        images = os.listdir(path+\"/\"+label)\n",
    "        \n",
    "        for image in list(filter(lambda a: '.DS_Store' != a, images)):\n",
    "            anchor = cv2.imread(path+\"/\"+label+\"/\"+image)\n",
    "            for image1 in list(filter(lambda a: '.DS_Store' != a, images)):\n",
    "                p_img = cv2.imread(path+\"/\"+label+\"/\"+image1)\n",
    "                labels1 = [i for i in labels if i!=label]\n",
    "                \n",
    "                for label1 in labels1:\n",
    "                    images2 = os.listdir(path+\"/\"+label1)\n",
    "                    for image2 in list(filter(lambda a: '.DS_Store' != a, images2)):\n",
    "                        n_img = cv2.imread(path+\"/\"+label1+\"/\"+image2)\n",
    "                        dataset.append((anchor, p_img, n_img))\n",
    "    return dataset '''"
   ]
  },
  {
   "cell_type": "code",
   "execution_count": null,
   "metadata": {},
   "outputs": [],
   "source": [
    "def generator():\n",
    "    dataset=load_images(\"images\")\n",
    "\n",
    "    anchor=[]\n",
    "    p_img=[]\n",
    "    n_img=[]\n",
    "    \n",
    "    for i,j,k in dataset:\n",
    "        anchor.append(i)\n",
    "        p_img.append(j)\n",
    "        n_img.append(k)\n",
    "    \n",
    "    anchor=np.array(anchor)\n",
    "    p_img=np.array(p_img)\n",
    "    n_img=np.array(n_img)\n",
    "    \n",
    "    return anchor, p_img, n_img"
   ]
  },
  {
   "cell_type": "code",
   "execution_count": null,
   "metadata": {},
   "outputs": [],
   "source": [
    "anchor, p_img, n_img = generator()"
   ]
  },
  {
   "cell_type": "code",
   "execution_count": null,
   "metadata": {},
   "outputs": [],
   "source": [
    "print(anchor.shape)"
   ]
  },
  {
   "cell_type": "code",
   "execution_count": null,
   "metadata": {},
   "outputs": [],
   "source": [
    "model.fit(x=[anchor, p_img, n_img], y=np.zeros(anchor.shape[0]), verbose=1, batch_size=2048, epochs=2) "
   ]
  },
  {
   "cell_type": "code",
   "execution_count": null,
   "metadata": {},
   "outputs": [],
   "source": [
    "intermediate_layer_model = Model(inputs=model.input,\n",
    "                                 outputs=model.get_layer('global_max_pooling2d_4').output)"
   ]
  },
  {
   "cell_type": "code",
   "execution_count": null,
   "metadata": {},
   "outputs": [],
   "source": [
    "import matplotlib.pyplot as plt\n",
    "%matplotlib inline"
   ]
  },
  {
   "cell_type": "code",
   "execution_count": null,
   "metadata": {},
   "outputs": [],
   "source": [
    "for i in range(21, 40):\n",
    "    \n",
    "    f, axarr = plt.subplots(2,2)\n",
    "    \n",
    "    intermediate_output_a = intermediate_layer_model.predict([anchor[i-1:i], p_img[i-1:i], n_img[i-1:i]])\n",
    "    intermediate_output_b = intermediate_layer_model.predict([n_img[i-1:i], p_img[i-1:i], n_img[i-1:i]])\n",
    "    \n",
    "    axarr[0,0].imshow(anchor[i])\n",
    "    axarr[0,1].imshow(n_img[i])\n",
    "    \n",
    "    plt.show()\n",
    "    print \"distance between above two images\", np.linalg.norm(intermediate_output_a[0]-intermediate_output_b[0])\n",
    "    \n",
    "    \n",
    "\n"
   ]
  },
  {
   "cell_type": "code",
   "execution_count": 24,
   "metadata": {},
   "outputs": [
    {
     "data": {
      "text/plain": [
       "'1.4.1'"
      ]
     },
     "execution_count": 24,
     "metadata": {},
     "output_type": "execute_result"
    }
   ],
   "source": [
    "#import keras\n",
    "tf.__version__"
   ]
  },
  {
   "cell_type": "code",
   "execution_count": 12,
   "metadata": {},
   "outputs": [
    {
     "data": {
      "text/plain": [
       "list"
      ]
     },
     "execution_count": 12,
     "metadata": {},
     "output_type": "execute_result"
    }
   ],
   "source": [
    "x=[1,2,3,4,5,12,3,3,4,4,4,4,45,5,5,5,5,5,5,5]\n",
    "type(x)"
   ]
  },
  {
   "cell_type": "code",
   "execution_count": 13,
   "metadata": {},
   "outputs": [
    {
     "data": {
      "text/plain": [
       "(array([18.,  0.,  1.,  0.,  0.,  0.,  0.,  0.,  0.,  1.]),\n",
       " array([ 1. ,  5.4,  9.8, 14.2, 18.6, 23. , 27.4, 31.8, 36.2, 40.6, 45. ]),\n",
       " <a list of 10 Patch objects>)"
      ]
     },
     "execution_count": 13,
     "metadata": {},
     "output_type": "execute_result"
    },
    {
     "data": {
      "image/png": "[encoded data removed]",
      "text/plain": [
       "<Figure size 432x288 with 1 Axes>"
      ]
     },
     "metadata": {},
     "output_type": "display_data"
    }
   ],
   "source": [
    "plt.hist(x)"
   ]
  },
  {
   "cell_type": "code",
   "execution_count": null,
   "metadata": {},
   "outputs": [],
   "source": []
  }
 ],
 "metadata": {
  "anaconda-cloud": {},
  "kernelspec": {
   "display_name": "Python 2",
   "language": "python",
   "name": "python2"
  },
  "language_info": {
   "codemirror_mode": {
    "name": "ipython",
    "version": 2
   },
   "file_extension": ".py",
   "mimetype": "text/x-python",
   "name": "python",
   "nbconvert_exporter": "python",
   "pygments_lexer": "ipython2",
   "version": "2.7.15"
  }
 },
 "nbformat": 4,
 "nbformat_minor": 1
}

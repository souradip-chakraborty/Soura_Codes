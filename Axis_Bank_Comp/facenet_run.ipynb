{
 "cells": [
  {
   "cell_type": "code",
   "execution_count": 1,
   "metadata": {},
   "outputs": [
    {
     "name": "stderr",
     "output_type": "stream",
     "text": [
      "/Users/s0c02nj/anaconda2/lib/python2.7/site-packages/h5py/__init__.py:36: FutureWarning: Conversion of the second argument of issubdtype from `float` to `np.floating` is deprecated. In future, it will be treated as `np.float64 == np.dtype(float).type`.\n",
      "  from ._conv import register_converters as _register_converters\n",
      "Using TensorFlow backend.\n"
     ]
    }
   ],
   "source": [
    "from keras import backend as K\n",
    "import time\n",
    "import cv2\n",
    "import os\n",
    "import glob\n",
    "import numpy as np\n",
    "from numpy import genfromtxt\n",
    "import tensorflow as tf\n",
    "#import tqdm"
   ]
  },
  {
   "cell_type": "code",
   "execution_count": 2,
   "metadata": {},
   "outputs": [],
   "source": [
    "from multiprocessing.dummy import Pool\n",
    "K.set_image_data_format('channels_first')"
   ]
  },
  {
   "cell_type": "code",
   "execution_count": 3,
   "metadata": {},
   "outputs": [],
   "source": [
    "from fr_utils import *"
   ]
  },
  {
   "cell_type": "code",
   "execution_count": 4,
   "metadata": {},
   "outputs": [],
   "source": [
    "from inception_blocks_v2 import *"
   ]
  },
  {
   "cell_type": "code",
   "execution_count": 5,
   "metadata": {},
   "outputs": [],
   "source": [
    "PADDING = 50\n",
    "#ready_to_detect_identity = True\n",
    "FRmodel = faceRecoModel(input_shape=(3, 96, 96))"
   ]
  },
  {
   "cell_type": "code",
   "execution_count": 6,
   "metadata": {},
   "outputs": [],
   "source": [
    "def img_to_array(image):\n",
    "    img = cv2.resize(image, (96, 96)) \n",
    "    x_train = np.array([img])\n",
    "    return x_train"
   ]
  },
  {
   "cell_type": "code",
   "execution_count": 7,
   "metadata": {},
   "outputs": [],
   "source": [
    "def img_path_to_array(image_path):\n",
    "    img1 = cv2.imread(image_path, 1)\n",
    "    return img_to_array(img1)"
   ]
  },
  {
   "cell_type": "code",
   "execution_count": 8,
   "metadata": {},
   "outputs": [],
   "source": [
    "def prepare_database_tr(location):\n",
    "    database = {}\n",
    "\n",
    "    # load all the images of individuals to recognize into the database\n",
    "    for file in glob.glob(location):\n",
    "        identity = os.path.splitext(os.path.basename(file))[0].strip('NISDCC-_6g')\n",
    "        #print (identity)\n",
    "        database[identity] = img_path_to_array(file)\n",
    "\n",
    "    return database"
   ]
  },
  {
   "cell_type": "code",
   "execution_count": 9,
   "metadata": {},
   "outputs": [],
   "source": [
    "train_image_arrays = prepare_database_tr('/Users/s0c02nj/Desktop/Dataset-AxisBankAI/final_database_sign/training/*.PNG')\n"
   ]
  },
  {
   "cell_type": "code",
   "execution_count": 10,
   "metadata": {},
   "outputs": [
    {
     "name": "stdout",
     "output_type": "stream",
     "text": [
      "0.123600006104\n"
     ]
    }
   ],
   "source": [
    "triplet_str_tr=[]\n",
    "\n",
    "t1= time.time()\n",
    "for i in range(1,13):\n",
    "    for ja in range(1,6):\n",
    "        for k in range(23,52):\n",
    "             for jn in range(1,6):\n",
    "                    for jp in range(1,6):\n",
    "                        #print (i,ja,k,jn,jp)\n",
    "                        if (jp!=ja):\n",
    "                            \n",
    "                            if(i<10):\n",
    "                                a='00'+ str(i)+'_00'+str(i)+'_00'+str(ja)\n",
    "                                b='00'+ str(i) +'_00'+str(i)+'_00'+str(jp)\n",
    "                                c='0'+str(k)+'_00'+str(i)+'_00'+str(jn)\n",
    "                            else:\n",
    "                                a='0'+str(i)+'_0'+str(i)+'_00'+str(ja)\n",
    "                                b='0'+str(i)+'_0'+str(i)+'_00'+str(jp)\n",
    "                                c='0'+str(k)+'_0'+str(i)+'_00'+str(jn)\n",
    "                            \n",
    "                            x= (a,b,c)\n",
    "                            triplet_str_tr.append(x)\n",
    "                        \n",
    "                    \n",
    "t2=time.time()\n",
    "\n",
    "print (t2-t1)\n"
   ]
  },
  {
   "cell_type": "code",
   "execution_count": 11,
   "metadata": {},
   "outputs": [],
   "source": [
    "anchor_tr=[]\n",
    "positive_tr=[]\n",
    "negative_tr=[]\n",
    "\n",
    "for img_name in triplet_str_tr:\n",
    "    anchor_tr.append(train_image_arrays[img_name[0]])\n",
    "    positive_tr.append(train_image_arrays[img_name[1]])\n",
    "    negative_tr.append(train_image_arrays[img_name[2]])"
   ]
  },
  {
   "cell_type": "code",
   "execution_count": 12,
   "metadata": {},
   "outputs": [],
   "source": [
    "x_a_tr=np.array(anchor_tr).reshape((len(anchor_tr), 3,96,96))\n",
    "x_p_tr=np.array(positive_tr).reshape((len(positive_tr), 3,96,96))\n",
    "x_n_tr=np.array(negative_tr).reshape((len(negative_tr), 3,96,96))\n"
   ]
  },
  {
   "cell_type": "code",
   "execution_count": 15,
   "metadata": {},
   "outputs": [],
   "source": [
    "anc_emb_tr=FRmodel.predict(x_a_tr)\n",
    "#pos_emb_tr=intermediate_layer_model_positive.predict([x_a_tr, x_p_tr, x_n_tr])\n",
    "#neg_emb_tr=intermediate_layer_model_negative.predict([x_a_tr, x_p_tr, x_n_tr])"
   ]
  },
  {
   "cell_type": "code",
   "execution_count": 13,
   "metadata": {},
   "outputs": [],
   "source": [
    "pos_emb_tr=FRmodel.predict(x_p_tr)"
   ]
  },
  {
   "cell_type": "code",
   "execution_count": null,
   "metadata": {},
   "outputs": [],
   "source": [
    "neg_emb_tr=FRmodel.predict(x_n_tr)"
   ]
  },
  {
   "cell_type": "code",
   "execution_count": null,
   "metadata": {},
   "outputs": [],
   "source": [
    "data_anc_tr = {}\n",
    "data_pos_tr = {}\n",
    "data_neg_tr = {}\n",
    "for i in range(0,len(triplet_str_tr)):\n",
    "    #Anchor dict\n",
    "    a_id = triplet_str_tr[i][0]\n",
    "    if a_id not in data_anc_tr.keys():\n",
    "        data_anc_tr[a_id]= np.array(anc_emb_tr[i])\n",
    "        \n",
    "    #Pos dict\n",
    "    p_id = triplet_str_tr[i][1]\n",
    "    if p_id not in data_pos_tr.keys():\n",
    "        data_pos_tr[p_id]= np.array(pos_emb_tr[i])\n",
    "        \n",
    "    #Neg dict\n",
    "    n_id = triplet_str_tr[i][2]\n",
    "    if n_id not in data_neg_tr.keys():\n",
    "        data_neg_tr[n_id]= np.array(neg_emb_tr[i])"
   ]
  },
  {
   "cell_type": "code",
   "execution_count": null,
   "metadata": {},
   "outputs": [],
   "source": [
    "#Pairwise pos str\n",
    "pair_pos_str_tr=[]\n",
    "for i in range(1,13):\n",
    "    for ja in range(1,6):\n",
    "        for jp in range(1,6):\n",
    "            if (jp!=ja):\n",
    "                if (i<10) :\n",
    "                    a='00'+ str(i)+'_00'+str(i)+'_00'+str(ja)\n",
    "                    b='00'+ str(i) +'_00'+str(i)+'_00'+str(jp)\n",
    "                else :\n",
    "                   a='0'+str(i)+'_0'+str(i)+'_00'+str(ja)\n",
    "                   b='0'+str(i)+'_0'+str(i)+'_00'+str(jp)\n",
    "                \n",
    "                pos_pair=(a,b)\n",
    "                pair_pos_str_tr.append(pos_pair)"
   ]
  },
  {
   "cell_type": "code",
   "execution_count": null,
   "metadata": {},
   "outputs": [],
   "source": [
    "#Pairwise negative str\n",
    "pair_neg_str_tr=[]\n",
    "for i in range(1,13):\n",
    "    for ja in range(1,6):\n",
    "        for k in range(23,52):\n",
    "            for jn in range(1,6):\n",
    "                if (i<10):\n",
    "                    a='00'+ str(i)+'_00'+str(i)+'_00'+str(ja)\n",
    "                    b='0'+ str(k) +'_00'+str(i)+'_00'+str(jn)\n",
    "                else :\n",
    "                    a='0'+ str(i)+'_0'+str(i)+'_00'+str(ja)\n",
    "                    b='0'+ str(k)+'_0'+str(i)+'_00'+str(jn)\n",
    "                    \n",
    "                pair_neg=(a,b)\n",
    "                pair_neg_str_tr.append(pair_neg)\n"
   ]
  },
  {
   "cell_type": "code",
   "execution_count": null,
   "metadata": {},
   "outputs": [],
   "source": []
  },
  {
   "cell_type": "code",
   "execution_count": null,
   "metadata": {},
   "outputs": [],
   "source": []
  },
  {
   "cell_type": "code",
   "execution_count": null,
   "metadata": {},
   "outputs": [],
   "source": []
  }
 ],
 "metadata": {
  "kernelspec": {
   "display_name": "Python 2",
   "language": "python",
   "name": "python2"
  },
  "language_info": {
   "codemirror_mode": {
    "name": "ipython",
    "version": 2
   },
   "file_extension": ".py",
   "mimetype": "text/x-python",
   "name": "python",
   "nbconvert_exporter": "python",
   "pygments_lexer": "ipython2",
   "version": "2.7.15"
  }
 },
 "nbformat": 4,
 "nbformat_minor": 2
}

{
 "cells": [
  {
   "cell_type": "code",
   "execution_count": 1,
   "metadata": {},
   "outputs": [],
   "source": [
    "import pandas as pd\n",
    "import numpy as np\n",
    "from matplotlib import pyplot as plt\n",
    "from sklearn.preprocessing import Imputer\n",
    "from datetime import timedelta, date\n",
    "import statsmodels\n",
    "from statsmodels.tsa.stattools import adfuller\n",
    "from statsmodels.stats.stattools import durbin_watson\n",
    "from sklearn.preprocessing import LabelEncoder\n",
    "from statsmodels.formula.api import ols\n",
    "from scipy import stats\n",
    "import seaborn as sns\n",
    "from statsmodels.graphics.gofplots import qqplot\n",
    "from scipy.stats import shapiro\n",
    "from tqdm import tqdm\n",
    "import itertools\n",
    "from dtw import dtw\n",
    "from fastdtw import fastdtw\n",
    "from scipy.spatial.distance import euclidean\n",
    "import time\n",
    "#%matplotlib inline"
   ]
  },
  {
   "cell_type": "code",
   "execution_count": 4,
   "metadata": {},
   "outputs": [],
   "source": [
    "store_data=pd.read_csv('/Users/s0c02nj/Desktop/Store_Cluster/store.csv')\n",
    "train=pd.read_csv('/Users/s0c02nj/Desktop/Store_Cluster/train.csv')"
   ]
  },
  {
   "cell_type": "code",
   "execution_count": 3,
   "metadata": {},
   "outputs": [
    {
     "data": {
      "text/html": [
       "<div>\n",
       "<style scoped>\n",
       "    .dataframe tbody tr th:only-of-type {\n",
       "        vertical-align: middle;\n",
       "    }\n",
       "\n",
       "    .dataframe tbody tr th {\n",
       "        vertical-align: top;\n",
       "    }\n",
       "\n",
       "    .dataframe thead th {\n",
       "        text-align: right;\n",
       "    }\n",
       "</style>\n",
       "<table border=\"1\" class=\"dataframe\">\n",
       "  <thead>\n",
       "    <tr style=\"text-align: right;\">\n",
       "      <th></th>\n",
       "      <th>Store</th>\n",
       "      <th>DayOfWeek</th>\n",
       "      <th>Date</th>\n",
       "      <th>Sales</th>\n",
       "      <th>Customers</th>\n",
       "      <th>Open</th>\n",
       "      <th>Promo</th>\n",
       "      <th>StateHoliday</th>\n",
       "      <th>SchoolHoliday</th>\n",
       "    </tr>\n",
       "  </thead>\n",
       "  <tbody>\n",
       "    <tr>\n",
       "      <th>0</th>\n",
       "      <td>1</td>\n",
       "      <td>5</td>\n",
       "      <td>2015-07-31</td>\n",
       "      <td>5263</td>\n",
       "      <td>555</td>\n",
       "      <td>1</td>\n",
       "      <td>1</td>\n",
       "      <td>0</td>\n",
       "      <td>1</td>\n",
       "    </tr>\n",
       "    <tr>\n",
       "      <th>1</th>\n",
       "      <td>2</td>\n",
       "      <td>5</td>\n",
       "      <td>2015-07-31</td>\n",
       "      <td>6064</td>\n",
       "      <td>625</td>\n",
       "      <td>1</td>\n",
       "      <td>1</td>\n",
       "      <td>0</td>\n",
       "      <td>1</td>\n",
       "    </tr>\n",
       "    <tr>\n",
       "      <th>2</th>\n",
       "      <td>3</td>\n",
       "      <td>5</td>\n",
       "      <td>2015-07-31</td>\n",
       "      <td>8314</td>\n",
       "      <td>821</td>\n",
       "      <td>1</td>\n",
       "      <td>1</td>\n",
       "      <td>0</td>\n",
       "      <td>1</td>\n",
       "    </tr>\n",
       "    <tr>\n",
       "      <th>3</th>\n",
       "      <td>4</td>\n",
       "      <td>5</td>\n",
       "      <td>2015-07-31</td>\n",
       "      <td>13995</td>\n",
       "      <td>1498</td>\n",
       "      <td>1</td>\n",
       "      <td>1</td>\n",
       "      <td>0</td>\n",
       "      <td>1</td>\n",
       "    </tr>\n",
       "    <tr>\n",
       "      <th>4</th>\n",
       "      <td>5</td>\n",
       "      <td>5</td>\n",
       "      <td>2015-07-31</td>\n",
       "      <td>4822</td>\n",
       "      <td>559</td>\n",
       "      <td>1</td>\n",
       "      <td>1</td>\n",
       "      <td>0</td>\n",
       "      <td>1</td>\n",
       "    </tr>\n",
       "  </tbody>\n",
       "</table>\n",
       "</div>"
      ],
      "text/plain": [
       "   Store  DayOfWeek        Date  Sales  Customers  Open  Promo StateHoliday  \\\n",
       "0      1          5  2015-07-31   5263        555     1      1            0   \n",
       "1      2          5  2015-07-31   6064        625     1      1            0   \n",
       "2      3          5  2015-07-31   8314        821     1      1            0   \n",
       "3      4          5  2015-07-31  13995       1498     1      1            0   \n",
       "4      5          5  2015-07-31   4822        559     1      1            0   \n",
       "\n",
       "   SchoolHoliday  \n",
       "0              1  \n",
       "1              1  \n",
       "2              1  \n",
       "3              1  \n",
       "4              1  "
      ]
     },
     "execution_count": 3,
     "metadata": {},
     "output_type": "execute_result"
    }
   ],
   "source": [
    "train.head()"
   ]
  },
  {
   "cell_type": "markdown",
   "metadata": {},
   "source": [
    "#### Time Series Analysis on Store Data ------> Temporal Part of the Data"
   ]
  },
  {
   "cell_type": "code",
   "execution_count": 5,
   "metadata": {},
   "outputs": [],
   "source": [
    "unique_stores = list(train['Store'].unique())"
   ]
  },
  {
   "cell_type": "code",
   "execution_count": 6,
   "metadata": {},
   "outputs": [],
   "source": [
    "#Store1_data_analysis\n",
    "df_s1 = train[train['Store'] == 14]"
   ]
  },
  {
   "cell_type": "code",
   "execution_count": 7,
   "metadata": {},
   "outputs": [],
   "source": [
    "unique_stores = list(train['Store'].unique())\n",
    "time_av = []\n",
    "for store in unique_stores:\n",
    "    time_av.append(train[train['Store'] == store].shape[0])"
   ]
  },
  {
   "cell_type": "code",
   "execution_count": 8,
   "metadata": {},
   "outputs": [
    {
     "data": {
      "text/plain": [
       "array([758, 941, 942])"
      ]
     },
     "execution_count": 8,
     "metadata": {},
     "output_type": "execute_result"
    }
   ],
   "source": [
    "np.unique(time_av)"
   ]
  },
  {
   "cell_type": "code",
   "execution_count": 9,
   "metadata": {},
   "outputs": [
    {
     "name": "stderr",
     "output_type": "stream",
     "text": [
      "/Users/s0c02nj/anaconda2/envs/graph/lib/python3.6/site-packages/ipykernel_launcher.py:3: SettingWithCopyWarning: \n",
      "A value is trying to be set on a copy of a slice from a DataFrame.\n",
      "Try using .loc[row_indexer,col_indexer] = value instead\n",
      "\n",
      "See the caveats in the documentation: http://pandas.pydata.org/pandas-docs/stable/indexing.html#indexing-view-versus-copy\n",
      "  This is separate from the ipykernel package so we can avoid doing imports until\n"
     ]
    }
   ],
   "source": [
    "#Converting to Date_Time_Format\n",
    "col = 'date'\n",
    "df_s1['Date_new'] = pd.to_datetime(df_s1['Date'])"
   ]
  },
  {
   "cell_type": "code",
   "execution_count": 10,
   "metadata": {},
   "outputs": [
    {
     "name": "stderr",
     "output_type": "stream",
     "text": [
      "/Users/s0c02nj/anaconda2/envs/graph/lib/python3.6/site-packages/ipykernel_launcher.py:2: SettingWithCopyWarning: \n",
      "A value is trying to be set on a copy of a slice from a DataFrame.\n",
      "Try using .loc[row_indexer,col_indexer] = value instead\n",
      "\n",
      "See the caveats in the documentation: http://pandas.pydata.org/pandas-docs/stable/indexing.html#indexing-view-versus-copy\n",
      "  \n",
      "/Users/s0c02nj/anaconda2/envs/graph/lib/python3.6/site-packages/ipykernel_launcher.py:3: SettingWithCopyWarning: \n",
      "A value is trying to be set on a copy of a slice from a DataFrame.\n",
      "Try using .loc[row_indexer,col_indexer] = value instead\n",
      "\n",
      "See the caveats in the documentation: http://pandas.pydata.org/pandas-docs/stable/indexing.html#indexing-view-versus-copy\n",
      "  This is separate from the ipykernel package so we can avoid doing imports until\n",
      "/Users/s0c02nj/anaconda2/envs/graph/lib/python3.6/site-packages/ipykernel_launcher.py:4: SettingWithCopyWarning: \n",
      "A value is trying to be set on a copy of a slice from a DataFrame.\n",
      "Try using .loc[row_indexer,col_indexer] = value instead\n",
      "\n",
      "See the caveats in the documentation: http://pandas.pydata.org/pandas-docs/stable/indexing.html#indexing-view-versus-copy\n",
      "  after removing the cwd from sys.path.\n",
      "/Users/s0c02nj/anaconda2/envs/graph/lib/python3.6/site-packages/ipykernel_launcher.py:5: SettingWithCopyWarning: \n",
      "A value is trying to be set on a copy of a slice from a DataFrame.\n",
      "Try using .loc[row_indexer,col_indexer] = value instead\n",
      "\n",
      "See the caveats in the documentation: http://pandas.pydata.org/pandas-docs/stable/indexing.html#indexing-view-versus-copy\n",
      "  \"\"\"\n"
     ]
    }
   ],
   "source": [
    "#Extracting the Date,month and Year\n",
    "df_s1['Week'] = df_s1['Date_new'].dt.week\n",
    "df_s1['Month'] = df_s1['Date_new'].dt.month\n",
    "df_s1['Day'] = df_s1['Date_new'].dt.day\n",
    "df_s1['Year'] = df_s1['Date_new'].dt.year"
   ]
  },
  {
   "cell_type": "code",
   "execution_count": 11,
   "metadata": {},
   "outputs": [
    {
     "name": "stderr",
     "output_type": "stream",
     "text": [
      "/Users/s0c02nj/anaconda2/envs/graph/lib/python3.6/site-packages/ipykernel_launcher.py:1: SettingWithCopyWarning: \n",
      "A value is trying to be set on a copy of a slice from a DataFrame.\n",
      "Try using .loc[row_indexer,col_indexer] = value instead\n",
      "\n",
      "See the caveats in the documentation: http://pandas.pydata.org/pandas-docs/stable/indexing.html#indexing-view-versus-copy\n",
      "  \"\"\"Entry point for launching an IPython kernel.\n"
     ]
    }
   ],
   "source": [
    "df_s1['Time'] = range(0,len(df_s1))[::-1]\n",
    "df_s1.index = range(0,len(df_s1))\n",
    "df_s1 = df_s1.drop(['Date_new'],axis = 1)"
   ]
  },
  {
   "cell_type": "code",
   "execution_count": 12,
   "metadata": {},
   "outputs": [
    {
     "data": {
      "text/plain": [
       "<matplotlib.collections.PathCollection at 0x10c6dc080>"
      ]
     },
     "execution_count": 12,
     "metadata": {},
     "output_type": "execute_result"
    },
    {
     "data": {
      "image/png": "[encoded data removed]",
      "text/plain": [
       "<Figure size 432x288 with 1 Axes>"
      ]
     },
     "metadata": {
      "needs_background": "light"
     },
     "output_type": "display_data"
    }
   ],
   "source": [
    "#Plotting the Time Series\n",
    "plt.scatter(df_s1['Time'],df_s1['Sales'])\n",
    "#plt.ylim(0,10)\n"
   ]
  },
  {
   "cell_type": "code",
   "execution_count": 13,
   "metadata": {},
   "outputs": [
    {
     "data": {
      "text/plain": [
       "[<matplotlib.lines.Line2D at 0x10d4e3208>]"
      ]
     },
     "execution_count": 13,
     "metadata": {},
     "output_type": "execute_result"
    },
    {
     "data": {
      "image/png": "[encoded data removed]",
      "text/plain": [
       "<Figure size 432x288 with 1 Axes>"
      ]
     },
     "metadata": {
      "needs_background": "light"
     },
     "output_type": "display_data"
    }
   ],
   "source": [
    "plt.plot(df_s1['Sales'])"
   ]
  },
  {
   "cell_type": "markdown",
   "metadata": {},
   "source": [
    "+ 1.There are zero values of Sales for several time points, which needs to be removed.\n",
    "+ 2.Need to check if the data is stationary or not\n",
    "+ 3.We can go for statistical comparisons."
   ]
  },
  {
   "cell_type": "code",
   "execution_count": 14,
   "metadata": {},
   "outputs": [],
   "source": [
    "#Time Series Testing\n",
    "timeseries = df_s1['Sales']\n",
    "adfTest = adfuller(timeseries, autolag='AIC')"
   ]
  },
  {
   "cell_type": "code",
   "execution_count": 15,
   "metadata": {},
   "outputs": [
    {
     "data": {
      "text/plain": [
       "1.4726745167750548e-07"
      ]
     },
     "execution_count": 15,
     "metadata": {},
     "output_type": "execute_result"
    }
   ],
   "source": [
    "adfTest[1]"
   ]
  },
  {
   "cell_type": "markdown",
   "metadata": {},
   "source": [
    "+ Though we can observe clear pattern indicating that at Day of Week -->'7', the value is 0.\n",
    "+ So,we need to understand the reasons and factors and separate out the same\n",
    "+ So,there will be autocorrelation between the output errors --> Observations won't be indepedent."
   ]
  },
  {
   "cell_type": "code",
   "execution_count": 16,
   "metadata": {},
   "outputs": [
    {
     "data": {
      "text/plain": [
       "0.435377153779586"
      ]
     },
     "execution_count": 16,
     "metadata": {},
     "output_type": "execute_result"
    }
   ],
   "source": [
    "durbin_watson(timeseries)"
   ]
  },
  {
   "cell_type": "markdown",
   "metadata": {},
   "source": [
    "+ Durbin Watson Test of Serial Correlation indicates that their is serial correlation present in the observations \n",
    "+ and hence we will be doing dummy variable regression with the independent variables to remove any significant effect"
   ]
  },
  {
   "cell_type": "code",
   "execution_count": 17,
   "metadata": {},
   "outputs": [
    {
     "data": {
      "text/html": [
       "<div>\n",
       "<style scoped>\n",
       "    .dataframe tbody tr th:only-of-type {\n",
       "        vertical-align: middle;\n",
       "    }\n",
       "\n",
       "    .dataframe tbody tr th {\n",
       "        vertical-align: top;\n",
       "    }\n",
       "\n",
       "    .dataframe thead th {\n",
       "        text-align: right;\n",
       "    }\n",
       "</style>\n",
       "<table border=\"1\" class=\"dataframe\">\n",
       "  <thead>\n",
       "    <tr style=\"text-align: right;\">\n",
       "      <th></th>\n",
       "      <th>Store</th>\n",
       "      <th>DayOfWeek</th>\n",
       "      <th>Date</th>\n",
       "      <th>Sales</th>\n",
       "      <th>Customers</th>\n",
       "      <th>Open</th>\n",
       "      <th>Promo</th>\n",
       "      <th>StateHoliday</th>\n",
       "      <th>SchoolHoliday</th>\n",
       "      <th>Week</th>\n",
       "      <th>Month</th>\n",
       "      <th>Day</th>\n",
       "      <th>Year</th>\n",
       "      <th>Time</th>\n",
       "    </tr>\n",
       "  </thead>\n",
       "  <tbody>\n",
       "    <tr>\n",
       "      <th>0</th>\n",
       "      <td>14</td>\n",
       "      <td>5</td>\n",
       "      <td>2015-07-31</td>\n",
       "      <td>6544</td>\n",
       "      <td>710</td>\n",
       "      <td>1</td>\n",
       "      <td>1</td>\n",
       "      <td>0</td>\n",
       "      <td>1</td>\n",
       "      <td>31</td>\n",
       "      <td>7</td>\n",
       "      <td>31</td>\n",
       "      <td>2015</td>\n",
       "      <td>941</td>\n",
       "    </tr>\n",
       "    <tr>\n",
       "      <th>1</th>\n",
       "      <td>14</td>\n",
       "      <td>4</td>\n",
       "      <td>2015-07-30</td>\n",
       "      <td>5672</td>\n",
       "      <td>613</td>\n",
       "      <td>1</td>\n",
       "      <td>1</td>\n",
       "      <td>0</td>\n",
       "      <td>1</td>\n",
       "      <td>31</td>\n",
       "      <td>7</td>\n",
       "      <td>30</td>\n",
       "      <td>2015</td>\n",
       "      <td>940</td>\n",
       "    </tr>\n",
       "    <tr>\n",
       "      <th>2</th>\n",
       "      <td>14</td>\n",
       "      <td>3</td>\n",
       "      <td>2015-07-29</td>\n",
       "      <td>5412</td>\n",
       "      <td>579</td>\n",
       "      <td>1</td>\n",
       "      <td>1</td>\n",
       "      <td>0</td>\n",
       "      <td>1</td>\n",
       "      <td>31</td>\n",
       "      <td>7</td>\n",
       "      <td>29</td>\n",
       "      <td>2015</td>\n",
       "      <td>939</td>\n",
       "    </tr>\n",
       "    <tr>\n",
       "      <th>3</th>\n",
       "      <td>14</td>\n",
       "      <td>2</td>\n",
       "      <td>2015-07-28</td>\n",
       "      <td>5957</td>\n",
       "      <td>628</td>\n",
       "      <td>1</td>\n",
       "      <td>1</td>\n",
       "      <td>0</td>\n",
       "      <td>1</td>\n",
       "      <td>31</td>\n",
       "      <td>7</td>\n",
       "      <td>28</td>\n",
       "      <td>2015</td>\n",
       "      <td>938</td>\n",
       "    </tr>\n",
       "    <tr>\n",
       "      <th>4</th>\n",
       "      <td>14</td>\n",
       "      <td>1</td>\n",
       "      <td>2015-07-27</td>\n",
       "      <td>6614</td>\n",
       "      <td>727</td>\n",
       "      <td>1</td>\n",
       "      <td>1</td>\n",
       "      <td>0</td>\n",
       "      <td>1</td>\n",
       "      <td>31</td>\n",
       "      <td>7</td>\n",
       "      <td>27</td>\n",
       "      <td>2015</td>\n",
       "      <td>937</td>\n",
       "    </tr>\n",
       "  </tbody>\n",
       "</table>\n",
       "</div>"
      ],
      "text/plain": [
       "   Store  DayOfWeek        Date  Sales  Customers  Open  Promo StateHoliday  \\\n",
       "0     14          5  2015-07-31   6544        710     1      1            0   \n",
       "1     14          4  2015-07-30   5672        613     1      1            0   \n",
       "2     14          3  2015-07-29   5412        579     1      1            0   \n",
       "3     14          2  2015-07-28   5957        628     1      1            0   \n",
       "4     14          1  2015-07-27   6614        727     1      1            0   \n",
       "\n",
       "   SchoolHoliday  Week  Month  Day  Year  Time  \n",
       "0              1    31      7   31  2015   941  \n",
       "1              1    31      7   30  2015   940  \n",
       "2              1    31      7   29  2015   939  \n",
       "3              1    31      7   28  2015   938  \n",
       "4              1    31      7   27  2015   937  "
      ]
     },
     "execution_count": 17,
     "metadata": {},
     "output_type": "execute_result"
    }
   ],
   "source": [
    "df_s1.head()"
   ]
  },
  {
   "cell_type": "code",
   "execution_count": 18,
   "metadata": {},
   "outputs": [
    {
     "data": {
      "text/plain": [
       "array([[1.        , 0.98289125],\n",
       "       [0.98289125, 1.        ]])"
      ]
     },
     "execution_count": 18,
     "metadata": {},
     "output_type": "execute_result"
    }
   ],
   "source": [
    "np.corrcoef(df_s1['Sales'],df_s1['Customers'])"
   ]
  },
  {
   "cell_type": "markdown",
   "metadata": {},
   "source": [
    "+ The above result signifies that the Sales and Customers have the same information and hence we can use anyone for the embeddings\n",
    "+ Hence going for Dummy Variable Regression Model to remove Serial Correlation Effect"
   ]
  },
  {
   "cell_type": "markdown",
   "metadata": {},
   "source": [
    "#### Dummy Variable Regression Model"
   ]
  },
  {
   "cell_type": "code",
   "execution_count": 19,
   "metadata": {},
   "outputs": [],
   "source": [
    "#Converting the columns to categorical variables\n",
    "#cols = ['DayOfWeek','Open','Promo','StateHoliday','SchoolHoliday','Week','Month','Day','Year']\n",
    "\n",
    "dummy_model = ols(formula='Sales~C(DayOfWeek)+C(Open)+C(StateHoliday)+'\n",
    "                      'C(SchoolHoliday)+C(Week)+C(Month)+C(Day)+C(Day)', \n",
    "                      data=df_s1).fit()"
   ]
  },
  {
   "cell_type": "code",
   "execution_count": 20,
   "metadata": {},
   "outputs": [
    {
     "data": {
      "text/html": [
       "<table class=\"simpletable\">\n",
       "<caption>OLS Regression Results</caption>\n",
       "<tr>\n",
       "  <th>Dep. Variable:</th>          <td>Sales</td>      <th>  R-squared:         </th> <td>   0.920</td> \n",
       "</tr>\n",
       "<tr>\n",
       "  <th>Model:</th>                   <td>OLS</td>       <th>  Adj. R-squared:    </th> <td>   0.910</td> \n",
       "</tr>\n",
       "<tr>\n",
       "  <th>Method:</th>             <td>Least Squares</td>  <th>  F-statistic:       </th> <td>   92.96</td> \n",
       "</tr>\n",
       "<tr>\n",
       "  <th>Date:</th>             <td>Mon, 02 Sep 2019</td> <th>  Prob (F-statistic):</th>  <td>  0.00</td>  \n",
       "</tr>\n",
       "<tr>\n",
       "  <th>Time:</th>                 <td>23:50:09</td>     <th>  Log-Likelihood:    </th> <td> -7512.5</td> \n",
       "</tr>\n",
       "<tr>\n",
       "  <th>No. Observations:</th>      <td>   942</td>      <th>  AIC:               </th> <td>1.523e+04</td>\n",
       "</tr>\n",
       "<tr>\n",
       "  <th>Df Residuals:</th>          <td>   838</td>      <th>  BIC:               </th> <td>1.574e+04</td>\n",
       "</tr>\n",
       "<tr>\n",
       "  <th>Df Model:</th>              <td>   103</td>      <th>                     </th>     <td> </td>    \n",
       "</tr>\n",
       "<tr>\n",
       "  <th>Covariance Type:</th>      <td>nonrobust</td>    <th>                     </th>     <td> </td>    \n",
       "</tr>\n",
       "</table>\n",
       "<table class=\"simpletable\">\n",
       "<tr>\n",
       "            <td></td>               <th>coef</th>     <th>std err</th>      <th>t</th>      <th>P>|t|</th>  <th>[0.025</th>    <th>0.975]</th>  \n",
       "</tr>\n",
       "<tr>\n",
       "  <th>Intercept</th>             <td> 1456.7740</td> <td>  234.178</td> <td>    6.221</td> <td> 0.000</td> <td>  997.129</td> <td> 1916.419</td>\n",
       "</tr>\n",
       "<tr>\n",
       "  <th>C(DayOfWeek)[T.2]</th>     <td> -855.9901</td> <td>   91.869</td> <td>   -9.317</td> <td> 0.000</td> <td>-1036.311</td> <td> -675.669</td>\n",
       "</tr>\n",
       "<tr>\n",
       "  <th>C(DayOfWeek)[T.3]</th>     <td>-1272.7971</td> <td>   92.297</td> <td>  -13.790</td> <td> 0.000</td> <td>-1453.958</td> <td>-1091.636</td>\n",
       "</tr>\n",
       "<tr>\n",
       "  <th>C(DayOfWeek)[T.4]</th>     <td>-1192.7112</td> <td>   93.170</td> <td>  -12.801</td> <td> 0.000</td> <td>-1375.585</td> <td>-1009.837</td>\n",
       "</tr>\n",
       "<tr>\n",
       "  <th>C(DayOfWeek)[T.5]</th>     <td> -977.7602</td> <td>   92.664</td> <td>  -10.552</td> <td> 0.000</td> <td>-1159.640</td> <td> -795.880</td>\n",
       "</tr>\n",
       "<tr>\n",
       "  <th>C(DayOfWeek)[T.6]</th>     <td>-3316.2528</td> <td>   95.944</td> <td>  -34.564</td> <td> 0.000</td> <td>-3504.572</td> <td>-3127.934</td>\n",
       "</tr>\n",
       "<tr>\n",
       "  <th>C(DayOfWeek)[T.7]</th>     <td>-1495.0266</td> <td>  142.945</td> <td>  -10.459</td> <td> 0.000</td> <td>-1775.598</td> <td>-1214.455</td>\n",
       "</tr>\n",
       "<tr>\n",
       "  <th>C(Open)[T.1]</th>          <td> 5366.9085</td> <td>  130.033</td> <td>   41.273</td> <td> 0.000</td> <td> 5111.680</td> <td> 5622.137</td>\n",
       "</tr>\n",
       "<tr>\n",
       "  <th>C(StateHoliday)[T.0]</th>  <td> -132.3784</td> <td>   84.259</td> <td>   -1.571</td> <td> 0.117</td> <td> -297.762</td> <td>   33.005</td>\n",
       "</tr>\n",
       "<tr>\n",
       "  <th>C(StateHoliday)[T.a]</th>  <td> -766.6837</td> <td>  186.550</td> <td>   -4.110</td> <td> 0.000</td> <td>-1132.844</td> <td> -400.524</td>\n",
       "</tr>\n",
       "<tr>\n",
       "  <th>C(StateHoliday)[T.b]</th>  <td>-1083.4032</td> <td>  293.291</td> <td>   -3.694</td> <td> 0.000</td> <td>-1659.075</td> <td> -507.731</td>\n",
       "</tr>\n",
       "<tr>\n",
       "  <th>C(StateHoliday)[T.c]</th>  <td> -565.0211</td> <td>  395.454</td> <td>   -1.429</td> <td> 0.153</td> <td>-1341.217</td> <td>  211.175</td>\n",
       "</tr>\n",
       "<tr>\n",
       "  <th>C(SchoolHoliday)[T.1]</th> <td> -131.8235</td> <td>   94.337</td> <td>   -1.397</td> <td> 0.163</td> <td> -316.987</td> <td>   53.340</td>\n",
       "</tr>\n",
       "<tr>\n",
       "  <th>C(Week)[T.2]</th>          <td> 1380.3414</td> <td>  280.006</td> <td>    4.930</td> <td> 0.000</td> <td>  830.747</td> <td> 1929.936</td>\n",
       "</tr>\n",
       "<tr>\n",
       "  <th>C(Week)[T.3]</th>          <td>  -51.7408</td> <td>  300.073</td> <td>   -0.172</td> <td> 0.863</td> <td> -640.724</td> <td>  537.243</td>\n",
       "</tr>\n",
       "<tr>\n",
       "  <th>C(Week)[T.4]</th>          <td>  611.9820</td> <td>  298.556</td> <td>    2.050</td> <td> 0.041</td> <td>   25.976</td> <td> 1197.988</td>\n",
       "</tr>\n",
       "<tr>\n",
       "  <th>C(Week)[T.5]</th>          <td> -649.3180</td> <td>  298.425</td> <td>   -2.176</td> <td> 0.030</td> <td>-1235.067</td> <td>  -63.569</td>\n",
       "</tr>\n",
       "<tr>\n",
       "  <th>C(Week)[T.6]</th>          <td>  415.8366</td> <td>  450.649</td> <td>    0.923</td> <td> 0.356</td> <td> -468.696</td> <td> 1300.369</td>\n",
       "</tr>\n",
       "<tr>\n",
       "  <th>C(Week)[T.7]</th>          <td> -878.2360</td> <td>  470.389</td> <td>   -1.867</td> <td> 0.062</td> <td>-1801.515</td> <td>   45.044</td>\n",
       "</tr>\n",
       "<tr>\n",
       "  <th>C(Week)[T.8]</th>          <td>   37.5955</td> <td>  477.469</td> <td>    0.079</td> <td> 0.937</td> <td> -899.580</td> <td>  974.771</td>\n",
       "</tr>\n",
       "<tr>\n",
       "  <th>C(Week)[T.9]</th>          <td>-1291.9717</td> <td>  479.071</td> <td>   -2.697</td> <td> 0.007</td> <td>-2232.291</td> <td> -351.653</td>\n",
       "</tr>\n",
       "<tr>\n",
       "  <th>C(Week)[T.10]</th>         <td> -365.7219</td> <td>  586.290</td> <td>   -0.624</td> <td> 0.533</td> <td>-1516.492</td> <td>  785.048</td>\n",
       "</tr>\n",
       "<tr>\n",
       "  <th>C(Week)[T.11]</th>         <td>-1479.6993</td> <td>  608.650</td> <td>   -2.431</td> <td> 0.015</td> <td>-2674.357</td> <td> -285.041</td>\n",
       "</tr>\n",
       "<tr>\n",
       "  <th>C(Week)[T.12]</th>         <td> -321.7301</td> <td>  620.785</td> <td>   -0.518</td> <td> 0.604</td> <td>-1540.206</td> <td>  896.746</td>\n",
       "</tr>\n",
       "<tr>\n",
       "  <th>C(Week)[T.13]</th>         <td>-1129.4920</td> <td>  613.415</td> <td>   -1.841</td> <td> 0.066</td> <td>-2333.503</td> <td>   74.519</td>\n",
       "</tr>\n",
       "<tr>\n",
       "  <th>C(Week)[T.14]</th>         <td>  671.8215</td> <td>  661.556</td> <td>    1.016</td> <td> 0.310</td> <td> -626.680</td> <td> 1970.323</td>\n",
       "</tr>\n",
       "<tr>\n",
       "  <th>C(Week)[T.15]</th>         <td>  895.8991</td> <td>  711.841</td> <td>    1.259</td> <td> 0.209</td> <td> -501.301</td> <td> 2293.099</td>\n",
       "</tr>\n",
       "<tr>\n",
       "  <th>C(Week)[T.16]</th>         <td>  809.7698</td> <td>  726.490</td> <td>    1.115</td> <td> 0.265</td> <td> -616.183</td> <td> 2235.723</td>\n",
       "</tr>\n",
       "<tr>\n",
       "  <th>C(Week)[T.17]</th>         <td>  464.0241</td> <td>  732.788</td> <td>    0.633</td> <td> 0.527</td> <td> -974.291</td> <td> 1902.340</td>\n",
       "</tr>\n",
       "<tr>\n",
       "  <th>C(Week)[T.18]</th>         <td> 1194.5673</td> <td>  726.868</td> <td>    1.643</td> <td> 0.101</td> <td> -232.129</td> <td> 2621.263</td>\n",
       "</tr>\n",
       "<tr>\n",
       "  <th>C(Week)[T.19]</th>         <td> 1434.3242</td> <td>  772.548</td> <td>    1.857</td> <td> 0.064</td> <td>  -82.033</td> <td> 2950.681</td>\n",
       "</tr>\n",
       "<tr>\n",
       "  <th>C(Week)[T.20]</th>         <td>  543.8166</td> <td>  791.547</td> <td>    0.687</td> <td> 0.492</td> <td>-1009.831</td> <td> 2097.464</td>\n",
       "</tr>\n",
       "<tr>\n",
       "  <th>C(Week)[T.21]</th>         <td> 1201.8416</td> <td>  803.182</td> <td>    1.496</td> <td> 0.135</td> <td> -374.644</td> <td> 2778.327</td>\n",
       "</tr>\n",
       "<tr>\n",
       "  <th>C(Week)[T.22]</th>         <td>  312.7445</td> <td>  792.134</td> <td>    0.395</td> <td> 0.693</td> <td>-1242.054</td> <td> 1867.543</td>\n",
       "</tr>\n",
       "<tr>\n",
       "  <th>C(Week)[T.23]</th>         <td> 1461.4231</td> <td>  839.390</td> <td>    1.741</td> <td> 0.082</td> <td> -186.131</td> <td> 3108.977</td>\n",
       "</tr>\n",
       "<tr>\n",
       "  <th>C(Week)[T.24]</th>         <td>  487.4814</td> <td>  858.744</td> <td>    0.568</td> <td> 0.570</td> <td>-1198.061</td> <td> 2173.023</td>\n",
       "</tr>\n",
       "<tr>\n",
       "  <th>C(Week)[T.25]</th>         <td> 1402.8687</td> <td>  873.207</td> <td>    1.607</td> <td> 0.109</td> <td> -311.061</td> <td> 3116.798</td>\n",
       "</tr>\n",
       "<tr>\n",
       "  <th>C(Week)[T.26]</th>         <td>  -64.9444</td> <td>  877.847</td> <td>   -0.074</td> <td> 0.941</td> <td>-1787.981</td> <td> 1658.093</td>\n",
       "</tr>\n",
       "<tr>\n",
       "  <th>C(Week)[T.27]</th>         <td> 3734.6269</td> <td>  856.759</td> <td>    4.359</td> <td> 0.000</td> <td> 2052.981</td> <td> 5416.273</td>\n",
       "</tr>\n",
       "<tr>\n",
       "  <th>C(Week)[T.28]</th>         <td> 3279.2045</td> <td>  887.146</td> <td>    3.696</td> <td> 0.000</td> <td> 1537.916</td> <td> 5020.493</td>\n",
       "</tr>\n",
       "<tr>\n",
       "  <th>C(Week)[T.29]</th>         <td> 3908.3841</td> <td>  902.854</td> <td>    4.329</td> <td> 0.000</td> <td> 2136.262</td> <td> 5680.506</td>\n",
       "</tr>\n",
       "<tr>\n",
       "  <th>C(Week)[T.30]</th>         <td> 2642.0661</td> <td>  911.059</td> <td>    2.900</td> <td> 0.004</td> <td>  853.841</td> <td> 4430.291</td>\n",
       "</tr>\n",
       "<tr>\n",
       "  <th>C(Week)[T.31]</th>         <td> 3050.7296</td> <td>  897.523</td> <td>    3.399</td> <td> 0.001</td> <td> 1289.072</td> <td> 4812.387</td>\n",
       "</tr>\n",
       "<tr>\n",
       "  <th>C(Week)[T.32]</th>         <td> 3273.1582</td> <td>  927.043</td> <td>    3.531</td> <td> 0.000</td> <td> 1453.558</td> <td> 5092.758</td>\n",
       "</tr>\n",
       "<tr>\n",
       "  <th>C(Week)[T.33]</th>         <td> 2986.4938</td> <td>  946.622</td> <td>    3.155</td> <td> 0.002</td> <td> 1128.465</td> <td> 4844.522</td>\n",
       "</tr>\n",
       "<tr>\n",
       "  <th>C(Week)[T.34]</th>         <td> 3153.0132</td> <td>  959.214</td> <td>    3.287</td> <td> 0.001</td> <td> 1270.269</td> <td> 5035.757</td>\n",
       "</tr>\n",
       "<tr>\n",
       "  <th>C(Week)[T.35]</th>         <td> 2371.6474</td> <td>  939.252</td> <td>    2.525</td> <td> 0.012</td> <td>  528.084</td> <td> 4215.211</td>\n",
       "</tr>\n",
       "<tr>\n",
       "  <th>C(Week)[T.36]</th>         <td> 2176.5105</td> <td>  866.241</td> <td>    2.513</td> <td> 0.012</td> <td>  476.254</td> <td> 3876.767</td>\n",
       "</tr>\n",
       "<tr>\n",
       "  <th>C(Week)[T.37]</th>         <td> 2550.3571</td> <td>  881.068</td> <td>    2.895</td> <td> 0.004</td> <td>  820.998</td> <td> 4279.716</td>\n",
       "</tr>\n",
       "<tr>\n",
       "  <th>C(Week)[T.38]</th>         <td> 2034.6116</td> <td>  889.016</td> <td>    2.289</td> <td> 0.022</td> <td>  289.653</td> <td> 3779.571</td>\n",
       "</tr>\n",
       "<tr>\n",
       "  <th>C(Week)[T.39]</th>         <td> 2284.9211</td> <td>  889.255</td> <td>    2.569</td> <td> 0.010</td> <td>  539.492</td> <td> 4030.350</td>\n",
       "</tr>\n",
       "<tr>\n",
       "  <th>C(Week)[T.40]</th>         <td> 2781.3200</td> <td>  810.897</td> <td>    3.430</td> <td> 0.001</td> <td> 1189.692</td> <td> 4372.948</td>\n",
       "</tr>\n",
       "<tr>\n",
       "  <th>C(Week)[T.41]</th>         <td> 3507.1157</td> <td>  828.234</td> <td>    4.234</td> <td> 0.000</td> <td> 1881.459</td> <td> 5132.772</td>\n",
       "</tr>\n",
       "<tr>\n",
       "  <th>C(Week)[T.42]</th>         <td> 1926.2823</td> <td>  839.092</td> <td>    2.296</td> <td> 0.022</td> <td>  279.313</td> <td> 3573.251</td>\n",
       "</tr>\n",
       "<tr>\n",
       "  <th>C(Week)[T.43]</th>         <td> 3036.1513</td> <td>  842.876</td> <td>    3.602</td> <td> 0.000</td> <td> 1381.756</td> <td> 4690.547</td>\n",
       "</tr>\n",
       "<tr>\n",
       "  <th>C(Week)[T.44]</th>         <td> 1270.3040</td> <td>  796.402</td> <td>    1.595</td> <td> 0.111</td> <td> -292.872</td> <td> 2833.480</td>\n",
       "</tr>\n",
       "<tr>\n",
       "  <th>C(Week)[T.45]</th>         <td> 1661.3651</td> <td>  783.810</td> <td>    2.120</td> <td> 0.034</td> <td>  122.903</td> <td> 3199.827</td>\n",
       "</tr>\n",
       "<tr>\n",
       "  <th>C(Week)[T.46]</th>         <td>  605.3640</td> <td>  799.340</td> <td>    0.757</td> <td> 0.449</td> <td> -963.580</td> <td> 2174.308</td>\n",
       "</tr>\n",
       "<tr>\n",
       "  <th>C(Week)[T.47]</th>         <td>  902.2820</td> <td>  807.781</td> <td>    1.117</td> <td> 0.264</td> <td> -683.229</td> <td> 2487.793</td>\n",
       "</tr>\n",
       "<tr>\n",
       "  <th>C(Week)[T.48]</th>         <td>  822.4376</td> <td>  763.828</td> <td>    1.077</td> <td> 0.282</td> <td> -676.803</td> <td> 2321.678</td>\n",
       "</tr>\n",
       "<tr>\n",
       "  <th>C(Week)[T.49]</th>         <td> 2332.9437</td> <td>  409.246</td> <td>    5.701</td> <td> 0.000</td> <td> 1529.677</td> <td> 3136.211</td>\n",
       "</tr>\n",
       "<tr>\n",
       "  <th>C(Week)[T.50]</th>         <td> 1108.3365</td> <td>  425.790</td> <td>    2.603</td> <td> 0.009</td> <td>  272.595</td> <td> 1944.078</td>\n",
       "</tr>\n",
       "<tr>\n",
       "  <th>C(Week)[T.51]</th>         <td> 3269.2339</td> <td>  428.991</td> <td>    7.621</td> <td> 0.000</td> <td> 2427.211</td> <td> 4111.257</td>\n",
       "</tr>\n",
       "<tr>\n",
       "  <th>C(Week)[T.52]</th>         <td> 1527.6096</td> <td>  429.305</td> <td>    3.558</td> <td> 0.000</td> <td>  684.970</td> <td> 2370.249</td>\n",
       "</tr>\n",
       "<tr>\n",
       "  <th>C(Month)[T.2]</th>         <td>  746.8341</td> <td>  361.610</td> <td>    2.065</td> <td> 0.039</td> <td>   37.066</td> <td> 1456.602</td>\n",
       "</tr>\n",
       "<tr>\n",
       "  <th>C(Month)[T.3]</th>         <td> 1447.4879</td> <td>  519.351</td> <td>    2.787</td> <td> 0.005</td> <td>  428.106</td> <td> 2466.870</td>\n",
       "</tr>\n",
       "<tr>\n",
       "  <th>C(Month)[T.4]</th>         <td> -130.1724</td> <td>  657.805</td> <td>   -0.198</td> <td> 0.843</td> <td>-1421.310</td> <td> 1160.966</td>\n",
       "</tr>\n",
       "<tr>\n",
       "  <th>C(Month)[T.5]</th>         <td> -222.1589</td> <td>  724.863</td> <td>   -0.306</td> <td> 0.759</td> <td>-1644.919</td> <td> 1200.601</td>\n",
       "</tr>\n",
       "<tr>\n",
       "  <th>C(Month)[T.6]</th>         <td> -152.0139</td> <td>  807.640</td> <td>   -0.188</td> <td> 0.851</td> <td>-1737.248</td> <td> 1433.220</td>\n",
       "</tr>\n",
       "<tr>\n",
       "  <th>C(Month)[T.7]</th>         <td>-2968.7547</td> <td>  854.179</td> <td>   -3.476</td> <td> 0.001</td> <td>-4645.336</td> <td>-1292.173</td>\n",
       "</tr>\n",
       "<tr>\n",
       "  <th>C(Month)[T.8]</th>         <td>-2849.6028</td> <td>  897.487</td> <td>   -3.175</td> <td> 0.002</td> <td>-4611.189</td> <td>-1088.016</td>\n",
       "</tr>\n",
       "<tr>\n",
       "  <th>C(Month)[T.9]</th>         <td>-2107.9227</td> <td>  849.165</td> <td>   -2.482</td> <td> 0.013</td> <td>-3774.662</td> <td> -441.183</td>\n",
       "</tr>\n",
       "<tr>\n",
       "  <th>C(Month)[T.10]</th>        <td>-2303.8130</td> <td>  804.918</td> <td>   -2.862</td> <td> 0.004</td> <td>-3883.705</td> <td> -723.921</td>\n",
       "</tr>\n",
       "<tr>\n",
       "  <th>C(Month)[T.11]</th>        <td> -249.6092</td> <td>  763.797</td> <td>   -0.327</td> <td> 0.744</td> <td>-1748.789</td> <td> 1249.570</td>\n",
       "</tr>\n",
       "<tr>\n",
       "  <th>C(Month)[T.12]</th>        <td> -558.7129</td> <td>  389.740</td> <td>   -1.434</td> <td> 0.152</td> <td>-1323.695</td> <td>  206.269</td>\n",
       "</tr>\n",
       "<tr>\n",
       "  <th>C(Day)[T.2]</th>           <td>   -9.8873</td> <td>  203.465</td> <td>   -0.049</td> <td> 0.961</td> <td> -409.249</td> <td>  389.474</td>\n",
       "</tr>\n",
       "<tr>\n",
       "  <th>C(Day)[T.3]</th>           <td> -231.7388</td> <td>  204.834</td> <td>   -1.131</td> <td> 0.258</td> <td> -633.786</td> <td>  170.309</td>\n",
       "</tr>\n",
       "<tr>\n",
       "  <th>C(Day)[T.4]</th>           <td> -208.7282</td> <td>  213.909</td> <td>   -0.976</td> <td> 0.329</td> <td> -628.589</td> <td>  211.132</td>\n",
       "</tr>\n",
       "<tr>\n",
       "  <th>C(Day)[T.5]</th>           <td> -419.4168</td> <td>  218.029</td> <td>   -1.924</td> <td> 0.055</td> <td> -847.364</td> <td>    8.531</td>\n",
       "</tr>\n",
       "<tr>\n",
       "  <th>C(Day)[T.6]</th>           <td> -586.9562</td> <td>  221.655</td> <td>   -2.648</td> <td> 0.008</td> <td>-1022.020</td> <td> -151.892</td>\n",
       "</tr>\n",
       "<tr>\n",
       "  <th>C(Day)[T.7]</th>           <td> -832.0353</td> <td>  227.426</td> <td>   -3.658</td> <td> 0.000</td> <td>-1278.428</td> <td> -385.643</td>\n",
       "</tr>\n",
       "<tr>\n",
       "  <th>C(Day)[T.8]</th>           <td> -930.0704</td> <td>  232.917</td> <td>   -3.993</td> <td> 0.000</td> <td>-1387.240</td> <td> -472.900</td>\n",
       "</tr>\n",
       "<tr>\n",
       "  <th>C(Day)[T.9]</th>           <td> -961.8843</td> <td>  235.401</td> <td>   -4.086</td> <td> 0.000</td> <td>-1423.929</td> <td> -499.840</td>\n",
       "</tr>\n",
       "<tr>\n",
       "  <th>C(Day)[T.10]</th>          <td> -866.0262</td> <td>  241.456</td> <td>   -3.587</td> <td> 0.000</td> <td>-1339.957</td> <td> -392.096</td>\n",
       "</tr>\n",
       "<tr>\n",
       "  <th>C(Day)[T.11]</th>          <td>-1058.0472</td> <td>  246.338</td> <td>   -4.295</td> <td> 0.000</td> <td>-1541.559</td> <td> -574.536</td>\n",
       "</tr>\n",
       "<tr>\n",
       "  <th>C(Day)[T.12]</th>          <td> -698.7303</td> <td>  247.633</td> <td>   -2.822</td> <td> 0.005</td> <td>-1184.783</td> <td> -212.677</td>\n",
       "</tr>\n",
       "<tr>\n",
       "  <th>C(Day)[T.13]</th>          <td> -544.9418</td> <td>  248.274</td> <td>   -2.195</td> <td> 0.028</td> <td>-1032.254</td> <td>  -57.629</td>\n",
       "</tr>\n",
       "<tr>\n",
       "  <th>C(Day)[T.14]</th>          <td> -365.0709</td> <td>  248.999</td> <td>   -1.466</td> <td> 0.143</td> <td> -853.806</td> <td>  123.664</td>\n",
       "</tr>\n",
       "<tr>\n",
       "  <th>C(Day)[T.15]</th>          <td> -209.6230</td> <td>  250.889</td> <td>   -0.836</td> <td> 0.404</td> <td> -702.068</td> <td>  282.822</td>\n",
       "</tr>\n",
       "<tr>\n",
       "  <th>C(Day)[T.16]</th>          <td> -256.2924</td> <td>  251.211</td> <td>   -1.020</td> <td> 0.308</td> <td> -749.368</td> <td>  236.784</td>\n",
       "</tr>\n",
       "<tr>\n",
       "  <th>C(Day)[T.17]</th>          <td> -227.4947</td> <td>  251.425</td> <td>   -0.905</td> <td> 0.366</td> <td> -720.991</td> <td>  266.002</td>\n",
       "</tr>\n",
       "<tr>\n",
       "  <th>C(Day)[T.18]</th>          <td> -253.8997</td> <td>  251.351</td> <td>   -1.010</td> <td> 0.313</td> <td> -747.251</td> <td>  239.451</td>\n",
       "</tr>\n",
       "<tr>\n",
       "  <th>C(Day)[T.19]</th>          <td> -469.0688</td> <td>  249.519</td> <td>   -1.880</td> <td> 0.060</td> <td> -958.825</td> <td>   20.688</td>\n",
       "</tr>\n",
       "<tr>\n",
       "  <th>C(Day)[T.20]</th>          <td> -646.9762</td> <td>  246.596</td> <td>   -2.624</td> <td> 0.009</td> <td>-1130.994</td> <td> -162.958</td>\n",
       "</tr>\n",
       "<tr>\n",
       "  <th>C(Day)[T.21]</th>          <td> -805.3711</td> <td>  246.170</td> <td>   -3.272</td> <td> 0.001</td> <td>-1288.553</td> <td> -322.189</td>\n",
       "</tr>\n",
       "<tr>\n",
       "  <th>C(Day)[T.22]</th>          <td> -658.8301</td> <td>  243.228</td> <td>   -2.709</td> <td> 0.007</td> <td>-1136.237</td> <td> -181.423</td>\n",
       "</tr>\n",
       "<tr>\n",
       "  <th>C(Day)[T.23]</th>          <td> -640.4852</td> <td>  239.687</td> <td>   -2.672</td> <td> 0.008</td> <td>-1110.942</td> <td> -170.028</td>\n",
       "</tr>\n",
       "<tr>\n",
       "  <th>C(Day)[T.24]</th>          <td> -860.0271</td> <td>  236.397</td> <td>   -3.638</td> <td> 0.000</td> <td>-1324.028</td> <td> -396.026</td>\n",
       "</tr>\n",
       "<tr>\n",
       "  <th>C(Day)[T.25]</th>          <td> -642.5779</td> <td>  232.259</td> <td>   -2.767</td> <td> 0.006</td> <td>-1098.455</td> <td> -186.701</td>\n",
       "</tr>\n",
       "<tr>\n",
       "  <th>C(Day)[T.26]</th>          <td> -497.0844</td> <td>  230.149</td> <td>   -2.160</td> <td> 0.031</td> <td> -948.821</td> <td>  -45.347</td>\n",
       "</tr>\n",
       "<tr>\n",
       "  <th>C(Day)[T.27]</th>          <td> -145.2550</td> <td>  222.581</td> <td>   -0.653</td> <td> 0.514</td> <td> -582.136</td> <td>  291.626</td>\n",
       "</tr>\n",
       "<tr>\n",
       "  <th>C(Day)[T.28]</th>          <td>  -21.6410</td> <td>  219.286</td> <td>   -0.099</td> <td> 0.921</td> <td> -452.055</td> <td>  408.773</td>\n",
       "</tr>\n",
       "<tr>\n",
       "  <th>C(Day)[T.29]</th>          <td>  181.4929</td> <td>  214.063</td> <td>    0.848</td> <td> 0.397</td> <td> -238.670</td> <td>  601.656</td>\n",
       "</tr>\n",
       "<tr>\n",
       "  <th>C(Day)[T.30]</th>          <td>  744.6496</td> <td>  209.686</td> <td>    3.551</td> <td> 0.000</td> <td>  333.079</td> <td> 1156.220</td>\n",
       "</tr>\n",
       "<tr>\n",
       "  <th>C(Day)[T.31]</th>          <td>  708.5267</td> <td>  245.731</td> <td>    2.883</td> <td> 0.004</td> <td>  226.206</td> <td> 1190.847</td>\n",
       "</tr>\n",
       "</table>\n",
       "<table class=\"simpletable\">\n",
       "<tr>\n",
       "  <th>Omnibus:</th>       <td>32.631</td> <th>  Durbin-Watson:     </th> <td>   1.423</td>\n",
       "</tr>\n",
       "<tr>\n",
       "  <th>Prob(Omnibus):</th> <td> 0.000</td> <th>  Jarque-Bera (JB):  </th> <td>  78.038</td>\n",
       "</tr>\n",
       "<tr>\n",
       "  <th>Skew:</th>          <td> 0.111</td> <th>  Prob(JB):          </th> <td>1.13e-17</td>\n",
       "</tr>\n",
       "<tr>\n",
       "  <th>Kurtosis:</th>      <td> 4.393</td> <th>  Cond. No.          </th> <td>3.82e+15</td>\n",
       "</tr>\n",
       "</table><br/><br/>Warnings:<br/>[1] Standard Errors assume that the covariance matrix of the errors is correctly specified.<br/>[2] The smallest eigenvalue is 1.78e-28. This might indicate that there are<br/>strong multicollinearity problems or that the design matrix is singular."
      ],
      "text/plain": [
       "<class 'statsmodels.iolib.summary.Summary'>\n",
       "\"\"\"\n",
       "                            OLS Regression Results                            \n",
       "==============================================================================\n",
       "Dep. Variable:                  Sales   R-squared:                       0.920\n",
       "Model:                            OLS   Adj. R-squared:                  0.910\n",
       "Method:                 Least Squares   F-statistic:                     92.96\n",
       "Date:                Mon, 02 Sep 2019   Prob (F-statistic):               0.00\n",
       "Time:                        23:50:09   Log-Likelihood:                -7512.5\n",
       "No. Observations:                 942   AIC:                         1.523e+04\n",
       "Df Residuals:                     838   BIC:                         1.574e+04\n",
       "Df Model:                         103                                         \n",
       "Covariance Type:            nonrobust                                         \n",
       "=========================================================================================\n",
       "                            coef    std err          t      P>|t|      [0.025      0.975]\n",
       "-----------------------------------------------------------------------------------------\n",
       "Intercept              1456.7740    234.178      6.221      0.000     997.129    1916.419\n",
       "C(DayOfWeek)[T.2]      -855.9901     91.869     -9.317      0.000   -1036.311    -675.669\n",
       "C(DayOfWeek)[T.3]     -1272.7971     92.297    -13.790      0.000   -1453.958   -1091.636\n",
       "C(DayOfWeek)[T.4]     -1192.7112     93.170    -12.801      0.000   -1375.585   -1009.837\n",
       "C(DayOfWeek)[T.5]      -977.7602     92.664    -10.552      0.000   -1159.640    -795.880\n",
       "C(DayOfWeek)[T.6]     -3316.2528     95.944    -34.564      0.000   -3504.572   -3127.934\n",
       "C(DayOfWeek)[T.7]     -1495.0266    142.945    -10.459      0.000   -1775.598   -1214.455\n",
       "C(Open)[T.1]           5366.9085    130.033     41.273      0.000    5111.680    5622.137\n",
       "C(StateHoliday)[T.0]   -132.3784     84.259     -1.571      0.117    -297.762      33.005\n",
       "C(StateHoliday)[T.a]   -766.6837    186.550     -4.110      0.000   -1132.844    -400.524\n",
       "C(StateHoliday)[T.b]  -1083.4032    293.291     -3.694      0.000   -1659.075    -507.731\n",
       "C(StateHoliday)[T.c]   -565.0211    395.454     -1.429      0.153   -1341.217     211.175\n",
       "C(SchoolHoliday)[T.1]  -131.8235     94.337     -1.397      0.163    -316.987      53.340\n",
       "C(Week)[T.2]           1380.3414    280.006      4.930      0.000     830.747    1929.936\n",
       "C(Week)[T.3]            -51.7408    300.073     -0.172      0.863    -640.724     537.243\n",
       "C(Week)[T.4]            611.9820    298.556      2.050      0.041      25.976    1197.988\n",
       "C(Week)[T.5]           -649.3180    298.425     -2.176      0.030   -1235.067     -63.569\n",
       "C(Week)[T.6]            415.8366    450.649      0.923      0.356    -468.696    1300.369\n",
       "C(Week)[T.7]           -878.2360    470.389     -1.867      0.062   -1801.515      45.044\n",
       "C(Week)[T.8]             37.5955    477.469      0.079      0.937    -899.580     974.771\n",
       "C(Week)[T.9]          -1291.9717    479.071     -2.697      0.007   -2232.291    -351.653\n",
       "C(Week)[T.10]          -365.7219    586.290     -0.624      0.533   -1516.492     785.048\n",
       "C(Week)[T.11]         -1479.6993    608.650     -2.431      0.015   -2674.357    -285.041\n",
       "C(Week)[T.12]          -321.7301    620.785     -0.518      0.604   -1540.206     896.746\n",
       "C(Week)[T.13]         -1129.4920    613.415     -1.841      0.066   -2333.503      74.519\n",
       "C(Week)[T.14]           671.8215    661.556      1.016      0.310    -626.680    1970.323\n",
       "C(Week)[T.15]           895.8991    711.841      1.259      0.209    -501.301    2293.099\n",
       "C(Week)[T.16]           809.7698    726.490      1.115      0.265    -616.183    2235.723\n",
       "C(Week)[T.17]           464.0241    732.788      0.633      0.527    -974.291    1902.340\n",
       "C(Week)[T.18]          1194.5673    726.868      1.643      0.101    -232.129    2621.263\n",
       "C(Week)[T.19]          1434.3242    772.548      1.857      0.064     -82.033    2950.681\n",
       "C(Week)[T.20]           543.8166    791.547      0.687      0.492   -1009.831    2097.464\n",
       "C(Week)[T.21]          1201.8416    803.182      1.496      0.135    -374.644    2778.327\n",
       "C(Week)[T.22]           312.7445    792.134      0.395      0.693   -1242.054    1867.543\n",
       "C(Week)[T.23]          1461.4231    839.390      1.741      0.082    -186.131    3108.977\n",
       "C(Week)[T.24]           487.4814    858.744      0.568      0.570   -1198.061    2173.023\n",
       "C(Week)[T.25]          1402.8687    873.207      1.607      0.109    -311.061    3116.798\n",
       "C(Week)[T.26]           -64.9444    877.847     -0.074      0.941   -1787.981    1658.093\n",
       "C(Week)[T.27]          3734.6269    856.759      4.359      0.000    2052.981    5416.273\n",
       "C(Week)[T.28]          3279.2045    887.146      3.696      0.000    1537.916    5020.493\n",
       "C(Week)[T.29]          3908.3841    902.854      4.329      0.000    2136.262    5680.506\n",
       "C(Week)[T.30]          2642.0661    911.059      2.900      0.004     853.841    4430.291\n",
       "C(Week)[T.31]          3050.7296    897.523      3.399      0.001    1289.072    4812.387\n",
       "C(Week)[T.32]          3273.1582    927.043      3.531      0.000    1453.558    5092.758\n",
       "C(Week)[T.33]          2986.4938    946.622      3.155      0.002    1128.465    4844.522\n",
       "C(Week)[T.34]          3153.0132    959.214      3.287      0.001    1270.269    5035.757\n",
       "C(Week)[T.35]          2371.6474    939.252      2.525      0.012     528.084    4215.211\n",
       "C(Week)[T.36]          2176.5105    866.241      2.513      0.012     476.254    3876.767\n",
       "C(Week)[T.37]          2550.3571    881.068      2.895      0.004     820.998    4279.716\n",
       "C(Week)[T.38]          2034.6116    889.016      2.289      0.022     289.653    3779.571\n",
       "C(Week)[T.39]          2284.9211    889.255      2.569      0.010     539.492    4030.350\n",
       "C(Week)[T.40]          2781.3200    810.897      3.430      0.001    1189.692    4372.948\n",
       "C(Week)[T.41]          3507.1157    828.234      4.234      0.000    1881.459    5132.772\n",
       "C(Week)[T.42]          1926.2823    839.092      2.296      0.022     279.313    3573.251\n",
       "C(Week)[T.43]          3036.1513    842.876      3.602      0.000    1381.756    4690.547\n",
       "C(Week)[T.44]          1270.3040    796.402      1.595      0.111    -292.872    2833.480\n",
       "C(Week)[T.45]          1661.3651    783.810      2.120      0.034     122.903    3199.827\n",
       "C(Week)[T.46]           605.3640    799.340      0.757      0.449    -963.580    2174.308\n",
       "C(Week)[T.47]           902.2820    807.781      1.117      0.264    -683.229    2487.793\n",
       "C(Week)[T.48]           822.4376    763.828      1.077      0.282    -676.803    2321.678\n",
       "C(Week)[T.49]          2332.9437    409.246      5.701      0.000    1529.677    3136.211\n",
       "C(Week)[T.50]          1108.3365    425.790      2.603      0.009     272.595    1944.078\n",
       "C(Week)[T.51]          3269.2339    428.991      7.621      0.000    2427.211    4111.257\n",
       "C(Week)[T.52]          1527.6096    429.305      3.558      0.000     684.970    2370.249\n",
       "C(Month)[T.2]           746.8341    361.610      2.065      0.039      37.066    1456.602\n",
       "C(Month)[T.3]          1447.4879    519.351      2.787      0.005     428.106    2466.870\n",
       "C(Month)[T.4]          -130.1724    657.805     -0.198      0.843   -1421.310    1160.966\n",
       "C(Month)[T.5]          -222.1589    724.863     -0.306      0.759   -1644.919    1200.601\n",
       "C(Month)[T.6]          -152.0139    807.640     -0.188      0.851   -1737.248    1433.220\n",
       "C(Month)[T.7]         -2968.7547    854.179     -3.476      0.001   -4645.336   -1292.173\n",
       "C(Month)[T.8]         -2849.6028    897.487     -3.175      0.002   -4611.189   -1088.016\n",
       "C(Month)[T.9]         -2107.9227    849.165     -2.482      0.013   -3774.662    -441.183\n",
       "C(Month)[T.10]        -2303.8130    804.918     -2.862      0.004   -3883.705    -723.921\n",
       "C(Month)[T.11]         -249.6092    763.797     -0.327      0.744   -1748.789    1249.570\n",
       "C(Month)[T.12]         -558.7129    389.740     -1.434      0.152   -1323.695     206.269\n",
       "C(Day)[T.2]              -9.8873    203.465     -0.049      0.961    -409.249     389.474\n",
       "C(Day)[T.3]            -231.7388    204.834     -1.131      0.258    -633.786     170.309\n",
       "C(Day)[T.4]            -208.7282    213.909     -0.976      0.329    -628.589     211.132\n",
       "C(Day)[T.5]            -419.4168    218.029     -1.924      0.055    -847.364       8.531\n",
       "C(Day)[T.6]            -586.9562    221.655     -2.648      0.008   -1022.020    -151.892\n",
       "C(Day)[T.7]            -832.0353    227.426     -3.658      0.000   -1278.428    -385.643\n",
       "C(Day)[T.8]            -930.0704    232.917     -3.993      0.000   -1387.240    -472.900\n",
       "C(Day)[T.9]            -961.8843    235.401     -4.086      0.000   -1423.929    -499.840\n",
       "C(Day)[T.10]           -866.0262    241.456     -3.587      0.000   -1339.957    -392.096\n",
       "C(Day)[T.11]          -1058.0472    246.338     -4.295      0.000   -1541.559    -574.536\n",
       "C(Day)[T.12]           -698.7303    247.633     -2.822      0.005   -1184.783    -212.677\n",
       "C(Day)[T.13]           -544.9418    248.274     -2.195      0.028   -1032.254     -57.629\n",
       "C(Day)[T.14]           -365.0709    248.999     -1.466      0.143    -853.806     123.664\n",
       "C(Day)[T.15]           -209.6230    250.889     -0.836      0.404    -702.068     282.822\n",
       "C(Day)[T.16]           -256.2924    251.211     -1.020      0.308    -749.368     236.784\n",
       "C(Day)[T.17]           -227.4947    251.425     -0.905      0.366    -720.991     266.002\n",
       "C(Day)[T.18]           -253.8997    251.351     -1.010      0.313    -747.251     239.451\n",
       "C(Day)[T.19]           -469.0688    249.519     -1.880      0.060    -958.825      20.688\n",
       "C(Day)[T.20]           -646.9762    246.596     -2.624      0.009   -1130.994    -162.958\n",
       "C(Day)[T.21]           -805.3711    246.170     -3.272      0.001   -1288.553    -322.189\n",
       "C(Day)[T.22]           -658.8301    243.228     -2.709      0.007   -1136.237    -181.423\n",
       "C(Day)[T.23]           -640.4852    239.687     -2.672      0.008   -1110.942    -170.028\n",
       "C(Day)[T.24]           -860.0271    236.397     -3.638      0.000   -1324.028    -396.026\n",
       "C(Day)[T.25]           -642.5779    232.259     -2.767      0.006   -1098.455    -186.701\n",
       "C(Day)[T.26]           -497.0844    230.149     -2.160      0.031    -948.821     -45.347\n",
       "C(Day)[T.27]           -145.2550    222.581     -0.653      0.514    -582.136     291.626\n",
       "C(Day)[T.28]            -21.6410    219.286     -0.099      0.921    -452.055     408.773\n",
       "C(Day)[T.29]            181.4929    214.063      0.848      0.397    -238.670     601.656\n",
       "C(Day)[T.30]            744.6496    209.686      3.551      0.000     333.079    1156.220\n",
       "C(Day)[T.31]            708.5267    245.731      2.883      0.004     226.206    1190.847\n",
       "==============================================================================\n",
       "Omnibus:                       32.631   Durbin-Watson:                   1.423\n",
       "Prob(Omnibus):                  0.000   Jarque-Bera (JB):               78.038\n",
       "Skew:                           0.111   Prob(JB):                     1.13e-17\n",
       "Kurtosis:                       4.393   Cond. No.                     3.82e+15\n",
       "==============================================================================\n",
       "\n",
       "Warnings:\n",
       "[1] Standard Errors assume that the covariance matrix of the errors is correctly specified.\n",
       "[2] The smallest eigenvalue is 1.78e-28. This might indicate that there are\n",
       "strong multicollinearity problems or that the design matrix is singular.\n",
       "\"\"\""
      ]
     },
     "execution_count": 20,
     "metadata": {},
     "output_type": "execute_result"
    }
   ],
   "source": [
    "dummy_model.summary()"
   ]
  },
  {
   "cell_type": "markdown",
   "metadata": {},
   "source": [
    "+ The model gives good accuracy and adequacy which indicates for the need for the model\n",
    "+ Checking the serial correlation of the errors after removing the causal effects"
   ]
  },
  {
   "cell_type": "code",
   "execution_count": 21,
   "metadata": {},
   "outputs": [
    {
     "data": {
      "text/plain": [
       "1.4227290582091774"
      ]
     },
     "execution_count": 21,
     "metadata": {},
     "output_type": "execute_result"
    }
   ],
   "source": [
    "#DW Test on residuals\n",
    "resid = dummy_model.resid\n",
    "durbin_watson(resid)"
   ]
  },
  {
   "cell_type": "markdown",
   "metadata": {},
   "source": [
    "+ Which Indicates that we were able to separate out the factors at max to get serial correlation free data which gives\n",
    "+ the inherenet characteristics of the sale\n",
    "\n",
    "+ Now we will go for checking the similarity between the two series. First checking the distribution"
   ]
  },
  {
   "cell_type": "code",
   "execution_count": 22,
   "metadata": {},
   "outputs": [],
   "source": [
    "#Normality Test\n",
    "k, p = stats.normaltest(resid)"
   ]
  },
  {
   "cell_type": "code",
   "execution_count": 23,
   "metadata": {},
   "outputs": [
    {
     "data": {
      "text/plain": [
       "<matplotlib.axes._subplots.AxesSubplot at 0x1282e0b70>"
      ]
     },
     "execution_count": 23,
     "metadata": {},
     "output_type": "execute_result"
    },
    {
     "data": {
      "image/png": "[encoded data removed]",
      "text/plain": [
       "<Figure size 432x288 with 1 Axes>"
      ]
     },
     "metadata": {
      "needs_background": "light"
     },
     "output_type": "display_data"
    }
   ],
   "source": [
    "sns.distplot(resid)"
   ]
  },
  {
   "cell_type": "code",
   "execution_count": 24,
   "metadata": {},
   "outputs": [
    {
     "data": {
      "image/png": "[encoded data removed]",
      "text/plain": [
       "<Figure size 432x288 with 1 Axes>"
      ]
     },
     "metadata": {
      "needs_background": "light"
     },
     "output_type": "display_data"
    }
   ],
   "source": [
    "qqplot(resid, line='s')\n",
    "plt.show()"
   ]
  },
  {
   "cell_type": "code",
   "execution_count": 25,
   "metadata": {},
   "outputs": [],
   "source": [
    "stat, p = shapiro(resid)"
   ]
  },
  {
   "cell_type": "code",
   "execution_count": 26,
   "metadata": {},
   "outputs": [
    {
     "data": {
      "text/plain": [
       "2.43161011326265e-08"
      ]
     },
     "execution_count": 26,
     "metadata": {},
     "output_type": "execute_result"
    }
   ],
   "source": [
    "p"
   ]
  },
  {
   "cell_type": "code",
   "execution_count": 27,
   "metadata": {},
   "outputs": [
    {
     "data": {
      "text/plain": [
       "942"
      ]
     },
     "execution_count": 27,
     "metadata": {},
     "output_type": "execute_result"
    }
   ],
   "source": [
    "len(resid)"
   ]
  },
  {
   "cell_type": "markdown",
   "metadata": {},
   "source": [
    "+ Creating a Dictionary of Stores for comparison\n",
    "+ Comparing Time series of unequal length"
   ]
  },
  {
   "cell_type": "code",
   "execution_count": null,
   "metadata": {
    "scrolled": true
   },
   "outputs": [],
   "source": [
    "dict_vec = {}\n",
    "\n",
    "for store in tqdm(unique_stores):\n",
    "    #Store1_data_analysis\n",
    "    df_s1 = train[train['Store'] == store]\n",
    "    \n",
    "    #Converting to Date_Time_Format\n",
    "    col = 'date'\n",
    "    df_s1['Date_new'] = pd.to_datetime(df_s1['Date'])\n",
    "    \n",
    "    #Extracting the Date,month and Year\n",
    "    df_s1['Week'] = df_s1['Date_new'].dt.week\n",
    "    df_s1['Month'] = df_s1['Date_new'].dt.month\n",
    "    df_s1['Day'] = df_s1['Date_new'].dt.day\n",
    "    df_s1['Year'] = df_s1['Date_new'].dt.year\n",
    "    df_s1['Time'] = range(0,len(df_s1))[::-1]\n",
    "    df_s1.index = range(0,len(df_s1))\n",
    "    df_s1 = df_s1.drop(['Date_new'],axis = 1)\n",
    "    \n",
    "    #Converting the columns to categorical variables\n",
    "    #cols = ['DayOfWeek','Open','Promo','StateHoliday','SchoolHoliday','Week','Month','Day','Year']\n",
    "\n",
    "    dummy_model = ols(formula='Sales~C(DayOfWeek)+C(Open)+C(StateHoliday)+'\n",
    "                          'C(SchoolHoliday)+C(Week)+C(Month)+C(Day)+C(Day)', \n",
    "                          data=df_s1).fit()\n",
    "    #DW Test on residuals\n",
    "    resid = dummy_model.resid\n",
    "    \n",
    "    #Getting the dict\n",
    "    dict_vec[store] = list(resid)"
   ]
  },
  {
   "cell_type": "markdown",
   "metadata": {},
   "source": [
    "+ Calculating the Dynamic Warping Similarities between the Signals"
   ]
  },
  {
   "cell_type": "code",
   "execution_count": 28,
   "metadata": {},
   "outputs": [],
   "source": [
    "#Creating the Total List of Stores\n",
    "list_total_stores = list(itertools.combinations(unique_stores,2))"
   ]
  },
  {
   "cell_type": "code",
   "execution_count": 29,
   "metadata": {},
   "outputs": [
    {
     "data": {
      "text/plain": [
       "2"
      ]
     },
     "execution_count": 29,
     "metadata": {},
     "output_type": "execute_result"
    }
   ],
   "source": [
    "list_total_stores[0][1]"
   ]
  },
  {
   "cell_type": "code",
   "execution_count": 30,
   "metadata": {},
   "outputs": [],
   "source": [
    "def func(x):\n",
    "    distance, path = fastdtw(dict_vec[x[0]], dict_vec[x[1]])\n",
    "    return distance"
   ]
  },
  {
   "cell_type": "code",
   "execution_count": null,
   "metadata": {},
   "outputs": [],
   "source": [
    "t1 = time.time()\n",
    "import multiprocessing as multiprocessing\n",
    "result=[]\n",
    "p=multiprocessing.Pool()\n",
    "result = p.map(func,list_total_stores)\n",
    "print (time.time() - t1)"
   ]
  },
  {
   "cell_type": "code",
   "execution_count": null,
   "metadata": {},
   "outputs": [],
   "source": [
    "#np.save('store_timevec.npy',np.array(result))"
   ]
  },
  {
   "cell_type": "code",
   "execution_count": 32,
   "metadata": {},
   "outputs": [],
   "source": [
    "result = np.load('store_timevec.npy')"
   ]
  },
  {
   "cell_type": "code",
   "execution_count": 33,
   "metadata": {},
   "outputs": [
    {
     "name": "stderr",
     "output_type": "stream",
     "text": [
      "100%|██████████| 621055/621055 [00:00<00:00, 1307330.27it/s]\n"
     ]
    }
   ],
   "source": [
    "#Converting the same into dataframe\n",
    "store1 = []\n",
    "store2 = []\n",
    "dis = []\n",
    "\n",
    "for i in tqdm(range(0,len(list_total_stores))):\n",
    "    list_str = list_total_stores[i]\n",
    "    store1.append(list_str[0])\n",
    "    store2.append(list_str[1])\n",
    "    dis.append(result[i])\n",
    "     "
   ]
  },
  {
   "cell_type": "code",
   "execution_count": 34,
   "metadata": {},
   "outputs": [],
   "source": [
    "#Saving the Datafrane\n",
    "df_stor_sim = pd.DataFrame()\n",
    "df_stor_sim['Store1'] = store1\n",
    "df_stor_sim['Store2'] = store2\n",
    "df_stor_sim['Distance'] = dis\n",
    "\n",
    "#df_stor_sim.to_pickle('/Users/s0c02nj/Desktop/Store_Cluster/Store_Similarity')"
   ]
  },
  {
   "cell_type": "code",
   "execution_count": 35,
   "metadata": {},
   "outputs": [],
   "source": [
    "#df_stor_sim.head()\n",
    "#plt.hist(df_stor_sim['Distance'])\n",
    "df1 = df_stor_sim['Distance']\n",
    "df_stor_sim['Scaled_Distance'] = np.log1p(df_stor_sim['Distance'])"
   ]
  },
  {
   "cell_type": "code",
   "execution_count": 36,
   "metadata": {},
   "outputs": [
    {
     "data": {
      "text/plain": [
       "<matplotlib.axes._subplots.AxesSubplot at 0x12822bda0>"
      ]
     },
     "execution_count": 36,
     "metadata": {},
     "output_type": "execute_result"
    },
    {
     "data": {
      "image/png": "[encoded data removed]",
      "text/plain": [
       "<Figure size 432x288 with 1 Axes>"
      ]
     },
     "metadata": {
      "needs_background": "light"
     },
     "output_type": "display_data"
    }
   ],
   "source": [
    "sns.distplot(df_stor_sim['Scaled_Distance'])"
   ]
  },
  {
   "cell_type": "code",
   "execution_count": 37,
   "metadata": {},
   "outputs": [],
   "source": [
    "mu = df_stor_sim['Scaled_Distance'].mean()\n",
    "sigma = df_stor_sim['Scaled_Distance'].std()\n",
    "\n",
    "#Setting the threshold\n",
    "thres = mu - sigma"
   ]
  },
  {
   "cell_type": "markdown",
   "metadata": {},
   "source": [
    "+ Thresholding the data based on the percentile cutoff\n",
    "+ Selecting the value based on that\n",
    "+ if the distance is more than a threshold, they are not connected---> else connected"
   ]
  },
  {
   "cell_type": "code",
   "execution_count": 38,
   "metadata": {},
   "outputs": [],
   "source": [
    "df_stor_sim['Indicator'] = df_stor_sim['Scaled_Distance'].apply(lambda x: int(x<thres))"
   ]
  },
  {
   "cell_type": "code",
   "execution_count": null,
   "metadata": {},
   "outputs": [],
   "source": [
    "#df_stor_sim['Indicator'].value_counts()"
   ]
  },
  {
   "cell_type": "markdown",
   "metadata": {},
   "source": [
    "#### Temporal Part is solved. Now is for the Graph Convolution Model"
   ]
  },
  {
   "cell_type": "markdown",
   "metadata": {},
   "source": [
    "+ First task is to impute the missing information\n",
    "+ For many stores, it might be possible that information not available--->\n",
    "    + So main approaches will be to form a new category unknown--\n",
    "    + Else might be imputed with mode as well"
   ]
  },
  {
   "cell_type": "code",
   "execution_count": 46,
   "metadata": {},
   "outputs": [
    {
     "data": {
      "text/plain": [
       "Store                        0\n",
       "StoreType                    0\n",
       "Assortment                   0\n",
       "CompetitionDistance          0\n",
       "CompetitionOpenSinceMonth    0\n",
       "CompetitionOpenSinceYear     0\n",
       "Promo2                       0\n",
       "Promo2SinceWeek              0\n",
       "Promo2SinceYear              0\n",
       "PromoInterval                0\n",
       "dtype: int64"
      ]
     },
     "execution_count": 46,
     "metadata": {},
     "output_type": "execute_result"
    }
   ],
   "source": [
    "store_data.isna().sum()"
   ]
  },
  {
   "cell_type": "code",
   "execution_count": 40,
   "metadata": {},
   "outputs": [],
   "source": [
    "cat_cols_imp = ['CompetitionOpenSinceMonth','CompetitionOpenSinceYear','Promo2SinceWeek','Promo2SinceYear',\n",
    "           'PromoInterval']\n",
    "cont_col_imp = ['CompetitionDistance']"
   ]
  },
  {
   "cell_type": "code",
   "execution_count": 41,
   "metadata": {},
   "outputs": [],
   "source": [
    "for col in cat_cols_imp:\n",
    "    store_data[col] = store_data[col].replace(np.nan,'Notknown',regex = True)"
   ]
  },
  {
   "cell_type": "code",
   "execution_count": 42,
   "metadata": {},
   "outputs": [],
   "source": [
    "#Replacing the continuous column\n",
    "med = store_data['CompetitionDistance'].median()\n",
    "store_data['CompetitionDistance'] = store_data['CompetitionDistance'].replace(np.nan,med,regex = True)"
   ]
  },
  {
   "cell_type": "code",
   "execution_count": 43,
   "metadata": {},
   "outputs": [],
   "source": [
    "total_cols = store_data.columns"
   ]
  },
  {
   "cell_type": "code",
   "execution_count": 44,
   "metadata": {},
   "outputs": [],
   "source": [
    "dict_count = {}\n",
    "for col in total_cols:\n",
    "    dict_count[col] = store_data[col].unique().shape[0]"
   ]
  },
  {
   "cell_type": "code",
   "execution_count": 45,
   "metadata": {},
   "outputs": [
    {
     "data": {
      "text/plain": [
       "{'Store': 1115,\n",
       " 'StoreType': 4,\n",
       " 'Assortment': 3,\n",
       " 'CompetitionDistance': 655,\n",
       " 'CompetitionOpenSinceMonth': 13,\n",
       " 'CompetitionOpenSinceYear': 24,\n",
       " 'Promo2': 2,\n",
       " 'Promo2SinceWeek': 25,\n",
       " 'Promo2SinceYear': 8,\n",
       " 'PromoInterval': 4}"
      ]
     },
     "execution_count": 45,
     "metadata": {},
     "output_type": "execute_result"
    }
   ],
   "source": [
    "dict_count"
   ]
  },
  {
   "cell_type": "code",
   "execution_count": 47,
   "metadata": {},
   "outputs": [],
   "source": [
    "cont_cols = ['CompetitionDistance']\n",
    "cat_cols =  ['StoreType','Assortment','CompetitionOpenSinceMonth','CompetitionOpenSinceYear',\n",
    "           'Promo2','Promo2SinceWeek','Promo2SinceYear','PromoInterval']"
   ]
  },
  {
   "cell_type": "code",
   "execution_count": 48,
   "metadata": {},
   "outputs": [],
   "source": [
    "df_cat = store_data[cat_cols]\n",
    "df_cont = store_data[cont_cols]"
   ]
  },
  {
   "cell_type": "code",
   "execution_count": 49,
   "metadata": {},
   "outputs": [],
   "source": [
    "df_cat1 = pd.get_dummies(df_cat)"
   ]
  },
  {
   "cell_type": "code",
   "execution_count": 50,
   "metadata": {},
   "outputs": [],
   "source": [
    "df_cont1 = (df_cont - df_cont.mean()) / (df_cont.max() - df_cont.min())"
   ]
  },
  {
   "cell_type": "code",
   "execution_count": 51,
   "metadata": {},
   "outputs": [],
   "source": [
    "df_joined = pd.concat([store_data['Store'],df_cont1,df_cat1],axis=1)"
   ]
  },
  {
   "cell_type": "code",
   "execution_count": 52,
   "metadata": {},
   "outputs": [
    {
     "data": {
      "text/html": [
       "<div>\n",
       "<style scoped>\n",
       "    .dataframe tbody tr th:only-of-type {\n",
       "        vertical-align: middle;\n",
       "    }\n",
       "\n",
       "    .dataframe tbody tr th {\n",
       "        vertical-align: top;\n",
       "    }\n",
       "\n",
       "    .dataframe thead th {\n",
       "        text-align: right;\n",
       "    }\n",
       "</style>\n",
       "<table border=\"1\" class=\"dataframe\">\n",
       "  <thead>\n",
       "    <tr style=\"text-align: right;\">\n",
       "      <th></th>\n",
       "      <th>Store</th>\n",
       "      <th>CompetitionDistance</th>\n",
       "      <th>Promo2</th>\n",
       "      <th>StoreType_a</th>\n",
       "      <th>StoreType_b</th>\n",
       "      <th>StoreType_c</th>\n",
       "      <th>StoreType_d</th>\n",
       "      <th>Assortment_a</th>\n",
       "      <th>Assortment_b</th>\n",
       "      <th>Assortment_c</th>\n",
       "      <th>...</th>\n",
       "      <th>Promo2SinceYear_2011.0</th>\n",
       "      <th>Promo2SinceYear_2012.0</th>\n",
       "      <th>Promo2SinceYear_2013.0</th>\n",
       "      <th>Promo2SinceYear_2014.0</th>\n",
       "      <th>Promo2SinceYear_2015.0</th>\n",
       "      <th>Promo2SinceYear_Notknown</th>\n",
       "      <th>PromoInterval_Feb,May,Aug,Nov</th>\n",
       "      <th>PromoInterval_Jan,Apr,Jul,Oct</th>\n",
       "      <th>PromoInterval_Mar,Jun,Sept,Dec</th>\n",
       "      <th>PromoInterval_Notknown</th>\n",
       "    </tr>\n",
       "  </thead>\n",
       "  <tbody>\n",
       "    <tr>\n",
       "      <th>0</th>\n",
       "      <td>1</td>\n",
       "      <td>-0.054412</td>\n",
       "      <td>0</td>\n",
       "      <td>0</td>\n",
       "      <td>0</td>\n",
       "      <td>1</td>\n",
       "      <td>0</td>\n",
       "      <td>1</td>\n",
       "      <td>0</td>\n",
       "      <td>0</td>\n",
       "      <td>...</td>\n",
       "      <td>0</td>\n",
       "      <td>0</td>\n",
       "      <td>0</td>\n",
       "      <td>0</td>\n",
       "      <td>0</td>\n",
       "      <td>1</td>\n",
       "      <td>0</td>\n",
       "      <td>0</td>\n",
       "      <td>0</td>\n",
       "      <td>1</td>\n",
       "    </tr>\n",
       "    <tr>\n",
       "      <th>1</th>\n",
       "      <td>2</td>\n",
       "      <td>-0.063642</td>\n",
       "      <td>1</td>\n",
       "      <td>1</td>\n",
       "      <td>0</td>\n",
       "      <td>0</td>\n",
       "      <td>0</td>\n",
       "      <td>1</td>\n",
       "      <td>0</td>\n",
       "      <td>0</td>\n",
       "      <td>...</td>\n",
       "      <td>0</td>\n",
       "      <td>0</td>\n",
       "      <td>0</td>\n",
       "      <td>0</td>\n",
       "      <td>0</td>\n",
       "      <td>0</td>\n",
       "      <td>0</td>\n",
       "      <td>1</td>\n",
       "      <td>0</td>\n",
       "      <td>0</td>\n",
       "    </tr>\n",
       "    <tr>\n",
       "      <th>2</th>\n",
       "      <td>3</td>\n",
       "      <td>0.115155</td>\n",
       "      <td>1</td>\n",
       "      <td>1</td>\n",
       "      <td>0</td>\n",
       "      <td>0</td>\n",
       "      <td>0</td>\n",
       "      <td>1</td>\n",
       "      <td>0</td>\n",
       "      <td>0</td>\n",
       "      <td>...</td>\n",
       "      <td>1</td>\n",
       "      <td>0</td>\n",
       "      <td>0</td>\n",
       "      <td>0</td>\n",
       "      <td>0</td>\n",
       "      <td>0</td>\n",
       "      <td>0</td>\n",
       "      <td>1</td>\n",
       "      <td>0</td>\n",
       "      <td>0</td>\n",
       "    </tr>\n",
       "    <tr>\n",
       "      <th>3</th>\n",
       "      <td>4</td>\n",
       "      <td>-0.062983</td>\n",
       "      <td>0</td>\n",
       "      <td>0</td>\n",
       "      <td>0</td>\n",
       "      <td>1</td>\n",
       "      <td>0</td>\n",
       "      <td>0</td>\n",
       "      <td>0</td>\n",
       "      <td>1</td>\n",
       "      <td>...</td>\n",
       "      <td>0</td>\n",
       "      <td>0</td>\n",
       "      <td>0</td>\n",
       "      <td>0</td>\n",
       "      <td>0</td>\n",
       "      <td>1</td>\n",
       "      <td>0</td>\n",
       "      <td>0</td>\n",
       "      <td>0</td>\n",
       "      <td>1</td>\n",
       "    </tr>\n",
       "    <tr>\n",
       "      <th>4</th>\n",
       "      <td>5</td>\n",
       "      <td>0.323225</td>\n",
       "      <td>0</td>\n",
       "      <td>1</td>\n",
       "      <td>0</td>\n",
       "      <td>0</td>\n",
       "      <td>0</td>\n",
       "      <td>1</td>\n",
       "      <td>0</td>\n",
       "      <td>0</td>\n",
       "      <td>...</td>\n",
       "      <td>0</td>\n",
       "      <td>0</td>\n",
       "      <td>0</td>\n",
       "      <td>0</td>\n",
       "      <td>0</td>\n",
       "      <td>1</td>\n",
       "      <td>0</td>\n",
       "      <td>0</td>\n",
       "      <td>0</td>\n",
       "      <td>1</td>\n",
       "    </tr>\n",
       "  </tbody>\n",
       "</table>\n",
       "<p>5 rows × 84 columns</p>\n",
       "</div>"
      ],
      "text/plain": [
       "   Store  CompetitionDistance  Promo2  StoreType_a  StoreType_b  StoreType_c  \\\n",
       "0      1            -0.054412       0            0            0            1   \n",
       "1      2            -0.063642       1            1            0            0   \n",
       "2      3             0.115155       1            1            0            0   \n",
       "3      4            -0.062983       0            0            0            1   \n",
       "4      5             0.323225       0            1            0            0   \n",
       "\n",
       "   StoreType_d  Assortment_a  Assortment_b  Assortment_c  ...  \\\n",
       "0            0             1             0             0  ...   \n",
       "1            0             1             0             0  ...   \n",
       "2            0             1             0             0  ...   \n",
       "3            0             0             0             1  ...   \n",
       "4            0             1             0             0  ...   \n",
       "\n",
       "   Promo2SinceYear_2011.0  Promo2SinceYear_2012.0  Promo2SinceYear_2013.0  \\\n",
       "0                       0                       0                       0   \n",
       "1                       0                       0                       0   \n",
       "2                       1                       0                       0   \n",
       "3                       0                       0                       0   \n",
       "4                       0                       0                       0   \n",
       "\n",
       "   Promo2SinceYear_2014.0  Promo2SinceYear_2015.0  Promo2SinceYear_Notknown  \\\n",
       "0                       0                       0                         1   \n",
       "1                       0                       0                         0   \n",
       "2                       0                       0                         0   \n",
       "3                       0                       0                         1   \n",
       "4                       0                       0                         1   \n",
       "\n",
       "   PromoInterval_Feb,May,Aug,Nov  PromoInterval_Jan,Apr,Jul,Oct  \\\n",
       "0                              0                              0   \n",
       "1                              0                              1   \n",
       "2                              0                              1   \n",
       "3                              0                              0   \n",
       "4                              0                              0   \n",
       "\n",
       "   PromoInterval_Mar,Jun,Sept,Dec  PromoInterval_Notknown  \n",
       "0                               0                       1  \n",
       "1                               0                       0  \n",
       "2                               0                       0  \n",
       "3                               0                       1  \n",
       "4                               0                       1  \n",
       "\n",
       "[5 rows x 84 columns]"
      ]
     },
     "execution_count": 52,
     "metadata": {},
     "output_type": "execute_result"
    }
   ],
   "source": [
    "#df_joined.to_pickle('/Users/s0c02nj/Desktop/Store_Cluster/Store_Features')\n",
    "df_joined.head()"
   ]
  },
  {
   "cell_type": "code",
   "execution_count": 53,
   "metadata": {},
   "outputs": [],
   "source": [
    "#df_stor_sim.to_pickle('/Users/s0c02nj/Desktop/Store_Cluster/Store_Similarity_2')\n",
    "df_stor_sim = df_stor_sim.drop(['Distance','Scaled_Distance'],axis=1)"
   ]
  },
  {
   "cell_type": "code",
   "execution_count": 54,
   "metadata": {},
   "outputs": [
    {
     "data": {
      "text/html": [
       "<div>\n",
       "<style scoped>\n",
       "    .dataframe tbody tr th:only-of-type {\n",
       "        vertical-align: middle;\n",
       "    }\n",
       "\n",
       "    .dataframe tbody tr th {\n",
       "        vertical-align: top;\n",
       "    }\n",
       "\n",
       "    .dataframe thead th {\n",
       "        text-align: right;\n",
       "    }\n",
       "</style>\n",
       "<table border=\"1\" class=\"dataframe\">\n",
       "  <thead>\n",
       "    <tr style=\"text-align: right;\">\n",
       "      <th></th>\n",
       "      <th>Store1</th>\n",
       "      <th>Store2</th>\n",
       "      <th>Indicator</th>\n",
       "    </tr>\n",
       "  </thead>\n",
       "  <tbody>\n",
       "    <tr>\n",
       "      <th>0</th>\n",
       "      <td>1</td>\n",
       "      <td>2</td>\n",
       "      <td>0</td>\n",
       "    </tr>\n",
       "    <tr>\n",
       "      <th>1</th>\n",
       "      <td>1</td>\n",
       "      <td>3</td>\n",
       "      <td>0</td>\n",
       "    </tr>\n",
       "    <tr>\n",
       "      <th>2</th>\n",
       "      <td>1</td>\n",
       "      <td>4</td>\n",
       "      <td>0</td>\n",
       "    </tr>\n",
       "    <tr>\n",
       "      <th>3</th>\n",
       "      <td>1</td>\n",
       "      <td>5</td>\n",
       "      <td>0</td>\n",
       "    </tr>\n",
       "    <tr>\n",
       "      <th>4</th>\n",
       "      <td>1</td>\n",
       "      <td>6</td>\n",
       "      <td>0</td>\n",
       "    </tr>\n",
       "  </tbody>\n",
       "</table>\n",
       "</div>"
      ],
      "text/plain": [
       "   Store1  Store2  Indicator\n",
       "0       1       2          0\n",
       "1       1       3          0\n",
       "2       1       4          0\n",
       "3       1       5          0\n",
       "4       1       6          0"
      ]
     },
     "execution_count": 54,
     "metadata": {},
     "output_type": "execute_result"
    }
   ],
   "source": [
    "df_stor_sim.head()"
   ]
  },
  {
   "cell_type": "code",
   "execution_count": null,
   "metadata": {},
   "outputs": [],
   "source": []
  },
  {
   "cell_type": "markdown",
   "metadata": {},
   "source": [
    "----->>>>>> Below part is for Conv_Net--------->>>>"
   ]
  },
  {
   "cell_type": "code",
   "execution_count": 55,
   "metadata": {},
   "outputs": [],
   "source": [
    "import pandas as pd\n",
    "import numpy as np\n",
    "import networkx as nx\n",
    "#import igraph as ig\n",
    "\n",
    "from sklearn.cluster import DBSCAN\n",
    "from sklearn import metrics\n",
    "from sklearn import preprocessing, feature_extraction, model_selection\n",
    "from sklearn.decomposition import PCA\n",
    "from sklearn.manifold import TSNE\n",
    "\n",
    "import random\n",
    "\n",
    "import matplotlib.pyplot as plt\n",
    "from matplotlib.pyplot import figure\n",
    "\n",
    "%matplotlib inline\n",
    "\n",
    "import warnings\n",
    "warnings.filterwarnings('ignore') # supress warnings due to some future deprications"
   ]
  },
  {
   "cell_type": "code",
   "execution_count": 56,
   "metadata": {},
   "outputs": [
    {
     "name": "stderr",
     "output_type": "stream",
     "text": [
      "Using TensorFlow backend.\n"
     ]
    }
   ],
   "source": [
    "import stellargraph as sg\n",
    "from stellargraph.data import EdgeSplitter\n",
    "from stellargraph.mapper import GraphSAGELinkGenerator, GraphSAGENodeGenerator\n",
    "from stellargraph.layer import GraphSAGE, link_classification\n",
    "from stellargraph.data import UniformRandomWalk\n",
    "from stellargraph.data import UnsupervisedSampler\n",
    "from sklearn.model_selection import train_test_split\n",
    "\n",
    "import keras \n",
    "\n",
    "from stellargraph import globalvar"
   ]
  },
  {
   "cell_type": "code",
   "execution_count": 57,
   "metadata": {},
   "outputs": [],
   "source": [
    "import mplleaflet\n",
    "from itertools import count"
   ]
  },
  {
   "cell_type": "code",
   "execution_count": 58,
   "metadata": {},
   "outputs": [
    {
     "data": {
      "text/plain": [
       "stellargraph.core.graph.StellarGraph"
      ]
     },
     "execution_count": 58,
     "metadata": {},
     "output_type": "execute_result"
    }
   ],
   "source": [
    "sg.core.StellarGraph"
   ]
  },
  {
   "cell_type": "code",
   "execution_count": 59,
   "metadata": {},
   "outputs": [],
   "source": [
    "df_have_edge= df_stor_sim"
   ]
  },
  {
   "cell_type": "code",
   "execution_count": 60,
   "metadata": {},
   "outputs": [
    {
     "data": {
      "text/html": [
       "<div>\n",
       "<style scoped>\n",
       "    .dataframe tbody tr th:only-of-type {\n",
       "        vertical-align: middle;\n",
       "    }\n",
       "\n",
       "    .dataframe tbody tr th {\n",
       "        vertical-align: top;\n",
       "    }\n",
       "\n",
       "    .dataframe thead th {\n",
       "        text-align: right;\n",
       "    }\n",
       "</style>\n",
       "<table border=\"1\" class=\"dataframe\">\n",
       "  <thead>\n",
       "    <tr style=\"text-align: right;\">\n",
       "      <th></th>\n",
       "      <th>Store1</th>\n",
       "      <th>Store2</th>\n",
       "      <th>Indicator</th>\n",
       "    </tr>\n",
       "  </thead>\n",
       "  <tbody>\n",
       "    <tr>\n",
       "      <th>0</th>\n",
       "      <td>1</td>\n",
       "      <td>2</td>\n",
       "      <td>0</td>\n",
       "    </tr>\n",
       "    <tr>\n",
       "      <th>1</th>\n",
       "      <td>1</td>\n",
       "      <td>3</td>\n",
       "      <td>0</td>\n",
       "    </tr>\n",
       "    <tr>\n",
       "      <th>2</th>\n",
       "      <td>1</td>\n",
       "      <td>4</td>\n",
       "      <td>0</td>\n",
       "    </tr>\n",
       "    <tr>\n",
       "      <th>3</th>\n",
       "      <td>1</td>\n",
       "      <td>5</td>\n",
       "      <td>0</td>\n",
       "    </tr>\n",
       "    <tr>\n",
       "      <th>4</th>\n",
       "      <td>1</td>\n",
       "      <td>6</td>\n",
       "      <td>0</td>\n",
       "    </tr>\n",
       "  </tbody>\n",
       "</table>\n",
       "</div>"
      ],
      "text/plain": [
       "   Store1  Store2  Indicator\n",
       "0       1       2          0\n",
       "1       1       3          0\n",
       "2       1       4          0\n",
       "3       1       5          0\n",
       "4       1       6          0"
      ]
     },
     "execution_count": 60,
     "metadata": {},
     "output_type": "execute_result"
    }
   ],
   "source": [
    "df_have_edge.head()"
   ]
  },
  {
   "cell_type": "code",
   "execution_count": 61,
   "metadata": {},
   "outputs": [],
   "source": [
    "G=nx.from_pandas_edgelist(df_have_edge,source='Store1',target='Store2')"
   ]
  },
  {
   "cell_type": "code",
   "execution_count": 62,
   "metadata": {},
   "outputs": [
    {
     "name": "stdout",
     "output_type": "stream",
     "text": [
      "Name: \n",
      "Type: Graph\n",
      "Number of nodes: 1115\n",
      "Number of edges: 621055\n",
      "Average degree: 1114.0000\n"
     ]
    }
   ],
   "source": [
    "print(nx.info(G))"
   ]
  },
  {
   "cell_type": "code",
   "execution_count": 63,
   "metadata": {},
   "outputs": [
    {
     "name": "stdout",
     "output_type": "stream",
     "text": [
      "1\n"
     ]
    }
   ],
   "source": [
    "print(nx.number_connected_components(G))"
   ]
  },
  {
   "cell_type": "code",
   "execution_count": 64,
   "metadata": {},
   "outputs": [
    {
     "name": "stdout",
     "output_type": "stream",
     "text": [
      "[1115]\n"
     ]
    }
   ],
   "source": [
    "Gcc = sorted(nx.connected_component_subgraphs(G), key=len, reverse=True)\n",
    "cc_sizes = []\n",
    "for cc in list(Gcc):\n",
    "    cc_sizes.append(len(cc.nodes()))\n",
    "print(cc_sizes)"
   ]
  },
  {
   "cell_type": "code",
   "execution_count": 65,
   "metadata": {},
   "outputs": [],
   "source": [
    "filtered_features = df_joined"
   ]
  },
  {
   "cell_type": "code",
   "execution_count": 66,
   "metadata": {},
   "outputs": [],
   "source": [
    "filtered_features.set_index('Store', inplace=True)"
   ]
  },
  {
   "cell_type": "code",
   "execution_count": 67,
   "metadata": {},
   "outputs": [
    {
     "data": {
      "text/html": [
       "<div>\n",
       "<style scoped>\n",
       "    .dataframe tbody tr th:only-of-type {\n",
       "        vertical-align: middle;\n",
       "    }\n",
       "\n",
       "    .dataframe tbody tr th {\n",
       "        vertical-align: top;\n",
       "    }\n",
       "\n",
       "    .dataframe thead th {\n",
       "        text-align: right;\n",
       "    }\n",
       "</style>\n",
       "<table border=\"1\" class=\"dataframe\">\n",
       "  <thead>\n",
       "    <tr style=\"text-align: right;\">\n",
       "      <th></th>\n",
       "      <th>CompetitionDistance</th>\n",
       "      <th>Promo2</th>\n",
       "      <th>StoreType_a</th>\n",
       "      <th>StoreType_b</th>\n",
       "      <th>StoreType_c</th>\n",
       "      <th>StoreType_d</th>\n",
       "      <th>Assortment_a</th>\n",
       "      <th>Assortment_b</th>\n",
       "      <th>Assortment_c</th>\n",
       "      <th>CompetitionOpenSinceMonth_1.0</th>\n",
       "      <th>...</th>\n",
       "      <th>Promo2SinceYear_2011.0</th>\n",
       "      <th>Promo2SinceYear_2012.0</th>\n",
       "      <th>Promo2SinceYear_2013.0</th>\n",
       "      <th>Promo2SinceYear_2014.0</th>\n",
       "      <th>Promo2SinceYear_2015.0</th>\n",
       "      <th>Promo2SinceYear_Notknown</th>\n",
       "      <th>PromoInterval_Feb,May,Aug,Nov</th>\n",
       "      <th>PromoInterval_Jan,Apr,Jul,Oct</th>\n",
       "      <th>PromoInterval_Mar,Jun,Sept,Dec</th>\n",
       "      <th>PromoInterval_Notknown</th>\n",
       "    </tr>\n",
       "    <tr>\n",
       "      <th>Store</th>\n",
       "      <th></th>\n",
       "      <th></th>\n",
       "      <th></th>\n",
       "      <th></th>\n",
       "      <th></th>\n",
       "      <th></th>\n",
       "      <th></th>\n",
       "      <th></th>\n",
       "      <th></th>\n",
       "      <th></th>\n",
       "      <th></th>\n",
       "      <th></th>\n",
       "      <th></th>\n",
       "      <th></th>\n",
       "      <th></th>\n",
       "      <th></th>\n",
       "      <th></th>\n",
       "      <th></th>\n",
       "      <th></th>\n",
       "      <th></th>\n",
       "      <th></th>\n",
       "    </tr>\n",
       "  </thead>\n",
       "  <tbody>\n",
       "    <tr>\n",
       "      <th>1</th>\n",
       "      <td>-0.054412</td>\n",
       "      <td>0</td>\n",
       "      <td>0</td>\n",
       "      <td>0</td>\n",
       "      <td>1</td>\n",
       "      <td>0</td>\n",
       "      <td>1</td>\n",
       "      <td>0</td>\n",
       "      <td>0</td>\n",
       "      <td>0</td>\n",
       "      <td>...</td>\n",
       "      <td>0</td>\n",
       "      <td>0</td>\n",
       "      <td>0</td>\n",
       "      <td>0</td>\n",
       "      <td>0</td>\n",
       "      <td>1</td>\n",
       "      <td>0</td>\n",
       "      <td>0</td>\n",
       "      <td>0</td>\n",
       "      <td>1</td>\n",
       "    </tr>\n",
       "    <tr>\n",
       "      <th>2</th>\n",
       "      <td>-0.063642</td>\n",
       "      <td>1</td>\n",
       "      <td>1</td>\n",
       "      <td>0</td>\n",
       "      <td>0</td>\n",
       "      <td>0</td>\n",
       "      <td>1</td>\n",
       "      <td>0</td>\n",
       "      <td>0</td>\n",
       "      <td>0</td>\n",
       "      <td>...</td>\n",
       "      <td>0</td>\n",
       "      <td>0</td>\n",
       "      <td>0</td>\n",
       "      <td>0</td>\n",
       "      <td>0</td>\n",
       "      <td>0</td>\n",
       "      <td>0</td>\n",
       "      <td>1</td>\n",
       "      <td>0</td>\n",
       "      <td>0</td>\n",
       "    </tr>\n",
       "    <tr>\n",
       "      <th>3</th>\n",
       "      <td>0.115155</td>\n",
       "      <td>1</td>\n",
       "      <td>1</td>\n",
       "      <td>0</td>\n",
       "      <td>0</td>\n",
       "      <td>0</td>\n",
       "      <td>1</td>\n",
       "      <td>0</td>\n",
       "      <td>0</td>\n",
       "      <td>0</td>\n",
       "      <td>...</td>\n",
       "      <td>1</td>\n",
       "      <td>0</td>\n",
       "      <td>0</td>\n",
       "      <td>0</td>\n",
       "      <td>0</td>\n",
       "      <td>0</td>\n",
       "      <td>0</td>\n",
       "      <td>1</td>\n",
       "      <td>0</td>\n",
       "      <td>0</td>\n",
       "    </tr>\n",
       "    <tr>\n",
       "      <th>4</th>\n",
       "      <td>-0.062983</td>\n",
       "      <td>0</td>\n",
       "      <td>0</td>\n",
       "      <td>0</td>\n",
       "      <td>1</td>\n",
       "      <td>0</td>\n",
       "      <td>0</td>\n",
       "      <td>0</td>\n",
       "      <td>1</td>\n",
       "      <td>0</td>\n",
       "      <td>...</td>\n",
       "      <td>0</td>\n",
       "      <td>0</td>\n",
       "      <td>0</td>\n",
       "      <td>0</td>\n",
       "      <td>0</td>\n",
       "      <td>1</td>\n",
       "      <td>0</td>\n",
       "      <td>0</td>\n",
       "      <td>0</td>\n",
       "      <td>1</td>\n",
       "    </tr>\n",
       "    <tr>\n",
       "      <th>5</th>\n",
       "      <td>0.323225</td>\n",
       "      <td>0</td>\n",
       "      <td>1</td>\n",
       "      <td>0</td>\n",
       "      <td>0</td>\n",
       "      <td>0</td>\n",
       "      <td>1</td>\n",
       "      <td>0</td>\n",
       "      <td>0</td>\n",
       "      <td>0</td>\n",
       "      <td>...</td>\n",
       "      <td>0</td>\n",
       "      <td>0</td>\n",
       "      <td>0</td>\n",
       "      <td>0</td>\n",
       "      <td>0</td>\n",
       "      <td>1</td>\n",
       "      <td>0</td>\n",
       "      <td>0</td>\n",
       "      <td>0</td>\n",
       "      <td>1</td>\n",
       "    </tr>\n",
       "  </tbody>\n",
       "</table>\n",
       "<p>5 rows × 83 columns</p>\n",
       "</div>"
      ],
      "text/plain": [
       "       CompetitionDistance  Promo2  StoreType_a  StoreType_b  StoreType_c  \\\n",
       "Store                                                                       \n",
       "1                -0.054412       0            0            0            1   \n",
       "2                -0.063642       1            1            0            0   \n",
       "3                 0.115155       1            1            0            0   \n",
       "4                -0.062983       0            0            0            1   \n",
       "5                 0.323225       0            1            0            0   \n",
       "\n",
       "       StoreType_d  Assortment_a  Assortment_b  Assortment_c  \\\n",
       "Store                                                          \n",
       "1                0             1             0             0   \n",
       "2                0             1             0             0   \n",
       "3                0             1             0             0   \n",
       "4                0             0             0             1   \n",
       "5                0             1             0             0   \n",
       "\n",
       "       CompetitionOpenSinceMonth_1.0  ...  Promo2SinceYear_2011.0  \\\n",
       "Store                                 ...                           \n",
       "1                                  0  ...                       0   \n",
       "2                                  0  ...                       0   \n",
       "3                                  0  ...                       1   \n",
       "4                                  0  ...                       0   \n",
       "5                                  0  ...                       0   \n",
       "\n",
       "       Promo2SinceYear_2012.0  Promo2SinceYear_2013.0  Promo2SinceYear_2014.0  \\\n",
       "Store                                                                           \n",
       "1                           0                       0                       0   \n",
       "2                           0                       0                       0   \n",
       "3                           0                       0                       0   \n",
       "4                           0                       0                       0   \n",
       "5                           0                       0                       0   \n",
       "\n",
       "       Promo2SinceYear_2015.0  Promo2SinceYear_Notknown  \\\n",
       "Store                                                     \n",
       "1                           0                         1   \n",
       "2                           0                         0   \n",
       "3                           0                         0   \n",
       "4                           0                         1   \n",
       "5                           0                         1   \n",
       "\n",
       "       PromoInterval_Feb,May,Aug,Nov  PromoInterval_Jan,Apr,Jul,Oct  \\\n",
       "Store                                                                 \n",
       "1                                  0                              0   \n",
       "2                                  0                              1   \n",
       "3                                  0                              1   \n",
       "4                                  0                              0   \n",
       "5                                  0                              0   \n",
       "\n",
       "       PromoInterval_Mar,Jun,Sept,Dec  PromoInterval_Notknown  \n",
       "Store                                                          \n",
       "1                                   0                       1  \n",
       "2                                   0                       0  \n",
       "3                                   0                       0  \n",
       "4                                   0                       1  \n",
       "5                                   0                       1  \n",
       "\n",
       "[5 rows x 83 columns]"
      ]
     },
     "execution_count": 67,
     "metadata": {},
     "output_type": "execute_result"
    }
   ],
   "source": [
    "filtered_features.head()"
   ]
  },
  {
   "cell_type": "code",
   "execution_count": 68,
   "metadata": {},
   "outputs": [],
   "source": [
    "node_features=filtered_features"
   ]
  },
  {
   "cell_type": "code",
   "execution_count": 69,
   "metadata": {},
   "outputs": [
    {
     "data": {
      "text/html": [
       "<div>\n",
       "<style scoped>\n",
       "    .dataframe tbody tr th:only-of-type {\n",
       "        vertical-align: middle;\n",
       "    }\n",
       "\n",
       "    .dataframe tbody tr th {\n",
       "        vertical-align: top;\n",
       "    }\n",
       "\n",
       "    .dataframe thead th {\n",
       "        text-align: right;\n",
       "    }\n",
       "</style>\n",
       "<table border=\"1\" class=\"dataframe\">\n",
       "  <thead>\n",
       "    <tr style=\"text-align: right;\">\n",
       "      <th></th>\n",
       "      <th>CompetitionDistance</th>\n",
       "      <th>Promo2</th>\n",
       "      <th>StoreType_a</th>\n",
       "      <th>StoreType_b</th>\n",
       "      <th>StoreType_c</th>\n",
       "      <th>StoreType_d</th>\n",
       "      <th>Assortment_a</th>\n",
       "      <th>Assortment_b</th>\n",
       "      <th>Assortment_c</th>\n",
       "      <th>CompetitionOpenSinceMonth_1.0</th>\n",
       "      <th>...</th>\n",
       "      <th>Promo2SinceYear_2011.0</th>\n",
       "      <th>Promo2SinceYear_2012.0</th>\n",
       "      <th>Promo2SinceYear_2013.0</th>\n",
       "      <th>Promo2SinceYear_2014.0</th>\n",
       "      <th>Promo2SinceYear_2015.0</th>\n",
       "      <th>Promo2SinceYear_Notknown</th>\n",
       "      <th>PromoInterval_Feb,May,Aug,Nov</th>\n",
       "      <th>PromoInterval_Jan,Apr,Jul,Oct</th>\n",
       "      <th>PromoInterval_Mar,Jun,Sept,Dec</th>\n",
       "      <th>PromoInterval_Notknown</th>\n",
       "    </tr>\n",
       "    <tr>\n",
       "      <th>Store</th>\n",
       "      <th></th>\n",
       "      <th></th>\n",
       "      <th></th>\n",
       "      <th></th>\n",
       "      <th></th>\n",
       "      <th></th>\n",
       "      <th></th>\n",
       "      <th></th>\n",
       "      <th></th>\n",
       "      <th></th>\n",
       "      <th></th>\n",
       "      <th></th>\n",
       "      <th></th>\n",
       "      <th></th>\n",
       "      <th></th>\n",
       "      <th></th>\n",
       "      <th></th>\n",
       "      <th></th>\n",
       "      <th></th>\n",
       "      <th></th>\n",
       "      <th></th>\n",
       "    </tr>\n",
       "  </thead>\n",
       "  <tbody>\n",
       "    <tr>\n",
       "      <th>1</th>\n",
       "      <td>-0.054412</td>\n",
       "      <td>0</td>\n",
       "      <td>0</td>\n",
       "      <td>0</td>\n",
       "      <td>1</td>\n",
       "      <td>0</td>\n",
       "      <td>1</td>\n",
       "      <td>0</td>\n",
       "      <td>0</td>\n",
       "      <td>0</td>\n",
       "      <td>...</td>\n",
       "      <td>0</td>\n",
       "      <td>0</td>\n",
       "      <td>0</td>\n",
       "      <td>0</td>\n",
       "      <td>0</td>\n",
       "      <td>1</td>\n",
       "      <td>0</td>\n",
       "      <td>0</td>\n",
       "      <td>0</td>\n",
       "      <td>1</td>\n",
       "    </tr>\n",
       "    <tr>\n",
       "      <th>2</th>\n",
       "      <td>-0.063642</td>\n",
       "      <td>1</td>\n",
       "      <td>1</td>\n",
       "      <td>0</td>\n",
       "      <td>0</td>\n",
       "      <td>0</td>\n",
       "      <td>1</td>\n",
       "      <td>0</td>\n",
       "      <td>0</td>\n",
       "      <td>0</td>\n",
       "      <td>...</td>\n",
       "      <td>0</td>\n",
       "      <td>0</td>\n",
       "      <td>0</td>\n",
       "      <td>0</td>\n",
       "      <td>0</td>\n",
       "      <td>0</td>\n",
       "      <td>0</td>\n",
       "      <td>1</td>\n",
       "      <td>0</td>\n",
       "      <td>0</td>\n",
       "    </tr>\n",
       "    <tr>\n",
       "      <th>3</th>\n",
       "      <td>0.115155</td>\n",
       "      <td>1</td>\n",
       "      <td>1</td>\n",
       "      <td>0</td>\n",
       "      <td>0</td>\n",
       "      <td>0</td>\n",
       "      <td>1</td>\n",
       "      <td>0</td>\n",
       "      <td>0</td>\n",
       "      <td>0</td>\n",
       "      <td>...</td>\n",
       "      <td>1</td>\n",
       "      <td>0</td>\n",
       "      <td>0</td>\n",
       "      <td>0</td>\n",
       "      <td>0</td>\n",
       "      <td>0</td>\n",
       "      <td>0</td>\n",
       "      <td>1</td>\n",
       "      <td>0</td>\n",
       "      <td>0</td>\n",
       "    </tr>\n",
       "    <tr>\n",
       "      <th>4</th>\n",
       "      <td>-0.062983</td>\n",
       "      <td>0</td>\n",
       "      <td>0</td>\n",
       "      <td>0</td>\n",
       "      <td>1</td>\n",
       "      <td>0</td>\n",
       "      <td>0</td>\n",
       "      <td>0</td>\n",
       "      <td>1</td>\n",
       "      <td>0</td>\n",
       "      <td>...</td>\n",
       "      <td>0</td>\n",
       "      <td>0</td>\n",
       "      <td>0</td>\n",
       "      <td>0</td>\n",
       "      <td>0</td>\n",
       "      <td>1</td>\n",
       "      <td>0</td>\n",
       "      <td>0</td>\n",
       "      <td>0</td>\n",
       "      <td>1</td>\n",
       "    </tr>\n",
       "    <tr>\n",
       "      <th>5</th>\n",
       "      <td>0.323225</td>\n",
       "      <td>0</td>\n",
       "      <td>1</td>\n",
       "      <td>0</td>\n",
       "      <td>0</td>\n",
       "      <td>0</td>\n",
       "      <td>1</td>\n",
       "      <td>0</td>\n",
       "      <td>0</td>\n",
       "      <td>0</td>\n",
       "      <td>...</td>\n",
       "      <td>0</td>\n",
       "      <td>0</td>\n",
       "      <td>0</td>\n",
       "      <td>0</td>\n",
       "      <td>0</td>\n",
       "      <td>1</td>\n",
       "      <td>0</td>\n",
       "      <td>0</td>\n",
       "      <td>0</td>\n",
       "      <td>1</td>\n",
       "    </tr>\n",
       "  </tbody>\n",
       "</table>\n",
       "<p>5 rows × 83 columns</p>\n",
       "</div>"
      ],
      "text/plain": [
       "       CompetitionDistance  Promo2  StoreType_a  StoreType_b  StoreType_c  \\\n",
       "Store                                                                       \n",
       "1                -0.054412       0            0            0            1   \n",
       "2                -0.063642       1            1            0            0   \n",
       "3                 0.115155       1            1            0            0   \n",
       "4                -0.062983       0            0            0            1   \n",
       "5                 0.323225       0            1            0            0   \n",
       "\n",
       "       StoreType_d  Assortment_a  Assortment_b  Assortment_c  \\\n",
       "Store                                                          \n",
       "1                0             1             0             0   \n",
       "2                0             1             0             0   \n",
       "3                0             1             0             0   \n",
       "4                0             0             0             1   \n",
       "5                0             1             0             0   \n",
       "\n",
       "       CompetitionOpenSinceMonth_1.0  ...  Promo2SinceYear_2011.0  \\\n",
       "Store                                 ...                           \n",
       "1                                  0  ...                       0   \n",
       "2                                  0  ...                       0   \n",
       "3                                  0  ...                       1   \n",
       "4                                  0  ...                       0   \n",
       "5                                  0  ...                       0   \n",
       "\n",
       "       Promo2SinceYear_2012.0  Promo2SinceYear_2013.0  Promo2SinceYear_2014.0  \\\n",
       "Store                                                                           \n",
       "1                           0                       0                       0   \n",
       "2                           0                       0                       0   \n",
       "3                           0                       0                       0   \n",
       "4                           0                       0                       0   \n",
       "5                           0                       0                       0   \n",
       "\n",
       "       Promo2SinceYear_2015.0  Promo2SinceYear_Notknown  \\\n",
       "Store                                                     \n",
       "1                           0                         1   \n",
       "2                           0                         0   \n",
       "3                           0                         0   \n",
       "4                           0                         1   \n",
       "5                           0                         1   \n",
       "\n",
       "       PromoInterval_Feb,May,Aug,Nov  PromoInterval_Jan,Apr,Jul,Oct  \\\n",
       "Store                                                                 \n",
       "1                                  0                              0   \n",
       "2                                  0                              1   \n",
       "3                                  0                              1   \n",
       "4                                  0                              0   \n",
       "5                                  0                              0   \n",
       "\n",
       "       PromoInterval_Mar,Jun,Sept,Dec  PromoInterval_Notknown  \n",
       "Store                                                          \n",
       "1                                   0                       1  \n",
       "2                                   0                       0  \n",
       "3                                   0                       0  \n",
       "4                                   0                       1  \n",
       "5                                   0                       1  \n",
       "\n",
       "[5 rows x 83 columns]"
      ]
     },
     "execution_count": 69,
     "metadata": {},
     "output_type": "execute_result"
    }
   ],
   "source": [
    "node_features.head()"
   ]
  },
  {
   "cell_type": "code",
   "execution_count": 70,
   "metadata": {},
   "outputs": [],
   "source": [
    "Gs = sg.core.StellarGraph(G, node_features=node_features)"
   ]
  },
  {
   "cell_type": "code",
   "execution_count": 71,
   "metadata": {},
   "outputs": [
    {
     "name": "stdout",
     "output_type": "stream",
     "text": [
      "StellarGraph: Undirected multigraph\n",
      " Nodes: 1115, Edges: 621055\n",
      "\n",
      " Node types:\n",
      "  default: [1115]\n",
      "    Edge types: default-default->default\n",
      "\n",
      " Edge types:\n",
      "    default-default->default: [621055]\n",
      "\n"
     ]
    }
   ],
   "source": [
    "print(Gs.info())"
   ]
  },
  {
   "cell_type": "code",
   "execution_count": 80,
   "metadata": {},
   "outputs": [],
   "source": [
    "# parameter specification\n",
    "number_of_walks = 5\n",
    "length = 10\n",
    "batch_size = 500\n",
    "epochs = 10\n",
    "num_samples = [20, 20]\n",
    "layer_sizes = [100, 100]\n",
    "learning_rate = 1e-2"
   ]
  },
  {
   "cell_type": "code",
   "execution_count": 81,
   "metadata": {},
   "outputs": [],
   "source": [
    "unsupervisedSamples = UnsupervisedSampler(Gs, nodes=G.nodes(), length=length, number_of_walks=number_of_walks)"
   ]
  },
  {
   "cell_type": "code",
   "execution_count": 82,
   "metadata": {},
   "outputs": [
    {
     "name": "stdout",
     "output_type": "stream",
     "text": [
      "Running GraphSAGELinkGenerator with an estimated 223 batches generated on the fly per epoch.\n"
     ]
    }
   ],
   "source": [
    "train_gen = GraphSAGELinkGenerator(Gs, batch_size, num_samples).flow(unsupervisedSamples)"
   ]
  },
  {
   "cell_type": "code",
   "execution_count": 83,
   "metadata": {},
   "outputs": [],
   "source": [
    "assert len(layer_sizes) == len(num_samples)\n",
    "\n",
    "graphsage = GraphSAGE(\n",
    "        layer_sizes=layer_sizes, generator=train_gen, bias=True, dropout=0.0, normalize=\"l2\"\n",
    "    )"
   ]
  },
  {
   "cell_type": "code",
   "execution_count": 84,
   "metadata": {},
   "outputs": [
    {
     "data": {
      "text/plain": [
       "([<tf.Tensor 'input_13:0' shape=(?, 1, 83) dtype=float32>,\n",
       "  <tf.Tensor 'input_16:0' shape=(?, 1, 83) dtype=float32>,\n",
       "  <tf.Tensor 'input_14:0' shape=(?, 20, 83) dtype=float32>,\n",
       "  <tf.Tensor 'input_17:0' shape=(?, 20, 83) dtype=float32>,\n",
       "  <tf.Tensor 'input_15:0' shape=(?, 400, 83) dtype=float32>,\n",
       "  <tf.Tensor 'input_18:0' shape=(?, 400, 83) dtype=float32>],\n",
       " [<tf.Tensor 'lambda_3/l2_normalize:0' shape=(?, 1, 100) dtype=float32>,\n",
       "  <tf.Tensor 'lambda_3_1/l2_normalize:0' shape=(?, 1, 100) dtype=float32>])"
      ]
     },
     "execution_count": 84,
     "metadata": {},
     "output_type": "execute_result"
    }
   ],
   "source": [
    "graphsage.build()"
   ]
  },
  {
   "cell_type": "code",
   "execution_count": 85,
   "metadata": {},
   "outputs": [
    {
     "name": "stdout",
     "output_type": "stream",
     "text": [
      "link_classification: using 'ip' method to combine node embeddings into edge embeddings\n"
     ]
    }
   ],
   "source": [
    "x_inp, x_out = graphsage.build()\n",
    "\n",
    "prediction = link_classification(\n",
    "        output_dim=1, output_act=\"sigmoid\", edge_embedding_method='ip'\n",
    "    )(x_out)"
   ]
  },
  {
   "cell_type": "code",
   "execution_count": 86,
   "metadata": {},
   "outputs": [],
   "source": [
    "#x_inp, x_out = graphsage.default_model()\n",
    "model = keras.Model(inputs=x_inp, outputs=prediction)\n",
    "\n",
    "model.compile(\n",
    "        optimizer=keras.optimizers.Adam(lr=learning_rate),\n",
    "        loss=keras.losses.binary_crossentropy,\n",
    "        metrics=[keras.metrics.binary_accuracy],\n",
    "    )"
   ]
  },
  {
   "cell_type": "code",
   "execution_count": null,
   "metadata": {},
   "outputs": [
    {
     "name": "stdout",
     "output_type": "stream",
     "text": [
      "Epoch 1/10\n",
      "223/223 [==============================] - 290s 1s/step - loss: 0.7037 - binary_accuracy: 0.5001\n",
      "Epoch 2/10\n",
      " 77/223 [=========>....................] - ETA: 3:15 - loss: 0.7005 - binary_accuracy: 0.5017"
     ]
    }
   ],
   "source": [
    "history = model.fit_generator(\n",
    "        train_gen,\n",
    "        epochs=epochs,\n",
    "        verbose=1,\n",
    "        use_multiprocessing=False,\n",
    "        workers=1,\n",
    "        shuffle=True,\n",
    "    )"
   ]
  },
  {
   "cell_type": "code",
   "execution_count": null,
   "metadata": {},
   "outputs": [],
   "source": [
    "prediction.get_shape()"
   ]
  },
  {
   "cell_type": "markdown",
   "metadata": {},
   "source": [
    "### Extracting Node embeddings"
   ]
  },
  {
   "cell_type": "code",
   "execution_count": null,
   "metadata": {},
   "outputs": [],
   "source": [
    "node_ids = list(Gs.nodes())\n",
    "node_gen = GraphSAGENodeGenerator(Gs, batch_size, num_samples).flow(node_ids)"
   ]
  },
  {
   "cell_type": "code",
   "execution_count": null,
   "metadata": {},
   "outputs": [],
   "source": [
    "embedding_model = keras.Model(inputs=x_inp_src, outputs=x_out_src)"
   ]
  }
 ],
 "metadata": {
  "kernelspec": {
   "display_name": "Python 3",
   "language": "python",
   "name": "python3"
  },
  "language_info": {
   "codemirror_mode": {
    "name": "ipython",
    "version": 3
   },
   "file_extension": ".py",
   "mimetype": "text/x-python",
   "name": "python",
   "nbconvert_exporter": "python",
   "pygments_lexer": "ipython3",
   "version": "3.6.8"
  }
 },
 "nbformat": 4,
 "nbformat_minor": 2
}

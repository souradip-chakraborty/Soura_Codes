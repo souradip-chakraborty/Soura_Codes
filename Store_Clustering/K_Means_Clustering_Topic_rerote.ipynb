{
 "cells": [
  {
   "cell_type": "code",
   "execution_count": 1,
   "metadata": {},
   "outputs": [],
   "source": [
    "import re\n",
    "import numpy as np\n",
    "import pandas as pd\n",
    "from pprint import pprint\n",
    "from tqdm import tqdm\n",
    "import inflection\n",
    "import spellchecker\n",
    "from tqdm import tqdm\n",
    "import nltk\n",
    "from collections import Counter\n",
    "from nltk.util import ngrams\n",
    "import matplotlib.pyplot as plt\n",
    "import seaborn as sns"
   ]
  },
  {
   "cell_type": "code",
   "execution_count": 2,
   "metadata": {},
   "outputs": [],
   "source": [
    "# NLTK Stop words\n",
    "from nltk.corpus import stopwords\n",
    "stop_words = stopwords.words('english')\n",
    "stop_words.extend(['from', 'subject', 're', 'edu', 'use','please','are'])"
   ]
  },
  {
   "cell_type": "code",
   "execution_count": null,
   "metadata": {},
   "outputs": [],
   "source": []
  },
  {
   "cell_type": "code",
   "execution_count": 3,
   "metadata": {},
   "outputs": [
    {
     "data": {
      "text/html": [
       "<div>\n",
       "<style scoped>\n",
       "    .dataframe tbody tr th:only-of-type {\n",
       "        vertical-align: middle;\n",
       "    }\n",
       "\n",
       "    .dataframe tbody tr th {\n",
       "        vertical-align: top;\n",
       "    }\n",
       "\n",
       "    .dataframe thead th {\n",
       "        text-align: right;\n",
       "    }\n",
       "</style>\n",
       "<table border=\"1\" class=\"dataframe\">\n",
       "  <thead>\n",
       "    <tr style=\"text-align: right;\">\n",
       "      <th></th>\n",
       "      <th>quoteid</th>\n",
       "      <th>purchasecmpny</th>\n",
       "      <th>dept</th>\n",
       "      <th>reroutersncode</th>\n",
       "      <th>reroutersntxt</th>\n",
       "      <th>reroutecmnt</th>\n",
       "      <th>reroutelastchngts</th>\n",
       "    </tr>\n",
       "  </thead>\n",
       "  <tbody>\n",
       "    <tr>\n",
       "      <th>0</th>\n",
       "      <td>12803160</td>\n",
       "      <td>1001</td>\n",
       "      <td>22</td>\n",
       "      <td>4</td>\n",
       "      <td>Inaccurate Product Format</td>\n",
       "      <td>Inaccurate Product Format; 29Jun2019 TT. The w...</td>\n",
       "      <td>2019-11-04 10:15:31.0</td>\n",
       "    </tr>\n",
       "    <tr>\n",
       "      <th>1</th>\n",
       "      <td>12935402</td>\n",
       "      <td>1001</td>\n",
       "      <td>3</td>\n",
       "      <td>11</td>\n",
       "      <td>Incomplete/Inaccurate Value Breakdown</td>\n",
       "      <td>Incomplete/Inaccurate Value Breakdown; Compone...</td>\n",
       "      <td>2019-11-04 10:05:03.0</td>\n",
       "    </tr>\n",
       "    <tr>\n",
       "      <th>2</th>\n",
       "      <td>12617809</td>\n",
       "      <td>1001</td>\n",
       "      <td>63</td>\n",
       "      <td>13</td>\n",
       "      <td>IPR Concern</td>\n",
       "      <td>IPR Concern; change pkging desc to emeril</td>\n",
       "      <td>2019-11-04 09:53:31.0</td>\n",
       "    </tr>\n",
       "    <tr>\n",
       "      <th>3</th>\n",
       "      <td>12617809</td>\n",
       "      <td>1001</td>\n",
       "      <td>63</td>\n",
       "      <td>13</td>\n",
       "      <td>IPR Concern</td>\n",
       "      <td>IPR Concern; Change Packaging Description from...</td>\n",
       "      <td>2019-11-04 09:53:31.0</td>\n",
       "    </tr>\n",
       "    <tr>\n",
       "      <th>4</th>\n",
       "      <td>12617809</td>\n",
       "      <td>1001</td>\n",
       "      <td>63</td>\n",
       "      <td>4</td>\n",
       "      <td>Inaccurate Product Format</td>\n",
       "      <td>Inaccurate Product Format; A second HTS line n...</td>\n",
       "      <td>2019-11-04 09:53:31.0</td>\n",
       "    </tr>\n",
       "  </tbody>\n",
       "</table>\n",
       "</div>"
      ],
      "text/plain": [
       "    quoteid  purchasecmpny  dept  reroutersncode  \\\n",
       "0  12803160           1001    22               4   \n",
       "1  12935402           1001     3              11   \n",
       "2  12617809           1001    63              13   \n",
       "3  12617809           1001    63              13   \n",
       "4  12617809           1001    63               4   \n",
       "\n",
       "                           reroutersntxt  \\\n",
       "0              Inaccurate Product Format   \n",
       "1  Incomplete/Inaccurate Value Breakdown   \n",
       "2                            IPR Concern   \n",
       "3                            IPR Concern   \n",
       "4              Inaccurate Product Format   \n",
       "\n",
       "                                         reroutecmnt      reroutelastchngts  \n",
       "0  Inaccurate Product Format; 29Jun2019 TT. The w...  2019-11-04 10:15:31.0  \n",
       "1  Incomplete/Inaccurate Value Breakdown; Compone...  2019-11-04 10:05:03.0  \n",
       "2          IPR Concern; change pkging desc to emeril  2019-11-04 09:53:31.0  \n",
       "3  IPR Concern; Change Packaging Description from...  2019-11-04 09:53:31.0  \n",
       "4  Inaccurate Product Format; A second HTS line n...  2019-11-04 09:53:31.0  "
      ]
     },
     "execution_count": 3,
     "metadata": {},
     "output_type": "execute_result"
    }
   ],
   "source": [
    "# Import Dataset\n",
    "df = pd.read_excel('/Users/s0c02nj/Desktop/adhoc_reroute.xlsx')\n",
    "#print(df.target_names.unique())\n",
    "df.head()"
   ]
  },
  {
   "cell_type": "code",
   "execution_count": 4,
   "metadata": {},
   "outputs": [
    {
     "name": "stderr",
     "output_type": "stream",
     "text": [
      "100%|██████████| 18575/18575 [00:00<00:00, 38175.01it/s]\n"
     ]
    }
   ],
   "source": [
    "#Removing the concern area\n",
    "df['reroutecmnt'] = df['reroutecmnt'].astype(str)\n",
    "cln_list1 = []\n",
    "\n",
    "for i in tqdm(range(0,len(df))):\n",
    "    text_to_rmv = df['reroutersntxt'].iloc[i] + ';'\n",
    "    cln_list1.append(re.sub(text_to_rmv,'',df['reroutecmnt'].iloc[i]))\n",
    "    "
   ]
  },
  {
   "cell_type": "code",
   "execution_count": 5,
   "metadata": {},
   "outputs": [],
   "source": [
    "df['reroutecmnt_cln'] =  cln_list1"
   ]
  },
  {
   "cell_type": "code",
   "execution_count": 6,
   "metadata": {},
   "outputs": [],
   "source": [
    "def text_preprocessing(text):\n",
    "    #d = enchant.Dict(\"en_US\")\n",
    "    text= text.lower()\n",
    "    text= re.sub(r'[^a-z]',' ',text)\n",
    "    text= \" \".join([s for s in text.split() if len(s)>2])\n",
    "    #text = drop_duplicates(text)\n",
    "    text= \" \".join([x for x in text.split() if x not in stop_words])\n",
    "    text= \" \".join([inflection.singularize(x) for x in text.split()])\n",
    "    text= ' '.join(text.split())\n",
    "    return(text)"
   ]
  },
  {
   "cell_type": "code",
   "execution_count": 7,
   "metadata": {},
   "outputs": [],
   "source": [
    "def RemoveSpecialCharacters(doc):\n",
    "    return re.sub('\\W+',' ', str(doc)).strip().lower()\n",
    "\n",
    "date_formats = r'''\\d?\\d/\\d\\d?/\\d?\\d?\\d\\d|\n",
    "                   (\\d?\\d)\\s*(jan|feb|mar|apr|may|jun|jul|aug|sep|oct|nov|dec)\\s*(\\d\\d\\d\\d)| \n",
    "                   \\d?\\d-\\d?\\d-\\d?\\d?\\d\\d|\n",
    "                   \\d\\d\\.\\d\\d\\.\\d\\d|\n",
    "                   (jan|feb|mar|apr|may|jun|jul|aug|sep|oct|nov|dec)\\s*(\\d\\d\\d\\d)'''\n",
    "re_date = re.compile(date_formats,re.VERBOSE)\n",
    "\n",
    "def RemoveDate(x):\n",
    "    return re_date.sub('',x)"
   ]
  },
  {
   "cell_type": "code",
   "execution_count": 8,
   "metadata": {},
   "outputs": [],
   "source": [
    "df['reroutecmnt_cln']  = df['reroutecmnt_cln'].apply(RemoveSpecialCharacters)\n",
    "df['reroutecmnt_cln'] = df['reroutecmnt_cln'].apply(RemoveDate)\n"
   ]
  },
  {
   "cell_type": "markdown",
   "metadata": {},
   "source": [
    "#### Separating Sentences from each of the documents"
   ]
  },
  {
   "cell_type": "code",
   "execution_count": 9,
   "metadata": {},
   "outputs": [],
   "source": [
    "concern = 'Inaccurate Product Format'\n",
    "df_sub  = df[df['reroutersntxt'] == concern]"
   ]
  },
  {
   "cell_type": "code",
   "execution_count": 66,
   "metadata": {},
   "outputs": [
    {
     "name": "stderr",
     "output_type": "stream",
     "text": [
      "100%|██████████| 1871/1871 [00:00<00:00, 35189.67it/s]\n"
     ]
    }
   ],
   "source": [
    "list_comb = []\n",
    "\n",
    "for i in tqdm(range(0,len(df_sub))):\n",
    "    temp = df_sub['reroutecmnt_cln'].iloc[i]\n",
    "    list_temp = list(filter(None, temp.split('.')))\n",
    "    list_comb = list_comb + list_temp"
   ]
  },
  {
   "cell_type": "code",
   "execution_count": 78,
   "metadata": {},
   "outputs": [
    {
     "data": {
      "text/plain": [
       "'please remove the duplicate long nose plier line'"
      ]
     },
     "execution_count": 78,
     "metadata": {},
     "output_type": "execute_result"
    }
   ],
   "source": [
    "list_comb[10]"
   ]
  },
  {
   "cell_type": "code",
   "execution_count": 75,
   "metadata": {},
   "outputs": [],
   "source": [
    "df_new = pd.DataFrame()\n",
    "df_new['comments'] = df_sub['reroutecmnt_cln']"
   ]
  },
  {
   "cell_type": "code",
   "execution_count": null,
   "metadata": {},
   "outputs": [],
   "source": []
  },
  {
   "cell_type": "code",
   "execution_count": 12,
   "metadata": {},
   "outputs": [
    {
     "name": "stderr",
     "output_type": "stream",
     "text": [
      "100%|██████████| 1871/1871 [00:01<00:00, 1859.48it/s]\n"
     ]
    }
   ],
   "source": [
    "cln_lst2 = []\n",
    "for i in tqdm(range(0,len(df_new))):\n",
    "    text = df_new['comments'].iloc[i]\n",
    "    \n",
    "    #Clean\n",
    "    cln_lst2.append(text_preprocessing(text))\n",
    "    "
   ]
  },
  {
   "cell_type": "code",
   "execution_count": null,
   "metadata": {},
   "outputs": [],
   "source": []
  },
  {
   "cell_type": "code",
   "execution_count": 13,
   "metadata": {},
   "outputs": [],
   "source": [
    "df_new['comments'] = cln_lst2"
   ]
  },
  {
   "cell_type": "code",
   "execution_count": 79,
   "metadata": {},
   "outputs": [],
   "source": [
    "spell = spellchecker.SpellChecker()"
   ]
  },
  {
   "cell_type": "code",
   "execution_count": null,
   "metadata": {},
   "outputs": [],
   "source": [
    "#df = get_spell_corr(df,'comments')\n",
    "def get_spell_corr(word):\n",
    "    \n",
    "    new_word = \" \".join([spell.correction(y) for y in word.split()])\n",
    "    \n",
    "    return new_word"
   ]
  },
  {
   "cell_type": "code",
   "execution_count": null,
   "metadata": {},
   "outputs": [],
   "source": [
    "cln_lst3 = []\n",
    "\n",
    "for i in tqdm(range(0,len(df_new))):\n",
    "    \n",
    "    word = df_new['comments'].iloc[i]\n",
    "    cln_lst3.append(get_spell_corr(word))"
   ]
  },
  {
   "cell_type": "code",
   "execution_count": null,
   "metadata": {},
   "outputs": [],
   "source": [
    "#df_new['comments'] = cln_lst3"
   ]
  },
  {
   "cell_type": "code",
   "execution_count": null,
   "metadata": {},
   "outputs": [],
   "source": []
  },
  {
   "cell_type": "code",
   "execution_count": null,
   "metadata": {},
   "outputs": [],
   "source": [
    "#df.to_csv('/Users/s0c02nj/Desktop/Inaccurate_Product_Format.csv',index = False)"
   ]
  },
  {
   "cell_type": "code",
   "execution_count": null,
   "metadata": {},
   "outputs": [],
   "source": [
    "df_new"
   ]
  },
  {
   "cell_type": "code",
   "execution_count": null,
   "metadata": {},
   "outputs": [],
   "source": []
  },
  {
   "cell_type": "markdown",
   "metadata": {},
   "source": [
    "#### Word_Vectors based approach"
   ]
  },
  {
   "cell_type": "code",
   "execution_count": 14,
   "metadata": {},
   "outputs": [
    {
     "name": "stderr",
     "output_type": "stream",
     "text": [
      "100%|██████████| 400000/400000 [00:08<00:00, 45559.67it/s]\n"
     ]
    }
   ],
   "source": [
    "folder_path= '/Users/s0c02nj/Downloads/glove.6B/glove.6B.100d.txt'\n",
    "f=open(folder_path)\n",
    "doc=f.readlines()\n",
    "#****VIP\n",
    "#**WORD TO VEC DICTIONARY\n",
    "#Forming a dictionary-word2vec\n",
    "word2vec={}\n",
    "key=[]\n",
    "#looping though the doc.in the doc the entire thing is saved and is separated by a space bar.\n",
    "for line in tqdm(doc):\n",
    "    #parts contains every word separately for doc1\n",
    "    parts=line.split(' ')\n",
    "    #part[0] contains the word\n",
    "    word=parts[0]\n",
    "    key.append(word)\n",
    "    #embed contains the vector\n",
    "    embed=np.array(parts[1:],dtype='float32')\n",
    "    #filling up the dictionary\n",
    "    word2vec[word]=embed\n"
   ]
  },
  {
   "cell_type": "code",
   "execution_count": 15,
   "metadata": {},
   "outputs": [],
   "source": [
    "df_new['comments_ls'] = df_new['comments'].apply(lambda x:x.split())"
   ]
  },
  {
   "cell_type": "code",
   "execution_count": 46,
   "metadata": {},
   "outputs": [],
   "source": [
    "df_new['ind'] = df_new['comments_ls'].apply(lambda x : 1 if len(x)==0 else 0)"
   ]
  },
  {
   "cell_type": "code",
   "execution_count": 48,
   "metadata": {},
   "outputs": [
    {
     "data": {
      "text/plain": [
       "(1833, 3)"
      ]
     },
     "execution_count": 48,
     "metadata": {},
     "output_type": "execute_result"
    }
   ],
   "source": [
    "df_new = df_new[df_new['ind'] == 0]\n",
    "df_new.shape"
   ]
  },
  {
   "cell_type": "code",
   "execution_count": null,
   "metadata": {},
   "outputs": [],
   "source": [
    "# from gensim.models import Word2Vec\n",
    "# sentences = df_new['comments_ls'].to_list()\n",
    "# model = Word2Vec(sentences, min_count=1, size=300)\n",
    "# vocab = model.wv.vocab.keys()\n",
    "# wordsInVocab = len(vocab)"
   ]
  },
  {
   "cell_type": "code",
   "execution_count": 49,
   "metadata": {},
   "outputs": [],
   "source": [
    "def sent_vectorizer(sent, word2vec):\n",
    "    sent_vec = np.zeros(100)\n",
    "    numw = 0\n",
    "    for w in sent:\n",
    "        try:\n",
    "            sent_vec = np.add(sent_vec, word2vec[w])\n",
    "            numw+=1\n",
    "        except:\n",
    "            pass\n",
    "    return sent_vec/(numw+1)"
   ]
  },
  {
   "cell_type": "code",
   "execution_count": 50,
   "metadata": {},
   "outputs": [
    {
     "name": "stderr",
     "output_type": "stream",
     "text": [
      "100%|██████████| 1833/1833 [00:00<00:00, 8629.74it/s]\n"
     ]
    }
   ],
   "source": [
    "ls_vec = []\n",
    "\n",
    "for i in tqdm(range(0,len(df_new))):\n",
    "    \n",
    "    sent = df_new['comments_ls'].iloc[i]\n",
    "    vec = sent_vectorizer(sent, word2vec)\n",
    "    \n",
    "    ls_vec.append(vec)\n",
    "              "
   ]
  },
  {
   "cell_type": "code",
   "execution_count": 51,
   "metadata": {},
   "outputs": [
    {
     "data": {
      "text/plain": [
       "(1833, 100)"
      ]
     },
     "execution_count": 51,
     "metadata": {},
     "output_type": "execute_result"
    }
   ],
   "source": [
    "ls_vec = np.array(ls_vec)\n",
    "ls_vec.shape"
   ]
  },
  {
   "cell_type": "code",
   "execution_count": null,
   "metadata": {},
   "outputs": [],
   "source": []
  },
  {
   "cell_type": "code",
   "execution_count": null,
   "metadata": {},
   "outputs": [],
   "source": []
  },
  {
   "cell_type": "code",
   "execution_count": null,
   "metadata": {},
   "outputs": [],
   "source": []
  },
  {
   "cell_type": "code",
   "execution_count": null,
   "metadata": {},
   "outputs": [],
   "source": []
  },
  {
   "cell_type": "code",
   "execution_count": null,
   "metadata": {},
   "outputs": [],
   "source": []
  },
  {
   "cell_type": "code",
   "execution_count": null,
   "metadata": {},
   "outputs": [],
   "source": []
  },
  {
   "cell_type": "code",
   "execution_count": null,
   "metadata": {},
   "outputs": [],
   "source": []
  },
  {
   "cell_type": "code",
   "execution_count": null,
   "metadata": {},
   "outputs": [],
   "source": []
  },
  {
   "cell_type": "code",
   "execution_count": null,
   "metadata": {},
   "outputs": [],
   "source": []
  },
  {
   "cell_type": "code",
   "execution_count": null,
   "metadata": {},
   "outputs": [],
   "source": []
  },
  {
   "cell_type": "code",
   "execution_count": 92,
   "metadata": {},
   "outputs": [],
   "source": [
    "from sklearn.feature_extraction.text import TfidfVectorizer"
   ]
  },
  {
   "cell_type": "code",
   "execution_count": 93,
   "metadata": {},
   "outputs": [],
   "source": [
    "corpus = df_new['comments'].to_list()"
   ]
  },
  {
   "cell_type": "code",
   "execution_count": 94,
   "metadata": {},
   "outputs": [],
   "source": [
    "vectorizer = TfidfVectorizer( ngram_range=(1, 3),stop_words='english',max_features = 1000)"
   ]
  },
  {
   "cell_type": "code",
   "execution_count": 95,
   "metadata": {},
   "outputs": [],
   "source": [
    "vectorizer = TfidfVectorizer()\n",
    "X = vectorizer.fit_transform(corpus)"
   ]
  },
  {
   "cell_type": "code",
   "execution_count": 96,
   "metadata": {},
   "outputs": [],
   "source": [
    "X1 = X.toarray()"
   ]
  },
  {
   "cell_type": "code",
   "execution_count": 97,
   "metadata": {},
   "outputs": [],
   "source": [
    "from sklearn.decomposition import PCA"
   ]
  },
  {
   "cell_type": "code",
   "execution_count": 101,
   "metadata": {},
   "outputs": [],
   "source": [
    "pca = PCA(n_components=300)"
   ]
  },
  {
   "cell_type": "code",
   "execution_count": 102,
   "metadata": {},
   "outputs": [],
   "source": [
    "X2 = pca.fit_transform(X1)  "
   ]
  },
  {
   "cell_type": "code",
   "execution_count": 103,
   "metadata": {},
   "outputs": [
    {
     "data": {
      "text/plain": [
       "0.8407408454682457"
      ]
     },
     "execution_count": 103,
     "metadata": {},
     "output_type": "execute_result"
    }
   ],
   "source": [
    "pca.explained_variance_ratio_.sum()"
   ]
  },
  {
   "cell_type": "code",
   "execution_count": 119,
   "metadata": {},
   "outputs": [],
   "source": [
    "#pd.DataFrame(X2).describe()"
   ]
  },
  {
   "cell_type": "code",
   "execution_count": null,
   "metadata": {},
   "outputs": [],
   "source": []
  },
  {
   "cell_type": "code",
   "execution_count": null,
   "metadata": {},
   "outputs": [],
   "source": []
  },
  {
   "cell_type": "code",
   "execution_count": null,
   "metadata": {},
   "outputs": [],
   "source": []
  },
  {
   "cell_type": "code",
   "execution_count": null,
   "metadata": {},
   "outputs": [],
   "source": []
  },
  {
   "cell_type": "code",
   "execution_count": 105,
   "metadata": {},
   "outputs": [],
   "source": [
    "from sklearn.cluster import KMeans"
   ]
  },
  {
   "cell_type": "code",
   "execution_count": 108,
   "metadata": {},
   "outputs": [],
   "source": [
    "kmeans = KMeans(n_clusters=5, random_state=10).fit(X2)"
   ]
  },
  {
   "cell_type": "code",
   "execution_count": 109,
   "metadata": {},
   "outputs": [],
   "source": [
    "df_new['clus_centre'] = kmeans.labels_"
   ]
  },
  {
   "cell_type": "code",
   "execution_count": 110,
   "metadata": {},
   "outputs": [
    {
     "data": {
      "text/plain": [
       "1    1050\n",
       "3     617\n",
       "2      73\n",
       "0      71\n",
       "4      60\n",
       "Name: clus_centre, dtype: int64"
      ]
     },
     "execution_count": 110,
     "metadata": {},
     "output_type": "execute_result"
    }
   ],
   "source": [
    "df_new['clus_centre'].value_counts()"
   ]
  },
  {
   "cell_type": "code",
   "execution_count": 114,
   "metadata": {},
   "outputs": [],
   "source": [
    "df_clust1 = df_new[df_new['clus_centre'] == 1]"
   ]
  },
  {
   "cell_type": "code",
   "execution_count": 115,
   "metadata": {},
   "outputs": [],
   "source": [
    "list_clust1 = []\n",
    "for i in range(0,len(df_clust1)) :\n",
    "    sent = df_clust1['comments'].iloc[i]\n",
    "    token = nltk.word_tokenize(sent)\n",
    "    bigrams = ngrams(token,2)\n",
    "    \n",
    "    list_clust1.extend(list(bigrams))"
   ]
  },
  {
   "cell_type": "code",
   "execution_count": 118,
   "metadata": {},
   "outputs": [
    {
     "data": {
      "image/png": "[encoded data removed]",
      "text/plain": [
       "<Figure size 1080x667.491 with 1 Axes>"
      ]
     },
     "metadata": {
      "needs_background": "light"
     },
     "output_type": "display_data"
    }
   ],
   "source": [
    "c = Counter(list_clust1) \n",
    "\n",
    "import operator\n",
    "sorted_x = sorted(c.items(), key=operator.itemgetter(1),reverse=True)\n",
    "bi_grams = pd.DataFrame(sorted_x)\n",
    "\n",
    "plt.figure(2, figsize=(15, 15/1.6180))\n",
    "sns.set_context(\"notebook\", font_scale=1, rc={\"lines.linewidth\": 2.5})\n",
    "sns.barplot(bi_grams.iloc[1:10,0],bi_grams.iloc[1:10,1],palette='husl')\n",
    "plt.xticks(rotation=90)\n",
    "plt.xlabel('bigrams')\n",
    "plt.ylabel('counts')\n",
    "plt.show()"
   ]
  },
  {
   "cell_type": "code",
   "execution_count": 87,
   "metadata": {},
   "outputs": [
    {
     "data": {
      "text/plain": [
       "dict_items([(('second', 'ht'), 2), (('ht', 'line'), 25), (('line', 'need'), 9), (('need', 'added'), 8), (('added', 'nonskid'), 2), (('nonskid', 'mat'), 2), (('appear', 'item'), 1), (('item', 'broken'), 3), (('broken', 'two'), 1), (('two', 'product'), 1), (('product', 'however'), 1), (('however', 'item'), 2), (('item', 'associated'), 1), (('associated', 'product'), 1), (('product', 'also'), 1), (('also', 'help'), 1), (('help', 'provide'), 1), (('provide', 'additional'), 1), (('additional', 'picture'), 2), (('picture', 'side'), 1), (('side', 'garment'), 1), (('supplier', 'need'), 2), (('need', 'create'), 4), (('create', 'template'), 1), (('remove', 'belden'), 2), (('belden', 'park'), 2), (('park', 'piece'), 2), (('piece', 'leisure'), 2), (('leisure', 'set'), 2), (('set', 'red'), 2), (('combine', 'extension'), 1), (('extension', 'bar'), 1), (('bar', 'ratcheting'), 1), (('ratcheting', 'screwdriver'), 1), (('screwdriver', 'component'), 1), (('component', 'since'), 1), (('since', 'appear'), 2), (('appear', 'already'), 1), (('already', 'inserted'), 1), (('inserted', 'time'), 1), (('time', 'shipment'), 1), (('short', 'skirt'), 4), (('skirt', 'skort'), 4), (('skort', 'must'), 4), (('must', 'entered'), 10), (('entered', 'separate'), 14), (('separate', 'duty'), 116), (('duty', 'line'), 190), (('line', 'knit'), 4), (('knit', 'woven'), 4), (('woven', 'must'), 4), (('mark', 'line'), 3), (('line', 'dutiable'), 5), (('dutiable', 'except'), 2), (('except', 'total'), 1), (('total', 'product'), 3), (('correct', 'name'), 4), (('name', 'product'), 4), (('product', 'description'), 9), (('description', 'common'), 2), (('common', 'name'), 7), (('name', 'etc'), 2), (('etc', 'correct'), 2), (('correct', 'include'), 2), (('include', 'skirt'), 4), (('skirt', 'product'), 2), (('product', 'include'), 4), (('skirt', 'different'), 2), (('different', 'tariff'), 5), (('tariff', 'number'), 12), (('number', 'short'), 2), (('second', 'request'), 3), (('request', 'basket'), 1), (('basket', 'different'), 3), (('different', 'size'), 12), (('size', 'material'), 1), (('material', 'breakdown'), 89), (('breakdown', 'need'), 3), (('need', 'two'), 63), (('two', 'different'), 4), (('different', 'component'), 12), (('component', 'different'), 7), (('different', 'weight'), 3), (('weight', 'reported'), 1), (('reroute', 'request'), 3), (('request', 'correct'), 2), (('correct', 'shipment'), 2), (('shipment', 'information'), 2), (('remove', 'hardware'), 2), (('hardware', 'leave'), 2), (('leave', 'board'), 2), (('board', 'marker'), 2), (('marker', 'magnet'), 2), (('bci', 'need'), 2), (('need', 'removed'), 6), (('removed', 'cad'), 2), (('different', 'set'), 3), (('set', 'must'), 2), (('must', 'different'), 4), (('different', 'upc'), 3), (('combine', 'coffee'), 1), (('coffee', 'filter'), 1), (('filter', 'strip'), 1), (('strip', 'paper'), 1), (('paper', 'strip'), 1), (('strip', 'one'), 1), (('one', 'line'), 7), (('break', 'removable'), 2), (('removable', 'toy'), 1), (('toy', 'tray'), 1), (('tray', 'walker'), 1), (('walker', 'separate'), 1), (('separate', 'component'), 50), (('component', 'line'), 12), (('breakout', 'plate'), 1), (('enter', 'style'), 4), (('style', 'separate'), 4), (('material', 'need'), 3), (('need', 'broken'), 20), (('broken', 'separately'), 2), (('packaging', 'picture'), 3), (('picture', 'match'), 1), (('match', 'product'), 1), (('description', 'picture'), 1), (('picture', 'provided'), 2), (('provided', 'correct'), 1), (('carrying', 'case'), 6), (('since', 'battery'), 3), (('battery', 'included'), 6), (('included', 'product'), 5), (('product', 'change'), 4), (('change', 'price'), 3), (('price', 'unit'), 3), (('unit', 'usdplease'), 3), (('usdplease', 'provide'), 3), (('provide', 'length'), 3), (('length', 'diameter'), 6), (('diameter', 'quartz'), 3), (('quartz', 'movement'), 3), (('movement', 'currently'), 3), (('currently', 'thickness'), 3), (('thickness', 'confirmed'), 3), (('confirmed', 'also'), 3), (('also', 'need'), 5), (('need', 'length'), 3), (('knife', 'case'), 2), (('case', 'attach'), 2), (('attach', 'picture'), 11), (('picture', 'case'), 2), (('case', 'fitted'), 4), (('fitted', 'combine'), 2), (('combine', 'product'), 2), (('product', 'one'), 3), (('line', 'unless'), 3), (('unless', 'sold'), 2), (('sold', 'separately'), 2), (('make', 'separate'), 1), (('size', 'provide'), 1), (('provide', 'weight'), 5), (('weight', 'even'), 1), (('even', 'though'), 1), (('though', 'tariff'), 1), (('number', 'weight'), 1), (('weight', 'different'), 8), (('different', 'must'), 1), (('must', 'reported'), 4), (('request', 'thank'), 2), (('thank', 'putting'), 3), (('putting', 'weight'), 3), (('weight', 'large'), 3), (('large', 'description'), 13), (('description', 'need'), 3), (('need', 'different'), 3), (('component', 'duty'), 7), (('duty', 'information'), 3), (('information', 'screen'), 3), (('screen', 'set'), 3), (('set', 'quote'), 4), (('quote', 'component'), 3), (('component', 'also'), 7), (('also', 'add'), 3), (('add', 'weight'), 3), (('different', 'sized'), 5), (('sized', 'jar'), 3), (('jar', 'screen'), 3), (('screen', 'also'), 3), (('enter', 'basket'), 1), (('basket', 'ball'), 1), (('ball', 'pump'), 1), (('pump', 'trampoline'), 1), (('trampoline', 'separate'), 1), (('confirm', 'intended'), 1), (('intended', 'age'), 1), (('age', 'range'), 2), (('range', 'box'), 1), (('box', 'state'), 1), (('state', 'product'), 1), (('product', 'recommended'), 1), (('recommended', 'child'), 1), (('child', 'year'), 1), (('year', 'age'), 1), (('age', 'large'), 1), (('description', 'say'), 1), (('say', 'age'), 1), (('age', 'put'), 1), (('put', 'correct'), 1), (('correct', 'age'), 1), (('range', 'packaging'), 1), (('packaging', 'specify'), 1), (('specify', 'material'), 1), (('material', 'stake'), 1), (('stake', 'made'), 1), (('made', 'aluminum'), 1), (('aluminum', 'provide'), 1), (('provide', 'alloy'), 1), (('alloy', 'number'), 1), (('number', 'country'), 1), (('country', 'originate'), 1), (('add', 'carry'), 1), (('carry', 'bag'), 4), (('bag', 'back'), 1), (('back', 'separate'), 1), (('duty', 'page'), 70), (('separate', 'marker'), 1), (('marker', 'sticker'), 2), (('sticker', 'separate'), 4), (('add', 'component'), 4), (('component', 'carry'), 1), (('bag', 'tent'), 1), (('tent', 'stake'), 1), (('add', 'duty'), 6), (('line', 'total'), 6), (('total', 'set'), 2), (('set', 'total'), 1), (('total', 'nfc'), 3), (('nfc', 'set'), 1), (('set', 'marked'), 2), (('marked', 'dutiable'), 4), (('dutiable', 'update'), 1), (('update', 'table'), 1), (('table', 'component'), 1), (('line', 'nfc'), 1), (('nfc', 'table'), 1), (('table', 'mark'), 1), (('mark', 'dutiable'), 2), (('bhg', 'ice'), 2), (('ice', 'bucket'), 5), (('bucket', 'liner'), 2), (('liner', 'fitted'), 2), (('fitted', 'sit'), 2), (('sit', 'inside'), 2), (('inside', 'ice'), 2), (('bucket', 'need'), 2), (('need', 'separate'), 32), (('component', 'remove'), 2), (('remove', 'plastic'), 2), (('plastic', 'bucket'), 2), (('bucket', 'component'), 2), (('component', 'adjust'), 2), (('adjust', 'material'), 2), (('breakdown', 'bucket'), 2), (('bucket', 'include'), 2), (('include', 'plastic'), 2), (('plastic', 'material'), 2), (('separate', 'three'), 1), (('three', 'variant'), 1), (('variant', 'three'), 1), (('three', 'different'), 4), (('different', 'product'), 20), (('product', 'line'), 1), (('upc', 'duplicated'), 2), (('duplicated', 'two'), 2), (('two', 'separate'), 4), (('separate', 'item'), 7), (('item', 'number'), 2), (('number', 'correct'), 3), (('size', 'need'), 11), (('broken', 'separate'), 11), (('separate', 'product'), 49), (('push', 'pencil'), 1), (('pencil', 'pdq'), 1), (('pdq', 'appear'), 1), (('appear', 'labeled'), 1), (('labeled', 'party'), 2), (('party', 'favor'), 7), (('favor', 'packaging'), 1), (('picture', 'confirm'), 1), (('confirm', 'whether'), 1), (('whether', 'packaging'), 1), (('packaging', 'labeled'), 1), (('correct', 'size'), 3), (('size', 'run'), 3), (('kit', 'sold'), 1), (('sold', 'retail'), 1), (('retail', 'packaging'), 1), (('packaging', 'separate'), 1), (('separate', 'retail'), 2), (('retail', 'unit'), 2), (('unit', 'separate'), 1), (('unit', 'need'), 1), (('need', 'created'), 3), (('created', 'separate'), 1), (('product', 'product'), 6), (('product', 'need'), 73), (('need', 'component'), 3), (('component', 'listed'), 5), (('listed', 'separate'), 1), (('page', 'material'), 1), (('breakdown', 'weight'), 2), (('weight', 'quantity'), 1), (('quantity', 'value'), 1), (('recipe', 'card'), 6), (('card', 'enter'), 1), (('enter', 'printed'), 1), (('printed', 'recipe'), 1), (('card', 'separate'), 1), (('page', 'blank'), 1), (('blank', 'recipe'), 1), (('mark', 'entire'), 2), (('entire', 'set'), 3), (('set', 'duty'), 4), (('page', 'dutiable'), 2), (('dutiable', 'set'), 2), (('set', 'component'), 4), (('returned', 'separate'), 1), (('item', 'different'), 1), (('enter', 'heating'), 1), (('heating', 'pad'), 1), (('pad', 'separate'), 2), (('page', 'including'), 1), (('including', 'material'), 1), (('breakdown', 'value'), 17), (('value', 'weight'), 4), (('weight', 'etc'), 1), (('correct', 'material'), 12), (('breakdown', 'product'), 5), (('product', 'material'), 10), (('breakdown', 'different'), 11), (('different', 'different'), 6), (('different', 'shirt'), 5), (('shirt', 'shirt'), 5), (('shirt', 'different'), 5), (('breakdown', 'particular'), 5), (('particular', 'shirt'), 5), (('shirt', 'reference'), 5), (('reference', 'different'), 5), (('different', 'material'), 17), (('breakdown', 'material'), 6), (('material', 'section'), 5), (('section', 'percent'), 5), (('percent', 'cotton'), 5), (('cotton', 'percent'), 5), (('percent', 'allowed'), 5), (('separate', 'stamp'), 1), (('stamp', 'ink'), 1), (('ink', 'pad'), 1), (('pad', 'create'), 1), (('create', 'two'), 2), (('two', 'component'), 7), (('name', 'contain'), 2), (('contain', 'material'), 2), (('need', 'revised'), 2), (('revised', 'state'), 2), (('state', 'name'), 2), (('name', 'piece'), 2), (('piece', 'set'), 6), (('cancel', 'quote'), 1), (('quote', 'since'), 1), (('since', 'quote'), 1), (('quote', 'created'), 1), (('created', 'replace'), 1), (('replace', 'see'), 1), (('see', 'email'), 1), (('email', 'attachment'), 1), (('hardware', 'need'), 1), (('need', 'listed'), 1), (('listed', 'separately'), 3), (('separately', 'unless'), 1), (('unless', 'include'), 1), (('include', 'nail'), 1), (('nail', 'remove'), 1), (('remove', 'adjust'), 1), (('adjust', 'component'), 1), (('component', 'value'), 1), (('value', 'equal'), 1), (('equal', 'total'), 1), (('total', 'cost'), 1), (('break', 'tip'), 1), (('tip', 'separate'), 1), (('component', 'packaging'), 1), (('packaging', 'provided'), 1), (('provided', 'incorrect'), 1), (('incorrect', 'upload'), 1), (('upload', 'correct'), 1), (('correct', 'packaging'), 2), (('packaging', 'show'), 1), (('show', 'side'), 1), (('side', 'mockup'), 1), (('mockup', 'acceptable'), 1), (('infant', 'size'), 18), (('size', 'can'), 8), (('can', 'not'), 21), (('not', 'product'), 10), (('product', 'toddler'), 12), (('toddler', 'size'), 44), (('size', 'separate'), 20), (('create', 'new'), 7), (('new', 'template'), 4), (('template', 'new'), 1), (('new', 'art'), 1), (('art', 'kit'), 1), (('kit', 'coloring'), 1), (('coloring', 'page'), 1), (('separate', 'binder'), 2), (('binder', 'lined'), 1), (('lined', 'paper'), 1), (('paper', 'blank'), 1), (('blank', 'paper'), 1), (('paper', 'punch'), 1), (('punch', 'out'), 1), (('out', 'separate'), 1), (('piece', 'accessory'), 1), (('accessory', 'kit'), 1), (('kit', 'require'), 1), (('require', 'separate'), 12), (('separate', 'ht'), 9), (('ht', 'number'), 1), (('number', 'material'), 1), (('material', 'line'), 24), (('added', 'accessory'), 1), (('accessory', 'duty'), 1), (('page', 'compressor'), 1), (('compressor', 'duty'), 1), (('duty', 'driver'), 13), (('separate', 'microphone'), 1), (('microphone', 'separate'), 1), (('unless', 'permanently'), 1), (('permanently', 'attached'), 2), (('attached', 'unit'), 1), (('unit', 'duty'), 1), (('driver', 'karaoke'), 1), (('karaoke', 'machine'), 1), (('supplier', 'can'), 1), (('not', 'boundary'), 1), (('boundary', 'brand'), 1), (('brand', 'label'), 1), (('label', 'since'), 1), (('since', 'affiliated'), 1), (('affiliated', 'umbrella'), 1), (('umbrella', 'according'), 1), (('according', 'response'), 1), (('response', 'really'), 1), (('really', 'would'), 1), (('would', 'best'), 1), (('best', 'could'), 1), (('could', 'two'), 1), (('product', 'unique'), 1), (('unique', 'vsn'), 1), (('vsn', 'upc'), 1), (('upc', 'bhg'), 2), (('bhg', 'mainstay'), 1), (('mainstay', 'umbrella'), 1), (('umbrella', 'look'), 1), (('look', 'vary'), 1), (('vary', 'size'), 1), (('size', 'confirm'), 1), (('confirm', 'umbrella'), 1), (('umbrella', 'material'), 1), (('component', 'set'), 1), (('set', 'need'), 12), (('broken', 'classified'), 1), (('classified', 'separately'), 4), (('separately', 'accurate'), 2), (('accurate', 'material'), 7), (('value', 'book'), 2), (('book', 'usb'), 2), (('usb', 'cable'), 6), (('cable', 'toy'), 2), (('component', 'mold'), 3), (('mold', 'glitter'), 3), (('glitter', 'wood'), 3), (('wood', 'stick'), 3), (('stick', 'sticker'), 3), (('sticker', 'sheet'), 3), (('sheet', 'recipe'), 3), (('infant', 'toddler'), 38), (('repair', 'patch'), 21), (('patch', 'broken'), 11), (('picture', 'show'), 4), (('show', 'dry'), 1), (('dry', 'erase'), 1), (('erase', 'marker'), 1), (('marker', 'breakout'), 1), (('breakout', 'item'), 2), (('item', 'marker'), 1), (('marker', 'line'), 1), (('line', 'clip'), 1), (('clip', 'board'), 1), (('board', 'one'), 1), (('separate', 'infant'), 12), (('item', 'contain'), 8), (('contain', 'lithium'), 5), (('lithium', 'ion'), 5), (('ion', 'battery'), 5), (('battery', 'however'), 4), (('however', 'question'), 4), (('question', 'marked'), 4), (('marked', 'packaging'), 4), (('packaging', 'needed'), 4), (('needed', 'review'), 5), (('review', 'picture'), 4), (('picture', 'blank'), 4), (('blank', 'box'), 4), (('box', 'acceptable'), 4), (('acceptable', 'break'), 4), (('break', 'carrying'), 4), (('case', 'separate'), 4), (('line', 'picture'), 4), (('picture', 'battery'), 4), (('battery', 'trademark'), 4), (('trademark', 'letter'), 7), (('letter', 'needed'), 4), (('needed', 'item'), 5), (('contain', 'usb'), 4), (('cable', 'charging'), 4), (('charging', 'purpose'), 4), (('purpose', 'picture'), 4), (('picture', 'cable'), 4), (('cable', 'needed'), 4), (('needed', 'well'), 4), (('well', 'separate'), 4), (('outlined', 'best'), 1), (('best', 'practice'), 1), (('practice', 'trademark'), 1), (('letter', 'need'), 1), (('need', 'translated'), 1), (('translated', 'english'), 1), (('english', 'letter'), 1), (('letter', 'provided'), 1), (('provided', 'chinese'), 1), (('chinese', 'carrying'), 1), (('case', 'still'), 1), (('still', 'need'), 1), (('add', 'new'), 2), (('new', 'product'), 9), (('product', 'vsn'), 6), (('vsn', 'size'), 2), (('appear', 'new'), 2), (('product', 'added'), 2), (('added', 'incorrect'), 2), (('incorrect', 'product'), 2), (('product', 'duplicate'), 2), (('duplicate', 'upc'), 7), (('upc', 'vsn'), 2), (('vsn', 'appear'), 2), (('appear', 'product'), 2), (('vsn', 'product'), 2), (('vsn', 'advise'), 2), (('advise', 'help'), 2), (('help', 'make'), 2), (('make', 'correction'), 6), (('correction', 'necessary'), 4), (('item', 'appear'), 3), (('appear', 'come'), 3), (('come', 'usb'), 2), (('usb', 'cord'), 4), (('cord', 'separate'), 4), (('separate', 'separate'), 2), (('add', 'ht'), 2), (('line', 'duty'), 12), (('page', 'boat'), 2), (('boat', 'oar'), 2), (('oar', 'pump'), 2), (('pump', 'refer'), 2), (('refer', 'qid'), 2), (('qid', 'example'), 2), (('example', 'quote'), 2), (('quote', 'set'), 3), (('page', 'poly'), 1), (('poly', 'wheeled'), 1), (('wheeled', 'carry'), 1), (('bag', 'detail'), 1), (('detail', 'outer'), 1), (('outer', 'surface'), 2), (('surface', 'made'), 1), (('made', 'type'), 1), (('type', 'fabric'), 1), (('fabric', 'outer'), 1), (('outer', 'sheeting'), 1), (('sheeting', 'plastic'), 1), (('remove', 'molded'), 1), (('molded', 'case'), 1), (('case', 'duty'), 2), (('enter', 'removable'), 2), (('removable', 'tote'), 1), (('tote', 'separate'), 1), (('fabric', 'cover'), 1), (('cover', 'added'), 1), (('added', 'established'), 1), (('established', 'product'), 1), (('product', 'verify'), 1), (('add', 'item'), 1), (('item', 'rendered'), 1), (('rendered', 'non'), 1), (('non', 'functional'), 1), (('break', 'replacement'), 1), (('replacement', 'folding'), 1), (('folding', 'knife'), 1), (('knife', 'replacement'), 1), (('replacement', 'fixed'), 1), (('fixed', 'blade'), 1), (('blade', 'knife'), 1), (('knife', 'classified'), 1), (('classified', 'different'), 3), (('instruct', 'supplier'), 2), (('supplier', 'separate'), 1), (('separate', 'caddy'), 1), (('caddy', 'brush'), 1), (('brush', 'separate'), 1), (('line', 'carseat'), 1), (('verify', 'product'), 3), (('include', 'cycle'), 1), (('cycle', 'engine'), 1), (('engine', 'lubricant'), 1), (('lubricant', 'listed'), 1), (('listed', 'packaging'), 1), (('packaging', 'must'), 1), (('page', 'separate'), 2), (('separate', 'value'), 1), (('weight', 'material'), 1), (('breakout', 'bag'), 4), (('bag', 'tag'), 3), (('tag', 'separate'), 5), (('black', 'create'), 1), (('create', 'second'), 1), (('second', 'product'), 2), (('product', 'chalk'), 1), (('chalk', 'set'), 1), (('set', 'include'), 4), (('include', 'like'), 1), (('like', 'item'), 9), (('item', 'spreadsheet'), 2), (('spreadsheet', 'product'), 1), (('product', 'assortment'), 1), (('separate', 'line'), 11), (('upc', 'can'), 1), (('not', 'used'), 1), (('used', 'already'), 1), (('already', 'associated'), 1), (('associated', 'another'), 1), (('another', 'product'), 2), (('product', 'reference'), 1), (('reference', 'template'), 1), (('template', 'qid'), 1), (('qid', 'hiland'), 1), (('hiland', 'square'), 1), (('square', 'propane'), 1), (('propane', 'fire'), 1), (('fire', 'pit'), 1), (('pit', 'resubmit'), 1), (('resubmit', 'quote'), 1), (('quote', 'correct'), 1), (('correct', 'upc'), 1), (('clarify', 'battery'), 1), (('battery', 'need'), 3), (('need', 'operate'), 1), (('operate', 'product'), 1), (('product', 'extra'), 1), (('component', 'ring'), 1), (('ring', 'charm'), 1), (('charm', 'included'), 1), (('included', 'surprise'), 1), (('surprise', 'also'), 1), (('also', 'included'), 1), (('included', 'assortment'), 1), (('assortment', 'spreadsheet'), 12), (('spreadsheet', 'also'), 1), (('also', 'assortment'), 1), (('spreadsheet', 'qty'), 1), (('qty', 'lip'), 1), (('lip', 'gloss'), 2), (('gloss', 'included'), 1), (('product', 'per'), 1), (('per', 'photo'), 1), (('make', 'sure'), 5), (('sure', 'different'), 2), (('product', 'upc'), 2), (('upc', 'product'), 4), (('product', 'name'), 18), (('description', 'item'), 2), (('item', 'description'), 3), (('description', 'pack'), 2), (('pack', 'description'), 2), (('separate', 'cling'), 1), (('cling', 'separate'), 1), (('line', 'component'), 2), (('line', 'applicable'), 1), (('applicable', 'material'), 1), (('breakdown', 'cost'), 2), (('cost', 'value'), 1), (('formatted', 'correctly'), 3), (('correctly', 'sandpaper'), 3), (('sandpaper', 'added'), 3), (('description', 'packaging'), 2), (('packaging', 'state'), 2), (('state', 'sander'), 3), (('sander', 'come'), 3), (('come', 'piece'), 3), (('piece', 'sanding'), 6), (('sanding', 'paper'), 6), (('paper', 'additional'), 3), (('additional', 'material'), 3), (('added', 'duty'), 4), (('page', 'extra'), 3), (('extra', 'piece'), 3), (('paper', 'require'), 3), (('require', 'classified'), 3), (('classified', 'sander'), 3), (('sander', 'still'), 3), (('still', 'duty'), 5), (('quote', 'returned'), 2), (('returned', 'formatted'), 1), (('description', 'state'), 2), (('line', 'pool'), 4), (('pool', 'two'), 2), (('two', 'duty'), 64), (('pool', 'repair'), 2), (('patch', 'repair'), 2), (('patch', 'marked'), 2), (('jeans', 'blue'), 2), (('blue', 'denim'), 2), (('denim', 'jeans'), 2), (('jeans', 'black'), 2), (('black', 'denim'), 2), (('denim', 'can'), 2), (('product', 'different'), 3), (('number', 'create'), 4), (('product', 'separate'), 3), (('separate', 'color'), 2), (('enter', 'nail'), 1), (('nail', 'sticker'), 4), (('page', 'enter'), 1), (('enter', 'sticker'), 2), (('separate', 'planter'), 1), (('planter', 'stand'), 2), (('stand', 'separate'), 1), (('line', 'planter'), 1), (('stand', 'made'), 1), (('made', 'material'), 1), (('inaccurate', 'product'), 2), (('product', 'format'), 4), (('format', 'breakout'), 1), (('item', 'separ'), 1), (('separ', 'ate'), 1), (('ate', 'duty'), 1), (('line', 'marker'), 2), (('marker', 'pen'), 1), (('pen', 'sticker'), 1), (('sticker', 'tsca'), 1), (('tsca', 'reported'), 1), (('reported', 'provide'), 1), (('provide', 'picture'), 13), (('picture', 'journal'), 1), (('journal', 'open'), 1), (('open', 'well'), 1), (('well', 'drawe'), 1), (('complete', 'attached'), 3), (('attached', 'spreadsheet'), 1), (('spreadsheet', 'material'), 1), (('material', 'value'), 1), (('value', 'quantity'), 1), (('break', 'ornament'), 1), (('ornament', 'marker'), 1), (('marker', 'duty'), 2), (('broken', 'duty'), 1), (('line', 'one'), 1), (('one', 'factory'), 1), (('factory', 'one'), 1), (('one', 'crayon'), 1), (('crayon', 'crayon'), 1), (('crayon', 'need'), 1), (('need', 'detailed'), 1), (('detailed', 'material'), 1), (('component', 'noted'), 1), (('noted', 'email'), 1), (('correct', 'per'), 1), (('per', 'email'), 2), (('except', 'complete'), 1), (('complete', 'set'), 1), (('set', 'line'), 1), (('create', 'separate'), 13), (('line', 'nail'), 1), (('nail', 'glitter'), 1), (('tool', 'set'), 2), (('set', 'multiple'), 1), (('multiple', 'component'), 1), (('component', 'component'), 1), (('component', 'require'), 1), (('require', 'material'), 1), (('page', 'classified'), 1), (('separately', 'make'), 1), (('sure', 'correct'), 2), (('correct', 'quantity'), 1), (('quantity', 'entered'), 1), (('entered', 'material'), 1), (('line', 'case'), 1), (('case', 'require'), 1), (('require', 'line'), 1), (('line', 'fitted'), 1), (('fitted', 'tool'), 2), (('removable', 'compass'), 1), (('compass', 'separate'), 1), (('line', 'include'), 1), (('include', 'material'), 2), (('weight', 'value'), 1), (('value', 'sure'), 1), (('sure', 'new'), 1), (('new', 'value'), 1), (('value', 'total'), 5), (('template', 'quote'), 2), (('quote', 'shipping'), 2), (('shipping', 'entry'), 3), (('entry', 'date'), 8), (('date', 'correct'), 3), (('update', 'assortment'), 1), (('spreadsheet', 'include'), 1), (('include', 'castle'), 1), (('castle', 'decal'), 2), (('decal', 'component'), 1), (('combine', 'component'), 1), (('line', 'break'), 2), (('break', 'eva'), 1), (('eva', 'decal'), 1), (('decal', 'xylophone'), 1), (('xylophone', 'stick'), 1), (('stick', 'bin'), 1), (('bin', 'flute'), 1), (('flute', 'separate'), 1), (('line', 'castle'), 1), (('decal', 'eva'), 1), (('eva', 'include'), 1), (('include', 'decal'), 1), (('decal', 'otherwise'), 1), (('otherwise', 'separate'), 1), (('verify', 'cot'), 2), (('cot', 'tent'), 2), (('tent', 'used'), 3), (('used', 'separately'), 3), (('separately', 'cot'), 1), (('cot', 'needed'), 1), (('needed', 'tent'), 1), (('separately', 'breakout'), 2), (('breakout', 'separate'), 3), (('picture', 'item'), 4), (('item', 'box'), 2), (('box', 'attach'), 2), (('picture', 'make'), 2), (('make', 'lettering'), 2), (('lettering', 'box'), 2), (('box', 'legible'), 2), (('legible', 'break'), 2), (('break', 'rope'), 2), (('rope', 'onto'), 2), (('onto', 'dutiable'), 3), (('dutiable', 'line'), 3), (('line', 'since'), 4), (('since', 'separate'), 2), (('separate', 'harness'), 2), (('add', 'material'), 1), (('target', 'holder'), 1), (('enter', 'item'), 2), (('item', 'set'), 2), (('set', 'separate'), 2), (('separate', 'goggle'), 2), (('goggle', 'car'), 1), (('instruction', 'booklet'), 1), (('booklet', 'need'), 1), (('broken', 'removed'), 1), (('removed', 'also'), 1), (('also', 'advise'), 1), (('advise', 'tray'), 1), (('tray', 'picture'), 1), (('picture', 'component'), 2), (('component', 'tray'), 1), (('tray', 'tray'), 1), (('tray', 'packaging'), 1), (('packaging', 'also'), 1), (('also', 'remove'), 1), (('remove', 'packaging'), 1), (('packaging', 'provide'), 1), (('reel', 'rod'), 1), (('rod', 'shipped'), 1), (('shipped', 'already'), 2), (('already', 'attached'), 2), (('attached', 'reel'), 1), (('reel', 'assembled'), 1), (('assembled', 'rod'), 1), (('rod', 'customer'), 1), (('customer', 'shipped'), 1), (('attached', 'need'), 1), (('line', 'material'), 4), (('material', 'page'), 1), (('page', 'submit'), 1), (('submit', 'one'), 1), (('one', 'duty'), 2), (('total', 'material'), 2), (('breakdown', 'piece'), 1), (('advised', 'quote'), 6), (('quote', 'rerouted'), 9), (('rerouted', 'large'), 1), (('need', 'refer'), 1), (('refer', 'earlier'), 1), (('earlier', 'version'), 1), (('version', 'component'), 1), (('component', 'change'), 1), (('change', 'new'), 1), (('template', 'created'), 1), (('need', 'duty'), 4), (('line', 'type'), 1), (('type', 'sticker'), 2), (('sticker', 'different'), 1), (('different', 'classification'), 1), (('classification', 'need'), 1), (('need', 'view'), 1), (('view', 'sample'), 1), (('sample', 'need'), 1), (('need', 'trademark'), 1), (('trademark', 'release'), 1), (('release', 'letter'), 1), (('letter', 'alex'), 2), (('alex', 'owned'), 1), (('owned', 'alex'), 1), (('alex', 'toy'), 1), (('toy', 'panline'), 1), (('panline', 'usa'), 1), (('usa', 'put'), 1), (('put', 'quantity'), 1), (('quantity', 'type'), 1), (('sticker', 'duty'), 1), (('attach', 'clear'), 2), (('clear', 'picture'), 5), (('component', 'spare'), 1), (('spare', 'part'), 1), (('part', 'included'), 1), (('product', 'enter'), 1), (('enter', 'component'), 2), (('component', 'separate'), 3), (('page', 'complete'), 2), (('complete', 'material'), 1), (('bag', 'different'), 3), (('weight', 'must'), 7), (('product', 'set'), 2), (('set', 'bag'), 1), (('sized', 'bag'), 2), (('bag', 'set'), 2), (('must', 'separate'), 6), (('bag', 'weight'), 1), (('weight', 'bag'), 1), (('bag', 'must'), 3), (('quote', 'bag'), 1), (('size', 'weight'), 3), (('reported', 'kilogram'), 2), (('kilogram', 'set'), 1), (('set', 'different'), 4), (('size', 'must'), 1), (('size', 'reformat'), 1), (('separate', 'paperclip'), 1), (('paperclip', 'dog'), 1), (('dog', 'jaw'), 1), (('jaw', 'clip'), 1), (('bag', 'ice'), 1), (('ice', 'pack'), 1), (('pack', 'separate'), 1), (('pan', 'rake'), 1), (('rake', 'require'), 1), (('separate', 'material'), 9), (('provide', 'spec'), 1), (('spec', 'dimension'), 1), (('dimension', 'staple'), 1), (('staple', 'leg'), 1), (('leg', 'length'), 1), (('length', 'crown'), 1), (('crown', 'width'), 1), (('width', 'size'), 1), (('size', 'wire'), 1), (('wire', 'used'), 1), (('used', 'production'), 1), (('production', 'staple'), 1), (('break', 'component'), 2), (('component', 'accurate'), 3), (('cost', 'adhesive'), 1), (('adhesive', 'backed'), 1), (('backed', 'roll'), 1), (('roll', 'stencil'), 1), (('stencil', 'fold'), 1), (('fold', 'background'), 1), (('background', 'googly'), 1), (('googly', 'eye'), 1), (('eye', 'geometric'), 1), (('geometric', 'block'), 1), (('block', 'sheet'), 1), (('sheet', 'note'), 1), (('note', 'pad'), 2), (('pad', 'marker'), 1), (('appear', 'quote'), 1), (('quote', 'copied'), 1), (('copied', 'legging'), 1), (('legging', 'quote'), 1), (('quote', 'information'), 1), (('information', 'transferred'), 1), (('transferred', 'advise'), 1), (('advise', 'qid'), 1), (('qid', 'supposed'), 1), (('supposed', 'legging'), 1), (('legging', 'bra'), 1), (('bra', 'product'), 1), (('description', 'showing'), 2), (('showing', 'avium'), 1), (('avium', 'side'), 1), (('side', 'tape'), 1), (('tape', 'jogger'), 1), (('jogger', 'common'), 1), (('name', 'coloured'), 1), (('coloured', 'legging'), 1), (('legging', 'however'), 1), (('however', 'product'), 1), (('showing', 'coloured'), 1), (('coloured', 'bra'), 1), (('bra', 'advise'), 1), (('advise', 'make'), 1), (('correction', 'needed'), 1), (('marker', 'need'), 2), (('separate', 'magnetic'), 1), (('magnetic', 'letter'), 1), (('letter', 'line'), 1), (('add', 'harness'), 2), (('harness', 'component'), 2), (('component', 'attach'), 2), (('picture', 'harness'), 2), (('picture', 'storage'), 2), (('storage', 'container'), 2), (('container', 'carry'), 2), (('carry', 'container'), 2), (('container', 'set'), 2), (('size', 'shape'), 2), (('shape', 'need'), 2), (('component', 'provide'), 4), (('weight', 'kilogram'), 4), (('kilogram', 'different'), 2), (('also', 'separate'), 2), (('component', 'handled'), 2), (('handled', 'carry'), 2), (('carry', 'case'), 2), (('case', 'note'), 2), (('note', 'lid'), 2), (('lid', 'separate'), 2), (('component', 'fitted'), 2), (('fitted', 'top'), 2), (('top', 'container'), 2), (('container', 'considered'), 2), (('considered', 'part'), 2), (('part', 'whole'), 2), (('whole', 'container'), 2), (('umbrella', 'base'), 3), (('base', 'repack'), 3), (('repack', 'box'), 3), (('box', 'need'), 4), (('stationary', 'egg'), 1), (('egg', 'chair'), 1), (('chair', 'box'), 1), (('create', 'ht'), 3), (('line', 'piece'), 2), (('set', 'mark'), 1), (('dutiable', 'ht'), 1), (('total', 'ht'), 1), (('line', 'provide'), 3), (('provide', 'accurate'), 61), (('accurate', 'weight'), 61), (('weight', 'piece'), 3), (('piece', 'required'), 1), (('required', 'custom'), 1), (('custom', 'stainless'), 1), (('stainless', 'steel'), 1), (('steel', 'cookware'), 1), (('correct', 'sticker'), 1), (('sticker', 'variant'), 1), (('variant', 'need'), 1), (('need', 'divided'), 1), (('divided', 'separate'), 1), (('page', 'one'), 3), (('one', 'primarily'), 2), (('primarily', 'number'), 1), (('number', 'word'), 1), (('word', 'together'), 1), (('together', 'one'), 1), (('primarily', 'word'), 1), (('word', 'another'), 1), (('another', 'together'), 1), (('together', 'provided'), 1), (('provided', 'material'), 1), (('enter', 'different'), 3), (('different', 'type'), 4), (('type', 'item'), 3), (('item', 'separate'), 4), (('page', 'binder'), 1), (('binder', 'clip'), 1), (('clip', 'paper'), 1), (('paper', 'clip'), 1), (('clip', 'slide'), 1), (('slide', 'page'), 2), (('page', 'holder'), 3), (('holder', 'slide'), 1), (('holder', 'stick'), 1), (('stick', 'page'), 1), (('attach', 'battery'), 1), (('battery', 'one'), 1), (('one', 'product'), 4), (('incorrect', 'duty'), 2), (('duty', 'type'), 1), (('type', 'product'), 1), (('product', 'remove'), 1), (('remove', 'countervailing'), 1), (('countervailing', 'replace'), 1), (('replace', 'regular'), 1), (('complete', 'like'), 6), (('item', 'assortment'), 8), (('spreadsheet', 'add'), 2), (('add', 'attachment'), 2), (('supplier', 'creating'), 1), (('creating', 'new'), 1), (('change', 'desire'), 1), (('toddler', 'infant'), 10), (('add', 'lip'), 1), (('gloss', 'component'), 1), (('component', 'assortment'), 1), (('rake', 'shovel'), 1), (('shovel', 'can'), 1), (('not', 'classified'), 1), (('classified', 'together'), 1), (('together', 'create'), 1), (('note', 'duplicate'), 2), (('upc', 'quote'), 2), (('quote', 'advise'), 2), (('advise', 'correct'), 4), (('correct', 'make'), 2), (('toddler', 'product'), 2), (('set', 'shaker'), 1), (('shaker', 'ice'), 1), (('bucket', 'opener'), 1), (('opener', 'etc'), 1), (('etc', 'stand'), 1), (('stand', 'require'), 3), (('require', 'ht'), 1), (('line', 'specifically'), 1), (('specifically', 'fitted'), 2), (('tool', 'supplier'), 1), (('supplier', 'attached'), 1), (('attached', 'gsp'), 1), (('gsp', 'doc'), 1), (('doc', 'gp'), 1), (('gp', 'longer'), 1), (('longer', 'apply'), 1), (('apply', 'product'), 1), (('product', 'imported'), 1), (('imported', 'indium'), 1), (('transmitted', 'extra'), 1), (('extra', 'component'), 1), (('infant', 'separate'), 4), (('clarify', 'item'), 2), (('item', 'listed'), 2), (('listed', 'email'), 2), (('email', 'think'), 2), (('think', 'need'), 2), (('need', 'entered'), 4), (('enter', 'adaptor'), 2), (('adaptor', 'separate'), 2), (('enter', 'socket'), 1), (('socket', 'adapter'), 3), (('adapter', 'extension'), 1), (('extension', 'separate'), 1), (('page', 'emailed'), 1), (('emailed', 'picture'), 1), (('item', 'highlighted'), 1), (('highlighted', 'need'), 1), (('need', 'clearly'), 1), (('clearly', 'identified'), 1), (('identified', 'appear'), 1), (('appear', 'listed'), 1), (('listed', 'component'), 3), (('separate', 'ball'), 1), (('ball', 'rope'), 1), (('hat', 'infant'), 4), (('toddler', 'girl'), 4), (('girl', 'size'), 4), (('size', 'toddler'), 4), (('toddler', 'thru'), 4), (('thru', 'size'), 4), (('size', 'infant'), 4), (('infant', 'thru'), 4), (('thru', 'month'), 4), (('month', 'infant'), 4), (('size', 'style'), 4), (('style', 'different'), 4), (('size', 'product'), 4), (('product', 'infant'), 4), (('broken', 'different'), 1), (('different', 'duty'), 2), (('separate', 'memo'), 1), (('memo', 'pad'), 1), (('pad', 'ruler'), 1), (('ruler', 'component'), 1), (('correct', 'branding'), 7), (('branding', 'nature'), 7), (('nature', 'symphony'), 7), (('symphony', 'applicable'), 7), (('product', 'previously'), 2), (('previously', 'male'), 2), (('male', 'female'), 3), (('female', 'adaptor'), 2), (('adaptor', 'show'), 2), (('show', 'male'), 2), (('male', 'adaptor'), 2), (('adaptor', 'confirm'), 2), (('confirm', 'correct'), 2), (('correct', 'update'), 2), (('update', 'needed'), 2), (('needed', 'apology'), 2), (('apology', 'missing'), 2), (('correct', 'ship'), 2), (('ship', 'date'), 64), (('listed', 'wooden'), 1), (('wooden', 'table'), 1), (('table', 'wooden'), 1), (('wooden', 'train'), 1), (('train', 'set'), 1), (('set', 'add'), 2), (('clarify', 'heavy'), 2), (('heavy', 'duty'), 2), (('duty', 'battery'), 2), (('battery', 'duty'), 2), (('page', 'referring'), 2), (('referring', 'battery'), 2), (('battery', 'used'), 2), (('used', 'power'), 2), (('power', 'flashlight'), 2), (('flashlight', 'need'), 2), (('need', 'ht'), 3), (('line', 'battery'), 3), (('battery', 'battery'), 2), (('included', 'keep'), 2), (('keep', 'duty'), 2), (('line', 'let'), 2), (('let', 'know'), 2), (('know', 'resubmitting'), 2), (('resubmitting', 'ht'), 2), (('line', 'snow'), 2), (('snow', 'brush'), 2), (('brush', 'ice'), 2), (('ice', 'scraper'), 2), (('scraper', 'add'), 2), (('add', 'line'), 4), (('format', 'currently'), 1), (('currently', 'duty'), 1), (('line', 'bandage'), 1), (('bandage', 'however'), 1), (('come', 'bandage'), 1), (('bandage', 'bandage'), 1), (('bandage', 'remove'), 1), (('remove', 'duty'), 2), (('duty', 'ine'), 1), (('ine', 'add'), 1), (('line', 'name'), 1), (('name', 'badge'), 1), (('badge', 'add'), 1), (('line', 'shirt'), 1), (('combine', 'duty'), 1), (('line', 'due'), 1), (('due', 'update'), 1), (('update', 'jacket'), 1), (('item', 'duty'), 1), (('one', 'jewelry'), 1), (('jewelry', 'box'), 1), (('box', 'one'), 1), (('one', 'ring'), 1), (('break', 'item'), 2), (('item', 'individual'), 1), (('individual', 'duty'), 3), (('item', 'included'), 1), (('included', 'individually'), 1), (('individually', 'provide'), 1), (('provide', 'information'), 1), (('information', 'paper'), 1), (('paper', 'paper'), 1), (('paper', 'uncoated'), 2), (('uncoated', 'coated'), 2), (('coated', 'paper'), 2), (('paper', 'olined'), 2), (('olined', 'ruled'), 2), (('ruled', 'thickness'), 1), (('thickness', 'millimeter'), 1), (('millimeter', 'paper'), 2), (('paper', 'country'), 2), (('country', 'origin'), 2), (('origin', 'paper'), 2), (('paper', 'different'), 2), (('component', 'opaper'), 1), (('opaper', 'weight'), 1), (('weight', 'gram'), 2), (('gram', 'per'), 2), (('per', 'square'), 2), (('square', 'meter'), 2), (('meter', 'paper'), 1), (('paper', 'brightness'), 1), (('brightness', 'level'), 1), (('level', 'expressed'), 1), (('expressed', 'scale'), 1), (('scale', 'odo'), 1), (('odo', 'page'), 1), (('page', 'print'), 1), (('upc', 'second'), 1), (('product', 'cabinet'), 1), (('cabinet', 'htr'), 1), (('htr', 'utility'), 1), (('utility', 'heater'), 1), (('reviewed', 'packaging'), 1), (('packaging', 'since'), 1), (('appear', 'extra'), 1), (('extra', 'battery'), 2), (('need', 'classify'), 2), (('classify', 'battery'), 2), (('battery', 'resubmit'), 1), (('resubmit', 'line'), 1), (('line', 'drill'), 1), (('drill', 'impact'), 2), (('impact', 'driver'), 2), (('driver', 'bag'), 1), (('rerouted', 'battery'), 1), (('battery', 'intended'), 1), (('intended', 'power'), 1), (('power', 'drill'), 1), (('driver', 'verify'), 1), (('verify', 'many'), 1), (('many', 'battery'), 1), (('included', 'set'), 4), (('set', 'extra'), 1), (('component', 'ryan'), 1), (('ryan', 'world'), 1), (('world', 'charm'), 1), (('charm', 'different'), 1), (('different', 'ring'), 1), (('ring', 'bath'), 1), (('bath', 'bomb'), 1), (('bomb', 'attach'), 1), (('attach', 'assortment'), 1), (('spreadsheet', 'different'), 1), (('supplier', 'create'), 2), (('line', 'sync'), 1), (('sync', 'cable'), 1), (('cable', 'essential'), 1), (('essential', 'functionality'), 1), (('functionality', 'camera'), 1), (('camera', 'accessory'), 1), (('accessory', 'included'), 1), (('set', 'remain'), 1), (('remain', 'camera'), 1), (('camera', 'ht'), 1), (('break', 'skeleton'), 1), (('skeleton', 'jack'), 1), (('jack', 'lantern'), 1), (('lantern', 'duty'), 1), (('line', 'considered'), 1), (('considered', 'festive'), 3), (('festive', 'classified'), 1), (('classified', 'differently'), 2), (('since', 'gunmetal'), 1), (('gunmetal', 'copper'), 1), (('copper', 'pilsner'), 1), (('pilsner', 'unique'), 1), (('unique', 'upc'), 6), (('upc', 'different'), 1), (('breakdown', 'create'), 2), (('product', 'instead'), 1), (('instead', 'combining'), 1), (('combining', 'one'), 1), (('format', 'submitted'), 1), (('submitted', 'incorrectly'), 1), (('incorrectly', 'can'), 1), (('not', 'enter'), 1), (('enter', 'nfc'), 1), (('nfc', 'line'), 1), (('total', 'three'), 1), (('three', 'material'), 1), (('page', 'booster'), 1), (('booster', 'cable'), 5), (('cable', 'duty'), 1), (('component', 'wristlet'), 1), (('wristlet', 'toy'), 1), (('toy', 'accurate'), 1), (('show', 'inside'), 1), (('inside', 'case'), 1), (('case', 'required'), 1), (('required', 'bag'), 1), (('bag', 'case'), 1), (('case', 'tool'), 1), (('tool', 'box'), 1), (('box', 'etc'), 1), (('etc', 'imported'), 1), (('imported', 'tool'), 1), (('set', 'case'), 1), (('fitted', 'need'), 1), (('line', 'bit'), 1), (('bit', 'driver'), 4), (('driver', 'confirm'), 1), (('confirm', 'handle'), 1), (('handle', 'steel'), 1), (('steel', 'plastic'), 1), (('plastic', 'plastic'), 1), (('plastic', 'provide'), 1), (('provide', 'specific'), 1), (('specific', 'plastic'), 1), (('plastic', 'type'), 1), (('type', 'material'), 1), (('breakdown', 'bit'), 1), (('driver', 'imported'), 1), (('imported', 'bit'), 1), (('bit', 'inserted'), 2), (('inserted', 'shown'), 1), (('shown', 'picture'), 1), (('picture', 'verify'), 1), (('verify', 'provide'), 1), (('provide', 'updated'), 1), (('updated', 'picture'), 1), (('picture', 'bit'), 1), (('inserted', 'create'), 1), (('picture', 'showing'), 1), (('showing', 'display'), 1), (('display', 'actual'), 1), (('actual', 'product'), 1), (('product', 'quote'), 4), (('quote', 'breakout'), 1), (('enter', 'pillow'), 7), (('pillow', 'separate'), 7), (('removable', 'accessory'), 1), (('accessory', 'bassinet'), 1), (('bassinet', 'tummy'), 1), (('tummy', 'time'), 1), (('time', 'mat'), 1), (('mat', 'separate'), 1), (('breakout', 'marker'), 1), (('sticker', 'gem'), 1), (('gem', 'separate'), 1), (('separate', 'following'), 2), (('following', 'duty'), 2), (('line', 'toy'), 2), (('toy', 'card'), 2), (('card', 'storage'), 2), (('storage', 'case'), 2), (('product', 'submitted'), 1), (('submitted', 'march'), 1), (('march', 'included'), 1), (('included', 'patio'), 1), (('patio', 'cover'), 2), (('cover', 'patio'), 1), (('cover', 'still'), 1), (('still', 'included'), 1), (('need', 'classification'), 1), (('classification', 'line'), 1), (('line', 'added'), 3), (('added', 'cover'), 1), (('cover', 'duty'), 1), (('page', 'picture'), 1), (('picture', 'cover'), 1), (('cover', 'need'), 1), (('need', 'included'), 1), (('break', 'padfolio'), 1), (('padfolio', 'note'), 1), (('date', 'instore'), 1), (('instore', 'date'), 1), (('date', 'entry'), 3), (('date', 'cancel'), 1), (('cancel', 'date'), 1), (('date', 'november'), 1), (('november', 'december'), 1), (('enter', 'saw'), 2), (('saw', 'bag'), 2), (('bag', 'separate'), 2), (('since', 'measuring'), 1), (('measuring', 'set'), 1), (('set', 'unique'), 2), (('upc', 'material'), 1), (('change', 'format'), 1), (('format', 'product'), 1), (('product', 'duty'), 2), (('line', 'adhesive'), 1), (('adhesive', 'strip'), 1), (('strip', 'craft'), 1), (('craft', 'glue'), 1), (('glue', 'toy'), 1), (('review', 'break'), 1), (('break', 'wall'), 1), (('wall', 'charger'), 1), (('charger', 'usb'), 1), (('line', 'robot'), 1), (('robot', 'still'), 1), (('still', 'drive'), 1), (('drive', 'duty'), 1), (('break', 'usb'), 2), (('usb', 'separate'), 1), (('component', 'thank'), 1), (('need', 'break'), 6), (('break', 'repair'), 6), (('patch', 'separate'), 5), (('since', 'play'), 1), (('play', 'set'), 1), (('upc', 'direct'), 2), (('direct', 'supplier'), 2), (('supplier', 'instead'), 2), (('instead', 'attaching'), 2), (('attaching', 'three'), 2), (('three', 'set'), 2), (('set', 'one'), 3), (('create', 'additional'), 2), (('additional', 'product'), 2), (('since', 'set'), 1), (('breakdown', 'unique'), 1), (('enter', 'product'), 1), (('line', 'based'), 2), (('based', 'considered'), 1), (('festive', 'instead'), 1), (('instead', 'based'), 1), (('based', 'color'), 1), (('color', 'first'), 1), (('first', 'line'), 1), (('line', 'snowflake'), 1), (('snowflake', 'deer'), 1), (('deer', 'four'), 1), (('four', 'festive'), 1), (('festive', 'second'), 1), (('second', 'line'), 1), (('line', 'eight'), 1), (('eight', 'considered'), 1), (('picture', 'back'), 1), (('back', 'packaging'), 1), (('packaging', 'thank'), 1), (('enter', 'scissor'), 1), (('scissor', 'separate'), 1), (('line', 'enter'), 2), (('enter', 'sharpening'), 1), (('sharpening', 'steel'), 1), (('steel', 'separate'), 1), (('enter', 'remainder'), 1), (('remainder', 'knife'), 1), (('knife', 'separate'), 1), (('weight', 'hammer'), 1), (('hammer', 'head'), 1), (('head', 'line'), 1), (('line', 'comment'), 2), (('comment', 'shipment'), 1), (('shipment', 'page'), 1), (('page', 'alway'), 1), (('alway', 'required'), 1), (('required', 'hammer'), 1), (('hammer', 'plier'), 1), (('plier', 'slip'), 1), (('slip', 'joint'), 1), (('joint', 'property'), 1), (('property', 'stud'), 1), (('stud', 'finder'), 1), (('finder', 'can'), 1), (('not', 'other'), 1), (('other', 'material'), 1), (('breakdown', 'provide'), 1), (('provide', 'material'), 3), (('material', 'electrical'), 1), (('electrical', 'part'), 1), (('part', 'put'), 1), (('put', 'electrical'), 1), (('electrical', 'breakdown'), 1), (('breakdown', 'verify'), 2), (('verify', 'material'), 2), (('breakdown', 'ratchet'), 1), (('ratchet', 'handle'), 1), (('handle', 'appear'), 1), (('appear', 'handle'), 1), (('handle', 'type'), 1), (('type', 'plastic'), 1), (('plastic', 'must'), 1), (('must', 'included'), 1), (('included', 'material'), 1), (('break', 'different'), 2), (('item', 'drill'), 2), (('drill', 'bit'), 2), (('bit', 'socket'), 2), (('socket', 'screwdriver'), 2), (('screwdriver', 'tip'), 2), (('rerouted', 'variant'), 1), (('variant', 'added'), 1), (('added', 'product'), 1), (('product', 'new'), 1), (('new', 'variant'), 1), (('variant', 'smart'), 1), (('smart', 'charger'), 1), (('charger', 'using'), 1), (('using', 'upc'), 1), (('upc', 'charger'), 1), (('charger', 'charger'), 2), (('charger', 'need'), 1), (('need', 'unique'), 1), (('upc', 'need'), 1), (('storage', 'bag'), 3), (('must', 'broken'), 3), (('broken', 'onto'), 4), (('onto', 'separate'), 3), (('line', 'booster'), 2), (('cable', 'booster'), 2), (('cable', 'remain'), 2), (('remain', 'duty'), 2), (('driver', 'line'), 2), (('line', 'needed'), 2), (('needed', 'main'), 2), (('main', 'line'), 2), (('sticker', 'sticker'), 1), (('sticker', 'type'), 1), (('type', 'must'), 1), (('weight', 'measurement'), 1), (('measurement', 'include'), 1), (('include', 'printing'), 1), (('printing', 'process'), 3), (('process', 'shipment'), 1), (('shipment', 'line'), 1), (('comment', 'bracelet'), 1), (('bracelet', 'set'), 1), (('set', 'item'), 1), (('weight', 'include'), 1), (('include', 'wood'), 1), (('wood', 'type'), 1), (('merry', 'christma'), 1), (('different', 'style'), 4), (('style', 'towel'), 1), (('towel', 'textured'), 1), (('textured', 'solid'), 1), (('solid', 'make'), 1), (('make', 'two'), 4), (('quote', 'instead'), 1), (('instead', 'one'), 1), (('one', 'attach'), 1), (('attach', 'appropriate'), 1), (('appropriate', 'picture'), 1), (('picture', 'different'), 1), (('product', 'total'), 1), (('breakdown', 'total'), 1), (('total', 'value'), 1), (('value', 'multi'), 1), (('multi', 'tool'), 1), (('tool', 'separate'), 1), (('value', 'magnet'), 1), (('magnet', 'separate'), 1), (('value', 'line'), 1), (('line', 'mark'), 1), (('dutiable', 'total'), 1), (('tariff', 'require'), 2), (('require', 'reporting'), 2), (('reporting', 'weight'), 2), (('weight', 'seem'), 2), (('seem', 'basket'), 2), (('different', 'make'), 2), (('component', 'report'), 2), (('report', 'weight'), 2), (('weight', 'basket'), 2), (('basket', 'component'), 2), (('per', 'reroute'), 6), (('reroute', 'correct'), 6), (('correct', 'information'), 6), (('description', 'list'), 2), (('list', 'pen'), 2), (('pen', 'eraser'), 2), (('eraser', 'included'), 2), (('included', 'need'), 4), (('also', 'scoreboard'), 2), (('scoreboard', 'separate'), 2), (('separate', 'piece'), 3), (('piece', 'part'), 2), (('part', 'cabinet'), 2), (('cabinet', 'separate'), 2), (('separate', 'also'), 2), (('breakout', 'carabineer'), 1), (('carabineer', 'separate'), 1), (('revise', 'duty'), 1), (('page', 'less'), 1), (('less', 'line'), 1), (('line', 'per'), 1), (('gel', 'fizzer'), 1), (('fizzer', 'need'), 1), (('request', 'cover'), 2), (('cover', 'specifically'), 2), (('specifically', 'intended'), 2), (('intended', 'product'), 2), (('decanter', 'need'), 1), (('need', 'line'), 4), (('upc', 'already'), 1), (('already', 'another'), 1), (('product', 'contain'), 1), (('contain', 'storage'), 1), (('bag', 'cable'), 1), (('cable', 'enter'), 1), (('enter', 'separate'), 2), (('page', 'attach'), 1), (('enter', 'balloon'), 1), (('balloon', 'separate'), 1), (('harvest', 'halloween'), 1), (('halloween', 'truck'), 1), (('truck', 'need'), 1), (('state', 'saw'), 1), (('saw', 'come'), 1), (('come', 'carrying'), 1), (('carrying', 'bag'), 2), (('bag', 'provide'), 1), (('picture', 'carrying'), 1), (('bag', 'determine'), 1), (('determine', 'need'), 1), (('need', 'classified'), 3), (('supplier', 'requested'), 1), (('requested', 'returned'), 1), (('returned', 'format'), 1), (('format', 'change'), 1), (('change', 'rlc'), 1), (('component', 'match'), 1), (('match', 'content'), 1), (('content', 'list'), 1), (('list', 'strawberry'), 1), (('strawberry', 'chocolate'), 1), (('chocolate', 'mix'), 1), (('mix', 'independent'), 1), (('independent', 'line'), 1), (('line', 'full'), 1), (('full', 'accurate'), 1), (('routed', 'qid'), 2), (('qid', 'metal'), 2), (('metal', 'tool'), 2), (('tool', 'wallet'), 4), (('wallet', 'separated'), 2), (('separated', 'two'), 2), (('line', 'help'), 62), (('help', 'separate'), 2), (('item', 'component'), 2), (('component', 'necessary'), 2), (('quote', 'still'), 2), (('still', 'correct'), 2), (('correct', 'routed'), 2), (('routed', 'correction'), 2), (('correction', 'since'), 2), (('since', 'wallet'), 2), (('wallet', 'come'), 2), (('come', 'separate'), 2), (('separate', 'tool'), 2), (('wallet', 'tool'), 2), (('tool', 'need'), 2), (('since', 'item'), 2), (('item', 'classification'), 2), (('classification', 'material'), 2), (('breakdown', 'help'), 2), (('help', 'get'), 62), (('get', 'two'), 2), (('component', 'separated'), 2), (('separated', 'correct'), 2), (('correct', 'classification'), 2), (('classification', 'duty'), 2), (('duty', 'assigned'), 2), (('headband', 'need'), 2), (('break', 'napper'), 1), (('napper', 'changer'), 1), (('changer', 'separate'), 1), (('component', 'play'), 1), (('play', 'yard'), 1), (('product', 'pictured'), 1), (('pictured', 'described'), 1), (('described', 'piece'), 1), (('piece', 'dining'), 1), (('dining', 'set'), 1), (('need', 'material'), 2), (('line', 'set'), 2), (('set', 'chair'), 1), (('chair', 'table'), 4), (('table', 'need'), 1), (('bow', 'headband'), 1), (('headband', 'animal'), 1), (('animal', 'headband'), 1), (('add', 'replacement'), 1), (('replacement', 'blade'), 1), (('blade', 'separate'), 1), (('line', 'lounger'), 1), (('picture', 'attached'), 3), (('attached', 'look'), 1), (('look', 'like'), 1), (('like', 'different'), 1), (('style', 'picture'), 1), (('picture', 'front'), 1), (('front', 'back'), 1), (('back', 'verify'), 1), (('verify', 'different'), 1), (('style', 'enter'), 1), (('verify', 'separate'), 2), (('component', 'girl'), 2), (('girl', 'jacket'), 2), (('removed', 'quote'), 4), (('quote', 'pack'), 4), (('pack', 'screen'), 4), (('screen', 'need'), 4), (('need', 'corrected'), 6), (('corrected', 'product'), 4), (('product', 'mixed'), 4), (('mixed', 'pallet'), 4), (('attached', 'show'), 1), (('show', 'pillow'), 1), (('pillow', 'included'), 1), (('included', 'ye'), 1), (('ye', 'add'), 2), (('add', 'aduty'), 1), (('aduty', 'page'), 1), (('separate', 'essential'), 2), (('essential', 'oil'), 2), (('oil', 'provide'), 2), (('breakdown', 'per'), 2), (('per', 'fragrance'), 2), (('add', 'separate'), 2), (('page', 'stand'), 1), (('stand', 'tub'), 1), (('tub', 'scoop'), 1), (('line', 'removed'), 1), (('removed', 'value'), 1), (('value', 'divided'), 1), (('divided', 'component'), 1), (('updated', 'remove'), 1), (('remove', 'case'), 1), (('case', 'specifically'), 1), (('fitted', 'hold'), 1), (('hold', 'set'), 1), (('set', 'classified'), 1), (('separately', 'correct'), 1), (('correct', 'returning'), 1), (('returning', 'preclass'), 1), (('pom', 'pom'), 1), (('pom', 'twine'), 1), (('twine', 'need'), 1), (('add', 'separatye'), 1), (('separatye', 'duty'), 1), (('page', 'circular'), 1), (('circular', 'saw'), 1), (('component', 'case'), 1), (('case', 'headphone'), 1), (('headphone', 'charging'), 1), (('charging', 'cable'), 1), (('cable', 'provide'), 1), (('provide', 'value'), 1), (('value', 'breakdown'), 1), (('breakdown', 'ksj'), 1), (('indeed', 'scratch'), 1), (('scratch', 'card'), 1), (('card', 'bamboo'), 1), (('bamboo', 'stylu'), 1), (('stylu', 'duty'), 1), (('set', 'incorrectly'), 1), (('incorrectly', 'line'), 1), (('total', 'one'), 1), (('one', 'total'), 1), (('dutiable', 'one'), 2), (('one', 'stylu'), 1), (('stylu', 'marked'), 1), (('marked', 'non'), 2), (('non', 'dutiable'), 2), (('one', 'card'), 1), (('card', 'marked'), 1), (('dutiable', 'reference'), 1), (('reference', 'qid'), 1), (('line', 'bowl'), 1), (('bowl', 'platter'), 1), (('broken', 'question'), 1), (('question', 'need'), 1), (('need', 'answered'), 1), (('answered', 'ye'), 1), (('ye', 'contain'), 1), (('reviewing', 'new'), 1), (('new', 'picture'), 2), (('picture', 'see'), 2), (('see', 'can'), 1), (('not', 'consider'), 1), (('consider', 'case'), 1), (('fitted', 'fitted'), 1), (('fitted', 'portion'), 1), (('portion', 'disposable'), 1), (('disposable', 'plastic'), 1), (('plastic', 'permanent'), 1), (('permanent', 'add'), 1), (('add', 'case'), 1), (('case', 'make'), 1), (('sure', 'sum'), 1), (('sum', 'piece'), 1), (('add', 'total'), 1), (('breakout', 'different'), 2), (('different', 'lid'), 1), (('lid', 'straw'), 1), (('straw', 'separate'), 1), (('component', 'tumbler'), 1), (('advise', 'another'), 1), (('another', 'template'), 1), (('template', 'rather'), 1), (('rather', 'original'), 1), (('original', 'qid'), 1), (('qid', 'new'), 1), (('template', 'needed'), 1), (('item', 'come'), 1), (('come', 'component'), 1), (('component', 'break'), 1), (('break', 'match'), 1), (('match', 'previou'), 1), (('previou', 'template'), 1), (('needing', 'break'), 2), (('break', 'led'), 1), (('led', 'bulb'), 1), (('appear', 'one'), 1), (('one', 'bit'), 1), (('bit', 'adapter'), 2), (('adapter', 'included'), 2), (('separate', 'classification'), 2), (('classification', 'socket'), 1), (('adapter', 'also'), 1), (('also', 'socket'), 1), (('different', 'ht'), 1), (('line', 'entire'), 2), (('entire', 'product'), 1), (('ahead', 'supplier'), 1), (('line', 'bag'), 1), (('bag', 'fitted'), 1), (('fitted', 'enough'), 1), (('enough', 'excluded'), 1), (('excluded', 'set'), 1), (('page', 'paint'), 1), (('paint', 'brush'), 1), (('brush', 'paint'), 1), (('paint', 'twine'), 1), (('twine', 'nail'), 1), (('nail', 'glue'), 1), (('glue', 'wood'), 1), (('wood', 'screw'), 1), (('screw', 'eye'), 1), (('eye', 'hook'), 1), (('hook', 'screw'), 1), (('applicable', 'acceptable'), 1), (('acceptable', 'brand'), 1), (('brand', 'name'), 1), (('name', 'correct'), 1), (('looking', 'picture'), 1), (('see', 'set'), 1), (('include', 'screwdriver'), 1), (('screwdriver', 'bit'), 3), (('bit', 'material'), 1), (('added', 'bit'), 1), (('driver', 'screwdriver'), 1), (('adapter', 'set'), 1), (('set', 'require'), 1), (('line', 'well'), 1), (('well', 'add'), 1), (('line', 'additional'), 1), (('additional', 'piece'), 1), (('piece', 'screwdriver'), 1), (('estimated', 'ship'), 60), (('date', 'showing'), 60), (('showing', 'may'), 60), (('may', 'help'), 60), (('get', 'corrected'), 60), (('corrected', 'recent'), 60), (('recent', 'date'), 60), (('date', 'also'), 60), (('also', 'note'), 62), (('note', 'product'), 60), (('help', 'break'), 60), (('break', 'smaller'), 60), (('smaller', 'container'), 60), (('container', 'come'), 60), (('come', 'along'), 60), (('along', 'larger'), 60), (('larger', 'container'), 60), (('container', 'provide'), 60), (('enter', 'bag'), 1), (('bag', 'duty'), 1), (('page', 'tree'), 1), (('tree', 'substanstial'), 1), (('substanstial', 'likely'), 1), (('likely', 'used'), 1), (('used', 'purpose'), 1), (('line', 'ceramic'), 1), (('ceramic', 'planter'), 1), (('planter', 'classified'), 1), (('differently', 'planter'), 1), (('planter', 'planter'), 1), (('planter', 'still'), 1), (('driver', 'set'), 1), (('set', 'thank'), 1), (('garment', 'different'), 5), (('different', 'fabric'), 5), (('fabric', 'weight'), 5), (('product', 'even'), 5), (('even', 'classified'), 5), (('duty', 'material'), 2), (('created', 'gauge'), 1), (('gauge', 'red'), 1), (('red', 'insulated'), 1), (('insulated', 'wire'), 1), (('wire', 'classified'), 1), (('classified', 'test'), 1), (('test', 'lead'), 1), (('lead', 'duty'), 1), (('created', 'plastic'), 1), (('plastic', 'case'), 1), (('case', 'can'), 1), (('not', 'considered'), 1), (('considered', 'fitted'), 2), (('fitted', 'case'), 1), (('case', 'need'), 1), (('classified', 'well'), 1), (('splice', 'quick'), 1), (('quick', 'connector'), 1), (('connector', 'need'), 1), (('break', 'male'), 1), (('female', 'connector'), 1), (('connector', 'onto'), 1), (('create', 'component'), 6), (('component', 'one'), 5), (('one', 'dress'), 4), (('dress', 'one'), 4), (('one', 'slip'), 4), (('slip', 'separate'), 4), (('separate', 'tariff'), 4), (('number', 'duty'), 4), (('duty', 'percentage'), 4), (('percentage', 'component'), 4), (('component', 'richard'), 4), (('richard', 'sending'), 4), (('sending', 'duty'), 4), (('duty', 'saving'), 8), (('saving', 'suggestion'), 8), (('suggestion', 'item'), 4), (('item', 'accept'), 4), (('accept', 'duty'), 4), (('suggestion', 'would'), 4), (('would', 'need'), 4), (('need', 'sample'), 4), (('sample', 'review'), 5), (('review', 'order'), 4), (('order', 'change'), 4), (('change', 'duty'), 4), (('accessory', 'come'), 1), (('come', 'grinder'), 1), (('although', 'glitter'), 1), (('glitter', 'attached'), 1), (('attached', 'distinct'), 1), (('distinct', 'design'), 1), (('design', 'cover'), 1), (('cover', 'entire'), 1), (('entire', 'ribbon'), 1), (('ribbon', 'surface'), 1), (('surface', 'based'), 1), (('based', 'glitter'), 1), (('glitter', 'completely'), 1), (('completely', 'cover'), 1), (('cover', 'ribbon'), 1), (('separate', 'different'), 3), (('breakdown', 'revised'), 2), (('revised', 'however'), 2), (('however', 'point'), 2), (('point', 'corrected'), 2), (('corrected', 'last'), 2), (('last', 'route'), 2), (('route', 'hold'), 2), (('hold', 'quote'), 2), (('quote', 'correction'), 2), (('correction', 'made'), 2), (('made', 'cutting'), 2), (('cutting', 'license'), 4), (('license', 'still'), 2), (('still', 'translated'), 2), (('translated', 'provide'), 2), (('provide', 'translated'), 2), (('translated', 'cutting'), 2), (('license', 'also'), 2), (('note', 'genu'), 2), (('genu', 'species'), 4), (('species', 'compliance'), 2), (('compliance', 'questionnaire'), 4), (('questionnaire', 'still'), 2), (('still', 'updated'), 2), (('updated', 'genu'), 2), (('species', 'wood'), 2), (('wood', 'material'), 2), (('material', 'provided'), 2), (('provided', 'can'), 2), (('not', 'provided'), 2), (('product', 'size'), 2), (('update', 'product'), 15), (('update', 'prodcut'), 1), (('prodcut', 'name'), 1), (('name', 'incorrect'), 1), (('update', 'name'), 1), (('rerouted', 'correct'), 1), (('enter', 'chimeny'), 3), (('chimeny', 'starter'), 3), (('starter', 'separate'), 3), (('page', 'breakdown'), 6), (('value', 'enter'), 3), (('enter', 'cover'), 3), (('cover', 'separate'), 3), (('three', 'separate'), 2), (('separate', 'terrarium'), 2), (('terrarium', 'terrarium'), 2), (('terrarium', 'permanently'), 2), (('permanently', 'connected'), 2), (('connected', 'separate'), 2), (('separate', 'provide'), 2), (('provide', 'individual'), 2), (('individual', 'weight'), 2), (('piece', 'create'), 2), (('line', 'ht'), 2), (('ht', 'classification'), 2), (('classification', 'call'), 2), (('call', 'weight'), 2), (('weight', 'separate'), 2), (('separate', 'two'), 2), (('two', 'smaller'), 2), (('smaller', 'cube'), 2), (('cube', 'share'), 2), (('share', 'weight'), 2), (('weight', 'duty'), 2), (('rerouted', 'material'), 1), (('line', 'chair'), 2), (('chair', 'duty'), 1), (('page', 'line'), 1), (('added', 'chair'), 1), (('rerouted', 'chair'), 1), (('table', 'require'), 1), (('help', 'breakout'), 2), (('breakout', 'component'), 1), (('weight', 'item'), 1), (('item', 'also'), 1), (('also', 'provide'), 3), (('provide', 'clear'), 2), (('picture', 'packaging'), 1), (('packaging', 'current'), 1), (('current', 'picture'), 1), (('attached', 'blurry'), 1), (('blurry', 'text'), 1), (('text', 'hard'), 1), (('hard', 'read'), 1), (('component', 'spatula'), 1), (('spatula', 'different'), 1), (('size', 'different'), 1), (('weight', 'also'), 1), (('also', 'must'), 1), (('kilogram', 'component'), 1), (('appear', 'duplicate'), 2), (('product', 'help'), 2), (('help', 'revise'), 2), (('revise', 'advise'), 2), (('verify', 'pillow'), 1), (('pillow', 'detached'), 1), (('detached', 'ye'), 1), (('ye', 'need'), 1), (('page', 'common'), 1), (('name', 'read'), 1), (('read', 'pillow'), 1), (('pillow', 'sure'), 1), (('sure', 'include'), 1), (('include', 'correct'), 1), (('correct', 'count'), 1), (('count', 'pillow'), 1), (('pillow', 'correct'), 1), (('rerouted', 'two'), 1), (('two', 'material'), 1), (('one', 'piece'), 1), (('piece', 'product'), 1), (('one', 'material'), 2), (('page', 'chair'), 1), (('page', 'love'), 1), (('love', 'seat'), 2), (('seat', 'chair'), 1), (('tester', 'embedded'), 1), (('embedded', 'organizer'), 1), (('organizer', 'separate'), 1), (('piece', 'organizer'), 1), (('organizer', 'must'), 1), (('onto', 'line'), 1), (('product', 'last'), 1), (('last', 'year'), 2), (('year', 'crossbow'), 1), (('crossbow', 'year'), 1), (('year', 'appear'), 1), (('appear', 'double'), 1), (('double', 'barrel'), 1), (('barrel', 'shotgun'), 1), (('added', 'component'), 1), (('component', 'kit'), 1), (('kit', 'duty'), 1), (('page', 'also'), 1), (('picture', 'wire'), 1), (('wire', 'easy'), 1), (('easy', 'identify'), 1), (('identify', 'type'), 1), (('type', 'connector'), 1), (('connector', 'attached'), 1), (('attached', 'end'), 1), (('based', 'material'), 1), (('tariff', 'bag'), 2), (('bag', 'require'), 2), (('require', 'weight'), 2), (('kilogram', 'weight'), 2), (('different', 'tote'), 2), (('tote', 'need'), 2), (('need', 'three'), 2), (('size', 'bag'), 2), (('bag', 'supplier'), 2), (('supplier', 'correct'), 2), (('correct', 'good'), 2), (('listed', 'quote'), 1), (('quote', 'dinner'), 1), (('dinner', 'plate'), 1), (('plate', 'salad'), 1), (('salad', 'plate'), 2), (('plate', 'bowl'), 1), (('bowl', 'exactly'), 1), (('exactly', 'smallest'), 1), (('smallest', 'article'), 1), (('article', 'propped'), 1), (('propped', 'side'), 1), (('side', 'smaller'), 1), (('smaller', 'salad'), 1), (('plate', 'listed'), 1), (('component', 'quote'), 3), (('rerouted', 'new'), 1), (('provided', 'better'), 1), (('better', 'show'), 1), (('show', 'piece'), 1), (('component', 'small'), 1), (('small', 'thing'), 1), (('thing', 'added'), 1), (('added', 'name'), 1), (('name', 'explain'), 1), (('explain', 'value'), 1), (('value', 'adjustment'), 1), (('adjustment', 'piece'), 1), (('add', 'date'), 1), (('date', 'coo'), 1), (('spreadsheet', 'two'), 4), (('two', 'party'), 4), (('favor', 'set'), 4), (('set', 'piece'), 4), (('piece', 'value'), 4), (('total', 'overall'), 4), (('overall', 'cost'), 4), (('cost', 'listed'), 4), (('many', 'ornament'), 1), (('ornament', 'different'), 1), (('breakdown', 'update'), 1), (('update', 'ornament'), 1), (('ornament', 'duty'), 1), (('separate', 'target'), 1), (('target', 'bean'), 1), (('bean', 'bag'), 1), (('bag', 'ht'), 1), (('line', 'delete'), 1), (('delete', 'leave'), 1), (('leave', 'one'), 1), (('complete', 'combined'), 1), (('combined', 'material'), 1), (('review', 'item'), 1), (('item', 'formatting'), 1), (('formatting', 'need'), 1), (('need', 'changed'), 1), (('changed', 'xvv'), 1), (('xvv', 'set'), 2), (('one', 'component'), 1), (('component', 'mattress'), 1), (('mattress', 'one'), 1), (('one', 'bed'), 1), (('bed', 'frame'), 2), (('frame', 'essential'), 1), (('essential', 'character'), 3), (('character', 'bed'), 1), (('frame', 'quote'), 1), (('returned', 'component'), 1), (('component', 'added'), 1), (('stay', 'puft'), 1), (('puft', 'require'), 1), (('line', 'zip'), 1), (('zip', 'tie'), 1), (('tie', 'appropriate'), 1), (('appropriate', 'material'), 1), (('quote', 'one'), 1), (('one', 'meat'), 1), (('meat', 'grinder'), 1), (('grinder', 'part'), 1), (('part', 'one'), 2), (('one', 'salad'), 1), (('salad', 'express'), 1), (('express', 'slouse'), 1), (('slouse', 'part'), 1), (('one', 'pastum'), 1), (('pastum', 'maker'), 1), (('maker', 'part'), 1), (('advise', 'large'), 1), (('description', 'outer'), 1), (('surface', 'bag'), 1), (('bag', 'made'), 1), (('trying', 'figure'), 1), (('figure', 'product'), 1), (('product', 'dpt'), 1), (('dpt', 'domestic'), 1), (('domestic', 'good'), 1), (('good', 'hardline'), 1), (('hardline', 'questionnaire'), 4), (('questionnaire', 'filled'), 1), (('filled', 'sample'), 1), (('review', 'either'), 1), (('either', 'layout'), 1), (('layout', 'center'), 1), (('center', 'send'), 1), (('send', 'one'), 1), (('one', 'office'), 1), (('office', 'poncho'), 1), (('poncho', 'need'), 1), (('need', 'apparel'), 1), (('apparel', 'questionnaire'), 1), (('questionnaire', 'completed'), 1), (('completed', 'made'), 1), (('made', 'terry'), 1), (('terry', 'cotton'), 2), (('cotton', 'non'), 1), (('non', 'terry'), 1), (('cotton', 'marketed'), 1), (('marketed', 'beach'), 1), (('beach', 'wrong'), 1), (('wrong', 'department'), 1), (('department', 'apparel'), 1), (('apparel', 'item'), 1), (('item', 'nee'), 1), (('chair', 'sofa'), 1), (('sofa', 'table'), 1), (('table', 'can'), 1), (('not', 'share'), 1), (('share', 'duty'), 1), (('break', 'three'), 1), (('three', 'duty'), 1), (('line', 'ensure'), 1), (('ensure', 'value'), 1), (('value', 'accurate'), 1), (('revise', 'item'), 1), (('description', 'requested'), 1), (('requested', 'buyer'), 1), (('create', 'duty'), 1), (('page', 'case'), 1), (('case', 'toy'), 1), (('date', 'template'), 1), (('template', 'past'), 1), (('past', 'correct'), 1), (('correct', 'entry'), 1), (('following', 'information'), 2), (('information', 'need'), 2), (('corrected', 'quote'), 2), (('quote', 'whole'), 2), (('whole', 'table'), 3), (('table', 'furniture'), 2), (('furniture', 'part'), 2), (('part', 'correct'), 1), (('correct', 'tariff'), 2), (('number', 'free'), 1), (('free', 'glass'), 1), (('glass', 'table'), 2), (('table', 'top'), 10), (('top', 'correct'), 3), (('correct', 'common'), 1), (('name', 'dining'), 1), (('dining', 'table'), 3), (('table', 'table'), 1), (('breakdown', 'glass'), 1), (('top', 'top'), 1), (('top', 'glass'), 1), (('glass', 'steel'), 1), (('steel', 'remove'), 1), (('remove', 'picture'), 1), (('picture', 'whole'), 1), (('table', 'instead'), 2), (('instead', 'provide'), 1), (('picture', 'part'), 1), (('part', 'product'), 1), (('description', 'can'), 1), (('not', 'modrn'), 1), (('modrn', 'retro'), 1), (('retro', 'glam'), 1), (('glam', 'marni'), 1), (('marni', 'glass'), 1), (('glass', 'top'), 2), (('top', 'dining'), 1), (('table', 'box'), 2), (('box', 'complete'), 1), (('complete', 'table'), 1), (('box', 'contain'), 1), (('contain', 'part'), 1), (('part', 'also'), 1), (('also', 'correct'), 3), (('correct', 'product'), 1), (('description', 'removing'), 1), (('removing', 'reference'), 1), (('reference', 'dining'), 1), (('instead', 'call'), 1), (('call', 'glass'), 1), (('top', 'metal'), 1), (('metal', 'frame'), 1), (('frame', 'depending'), 1), (('depending', 'correct'), 1), (('tariff', 'numb'), 1), (('break', 'bin'), 1), (('bin', 'rail'), 1), (('rail', 'order'), 1), (('order', 'properly'), 1), (('properly', 'classify'), 1), (('sample', 'product'), 1), (('product', 'reviewed'), 1), (('reviewed', 'layout'), 1), (('layout', 'determined'), 1), (('determined', 'sheet'), 1), (('sheet', 'activity'), 1), (('activity', 'paper'), 1), (('paper', 'included'), 1), (('included', 'easel'), 1), (('easel', 'remove'), 1), (('remove', 'component'), 4), (('provide', 'one'), 1), (('breakdown', 'whole'), 1), (('whole', 'easel'), 1), (('letter', 'andrew'), 1), (('andrew', 'william'), 1), (('william', 'printed'), 1), (('printed', 'name'), 1), (('name', 'person'), 1), (('person', 'signed'), 1), (('signed', 'letter'), 1), (('letter', 'supplier'), 1), (('supplier', 'make'), 1), (('correction', 'resubmit'), 1), (('correct', 'shipping'), 1), (('date', 'currently'), 1), (('currently', 'read'), 1), (('read', 'read'), 1), (('separate', 'hair'), 1), (('hair', 'chalk'), 1), (('chalk', 'another'), 1), (('another', 'duty'), 1), (('break', 'twine'), 2), (('twine', 'tag'), 2), (('enter', 'love'), 1), (('seat', 'separate'), 1), (('patch', 'included'), 1), (('item', 'electronic'), 1), (('electronic', 'repair'), 1), (('repair', 'tool'), 1), (('tool', 'kit'), 1), (('kit', 'quote'), 1), (('quote', 'addition'), 1), (('addition', 'component'), 1), (('component', 'already'), 1), (('already', 'place'), 1), (('place', 'hobby'), 1), (('hobby', 'knife'), 1), (('knife', 'set'), 1), (('set', 'magnetizer'), 1), (('magnetizer', 'tape'), 1), (('tape', 'measure'), 1), (('advise', 'function'), 1), (('function', 'case'), 1), (('case', 'item'), 1), (('item', 'lock'), 1), (('lock', 'special'), 1), (('special', 'function'), 1), (('function', 'provide'), 1), (('picture', 'inside'), 1), (('inside', 'notebook'), 1), (('notebook', 'answer'), 1), (('answer', 'question'), 1), (('question', 'paper'), 1), (('paper', 'dimension'), 1), (('dimension', 'paper'), 1), (('paper', 'oi'), 1), (('oi', 'paper'), 1), (('ruled', 'othickness'), 1), (('othickness', 'millimeter'), 1), (('component', 'paper'), 1), (('paper', 'weight'), 1), (('meter', 'owhat'), 1), (('break', 'marker'), 1), (('component', 'float'), 2), (('float', 'repair'), 2), (('repair', 'kit'), 2), (('format', 'appear'), 1), (('appear', 'incorrect'), 1), (('incorrect', 'wild'), 1), (('wild', 'fire'), 1), (('fire', 'cuff'), 1), (('cuff', 'cop'), 1), (('cop', 'separate'), 1), (('product', 'dress'), 1), (('dress', 'headpiece'), 1), (('headpiece', 'glofe'), 1), (('glofe', 'material'), 1), (('line', 'within'), 1), (('within', 'cop'), 1), (('cop', 'product'), 1), (('page', 'need'), 1), (('ht', 'planter'), 1), (('planter', 'duty'), 1), (('picture', 'individual'), 1), (('individual', 'item'), 1), (('item', 'need'), 1), (('need', 'able'), 1), (('able', 'see'), 1), (('see', 'fork'), 1), (('fork', 'spoon'), 1), (('spoon', 'return'), 1), (('return', 'quote'), 1), (('quote', 'review'), 1), (('upc', 'number'), 4), (('number', 'already'), 1), (('already', 'vsn'), 1), (('vsn', 'qid'), 1), (('qid', 'update'), 1), (('update', 'unique'), 1), (('number', 'used'), 1), (('number', 'reused'), 1), (('reused', 'quote'), 1), (('quote', 'causing'), 1), (('causing', 'mix'), 1), (('mix', 'quote'), 1), (('quote', 'activity'), 1), (('activity', 'easel'), 1), (('easel', 'different'), 1), (('different', 'item'), 1), (('item', 'must'), 2), (('correct', 'quote'), 1), (('quote', 'reviewed'), 1), (('line', 'cleaning'), 1), (('cleaning', 'brush'), 1), (('brush', 'duty'), 1), (('page', 'straw'), 1), (('straw', 'still'), 1), (('driver', 'brush'), 1), (('brush', 'require'), 1), (('attached', 'like'), 2), (('spreadsheet', 'attach'), 1), (('attach', 'quote'), 1), (('enter', 'alstroemerium'), 1), (('alstroemerium', 'separate'), 1), (('component', 'correct'), 3), (('breakdown', 'one'), 2), (('one', 'unit'), 1), (('unit', 'lead'), 1), (('lead', 'separate'), 2), (('separate', 'upc'), 3), (('breakdown', 'lead'), 1), (('roll', 'cover'), 1), (('cover', 'back'), 1), (('back', 'duty'), 1), (('page', 'firepit'), 1), (('gem', 'nail'), 1), (('sticker', 'need'), 4), (('need', 'broke'), 1), (('broke', 'duty'), 1), (('thank', 'attaching'), 1), (('attaching', 'picture'), 1), (('picture', 'caddy'), 2), (('caddy', 'caddy'), 1), (('caddy', 'considered'), 1), (('fitted', 'article'), 1), (('article', 'separate'), 1), (('quote', 'asked'), 1), (('asked', 'returned'), 1), (('returned', 'additional'), 1), (('caddy', 'could'), 1), (('could', 'reviewed'), 1), (('reviewed', 'quote'), 1), (('rerouted', 'remove'), 1), (('breakdown', 'reflect'), 1), (('reflect', 'material'), 2), (('material', 'caddy'), 1), (('caddy', 'made'), 1), (('made', 'essential'), 1), (('character', 'mason'), 1), (('mason', 'drinking'), 1), (('drinking', 'glass'), 1), (('request', 'separate'), 1), (('component', 'based'), 2), (('based', 'substantial'), 2), (('substantial', 'construction'), 2), (('construction', 'case'), 2), (('divider', 'need'), 1), (('line', 'like'), 1), (('like', 'qid'), 1), (('qid', 'product'), 1), (('product', 'connected'), 1), (('rerouted', 'pump'), 1), (('pump', 'require'), 1), (('page', 'quantity'), 1), (('quantity', 'mattress'), 1), (('mattress', 'also'), 1), (('also', 'updated'), 1), (('component', 'gem'), 1), (('gem', 'applicator'), 1), (('applicator', 'stand'), 1), (('stand', 'comb'), 1), (('comb', 'trademark'), 1), (('alex', 'logo'), 1), (('logo', 'provide'), 1), (('provide', 'own'), 1), (('own', 'lock'), 1), (('lock', 'logo'), 1), (('logo', 'gem'), 1), (('gem', 'stick'), 1), (('stick', 'hair'), 1), (('hair', 'provide'), 1), (('provide', 'sample'), 1), (('sample', 'item'), 1), (('item', 'preclass'), 1), (('different', 'part'), 1), (('part', 'combo'), 1), (('combo', 'separate'), 1), (('line', 'instead'), 1), (('instead', 'game'), 1), (('game', 'net'), 1), (('net', 'combined'), 1), (('combined', 'pole'), 1), (('pole', 'stake'), 1), (('stake', 'accessory'), 1), (('accessory', 'need'), 1), (('line', 'racket'), 1), (('racket', 'ball'), 1), (('ball', 'paddle'), 1), (('paddle', 'etc'), 1), (('remove', 'magnetic'), 1), (('magnetic', 'strip'), 1), (('strip', 'permanently'), 1), (('trunk', 'organizer'), 1), (('organizer', 'cooler'), 1), (('cooler', 'require'), 1), (('breakout', 'coaster'), 1), (('coaster', 'table'), 1), (('table', 'since'), 1), (('since', 'coaster'), 1), (('coaster', 'require'), 1), (('require', 'lacey'), 1), (('lacey', 'declaration'), 1), (('declaration', 'need'), 1), (('picture', 'indicate'), 1), (('indicate', 'binder'), 1), (('binder', 'set'), 1), (('include', 'loose'), 1), (('loose', 'page'), 1), (('binder', 'page'), 1), (('page', 'clear'), 1), (('picture', 'accurate'), 1), (('include', 'paper'), 1), (('paper', 'folder'), 1), (('folder', 'divider'), 1), (('divider', 'listed'), 1), (('accurate', 'value'), 1), (('value', 'material'), 1), (('enter', 'keepsake'), 1), (('keepsake', 'box'), 1), (('box', 'separate'), 1), (('break', 'connector'), 1), (('connector', 'cable'), 1), (('cable', 'individual'), 1), (('line', 'also'), 1), (('picture', 'connector'), 1), (('request', 'finish'), 1), (('finish', 'different'), 1), (('set', 'mean'), 1), (('mean', 'material'), 1), (('different', 'even'), 1), (('even', 'slightly'), 1), (('slightly', 'enter'), 1), (('breakdown', 'separate'), 3), (('line', 'separate'), 1), (('different', 'bowl'), 1), (('bowl', 'different'), 1), (('line', 'copper'), 1), (('copper', 'one'), 1), (('line', 'either'), 1), (('either', 'enter'), 1), (('product', 'make'), 1), (('sure', 'separate'), 2), (('product', 'attachment'), 1), (('attachment', 'product'), 1), (('product', 'correct'), 1), (('correct', 'vsn'), 1), (('upc', 'attached'), 1), (('attached', 'dept'), 1), (('dept', 'dept'), 1), (('dept', 'item'), 1), (('product', 'denim'), 4), (('denim', 'jacket'), 4), (('jacket', 'denim'), 2), (('denim', 'classified'), 2), (('different', 'jacket'), 2), (('jacket', 'tariff'), 2), (('create', 'different'), 2), (('advise', 'quote'), 1), (('quote', 'display'), 1), (('display', 'pole'), 1), (('pole', 'included'), 1), (('description', 'read'), 1), (('read', 'led'), 1), (('led', 'spotlight'), 1), (('spotlight', 'bonu'), 1), (('bonu', 'headlamp'), 1), (('headlamp', 'verify'), 1), (('include', 'headlamp'), 1), (('headlamp', 'ye'), 1), (('page', 'bonu'), 1), (('bonu', 'add'), 1), (('add', 'correct'), 1), (('picture', 'correct'), 1), (('correct', 'large'), 1), (('break', 'toy'), 1), (('toy', 'different'), 2), (('breakout', 'toy'), 1), (('line', 'complete'), 1), (('complete', 'assortment'), 1), (('product', 'produced'), 1), (('produced', 'instead'), 1), (('instead', 'china'), 1), (('china', 'create'), 1), (('enter', 'bit'), 1), (('bit', 'magnetic'), 1), (('magnetic', 'bit'), 1), (('driver', 'separate'), 1), (('roll', 'safe'), 1), (('safe', 'shelf'), 1), (('shelf', 'one'), 1), (('page', 'sure'), 1), (('breakdown', 'area'), 1), (('area', 'including'), 1), (('including', 'questionnaire'), 1), (('driver', 'glass'), 2), (('glass', 'jar'), 3), (('jar', 'make'), 1), (('one', 'tray'), 1), (('tray', 'one'), 1), (('one', 'glass'), 1), (('jar', 'duty'), 1), (('product', 'sure'), 1), (('separate', 'pack'), 1), (('pack', 'page'), 1), (('reused', 'upc'), 1), (('bhg', 'coastal'), 1), (('coastal', 'pergola'), 1), (('break', 'following'), 1), (('following', 'item'), 1), (('component', 'nail'), 1), (('nail', 'polish'), 1), (('polish', 'ingredient'), 1), (('ingredient', 'needed'), 1), (('review', 'nail'), 1), (('nail', 'adhesive'), 1), (('adhesive', 'sticker'), 1), (('need', 'surface'), 1), (('surface', 'area'), 1), (('area', 'meter'), 1), (('meter', 'squared'), 1), (('squared', 'glue'), 1), (('glue', 'glitter'), 1), (('glitter', 'nail'), 1), (('need', 'printing'), 2), (('process', 'paper'), 2), (('paper', 'thickness'), 2), (('thickness', 'color'), 1), (('color', 'nail'), 1), (('separate', 'box'), 1), (('box', 'table'), 1), (('table', 'base'), 4), (('base', 'base'), 1), (('base', 'metal'), 2), (('metal', 'quote'), 1), (('quote', 'routed'), 1), (('routed', 'information'), 1), (('information', 'material'), 1), (('material', 'contained'), 1), (('contained', 'box'), 1), (('box', 'corrected'), 1), (('corrected', 'base'), 1), (('metal', 'remove'), 1), (('remove', 'mdf'), 1), (('mdf', 'information'), 1), (('information', 'quote'), 1), (('quote', 'description'), 1), (('description', 'mateiral'), 1), (('mateiral', 'breakdown'), 1), (('breakdown', 'compliance'), 1), (('questionnaire', 'hardline'), 1), (('questionnaire', 'remove'), 1), (('remove', 'wood'), 3), (('wood', 'document'), 1), (('document', 'attachment'), 1), (('attachment', 'provide'), 1), (('show', 'base'), 1), (('base', 'correct'), 1), (('correct', 'following'), 2), (('following', 'material'), 2), (('breakdown', 'table'), 1), (('base', 'remove'), 1), (('wood', 'info'), 2), (('info', 'remove'), 1), (('info', 'compliance'), 1), (('questionnaire', 'attachment'), 1), (('attachment', 'correct'), 1), (('material', 'found'), 2), (('found', 'table'), 2), (('base', 'attach'), 1), (('picture', 'base'), 1), (('base', 'without'), 1), (('without', 'top'), 1), (('top', 'attached'), 1), (('one', 'item'), 1), (('assortment', 'poster'), 1), (('poster', 'pen'), 3), (('pen', 'separate'), 1), (('separate', 'poster'), 1), (('pen', 'individual'), 1), (('line', 'update'), 1), (('update', 'like'), 1), (('assortment', 'detail'), 1), (('detail', 'sheet'), 1), (('sheet', 'show'), 1), (('show', 'poster'), 1), (('pen', 'poster'), 1), (('poster', 'essential'), 1), (('character', 'suggestion'), 1), (('suggestion', 'packaging'), 1), (('packaging', 'updated'), 1), (('updated', 'say'), 1), (('say', 'party'), 1), (('favor', 'duty'), 1), (('duty', 'could'), 1), (('could', 'updated'), 1), (('break', 'rod'), 1), (('rod', 'reel'), 1), (('reel', 'seperate'), 1), (('seperate', 'component'), 1), (('hand', 'towel'), 2), (('towel', 'item'), 1), (('must', 'attached'), 1), (('attached', 'product'), 1), (('product', 'pack'), 1), (('towel', 'wash'), 1), (('wash', 'cloth'), 1), (('cloth', 'must'), 1), (('must', 'also'), 1), (('also', 'separated'), 1), (('breakdown', 'list'), 1), (('list', 'material'), 1), (('top', 'also'), 1), (('correct', 'hardline'), 2), (('questionnaire', 'reflect'), 1), (('material', 'table'), 1), (('top', 'attach'), 1), (('picture', 'table'), 1), (('top', 'back'), 1), (('back', 'table'), 2), (('top', 'without'), 1), (('without', 'base'), 1), (('top', 'material'), 1), (('breakdown', 'indicate'), 1), (('indicate', 'material'), 1), (('material', 'steel'), 1), (('steel', 'also'), 1), (('breakdown', 'itshould'), 1), (('itshould', 'include'), 1), (('material', 'metabl'), 1), (('metabl', 'base'), 1), (('base', 'table'), 1), (('table', 'correct'), 1), (('questionnaire', 'also'), 1), (('also', 'attach'), 1), (('show', 'top'), 1), (('top', 'table'), 1), (('table', 'back'), 1), (('enter', 'chair'), 1), (('chair', 'ottoman'), 1), (('ottoman', 'separate'), 1), (('date', 'read'), 1), (('read', 'correct'), 1), (('breakout', 'blanket'), 1), (('blanket', 'hat'), 1), (('hat', 'separate'), 1), (('eye', 'mask'), 1), (('mask', 'dice'), 1), (('dice', 'separate'), 1), (('give', 'clarification'), 1), (('clarification', 'quote'), 1), (('quote', 'way'), 1), (('way', 'set'), 1), (('set', 'show'), 1), (('show', 'umbrella'), 1), (('umbrella', 'solar'), 3), (('solar', 'panel'), 2), (('panel', 'led'), 2), (('led', 'light'), 2), (('light', 'correct'), 2), (('correct', 'umbrella'), 3), (('umbrella', 'total'), 1), (('total', 'solar'), 1), (('solar', 'led'), 2), (('led', 'umbrella'), 1), (('umbrella', 'display'), 1), (('display', 'correct'), 1), (('led', 'regular'), 1), (('regular', 'classification'), 1), (('classification', 'display'), 1), (('display', 'sample'), 1), (('sample', 'correct'), 1), (('request', 'enter'), 1), (('type', 'umbrella'), 1), (('umbrella', 'separate'), 1), (('like', 'cost'), 1), (('cost', 'spreadsheet'), 1), (('reusing', 'upc'), 1), (('upc', 'last'), 1), (('year', 'create'), 1), (('new', 'upc'), 1), (('since', 'base'), 1), (('base', 'attached'), 1), (('attached', 'dispenser'), 1), (('dispenser', 'may'), 1), (('may', 'use'), 1), (('use', 'need'), 1), (('page', 'dispenser'), 1), (('dispenser', 'sure'), 1), (('sure', 'material'), 1), (('value', 'complete'), 1), (('complete', 'component'), 1)])"
      ]
     },
     "execution_count": 87,
     "metadata": {},
     "output_type": "execute_result"
    }
   ],
   "source": [
    "c.items()"
   ]
  },
  {
   "cell_type": "code",
   "execution_count": 91,
   "metadata": {},
   "outputs": [],
   "source": [
    "#sorted_x = sorted(c.items(), key=operator.itemgetter(1),reverse=True)\n"
   ]
  },
  {
   "cell_type": "code",
   "execution_count": 90,
   "metadata": {},
   "outputs": [],
   "source": [
    "#sorted_x"
   ]
  },
  {
   "cell_type": "code",
   "execution_count": null,
   "metadata": {},
   "outputs": [],
   "source": []
  },
  {
   "cell_type": "code",
   "execution_count": null,
   "metadata": {},
   "outputs": [],
   "source": [
    "sns.countplot(df_new['clus_centre'])\n"
   ]
  },
  {
   "cell_type": "code",
   "execution_count": null,
   "metadata": {},
   "outputs": [],
   "source": []
  },
  {
   "cell_type": "code",
   "execution_count": null,
   "metadata": {},
   "outputs": [],
   "source": []
  },
  {
   "cell_type": "code",
   "execution_count": null,
   "metadata": {},
   "outputs": [],
   "source": []
  },
  {
   "cell_type": "code",
   "execution_count": null,
   "metadata": {},
   "outputs": [],
   "source": []
  },
  {
   "cell_type": "code",
   "execution_count": null,
   "metadata": {},
   "outputs": [],
   "source": []
  },
  {
   "cell_type": "code",
   "execution_count": null,
   "metadata": {},
   "outputs": [],
   "source": []
  },
  {
   "cell_type": "code",
   "execution_count": null,
   "metadata": {},
   "outputs": [],
   "source": []
  },
  {
   "cell_type": "code",
   "execution_count": null,
   "metadata": {},
   "outputs": [],
   "source": []
  },
  {
   "cell_type": "code",
   "execution_count": null,
   "metadata": {},
   "outputs": [],
   "source": []
  },
  {
   "cell_type": "code",
   "execution_count": null,
   "metadata": {},
   "outputs": [],
   "source": []
  },
  {
   "cell_type": "code",
   "execution_count": null,
   "metadata": {},
   "outputs": [],
   "source": []
  },
  {
   "cell_type": "code",
   "execution_count": null,
   "metadata": {},
   "outputs": [],
   "source": []
  },
  {
   "cell_type": "code",
   "execution_count": null,
   "metadata": {},
   "outputs": [],
   "source": []
  }
 ],
 "metadata": {
  "kernelspec": {
   "display_name": "Python 3",
   "language": "python",
   "name": "python3"
  },
  "language_info": {
   "codemirror_mode": {
    "name": "ipython",
    "version": 3
   },
   "file_extension": ".py",
   "mimetype": "text/x-python",
   "name": "python",
   "nbconvert_exporter": "python",
   "pygments_lexer": "ipython3",
   "version": "3.6.8"
  }
 },
 "nbformat": 4,
 "nbformat_minor": 2
}

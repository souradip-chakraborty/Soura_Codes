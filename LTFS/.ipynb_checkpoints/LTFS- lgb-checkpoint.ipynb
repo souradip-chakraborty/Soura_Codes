{
 "cells": [
  {
   "cell_type": "code",
   "execution_count": 311,
   "metadata": {},
   "outputs": [],
   "source": [
    "import numpy as np\n",
    "import pandas as pd \n",
    "import matplotlib.pyplot as plt\n",
    "import seaborn as sns\n",
    "sns.set(style=\"whitegrid\")\n",
    "np.random.seed(203)\n",
    "from tqdm import tqdm\n",
    "import datetime\n",
    "import re\n",
    "\n",
    "from sklearn.model_selection import train_test_split \n",
    "from sklearn.preprocessing import StandardScaler\n",
    "from sklearn.linear_model import LogisticRegression\n",
    "from sklearn.metrics import classification_report, accuracy_score\n",
    "from sklearn.manifold import TSNE\n",
    "from sklearn import preprocessing\n",
    "from sklearn.preprocessing import LabelEncoder\n",
    "\n",
    "import tensorflow as tf\n",
    "from keras.models import Model\n",
    "from keras.layers import Input, Dropout, Dense, concatenate, Embedding\n",
    "from keras.layers import BatchNormalization, Flatten, Activation\n",
    "from keras.callbacks import Callback, ModelCheckpoint, EarlyStopping, ReduceLROnPlateau\n",
    "from keras import backend as K\n",
    "from keras.utils import to_categorical\n",
    "from keras.optimizers import RMSprop, Adam"
   ]
  },
  {
   "cell_type": "code",
   "execution_count": 6,
   "metadata": {},
   "outputs": [],
   "source": [
    "train_data = pd.read_csv('/Users/s0c02nj/Desktop/LTFS/train_aox2Jxw/train.csv')\n",
    "test_data =  pd.read_csv('/Users/s0c02nj/Desktop/LTFS/test_bqCt9Pv.csv')\n",
    "sub_data = pd.read_csv('/Users/s0c02nj/Desktop/LTFS/sample_submission_24jSKY6.csv')"
   ]
  },
  {
   "cell_type": "code",
   "execution_count": 7,
   "metadata": {},
   "outputs": [
    {
     "data": {
      "text/plain": [
       "(233154, 41)"
      ]
     },
     "execution_count": 7,
     "metadata": {},
     "output_type": "execute_result"
    }
   ],
   "source": [
    "train_data.shape"
   ]
  },
  {
   "cell_type": "code",
   "execution_count": 5,
   "metadata": {},
   "outputs": [
    {
     "data": {
      "text/plain": [
       "233154"
      ]
     },
     "execution_count": 5,
     "metadata": {},
     "output_type": "execute_result"
    }
   ],
   "source": [
    "len(train_data['UniqueID'].unique())  "
   ]
  },
  {
   "cell_type": "code",
   "execution_count": 12,
   "metadata": {},
   "outputs": [
    {
     "name": "stdout",
     "output_type": "stream",
     "text": [
      "112392\n",
      "(112392, 40)\n"
     ]
    }
   ],
   "source": [
    "print (len(test_data['UniqueID'].unique()))\n",
    "print (test_data.shape)"
   ]
  },
  {
   "cell_type": "markdown",
   "metadata": {},
   "source": [
    "+ All train ids are unique\n",
    "+ All test ids are unique"
   ]
  },
  {
   "cell_type": "code",
   "execution_count": 13,
   "metadata": {},
   "outputs": [
    {
     "data": {
      "text/plain": [
       "set()"
      ]
     },
     "execution_count": 13,
     "metadata": {},
     "output_type": "execute_result"
    }
   ],
   "source": [
    "set(test_data['UniqueID']).intersection(set(train_data['UniqueID']))"
   ]
  },
  {
   "cell_type": "markdown",
   "metadata": {},
   "source": [
    "+ Test and Train no ids are common\n",
    "+ Employment.Type Missing all other variables have values\n",
    "+ 40 columns including id "
   ]
  },
  {
   "cell_type": "code",
   "execution_count": 39,
   "metadata": {
    "scrolled": true
   },
   "outputs": [],
   "source": [
    "#train_data.isna().sum()\n",
    "#test_data.isna().sum()\n"
   ]
  },
  {
   "cell_type": "code",
   "execution_count": 47,
   "metadata": {},
   "outputs": [],
   "source": [
    "col_names = list(train_data.columns)\n",
    "col_names.remove('UniqueID')\n",
    "col_names.remove('loan_default')"
   ]
  },
  {
   "cell_type": "code",
   "execution_count": null,
   "metadata": {},
   "outputs": [],
   "source": []
  },
  {
   "cell_type": "code",
   "execution_count": 48,
   "metadata": {},
   "outputs": [
    {
     "name": "stderr",
     "output_type": "stream",
     "text": [
      "100%|██████████| 39/39 [00:00<00:00, 221.44it/s]\n"
     ]
    }
   ],
   "source": [
    "train_count=[]\n",
    "for col in tqdm(col_names):\n",
    "    val = len(train_data[col].unique())\n",
    "    train_count.append((col,val))"
   ]
  },
  {
   "cell_type": "code",
   "execution_count": 51,
   "metadata": {},
   "outputs": [
    {
     "data": {
      "text/plain": [
       "[('disbursed_amount', 24565),\n",
       " ('asset_cost', 46252),\n",
       " ('ltv', 6579),\n",
       " ('branch_id', 82),\n",
       " ('supplier_id', 2953),\n",
       " ('manufacturer_id', 11),\n",
       " ('Current_pincode_ID', 6698),\n",
       " ('Date.of.Birth', 15433),\n",
       " ('Employment.Type', 3),\n",
       " ('DisbursalDate', 84),\n",
       " ('State_ID', 22),\n",
       " ('Employee_code_ID', 3270),\n",
       " ('MobileNo_Avl_Flag', 1),\n",
       " ('Aadhar_flag', 2),\n",
       " ('PAN_flag', 2),\n",
       " ('VoterID_flag', 2),\n",
       " ('Driving_flag', 2),\n",
       " ('Passport_flag', 2),\n",
       " ('PERFORM_CNS.SCORE', 573),\n",
       " ('PERFORM_CNS.SCORE.DESCRIPTION', 20),\n",
       " ('PRI.NO.OF.ACCTS', 108),\n",
       " ('PRI.ACTIVE.ACCTS', 40),\n",
       " ('PRI.OVERDUE.ACCTS', 22),\n",
       " ('PRI.CURRENT.BALANCE', 71341),\n",
       " ('PRI.SANCTIONED.AMOUNT', 44390),\n",
       " ('PRI.DISBURSED.AMOUNT', 47909),\n",
       " ('SEC.NO.OF.ACCTS', 37),\n",
       " ('SEC.ACTIVE.ACCTS', 23),\n",
       " ('SEC.OVERDUE.ACCTS', 9),\n",
       " ('SEC.CURRENT.BALANCE', 3246),\n",
       " ('SEC.SANCTIONED.AMOUNT', 2223),\n",
       " ('SEC.DISBURSED.AMOUNT', 2553),\n",
       " ('PRIMARY.INSTAL.AMT', 28067),\n",
       " ('SEC.INSTAL.AMT', 1918),\n",
       " ('NEW.ACCTS.IN.LAST.SIX.MONTHS', 26),\n",
       " ('DELINQUENT.ACCTS.IN.LAST.SIX.MONTHS', 14),\n",
       " ('AVERAGE.ACCT.AGE', 192),\n",
       " ('CREDIT.HISTORY.LENGTH', 294),\n",
       " ('NO.OF_INQUIRIES', 25)]"
      ]
     },
     "execution_count": 51,
     "metadata": {},
     "output_type": "execute_result"
    }
   ],
   "source": [
    "train_count"
   ]
  },
  {
   "cell_type": "code",
   "execution_count": 50,
   "metadata": {},
   "outputs": [
    {
     "name": "stderr",
     "output_type": "stream",
     "text": [
      "100%|██████████| 39/39 [00:00<00:00, 490.42it/s]\n"
     ]
    }
   ],
   "source": [
    "test_count=[]\n",
    "for col in tqdm(col_names):\n",
    "    val = len(test_data[col].unique())\n",
    "    test_count.append((col,val))"
   ]
  },
  {
   "cell_type": "code",
   "execution_count": 52,
   "metadata": {},
   "outputs": [
    {
     "data": {
      "text/plain": [
       "[('disbursed_amount', 14525),\n",
       " ('asset_cost', 29383),\n",
       " ('ltv', 5902),\n",
       " ('branch_id', 82),\n",
       " ('supplier_id', 2863),\n",
       " ('manufacturer_id', 11),\n",
       " ('Current_pincode_ID', 6202),\n",
       " ('Date.of.Birth', 14052),\n",
       " ('Employment.Type', 3),\n",
       " ('DisbursalDate', 27),\n",
       " ('State_ID', 22),\n",
       " ('Employee_code_ID', 3143),\n",
       " ('MobileNo_Avl_Flag', 1),\n",
       " ('Aadhar_flag', 2),\n",
       " ('PAN_flag', 2),\n",
       " ('VoterID_flag', 2),\n",
       " ('Driving_flag', 2),\n",
       " ('Passport_flag', 2),\n",
       " ('PERFORM_CNS.SCORE', 566),\n",
       " ('PERFORM_CNS.SCORE.DESCRIPTION', 19),\n",
       " ('PRI.NO.OF.ACCTS', 83),\n",
       " ('PRI.ACTIVE.ACCTS', 32),\n",
       " ('PRI.OVERDUE.ACCTS', 16),\n",
       " ('PRI.CURRENT.BALANCE', 35550),\n",
       " ('PRI.SANCTIONED.AMOUNT', 21721),\n",
       " ('PRI.DISBURSED.AMOUNT', 23343),\n",
       " ('SEC.NO.OF.ACCTS', 23),\n",
       " ('SEC.ACTIVE.ACCTS', 15),\n",
       " ('SEC.OVERDUE.ACCTS', 7),\n",
       " ('SEC.CURRENT.BALANCE', 742),\n",
       " ('SEC.SANCTIONED.AMOUNT', 610),\n",
       " ('SEC.DISBURSED.AMOUNT', 663),\n",
       " ('PRIMARY.INSTAL.AMT', 17125),\n",
       " ('SEC.INSTAL.AMT', 470),\n",
       " ('NEW.ACCTS.IN.LAST.SIX.MONTHS', 20),\n",
       " ('DELINQUENT.ACCTS.IN.LAST.SIX.MONTHS', 13),\n",
       " ('AVERAGE.ACCT.AGE', 176),\n",
       " ('CREDIT.HISTORY.LENGTH', 252),\n",
       " ('NO.OF_INQUIRIES', 22)]"
      ]
     },
     "execution_count": 52,
     "metadata": {},
     "output_type": "execute_result"
    }
   ],
   "source": [
    "test_count"
   ]
  },
  {
   "cell_type": "code",
   "execution_count": 139,
   "metadata": {},
   "outputs": [],
   "source": [
    "x_train = train_data.drop('loan_default',axis=1)\n",
    "y_def = train_data['loan_default']"
   ]
  },
  {
   "cell_type": "code",
   "execution_count": 140,
   "metadata": {},
   "outputs": [],
   "source": [
    "x_comb = pd.concat([x_train,test_data])"
   ]
  },
  {
   "cell_type": "code",
   "execution_count": 141,
   "metadata": {},
   "outputs": [],
   "source": [
    "x_comb = x_comb.replace(np.nan, 'unknown', regex=True)"
   ]
  },
  {
   "cell_type": "code",
   "execution_count": 103,
   "metadata": {},
   "outputs": [],
   "source": [
    "a=pd.to_datetime(datetime.date.today())"
   ]
  },
  {
   "cell_type": "code",
   "execution_count": 142,
   "metadata": {},
   "outputs": [
    {
     "name": "stderr",
     "output_type": "stream",
     "text": [
      "/Users/s0c02nj/anaconda2/envs/bert/lib/python3.6/site-packages/ipykernel_launcher.py:4: FutureWarning: Comparing Series of datetimes with 'datetime.date'.  Currently, the\n",
      "'datetime.date' is coerced to a datetime. In the future pandas will\n",
      "not coerce, and a TypeError will be raised. To retain the current\n",
      "behavior, convert the 'datetime.date' to a datetime with\n",
      "'pd.Timestamp'.\n",
      "  after removing the cwd from sys.path.\n"
     ]
    }
   ],
   "source": [
    "from datetime import timedelta, date\n",
    "col = 'date'\n",
    "x_comb['Date.of.Birth'] = pd.to_datetime(x_comb['Date.of.Birth'])\n",
    "future = x_comb['Date.of.Birth'] > date(year=2050,month=1,day=1)\n",
    "x_comb.loc[future, 'Date.of.Birth'] -= timedelta(days=365.25*100)"
   ]
  },
  {
   "cell_type": "code",
   "execution_count": 146,
   "metadata": {},
   "outputs": [
    {
     "name": "stderr",
     "output_type": "stream",
     "text": [
      "/Users/s0c02nj/anaconda2/envs/bert/lib/python3.6/site-packages/ipykernel_launcher.py:4: FutureWarning: Comparing Series of datetimes with 'datetime.date'.  Currently, the\n",
      "'datetime.date' is coerced to a datetime. In the future pandas will\n",
      "not coerce, and a TypeError will be raised. To retain the current\n",
      "behavior, convert the 'datetime.date' to a datetime with\n",
      "'pd.Timestamp'.\n",
      "  after removing the cwd from sys.path.\n"
     ]
    }
   ],
   "source": [
    "from datetime import timedelta, date\n",
    "col = 'date'\n",
    "x_comb['DisbursalDate'] = pd.to_datetime(x_comb['DisbursalDate'])\n",
    "future = x_comb['DisbursalDate'] > date(year=2050,month=1,day=1)\n",
    "x_comb.loc[future, 'DisbursalDate'] -= timedelta(days=365.25*100)"
   ]
  },
  {
   "cell_type": "code",
   "execution_count": 155,
   "metadata": {},
   "outputs": [],
   "source": [
    "x_comb['age'] = 2018-x_comb['Date.of.Birth'].dt.year"
   ]
  },
  {
   "cell_type": "code",
   "execution_count": 162,
   "metadata": {},
   "outputs": [],
   "source": [
    "x_comb['disbursion_wk'] = x_comb['DisbursalDate'].dt.week\n",
    "x_comb['disbursion_mnth'] = x_comb['DisbursalDate'].dt.month\n",
    "x_comb['disbursion_day'] = x_comb['DisbursalDate'].dt.day"
   ]
  },
  {
   "cell_type": "code",
   "execution_count": 186,
   "metadata": {},
   "outputs": [],
   "source": [
    "x_comb['avg_acct_age_yr'] =  x_comb['AVERAGE.ACCT.AGE'].apply(lambda x:re.findall(r'\\d+', x)[0])\n",
    "x_comb['avg_acct_age_mon'] = x_comb['AVERAGE.ACCT.AGE'].apply(lambda x:re.findall(r'\\d+', x)[1])\n",
    "\n",
    "x_comb['cred_his_yr'] =  x_comb['CREDIT.HISTORY.LENGTH'].apply(lambda x:re.findall(r'\\d+', x)[0])\n",
    "x_comb['cred_his_mon'] = x_comb['CREDIT.HISTORY.LENGTH'].apply(lambda x:re.findall(r'\\d+', x)[1])"
   ]
  },
  {
   "cell_type": "code",
   "execution_count": 189,
   "metadata": {},
   "outputs": [],
   "source": [
    "x_comb = x_comb.drop(['Date.of.Birth', 'DisbursalDate','AVERAGE.ACCT.AGE','CREDIT.HISTORY.LENGTH'], axis=1)"
   ]
  },
  {
   "cell_type": "code",
   "execution_count": 198,
   "metadata": {},
   "outputs": [],
   "source": [
    "x_comb['DELINQUENT.ACCTS.IN.LAST.SIX.MONTHS_cat'] = x_comb['DELINQUENT.ACCTS.IN.LAST.SIX.MONTHS']"
   ]
  },
  {
   "cell_type": "code",
   "execution_count": 202,
   "metadata": {},
   "outputs": [
    {
     "data": {
      "text/plain": [
       "Index(['UniqueID', 'disbursed_amount', 'asset_cost', 'ltv', 'branch_id',\n",
       "       'supplier_id', 'manufacturer_id', 'Current_pincode_ID',\n",
       "       'Employment.Type', 'State_ID', 'Employee_code_ID', 'MobileNo_Avl_Flag',\n",
       "       'Aadhar_flag', 'PAN_flag', 'VoterID_flag', 'Driving_flag',\n",
       "       'Passport_flag', 'PERFORM_CNS.SCORE', 'PERFORM_CNS.SCORE.DESCRIPTION',\n",
       "       'PRI.NO.OF.ACCTS', 'PRI.ACTIVE.ACCTS', 'PRI.OVERDUE.ACCTS',\n",
       "       'PRI.CURRENT.BALANCE', 'PRI.SANCTIONED.AMOUNT', 'PRI.DISBURSED.AMOUNT',\n",
       "       'SEC.NO.OF.ACCTS', 'SEC.ACTIVE.ACCTS', 'SEC.OVERDUE.ACCTS',\n",
       "       'SEC.CURRENT.BALANCE', 'SEC.SANCTIONED.AMOUNT', 'SEC.DISBURSED.AMOUNT',\n",
       "       'PRIMARY.INSTAL.AMT', 'SEC.INSTAL.AMT', 'NEW.ACCTS.IN.LAST.SIX.MONTHS',\n",
       "       'DELINQUENT.ACCTS.IN.LAST.SIX.MONTHS', 'NO.OF_INQUIRIES', 'age',\n",
       "       'disbursion_wk', 'disbursion_mnth', 'disbursion_day', 'avg_acct_age_yr',\n",
       "       'avg_acct_age_mon', 'cred_his_yr', 'cred_his_mon',\n",
       "       'DELINQUENT.ACCTS.IN.LAST.SIX.MONTHS_cat'],\n",
       "      dtype='object')"
      ]
     },
     "execution_count": 202,
     "metadata": {},
     "output_type": "execute_result"
    }
   ],
   "source": [
    "x_comb.columns"
   ]
  },
  {
   "cell_type": "code",
   "execution_count": 203,
   "metadata": {},
   "outputs": [
    {
     "name": "stderr",
     "output_type": "stream",
     "text": [
      "100%|██████████| 45/45 [00:00<00:00, 155.89it/s]\n"
     ]
    }
   ],
   "source": [
    "com_count={}\n",
    "for col in tqdm(list(x_comb.columns)):\n",
    "    val = len(x_comb[col].unique())\n",
    "    com_count[col]=val"
   ]
  },
  {
   "cell_type": "code",
   "execution_count": 207,
   "metadata": {},
   "outputs": [],
   "source": [
    "total_cols = list(x_comb.columns)"
   ]
  },
  {
   "cell_type": "code",
   "execution_count": 458,
   "metadata": {},
   "outputs": [
    {
     "data": {
      "text/plain": [
       "{'NEW.ACCTS.IN.LAST.SIX.MONTHS': 26,\n",
       " 'SEC.NO.OF.ACCTS': 40,\n",
       " 'age': 48,\n",
       " 'DELINQUENT.ACCTS.IN.LAST.SIX.MONTHS': 16,\n",
       " 'NO.OF_INQUIRIES': 26,\n",
       " 'avg_acct_age_mon': 12,\n",
       " 'PRI.OVERDUE.ACCTS': 23,\n",
       " 'SEC.OVERDUE.ACCTS': 9,\n",
       " 'PERFORM_CNS.SCORE': 574,\n",
       " 'PRI.NO.OF.ACCTS': 114,\n",
       " 'SEC.INSTAL.AMT': 2295,\n",
       " 'PRI.SANCTIONED.AMOUNT': 60681,\n",
       " 'cred_his_yr': 36,\n",
       " 'ltv': 6819,\n",
       " 'PRI.DISBURSED.AMOUNT': 65673,\n",
       " 'SEC.ACTIVE.ACCTS': 23,\n",
       " 'disbursed_amount': 29271,\n",
       " 'SEC.DISBURSED.AMOUNT': 3031,\n",
       " 'PRI.ACTIVE.ACCTS': 42,\n",
       " 'cred_his_mon': 12,\n",
       " 'SEC.SANCTIONED.AMOUNT': 2631,\n",
       " 'avg_acct_age_yr': 23,\n",
       " 'PRI.CURRENT.BALANCE': 97465,\n",
       " 'asset_cost': 53158,\n",
       " 'PRIMARY.INSTAL.AMT': 34330,\n",
       " 'SEC.CURRENT.BALANCE': 3947}"
      ]
     },
     "execution_count": 458,
     "metadata": {},
     "output_type": "execute_result"
    }
   ],
   "source": [
    "com_cont"
   ]
  },
  {
   "cell_type": "code",
   "execution_count": 214,
   "metadata": {},
   "outputs": [],
   "source": [
    "cat_cols = ['branch_id','supplier_id','manufacturer_id','Current_pincode_ID','Employment.Type',\n",
    "           'State_ID','Employee_code_ID','Aadhar_flag','PAN_flag','VoterID_flag','Driving_flag','MobileNo_Avl_Flag',\n",
    "           'Passport_flag','PERFORM_CNS.SCORE.DESCRIPTION','DELINQUENT.ACCTS.IN.LAST.SIX.MONTHS_cat',\n",
    "           'disbursion_wk','disbursion_mnth','disbursion_day','']"
   ]
  },
  {
   "cell_type": "code",
   "execution_count": 215,
   "metadata": {},
   "outputs": [],
   "source": [
    "cont_cols = list(set(total_cols)-set(cat_cols))"
   ]
  },
  {
   "cell_type": "code",
   "execution_count": 432,
   "metadata": {},
   "outputs": [],
   "source": [
    "cont_cols.remove('UniqueID')"
   ]
  },
  {
   "cell_type": "markdown",
   "metadata": {},
   "source": [
    "1.Label Encoding Categorical Columns"
   ]
  },
  {
   "cell_type": "code",
   "execution_count": 433,
   "metadata": {},
   "outputs": [
    {
     "name": "stderr",
     "output_type": "stream",
     "text": [
      "100%|██████████| 18/18 [00:00<00:00, 37.96it/s]\n"
     ]
    }
   ],
   "source": [
    "for col in tqdm(cat_cols):\n",
    "    le = LabelEncoder()\n",
    "    x_comb[col] = le.fit_transform(x_comb[col])"
   ]
  },
  {
   "cell_type": "code",
   "execution_count": 434,
   "metadata": {},
   "outputs": [],
   "source": [
    "df_cat = x_comb[cat_cols]\n",
    "df_cont = x_comb[cont_cols]"
   ]
  },
  {
   "cell_type": "code",
   "execution_count": 435,
   "metadata": {},
   "outputs": [
    {
     "name": "stderr",
     "output_type": "stream",
     "text": [
      "/Users/s0c02nj/anaconda2/envs/bert/lib/python3.6/site-packages/sklearn/preprocessing/data.py:625: DataConversionWarning: Data with input dtype int64, float64, object were all converted to float64 by StandardScaler.\n",
      "  return self.partial_fit(X, y)\n",
      "/Users/s0c02nj/anaconda2/envs/bert/lib/python3.6/site-packages/sklearn/base.py:462: DataConversionWarning: Data with input dtype int64, float64, object were all converted to float64 by StandardScaler.\n",
      "  return self.fit(X, **fit_params).transform(X)\n",
      "/Users/s0c02nj/anaconda2/envs/bert/lib/python3.6/site-packages/ipykernel_launcher.py:1: SettingWithCopyWarning: \n",
      "A value is trying to be set on a copy of a slice from a DataFrame.\n",
      "Try using .loc[row_indexer,col_indexer] = value instead\n",
      "\n",
      "See the caveats in the documentation: http://pandas.pydata.org/pandas-docs/stable/indexing.html#indexing-view-versus-copy\n",
      "  \"\"\"Entry point for launching an IPython kernel.\n",
      "/Users/s0c02nj/anaconda2/envs/bert/lib/python3.6/site-packages/pandas/core/indexing.py:543: SettingWithCopyWarning: \n",
      "A value is trying to be set on a copy of a slice from a DataFrame.\n",
      "Try using .loc[row_indexer,col_indexer] = value instead\n",
      "\n",
      "See the caveats in the documentation: http://pandas.pydata.org/pandas-docs/stable/indexing.html#indexing-view-versus-copy\n",
      "  self.obj[item] = s\n"
     ]
    }
   ],
   "source": [
    "df_cont[cont_cols] = StandardScaler().fit_transform(df_cont[cont_cols])"
   ]
  },
  {
   "cell_type": "code",
   "execution_count": 436,
   "metadata": {},
   "outputs": [],
   "source": [
    "df_cont.index = range(0,len(df_cont))\n",
    "df_cat.index = range(0,len(df_cat))"
   ]
  },
  {
   "cell_type": "code",
   "execution_count": 437,
   "metadata": {},
   "outputs": [],
   "source": [
    "df_cont_train = df_cont[0:233154]\n",
    "df_cont_test = df_cont[233154:]\n",
    "\n",
    "df_cat_train = df_cat[0:233154]\n",
    "df_cat_test = df_cat[233154:]"
   ]
  },
  {
   "cell_type": "code",
   "execution_count": 438,
   "metadata": {},
   "outputs": [],
   "source": [
    "df_branch_id_train = df_cat_train['branch_id']\n",
    "df_supplier_id_train = df_cat_train['supplier_id']\n",
    "df_manufacturer_id_train = df_cat_train['manufacturer_id']\n",
    "df_Current_pincode_ID_train=df_cat_train['Current_pincode_ID']\n",
    "df_Employment_Type_train = df_cat_train['Employment.Type']\n",
    "df_State_ID_train = df_cat_train['State_ID']\n",
    "df_Employee_code_ID_train = df_cat_train['Employee_code_ID']\n",
    "df_Aadhar_flag_train = df_cat_train['Aadhar_flag']\n",
    "df_PAN_flag_train = df_cat_train['PAN_flag']\n",
    "df_VoterID_flag_train = df_cat_train['VoterID_flag']\n",
    "df_Driving_flag_train = df_cat_train['Driving_flag']\n",
    "df_Passport_flag_train = df_cat_train['Passport_flag']\n",
    "df_PERFORM_CNS_SCORE_DESCRIPTION_train = df_cat_train['PERFORM_CNS.SCORE.DESCRIPTION']\n",
    "df_DELINQUENT_ACCTS_IN_LAST_SIX_MONTHS_cat_train =df_cat_train['DELINQUENT.ACCTS.IN.LAST.SIX.MONTHS_cat']\n",
    "df_disbursion_wk_train = df_cat_train['disbursion_wk']\n",
    "df_disbursion_mnth_train = df_cat_train['disbursion_mnth']\n",
    "df_disbursion_day_train  = df_cat_train['disbursion_day']\n"
   ]
  },
  {
   "cell_type": "code",
   "execution_count": 439,
   "metadata": {},
   "outputs": [],
   "source": [
    "df_branch_id_test = df_cat_test['branch_id']\n",
    "df_supplier_id_test = df_cat_test['supplier_id']\n",
    "df_manufacturer_id_test = df_cat_test['manufacturer_id']\n",
    "df_Current_pincode_ID_test=df_cat_test['Current_pincode_ID']\n",
    "df_Employment_Type_test = df_cat_test['Employment.Type']\n",
    "df_State_ID_test = df_cat_test['State_ID']\n",
    "df_Employee_code_ID_test = df_cat_test['Employee_code_ID']\n",
    "df_Aadhar_flag_test = df_cat_test['Aadhar_flag']\n",
    "df_PAN_flag_test = df_cat_test['PAN_flag']\n",
    "df_VoterID_flag_test = df_cat_test['VoterID_flag']\n",
    "df_Driving_flag_test = df_cat_test['Driving_flag']\n",
    "df_Passport_flag_test = df_cat_test['Passport_flag']\n",
    "df_PERFORM_CNS_SCORE_DESCRIPTION_test = df_cat_test['PERFORM_CNS.SCORE.DESCRIPTION']\n",
    "df_DELINQUENT_ACCTS_IN_LAST_SIX_MONTHS_cat_test=df_cat_test['DELINQUENT.ACCTS.IN.LAST.SIX.MONTHS_cat']\n",
    "df_disbursion_wk_test = df_cat_test['disbursion_wk']\n",
    "df_disbursion_mnth_test = df_cat_test['disbursion_mnth']\n",
    "df_disbursion_day_test = df_cat_test['disbursion_day']\n"
   ]
  },
  {
   "cell_type": "code",
   "execution_count": 406,
   "metadata": {},
   "outputs": [
    {
     "data": {
      "text/plain": [
       "28"
      ]
     },
     "execution_count": 406,
     "metadata": {},
     "output_type": "execute_result"
    }
   ],
   "source": [
    "com_count['disbursion_wk']"
   ]
  },
  {
   "cell_type": "code",
   "execution_count": 440,
   "metadata": {},
   "outputs": [
    {
     "name": "stderr",
     "output_type": "stream",
     "text": [
      "100%|██████████| 26/26 [00:00<00:00, 278.32it/s]\n"
     ]
    }
   ],
   "source": [
    "com_cont={}\n",
    "for col in tqdm(list(df_cont.columns)):\n",
    "    val = len(df_cont[col].unique())\n",
    "    com_cont[col]=val"
   ]
  },
  {
   "cell_type": "code",
   "execution_count": 441,
   "metadata": {},
   "outputs": [
    {
     "data": {
      "text/plain": [
       "{'NEW.ACCTS.IN.LAST.SIX.MONTHS': 26,\n",
       " 'SEC.NO.OF.ACCTS': 40,\n",
       " 'age': 48,\n",
       " 'DELINQUENT.ACCTS.IN.LAST.SIX.MONTHS': 16,\n",
       " 'NO.OF_INQUIRIES': 26,\n",
       " 'avg_acct_age_mon': 12,\n",
       " 'PRI.OVERDUE.ACCTS': 23,\n",
       " 'SEC.OVERDUE.ACCTS': 9,\n",
       " 'PERFORM_CNS.SCORE': 574,\n",
       " 'PRI.NO.OF.ACCTS': 114,\n",
       " 'SEC.INSTAL.AMT': 2295,\n",
       " 'PRI.SANCTIONED.AMOUNT': 60681,\n",
       " 'cred_his_yr': 36,\n",
       " 'ltv': 6819,\n",
       " 'PRI.DISBURSED.AMOUNT': 65673,\n",
       " 'SEC.ACTIVE.ACCTS': 23,\n",
       " 'disbursed_amount': 29271,\n",
       " 'SEC.DISBURSED.AMOUNT': 3031,\n",
       " 'PRI.ACTIVE.ACCTS': 42,\n",
       " 'cred_his_mon': 12,\n",
       " 'SEC.SANCTIONED.AMOUNT': 2631,\n",
       " 'avg_acct_age_yr': 23,\n",
       " 'PRI.CURRENT.BALANCE': 97465,\n",
       " 'asset_cost': 53158,\n",
       " 'PRIMARY.INSTAL.AMT': 34330,\n",
       " 'SEC.CURRENT.BALANCE': 3947}"
      ]
     },
     "execution_count": 441,
     "metadata": {},
     "output_type": "execute_result"
    }
   ],
   "source": [
    "com_cont"
   ]
  },
  {
   "cell_type": "code",
   "execution_count": 442,
   "metadata": {},
   "outputs": [],
   "source": [
    "y_cat = to_categorical(y_def)"
   ]
  },
  {
   "cell_type": "code",
   "execution_count": 447,
   "metadata": {},
   "outputs": [],
   "source": [
    "def model_deep():\n",
    "    \n",
    "    #Defining the input-----> branch_id\n",
    "    inputs1 = Input(shape=(1,))\n",
    "    layer1 = Embedding(com_count['branch_id'] ,80,input_length=1,trainable=True)(inputs1)\n",
    "    layer1 = Flatten()(layer1)\n",
    "    \n",
    "    #Defining the input-----> supplier_id\n",
    "    inputs2 = Input(shape=(1,))\n",
    "    layer2 = Embedding(com_count['supplier_id'] ,3089,input_length=1,trainable=True)(inputs2)\n",
    "    layer2 = Flatten()(layer2)\n",
    "    \n",
    "    #Defining the input-----> manufacturer_id\n",
    "    inputs3 = Input(shape=(1,))\n",
    "    layer3 = Embedding(com_count['manufacturer_id'] ,12,input_length=1,trainable=True)(inputs3)\n",
    "    layer3 = Flatten()(layer3)\n",
    "    \n",
    "    #Defining the input-----> Current_pincode_ID\n",
    "    inputs4 = Input(shape=(1,))\n",
    "    layer4 = Embedding(com_count['Current_pincode_ID'] ,7096,input_length=1,trainable=True)(inputs4)\n",
    "    layer4 = Flatten()(layer4)\n",
    "    \n",
    "    #Defining the input-----> Employment.Type\n",
    "    inputs5 = Input(shape=(1,))\n",
    "    layer5 = Embedding(com_count['Employment.Type'] ,2,input_length=1,trainable=True)(inputs5)\n",
    "    layer5 = Flatten()(layer5)\n",
    "    \n",
    "    #Defining the input-----> State_ID\n",
    "    inputs6 = Input(shape=(1,))\n",
    "    layer6 = Embedding(com_count['State_ID'] ,22,input_length=1,trainable=True)(inputs6)\n",
    "    layer6 = Flatten()(layer6)\n",
    "    \n",
    "    #Defining the input-----> Employee_code_ID\n",
    "    inputs7 = Input(shape=(1,))\n",
    "    layer7 = Embedding(com_count['Employee_code_ID'] ,3398,input_length=1,trainable=True)(inputs7)\n",
    "    layer7 = Flatten()(layer7)\n",
    "    \n",
    "    #Defining the input-----> Aadhar_flag\n",
    "    inputs8 = Input(shape=(1,))\n",
    "    layer8 = Embedding(com_count['Aadhar_flag'] ,2,input_length=1,trainable=True)(inputs8)\n",
    "    layer8 = Flatten()(layer8)\n",
    "    \n",
    "    #Defining the input-----> PAN_flag\n",
    "    inputs9 = Input(shape=(1,))\n",
    "    layer9 = Embedding(com_count['PAN_flag'] ,2,input_length=1,trainable=True)(inputs9)\n",
    "    layer9 = Flatten()(layer9)\n",
    "    \n",
    "    #Defining the input-----> VoterID_flag\n",
    "    inputs10 = Input(shape=(1,))\n",
    "    layer10 = Embedding(com_count['VoterID_flag'] ,2,input_length=1,trainable=True)(inputs10)\n",
    "    layer10 = Flatten()(layer10)\n",
    "    \n",
    "    #Defining the input-----> Driving_flag\n",
    "    inputs11 = Input(shape=(1,))\n",
    "    layer11 =  Embedding(com_count['Driving_flag'] ,2,input_length=1,trainable=True)(inputs11)\n",
    "    layer11 =  Flatten()(layer11)\n",
    "    \n",
    "    #Defining the input-----> Passport_flag\n",
    "    inputs12 = Input(shape=(1,))\n",
    "    layer12 = Embedding(com_count['Passport_flag'] ,2,input_length=1,trainable=True)(inputs12)\n",
    "    layer12 = Flatten()(layer12)\n",
    "    \n",
    "    #Defining the input-----> PERFORM_CNS.SCORE.DESCRIPTION\n",
    "    inputs13 = Input(shape=(1,))\n",
    "    layer13 = Embedding(com_count['PERFORM_CNS.SCORE.DESCRIPTION'] ,20,input_length=1,trainable=True)(inputs13)\n",
    "    layer13 = Flatten()(layer13)\n",
    "    \n",
    "    #Defining the input-----> DELINQUENT.ACCTS.IN.LAST.SIX.MONTHS_cat\n",
    "    inputs14 = Input(shape=(1,))\n",
    "    layer14 = Embedding(com_count['DELINQUENT.ACCTS.IN.LAST.SIX.MONTHS_cat'] ,16,input_length=1,\n",
    "                        trainable=True)(inputs14)\n",
    "    layer14 = Flatten()(layer14)\n",
    "    \n",
    "    #Defining the input-----> disbursion_wk\n",
    "    inputs15 = Input(shape=(1,))\n",
    "    layer15 = Embedding(com_count['disbursion_wk'] ,25,input_length=1,trainable=True)(inputs15)\n",
    "    layer15 = Flatten()(layer15)\n",
    "    \n",
    "    #Defining the input-----> disbursion_mnth\n",
    "    inputs16 = Input(shape=(1,))\n",
    "    layer16 = Embedding(com_count['disbursion_mnth'] ,10,input_length=1,trainable=True)(inputs16)\n",
    "    layer16 = Flatten()(layer16)\n",
    "    \n",
    "    #Defining the input-----> disbursion_day\n",
    "    inputs17 = Input(shape=(1,))\n",
    "    layer17 = Embedding(com_count['disbursion_day'] ,15,input_length=1,trainable=True)(inputs17)\n",
    "    layer17 = Flatten()(layer17)\n",
    "    \n",
    "    #Defining the input-----> Consumer-complaint-summary\n",
    "    inputs_cont = Input(shape=(26,))\n",
    "    #layer_cont =  Dense(50, activation='relu')(inputs_cont)\n",
    "    \n",
    "    #Merge,Cocatenating the inputes\n",
    "    layer_merge= concatenate([layer1, layer2,layer3,layer4,layer5,layer6,layer7,layer8,layer9, \n",
    "                              layer10,layer11,layer12,layer13,layer14,layer15,layer16,layer17,\n",
    "                              inputs_cont])\n",
    "    \n",
    "    #Dense Layers\n",
    "    layer_dense = Dense(512, activation='relu')(layer_merge)\n",
    "    layer_dense = Dropout(0.5)(layer_dense)\n",
    "\n",
    "    #Output Layer\n",
    "    probabilities = Dense(2,activation='softmax')(layer_dense)\n",
    "\n",
    "    model = Model(inputs=[inputs1,inputs2,inputs3,inputs4,inputs5,inputs6,inputs7,inputs8,inputs9,\n",
    "                          inputs10,inputs11,inputs12,inputs13,inputs14,inputs15,inputs16,inputs17,inputs_cont]\n",
    "                          ,outputs=probabilities)\n",
    "    return model\n",
    "\n"
   ]
  },
  {
   "cell_type": "code",
   "execution_count": 448,
   "metadata": {},
   "outputs": [
    {
     "data": {
      "text/plain": [
       "(233154, 26)"
      ]
     },
     "execution_count": 448,
     "metadata": {},
     "output_type": "execute_result"
    }
   ],
   "source": [
    "df_cont_train.shape"
   ]
  },
  {
   "cell_type": "code",
   "execution_count": 449,
   "metadata": {},
   "outputs": [
    {
     "name": "stdout",
     "output_type": "stream",
     "text": [
      "__________________________________________________________________________________________________\n",
      "Layer (type)                    Output Shape         Param #     Connected to                     \n",
      "==================================================================================================\n",
      "input_253 (InputLayer)          (None, 1)            0                                            \n",
      "__________________________________________________________________________________________________\n",
      "input_254 (InputLayer)          (None, 1)            0                                            \n",
      "__________________________________________________________________________________________________\n",
      "input_255 (InputLayer)          (None, 1)            0                                            \n",
      "__________________________________________________________________________________________________\n",
      "input_256 (InputLayer)          (None, 1)            0                                            \n",
      "__________________________________________________________________________________________________\n",
      "input_257 (InputLayer)          (None, 1)            0                                            \n",
      "__________________________________________________________________________________________________\n",
      "input_258 (InputLayer)          (None, 1)            0                                            \n",
      "__________________________________________________________________________________________________\n",
      "input_259 (InputLayer)          (None, 1)            0                                            \n",
      "__________________________________________________________________________________________________\n",
      "input_260 (InputLayer)          (None, 1)            0                                            \n",
      "__________________________________________________________________________________________________\n",
      "input_261 (InputLayer)          (None, 1)            0                                            \n",
      "__________________________________________________________________________________________________\n",
      "input_262 (InputLayer)          (None, 1)            0                                            \n",
      "__________________________________________________________________________________________________\n",
      "input_263 (InputLayer)          (None, 1)            0                                            \n",
      "__________________________________________________________________________________________________\n",
      "input_264 (InputLayer)          (None, 1)            0                                            \n",
      "__________________________________________________________________________________________________\n",
      "input_265 (InputLayer)          (None, 1)            0                                            \n",
      "__________________________________________________________________________________________________\n",
      "input_266 (InputLayer)          (None, 1)            0                                            \n",
      "__________________________________________________________________________________________________\n",
      "input_267 (InputLayer)          (None, 1)            0                                            \n",
      "__________________________________________________________________________________________________\n",
      "input_268 (InputLayer)          (None, 1)            0                                            \n",
      "__________________________________________________________________________________________________\n",
      "input_269 (InputLayer)          (None, 1)            0                                            \n",
      "__________________________________________________________________________________________________\n",
      "embedding_239 (Embedding)       (None, 1, 80)        6560        input_253[0][0]                  \n",
      "__________________________________________________________________________________________________\n",
      "embedding_240 (Embedding)       (None, 1, 3089)      9541921     input_254[0][0]                  \n",
      "__________________________________________________________________________________________________\n",
      "embedding_241 (Embedding)       (None, 1, 12)        144         input_255[0][0]                  \n",
      "__________________________________________________________________________________________________\n",
      "embedding_242 (Embedding)       (None, 1, 7096)      50353216    input_256[0][0]                  \n",
      "__________________________________________________________________________________________________\n",
      "embedding_243 (Embedding)       (None, 1, 2)         6           input_257[0][0]                  \n",
      "__________________________________________________________________________________________________\n",
      "embedding_244 (Embedding)       (None, 1, 22)        484         input_258[0][0]                  \n",
      "__________________________________________________________________________________________________\n",
      "embedding_245 (Embedding)       (None, 1, 3398)      11546404    input_259[0][0]                  \n",
      "__________________________________________________________________________________________________\n",
      "embedding_246 (Embedding)       (None, 1, 2)         4           input_260[0][0]                  \n",
      "__________________________________________________________________________________________________\n",
      "embedding_247 (Embedding)       (None, 1, 2)         4           input_261[0][0]                  \n",
      "__________________________________________________________________________________________________\n",
      "embedding_248 (Embedding)       (None, 1, 2)         4           input_262[0][0]                  \n",
      "__________________________________________________________________________________________________\n",
      "embedding_249 (Embedding)       (None, 1, 2)         4           input_263[0][0]                  \n",
      "__________________________________________________________________________________________________\n",
      "embedding_250 (Embedding)       (None, 1, 2)         4           input_264[0][0]                  \n",
      "__________________________________________________________________________________________________\n",
      "embedding_251 (Embedding)       (None, 1, 20)        400         input_265[0][0]                  \n",
      "__________________________________________________________________________________________________\n",
      "embedding_252 (Embedding)       (None, 1, 16)        256         input_266[0][0]                  \n",
      "__________________________________________________________________________________________________\n",
      "embedding_253 (Embedding)       (None, 1, 25)        700         input_267[0][0]                  \n",
      "__________________________________________________________________________________________________\n",
      "embedding_254 (Embedding)       (None, 1, 10)        120         input_268[0][0]                  \n",
      "__________________________________________________________________________________________________\n",
      "embedding_255 (Embedding)       (None, 1, 15)        345         input_269[0][0]                  \n",
      "__________________________________________________________________________________________________\n",
      "flatten_239 (Flatten)           (None, 80)           0           embedding_239[0][0]              \n",
      "__________________________________________________________________________________________________\n",
      "flatten_240 (Flatten)           (None, 3089)         0           embedding_240[0][0]              \n",
      "__________________________________________________________________________________________________\n",
      "flatten_241 (Flatten)           (None, 12)           0           embedding_241[0][0]              \n",
      "__________________________________________________________________________________________________\n",
      "flatten_242 (Flatten)           (None, 7096)         0           embedding_242[0][0]              \n",
      "__________________________________________________________________________________________________\n",
      "flatten_243 (Flatten)           (None, 2)            0           embedding_243[0][0]              \n",
      "__________________________________________________________________________________________________\n",
      "flatten_244 (Flatten)           (None, 22)           0           embedding_244[0][0]              \n",
      "__________________________________________________________________________________________________\n",
      "flatten_245 (Flatten)           (None, 3398)         0           embedding_245[0][0]              \n",
      "__________________________________________________________________________________________________\n",
      "flatten_246 (Flatten)           (None, 2)            0           embedding_246[0][0]              \n",
      "__________________________________________________________________________________________________\n",
      "flatten_247 (Flatten)           (None, 2)            0           embedding_247[0][0]              \n",
      "__________________________________________________________________________________________________\n",
      "flatten_248 (Flatten)           (None, 2)            0           embedding_248[0][0]              \n",
      "__________________________________________________________________________________________________\n",
      "flatten_249 (Flatten)           (None, 2)            0           embedding_249[0][0]              \n",
      "__________________________________________________________________________________________________\n",
      "flatten_250 (Flatten)           (None, 2)            0           embedding_250[0][0]              \n",
      "__________________________________________________________________________________________________\n",
      "flatten_251 (Flatten)           (None, 20)           0           embedding_251[0][0]              \n",
      "__________________________________________________________________________________________________\n",
      "flatten_252 (Flatten)           (None, 16)           0           embedding_252[0][0]              \n",
      "__________________________________________________________________________________________________\n",
      "flatten_253 (Flatten)           (None, 25)           0           embedding_253[0][0]              \n",
      "__________________________________________________________________________________________________\n",
      "flatten_254 (Flatten)           (None, 10)           0           embedding_254[0][0]              \n",
      "__________________________________________________________________________________________________\n",
      "flatten_255 (Flatten)           (None, 15)           0           embedding_255[0][0]              \n",
      "__________________________________________________________________________________________________\n",
      "input_270 (InputLayer)          (None, 26)           0                                            \n",
      "__________________________________________________________________________________________________\n",
      "concatenate_15 (Concatenate)    (None, 13821)        0           flatten_239[0][0]                \n",
      "                                                                 flatten_240[0][0]                \n",
      "                                                                 flatten_241[0][0]                \n",
      "                                                                 flatten_242[0][0]                \n",
      "                                                                 flatten_243[0][0]                \n",
      "                                                                 flatten_244[0][0]                \n",
      "                                                                 flatten_245[0][0]                \n",
      "                                                                 flatten_246[0][0]                \n",
      "                                                                 flatten_247[0][0]                \n",
      "                                                                 flatten_248[0][0]                \n",
      "                                                                 flatten_249[0][0]                \n",
      "                                                                 flatten_250[0][0]                \n",
      "                                                                 flatten_251[0][0]                \n",
      "                                                                 flatten_252[0][0]                \n",
      "                                                                 flatten_253[0][0]                \n",
      "                                                                 flatten_254[0][0]                \n",
      "                                                                 flatten_255[0][0]                \n",
      "                                                                 input_270[0][0]                  \n",
      "__________________________________________________________________________________________________\n",
      "dense_52 (Dense)                (None, 512)          7076864     concatenate_15[0][0]             \n",
      "__________________________________________________________________________________________________\n",
      "dropout_27 (Dropout)            (None, 512)          0           dense_52[0][0]                   \n",
      "__________________________________________________________________________________________________\n",
      "dense_53 (Dense)                (None, 2)            1026        dropout_27[0][0]                 \n",
      "==================================================================================================\n",
      "Total params: 78,528,466\n",
      "Trainable params: 78,528,466\n",
      "Non-trainable params: 0\n",
      "__________________________________________________________________________________________________\n"
     ]
    }
   ],
   "source": [
    "model1 = model_deep()\n",
    "model1.summary()"
   ]
  },
  {
   "cell_type": "code",
   "execution_count": 450,
   "metadata": {},
   "outputs": [],
   "source": [
    "def auc(y_true, y_pred):\n",
    "    auc = tf.metrics.auc(y_true, y_pred)[1]\n",
    "    K.get_session().run(tf.local_variables_initializer())\n",
    "    return auc"
   ]
  },
  {
   "cell_type": "code",
   "execution_count": 451,
   "metadata": {},
   "outputs": [],
   "source": [
    "model1.compile(loss = \"binary_crossentropy\", optimizer = Adam(lr=0.001), metrics = [auc])"
   ]
  },
  {
   "cell_type": "code",
   "execution_count": 452,
   "metadata": {},
   "outputs": [
    {
     "name": "stdout",
     "output_type": "stream",
     "text": [
      "Train on 209838 samples, validate on 23316 samples\n",
      "Epoch 1/2\n",
      "209838/209838 [==============================] - 151s 719us/step - loss: 0.5175 - auc: 0.8034 - val_loss: 0.5190 - val_auc: 0.8217\n",
      "Epoch 2/2\n",
      "209838/209838 [==============================] - 157s 747us/step - loss: 0.4780 - auc: 0.8311 - val_loss: 0.5258 - val_auc: 0.8359\n"
     ]
    }
   ],
   "source": [
    "#Deep Learning Model\n",
    "history = model1.fit([df_branch_id_train,\n",
    "                     df_supplier_id_train,\n",
    "                     df_manufacturer_id_train,\n",
    "                     df_Current_pincode_ID_train,\n",
    "                     df_Employment_Type_train,\n",
    "                     df_State_ID_train,\n",
    "                     df_Employee_code_ID_train,\n",
    "                     df_Aadhar_flag_train,\n",
    "                     df_PAN_flag_train,\n",
    "                     df_VoterID_flag_train,\n",
    "                     df_Driving_flag_train,\n",
    "                     df_Passport_flag_train,\n",
    "                     df_PERFORM_CNS_SCORE_DESCRIPTION_train,\n",
    "                     df_DELINQUENT_ACCTS_IN_LAST_SIX_MONTHS_cat_train,\n",
    "                     df_disbursion_wk_train,\n",
    "                     df_disbursion_mnth_train,\n",
    "                     df_disbursion_day_train,\n",
    "                     df_cont_train] ,\n",
    "                     y_cat, batch_size = 4096, epochs = 2, validation_split=0.1, \n",
    "                     verbose = 1)\n"
   ]
  },
  {
   "cell_type": "code",
   "execution_count": 453,
   "metadata": {},
   "outputs": [],
   "source": [
    "test_pred = model1.predict([df_branch_id_test,\n",
    "                     df_supplier_id_test,\n",
    "                     df_manufacturer_id_test,\n",
    "                     df_Current_pincode_ID_test,\n",
    "                     df_Employment_Type_test,\n",
    "                     df_State_ID_test,\n",
    "                     df_Employee_code_ID_test,\n",
    "                     df_Aadhar_flag_test,\n",
    "                     df_PAN_flag_test,\n",
    "                     df_VoterID_flag_test,\n",
    "                     df_Driving_flag_test,\n",
    "                     df_Passport_flag_test,\n",
    "                     df_PERFORM_CNS_SCORE_DESCRIPTION_test,\n",
    "                     df_DELINQUENT_ACCTS_IN_LAST_SIX_MONTHS_cat_test,\n",
    "                     df_disbursion_wk_test,\n",
    "                     df_disbursion_mnth_test,\n",
    "                     df_disbursion_day_test,\n",
    "                     df_cont_test])"
   ]
  },
  {
   "cell_type": "code",
   "execution_count": 454,
   "metadata": {},
   "outputs": [],
   "source": [
    "pred_ones = test_pred[:,1]"
   ]
  },
  {
   "cell_type": "code",
   "execution_count": 455,
   "metadata": {},
   "outputs": [
    {
     "data": {
      "text/plain": [
       "array([0.4769896 , 0.5457261 , 0.27517614, ..., 0.443323  , 0.5615453 ,\n",
       "       0.25802213], dtype=float32)"
      ]
     },
     "execution_count": 455,
     "metadata": {},
     "output_type": "execute_result"
    }
   ],
   "source": [
    "pred_ones"
   ]
  },
  {
   "cell_type": "code",
   "execution_count": 422,
   "metadata": {},
   "outputs": [],
   "source": [
    "#train_data['loan_default'].value_counts()"
   ]
  },
  {
   "cell_type": "code",
   "execution_count": 423,
   "metadata": {},
   "outputs": [],
   "source": [
    "#pred_final = (pred_ones < 0.5).astype(int)"
   ]
  },
  {
   "cell_type": "code",
   "execution_count": 456,
   "metadata": {},
   "outputs": [],
   "source": [
    "sub_data['loan_default'] = pred_ones"
   ]
  },
  {
   "cell_type": "code",
   "execution_count": 457,
   "metadata": {},
   "outputs": [],
   "source": [
    "sub_data.to_csv('/Users/s0c02nj/Desktop/LTFS/Submission4.csv',index=False)"
   ]
  },
  {
   "cell_type": "code",
   "execution_count": null,
   "metadata": {},
   "outputs": [],
   "source": []
  },
  {
   "cell_type": "code",
   "execution_count": null,
   "metadata": {},
   "outputs": [],
   "source": []
  }
 ],
 "metadata": {
  "kernelspec": {
   "display_name": "Python 3",
   "language": "python",
   "name": "python3"
  },
  "language_info": {
   "codemirror_mode": {
    "name": "ipython",
    "version": 3
   },
   "file_extension": ".py",
   "mimetype": "text/x-python",
   "name": "python",
   "nbconvert_exporter": "python",
   "pygments_lexer": "ipython3",
   "version": "3.6.7"
  }
 },
 "nbformat": 4,
 "nbformat_minor": 2
}

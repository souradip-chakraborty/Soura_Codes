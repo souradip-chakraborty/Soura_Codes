{
 "cells": [
  {
   "cell_type": "code",
   "execution_count": 22,
   "metadata": {},
   "outputs": [],
   "source": [
    "import numpy as np\n",
    "import pandas as pd \n",
    "import matplotlib.pyplot as plt\n",
    "import seaborn as sns\n",
    "sns.set(style=\"whitegrid\")\n",
    "np.random.seed(203)\n",
    "from tqdm import tqdm\n",
    "import datetime\n",
    "from collections import Counter\n",
    "import re\n",
    "\n",
    "from sklearn.model_selection import train_test_split \n",
    "from sklearn.preprocessing import StandardScaler\n",
    "from sklearn.linear_model import LogisticRegression\n",
    "from sklearn.metrics import classification_report, accuracy_score\n",
    "from sklearn.manifold import TSNE\n",
    "from sklearn import preprocessing\n",
    "from sklearn.preprocessing import LabelEncoder\n",
    "\n",
    "import tensorflow as tf\n",
    "from keras.models import Model\n",
    "from keras.layers import Input, Dropout, Dense, concatenate, Embedding\n",
    "from keras.layers import BatchNormalization, Flatten, Activation\n",
    "from keras.callbacks import Callback, ModelCheckpoint, EarlyStopping, ReduceLROnPlateau\n",
    "from keras import backend as K\n",
    "from keras.utils import to_categorical\n",
    "from keras.optimizers import RMSprop, Adam"
   ]
  },
  {
   "cell_type": "code",
   "execution_count": 2,
   "metadata": {},
   "outputs": [],
   "source": [
    "train_data = pd.read_csv('/Users/s0c02nj/Desktop/LTFS/train_aox2Jxw/train.csv')\n",
    "test_data =  pd.read_csv('/Users/s0c02nj/Desktop/LTFS/test_bqCt9Pv.csv')\n",
    "sub_data = pd.read_csv('/Users/s0c02nj/Desktop/LTFS/sample_submission_24jSKY6.csv')"
   ]
  },
  {
   "cell_type": "code",
   "execution_count": 3,
   "metadata": {},
   "outputs": [
    {
     "data": {
      "text/html": [
       "<div>\n",
       "<style scoped>\n",
       "    .dataframe tbody tr th:only-of-type {\n",
       "        vertical-align: middle;\n",
       "    }\n",
       "\n",
       "    .dataframe tbody tr th {\n",
       "        vertical-align: top;\n",
       "    }\n",
       "\n",
       "    .dataframe thead th {\n",
       "        text-align: right;\n",
       "    }\n",
       "</style>\n",
       "<table border=\"1\" class=\"dataframe\">\n",
       "  <thead>\n",
       "    <tr style=\"text-align: right;\">\n",
       "      <th></th>\n",
       "      <th>UniqueID</th>\n",
       "      <th>disbursed_amount</th>\n",
       "      <th>asset_cost</th>\n",
       "      <th>ltv</th>\n",
       "      <th>branch_id</th>\n",
       "      <th>supplier_id</th>\n",
       "      <th>manufacturer_id</th>\n",
       "      <th>Current_pincode_ID</th>\n",
       "      <th>Date.of.Birth</th>\n",
       "      <th>Employment.Type</th>\n",
       "      <th>...</th>\n",
       "      <th>SEC.SANCTIONED.AMOUNT</th>\n",
       "      <th>SEC.DISBURSED.AMOUNT</th>\n",
       "      <th>PRIMARY.INSTAL.AMT</th>\n",
       "      <th>SEC.INSTAL.AMT</th>\n",
       "      <th>NEW.ACCTS.IN.LAST.SIX.MONTHS</th>\n",
       "      <th>DELINQUENT.ACCTS.IN.LAST.SIX.MONTHS</th>\n",
       "      <th>AVERAGE.ACCT.AGE</th>\n",
       "      <th>CREDIT.HISTORY.LENGTH</th>\n",
       "      <th>NO.OF_INQUIRIES</th>\n",
       "      <th>loan_default</th>\n",
       "    </tr>\n",
       "  </thead>\n",
       "  <tbody>\n",
       "    <tr>\n",
       "      <th>0</th>\n",
       "      <td>420825</td>\n",
       "      <td>50578</td>\n",
       "      <td>58400</td>\n",
       "      <td>89.55</td>\n",
       "      <td>67</td>\n",
       "      <td>22807</td>\n",
       "      <td>45</td>\n",
       "      <td>1441</td>\n",
       "      <td>01-01-84</td>\n",
       "      <td>Salaried</td>\n",
       "      <td>...</td>\n",
       "      <td>0</td>\n",
       "      <td>0</td>\n",
       "      <td>0</td>\n",
       "      <td>0</td>\n",
       "      <td>0</td>\n",
       "      <td>0</td>\n",
       "      <td>0yrs 0mon</td>\n",
       "      <td>0yrs 0mon</td>\n",
       "      <td>0</td>\n",
       "      <td>0</td>\n",
       "    </tr>\n",
       "    <tr>\n",
       "      <th>1</th>\n",
       "      <td>537409</td>\n",
       "      <td>47145</td>\n",
       "      <td>65550</td>\n",
       "      <td>73.23</td>\n",
       "      <td>67</td>\n",
       "      <td>22807</td>\n",
       "      <td>45</td>\n",
       "      <td>1502</td>\n",
       "      <td>31-07-85</td>\n",
       "      <td>Self employed</td>\n",
       "      <td>...</td>\n",
       "      <td>0</td>\n",
       "      <td>0</td>\n",
       "      <td>1991</td>\n",
       "      <td>0</td>\n",
       "      <td>0</td>\n",
       "      <td>1</td>\n",
       "      <td>1yrs 11mon</td>\n",
       "      <td>1yrs 11mon</td>\n",
       "      <td>0</td>\n",
       "      <td>1</td>\n",
       "    </tr>\n",
       "    <tr>\n",
       "      <th>2</th>\n",
       "      <td>417566</td>\n",
       "      <td>53278</td>\n",
       "      <td>61360</td>\n",
       "      <td>89.63</td>\n",
       "      <td>67</td>\n",
       "      <td>22807</td>\n",
       "      <td>45</td>\n",
       "      <td>1497</td>\n",
       "      <td>24-08-85</td>\n",
       "      <td>Self employed</td>\n",
       "      <td>...</td>\n",
       "      <td>0</td>\n",
       "      <td>0</td>\n",
       "      <td>0</td>\n",
       "      <td>0</td>\n",
       "      <td>0</td>\n",
       "      <td>0</td>\n",
       "      <td>0yrs 0mon</td>\n",
       "      <td>0yrs 0mon</td>\n",
       "      <td>0</td>\n",
       "      <td>0</td>\n",
       "    </tr>\n",
       "    <tr>\n",
       "      <th>3</th>\n",
       "      <td>624493</td>\n",
       "      <td>57513</td>\n",
       "      <td>66113</td>\n",
       "      <td>88.48</td>\n",
       "      <td>67</td>\n",
       "      <td>22807</td>\n",
       "      <td>45</td>\n",
       "      <td>1501</td>\n",
       "      <td>30-12-93</td>\n",
       "      <td>Self employed</td>\n",
       "      <td>...</td>\n",
       "      <td>0</td>\n",
       "      <td>0</td>\n",
       "      <td>31</td>\n",
       "      <td>0</td>\n",
       "      <td>0</td>\n",
       "      <td>0</td>\n",
       "      <td>0yrs 8mon</td>\n",
       "      <td>1yrs 3mon</td>\n",
       "      <td>1</td>\n",
       "      <td>1</td>\n",
       "    </tr>\n",
       "    <tr>\n",
       "      <th>4</th>\n",
       "      <td>539055</td>\n",
       "      <td>52378</td>\n",
       "      <td>60300</td>\n",
       "      <td>88.39</td>\n",
       "      <td>67</td>\n",
       "      <td>22807</td>\n",
       "      <td>45</td>\n",
       "      <td>1495</td>\n",
       "      <td>09-12-77</td>\n",
       "      <td>Self employed</td>\n",
       "      <td>...</td>\n",
       "      <td>0</td>\n",
       "      <td>0</td>\n",
       "      <td>0</td>\n",
       "      <td>0</td>\n",
       "      <td>0</td>\n",
       "      <td>0</td>\n",
       "      <td>0yrs 0mon</td>\n",
       "      <td>0yrs 0mon</td>\n",
       "      <td>1</td>\n",
       "      <td>1</td>\n",
       "    </tr>\n",
       "  </tbody>\n",
       "</table>\n",
       "<p>5 rows × 41 columns</p>\n",
       "</div>"
      ],
      "text/plain": [
       "   UniqueID  disbursed_amount  asset_cost    ltv  branch_id  supplier_id  \\\n",
       "0    420825             50578       58400  89.55         67        22807   \n",
       "1    537409             47145       65550  73.23         67        22807   \n",
       "2    417566             53278       61360  89.63         67        22807   \n",
       "3    624493             57513       66113  88.48         67        22807   \n",
       "4    539055             52378       60300  88.39         67        22807   \n",
       "\n",
       "   manufacturer_id  Current_pincode_ID Date.of.Birth Employment.Type  \\\n",
       "0               45                1441      01-01-84        Salaried   \n",
       "1               45                1502      31-07-85   Self employed   \n",
       "2               45                1497      24-08-85   Self employed   \n",
       "3               45                1501      30-12-93   Self employed   \n",
       "4               45                1495      09-12-77   Self employed   \n",
       "\n",
       "       ...      SEC.SANCTIONED.AMOUNT  SEC.DISBURSED.AMOUNT  \\\n",
       "0      ...                          0                     0   \n",
       "1      ...                          0                     0   \n",
       "2      ...                          0                     0   \n",
       "3      ...                          0                     0   \n",
       "4      ...                          0                     0   \n",
       "\n",
       "   PRIMARY.INSTAL.AMT  SEC.INSTAL.AMT  NEW.ACCTS.IN.LAST.SIX.MONTHS  \\\n",
       "0                   0               0                             0   \n",
       "1                1991               0                             0   \n",
       "2                   0               0                             0   \n",
       "3                  31               0                             0   \n",
       "4                   0               0                             0   \n",
       "\n",
       "   DELINQUENT.ACCTS.IN.LAST.SIX.MONTHS  AVERAGE.ACCT.AGE  \\\n",
       "0                                    0         0yrs 0mon   \n",
       "1                                    1        1yrs 11mon   \n",
       "2                                    0         0yrs 0mon   \n",
       "3                                    0         0yrs 8mon   \n",
       "4                                    0         0yrs 0mon   \n",
       "\n",
       "   CREDIT.HISTORY.LENGTH  NO.OF_INQUIRIES  loan_default  \n",
       "0              0yrs 0mon                0             0  \n",
       "1             1yrs 11mon                0             1  \n",
       "2              0yrs 0mon                0             0  \n",
       "3              1yrs 3mon                1             1  \n",
       "4              0yrs 0mon                1             1  \n",
       "\n",
       "[5 rows x 41 columns]"
      ]
     },
     "execution_count": 3,
     "metadata": {},
     "output_type": "execute_result"
    }
   ],
   "source": [
    "train_data.head()"
   ]
  },
  {
   "cell_type": "code",
   "execution_count": 5,
   "metadata": {},
   "outputs": [],
   "source": [
    "x_train = train_data.drop('loan_default',axis=1)\n",
    "y_def = train_data['loan_default']"
   ]
  },
  {
   "cell_type": "code",
   "execution_count": 6,
   "metadata": {},
   "outputs": [],
   "source": [
    "x_train = x_train.drop('UniqueID',axis=1)\n",
    "x_test = test_data.drop('UniqueID',axis=1)"
   ]
  },
  {
   "cell_type": "code",
   "execution_count": 7,
   "metadata": {},
   "outputs": [],
   "source": [
    "x_comb = pd.concat([x_train,x_test],sort=False)"
   ]
  },
  {
   "cell_type": "code",
   "execution_count": 8,
   "metadata": {},
   "outputs": [],
   "source": [
    "x_comb = x_comb.replace(np.nan, 'unknown', regex=True)"
   ]
  },
  {
   "cell_type": "code",
   "execution_count": 9,
   "metadata": {},
   "outputs": [
    {
     "name": "stderr",
     "output_type": "stream",
     "text": [
      "/Users/s0c02nj/anaconda2/envs/bert/lib/python3.6/site-packages/ipykernel_launcher.py:4: FutureWarning: Comparing Series of datetimes with 'datetime.date'.  Currently, the\n",
      "'datetime.date' is coerced to a datetime. In the future pandas will\n",
      "not coerce, and a TypeError will be raised. To retain the current\n",
      "behavior, convert the 'datetime.date' to a datetime with\n",
      "'pd.Timestamp'.\n",
      "  after removing the cwd from sys.path.\n"
     ]
    }
   ],
   "source": [
    "from datetime import timedelta, date\n",
    "col = 'date'\n",
    "x_comb['Date.of.Birth'] = pd.to_datetime(x_comb['Date.of.Birth'])\n",
    "future = x_comb['Date.of.Birth'] > date(year=2050,month=1,day=1)\n",
    "x_comb.loc[future, 'Date.of.Birth'] -= timedelta(days=365.25*100)"
   ]
  },
  {
   "cell_type": "code",
   "execution_count": 10,
   "metadata": {},
   "outputs": [
    {
     "name": "stderr",
     "output_type": "stream",
     "text": [
      "/Users/s0c02nj/anaconda2/envs/bert/lib/python3.6/site-packages/ipykernel_launcher.py:4: FutureWarning: Comparing Series of datetimes with 'datetime.date'.  Currently, the\n",
      "'datetime.date' is coerced to a datetime. In the future pandas will\n",
      "not coerce, and a TypeError will be raised. To retain the current\n",
      "behavior, convert the 'datetime.date' to a datetime with\n",
      "'pd.Timestamp'.\n",
      "  after removing the cwd from sys.path.\n"
     ]
    }
   ],
   "source": [
    "from datetime import timedelta, date\n",
    "col = 'date'\n",
    "x_comb['DisbursalDate'] = pd.to_datetime(x_comb['DisbursalDate'])\n",
    "future = x_comb['DisbursalDate'] > date(year=2050,month=1,day=1)\n",
    "x_comb.loc[future, 'DisbursalDate'] -= timedelta(days=365.25*100)"
   ]
  },
  {
   "cell_type": "code",
   "execution_count": 11,
   "metadata": {},
   "outputs": [],
   "source": [
    "x_comb['age'] = 2018-x_comb['Date.of.Birth'].dt.year"
   ]
  },
  {
   "cell_type": "code",
   "execution_count": 12,
   "metadata": {},
   "outputs": [],
   "source": [
    "x_comb['disbursion_wk'] = x_comb['DisbursalDate'].dt.week\n",
    "x_comb['disbursion_mnth'] = x_comb['DisbursalDate'].dt.month\n",
    "x_comb['disbursion_day'] = x_comb['DisbursalDate'].dt.day"
   ]
  },
  {
   "cell_type": "code",
   "execution_count": 13,
   "metadata": {},
   "outputs": [],
   "source": [
    "x_comb['avg_acct_age_yr'] =  x_comb['AVERAGE.ACCT.AGE'].apply(lambda x:re.findall(r'\\d+', x)[0]).astype(int)\n",
    "x_comb['avg_acct_age_mon'] = x_comb['AVERAGE.ACCT.AGE'].apply(lambda x:re.findall(r'\\d+', x)[1]).astype(int)\n",
    "\n",
    "x_comb['cred_his_yr'] =  x_comb['CREDIT.HISTORY.LENGTH'].apply(lambda x:re.findall(r'\\d+', x)[0]).astype(int)\n",
    "x_comb['cred_his_mon'] = x_comb['CREDIT.HISTORY.LENGTH'].apply(lambda x:re.findall(r'\\d+', x)[1]).astype(int)"
   ]
  },
  {
   "cell_type": "code",
   "execution_count": 14,
   "metadata": {},
   "outputs": [],
   "source": [
    "x_comb = x_comb.drop(['Date.of.Birth', 'DisbursalDate','AVERAGE.ACCT.AGE','CREDIT.HISTORY.LENGTH'], axis=1)"
   ]
  },
  {
   "cell_type": "code",
   "execution_count": 15,
   "metadata": {},
   "outputs": [],
   "source": [
    "x_comb['DELINQUENT.ACCTS.IN.LAST.SIX.MONTHS_cat'] = x_comb['DELINQUENT.ACCTS.IN.LAST.SIX.MONTHS']"
   ]
  },
  {
   "cell_type": "code",
   "execution_count": null,
   "metadata": {},
   "outputs": [],
   "source": [
    "x_comb.columns"
   ]
  },
  {
   "cell_type": "code",
   "execution_count": 16,
   "metadata": {},
   "outputs": [
    {
     "name": "stderr",
     "output_type": "stream",
     "text": [
      "100%|██████████| 44/44 [00:00<00:00, 280.53it/s]\n"
     ]
    }
   ],
   "source": [
    "com_count={}\n",
    "for col in tqdm(list(x_comb.columns)):\n",
    "    val = len(x_comb[col].unique())\n",
    "    com_count[col]=val"
   ]
  },
  {
   "cell_type": "code",
   "execution_count": 17,
   "metadata": {},
   "outputs": [],
   "source": [
    "total_cols = list(x_comb.columns)"
   ]
  },
  {
   "cell_type": "code",
   "execution_count": 56,
   "metadata": {},
   "outputs": [],
   "source": [
    "cat_cols = ['branch_id','supplier_id','manufacturer_id','Current_pincode_ID','Employment.Type',\n",
    "           'State_ID','Employee_code_ID','Aadhar_flag','PAN_flag','VoterID_flag','Driving_flag','MobileNo_Avl_Flag',\n",
    "           'Passport_flag','PERFORM_CNS.SCORE.DESCRIPTION','DELINQUENT.ACCTS.IN.LAST.SIX.MONTHS_cat',\n",
    "           'disbursion_wk','disbursion_mnth','disbursion_day']"
   ]
  },
  {
   "cell_type": "code",
   "execution_count": null,
   "metadata": {},
   "outputs": [],
   "source": []
  },
  {
   "cell_type": "code",
   "execution_count": 57,
   "metadata": {},
   "outputs": [],
   "source": [
    "cont_cols = list(set(total_cols)-set(cat_cols))"
   ]
  },
  {
   "cell_type": "code",
   "execution_count": 58,
   "metadata": {},
   "outputs": [
    {
     "name": "stderr",
     "output_type": "stream",
     "text": [
      "26it [00:04,  5.56it/s]\n"
     ]
    }
   ],
   "source": [
    "for i,col in tqdm(enumerate(cont_cols)):\n",
    "    counter = Counter(x_comb[col])\n",
    "    x_comb[str(col)+'count'] = x_comb[col].apply(lambda x:counter[x])"
   ]
  },
  {
   "cell_type": "code",
   "execution_count": 59,
   "metadata": {},
   "outputs": [],
   "source": [
    "cont_cols_new = list(set(list(x_comb.columns))-set(cat_cols))"
   ]
  },
  {
   "cell_type": "code",
   "execution_count": null,
   "metadata": {},
   "outputs": [],
   "source": []
  },
  {
   "cell_type": "markdown",
   "metadata": {},
   "source": [
    "1.Label Encoding Categorical Columns"
   ]
  },
  {
   "cell_type": "code",
   "execution_count": 60,
   "metadata": {},
   "outputs": [
    {
     "name": "stderr",
     "output_type": "stream",
     "text": [
      "100%|██████████| 18/18 [00:00<00:00, 56.92it/s]\n"
     ]
    }
   ],
   "source": [
    "for col in tqdm(cat_cols):\n",
    "    le = LabelEncoder()\n",
    "    x_comb[col] = le.fit_transform(x_comb[col])"
   ]
  },
  {
   "cell_type": "code",
   "execution_count": 61,
   "metadata": {},
   "outputs": [],
   "source": [
    "df_cat = x_comb[cat_cols]\n",
    "df_cont = x_comb[cont_cols_new]"
   ]
  },
  {
   "cell_type": "code",
   "execution_count": 62,
   "metadata": {},
   "outputs": [
    {
     "name": "stderr",
     "output_type": "stream",
     "text": [
      "/Users/s0c02nj/anaconda2/envs/bert/lib/python3.6/site-packages/sklearn/preprocessing/data.py:625: DataConversionWarning: Data with input dtype int64, float64 were all converted to float64 by StandardScaler.\n",
      "  return self.partial_fit(X, y)\n",
      "/Users/s0c02nj/anaconda2/envs/bert/lib/python3.6/site-packages/sklearn/base.py:462: DataConversionWarning: Data with input dtype int64, float64 were all converted to float64 by StandardScaler.\n",
      "  return self.fit(X, **fit_params).transform(X)\n",
      "/Users/s0c02nj/anaconda2/envs/bert/lib/python3.6/site-packages/ipykernel_launcher.py:1: SettingWithCopyWarning: \n",
      "A value is trying to be set on a copy of a slice from a DataFrame.\n",
      "Try using .loc[row_indexer,col_indexer] = value instead\n",
      "\n",
      "See the caveats in the documentation: http://pandas.pydata.org/pandas-docs/stable/indexing.html#indexing-view-versus-copy\n",
      "  \"\"\"Entry point for launching an IPython kernel.\n",
      "/Users/s0c02nj/anaconda2/envs/bert/lib/python3.6/site-packages/pandas/core/indexing.py:543: SettingWithCopyWarning: \n",
      "A value is trying to be set on a copy of a slice from a DataFrame.\n",
      "Try using .loc[row_indexer,col_indexer] = value instead\n",
      "\n",
      "See the caveats in the documentation: http://pandas.pydata.org/pandas-docs/stable/indexing.html#indexing-view-versus-copy\n",
      "  self.obj[item] = s\n"
     ]
    }
   ],
   "source": [
    "df_cont[cont_cols] = StandardScaler().fit_transform(df_cont[cont_cols])"
   ]
  },
  {
   "cell_type": "code",
   "execution_count": 63,
   "metadata": {},
   "outputs": [],
   "source": [
    "df_cont.index = range(0,len(df_cont))\n",
    "df_cat.index = range(0,len(df_cat))"
   ]
  },
  {
   "cell_type": "code",
   "execution_count": 64,
   "metadata": {},
   "outputs": [],
   "source": [
    "df_cont_train = df_cont[0:233154]\n",
    "df_cont_test = df_cont[233154:]\n",
    "\n",
    "df_cat_train = df_cat[0:233154]\n",
    "df_cat_test = df_cat[233154:]"
   ]
  },
  {
   "cell_type": "code",
   "execution_count": null,
   "metadata": {},
   "outputs": [],
   "source": []
  },
  {
   "cell_type": "code",
   "execution_count": 65,
   "metadata": {},
   "outputs": [],
   "source": [
    "df_branch_id_train = df_cat_train['branch_id']\n",
    "df_supplier_id_train = df_cat_train['supplier_id']\n",
    "df_manufacturer_id_train = df_cat_train['manufacturer_id']\n",
    "df_Current_pincode_ID_train=df_cat_train['Current_pincode_ID']\n",
    "df_Employment_Type_train = df_cat_train['Employment.Type']\n",
    "df_State_ID_train = df_cat_train['State_ID']\n",
    "df_Employee_code_ID_train = df_cat_train['Employee_code_ID']\n",
    "df_Aadhar_flag_train = df_cat_train['Aadhar_flag']\n",
    "df_PAN_flag_train = df_cat_train['PAN_flag']\n",
    "df_VoterID_flag_train = df_cat_train['VoterID_flag']\n",
    "df_Driving_flag_train = df_cat_train['Driving_flag']\n",
    "df_Passport_flag_train = df_cat_train['Passport_flag']\n",
    "df_PERFORM_CNS_SCORE_DESCRIPTION_train = df_cat_train['PERFORM_CNS.SCORE.DESCRIPTION']\n",
    "df_DELINQUENT_ACCTS_IN_LAST_SIX_MONTHS_cat_train =df_cat_train['DELINQUENT.ACCTS.IN.LAST.SIX.MONTHS_cat']\n",
    "df_disbursion_wk_train = df_cat_train['disbursion_wk']\n",
    "df_disbursion_mnth_train = df_cat_train['disbursion_mnth']\n",
    "df_disbursion_day_train  = df_cat_train['disbursion_day']\n"
   ]
  },
  {
   "cell_type": "code",
   "execution_count": 66,
   "metadata": {},
   "outputs": [],
   "source": [
    "df_branch_id_test = df_cat_test['branch_id']\n",
    "df_supplier_id_test = df_cat_test['supplier_id']\n",
    "df_manufacturer_id_test = df_cat_test['manufacturer_id']\n",
    "df_Current_pincode_ID_test=df_cat_test['Current_pincode_ID']\n",
    "df_Employment_Type_test = df_cat_test['Employment.Type']\n",
    "df_State_ID_test = df_cat_test['State_ID']\n",
    "df_Employee_code_ID_test = df_cat_test['Employee_code_ID']\n",
    "df_Aadhar_flag_test = df_cat_test['Aadhar_flag']\n",
    "df_PAN_flag_test = df_cat_test['PAN_flag']\n",
    "df_VoterID_flag_test = df_cat_test['VoterID_flag']\n",
    "df_Driving_flag_test = df_cat_test['Driving_flag']\n",
    "df_Passport_flag_test = df_cat_test['Passport_flag']\n",
    "df_PERFORM_CNS_SCORE_DESCRIPTION_test = df_cat_test['PERFORM_CNS.SCORE.DESCRIPTION']\n",
    "df_DELINQUENT_ACCTS_IN_LAST_SIX_MONTHS_cat_test=df_cat_test['DELINQUENT.ACCTS.IN.LAST.SIX.MONTHS_cat']\n",
    "df_disbursion_wk_test = df_cat_test['disbursion_wk']\n",
    "df_disbursion_mnth_test = df_cat_test['disbursion_mnth']\n",
    "df_disbursion_day_test = df_cat_test['disbursion_day']\n"
   ]
  },
  {
   "cell_type": "code",
   "execution_count": null,
   "metadata": {},
   "outputs": [],
   "source": []
  },
  {
   "cell_type": "code",
   "execution_count": 67,
   "metadata": {},
   "outputs": [
    {
     "name": "stderr",
     "output_type": "stream",
     "text": [
      "100%|██████████| 54/54 [00:00<00:00, 320.49it/s]\n"
     ]
    }
   ],
   "source": [
    "com_cont={}\n",
    "for col in tqdm(list(df_cont.columns)):\n",
    "    val = len(df_cont[col].unique())\n",
    "    com_cont[col]=val"
   ]
  },
  {
   "cell_type": "code",
   "execution_count": 68,
   "metadata": {},
   "outputs": [],
   "source": [
    "#com_cont"
   ]
  },
  {
   "cell_type": "code",
   "execution_count": 69,
   "metadata": {},
   "outputs": [],
   "source": [
    "y_cat = to_categorical(y_def)"
   ]
  },
  {
   "cell_type": "code",
   "execution_count": 72,
   "metadata": {},
   "outputs": [],
   "source": [
    "def model_deep():\n",
    "    \n",
    "    #Defining the input-----> branch_id\n",
    "    inputs1 = Input(shape=(1,))\n",
    "    layer1 = Embedding(com_count['branch_id'] ,80,input_length=1,trainable=True)(inputs1)\n",
    "    layer1 = Flatten()(layer1)\n",
    "    \n",
    "    #Defining the input-----> supplier_id\n",
    "    inputs2 = Input(shape=(1,))\n",
    "    layer2 = Embedding(com_count['supplier_id'] ,3089,input_length=1,trainable=True)(inputs2)\n",
    "    layer2 = Flatten()(layer2)\n",
    "    \n",
    "    #Defining the input-----> manufacturer_id\n",
    "    inputs3 = Input(shape=(1,))\n",
    "    layer3 = Embedding(com_count['manufacturer_id'] ,12,input_length=1,trainable=True)(inputs3)\n",
    "    layer3 = Flatten()(layer3)\n",
    "    \n",
    "    #Defining the input-----> Current_pincode_ID\n",
    "    inputs4 = Input(shape=(1,))\n",
    "    layer4 = Embedding(com_count['Current_pincode_ID'] ,7096,input_length=1,trainable=True)(inputs4)\n",
    "    layer4 = Flatten()(layer4)\n",
    "    \n",
    "    #Defining the input-----> Employment.Type\n",
    "    inputs5 = Input(shape=(1,))\n",
    "    layer5 = Embedding(com_count['Employment.Type'] ,2,input_length=1,trainable=True)(inputs5)\n",
    "    layer5 = Flatten()(layer5)\n",
    "    \n",
    "    #Defining the input-----> State_ID\n",
    "    inputs6 = Input(shape=(1,))\n",
    "    layer6 = Embedding(com_count['State_ID'] ,22,input_length=1,trainable=True)(inputs6)\n",
    "    layer6 = Flatten()(layer6)\n",
    "    \n",
    "    #Defining the input-----> Employee_code_ID\n",
    "    inputs7 = Input(shape=(1,))\n",
    "    layer7 = Embedding(com_count['Employee_code_ID'] ,3398,input_length=1,trainable=True)(inputs7)\n",
    "    layer7 = Flatten()(layer7)\n",
    "    \n",
    "    #Defining the input-----> Aadhar_flag\n",
    "    inputs8 = Input(shape=(1,))\n",
    "    layer8 = Embedding(com_count['Aadhar_flag'] ,2,input_length=1,trainable=True)(inputs8)\n",
    "    layer8 = Flatten()(layer8)\n",
    "    \n",
    "    #Defining the input-----> PAN_flag\n",
    "    inputs9 = Input(shape=(1,))\n",
    "    layer9 = Embedding(com_count['PAN_flag'] ,2,input_length=1,trainable=True)(inputs9)\n",
    "    layer9 = Flatten()(layer9)\n",
    "    \n",
    "    #Defining the input-----> VoterID_flag\n",
    "    inputs10 = Input(shape=(1,))\n",
    "    layer10 = Embedding(com_count['VoterID_flag'] ,2,input_length=1,trainable=True)(inputs10)\n",
    "    layer10 = Flatten()(layer10)\n",
    "    \n",
    "    #Defining the input-----> Driving_flag\n",
    "    inputs11 = Input(shape=(1,))\n",
    "    layer11 =  Embedding(com_count['Driving_flag'] ,2,input_length=1,trainable=True)(inputs11)\n",
    "    layer11 =  Flatten()(layer11)\n",
    "    \n",
    "    #Defining the input-----> Passport_flag\n",
    "    inputs12 = Input(shape=(1,))\n",
    "    layer12 = Embedding(com_count['Passport_flag'] ,2,input_length=1,trainable=True)(inputs12)\n",
    "    layer12 = Flatten()(layer12)\n",
    "    \n",
    "    #Defining the input-----> PERFORM_CNS.SCORE.DESCRIPTION\n",
    "    inputs13 = Input(shape=(1,))\n",
    "    layer13 = Embedding(com_count['PERFORM_CNS.SCORE.DESCRIPTION'] ,20,input_length=1,trainable=True)(inputs13)\n",
    "    layer13 = Flatten()(layer13)\n",
    "    \n",
    "    #Defining the input-----> DELINQUENT.ACCTS.IN.LAST.SIX.MONTHS_cat\n",
    "    inputs14 = Input(shape=(1,))\n",
    "    layer14 = Embedding(com_count['DELINQUENT.ACCTS.IN.LAST.SIX.MONTHS_cat'] ,16,input_length=1,\n",
    "                        trainable=True)(inputs14)\n",
    "    layer14 = Flatten()(layer14)\n",
    "    \n",
    "    #Defining the input-----> disbursion_wk\n",
    "    inputs15 = Input(shape=(1,))\n",
    "    layer15 = Embedding(com_count['disbursion_wk'] ,25,input_length=1,trainable=True)(inputs15)\n",
    "    layer15 = Flatten()(layer15)\n",
    "    \n",
    "    #Defining the input-----> disbursion_mnth\n",
    "    inputs16 = Input(shape=(1,))\n",
    "    layer16 = Embedding(com_count['disbursion_mnth'] ,10,input_length=1,trainable=True)(inputs16)\n",
    "    layer16 = Flatten()(layer16)\n",
    "    \n",
    "    #Defining the input-----> disbursion_day\n",
    "    inputs17 = Input(shape=(1,))\n",
    "    layer17 = Embedding(com_count['disbursion_day'] ,15,input_length=1,trainable=True)(inputs17)\n",
    "    layer17 = Flatten()(layer17)\n",
    "    \n",
    "    #Defining the input-----> Consumer-complaint-summary\n",
    "    inputs_cont = Input(shape=(54,))\n",
    "    #layer_cont =  Dense(50, activation='relu')(inputs_cont)\n",
    "    \n",
    "    #Merge,Cocatenating the inputes\n",
    "    layer_merge= concatenate([layer1, layer2,layer3,layer4,layer5,layer6,layer7,layer8,layer9, \n",
    "                              layer10,layer11,layer12,layer13,layer14,layer15,layer16,layer17,\n",
    "                              inputs_cont])\n",
    "    \n",
    "    #Dense Layers\n",
    "    layer_dense = Dense(512, activation='relu')(layer_merge)\n",
    "    layer_dense = Dropout(0.5)(layer_dense)\n",
    "\n",
    "    #Output Layer\n",
    "    probabilities = Dense(2,activation='softmax')(layer_dense)\n",
    "\n",
    "    model = Model(inputs=[inputs1,inputs2,inputs3,inputs4,inputs5,inputs6,inputs7,inputs8,inputs9,\n",
    "                          inputs10,inputs11,inputs12,inputs13,inputs14,inputs15,inputs16,inputs17,inputs_cont]\n",
    "                          ,outputs=probabilities)\n",
    "    return model\n",
    "\n"
   ]
  },
  {
   "cell_type": "code",
   "execution_count": 77,
   "metadata": {},
   "outputs": [
    {
     "data": {
      "text/plain": [
       "(233154, 54)"
      ]
     },
     "execution_count": 77,
     "metadata": {},
     "output_type": "execute_result"
    }
   ],
   "source": [
    "df_cont_train.shape"
   ]
  },
  {
   "cell_type": "code",
   "execution_count": 78,
   "metadata": {},
   "outputs": [
    {
     "name": "stdout",
     "output_type": "stream",
     "text": [
      "__________________________________________________________________________________________________\n",
      "Layer (type)                    Output Shape         Param #     Connected to                     \n",
      "==================================================================================================\n",
      "input_18 (InputLayer)           (None, 1)            0                                            \n",
      "__________________________________________________________________________________________________\n",
      "input_19 (InputLayer)           (None, 1)            0                                            \n",
      "__________________________________________________________________________________________________\n",
      "input_20 (InputLayer)           (None, 1)            0                                            \n",
      "__________________________________________________________________________________________________\n",
      "input_21 (InputLayer)           (None, 1)            0                                            \n",
      "__________________________________________________________________________________________________\n",
      "input_22 (InputLayer)           (None, 1)            0                                            \n",
      "__________________________________________________________________________________________________\n",
      "input_23 (InputLayer)           (None, 1)            0                                            \n",
      "__________________________________________________________________________________________________\n",
      "input_24 (InputLayer)           (None, 1)            0                                            \n",
      "__________________________________________________________________________________________________\n",
      "input_25 (InputLayer)           (None, 1)            0                                            \n",
      "__________________________________________________________________________________________________\n",
      "input_26 (InputLayer)           (None, 1)            0                                            \n",
      "__________________________________________________________________________________________________\n",
      "input_27 (InputLayer)           (None, 1)            0                                            \n",
      "__________________________________________________________________________________________________\n",
      "input_28 (InputLayer)           (None, 1)            0                                            \n",
      "__________________________________________________________________________________________________\n",
      "input_29 (InputLayer)           (None, 1)            0                                            \n",
      "__________________________________________________________________________________________________\n",
      "input_30 (InputLayer)           (None, 1)            0                                            \n",
      "__________________________________________________________________________________________________\n",
      "input_31 (InputLayer)           (None, 1)            0                                            \n",
      "__________________________________________________________________________________________________\n",
      "input_32 (InputLayer)           (None, 1)            0                                            \n",
      "__________________________________________________________________________________________________\n",
      "input_33 (InputLayer)           (None, 1)            0                                            \n",
      "__________________________________________________________________________________________________\n",
      "input_34 (InputLayer)           (None, 1)            0                                            \n",
      "__________________________________________________________________________________________________\n",
      "embedding_17 (Embedding)        (None, 1, 80)        6560        input_18[0][0]                   \n",
      "__________________________________________________________________________________________________\n",
      "embedding_18 (Embedding)        (None, 1, 3089)      9541921     input_19[0][0]                   \n",
      "__________________________________________________________________________________________________\n",
      "embedding_19 (Embedding)        (None, 1, 12)        144         input_20[0][0]                   \n",
      "__________________________________________________________________________________________________\n",
      "embedding_20 (Embedding)        (None, 1, 7096)      50353216    input_21[0][0]                   \n",
      "__________________________________________________________________________________________________\n",
      "embedding_21 (Embedding)        (None, 1, 2)         6           input_22[0][0]                   \n",
      "__________________________________________________________________________________________________\n",
      "embedding_22 (Embedding)        (None, 1, 22)        484         input_23[0][0]                   \n",
      "__________________________________________________________________________________________________\n",
      "embedding_23 (Embedding)        (None, 1, 3398)      11546404    input_24[0][0]                   \n",
      "__________________________________________________________________________________________________\n",
      "embedding_24 (Embedding)        (None, 1, 2)         4           input_25[0][0]                   \n",
      "__________________________________________________________________________________________________\n",
      "embedding_25 (Embedding)        (None, 1, 2)         4           input_26[0][0]                   \n",
      "__________________________________________________________________________________________________\n",
      "embedding_26 (Embedding)        (None, 1, 2)         4           input_27[0][0]                   \n",
      "__________________________________________________________________________________________________\n",
      "embedding_27 (Embedding)        (None, 1, 2)         4           input_28[0][0]                   \n",
      "__________________________________________________________________________________________________\n",
      "embedding_28 (Embedding)        (None, 1, 2)         4           input_29[0][0]                   \n",
      "__________________________________________________________________________________________________\n",
      "embedding_29 (Embedding)        (None, 1, 20)        400         input_30[0][0]                   \n",
      "__________________________________________________________________________________________________\n",
      "embedding_30 (Embedding)        (None, 1, 16)        256         input_31[0][0]                   \n",
      "__________________________________________________________________________________________________\n",
      "embedding_31 (Embedding)        (None, 1, 25)        700         input_32[0][0]                   \n",
      "__________________________________________________________________________________________________\n",
      "embedding_32 (Embedding)        (None, 1, 10)        120         input_33[0][0]                   \n",
      "__________________________________________________________________________________________________\n",
      "embedding_33 (Embedding)        (None, 1, 15)        345         input_34[0][0]                   \n",
      "__________________________________________________________________________________________________\n",
      "flatten_17 (Flatten)            (None, 80)           0           embedding_17[0][0]               \n",
      "__________________________________________________________________________________________________\n",
      "flatten_18 (Flatten)            (None, 3089)         0           embedding_18[0][0]               \n",
      "__________________________________________________________________________________________________\n",
      "flatten_19 (Flatten)            (None, 12)           0           embedding_19[0][0]               \n",
      "__________________________________________________________________________________________________\n",
      "flatten_20 (Flatten)            (None, 7096)         0           embedding_20[0][0]               \n",
      "__________________________________________________________________________________________________\n",
      "flatten_21 (Flatten)            (None, 2)            0           embedding_21[0][0]               \n",
      "__________________________________________________________________________________________________\n",
      "flatten_22 (Flatten)            (None, 22)           0           embedding_22[0][0]               \n",
      "__________________________________________________________________________________________________\n",
      "flatten_23 (Flatten)            (None, 3398)         0           embedding_23[0][0]               \n",
      "__________________________________________________________________________________________________\n",
      "flatten_24 (Flatten)            (None, 2)            0           embedding_24[0][0]               \n",
      "__________________________________________________________________________________________________\n",
      "flatten_25 (Flatten)            (None, 2)            0           embedding_25[0][0]               \n",
      "__________________________________________________________________________________________________\n",
      "flatten_26 (Flatten)            (None, 2)            0           embedding_26[0][0]               \n",
      "__________________________________________________________________________________________________\n",
      "flatten_27 (Flatten)            (None, 2)            0           embedding_27[0][0]               \n",
      "__________________________________________________________________________________________________\n",
      "flatten_28 (Flatten)            (None, 2)            0           embedding_28[0][0]               \n",
      "__________________________________________________________________________________________________\n",
      "flatten_29 (Flatten)            (None, 20)           0           embedding_29[0][0]               \n",
      "__________________________________________________________________________________________________\n",
      "flatten_30 (Flatten)            (None, 16)           0           embedding_30[0][0]               \n",
      "__________________________________________________________________________________________________\n",
      "flatten_31 (Flatten)            (None, 25)           0           embedding_31[0][0]               \n",
      "__________________________________________________________________________________________________\n",
      "flatten_32 (Flatten)            (None, 10)           0           embedding_32[0][0]               \n",
      "__________________________________________________________________________________________________\n",
      "flatten_33 (Flatten)            (None, 15)           0           embedding_33[0][0]               \n",
      "__________________________________________________________________________________________________\n",
      "input_35 (InputLayer)           (None, 54)           0                                            \n",
      "__________________________________________________________________________________________________\n",
      "concatenate_2 (Concatenate)     (None, 13849)        0           flatten_17[0][0]                 \n",
      "                                                                 flatten_18[0][0]                 \n",
      "                                                                 flatten_19[0][0]                 \n",
      "                                                                 flatten_20[0][0]                 \n",
      "                                                                 flatten_21[0][0]                 \n",
      "                                                                 flatten_22[0][0]                 \n",
      "                                                                 flatten_23[0][0]                 \n",
      "                                                                 flatten_24[0][0]                 \n",
      "                                                                 flatten_25[0][0]                 \n",
      "                                                                 flatten_26[0][0]                 \n",
      "                                                                 flatten_27[0][0]                 \n",
      "                                                                 flatten_28[0][0]                 \n",
      "                                                                 flatten_29[0][0]                 \n",
      "                                                                 flatten_30[0][0]                 \n",
      "                                                                 flatten_31[0][0]                 \n",
      "                                                                 flatten_32[0][0]                 \n",
      "                                                                 flatten_33[0][0]                 \n",
      "                                                                 input_35[0][0]                   \n",
      "__________________________________________________________________________________________________\n",
      "dense_3 (Dense)                 (None, 512)          7091200     concatenate_2[0][0]              \n",
      "__________________________________________________________________________________________________\n",
      "dropout_2 (Dropout)             (None, 512)          0           dense_3[0][0]                    \n",
      "__________________________________________________________________________________________________\n",
      "dense_4 (Dense)                 (None, 2)            1026        dropout_2[0][0]                  \n",
      "==================================================================================================\n",
      "Total params: 78,542,802\n",
      "Trainable params: 78,542,802\n",
      "Non-trainable params: 0\n",
      "__________________________________________________________________________________________________\n"
     ]
    }
   ],
   "source": [
    "model1 = model_deep()\n",
    "model1.summary()"
   ]
  },
  {
   "cell_type": "code",
   "execution_count": 79,
   "metadata": {},
   "outputs": [],
   "source": [
    "def auc(y_true, y_pred):\n",
    "    auc = tf.metrics.auc(y_true, y_pred)[1]\n",
    "    K.get_session().run(tf.local_variables_initializer())\n",
    "    return auc"
   ]
  },
  {
   "cell_type": "code",
   "execution_count": 80,
   "metadata": {},
   "outputs": [],
   "source": [
    "model1.compile(loss = \"binary_crossentropy\", optimizer = Adam(lr=0.001), metrics = [auc])"
   ]
  },
  {
   "cell_type": "code",
   "execution_count": 81,
   "metadata": {},
   "outputs": [
    {
     "name": "stdout",
     "output_type": "stream",
     "text": [
      "Train on 209838 samples, validate on 23316 samples\n",
      "Epoch 1/2\n",
      "209838/209838 [==============================] - 136s 646us/step - loss: 3.4779 - auc: 0.7781 - val_loss: 3.6789 - val_auc: 0.7825\n",
      "Epoch 2/2\n",
      "209838/209838 [==============================] - 133s 636us/step - loss: 3.4576 - auc: 0.7824 - val_loss: 3.6789 - val_auc: 0.7827\n"
     ]
    }
   ],
   "source": [
    "#Deep Learning Model\n",
    "history = model1.fit([df_branch_id_train,\n",
    "                     df_supplier_id_train,\n",
    "                     df_manufacturer_id_train,\n",
    "                     df_Current_pincode_ID_train,\n",
    "                     df_Employment_Type_train,\n",
    "                     df_State_ID_train,\n",
    "                     df_Employee_code_ID_train,\n",
    "                     df_Aadhar_flag_train,\n",
    "                     df_PAN_flag_train,\n",
    "                     df_VoterID_flag_train,\n",
    "                     df_Driving_flag_train,\n",
    "                     df_Passport_flag_train,\n",
    "                     df_PERFORM_CNS_SCORE_DESCRIPTION_train,\n",
    "                     df_DELINQUENT_ACCTS_IN_LAST_SIX_MONTHS_cat_train,\n",
    "                     df_disbursion_wk_train,\n",
    "                     df_disbursion_mnth_train,\n",
    "                     df_disbursion_day_train,\n",
    "                     df_cont_train] ,\n",
    "                     y_cat, batch_size = 4096, epochs = 2, validation_split=0.1, \n",
    "                     verbose = 1)\n"
   ]
  },
  {
   "cell_type": "code",
   "execution_count": null,
   "metadata": {},
   "outputs": [],
   "source": [
    "test_pred = model1.predict([df_branch_id_test,\n",
    "                     df_supplier_id_test,\n",
    "                     df_manufacturer_id_test,\n",
    "                     df_Current_pincode_ID_test,\n",
    "                     df_Employment_Type_test,\n",
    "                     df_State_ID_test,\n",
    "                     df_Employee_code_ID_test,\n",
    "                     df_Aadhar_flag_test,\n",
    "                     df_PAN_flag_test,\n",
    "                     df_VoterID_flag_test,\n",
    "                     df_Driving_flag_test,\n",
    "                     df_Passport_flag_test,\n",
    "                     df_PERFORM_CNS_SCORE_DESCRIPTION_test,\n",
    "                     df_DELINQUENT_ACCTS_IN_LAST_SIX_MONTHS_cat_test,\n",
    "                     df_disbursion_wk_test,\n",
    "                     df_disbursion_mnth_test,\n",
    "                     df_disbursion_day_test,\n",
    "                     df_cont_test])"
   ]
  },
  {
   "cell_type": "code",
   "execution_count": null,
   "metadata": {},
   "outputs": [],
   "source": [
    "pred_ones = test_pred[:,1]"
   ]
  },
  {
   "cell_type": "code",
   "execution_count": null,
   "metadata": {},
   "outputs": [],
   "source": [
    "pred_ones"
   ]
  },
  {
   "cell_type": "code",
   "execution_count": null,
   "metadata": {},
   "outputs": [],
   "source": [
    "#train_data['loan_default'].value_counts()"
   ]
  },
  {
   "cell_type": "code",
   "execution_count": null,
   "metadata": {},
   "outputs": [],
   "source": [
    "#pred_final = (pred_ones < 0.5).astype(int)"
   ]
  },
  {
   "cell_type": "code",
   "execution_count": null,
   "metadata": {},
   "outputs": [],
   "source": [
    "sub_data['loan_default'] = pred_ones"
   ]
  },
  {
   "cell_type": "code",
   "execution_count": null,
   "metadata": {},
   "outputs": [],
   "source": [
    "sub_data.to_csv('/Users/s0c02nj/Desktop/LTFS/Submission4.csv',index=False)"
   ]
  },
  {
   "cell_type": "code",
   "execution_count": null,
   "metadata": {},
   "outputs": [],
   "source": []
  },
  {
   "cell_type": "code",
   "execution_count": null,
   "metadata": {},
   "outputs": [],
   "source": []
  }
 ],
 "metadata": {
  "kernelspec": {
   "display_name": "Python 3",
   "language": "python",
   "name": "python3"
  },
  "language_info": {
   "codemirror_mode": {
    "name": "ipython",
    "version": 3
   },
   "file_extension": ".py",
   "mimetype": "text/x-python",
   "name": "python",
   "nbconvert_exporter": "python",
   "pygments_lexer": "ipython3",
   "version": "3.6.8"
  }
 },
 "nbformat": 4,
 "nbformat_minor": 2
}

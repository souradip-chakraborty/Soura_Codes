{
 "cells": [
  {
   "cell_type": "code",
   "execution_count": 1,
   "metadata": {},
   "outputs": [],
   "source": [
    "import numpy as np\n",
    "import csv\n",
    "import pandas as pd\n",
    "import os\n",
    "import time\n",
    "from tqdm import tqdm\n",
    "from multiprocessing import Pool"
   ]
  },
  {
   "cell_type": "code",
   "execution_count": 2,
   "metadata": {},
   "outputs": [],
   "source": [
    "#dataset\n",
    "df = pd.read_csv('/Users/s0c02nj/Desktop/Personal Edu doc/Competitions /Microsoft/data/data.tsv',\n",
    "                 sep='\\t',header = None)\n",
    "\n",
    "\n",
    "df.columns = ['q_id','question','answer','pred','index']"
   ]
  },
  {
   "cell_type": "code",
   "execution_count": 3,
   "metadata": {},
   "outputs": [],
   "source": [
    "question_subset = list(df['q_id'].unique())[0:1000]\n",
    "\n",
    "df = df[df['q_id'].isin(question_subset)]"
   ]
  },
  {
   "cell_type": "code",
   "execution_count": null,
   "metadata": {},
   "outputs": [],
   "source": [
    "# df1.to_pickle('/Users/s0c02nj/Desktop/df1.pkl')"
   ]
  },
  {
   "cell_type": "markdown",
   "metadata": {},
   "source": [
    "#### Elastic Search"
   ]
  },
  {
   "cell_type": "code",
   "execution_count": 63,
   "metadata": {},
   "outputs": [],
   "source": [
    "from elasticsearch import helpers, Elasticsearch\n",
    "import csv\n",
    "import re\n",
    "import nltk\n",
    "from nltk.corpus import stopwords \n",
    "from nltk.tokenize import word_tokenize\n",
    "from inflection import singularize\n",
    "import matplotlib.pyplot as plt\n",
    "from scipy.spatial.distance import cosine as cs"
   ]
  },
  {
   "cell_type": "code",
   "execution_count": 64,
   "metadata": {},
   "outputs": [
    {
     "data": {
      "text/plain": [
       "{'name': 'm-c02wv1jnhtd5',\n",
       " 'cluster_name': 'elasticsearch',\n",
       " 'cluster_uuid': 'i0Q_KCKeTLGlRZzF8qt__A',\n",
       " 'version': {'number': '7.6.2',\n",
       "  'build_flavor': 'default',\n",
       "  'build_type': 'tar',\n",
       "  'build_hash': 'ef48eb35cf30adf4db14086e8aabd07ef6fb113f',\n",
       "  'build_date': '2020-03-26T06:34:37.794943Z',\n",
       "  'build_snapshot': False,\n",
       "  'lucene_version': '8.4.0',\n",
       "  'minimum_wire_compatibility_version': '6.8.0',\n",
       "  'minimum_index_compatibility_version': '6.0.0-beta1'},\n",
       " 'tagline': 'You Know, for Search'}"
      ]
     },
     "execution_count": 64,
     "metadata": {},
     "output_type": "execute_result"
    }
   ],
   "source": [
    "es = Elasticsearch([{'host': 'localhost', 'port': 9200}])\n",
    "es.info()"
   ]
  },
  {
   "cell_type": "code",
   "execution_count": 65,
   "metadata": {},
   "outputs": [],
   "source": [
    "def text_preprocessing(text):\n",
    "    text= text.lower()\n",
    "    text= re.sub(r'[^a-z]',' ',text)\n",
    "    #text= \" \".join([s for s in text.split() if len(s)>2])\n",
    "    #text= \" \".join([x for x in text.split() if x not in stopwords.words('english')])\n",
    "    #text= \" \".join([inflection.singularize(x) for x in text.split()])\n",
    "    text= text.strip()\n",
    "    return(text)"
   ]
  },
  {
   "cell_type": "code",
   "execution_count": 66,
   "metadata": {},
   "outputs": [],
   "source": [
    "tqdm.pandas()"
   ]
  },
  {
   "cell_type": "code",
   "execution_count": 8,
   "metadata": {},
   "outputs": [
    {
     "name": "stderr",
     "output_type": "stream",
     "text": [
      "100%|██████████| 10000/10000 [00:00<00:00, 48470.29it/s]\n",
      "100%|██████████| 10000/10000 [00:00<00:00, 260023.19it/s]\n"
     ]
    }
   ],
   "source": [
    "df['answer'] = df['answer'].progress_apply(lambda x: text_preprocessing(x))\n",
    "\n",
    "df['question'] = df['question'].progress_apply(lambda x: text_preprocessing(x))\n",
    "ques = df['question'].unique()"
   ]
  },
  {
   "cell_type": "code",
   "execution_count": null,
   "metadata": {},
   "outputs": [],
   "source": []
  },
  {
   "cell_type": "markdown",
   "metadata": {},
   "source": [
    "#### Indexing the files"
   ]
  },
  {
   "cell_type": "code",
   "execution_count": 9,
   "metadata": {},
   "outputs": [],
   "source": [
    "index='index_new'"
   ]
  },
  {
   "cell_type": "code",
   "execution_count": 10,
   "metadata": {},
   "outputs": [],
   "source": [
    "def doc_generator(data,index):\n",
    "    df_iter= data.iterrows()\n",
    "    \n",
    "    for index,document in df_iter:\n",
    "        yield{\n",
    "            \"_index\": 'index_new',\n",
    "            \"_type\": \"_doc\",\n",
    "            \"_id\" : f\"{index}\",\n",
    "            \"_source\": document.to_json()\n",
    "        }\n",
    "    raise StopIteration"
   ]
  },
  {
   "cell_type": "code",
   "execution_count": 11,
   "metadata": {},
   "outputs": [
    {
     "name": "stderr",
     "output_type": "stream",
     "text": [
      "10000it [00:03, 3319.44it/s]\n"
     ]
    },
    {
     "data": {
      "text/plain": [
       "{'_shards': {'total': 2, 'successful': 1, 'failed': 0}}"
      ]
     },
     "execution_count": 11,
     "metadata": {},
     "output_type": "execute_result"
    }
   ],
   "source": [
    "for success,info in tqdm(helpers.parallel_bulk(es,doc_generator(df[['answer','pred']],index))):\n",
    "    if not success:\n",
    "        print('A document failed:', info)\n",
    "es.indices.refresh(index=index)"
   ]
  },
  {
   "cell_type": "code",
   "execution_count": null,
   "metadata": {},
   "outputs": [],
   "source": []
  },
  {
   "cell_type": "markdown",
   "metadata": {},
   "source": [
    "#### Searching the questions"
   ]
  },
  {
   "cell_type": "code",
   "execution_count": 12,
   "metadata": {},
   "outputs": [],
   "source": [
    "def SEARCH(text,index,field):\n",
    "    \n",
    "    res= es.search(index=index,body={\"query\":{\"match\":{field:{\"query\":text,\"operator\":\"or\",\"fuzziness\": \"0\"\n",
    "                                                            }}}},size = 20)\n",
    "    \n",
    "    return([(x.get('_source'),x.get('_score')) for x in res['hits']['hits']])"
   ]
  },
  {
   "cell_type": "code",
   "execution_count": 14,
   "metadata": {},
   "outputs": [],
   "source": [
    "index='index_new'\n",
    "field = 'answer'"
   ]
  },
  {
   "cell_type": "code",
   "execution_count": 15,
   "metadata": {
    "scrolled": false
   },
   "outputs": [],
   "source": [
    "#SEARCH('corporation',index,field)\n",
    "question_un = list(df['question'].unique())\n",
    "\n",
    "df_new = pd.DataFrame()\n",
    "df_new['question'] = question_un"
   ]
  },
  {
   "cell_type": "code",
   "execution_count": 16,
   "metadata": {},
   "outputs": [
    {
     "data": {
      "text/html": [
       "<div>\n",
       "<style scoped>\n",
       "    .dataframe tbody tr th:only-of-type {\n",
       "        vertical-align: middle;\n",
       "    }\n",
       "\n",
       "    .dataframe tbody tr th {\n",
       "        vertical-align: top;\n",
       "    }\n",
       "\n",
       "    .dataframe thead th {\n",
       "        text-align: right;\n",
       "    }\n",
       "</style>\n",
       "<table border=\"1\" class=\"dataframe\">\n",
       "  <thead>\n",
       "    <tr style=\"text-align: right;\">\n",
       "      <th></th>\n",
       "      <th>question</th>\n",
       "    </tr>\n",
       "  </thead>\n",
       "  <tbody>\n",
       "    <tr>\n",
       "      <th>0</th>\n",
       "      <td>what is a corporation</td>\n",
       "    </tr>\n",
       "    <tr>\n",
       "      <th>1</th>\n",
       "      <td>symptoms of a dying mouse</td>\n",
       "    </tr>\n",
       "    <tr>\n",
       "      <th>2</th>\n",
       "      <td>average number of lightning strikes per day</td>\n",
       "    </tr>\n",
       "    <tr>\n",
       "      <th>3</th>\n",
       "      <td>can you burn your lawn with fertilizer</td>\n",
       "    </tr>\n",
       "    <tr>\n",
       "      <th>4</th>\n",
       "      <td>goch meaning</td>\n",
       "    </tr>\n",
       "  </tbody>\n",
       "</table>\n",
       "</div>"
      ],
      "text/plain": [
       "                                      question\n",
       "0                        what is a corporation\n",
       "1                    symptoms of a dying mouse\n",
       "2  average number of lightning strikes per day\n",
       "3       can you burn your lawn with fertilizer\n",
       "4                                 goch meaning"
      ]
     },
     "execution_count": 16,
     "metadata": {},
     "output_type": "execute_result"
    }
   ],
   "source": [
    "df_new.head()"
   ]
  },
  {
   "cell_type": "code",
   "execution_count": null,
   "metadata": {},
   "outputs": [],
   "source": []
  },
  {
   "cell_type": "code",
   "execution_count": 19,
   "metadata": {},
   "outputs": [],
   "source": [
    "def query_generator(df):\n",
    "    while True:\n",
    "        yield (df_new['question'])"
   ]
  },
  {
   "cell_type": "code",
   "execution_count": 20,
   "metadata": {},
   "outputs": [
    {
     "data": {
      "text/plain": [
       "<generator object query_generator at 0x1218ca4c0>"
      ]
     },
     "execution_count": 20,
     "metadata": {},
     "output_type": "execute_result"
    }
   ],
   "source": [
    "query_generator(df_new[['question']])"
   ]
  },
  {
   "cell_type": "code",
   "execution_count": 21,
   "metadata": {},
   "outputs": [],
   "source": [
    "import concurrent.futures"
   ]
  },
  {
   "cell_type": "code",
   "execution_count": 22,
   "metadata": {},
   "outputs": [
    {
     "name": "stderr",
     "output_type": "stream",
     "text": [
      "100%|██████████| 1000/1000 [00:00<00:00, 4021.84it/s]\n"
     ]
    },
    {
     "name": "stdout",
     "output_type": "stream",
     "text": [
      "CPU times: user 1.33 s, sys: 257 ms, total: 1.59 s\n",
      "Wall time: 2.25 s\n"
     ]
    }
   ],
   "source": [
    "%%time\n",
    "\n",
    "queries=[]\n",
    "with concurrent.futures.ThreadPoolExecutor() as executor:\n",
    "    queries={executor.submit(SEARCH, query,index,'answer'): query for query in tqdm(df_new.question)}\n",
    "\n"
   ]
  },
  {
   "cell_type": "code",
   "execution_count": null,
   "metadata": {},
   "outputs": [],
   "source": [
    "#df[['question']].iloc[0]\n"
   ]
  },
  {
   "cell_type": "code",
   "execution_count": 23,
   "metadata": {},
   "outputs": [
    {
     "name": "stderr",
     "output_type": "stream",
     "text": [
      "100%|██████████| 1000/1000 [00:00<00:00, 338961.05it/s]\n"
     ]
    }
   ],
   "source": [
    "out = [x.result() for x in tqdm(queries)]"
   ]
  },
  {
   "cell_type": "code",
   "execution_count": 24,
   "metadata": {
    "scrolled": true
   },
   "outputs": [
    {
     "data": {
      "text/plain": [
       "[({'answer': 'home   history   corporate governance   our companies   contact information tbc corporation is a company of sumitomo corporation of americas             tbc corporation  inc',\n",
       "   'pred': 0},\n",
       "  12.773112),\n",
       " ({'answer': 'a company is incorporated in a specific nation  often within the bounds of a smaller subset of that nation  such as a state or province  the corporation is then governed by the laws of incorporation in that state  a corporation may issue stock  either private or public  or may be classified as a non stock corporation  if stock is issued  the corporation will usually be governed by its shareholders  either directly or indirectly',\n",
       "   'pred': 0},\n",
       "  11.677255),\n",
       " ({'answer': 'a government owned corporation  as a utility or railroad  engaged in a profit making enterprise that may require the exercise of powers unique to government  as eminent domain    called also government corporation  publicly held corporation',\n",
       "   'pred': 0},\n",
       "  11.288731),\n",
       " ({'answer': 'examples of corporation in a sentence     he works as a consultant for several large corporations     a substantial corporation that showed that he was a sucker for all you can eat buffets',\n",
       "   'pred': 0},\n",
       "  10.479509),\n",
       " ({'answer': 'mcdonald s corporation is one of the most recognizable corporations in the world  a corporation is a company or group of people authorized to act as a single entity  legally a person  and recognized as such in law  early incorporated entities were established by charter  i e  by an ad hoc act granted by a monarch or passed by a parliament or legislature',\n",
       "   'pred': 1},\n",
       "  9.912999),\n",
       " ({'answer': 'all the time  is available on itunes  http   smarturl it bahamasisafie directed by scott kaija produced by light echo productions made possible with the support of the ontario media development corporation visit http   bahamasmusic net made possible with the support of the ontario media development corporation',\n",
       "   'pred': 0},\n",
       "  9.497997),\n",
       " ({'answer': 'ceo  cfo and cio are titles for top executives at a corporation  the exact job descriptions depend on the company  but essentially    the ceo is the chief executive officer  the big boss',\n",
       "   'pred': 0},\n",
       "  8.714718),\n",
       " ({'answer': 'tegeler oil field services  inc  is a texas corporation filed on may            the company s filing status is listed as active and its file number is             the registered agent on file for this company is curtis tegeler and is located at     vela road  huntsville  tx',\n",
       "   'pred': 0},\n",
       "  8.354162),\n",
       " ({'answer': 'ceo  cfo and cio are titles for top executives at a corporation    the ceo is the chief executive officer  the big boss  however  in corporations they report to the board of directors who have ultimate control and responsibility  including hiring and firing the ceo    a cfo is chief financial officer',\n",
       "   'pred': 0},\n",
       "  7.879219),\n",
       " ({'answer': 'taskhostex exe is an instance of a running program  this    bit program executes with the privileges as the currently logged in user account  this file is part of microsoft windows operating system  taskhostex exe is developed by microsoft corporation  it s a system and hidden file  taskhostex exe is usually located in the  system  folder and its usual size is        bytes',\n",
       "   'pred': 1},\n",
       "  7.6227646),\n",
       " ({'answer': 'corporation definition  an association of individuals  created by law or under authority of law  having a continuous existence independent of the existences of its members  and powers and liabilities distinct from those of its members  see more',\n",
       "   'pred': 0},\n",
       "  7.5094686),\n",
       " ({'answer': 'member services                 tty                 bcbstx com chip             a division of health care service corporation  a mutual legal reserve company  an independent licensee of the blue cross and blue shield association  travis service area  welcome  welcome to blue cross and blue shield of texas  bcbstx',\n",
       "   'pred': 1},\n",
       "  7.360926),\n",
       " ({'answer': 'boeing  ba  is the world s leading aerospace company and the largest manufacturer of commercial jetliners and military aircraft combined  the company is located in over    countries  and is the largest exporter in the u s  it has three divisions  commercial airplanes  integrated defense systems  ids   and boeing capital corporation',\n",
       "   'pred': 0},\n",
       "  7.346263),\n",
       " ({'answer': 'this chapter of the bankruptcy code generally provides for reorganization  usually involving a corporation or partnership  a chapter    debtor usually proposes a plan of reorganization to keep its business alive and pay creditors over time  people in business or individuals can also seek relief in chapter',\n",
       "   'pred': 0},\n",
       "  7.2129335),\n",
       " ({'answer': 'cbs all access is available now at cbs com and on mobile devices through the cbs app for ios and android   cbs all access is another key step in the company s long standing strategy of monetizing our local and national content in the ways that viewers want it   said leslie moonves  president and ceo  cbs corporation  in a statement',\n",
       "   'pred': 0},\n",
       "  7.1318398),\n",
       " ({'answer': 'chittenden county  vt   leads nation s household hazardous waste sector in recycling mercury thermo  chittenden county  vt leads the united states in its recycling program for mercury containing thermostats  according to a recent report from the thermostat recycling corporation  trc  that measured county recycling',\n",
       "   'pred': 0},\n",
       "  7.0545564),\n",
       " ({'answer': 'what does it mean to be tipped off  it means that one person tells another person about inside information  it can happen in different ways and through a chain a people   where one person tells another person and that person tells another person  etc  with that said  keep in mind that every person in the chain is either a tipper or tippee  or both  let s take a look at tippers and tippees  tipper   individual who has received material corporate information and passes it on to a tippee   a tipper can be liable for the acts of a tippee  tippee   individual who receives material corporation information by a tipper   a tippee is only liable for the acts omissions that he or she takes as a result of the information learned from the tipper',\n",
       "   'pred': 0},\n",
       "  7.0073967),\n",
       " ({'answer': 'bcbstx com medicaid  blue cross and blue shield of texas  a division of health care service corporation  a mutual legal reserve company  an independent licensee of the blue cross and blue  shield association  pwp          provider appeal request form  submission of this form constitutes agreement not to bill the patient during the dispute process',\n",
       "   'pred': 0},\n",
       "  6.7827854),\n",
       " ({'answer': 'what is another word for fructuary  what is another word for fructuaries  what is another word for fructoses  what is another word for fructose  what is another word for fructooligosaccharides  what is another word for fructooligosaccharide  what is another word for frugalista  what is another word for frugalistas  what is another word for frugalities  what is another word for frugality  what is another word for frugally  what is another word for frugalness',\n",
       "   'pred': 0},\n",
       "  6.762967),\n",
       " ({'answer': 'what is another word for lavages  what is another word for lavage  what is another word for lavacre  what is another word for lava cakes  what is another word for lava cake  what is another word for lavabos  what is another word for lava lamps  what is another word for lavalava  what is another word for lavalavas  what is another word for lavaliere',\n",
       "   'pred': 0},\n",
       "  6.7332797)]"
      ]
     },
     "execution_count": 24,
     "metadata": {},
     "output_type": "execute_result"
    }
   ],
   "source": [
    "out[0]"
   ]
  },
  {
   "cell_type": "code",
   "execution_count": 25,
   "metadata": {},
   "outputs": [
    {
     "data": {
      "text/plain": [
       "(10000, 5)"
      ]
     },
     "execution_count": 25,
     "metadata": {},
     "output_type": "execute_result"
    }
   ],
   "source": [
    "len(out)\n",
    "\n",
    "df.shape"
   ]
  },
  {
   "cell_type": "code",
   "execution_count": 26,
   "metadata": {},
   "outputs": [],
   "source": [
    "def get_std_ref_match(data_current):\n",
    "    \n",
    "    #UPC to match\n",
    "    questions = []\n",
    "    \n",
    "#     #id\n",
    "#     qs_id =[]\n",
    "    \n",
    "    #Original\n",
    "    answers = []\n",
    "    \n",
    "    #Score\n",
    "    score_bm25 = []\n",
    "    \n",
    "    #pred\n",
    "    predictions = []\n",
    "\n",
    "        \n",
    "    \n",
    "    #Reindex\n",
    "    data_current.index = range(0,len(data_current))\n",
    "    \n",
    "    \n",
    "    for i in tqdm(range(0,len(data_current))):\n",
    "\n",
    "            #indexing\n",
    "            #data_current.index = range(0,len(data_current))\n",
    "            \n",
    "            #question\n",
    "            qs = data_current['question'].iloc[i]\n",
    "            \n",
    "            #q_id\n",
    "            #q_id = data_current['q_id'].iloc[i]\n",
    "    \n",
    "            #Getting the search result\n",
    "            temp_out = out[i]\n",
    "            val = len(temp_out)\n",
    "\n",
    "            if val ==0:\n",
    "                \n",
    "                #questions\n",
    "                questions.append(qs)\n",
    "                \n",
    "                #id\n",
    "#                 qs_id.append(q_id)\n",
    "                \n",
    "                #answer\n",
    "                answers.append('NA')\n",
    "                \n",
    "                #Score\n",
    "                score_bm25.append('NA')\n",
    "                \n",
    "                #pred\n",
    "                predictions.append('NA')\n",
    "\n",
    "            else:\n",
    "                for j in np.arange(val):\n",
    "\n",
    "                    #clean_ingred\n",
    "                    questions.append(qs)\n",
    "                    \n",
    "#                     #id\n",
    "#                     qs_id.append(q_id)\n",
    "\n",
    "\n",
    "                    #Creating temp\n",
    "                    temp2 = temp_out[j]\n",
    "\n",
    "                    #Separting the tuple\n",
    "                    doc_txt = temp2[0]['answer']\n",
    "                    doc_pred = temp2[0]['pred']\n",
    "                    \n",
    "                    doc_scr = temp2[1]\n",
    "\n",
    "\n",
    "                    #matched answers\n",
    "                    answers.append(doc_txt)\n",
    "                    \n",
    "                    #matched_pred\n",
    "                    predictions.append(doc_pred)\n",
    "                    \n",
    "\n",
    "                    #Score\n",
    "                    score_bm25.append(doc_scr)\n",
    "                    \n",
    "                    \n",
    "                    \n",
    "    \n",
    "\n",
    "    #Converting to a Dataframe   \n",
    "    df_result = pd.DataFrame()\n",
    "    df_result['questions'] = questions\n",
    "    #df_result['q_id'] = qs_id\n",
    "    df_result['answers'] = answers\n",
    "    df_result['predictions'] = predictions\n",
    "    df_result['score'] = score_bm25\n",
    "\n",
    "    return df_result\n",
    "\n"
   ]
  },
  {
   "cell_type": "code",
   "execution_count": 27,
   "metadata": {},
   "outputs": [
    {
     "name": "stderr",
     "output_type": "stream",
     "text": [
      "100%|██████████| 1000/1000 [00:00<00:00, 22267.72it/s]\n"
     ]
    }
   ],
   "source": [
    "df_result = get_std_ref_match(df_new)"
   ]
  },
  {
   "cell_type": "code",
   "execution_count": 28,
   "metadata": {},
   "outputs": [
    {
     "data": {
      "text/html": [
       "<div>\n",
       "<style scoped>\n",
       "    .dataframe tbody tr th:only-of-type {\n",
       "        vertical-align: middle;\n",
       "    }\n",
       "\n",
       "    .dataframe tbody tr th {\n",
       "        vertical-align: top;\n",
       "    }\n",
       "\n",
       "    .dataframe thead th {\n",
       "        text-align: right;\n",
       "    }\n",
       "</style>\n",
       "<table border=\"1\" class=\"dataframe\">\n",
       "  <thead>\n",
       "    <tr style=\"text-align: right;\">\n",
       "      <th></th>\n",
       "      <th>questions</th>\n",
       "      <th>answers</th>\n",
       "      <th>predictions</th>\n",
       "      <th>score</th>\n",
       "    </tr>\n",
       "  </thead>\n",
       "  <tbody>\n",
       "    <tr>\n",
       "      <th>0</th>\n",
       "      <td>what is a corporation</td>\n",
       "      <td>home   history   corporate governance   our co...</td>\n",
       "      <td>0</td>\n",
       "      <td>12.773112</td>\n",
       "    </tr>\n",
       "    <tr>\n",
       "      <th>1</th>\n",
       "      <td>what is a corporation</td>\n",
       "      <td>a company is incorporated in a specific nation...</td>\n",
       "      <td>0</td>\n",
       "      <td>11.677255</td>\n",
       "    </tr>\n",
       "    <tr>\n",
       "      <th>2</th>\n",
       "      <td>what is a corporation</td>\n",
       "      <td>a government owned corporation  as a utility o...</td>\n",
       "      <td>0</td>\n",
       "      <td>11.288731</td>\n",
       "    </tr>\n",
       "    <tr>\n",
       "      <th>3</th>\n",
       "      <td>what is a corporation</td>\n",
       "      <td>examples of corporation in a sentence     he w...</td>\n",
       "      <td>0</td>\n",
       "      <td>10.479509</td>\n",
       "    </tr>\n",
       "    <tr>\n",
       "      <th>4</th>\n",
       "      <td>what is a corporation</td>\n",
       "      <td>mcdonald s corporation is one of the most reco...</td>\n",
       "      <td>1</td>\n",
       "      <td>9.912999</td>\n",
       "    </tr>\n",
       "  </tbody>\n",
       "</table>\n",
       "</div>"
      ],
      "text/plain": [
       "               questions                                            answers  \\\n",
       "0  what is a corporation  home   history   corporate governance   our co...   \n",
       "1  what is a corporation  a company is incorporated in a specific nation...   \n",
       "2  what is a corporation  a government owned corporation  as a utility o...   \n",
       "3  what is a corporation  examples of corporation in a sentence     he w...   \n",
       "4  what is a corporation  mcdonald s corporation is one of the most reco...   \n",
       "\n",
       "   predictions      score  \n",
       "0            0  12.773112  \n",
       "1            0  11.677255  \n",
       "2            0  11.288731  \n",
       "3            0  10.479509  \n",
       "4            1   9.912999  "
      ]
     },
     "execution_count": 28,
     "metadata": {},
     "output_type": "execute_result"
    }
   ],
   "source": [
    "df_result.head()"
   ]
  },
  {
   "cell_type": "code",
   "execution_count": null,
   "metadata": {},
   "outputs": [],
   "source": [
    "#df_result.to_pickle('/Users/s0c02nj/Desktop/df_result')"
   ]
  },
  {
   "cell_type": "code",
   "execution_count": 29,
   "metadata": {},
   "outputs": [
    {
     "name": "stderr",
     "output_type": "stream",
     "text": [
      "100%|██████████| 10000/10000 [00:00<00:00, 37492.23it/s]\n"
     ]
    }
   ],
   "source": [
    "tup_org = []\n",
    "\n",
    "for i in tqdm(range(0,len(df))):\n",
    "    \n",
    "    ques = df['question'].iloc[i]\n",
    "    ans =  df['answer'].iloc[i]\n",
    "    \n",
    "    tup_org.append((ques,ans))\n",
    "    "
   ]
  },
  {
   "cell_type": "code",
   "execution_count": null,
   "metadata": {},
   "outputs": [],
   "source": []
  },
  {
   "cell_type": "code",
   "execution_count": 30,
   "metadata": {},
   "outputs": [
    {
     "data": {
      "text/html": [
       "<div>\n",
       "<style scoped>\n",
       "    .dataframe tbody tr th:only-of-type {\n",
       "        vertical-align: middle;\n",
       "    }\n",
       "\n",
       "    .dataframe tbody tr th {\n",
       "        vertical-align: top;\n",
       "    }\n",
       "\n",
       "    .dataframe thead th {\n",
       "        text-align: right;\n",
       "    }\n",
       "</style>\n",
       "<table border=\"1\" class=\"dataframe\">\n",
       "  <thead>\n",
       "    <tr style=\"text-align: right;\">\n",
       "      <th></th>\n",
       "      <th>questions</th>\n",
       "      <th>answers</th>\n",
       "      <th>predictions</th>\n",
       "      <th>score</th>\n",
       "    </tr>\n",
       "  </thead>\n",
       "  <tbody>\n",
       "    <tr>\n",
       "      <th>0</th>\n",
       "      <td>what is a corporation</td>\n",
       "      <td>home   history   corporate governance   our co...</td>\n",
       "      <td>0</td>\n",
       "      <td>12.773112</td>\n",
       "    </tr>\n",
       "    <tr>\n",
       "      <th>1</th>\n",
       "      <td>what is a corporation</td>\n",
       "      <td>a company is incorporated in a specific nation...</td>\n",
       "      <td>0</td>\n",
       "      <td>11.677255</td>\n",
       "    </tr>\n",
       "    <tr>\n",
       "      <th>2</th>\n",
       "      <td>what is a corporation</td>\n",
       "      <td>a government owned corporation  as a utility o...</td>\n",
       "      <td>0</td>\n",
       "      <td>11.288731</td>\n",
       "    </tr>\n",
       "    <tr>\n",
       "      <th>3</th>\n",
       "      <td>what is a corporation</td>\n",
       "      <td>examples of corporation in a sentence     he w...</td>\n",
       "      <td>0</td>\n",
       "      <td>10.479509</td>\n",
       "    </tr>\n",
       "    <tr>\n",
       "      <th>4</th>\n",
       "      <td>what is a corporation</td>\n",
       "      <td>mcdonald s corporation is one of the most reco...</td>\n",
       "      <td>1</td>\n",
       "      <td>9.912999</td>\n",
       "    </tr>\n",
       "  </tbody>\n",
       "</table>\n",
       "</div>"
      ],
      "text/plain": [
       "               questions                                            answers  \\\n",
       "0  what is a corporation  home   history   corporate governance   our co...   \n",
       "1  what is a corporation  a company is incorporated in a specific nation...   \n",
       "2  what is a corporation  a government owned corporation  as a utility o...   \n",
       "3  what is a corporation  examples of corporation in a sentence     he w...   \n",
       "4  what is a corporation  mcdonald s corporation is one of the most reco...   \n",
       "\n",
       "   predictions      score  \n",
       "0            0  12.773112  \n",
       "1            0  11.677255  \n",
       "2            0  11.288731  \n",
       "3            0  10.479509  \n",
       "4            1   9.912999  "
      ]
     },
     "execution_count": 30,
     "metadata": {},
     "output_type": "execute_result"
    }
   ],
   "source": [
    "df_result.head()"
   ]
  },
  {
   "cell_type": "code",
   "execution_count": 31,
   "metadata": {},
   "outputs": [],
   "source": [
    "def get_ind_df(df_result):\n",
    "\n",
    "    ind = []\n",
    "\n",
    "    for i in tqdm(range(0,len(df_result))):\n",
    "        \n",
    "        qs =  df_result['questions'].iloc[i]\n",
    "        ans = df_result['answers'].iloc[i]\n",
    "\n",
    "        tup = ((qs,ans))\n",
    "\n",
    "        if tup in tup_org:\n",
    "            ind.append(1)\n",
    "\n",
    "        else :\n",
    "            ind.append(0)\n",
    "    \n",
    "    #getting the df\n",
    "    df_ind = pd.DataFrame() \n",
    "    df_ind['ind'] = ind\n",
    "    \n",
    "    return df_ind\n",
    "    "
   ]
  },
  {
   "cell_type": "code",
   "execution_count": 32,
   "metadata": {},
   "outputs": [],
   "source": [
    "def parallelize_dataframe(df, func):\n",
    "    df_split = np.array_split(df, num_partitions)\n",
    "    pool = Pool(n_cores)\n",
    "    df = pd.concat(pool.map(func, df_split))\n",
    "    pool.close()\n",
    "    pool.join()\n",
    "    return df"
   ]
  },
  {
   "cell_type": "code",
   "execution_count": 33,
   "metadata": {
    "scrolled": true
   },
   "outputs": [
    {
     "name": "stderr",
     "output_type": "stream",
     "text": [
      "100%|██████████| 2846/2846 [00:01<00:00, 2162.12it/s]\n",
      "100%|██████████| 2846/2846 [00:01<00:00, 2032.20it/s]\n",
      "100%|██████████| 2846/2846 [00:01<00:00, 1840.29it/s]\n",
      "100%|██████████| 2846/2846 [00:01<00:00, 1828.72it/s]\n",
      "100%|██████████| 2846/2846 [00:01<00:00, 1758.16it/s]\n",
      "100%|██████████| 2846/2846 [00:01<00:00, 1735.18it/s]\n",
      "100%|██████████| 2845/2845 [00:01<00:00, 1682.80it/s]\n"
     ]
    },
    {
     "name": "stdout",
     "output_type": "stream",
     "text": [
      "CPU times: user 106 ms, sys: 99.5 ms, total: 206 ms\n",
      "Wall time: 1.89 s\n"
     ]
    }
   ],
   "source": [
    "%%time\n",
    "num_partitions = 7 \n",
    "n_cores= 7\n",
    "df_ind = parallelize_dataframe(df_result, get_ind_df)\n"
   ]
  },
  {
   "cell_type": "code",
   "execution_count": 34,
   "metadata": {},
   "outputs": [],
   "source": [
    "# df_ind = pd.read_pickle('/Users/s0c02nj/Downloads/df_ind')\n",
    "ind = list(df_ind['ind'])"
   ]
  },
  {
   "cell_type": "code",
   "execution_count": 35,
   "metadata": {},
   "outputs": [],
   "source": [
    "df_result['ind'] = ind"
   ]
  },
  {
   "cell_type": "code",
   "execution_count": 36,
   "metadata": {},
   "outputs": [],
   "source": [
    "df_result['true_pred'] = df_result['predictions'] * df_result['ind']"
   ]
  },
  {
   "cell_type": "code",
   "execution_count": null,
   "metadata": {},
   "outputs": [],
   "source": [
    "#df_result[df_result['questions'] == 'what is a corporation']"
   ]
  },
  {
   "cell_type": "markdown",
   "metadata": {},
   "source": [
    "#### Data loss due to elastic search"
   ]
  },
  {
   "cell_type": "code",
   "execution_count": 37,
   "metadata": {},
   "outputs": [],
   "source": [
    "df_result1 = df_result.groupby('questions').agg({'true_pred': 'sum'}).reset_index()"
   ]
  },
  {
   "cell_type": "code",
   "execution_count": 38,
   "metadata": {},
   "outputs": [
    {
     "data": {
      "text/plain": [
       "(1000, 2)"
      ]
     },
     "execution_count": 38,
     "metadata": {},
     "output_type": "execute_result"
    }
   ],
   "source": [
    "df_result1.shape"
   ]
  },
  {
   "cell_type": "code",
   "execution_count": 39,
   "metadata": {},
   "outputs": [
    {
     "data": {
      "text/plain": [
       "(89, 2)"
      ]
     },
     "execution_count": 39,
     "metadata": {},
     "output_type": "execute_result"
    }
   ],
   "source": [
    "df_result1[df_result1['true_pred'] == 0].shape"
   ]
  },
  {
   "cell_type": "code",
   "execution_count": null,
   "metadata": {},
   "outputs": [],
   "source": [
    "#df_result1['true_pred'].head()"
   ]
  },
  {
   "cell_type": "code",
   "execution_count": 40,
   "metadata": {},
   "outputs": [
    {
     "data": {
      "text/plain": [
       "0.89"
      ]
     },
     "execution_count": 40,
     "metadata": {},
     "output_type": "execute_result"
    }
   ],
   "source": [
    "data_loss = df_result1[df_result1['true_pred'] == 0].shape[0]/10000 * 100\n",
    "data_loss"
   ]
  },
  {
   "cell_type": "code",
   "execution_count": 41,
   "metadata": {},
   "outputs": [
    {
     "data": {
      "text/plain": [
       "909"
      ]
     },
     "execution_count": 41,
     "metadata": {},
     "output_type": "execute_result"
    }
   ],
   "source": [
    "ques_list = df_result1[df_result1['true_pred'] == 1]['questions'].tolist()\n",
    "len(ques_list)"
   ]
  },
  {
   "cell_type": "code",
   "execution_count": 42,
   "metadata": {},
   "outputs": [],
   "source": [
    "df_result = df_result[df_result['questions'].isin(ques_list)]"
   ]
  },
  {
   "cell_type": "markdown",
   "metadata": {},
   "source": [
    "#### Calculating MRR"
   ]
  },
  {
   "cell_type": "code",
   "execution_count": 43,
   "metadata": {},
   "outputs": [],
   "source": [
    "df_result['indices'] = range(0,len(df_result))\n",
    "df_result['rank'] = (df_result.groupby('questions')['indices'].rank(ascending=False))\n",
    "df_result = df_result.drop(['indices'],axis=1)"
   ]
  },
  {
   "cell_type": "code",
   "execution_count": 44,
   "metadata": {},
   "outputs": [
    {
     "data": {
      "text/html": [
       "<div>\n",
       "<style scoped>\n",
       "    .dataframe tbody tr th:only-of-type {\n",
       "        vertical-align: middle;\n",
       "    }\n",
       "\n",
       "    .dataframe tbody tr th {\n",
       "        vertical-align: top;\n",
       "    }\n",
       "\n",
       "    .dataframe thead th {\n",
       "        text-align: right;\n",
       "    }\n",
       "</style>\n",
       "<table border=\"1\" class=\"dataframe\">\n",
       "  <thead>\n",
       "    <tr style=\"text-align: right;\">\n",
       "      <th></th>\n",
       "      <th>questions</th>\n",
       "      <th>answers</th>\n",
       "      <th>predictions</th>\n",
       "      <th>score</th>\n",
       "      <th>ind</th>\n",
       "      <th>true_pred</th>\n",
       "      <th>rank</th>\n",
       "    </tr>\n",
       "  </thead>\n",
       "  <tbody>\n",
       "    <tr>\n",
       "      <th>0</th>\n",
       "      <td>what is a corporation</td>\n",
       "      <td>home   history   corporate governance   our co...</td>\n",
       "      <td>0</td>\n",
       "      <td>12.773112</td>\n",
       "      <td>0</td>\n",
       "      <td>0</td>\n",
       "      <td>20.0</td>\n",
       "    </tr>\n",
       "    <tr>\n",
       "      <th>1</th>\n",
       "      <td>what is a corporation</td>\n",
       "      <td>a company is incorporated in a specific nation...</td>\n",
       "      <td>0</td>\n",
       "      <td>11.677255</td>\n",
       "      <td>1</td>\n",
       "      <td>0</td>\n",
       "      <td>19.0</td>\n",
       "    </tr>\n",
       "    <tr>\n",
       "      <th>2</th>\n",
       "      <td>what is a corporation</td>\n",
       "      <td>a government owned corporation  as a utility o...</td>\n",
       "      <td>0</td>\n",
       "      <td>11.288731</td>\n",
       "      <td>1</td>\n",
       "      <td>0</td>\n",
       "      <td>18.0</td>\n",
       "    </tr>\n",
       "    <tr>\n",
       "      <th>3</th>\n",
       "      <td>what is a corporation</td>\n",
       "      <td>examples of corporation in a sentence     he w...</td>\n",
       "      <td>0</td>\n",
       "      <td>10.479509</td>\n",
       "      <td>1</td>\n",
       "      <td>0</td>\n",
       "      <td>17.0</td>\n",
       "    </tr>\n",
       "    <tr>\n",
       "      <th>4</th>\n",
       "      <td>what is a corporation</td>\n",
       "      <td>mcdonald s corporation is one of the most reco...</td>\n",
       "      <td>1</td>\n",
       "      <td>9.912999</td>\n",
       "      <td>1</td>\n",
       "      <td>1</td>\n",
       "      <td>16.0</td>\n",
       "    </tr>\n",
       "  </tbody>\n",
       "</table>\n",
       "</div>"
      ],
      "text/plain": [
       "               questions                                            answers  \\\n",
       "0  what is a corporation  home   history   corporate governance   our co...   \n",
       "1  what is a corporation  a company is incorporated in a specific nation...   \n",
       "2  what is a corporation  a government owned corporation  as a utility o...   \n",
       "3  what is a corporation  examples of corporation in a sentence     he w...   \n",
       "4  what is a corporation  mcdonald s corporation is one of the most reco...   \n",
       "\n",
       "   predictions      score  ind  true_pred  rank  \n",
       "0            0  12.773112    0          0  20.0  \n",
       "1            0  11.677255    1          0  19.0  \n",
       "2            0  11.288731    1          0  18.0  \n",
       "3            0  10.479509    1          0  17.0  \n",
       "4            1   9.912999    1          1  16.0  "
      ]
     },
     "execution_count": 44,
     "metadata": {},
     "output_type": "execute_result"
    }
   ],
   "source": [
    "df_result.head()"
   ]
  },
  {
   "cell_type": "code",
   "execution_count": 45,
   "metadata": {},
   "outputs": [],
   "source": [
    "df_result['inv_rank'] = 1/ df_result['rank']"
   ]
  },
  {
   "cell_type": "code",
   "execution_count": 46,
   "metadata": {},
   "outputs": [],
   "source": [
    "df_result['true_rank'] = df_result['inv_rank'] * df_result['true_pred']"
   ]
  },
  {
   "cell_type": "code",
   "execution_count": 47,
   "metadata": {},
   "outputs": [],
   "source": [
    "mrr_elastic = (df_result['true_rank'].sum()) / (df_result['questions'].nunique())"
   ]
  },
  {
   "cell_type": "code",
   "execution_count": 48,
   "metadata": {},
   "outputs": [
    {
     "data": {
      "text/plain": [
       "0.0692636793977617"
      ]
     },
     "execution_count": 48,
     "metadata": {},
     "output_type": "execute_result"
    }
   ],
   "source": [
    "mrr_elastic"
   ]
  },
  {
   "cell_type": "code",
   "execution_count": null,
   "metadata": {},
   "outputs": [],
   "source": []
  },
  {
   "cell_type": "markdown",
   "metadata": {},
   "source": [
    "#### Embedding Space"
   ]
  },
  {
   "cell_type": "code",
   "execution_count": 49,
   "metadata": {
    "scrolled": true
   },
   "outputs": [
    {
     "name": "stderr",
     "output_type": "stream",
     "text": [
      "100%|██████████| 400000/400000 [00:09<00:00, 42253.20it/s]\n"
     ]
    }
   ],
   "source": [
    "folder_path= '/Users/s0c02nj/Downloads/glove.6B/glove.6B.100d.txt'\n",
    "f=open(folder_path)\n",
    "doc=f.readlines()\n",
    "#****VIP\n",
    "#**WORD TO VEC DICTIONARY\n",
    "#Forming a dictionary-word2vec\n",
    "word2vec={}\n",
    "key=[]\n",
    "#looping though the doc.in the doc the entire thing is saved and is separated by a space bar.\n",
    "for line in tqdm(doc):\n",
    "    #parts contains every word separately for doc1\n",
    "    parts=line.split(' ')\n",
    "    #part[0] contains the word\n",
    "    word=parts[0]\n",
    "    key.append(word)\n",
    "    #embed contains the vector\n",
    "    embed=np.array(parts[1:],dtype='float32')\n",
    "    #filling up the dictionary\n",
    "    word2vec[word]=embed\n"
   ]
  },
  {
   "cell_type": "code",
   "execution_count": 50,
   "metadata": {},
   "outputs": [],
   "source": [
    "def sent_vectorizer(sent_ls, model ,size):\n",
    "    \n",
    "    sent_vec = np.zeros(size)\n",
    "    numw = 0\n",
    "    for w in sent_ls:\n",
    "        try:\n",
    "            sent_vec = np.add(sent_vec, model[w])\n",
    "            numw+=1\n",
    "        except:\n",
    "            pass\n",
    "    return sent_vec / np.sqrt(sent_vec.dot(sent_vec))"
   ]
  },
  {
   "cell_type": "code",
   "execution_count": 52,
   "metadata": {},
   "outputs": [],
   "source": [
    "model = word2vec\n",
    "size = 100"
   ]
  },
  {
   "cell_type": "code",
   "execution_count": 53,
   "metadata": {},
   "outputs": [
    {
     "name": "stderr",
     "output_type": "stream",
     "text": [
      " 76%|███████▋  | 7627/10000 [00:01<00:00, 5859.04it/s]/Users/s0c02nj/anaconda2/envs/graph/lib/python3.6/site-packages/ipykernel_launcher.py:11: RuntimeWarning: invalid value encountered in true_divide\n",
      "  # This is added back by InteractiveShellApp.init_path()\n",
      "100%|██████████| 10000/10000 [00:01<00:00, 5901.53it/s]\n"
     ]
    }
   ],
   "source": [
    "cosine = []\n",
    "\n",
    "for i in tqdm(range(0,len(df))):\n",
    "    \n",
    "    query = df['question'].iloc[i].split()\n",
    "    answer = df['answer'].iloc[i].split()\n",
    "    \n",
    "    q_vec = sent_vectorizer(query,model ,size)\n",
    "    a_vec = sent_vectorizer(answer,model ,size)\n",
    "    \n",
    "    cosine.append(1- cs(q_vec,a_vec))\n"
   ]
  },
  {
   "cell_type": "code",
   "execution_count": 54,
   "metadata": {},
   "outputs": [],
   "source": [
    "df2 = df.copy()"
   ]
  },
  {
   "cell_type": "code",
   "execution_count": 55,
   "metadata": {},
   "outputs": [
    {
     "name": "stderr",
     "output_type": "stream",
     "text": [
      "/Users/s0c02nj/anaconda2/envs/graph/lib/python3.6/site-packages/ipykernel_launcher.py:2: SettingWithCopyWarning: \n",
      "A value is trying to be set on a copy of a slice from a DataFrame.\n",
      "Try using .loc[row_indexer,col_indexer] = value instead\n",
      "\n",
      "See the caveats in the documentation: http://pandas.pydata.org/pandas-docs/stable/user_guide/indexing.html#returning-a-view-versus-a-copy\n",
      "  \n"
     ]
    }
   ],
   "source": [
    "df_result_vec = df2[['question','answer','pred']]\n",
    "df_result_vec['cosine'] = cosine"
   ]
  },
  {
   "cell_type": "code",
   "execution_count": 56,
   "metadata": {},
   "outputs": [],
   "source": [
    "df_result_vec2 = df_result_vec.sort_values(by=['question','cosine'],ascending = False)"
   ]
  },
  {
   "cell_type": "code",
   "execution_count": 57,
   "metadata": {},
   "outputs": [
    {
     "data": {
      "text/html": [
       "<div>\n",
       "<style scoped>\n",
       "    .dataframe tbody tr th:only-of-type {\n",
       "        vertical-align: middle;\n",
       "    }\n",
       "\n",
       "    .dataframe tbody tr th {\n",
       "        vertical-align: top;\n",
       "    }\n",
       "\n",
       "    .dataframe thead th {\n",
       "        text-align: right;\n",
       "    }\n",
       "</style>\n",
       "<table border=\"1\" class=\"dataframe\">\n",
       "  <thead>\n",
       "    <tr style=\"text-align: right;\">\n",
       "      <th></th>\n",
       "      <th>question</th>\n",
       "      <th>answer</th>\n",
       "      <th>pred</th>\n",
       "      <th>cosine</th>\n",
       "    </tr>\n",
       "  </thead>\n",
       "  <tbody>\n",
       "    <tr>\n",
       "      <th>9535</th>\n",
       "      <td>why do stupid laws get passed</td>\n",
       "      <td>dumb criminals  crime doesn t pay   especially...</td>\n",
       "      <td>0</td>\n",
       "      <td>0.893468</td>\n",
       "    </tr>\n",
       "    <tr>\n",
       "      <th>9534</th>\n",
       "      <td>why do stupid laws get passed</td>\n",
       "      <td>why were weird dumb laws passed    posted in o...</td>\n",
       "      <td>1</td>\n",
       "      <td>0.880474</td>\n",
       "    </tr>\n",
       "    <tr>\n",
       "      <th>9531</th>\n",
       "      <td>why do stupid laws get passed</td>\n",
       "      <td>before you get into the politics  understand h...</td>\n",
       "      <td>0</td>\n",
       "      <td>0.869766</td>\n",
       "    </tr>\n",
       "    <tr>\n",
       "      <th>9532</th>\n",
       "      <td>why do stupid laws get passed</td>\n",
       "      <td>michigan stupid laws it is illegal to kill a d...</td>\n",
       "      <td>0</td>\n",
       "      <td>0.868723</td>\n",
       "    </tr>\n",
       "    <tr>\n",
       "      <th>9538</th>\n",
       "      <td>why do stupid laws get passed</td>\n",
       "      <td>alabama stupid laws  in alabama  it is illegal...</td>\n",
       "      <td>0</td>\n",
       "      <td>0.849507</td>\n",
       "    </tr>\n",
       "    <tr>\n",
       "      <th>9533</th>\n",
       "      <td>why do stupid laws get passed</td>\n",
       "      <td>how does a law get passed  congress must be in...</td>\n",
       "      <td>0</td>\n",
       "      <td>0.839841</td>\n",
       "    </tr>\n",
       "    <tr>\n",
       "      <th>9537</th>\n",
       "      <td>why do stupid laws get passed</td>\n",
       "      <td>laws created under the harm principle are writ...</td>\n",
       "      <td>0</td>\n",
       "      <td>0.831046</td>\n",
       "    </tr>\n",
       "    <tr>\n",
       "      <th>9536</th>\n",
       "      <td>why do stupid laws get passed</td>\n",
       "      <td>while this law appears to be a direct assault ...</td>\n",
       "      <td>0</td>\n",
       "      <td>0.827817</td>\n",
       "    </tr>\n",
       "    <tr>\n",
       "      <th>9530</th>\n",
       "      <td>why do stupid laws get passed</td>\n",
       "      <td>many public safety laws are passed under the r...</td>\n",
       "      <td>0</td>\n",
       "      <td>0.821897</td>\n",
       "    </tr>\n",
       "    <tr>\n",
       "      <th>9539</th>\n",
       "      <td>why do stupid laws get passed</td>\n",
       "      <td>to understand the role of the federal courts i...</td>\n",
       "      <td>0</td>\n",
       "      <td>0.810707</td>\n",
       "    </tr>\n",
       "  </tbody>\n",
       "</table>\n",
       "</div>"
      ],
      "text/plain": [
       "                           question  \\\n",
       "9535  why do stupid laws get passed   \n",
       "9534  why do stupid laws get passed   \n",
       "9531  why do stupid laws get passed   \n",
       "9532  why do stupid laws get passed   \n",
       "9538  why do stupid laws get passed   \n",
       "9533  why do stupid laws get passed   \n",
       "9537  why do stupid laws get passed   \n",
       "9536  why do stupid laws get passed   \n",
       "9530  why do stupid laws get passed   \n",
       "9539  why do stupid laws get passed   \n",
       "\n",
       "                                                 answer  pred    cosine  \n",
       "9535  dumb criminals  crime doesn t pay   especially...     0  0.893468  \n",
       "9534  why were weird dumb laws passed    posted in o...     1  0.880474  \n",
       "9531  before you get into the politics  understand h...     0  0.869766  \n",
       "9532  michigan stupid laws it is illegal to kill a d...     0  0.868723  \n",
       "9538  alabama stupid laws  in alabama  it is illegal...     0  0.849507  \n",
       "9533  how does a law get passed  congress must be in...     0  0.839841  \n",
       "9537  laws created under the harm principle are writ...     0  0.831046  \n",
       "9536  while this law appears to be a direct assault ...     0  0.827817  \n",
       "9530  many public safety laws are passed under the r...     0  0.821897  \n",
       "9539  to understand the role of the federal courts i...     0  0.810707  "
      ]
     },
     "execution_count": 57,
     "metadata": {},
     "output_type": "execute_result"
    }
   ],
   "source": [
    "df_result_vec2.head(10)"
   ]
  },
  {
   "cell_type": "markdown",
   "metadata": {},
   "source": [
    "#### Calculate MRR_Wvec"
   ]
  },
  {
   "cell_type": "code",
   "execution_count": 58,
   "metadata": {},
   "outputs": [],
   "source": [
    "df_result_vec2['indices'] = range(0,len(df_result_vec2))\n",
    "df_result_vec2['rank'] = (df_result_vec2.groupby('question')['cosine'].rank(ascending=False))\n",
    "df_result_vec2 = df_result_vec2.drop(['indices'],axis=1)"
   ]
  },
  {
   "cell_type": "code",
   "execution_count": 59,
   "metadata": {},
   "outputs": [],
   "source": [
    "df_result_vec2['inv_rank'] = 1/ df_result_vec2['rank']"
   ]
  },
  {
   "cell_type": "code",
   "execution_count": 60,
   "metadata": {},
   "outputs": [],
   "source": [
    "df_result_vec2['true_rank'] = df_result_vec2['inv_rank'] * df_result_vec2['pred']"
   ]
  },
  {
   "cell_type": "code",
   "execution_count": 61,
   "metadata": {},
   "outputs": [],
   "source": [
    "mrr_vec = (df_result_vec2['true_rank'].sum()) / (df_result_vec2['question'].nunique())"
   ]
  },
  {
   "cell_type": "code",
   "execution_count": 62,
   "metadata": {},
   "outputs": [
    {
     "data": {
      "text/plain": [
       "0.4255847827009592"
      ]
     },
     "execution_count": 62,
     "metadata": {},
     "output_type": "execute_result"
    }
   ],
   "source": [
    "mrr_vec"
   ]
  },
  {
   "cell_type": "code",
   "execution_count": null,
   "metadata": {},
   "outputs": [],
   "source": []
  },
  {
   "cell_type": "code",
   "execution_count": null,
   "metadata": {},
   "outputs": [],
   "source": []
  }
 ],
 "metadata": {
  "kernelspec": {
   "display_name": "Python 3",
   "language": "python",
   "name": "python3"
  },
  "language_info": {
   "codemirror_mode": {
    "name": "ipython",
    "version": 3
   },
   "file_extension": ".py",
   "mimetype": "text/x-python",
   "name": "python",
   "nbconvert_exporter": "python",
   "pygments_lexer": "ipython3",
   "version": "3.6.8"
  }
 },
 "nbformat": 4,
 "nbformat_minor": 2
}

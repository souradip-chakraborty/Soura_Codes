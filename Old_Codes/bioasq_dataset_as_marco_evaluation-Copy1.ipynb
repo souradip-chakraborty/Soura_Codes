{
 "cells": [
  {
   "cell_type": "code",
   "execution_count": 69,
   "metadata": {},
   "outputs": [],
   "source": [
    "import numpy as np\n",
    "import pandas as pd\n",
    "from tqdm import tqdm\n",
    "import re\n"
   ]
  },
  {
   "cell_type": "code",
   "execution_count": 70,
   "metadata": {},
   "outputs": [],
   "source": [
    "df1 = pd.read_json('/Users/s0c02nj/Desktop/BioAsq_data/BioASQ-train-factoid-4b.json')\n",
    "df2 = pd.read_json('/Users/s0c02nj/Desktop/BioAsq_data/BioASQ-train-factoid-5b.json')\n",
    "\n",
    "df3 = pd.read_json('/Users/s0c02nj/Desktop/BioAsq_data/BioASQ-train-factoid-6b.json')\n",
    "\n",
    "df4 = pd.read_json('/Users/s0c02nj/Downloads/BioASQ-67b-15Oct2019/BioASQ-7b/train/Full-Abstract/'+\n",
    "                   'BioASQ-train-factoid-7b-full-annotated.json')"
   ]
  },
  {
   "cell_type": "code",
   "execution_count": 71,
   "metadata": {},
   "outputs": [],
   "source": [
    "l1 = len(df1['data'].iloc[0]['paragraphs'])\n",
    "l2 = len(df2['data'].iloc[0]['paragraphs'])\n",
    "l3 = len(df3['data'].iloc[0]['paragraphs'])\n",
    "l4 = len(df4['data'].iloc[0]['paragraphs'])"
   ]
  },
  {
   "cell_type": "code",
   "execution_count": 72,
   "metadata": {},
   "outputs": [],
   "source": [
    "def get_df(l,df) :\n",
    "\n",
    "    question = []\n",
    "    q_id = []\n",
    "    ans = []\n",
    "\n",
    "    for i in tqdm(range(0,l)):\n",
    "\n",
    "        para = df['data'].iloc[0]['paragraphs'][i]\n",
    "        qas = para['qas'][0]\n",
    "\n",
    "        question.append(qas['question'])\n",
    "        q_id.append(qas['id'])\n",
    "        ans.append(para['context'])\n",
    "        \n",
    "    \n",
    "    \n",
    "    #Dataframe\n",
    "    df_qa = pd.DataFrame()\n",
    "    \n",
    "    \n",
    "    #dataframe\n",
    "    df_qa['id'] = q_id\n",
    "    df_qa['question'] = question\n",
    "    df_qa['answer'] = ans\n",
    "\n",
    "    return df_qa\n",
    "\n"
   ]
  },
  {
   "cell_type": "code",
   "execution_count": 73,
   "metadata": {},
   "outputs": [
    {
     "name": "stderr",
     "output_type": "stream",
     "text": [
      "100%|██████████| 3266/3266 [00:00<00:00, 61543.77it/s]\n",
      "100%|██████████| 4950/4950 [00:00<00:00, 62344.02it/s]\n",
      "100%|██████████| 4772/4772 [00:00<00:00, 65914.56it/s]\n",
      "100%|██████████| 5537/5537 [00:00<00:00, 67597.69it/s]\n"
     ]
    }
   ],
   "source": [
    "df_qa1 = get_df(l1,df1)\n",
    "df_qa2 = get_df(l2,df2)\n",
    "df_qa3 = get_df(l3,df3)\n",
    "df_qa4 = get_df(l4,df4)"
   ]
  },
  {
   "cell_type": "code",
   "execution_count": 74,
   "metadata": {},
   "outputs": [],
   "source": [
    "df_qa = pd.concat([df_qa1,df_qa2,df_qa3,df_qa4],sort=False)"
   ]
  },
  {
   "cell_type": "code",
   "execution_count": 75,
   "metadata": {},
   "outputs": [],
   "source": [
    "df_qa = df_qa.drop(['id'],axis=1)"
   ]
  },
  {
   "cell_type": "code",
   "execution_count": 76,
   "metadata": {},
   "outputs": [
    {
     "data": {
      "text/plain": [
       "3022"
      ]
     },
     "execution_count": 76,
     "metadata": {},
     "output_type": "execute_result"
    }
   ],
   "source": [
    "df_qa['answer'].nunique()"
   ]
  },
  {
   "cell_type": "code",
   "execution_count": 77,
   "metadata": {},
   "outputs": [],
   "source": [
    "df_qa_un = df_qa.drop_duplicates(keep='first')"
   ]
  },
  {
   "cell_type": "code",
   "execution_count": 78,
   "metadata": {},
   "outputs": [
    {
     "data": {
      "text/html": [
       "<div>\n",
       "<style scoped>\n",
       "    .dataframe tbody tr th:only-of-type {\n",
       "        vertical-align: middle;\n",
       "    }\n",
       "\n",
       "    .dataframe tbody tr th {\n",
       "        vertical-align: top;\n",
       "    }\n",
       "\n",
       "    .dataframe thead th {\n",
       "        text-align: right;\n",
       "    }\n",
       "</style>\n",
       "<table border=\"1\" class=\"dataframe\">\n",
       "  <thead>\n",
       "    <tr style=\"text-align: right;\">\n",
       "      <th></th>\n",
       "      <th>question</th>\n",
       "      <th>answer</th>\n",
       "    </tr>\n",
       "  </thead>\n",
       "  <tbody>\n",
       "    <tr>\n",
       "      <th>0</th>\n",
       "      <td>What is the inheritance pattern of Li–Fraumeni...</td>\n",
       "      <td>Balanced t(11;15)(q23;q15) in a TP53+/+ breast...</td>\n",
       "    </tr>\n",
       "    <tr>\n",
       "      <th>1</th>\n",
       "      <td>What is the inheritance pattern of Li–Fraumeni...</td>\n",
       "      <td>Genetic modeling of Li-Fraumeni syndrome in ze...</td>\n",
       "    </tr>\n",
       "    <tr>\n",
       "      <th>2</th>\n",
       "      <td>Which type of lung cancer is afatinib used for?</td>\n",
       "      <td>Clinical perspective of afatinib in non-small ...</td>\n",
       "    </tr>\n",
       "    <tr>\n",
       "      <th>3</th>\n",
       "      <td>Which hormone abnormalities are characteristic...</td>\n",
       "      <td>DOCA sensitive pendrin expression in kidney, h...</td>\n",
       "    </tr>\n",
       "    <tr>\n",
       "      <th>4</th>\n",
       "      <td>Which hormone abnormalities are characteristic...</td>\n",
       "      <td>Clinical and molecular characteristics of Pend...</td>\n",
       "    </tr>\n",
       "  </tbody>\n",
       "</table>\n",
       "</div>"
      ],
      "text/plain": [
       "                                            question  \\\n",
       "0  What is the inheritance pattern of Li–Fraumeni...   \n",
       "1  What is the inheritance pattern of Li–Fraumeni...   \n",
       "2    Which type of lung cancer is afatinib used for?   \n",
       "3  Which hormone abnormalities are characteristic...   \n",
       "4  Which hormone abnormalities are characteristic...   \n",
       "\n",
       "                                              answer  \n",
       "0  Balanced t(11;15)(q23;q15) in a TP53+/+ breast...  \n",
       "1  Genetic modeling of Li-Fraumeni syndrome in ze...  \n",
       "2  Clinical perspective of afatinib in non-small ...  \n",
       "3  DOCA sensitive pendrin expression in kidney, h...  \n",
       "4  Clinical and molecular characteristics of Pend...  "
      ]
     },
     "execution_count": 78,
     "metadata": {},
     "output_type": "execute_result"
    }
   ],
   "source": [
    "df_qa_un['answer'].iloc[0]"
   ]
  },
  {
   "cell_type": "code",
   "execution_count": null,
   "metadata": {},
   "outputs": [],
   "source": []
  },
  {
   "cell_type": "code",
   "execution_count": 79,
   "metadata": {},
   "outputs": [],
   "source": [
    "def text_preprocessing(text):\n",
    "    text= text.lower()\n",
    "    text= re.sub(r'[^a-z]',' ',text)\n",
    "    #text= \" \".join([s for s in text.split() if len(s)>2])\n",
    "    text= \" \".join([x for x in text.split() if x not in stopwords.words('english')])\n",
    "    #text= \" \".join([inflection.singularize(x) for x in text.split()])\n",
    "    text= text.strip()\n",
    "    return(text)"
   ]
  },
  {
   "cell_type": "code",
   "execution_count": 80,
   "metadata": {},
   "outputs": [],
   "source": [
    "tqdm.pandas()"
   ]
  },
  {
   "cell_type": "code",
   "execution_count": 81,
   "metadata": {},
   "outputs": [
    {
     "name": "stderr",
     "output_type": "stream",
     "text": [
      "100%|██████████| 3052/3052 [00:06<00:00, 457.75it/s]\n",
      "/Users/s0c02nj/anaconda2/envs/graph/lib/python3.6/site-packages/ipykernel_launcher.py:1: SettingWithCopyWarning: \n",
      "A value is trying to be set on a copy of a slice from a DataFrame.\n",
      "Try using .loc[row_indexer,col_indexer] = value instead\n",
      "\n",
      "See the caveats in the documentation: http://pandas.pydata.org/pandas-docs/stable/user_guide/indexing.html#returning-a-view-versus-a-copy\n",
      "  \"\"\"Entry point for launching an IPython kernel.\n",
      "100%|██████████| 3052/3052 [02:44<00:00, 18.58it/s]\n",
      "/Users/s0c02nj/anaconda2/envs/graph/lib/python3.6/site-packages/ipykernel_launcher.py:2: SettingWithCopyWarning: \n",
      "A value is trying to be set on a copy of a slice from a DataFrame.\n",
      "Try using .loc[row_indexer,col_indexer] = value instead\n",
      "\n",
      "See the caveats in the documentation: http://pandas.pydata.org/pandas-docs/stable/user_guide/indexing.html#returning-a-view-versus-a-copy\n",
      "  \n"
     ]
    }
   ],
   "source": [
    "df_qa_un['question'] = df_qa_un['question'].progress_apply(lambda x: text_preprocessing(x))\n",
    "df_qa_un['answer'] =   df_qa_un['answer'].progress_apply(lambda x: text_preprocessing(x))"
   ]
  },
  {
   "cell_type": "code",
   "execution_count": 82,
   "metadata": {
    "scrolled": true
   },
   "outputs": [
    {
     "data": {
      "text/plain": [
       "(3052, 2)"
      ]
     },
     "execution_count": 82,
     "metadata": {},
     "output_type": "execute_result"
    }
   ],
   "source": [
    "df_qa_un.shape"
   ]
  },
  {
   "cell_type": "code",
   "execution_count": 83,
   "metadata": {},
   "outputs": [],
   "source": [
    "unique_ques = list(df_qa_un['question'].unique())\n",
    "unique_ans =  list(df_qa_un['answer'].unique())"
   ]
  },
  {
   "cell_type": "code",
   "execution_count": 84,
   "metadata": {},
   "outputs": [],
   "source": [
    "dict_ques = {}\n",
    "\n",
    "for i,qs in enumerate(unique_ques):\n",
    "    dict_ques[qs] = i   "
   ]
  },
  {
   "cell_type": "code",
   "execution_count": 85,
   "metadata": {},
   "outputs": [],
   "source": [
    "dict_ans = {}\n",
    "\n",
    "for i,ans in enumerate(unique_ans):\n",
    "    dict_ans[ans] = i    "
   ]
  },
  {
   "cell_type": "code",
   "execution_count": 86,
   "metadata": {},
   "outputs": [
    {
     "name": "stderr",
     "output_type": "stream",
     "text": [
      "100%|██████████| 3052/3052 [00:00<00:00, 32012.38it/s]\n"
     ]
    }
   ],
   "source": [
    "qid = []\n",
    "pid = []\n",
    "\n",
    "\n",
    "for i in tqdm(range(0,len(df_qa_un))):\n",
    "    \n",
    "    ques = df_qa_un['question'].iloc[i]\n",
    "    ans = df_qa_un['answer'].iloc[i]\n",
    "    \n",
    "    qid.append(dict_ques[ques])\n",
    "    pid.append(dict_ans[ans])"
   ]
  },
  {
   "cell_type": "code",
   "execution_count": 87,
   "metadata": {},
   "outputs": [
    {
     "name": "stderr",
     "output_type": "stream",
     "text": [
      "/Users/s0c02nj/anaconda2/envs/graph/lib/python3.6/site-packages/ipykernel_launcher.py:1: SettingWithCopyWarning: \n",
      "A value is trying to be set on a copy of a slice from a DataFrame.\n",
      "Try using .loc[row_indexer,col_indexer] = value instead\n",
      "\n",
      "See the caveats in the documentation: http://pandas.pydata.org/pandas-docs/stable/user_guide/indexing.html#returning-a-view-versus-a-copy\n",
      "  \"\"\"Entry point for launching an IPython kernel.\n",
      "/Users/s0c02nj/anaconda2/envs/graph/lib/python3.6/site-packages/ipykernel_launcher.py:2: SettingWithCopyWarning: \n",
      "A value is trying to be set on a copy of a slice from a DataFrame.\n",
      "Try using .loc[row_indexer,col_indexer] = value instead\n",
      "\n",
      "See the caveats in the documentation: http://pandas.pydata.org/pandas-docs/stable/user_guide/indexing.html#returning-a-view-versus-a-copy\n",
      "  \n"
     ]
    }
   ],
   "source": [
    "df_qa_un['qid'] = qid\n",
    "df_qa_un['pid'] = pid"
   ]
  },
  {
   "cell_type": "code",
   "execution_count": 88,
   "metadata": {},
   "outputs": [
    {
     "data": {
      "text/html": [
       "<div>\n",
       "<style scoped>\n",
       "    .dataframe tbody tr th:only-of-type {\n",
       "        vertical-align: middle;\n",
       "    }\n",
       "\n",
       "    .dataframe tbody tr th {\n",
       "        vertical-align: top;\n",
       "    }\n",
       "\n",
       "    .dataframe thead th {\n",
       "        text-align: right;\n",
       "    }\n",
       "</style>\n",
       "<table border=\"1\" class=\"dataframe\">\n",
       "  <thead>\n",
       "    <tr style=\"text-align: right;\">\n",
       "      <th></th>\n",
       "      <th>question</th>\n",
       "      <th>answer</th>\n",
       "      <th>qid</th>\n",
       "      <th>pid</th>\n",
       "    </tr>\n",
       "  </thead>\n",
       "  <tbody>\n",
       "    <tr>\n",
       "      <th>0</th>\n",
       "      <td>inheritance pattern li fraumeni syndrome</td>\n",
       "      <td>balanced q q tp breast cancer patient li fraum...</td>\n",
       "      <td>0</td>\n",
       "      <td>0</td>\n",
       "    </tr>\n",
       "    <tr>\n",
       "      <th>1</th>\n",
       "      <td>inheritance pattern li fraumeni syndrome</td>\n",
       "      <td>genetic modeling li fraumeni syndrome zebrafis...</td>\n",
       "      <td>0</td>\n",
       "      <td>1</td>\n",
       "    </tr>\n",
       "    <tr>\n",
       "      <th>2</th>\n",
       "      <td>type lung cancer afatinib used</td>\n",
       "      <td>clinical perspective afatinib non small cell l...</td>\n",
       "      <td>1</td>\n",
       "      <td>2</td>\n",
       "    </tr>\n",
       "    <tr>\n",
       "      <th>3</th>\n",
       "      <td>hormone abnormalities characteristic pendred s...</td>\n",
       "      <td>doca sensitive pendrin expression kidney heart...</td>\n",
       "      <td>2</td>\n",
       "      <td>3</td>\n",
       "    </tr>\n",
       "    <tr>\n",
       "      <th>4</th>\n",
       "      <td>hormone abnormalities characteristic pendred s...</td>\n",
       "      <td>clinical molecular characteristics pendred syn...</td>\n",
       "      <td>2</td>\n",
       "      <td>4</td>\n",
       "    </tr>\n",
       "  </tbody>\n",
       "</table>\n",
       "</div>"
      ],
      "text/plain": [
       "                                            question  \\\n",
       "0           inheritance pattern li fraumeni syndrome   \n",
       "1           inheritance pattern li fraumeni syndrome   \n",
       "2                     type lung cancer afatinib used   \n",
       "3  hormone abnormalities characteristic pendred s...   \n",
       "4  hormone abnormalities characteristic pendred s...   \n",
       "\n",
       "                                              answer  qid  pid  \n",
       "0  balanced q q tp breast cancer patient li fraum...    0    0  \n",
       "1  genetic modeling li fraumeni syndrome zebrafis...    0    1  \n",
       "2  clinical perspective afatinib non small cell l...    1    2  \n",
       "3  doca sensitive pendrin expression kidney heart...    2    3  \n",
       "4  clinical molecular characteristics pendred syn...    2    4  "
      ]
     },
     "execution_count": 88,
     "metadata": {},
     "output_type": "execute_result"
    }
   ],
   "source": [
    "df_qa_un.head()"
   ]
  },
  {
   "cell_type": "code",
   "execution_count": 89,
   "metadata": {},
   "outputs": [
    {
     "data": {
      "text/plain": [
       "(3052, 4)"
      ]
     },
     "execution_count": 89,
     "metadata": {},
     "output_type": "execute_result"
    }
   ],
   "source": [
    "df_qa_un.shape"
   ]
  },
  {
   "cell_type": "code",
   "execution_count": 90,
   "metadata": {},
   "outputs": [],
   "source": [
    "df_qa_un = df_qa_un.drop_duplicates(keep='first')"
   ]
  },
  {
   "cell_type": "code",
   "execution_count": 91,
   "metadata": {},
   "outputs": [
    {
     "data": {
      "text/plain": [
       "(3050, 4)"
      ]
     },
     "execution_count": 91,
     "metadata": {},
     "output_type": "execute_result"
    }
   ],
   "source": [
    "df_qa_un.shape"
   ]
  },
  {
   "cell_type": "code",
   "execution_count": 92,
   "metadata": {},
   "outputs": [],
   "source": [
    "# # df_qa_un.to_csv('/Users/s0c02nj/Desktop/Tuned_BioAsq_QA_dataset.csv',index = False)\n",
    "# df_new =   df_qa_un.groupby('qid').head(10).reset_index(drop=True)"
   ]
  },
  {
   "cell_type": "code",
   "execution_count": 99,
   "metadata": {},
   "outputs": [
    {
     "name": "stderr",
     "output_type": "stream",
     "text": [
      "100%|██████████| 3050/3050 [00:00<00:00, 16386.50it/s]\n"
     ]
    }
   ],
   "source": [
    "percent_match = []\n",
    "\n",
    "for i in tqdm(range(0,len(df_qa_un))):\n",
    "    \n",
    "    ques_set = set(df_qa_un['question'].iloc[i].split())\n",
    "    answer_set = set(df_qa_un['answer'].iloc[i].split())\n",
    "    \n",
    "    den = len(ques_set)\n",
    "    num = len(ques_set.intersection(answer_set))\n",
    "    \n",
    "    per = (num/den) * 100\n",
    "    \n",
    "    percent_match.append(per)"
   ]
  },
  {
   "cell_type": "code",
   "execution_count": 103,
   "metadata": {},
   "outputs": [
    {
     "data": {
      "text/plain": [
       "<matplotlib.axes._subplots.AxesSubplot at 0x1232c54a8>"
      ]
     },
     "execution_count": 103,
     "metadata": {},
     "output_type": "execute_result"
    },
    {
     "data": {
      "image/png": "[encoded data removed]",
      "text/plain": [
       "<Figure size 432x288 with 1 Axes>"
      ]
     },
     "metadata": {
      "needs_background": "light"
     },
     "output_type": "display_data"
    }
   ],
   "source": [
    "import seaborn as sns\n",
    "sns.distplot(percent_match)"
   ]
  },
  {
   "cell_type": "code",
   "execution_count": 111,
   "metadata": {},
   "outputs": [],
   "source": [
    "df_qa_un['percent'] = percent_match"
   ]
  },
  {
   "cell_type": "code",
   "execution_count": 147,
   "metadata": {},
   "outputs": [],
   "source": [
    "df_sub = df_qa_un[df_qa_un['percent'] < 30]"
   ]
  },
  {
   "cell_type": "code",
   "execution_count": 148,
   "metadata": {},
   "outputs": [],
   "source": [
    "#df_sub['question'].value_counts()\n",
    "#df_qa_un"
   ]
  },
  {
   "cell_type": "code",
   "execution_count": 149,
   "metadata": {},
   "outputs": [
    {
     "data": {
      "text/plain": [
       "62"
      ]
     },
     "execution_count": 149,
     "metadata": {},
     "output_type": "execute_result"
    }
   ],
   "source": [
    "df_sub['question'].nunique()"
   ]
  },
  {
   "cell_type": "code",
   "execution_count": null,
   "metadata": {},
   "outputs": [],
   "source": [
    "# df_qa_un['qid'].nunique()"
   ]
  },
  {
   "cell_type": "markdown",
   "metadata": {},
   "source": [
    "#### Elactic Search"
   ]
  },
  {
   "cell_type": "code",
   "execution_count": 131,
   "metadata": {},
   "outputs": [],
   "source": [
    "from elasticsearch import helpers, Elasticsearch\n",
    "import csv\n",
    "import re\n",
    "import nltk\n",
    "from nltk.corpus import stopwords \n",
    "from nltk.tokenize import word_tokenize\n",
    "from inflection import singularize\n",
    "import matplotlib.pyplot as plt\n",
    "from scipy.spatial.distance import cosine as cs"
   ]
  },
  {
   "cell_type": "code",
   "execution_count": 132,
   "metadata": {},
   "outputs": [
    {
     "data": {
      "text/plain": [
       "{'name': 'm-c02wv1jnhtd5',\n",
       " 'cluster_name': 'elasticsearch',\n",
       " 'cluster_uuid': 'i0Q_KCKeTLGlRZzF8qt__A',\n",
       " 'version': {'number': '7.6.2',\n",
       "  'build_flavor': 'default',\n",
       "  'build_type': 'tar',\n",
       "  'build_hash': 'ef48eb35cf30adf4db14086e8aabd07ef6fb113f',\n",
       "  'build_date': '2020-03-26T06:34:37.794943Z',\n",
       "  'build_snapshot': False,\n",
       "  'lucene_version': '8.4.0',\n",
       "  'minimum_wire_compatibility_version': '6.8.0',\n",
       "  'minimum_index_compatibility_version': '6.0.0-beta1'},\n",
       " 'tagline': 'You Know, for Search'}"
      ]
     },
     "execution_count": 132,
     "metadata": {},
     "output_type": "execute_result"
    }
   ],
   "source": [
    "es = Elasticsearch([{'host': 'localhost', 'port': 9200}])\n",
    "es.info()"
   ]
  },
  {
   "cell_type": "code",
   "execution_count": 134,
   "metadata": {},
   "outputs": [],
   "source": [
    "index='index_el'"
   ]
  },
  {
   "cell_type": "code",
   "execution_count": 135,
   "metadata": {},
   "outputs": [],
   "source": [
    "def doc_generator(data,index):\n",
    "    df_iter= data.iterrows()\n",
    "    \n",
    "    for index,document in df_iter:\n",
    "        yield{\n",
    "            \"_index\": 'index_el',\n",
    "            \"_type\": \"_doc\",\n",
    "            \"_id\" : f\"{index}\",\n",
    "            \"_source\": document.to_json()\n",
    "        }\n",
    "    raise StopIteration"
   ]
  },
  {
   "cell_type": "code",
   "execution_count": 138,
   "metadata": {},
   "outputs": [
    {
     "name": "stderr",
     "output_type": "stream",
     "text": [
      "3050it [00:00, 4132.91it/s]\n"
     ]
    },
    {
     "data": {
      "text/plain": [
       "{'_shards': {'total': 2, 'successful': 1, 'failed': 0}}"
      ]
     },
     "execution_count": 138,
     "metadata": {},
     "output_type": "execute_result"
    }
   ],
   "source": [
    "for success,info in tqdm(helpers.parallel_bulk(es,doc_generator(df_qa_un[['pid','answer']],index))):\n",
    "    if not success:\n",
    "        print('A document failed:', info)\n",
    "es.indices.refresh(index=index)"
   ]
  },
  {
   "cell_type": "code",
   "execution_count": 139,
   "metadata": {},
   "outputs": [],
   "source": [
    "def SEARCH(text,index,field):\n",
    "    \n",
    "    res= es.search(index=index,body={\"query\":{\"match\":{field:{\"query\":text,\"operator\":\"or\",\"fuzziness\": \"0\"\n",
    "                                                            }}}},size = 20)\n",
    "    \n",
    "    return([(x.get('_source'),x.get('_score')) for x in res['hits']['hits']])"
   ]
  },
  {
   "cell_type": "code",
   "execution_count": 166,
   "metadata": {},
   "outputs": [],
   "source": [
    "index='index_el'\n",
    "field = 'answer'"
   ]
  },
  {
   "cell_type": "code",
   "execution_count": 167,
   "metadata": {},
   "outputs": [],
   "source": [
    "#SEARCH('corporation',index,field)\n",
    "question_un = list(df_sub['question'].unique())\n",
    "\n",
    "df_ques = pd.DataFrame()\n",
    "df_ques['question'] = question_un"
   ]
  },
  {
   "cell_type": "code",
   "execution_count": 168,
   "metadata": {},
   "outputs": [
    {
     "data": {
      "text/plain": [
       "62"
      ]
     },
     "execution_count": 168,
     "metadata": {},
     "output_type": "execute_result"
    }
   ],
   "source": [
    "df_ques['question'].nunique()"
   ]
  },
  {
   "cell_type": "code",
   "execution_count": 169,
   "metadata": {},
   "outputs": [],
   "source": [
    "def query_generator(df):\n",
    "    while True:\n",
    "        yield (df_ques['question'])"
   ]
  },
  {
   "cell_type": "code",
   "execution_count": 170,
   "metadata": {},
   "outputs": [
    {
     "data": {
      "text/plain": [
       "<generator object query_generator at 0x1232c34c0>"
      ]
     },
     "execution_count": 170,
     "metadata": {},
     "output_type": "execute_result"
    }
   ],
   "source": [
    "query_generator(df_ques[['question']])"
   ]
  },
  {
   "cell_type": "code",
   "execution_count": 171,
   "metadata": {},
   "outputs": [],
   "source": [
    "import concurrent.futures"
   ]
  },
  {
   "cell_type": "code",
   "execution_count": 172,
   "metadata": {},
   "outputs": [
    {
     "name": "stderr",
     "output_type": "stream",
     "text": [
      "100%|██████████| 62/62 [00:00<00:00, 735.80it/s]"
     ]
    },
    {
     "name": "stdout",
     "output_type": "stream",
     "text": [
      "CPU times: user 90.5 ms, sys: 35 ms, total: 125 ms\n",
      "Wall time: 122 ms\n"
     ]
    },
    {
     "name": "stderr",
     "output_type": "stream",
     "text": [
      "\n"
     ]
    }
   ],
   "source": [
    "%%time\n",
    "\n",
    "queries=[]\n",
    "with concurrent.futures.ThreadPoolExecutor() as executor:\n",
    "    queries={executor.submit(SEARCH, query,index,'answer'): query for query in tqdm(df_ques.question)}\n"
   ]
  },
  {
   "cell_type": "code",
   "execution_count": 173,
   "metadata": {},
   "outputs": [
    {
     "name": "stderr",
     "output_type": "stream",
     "text": [
      "100%|██████████| 62/62 [00:00<00:00, 228713.15it/s]\n"
     ]
    }
   ],
   "source": [
    "out = [x.result() for x in tqdm(queries)]"
   ]
  },
  {
   "cell_type": "code",
   "execution_count": 180,
   "metadata": {},
   "outputs": [],
   "source": [
    "def get_std_ref_match(data_current):\n",
    "    \n",
    "    #UPC to match\n",
    "    questions = []\n",
    "    \n",
    "    #Original\n",
    "    answers = []\n",
    "    \n",
    "    #Score\n",
    "    score_bm25 = []\n",
    "    \n",
    "    #qid\n",
    "    #qs_id = []\n",
    "    \n",
    "    #pid\n",
    "    ps_id = []\n",
    "    \n",
    "        \n",
    "    \n",
    "    #Reindex\n",
    "    data_current.index = range(0,len(data_current))\n",
    "    \n",
    "    \n",
    "    for i in tqdm(range(0,len(data_current))):\n",
    "\n",
    "            #indexing\n",
    "            data_current.index = range(0,len(data_current))\n",
    "            \n",
    "            #question\n",
    "            qs = data_current['question'].iloc[i]\n",
    "            \n",
    "           \n",
    "            #Getting the search result\n",
    "            temp_out = out[i]\n",
    "            val = len(temp_out)\n",
    "\n",
    "            if val ==0:\n",
    "                \n",
    "                #questions\n",
    "                questions.append(qs)\n",
    "                \n",
    "\n",
    "                #answer\n",
    "                answers.append('NA')\n",
    "                \n",
    "                #qs_id ps_9d\n",
    "                #qs_id.append('NA')\n",
    "                ps_id.append('NA')\n",
    "                \n",
    "                #Score\n",
    "                score_bm25.append('NA')\n",
    "                \n",
    "             \n",
    "            else:\n",
    "                for j in np.arange(val):\n",
    "\n",
    "                    #clean_ingred\n",
    "                    questions.append(qs)\n",
    "                \n",
    "\n",
    "                    #Creating temp\n",
    "                    temp2 = temp_out[j]\n",
    "\n",
    "                    #Separting the tuple\n",
    "                    doc_txt = temp2[0]['answer']\n",
    "                    \n",
    "                    #qs_i = temp2[0]['qid']\n",
    "                    ps_i = temp2[0]['pid']\n",
    "                    \n",
    "                    #query,passage ids\n",
    "                    #qs_id.append(qs_i)\n",
    "                    ps_id.append(ps_i)\n",
    "\n",
    "                    #bm25\n",
    "                    doc_scr = temp2[1]\n",
    "\n",
    "\n",
    "                    #matched answers\n",
    "                    answers.append(doc_txt)\n",
    "                    \n",
    "\n",
    "                    #Score\n",
    "                    score_bm25.append(doc_scr)\n",
    "                    \n",
    "                    \n",
    "                    \n",
    "    \n",
    "\n",
    "    #Converting to a Dataframe   \n",
    "    df_out = pd.DataFrame()\n",
    "    #df_result['qid'] = qs_id\n",
    "    df_out['pid'] = ps_id\n",
    "    df_out['question'] = questions\n",
    "    df_out['answer'] = answers\n",
    "    df_out['score'] = score_bm25\n",
    "\n",
    "    return df_out\n",
    "\n"
   ]
  },
  {
   "cell_type": "code",
   "execution_count": 184,
   "metadata": {},
   "outputs": [
    {
     "name": "stderr",
     "output_type": "stream",
     "text": [
      "100%|██████████| 62/62 [00:00<00:00, 7505.18it/s]\n"
     ]
    }
   ],
   "source": [
    "df_out = get_std_ref_match(df_ques)"
   ]
  },
  {
   "cell_type": "code",
   "execution_count": 192,
   "metadata": {},
   "outputs": [],
   "source": [
    "q1 = df_ques['question'].iloc[3]"
   ]
  },
  {
   "cell_type": "code",
   "execution_count": 193,
   "metadata": {},
   "outputs": [
    {
     "data": {
      "text/html": [
       "<div>\n",
       "<style scoped>\n",
       "    .dataframe tbody tr th:only-of-type {\n",
       "        vertical-align: middle;\n",
       "    }\n",
       "\n",
       "    .dataframe tbody tr th {\n",
       "        vertical-align: top;\n",
       "    }\n",
       "\n",
       "    .dataframe thead th {\n",
       "        text-align: right;\n",
       "    }\n",
       "</style>\n",
       "<table border=\"1\" class=\"dataframe\">\n",
       "  <thead>\n",
       "    <tr style=\"text-align: right;\">\n",
       "      <th></th>\n",
       "      <th>pid</th>\n",
       "      <th>question</th>\n",
       "      <th>answer</th>\n",
       "      <th>score</th>\n",
       "    </tr>\n",
       "  </thead>\n",
       "  <tbody>\n",
       "    <tr>\n",
       "      <th>60</th>\n",
       "      <td>2762</td>\n",
       "      <td>generic name drug adempas</td>\n",
       "      <td>curb pneumonia severity score outperforms gene...</td>\n",
       "      <td>11.959177</td>\n",
       "    </tr>\n",
       "    <tr>\n",
       "      <th>61</th>\n",
       "      <td>153</td>\n",
       "      <td>generic name drug adempas</td>\n",
       "      <td>riociguat adempas novel agent treatment pulmon...</td>\n",
       "      <td>11.103895</td>\n",
       "    </tr>\n",
       "    <tr>\n",
       "      <th>62</th>\n",
       "      <td>157</td>\n",
       "      <td>generic name drug adempas</td>\n",
       "      <td>riociguat first global approval riociguat adem...</td>\n",
       "      <td>9.848738</td>\n",
       "    </tr>\n",
       "    <tr>\n",
       "      <th>63</th>\n",
       "      <td>344</td>\n",
       "      <td>generic name drug adempas</td>\n",
       "      <td>latest concept lewy body disease proposed term...</td>\n",
       "      <td>9.727232</td>\n",
       "    </tr>\n",
       "    <tr>\n",
       "      <th>64</th>\n",
       "      <td>156</td>\n",
       "      <td>generic name drug adempas</td>\n",
       "      <td>pharmaceutical approval update duavee oral con...</td>\n",
       "      <td>9.691828</td>\n",
       "    </tr>\n",
       "    <tr>\n",
       "      <th>65</th>\n",
       "      <td>156</td>\n",
       "      <td>generic name drug adempas</td>\n",
       "      <td>pharmaceutical approval update  duavee  an ora...</td>\n",
       "      <td>9.507464</td>\n",
       "    </tr>\n",
       "    <tr>\n",
       "      <th>66</th>\n",
       "      <td>154</td>\n",
       "      <td>generic name drug adempas</td>\n",
       "      <td>riociguat review use patients chronic thromboe...</td>\n",
       "      <td>9.421514</td>\n",
       "    </tr>\n",
       "    <tr>\n",
       "      <th>67</th>\n",
       "      <td>157</td>\n",
       "      <td>generic name drug adempas</td>\n",
       "      <td>riociguat  first global approval  riociguat  a...</td>\n",
       "      <td>8.179640</td>\n",
       "    </tr>\n",
       "    <tr>\n",
       "      <th>68</th>\n",
       "      <td>2084</td>\n",
       "      <td>generic name drug adempas</td>\n",
       "      <td>p phox nadph oxidase organiser noxo dependent ...</td>\n",
       "      <td>8.064499</td>\n",
       "    </tr>\n",
       "    <tr>\n",
       "      <th>69</th>\n",
       "      <td>154</td>\n",
       "      <td>generic name drug adempas</td>\n",
       "      <td>riociguat  a review of its use in patients wit...</td>\n",
       "      <td>7.606692</td>\n",
       "    </tr>\n",
       "    <tr>\n",
       "      <th>70</th>\n",
       "      <td>155</td>\n",
       "      <td>generic name drug adempas</td>\n",
       "      <td>riociguat management pulmonary arterial hypert...</td>\n",
       "      <td>7.599297</td>\n",
       "    </tr>\n",
       "    <tr>\n",
       "      <th>71</th>\n",
       "      <td>155</td>\n",
       "      <td>generic name drug adempas</td>\n",
       "      <td>riociguat for the management of pulmonary arte...</td>\n",
       "      <td>6.775180</td>\n",
       "    </tr>\n",
       "    <tr>\n",
       "      <th>72</th>\n",
       "      <td>347</td>\n",
       "      <td>generic name drug adempas</td>\n",
       "      <td>alpha synucleinopathies term alpha synucleinop...</td>\n",
       "      <td>6.754993</td>\n",
       "    </tr>\n",
       "    <tr>\n",
       "      <th>73</th>\n",
       "      <td>1592</td>\n",
       "      <td>generic name drug adempas</td>\n",
       "      <td>suvorexant dual orexin receptor antagonist tre...</td>\n",
       "      <td>6.246197</td>\n",
       "    </tr>\n",
       "    <tr>\n",
       "      <th>74</th>\n",
       "      <td>334</td>\n",
       "      <td>generic name drug adempas</td>\n",
       "      <td>phosphorylation meets ubiquitination control n...</td>\n",
       "      <td>5.612127</td>\n",
       "    </tr>\n",
       "    <tr>\n",
       "      <th>75</th>\n",
       "      <td>1592</td>\n",
       "      <td>generic name drug adempas</td>\n",
       "      <td>suvorexant  a dual orexin receptor antagonist ...</td>\n",
       "      <td>5.094926</td>\n",
       "    </tr>\n",
       "    <tr>\n",
       "      <th>76</th>\n",
       "      <td>2910</td>\n",
       "      <td>generic name drug adempas</td>\n",
       "      <td>prevalence tuberculosis infection comparison m...</td>\n",
       "      <td>4.561550</td>\n",
       "    </tr>\n",
       "    <tr>\n",
       "      <th>77</th>\n",
       "      <td>334</td>\n",
       "      <td>generic name drug adempas</td>\n",
       "      <td>phosphorylation meets ubiquitination  the cont...</td>\n",
       "      <td>4.537385</td>\n",
       "    </tr>\n",
       "    <tr>\n",
       "      <th>78</th>\n",
       "      <td>2982</td>\n",
       "      <td>generic name drug adempas</td>\n",
       "      <td>practical perspectives use tipranavir combinat...</td>\n",
       "      <td>4.494339</td>\n",
       "    </tr>\n",
       "    <tr>\n",
       "      <th>79</th>\n",
       "      <td>2175</td>\n",
       "      <td>generic name drug adempas</td>\n",
       "      <td>biodistribution pharmacokinetics dapivirine lo...</td>\n",
       "      <td>4.466629</td>\n",
       "    </tr>\n",
       "  </tbody>\n",
       "</table>\n",
       "</div>"
      ],
      "text/plain": [
       "     pid                   question  \\\n",
       "60  2762  generic name drug adempas   \n",
       "61   153  generic name drug adempas   \n",
       "62   157  generic name drug adempas   \n",
       "63   344  generic name drug adempas   \n",
       "64   156  generic name drug adempas   \n",
       "65   156  generic name drug adempas   \n",
       "66   154  generic name drug adempas   \n",
       "67   157  generic name drug adempas   \n",
       "68  2084  generic name drug adempas   \n",
       "69   154  generic name drug adempas   \n",
       "70   155  generic name drug adempas   \n",
       "71   155  generic name drug adempas   \n",
       "72   347  generic name drug adempas   \n",
       "73  1592  generic name drug adempas   \n",
       "74   334  generic name drug adempas   \n",
       "75  1592  generic name drug adempas   \n",
       "76  2910  generic name drug adempas   \n",
       "77   334  generic name drug adempas   \n",
       "78  2982  generic name drug adempas   \n",
       "79  2175  generic name drug adempas   \n",
       "\n",
       "                                               answer      score  \n",
       "60  curb pneumonia severity score outperforms gene...  11.959177  \n",
       "61  riociguat adempas novel agent treatment pulmon...  11.103895  \n",
       "62  riociguat first global approval riociguat adem...   9.848738  \n",
       "63  latest concept lewy body disease proposed term...   9.727232  \n",
       "64  pharmaceutical approval update duavee oral con...   9.691828  \n",
       "65  pharmaceutical approval update  duavee  an ora...   9.507464  \n",
       "66  riociguat review use patients chronic thromboe...   9.421514  \n",
       "67  riociguat  first global approval  riociguat  a...   8.179640  \n",
       "68  p phox nadph oxidase organiser noxo dependent ...   8.064499  \n",
       "69  riociguat  a review of its use in patients wit...   7.606692  \n",
       "70  riociguat management pulmonary arterial hypert...   7.599297  \n",
       "71  riociguat for the management of pulmonary arte...   6.775180  \n",
       "72  alpha synucleinopathies term alpha synucleinop...   6.754993  \n",
       "73  suvorexant dual orexin receptor antagonist tre...   6.246197  \n",
       "74  phosphorylation meets ubiquitination control n...   5.612127  \n",
       "75  suvorexant  a dual orexin receptor antagonist ...   5.094926  \n",
       "76  prevalence tuberculosis infection comparison m...   4.561550  \n",
       "77  phosphorylation meets ubiquitination  the cont...   4.537385  \n",
       "78  practical perspectives use tipranavir combinat...   4.494339  \n",
       "79  biodistribution pharmacokinetics dapivirine lo...   4.466629  "
      ]
     },
     "execution_count": 193,
     "metadata": {},
     "output_type": "execute_result"
    }
   ],
   "source": [
    "df_out[df_out['question'] == q1]"
   ]
  },
  {
   "cell_type": "code",
   "execution_count": 198,
   "metadata": {},
   "outputs": [],
   "source": [
    "#df_sub[df_sub['question'] == q1]"
   ]
  },
  {
   "cell_type": "code",
   "execution_count": 204,
   "metadata": {},
   "outputs": [],
   "source": [
    "#Bringing the unique qids\n",
    "df_out['qid'] = df_out['question'].apply(lambda x : dict_ques[x])"
   ]
  },
  {
   "cell_type": "code",
   "execution_count": 206,
   "metadata": {},
   "outputs": [],
   "source": [
    "df_out1 = df_out.sort_values(by=['question','score'],ascending = False)"
   ]
  },
  {
   "cell_type": "code",
   "execution_count": 208,
   "metadata": {},
   "outputs": [],
   "source": [
    "df_out1['indices'] = range(0,len(df_out1))\n",
    "df_out1['rank'] = (df_out1.groupby('question')['indices'].rank(ascending=True))\n",
    "df_out1 = df_out1.drop(['indices'],axis=1)"
   ]
  },
  {
   "cell_type": "code",
   "execution_count": 210,
   "metadata": {},
   "outputs": [],
   "source": [
    "df_pred = df_out1[['qid','pid','rank']]"
   ]
  },
  {
   "cell_type": "code",
   "execution_count": 213,
   "metadata": {},
   "outputs": [],
   "source": [
    "df_true = df_sub[['qid','pid']]"
   ]
  },
  {
   "cell_type": "code",
   "execution_count": 214,
   "metadata": {},
   "outputs": [],
   "source": [
    "def compute_metrics(df_true, df_pred,MaxMRRRank):\n",
    "    \n",
    "    \"\"\"Compute MRR metric\n",
    "    Assumptions: Ensure we have top 10 results for all the questions for the code sanity\n",
    "    Sort the results by cosine similarity and give the top 10\n",
    "    \"\"\"\n",
    "    all_scores = {}\n",
    "    MRR = 0\n",
    "    \n",
    "    \n",
    "    #list of true and predicted\n",
    "    list1= list(set(df_pred['qid'].to_list()))\n",
    "    list2= list(set(df_true['qid'].to_list()))\n",
    "    \n",
    "    \n",
    "    for qid in list1:\n",
    "        if qid in list2:\n",
    "            #print (qid)\n",
    "            target_pid = list(df_true[df_true['qid']==qid]['pid'])\n",
    "            candidate_pid = list(df_pred[df_pred['qid']==qid]['pid'])\n",
    "            rank_pid = list(df_pred[df_pred['qid']==qid]['rank'])\n",
    "            \n",
    "            for i in range(0,MaxMRRRank):\n",
    "                if candidate_pid[i] in target_pid:\n",
    "                    MRR += 1/(rank_pid[i] + 1)\n",
    "                    #print (MRR)\n",
    "                \n",
    "\n",
    "    \n",
    "    \n",
    "    #calculating the final MRR\n",
    "    MRR = MRR/len(list1)\n",
    "    all_scores['MRR @10'] = MRR\n",
    "    all_scores['QueriesRanked'] = len(list1)\n",
    "    return all_scores"
   ]
  },
  {
   "cell_type": "code",
   "execution_count": 258,
   "metadata": {},
   "outputs": [
    {
     "data": {
      "text/plain": [
       "{'MRR @10': 0.17096774193548392, 'QueriesRanked': 62}"
      ]
     },
     "execution_count": 258,
     "metadata": {},
     "output_type": "execute_result"
    }
   ],
   "source": [
    "compute_metrics(df_true, df_pred,5)"
   ]
  },
  {
   "cell_type": "code",
   "execution_count": 266,
   "metadata": {},
   "outputs": [],
   "source": [
    "MAX_RANK = 20\n",
    "\n",
    "hits = pd.merge(df_true, df_pred,\n",
    "    on=[\"qid\", \"pid\"],\n",
    "    how=\"left\").fillna(MAX_RANK)\n",
    "\n"
   ]
  },
  {
   "cell_type": "code",
   "execution_count": 267,
   "metadata": {},
   "outputs": [
    {
     "data": {
      "text/plain": [
       "0.23633530448046586"
      ]
     },
     "execution_count": 267,
     "metadata": {},
     "output_type": "execute_result"
    }
   ],
   "source": [
    "mrr_type2 = (1 / hits.groupby('qid')['rank'].min()).mean()\n",
    "mrr_type2"
   ]
  },
  {
   "cell_type": "code",
   "execution_count": null,
   "metadata": {},
   "outputs": [],
   "source": []
  },
  {
   "cell_type": "code",
   "execution_count": null,
   "metadata": {},
   "outputs": [],
   "source": []
  },
  {
   "cell_type": "code",
   "execution_count": null,
   "metadata": {},
   "outputs": [],
   "source": []
  },
  {
   "cell_type": "code",
   "execution_count": null,
   "metadata": {},
   "outputs": [],
   "source": []
  },
  {
   "cell_type": "code",
   "execution_count": null,
   "metadata": {},
   "outputs": [],
   "source": []
  },
  {
   "cell_type": "code",
   "execution_count": null,
   "metadata": {},
   "outputs": [],
   "source": []
  },
  {
   "cell_type": "code",
   "execution_count": null,
   "metadata": {},
   "outputs": [],
   "source": []
  },
  {
   "cell_type": "code",
   "execution_count": null,
   "metadata": {},
   "outputs": [],
   "source": []
  },
  {
   "cell_type": "code",
   "execution_count": null,
   "metadata": {},
   "outputs": [],
   "source": []
  },
  {
   "cell_type": "code",
   "execution_count": null,
   "metadata": {},
   "outputs": [],
   "source": []
  }
 ],
 "metadata": {
  "kernelspec": {
   "display_name": "Python 3",
   "language": "python",
   "name": "python3"
  },
  "language_info": {
   "codemirror_mode": {
    "name": "ipython",
    "version": 3
   },
   "file_extension": ".py",
   "mimetype": "text/x-python",
   "name": "python",
   "nbconvert_exporter": "python",
   "pygments_lexer": "ipython3",
   "version": "3.6.8"
  }
 },
 "nbformat": 4,
 "nbformat_minor": 2
}

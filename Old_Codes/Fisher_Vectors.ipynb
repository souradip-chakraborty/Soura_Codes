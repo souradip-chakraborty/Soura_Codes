{
 "cells": [
  {
   "cell_type": "code",
   "execution_count": 1,
   "metadata": {},
   "outputs": [],
   "source": [
    "import numpy as np\n",
    "import math, cv2\n",
    "from scipy.stats import multivariate_normal\n",
    "import time\n",
    "from sklearn import svm"
   ]
  },
  {
   "cell_type": "code",
   "execution_count": 2,
   "metadata": {},
   "outputs": [],
   "source": [
    "def dictionary(descriptors, N):\n",
    "    em = cv2.EM(N)\n",
    "    em.train(descriptors)\n",
    "\n",
    "    return np.float32(em.getMat(\"means\")), \\\n",
    "        np.float32(em.getMatVector(\"covs\")), np.float32(em.getMat(\"weights\"))[0]"
   ]
  },
  {
   "cell_type": "code",
   "execution_count": 2,
   "metadata": {},
   "outputs": [],
   "source": [
    "#Extracting SIFT Feature Vectors\n",
    "def image_descriptors(file):\n",
    "    img = cv2.imread(file, 0)\n",
    "    img = cv2.resize(img, (256, 256))\n",
    "    _ , descriptors = cv2.SIFT().detectAndCompute(img, None)\n",
    "    return descriptors"
   ]
  },
  {
   "cell_type": "code",
   "execution_count": null,
   "metadata": {},
   "outputs": [],
   "source": []
  }
 ],
 "metadata": {
  "kernelspec": {
   "display_name": "Python 3",
   "language": "python",
   "name": "python3"
  },
  "language_info": {
   "codemirror_mode": {
    "name": "ipython",
    "version": 2
   },
   "file_extension": ".py",
   "mimetype": "text/x-python",
   "name": "python",
   "nbconvert_exporter": "python",
   "pygments_lexer": "ipython2",
   "version": "2.7.16"
  }
 },
 "nbformat": 4,
 "nbformat_minor": 2
}

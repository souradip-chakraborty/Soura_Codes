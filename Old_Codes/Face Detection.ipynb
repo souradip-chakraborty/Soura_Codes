{
 "cells": [
  {
   "cell_type": "code",
   "execution_count": 2,
   "metadata": {},
   "outputs": [],
   "source": [
    "import pandas as pd\n",
    "import numpy as np\n",
    "import operator\n",
    "import json\n",
    "import datetime\n",
    "from datetime import datetime\n",
    "import itertools\n",
    "from tqdm import tqdm"
   ]
  },
  {
   "cell_type": "code",
   "execution_count": 3,
   "metadata": {},
   "outputs": [],
   "source": [
    "# df = pd.read_csv('/users/s0p00zp/Downloads/analysis_38507735-A182-4F98-90C4-08D762F92557_12012019-12062019.csv',\n",
    "#                header=None)"
   ]
  },
  {
   "cell_type": "code",
   "execution_count": 4,
   "metadata": {},
   "outputs": [
    {
     "ename": "FileNotFoundError",
     "evalue": "[Errno 2] No such file or directory: '/Users/s0c02nj/Downloads/Analysis 3000001 - 4000000.txt'",
     "output_type": "error",
     "traceback": [
      "\u001b[0;31m---------------------------------------------------------------------------\u001b[0m",
      "\u001b[0;31mFileNotFoundError\u001b[0m                         Traceback (most recent call last)",
      "\u001b[0;32m<ipython-input-4-b8dff43860da>\u001b[0m in \u001b[0;36m<module>\u001b[0;34m\u001b[0m\n\u001b[1;32m      1\u001b[0m \u001b[0;31m#folder_path= '/Users/s0c02nj/Downloads/Analysis 3000001 - 4000000.txt'\u001b[0m\u001b[0;34m\u001b[0m\u001b[0;34m\u001b[0m\u001b[0;34m\u001b[0m\u001b[0m\n\u001b[1;32m      2\u001b[0m \u001b[0;34m\u001b[0m\u001b[0m\n\u001b[0;32m----> 3\u001b[0;31m \u001b[0mdata\u001b[0m \u001b[0;34m=\u001b[0m \u001b[0mopen\u001b[0m\u001b[0;34m(\u001b[0m\u001b[0mfolder_path\u001b[0m\u001b[0;34m,\u001b[0m\u001b[0;34m\"r+\"\u001b[0m\u001b[0;34m,\u001b[0m\u001b[0mencoding\u001b[0m\u001b[0;34m=\u001b[0m\u001b[0;34m\"utf8\"\u001b[0m\u001b[0;34m)\u001b[0m\u001b[0;34m.\u001b[0m\u001b[0mreadlines\u001b[0m\u001b[0;34m(\u001b[0m\u001b[0;34m)\u001b[0m\u001b[0;34m\u001b[0m\u001b[0;34m\u001b[0m\u001b[0m\n\u001b[0m\u001b[1;32m      4\u001b[0m \u001b[0mdf\u001b[0m \u001b[0;34m=\u001b[0m \u001b[0mpd\u001b[0m\u001b[0;34m.\u001b[0m\u001b[0mDataFrame\u001b[0m\u001b[0;34m(\u001b[0m\u001b[0;34m[\u001b[0m\u001b[0msub\u001b[0m\u001b[0;34m.\u001b[0m\u001b[0msplit\u001b[0m\u001b[0;34m(\u001b[0m\u001b[0;34m\"\\t\"\u001b[0m\u001b[0;34m)\u001b[0m \u001b[0;32mfor\u001b[0m \u001b[0msub\u001b[0m \u001b[0;32min\u001b[0m \u001b[0mdata\u001b[0m\u001b[0;34m]\u001b[0m\u001b[0;34m)\u001b[0m\u001b[0;34m\u001b[0m\u001b[0;34m\u001b[0m\u001b[0m\n\u001b[1;32m      5\u001b[0m \u001b[0mdf\u001b[0m\u001b[0;34m[\u001b[0m\u001b[0;36m3\u001b[0m\u001b[0;34m]\u001b[0m \u001b[0;34m=\u001b[0m \u001b[0mdf\u001b[0m\u001b[0;34m[\u001b[0m\u001b[0;36m3\u001b[0m\u001b[0;34m]\u001b[0m\u001b[0;34m.\u001b[0m\u001b[0mstr\u001b[0m\u001b[0;34m.\u001b[0m\u001b[0mrstrip\u001b[0m\u001b[0;34m(\u001b[0m\u001b[0;34m'\\n'\u001b[0m\u001b[0;34m)\u001b[0m\u001b[0;34m\u001b[0m\u001b[0;34m\u001b[0m\u001b[0m\n",
      "\u001b[0;31mFileNotFoundError\u001b[0m: [Errno 2] No such file or directory: '/Users/s0c02nj/Downloads/Analysis 3000001 - 4000000.txt'"
     ]
    }
   ],
   "source": [
    "#folder_path= '/Users/s0c02nj/Downloads/Analysis 3000001 - 4000000.txt'\n",
    "\n",
    "data = open(folder_path,\"r+\",encoding=\"utf8\").readlines()\n",
    "df = pd.DataFrame([sub.split(\"\\t\") for sub in data])\n",
    "df[3] = df[3].str.rstrip('\\n')"
   ]
  },
  {
   "cell_type": "code",
   "execution_count": 4,
   "metadata": {},
   "outputs": [],
   "source": [
    "# s = \"2016-03-26T09:25:55.000Z\"\n",
    "# f = \"%Y-%m-%dT%H:%M:%S.%fZ\""
   ]
  },
  {
   "cell_type": "code",
   "execution_count": 5,
   "metadata": {},
   "outputs": [],
   "source": [
    "#int(float(df[3][0] .split(\":\")[1]))"
   ]
  },
  {
   "cell_type": "code",
   "execution_count": 6,
   "metadata": {},
   "outputs": [],
   "source": [
    "# h=[int(x.split(\":\")[0]) for x in df[3]]\n",
    "# minute=[int(float(x.split(\":\")[1])) for x in df[3]]\n",
    "# second=[float(x.split(\":\")[1])-int(float(x.split(\":\")[1])) for x in df[3]]"
   ]
  },
  {
   "cell_type": "code",
   "execution_count": 7,
   "metadata": {},
   "outputs": [
    {
     "data": {
      "text/plain": [
       "'2019-12-20 15:52:20'"
      ]
     },
     "execution_count": 7,
     "metadata": {},
     "output_type": "execute_result"
    }
   ],
   "source": [
    "# time_stamp=[]\n",
    "# for (a,b,c) in zip(h,minute,second):\n",
    "#     print(a,b,c)\n",
    "#     tmp=datetime.time(a,b,int(c*60)).strftime('%H:%M:%S')\n",
    "#     time_stamp.append(tmp)\n",
    "x = df[3].iloc[0]\n",
    "y = x.split('.')[0]\n",
    "y\n",
    "datetime_object = datetime.strptime(y, '%Y-%m-%d %H:%M:%S')"
   ]
  },
  {
   "cell_type": "code",
   "execution_count": 8,
   "metadata": {},
   "outputs": [],
   "source": [
    "\n",
    "\n",
    "#datetime_object."
   ]
  },
  {
   "cell_type": "code",
   "execution_count": 9,
   "metadata": {},
   "outputs": [
    {
     "data": {
      "text/plain": [
       "15"
      ]
     },
     "execution_count": 9,
     "metadata": {},
     "output_type": "execute_result"
    }
   ],
   "source": [
    "#datetime_object\n",
    "datetime_object.hour"
   ]
  },
  {
   "cell_type": "code",
   "execution_count": 10,
   "metadata": {},
   "outputs": [],
   "source": [
    "#x.split()[0]"
   ]
  },
  {
   "cell_type": "code",
   "execution_count": 11,
   "metadata": {},
   "outputs": [],
   "source": [
    "#x.split()[1].split('.')[0]"
   ]
  },
  {
   "cell_type": "code",
   "execution_count": null,
   "metadata": {},
   "outputs": [],
   "source": []
  },
  {
   "cell_type": "code",
   "execution_count": 12,
   "metadata": {},
   "outputs": [],
   "source": [
    "parsed_json= json.loads(df.loc[199][1])\n"
   ]
  },
  {
   "cell_type": "code",
   "execution_count": 13,
   "metadata": {},
   "outputs": [
    {
     "data": {
      "text/plain": [
       "dict_keys(['FaceGeometry', 'ThirdPartyException', 'FullBodyGeometry', 'UpperBodyGeometry', 'LowerBodyGeometry'])"
      ]
     },
     "execution_count": 13,
     "metadata": {},
     "output_type": "execute_result"
    }
   ],
   "source": [
    "parsed_json.keys()"
   ]
  },
  {
   "cell_type": "code",
   "execution_count": 14,
   "metadata": {},
   "outputs": [],
   "source": [
    "t=parsed_json.get('ThirdPartyLibrariesFace')"
   ]
  },
  {
   "cell_type": "code",
   "execution_count": 15,
   "metadata": {},
   "outputs": [
    {
     "data": {
      "text/plain": [
       "{'FaceGeometry': '[{\"X\":945,\"Y\":252,\"Width\":47,\"Height\":47,\"Top\":252,\"Bottom\":298,\"Left\":945,\"Right\":991,\"Location\":{\"X\":945,\"Y\":252},\"Size\":{\"Width\":47,\"Height\":47},\"TopLeft\":{\"X\":945,\"Y\":252},\"BottomRight\":{\"X\":991,\"Y\":298}},{\"X\":857,\"Y\":471,\"Width\":72,\"Height\":72,\"Top\":471,\"Bottom\":542,\"Left\":857,\"Right\":928,\"Location\":{\"X\":857,\"Y\":471},\"Size\":{\"Width\":72,\"Height\":72},\"TopLeft\":{\"X\":857,\"Y\":471},\"BottomRight\":{\"X\":928,\"Y\":542}}]',\n",
       " 'ThirdPartyException': 'System.Net.Http.HttpRequestException: Resource temporarily unavailable\\n ---> System.Net.Sockets.SocketException (11): Resource temporarily unavailable\\n   at System.Net.Http.ConnectHelper.ConnectAsync(String host, Int32 port, CancellationToken cancellationToken)\\n   --- End of inner exception stack trace ---\\n   at Microsoft.Rest.RetryDelegatingHandler.SendAsync(HttpRequestMessage request, CancellationToken cancellationToken)\\n   at System.Net.Http.HttpClient.FinishSendAsyncBuffered(Task`1 sendTask, HttpRequestMessage request, CancellationTokenSource cts, Boolean disposeCts)\\n   at Microsoft.Azure.CognitiveServices.Vision.Face.FaceOperations.DetectWithStreamWithHttpMessagesAsync(Stream image, Nullable`1 returnFaceId, Nullable`1 returnFaceLandmarks, IList`1 returnFaceAttributes, String recognitionModel, Nullable`1 returnRecognitionModel, String detectionModel, Dictionary`2 customHeaders, CancellationToken cancellationToken)\\n   at Microsoft.Azure.CognitiveServices.Vision.Face.FaceOperationsExtensions.DetectWithStreamAsync(IFaceOperations operations, Stream image, Nullable`1 returnFaceId, Nullable`1 returnFaceLandmarks, IList`1 returnFaceAttributes, String recognitionModel, Nullable`1 returnRecognitionModel, String detectionModel, CancellationToken cancellationToken)\\n   at ImageAnalysis.Microsoft.FaceAPIV1.GetAnalysisAsync(Byte[] data) in C:\\\\Users\\\\e0w01dp\\\\source\\\\repos\\\\ImageAnalysis\\\\ImageAnalysis.Microsoft\\\\FaceAPIV1.cs:line 59\\n   at ImageAnalysis.CV.FaceSentiment.CloudAnalysis(Byte[] data, IEdgeSentiment edgeSentiment) in C:\\\\Users\\\\e0w01dp\\\\source\\\\repos\\\\ImageAnalysis\\\\ImageAnalysis.CV\\\\FaceSentiment.cs:line 49\\n   at ImageAnalysis.CV.FaceSentiment.GetAnalysisAsync(Byte[] data) in C:\\\\Users\\\\e0w01dp\\\\source\\\\repos\\\\ImageAnalysis\\\\ImageAnalysis.CV\\\\FaceSentiment.cs:line 45\\n   at ImageAnalysis.CV.CVAnalyzer.GrabAnalysis(Camera camera, Service service) in C:\\\\Users\\\\e0w01dp\\\\source\\\\repos\\\\ImageAnalysis\\\\ImageAnalysis.CV\\\\CVAnalyzer.cs:line 80',\n",
       " 'FullBodyGeometry': '[{\"X\":136,\"Y\":94,\"Width\":34,\"Height\":68,\"Top\":94,\"Bottom\":161,\"Left\":136,\"Right\":169,\"Location\":{\"X\":136,\"Y\":94},\"Size\":{\"Width\":34,\"Height\":68},\"TopLeft\":{\"X\":136,\"Y\":94},\"BottomRight\":{\"X\":169,\"Y\":161}},{\"X\":1060,\"Y\":310,\"Width\":145,\"Height\":290,\"Top\":310,\"Bottom\":599,\"Left\":1060,\"Right\":1204,\"Location\":{\"X\":1060,\"Y\":310},\"Size\":{\"Width\":145,\"Height\":290},\"TopLeft\":{\"X\":1060,\"Y\":310},\"BottomRight\":{\"X\":1204,\"Y\":599}}]',\n",
       " 'UpperBodyGeometry': '[{\"X\":1432,\"Y\":190,\"Width\":80,\"Height\":66,\"Top\":190,\"Bottom\":255,\"Left\":1432,\"Right\":1511,\"Location\":{\"X\":1432,\"Y\":190},\"Size\":{\"Width\":80,\"Height\":66},\"TopLeft\":{\"X\":1432,\"Y\":190},\"BottomRight\":{\"X\":1511,\"Y\":255}},{\"X\":242,\"Y\":299,\"Width\":100,\"Height\":82,\"Top\":299,\"Bottom\":380,\"Left\":242,\"Right\":341,\"Location\":{\"X\":242,\"Y\":299},\"Size\":{\"Width\":100,\"Height\":82},\"TopLeft\":{\"X\":242,\"Y\":299},\"BottomRight\":{\"X\":341,\"Y\":380}}]',\n",
       " 'LowerBodyGeometry': '[{\"X\":1442,\"Y\":79,\"Width\":47,\"Height\":57,\"Top\":79,\"Bottom\":135,\"Left\":1442,\"Right\":1488,\"Location\":{\"X\":1442,\"Y\":79},\"Size\":{\"Width\":47,\"Height\":57},\"TopLeft\":{\"X\":1442,\"Y\":79},\"BottomRight\":{\"X\":1488,\"Y\":135}},{\"X\":1053,\"Y\":413,\"Width\":164,\"Height\":199,\"Top\":413,\"Bottom\":611,\"Left\":1053,\"Right\":1216,\"Location\":{\"X\":1053,\"Y\":413},\"Size\":{\"Width\":164,\"Height\":199},\"TopLeft\":{\"X\":1053,\"Y\":413},\"BottomRight\":{\"X\":1216,\"Y\":611}}]'}"
      ]
     },
     "execution_count": 15,
     "metadata": {},
     "output_type": "execute_result"
    }
   ],
   "source": [
    "parsed_json"
   ]
  },
  {
   "cell_type": "code",
   "execution_count": 16,
   "metadata": {},
   "outputs": [],
   "source": [
    "def as_complex(dct):\n",
    "    if '__complex__' in dct:\n",
    "        return complex(dct)\n",
    "    return(dct)"
   ]
  },
  {
   "cell_type": "code",
   "execution_count": 17,
   "metadata": {},
   "outputs": [],
   "source": [
    "attributes=['age','facialHair','gender','emotion','hair','glasses']\n",
    "\n",
    "def get_attributes(json_data):\n",
    "    faceId=json.loads(json.loads(json_data,object_hook=as_complex).get('MicrosoftData'),\n",
    "           object_hook=as_complex)[0].get('faceId')\n",
    "    faceAttributes=json.loads(json.loads(json_data,object_hook=as_complex).get('MicrosoftData'),\n",
    "           object_hook=as_complex)[0].get('faceAttributes')\n",
    "    age=faceAttributes.get(attributes[0])\n",
    "    facialHair=max(faceAttributes.get(attributes[1]).items(),key=operator.itemgetter(1))[0]\n",
    "    gender=faceAttributes.get(attributes[2])\n",
    "    emotion=max(faceAttributes.get(attributes[3]).items(),key=operator.itemgetter(1))[0]\n",
    "    #hair=max(faceAttributes.get(attributes[4]).items(),key=operator.itemgetter(1))[0]\n",
    "    glasses=faceAttributes.get(attributes[5])\n",
    "    return(pd.DataFrame({'faceId':faceId,\n",
    "                       'age':age,'facialHair':facialHair,'glasses':glasses,\n",
    "                       'gender':gender,'emotion':emotion},index=[0]))"
   ]
  },
  {
   "cell_type": "code",
   "execution_count": null,
   "metadata": {},
   "outputs": [],
   "source": []
  },
  {
   "cell_type": "code",
   "execution_count": 20,
   "metadata": {},
   "outputs": [
    {
     "name": "stderr",
     "output_type": "stream",
     "text": [
      "100%|██████████| 1000000/1000000 [38:08<00:00, 436.98it/s]  \n"
     ]
    }
   ],
   "source": [
    "error=[]\n",
    "time=[]\n",
    "final_df=pd.DataFrame()\n",
    "\n",
    "for i in tqdm(range(df.shape[0])):\n",
    "    j=i+1\n",
    "#     if j % 10000==0:\n",
    "#         print(\"Parsed :\",j)\n",
    "    parsed_json=json.loads(df.loc[i][1])\n",
    "    if 'ThirdPartyLibrariesFace' in parsed_json.keys():\n",
    "        text=parsed_json.get('ThirdPartyLibrariesFace')\n",
    "        try:\n",
    "            tmp_df=get_attributes(text)\n",
    "            final_df=pd.concat([final_df,tmp_df])\n",
    "            time.append(df[3][i])\n",
    "        except:\n",
    "            error.append(i)\n",
    "    else:\n",
    "        error.append(i)  "
   ]
  },
  {
   "cell_type": "code",
   "execution_count": 22,
   "metadata": {},
   "outputs": [
    {
     "data": {
      "text/plain": [
       "(74471, 6)"
      ]
     },
     "execution_count": 22,
     "metadata": {},
     "output_type": "execute_result"
    }
   ],
   "source": [
    "final_df.shape\n"
   ]
  },
  {
   "cell_type": "code",
   "execution_count": 25,
   "metadata": {},
   "outputs": [
    {
     "data": {
      "text/html": [
       "<div>\n",
       "<style scoped>\n",
       "    .dataframe tbody tr th:only-of-type {\n",
       "        vertical-align: middle;\n",
       "    }\n",
       "\n",
       "    .dataframe tbody tr th {\n",
       "        vertical-align: top;\n",
       "    }\n",
       "\n",
       "    .dataframe thead th {\n",
       "        text-align: right;\n",
       "    }\n",
       "</style>\n",
       "<table border=\"1\" class=\"dataframe\">\n",
       "  <thead>\n",
       "    <tr style=\"text-align: right;\">\n",
       "      <th></th>\n",
       "      <th>faceId</th>\n",
       "      <th>age</th>\n",
       "      <th>facialHair</th>\n",
       "      <th>glasses</th>\n",
       "      <th>gender</th>\n",
       "      <th>emotion</th>\n",
       "    </tr>\n",
       "  </thead>\n",
       "  <tbody>\n",
       "    <tr>\n",
       "      <th>0</th>\n",
       "      <td>d46a8115-c6a4-4b81-9b48-d91c276bd23a</td>\n",
       "      <td>40.0</td>\n",
       "      <td>moustache</td>\n",
       "      <td>noGlasses</td>\n",
       "      <td>female</td>\n",
       "      <td>neutral</td>\n",
       "    </tr>\n",
       "    <tr>\n",
       "      <th>0</th>\n",
       "      <td>017203ca-6f07-4fa6-99db-c0c883afe66c</td>\n",
       "      <td>46.0</td>\n",
       "      <td>moustache</td>\n",
       "      <td>noGlasses</td>\n",
       "      <td>male</td>\n",
       "      <td>neutral</td>\n",
       "    </tr>\n",
       "    <tr>\n",
       "      <th>0</th>\n",
       "      <td>2ea7604f-2ed8-4d5f-838c-464451aa4f93</td>\n",
       "      <td>49.0</td>\n",
       "      <td>moustache</td>\n",
       "      <td>readingGlasses</td>\n",
       "      <td>female</td>\n",
       "      <td>neutral</td>\n",
       "    </tr>\n",
       "    <tr>\n",
       "      <th>0</th>\n",
       "      <td>683566b0-5045-4bdf-bcdb-7c683a80536c</td>\n",
       "      <td>40.0</td>\n",
       "      <td>moustache</td>\n",
       "      <td>noGlasses</td>\n",
       "      <td>female</td>\n",
       "      <td>neutral</td>\n",
       "    </tr>\n",
       "    <tr>\n",
       "      <th>0</th>\n",
       "      <td>cf6994f1-4a66-4e8d-b32c-63b221aa62e5</td>\n",
       "      <td>62.0</td>\n",
       "      <td>moustache</td>\n",
       "      <td>readingGlasses</td>\n",
       "      <td>female</td>\n",
       "      <td>neutral</td>\n",
       "    </tr>\n",
       "    <tr>\n",
       "      <th>...</th>\n",
       "      <td>...</td>\n",
       "      <td>...</td>\n",
       "      <td>...</td>\n",
       "      <td>...</td>\n",
       "      <td>...</td>\n",
       "      <td>...</td>\n",
       "    </tr>\n",
       "    <tr>\n",
       "      <th>0</th>\n",
       "      <td>643a89e4-1a49-47a9-ba38-42aa28892969</td>\n",
       "      <td>23.0</td>\n",
       "      <td>moustache</td>\n",
       "      <td>noGlasses</td>\n",
       "      <td>female</td>\n",
       "      <td>neutral</td>\n",
       "    </tr>\n",
       "    <tr>\n",
       "      <th>0</th>\n",
       "      <td>b17e9811-4d80-46e2-8bfc-8a2c58df3352</td>\n",
       "      <td>31.0</td>\n",
       "      <td>moustache</td>\n",
       "      <td>noGlasses</td>\n",
       "      <td>female</td>\n",
       "      <td>happiness</td>\n",
       "    </tr>\n",
       "    <tr>\n",
       "      <th>0</th>\n",
       "      <td>a3916627-1f99-496b-88e0-17f0a5c8072a</td>\n",
       "      <td>20.0</td>\n",
       "      <td>beard</td>\n",
       "      <td>noGlasses</td>\n",
       "      <td>male</td>\n",
       "      <td>neutral</td>\n",
       "    </tr>\n",
       "    <tr>\n",
       "      <th>0</th>\n",
       "      <td>b58b0f59-38ec-47ef-80ba-0ecfa531eab7</td>\n",
       "      <td>20.0</td>\n",
       "      <td>moustache</td>\n",
       "      <td>noGlasses</td>\n",
       "      <td>male</td>\n",
       "      <td>neutral</td>\n",
       "    </tr>\n",
       "    <tr>\n",
       "      <th>0</th>\n",
       "      <td>10cda440-e4c5-44c0-9d6e-832bd5163dd3</td>\n",
       "      <td>26.0</td>\n",
       "      <td>moustache</td>\n",
       "      <td>noGlasses</td>\n",
       "      <td>female</td>\n",
       "      <td>neutral</td>\n",
       "    </tr>\n",
       "  </tbody>\n",
       "</table>\n",
       "<p>74471 rows × 6 columns</p>\n",
       "</div>"
      ],
      "text/plain": [
       "                                  faceId   age facialHair         glasses  \\\n",
       "0   d46a8115-c6a4-4b81-9b48-d91c276bd23a  40.0  moustache       noGlasses   \n",
       "0   017203ca-6f07-4fa6-99db-c0c883afe66c  46.0  moustache       noGlasses   \n",
       "0   2ea7604f-2ed8-4d5f-838c-464451aa4f93  49.0  moustache  readingGlasses   \n",
       "0   683566b0-5045-4bdf-bcdb-7c683a80536c  40.0  moustache       noGlasses   \n",
       "0   cf6994f1-4a66-4e8d-b32c-63b221aa62e5  62.0  moustache  readingGlasses   \n",
       "..                                   ...   ...        ...             ...   \n",
       "0   643a89e4-1a49-47a9-ba38-42aa28892969  23.0  moustache       noGlasses   \n",
       "0   b17e9811-4d80-46e2-8bfc-8a2c58df3352  31.0  moustache       noGlasses   \n",
       "0   a3916627-1f99-496b-88e0-17f0a5c8072a  20.0      beard       noGlasses   \n",
       "0   b58b0f59-38ec-47ef-80ba-0ecfa531eab7  20.0  moustache       noGlasses   \n",
       "0   10cda440-e4c5-44c0-9d6e-832bd5163dd3  26.0  moustache       noGlasses   \n",
       "\n",
       "    gender    emotion  \n",
       "0   female    neutral  \n",
       "0     male    neutral  \n",
       "0   female    neutral  \n",
       "0   female    neutral  \n",
       "0   female    neutral  \n",
       "..     ...        ...  \n",
       "0   female    neutral  \n",
       "0   female  happiness  \n",
       "0     male    neutral  \n",
       "0     male    neutral  \n",
       "0   female    neutral  \n",
       "\n",
       "[74471 rows x 6 columns]"
      ]
     },
     "execution_count": 25,
     "metadata": {},
     "output_type": "execute_result"
    }
   ],
   "source": [
    "final_df"
   ]
  },
  {
   "cell_type": "code",
   "execution_count": 33,
   "metadata": {},
   "outputs": [],
   "source": [
    "final_df['time']=time"
   ]
  },
  {
   "cell_type": "code",
   "execution_count": 37,
   "metadata": {},
   "outputs": [],
   "source": [
    "final_df['time'] = final_df['time'].apply(lambda x : x.split('.')[0])"
   ]
  },
  {
   "cell_type": "code",
   "execution_count": 42,
   "metadata": {},
   "outputs": [],
   "source": [
    "final_df['datetime'] = final_df['time'].apply(lambda x : datetime.strptime(x, '%Y-%m-%d %H:%M:%S'))"
   ]
  },
  {
   "cell_type": "code",
   "execution_count": 53,
   "metadata": {},
   "outputs": [],
   "source": [
    "# final_df['year'] = final_df['datetime'].apply(lambda x : x.year)\n",
    "# final_df['month'] = final_df['datetime'].apply(lambda x : x.month )\n",
    "final_df['day'] = final_df['datetime'].apply(lambda x : x.day)\n",
    "final_df['hour'] = final_df['datetime'].apply(lambda x : x.hour)\n",
    "#final_df['minute'] = final_df['datetime'].apply(lambda x : x.minute)\n",
    "#final_df['second'] = final_df['datetime'].apply(lambda x : x.second)"
   ]
  },
  {
   "cell_type": "code",
   "execution_count": 64,
   "metadata": {},
   "outputs": [
    {
     "data": {
      "text/plain": [
       "neutral      67143\n",
       "happiness     5291\n",
       "sadness       1002\n",
       "surprise       560\n",
       "anger          381\n",
       "contempt        56\n",
       "disgust         34\n",
       "fear             4\n",
       "Name: emotion, dtype: int64"
      ]
     },
     "execution_count": 64,
     "metadata": {},
     "output_type": "execute_result"
    }
   ],
   "source": [
    "final_df['emotion'].value_counts()"
   ]
  },
  {
   "cell_type": "code",
   "execution_count": 66,
   "metadata": {},
   "outputs": [
    {
     "data": {
      "text/plain": [
       "(74471, 14)"
      ]
     },
     "execution_count": 66,
     "metadata": {},
     "output_type": "execute_result"
    }
   ],
   "source": [
    "final_df.shape"
   ]
  },
  {
   "cell_type": "code",
   "execution_count": 67,
   "metadata": {},
   "outputs": [],
   "source": [
    "final_df.to_pickle('/Users/s0c02nj/Desktop/Face_attributes')"
   ]
  },
  {
   "cell_type": "code",
   "execution_count": null,
   "metadata": {},
   "outputs": [],
   "source": [
    "# faceAttributes=json.loads(json.loads(t,object_hook=as_complex).get('MicrosoftData'),\n",
    "#            object_hook=as_complex)[0].get('faceAttributes')"
   ]
  },
  {
   "cell_type": "code",
   "execution_count": null,
   "metadata": {},
   "outputs": [],
   "source": [
    "# get_attributes(t)"
   ]
  },
  {
   "cell_type": "code",
   "execution_count": null,
   "metadata": {},
   "outputs": [],
   "source": [
    "faceAttributes.get(attributes[4])"
   ]
  },
  {
   "cell_type": "code",
   "execution_count": null,
   "metadata": {},
   "outputs": [],
   "source": [
    "max(faceAttributes.get(attributes[3]).items(),key=operator.itemgetter(1))[0]"
   ]
  },
  {
   "cell_type": "code",
   "execution_count": null,
   "metadata": {},
   "outputs": [],
   "source": [
    "final_df.to_csv('/Users/s0p00zp/Desktop/Face_attributes.csv',index=False)"
   ]
  },
  {
   "cell_type": "code",
   "execution_count": null,
   "metadata": {},
   "outputs": [],
   "source": [
    "final_df.head()"
   ]
  },
  {
   "cell_type": "code",
   "execution_count": null,
   "metadata": {},
   "outputs": [],
   "source": []
  }
 ],
 "metadata": {
  "kernelspec": {
   "display_name": "Python 3",
   "language": "python",
   "name": "python3"
  },
  "language_info": {
   "codemirror_mode": {
    "name": "ipython",
    "version": 3
   },
   "file_extension": ".py",
   "mimetype": "text/x-python",
   "name": "python",
   "nbconvert_exporter": "python",
   "pygments_lexer": "ipython3",
   "version": "3.6.8"
  }
 },
 "nbformat": 4,
 "nbformat_minor": 2
}

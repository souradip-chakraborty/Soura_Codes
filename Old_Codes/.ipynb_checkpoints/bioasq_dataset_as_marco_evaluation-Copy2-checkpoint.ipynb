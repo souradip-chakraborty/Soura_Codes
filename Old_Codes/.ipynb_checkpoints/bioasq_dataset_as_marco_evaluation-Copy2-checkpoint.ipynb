{
 "cells": [
  {
   "cell_type": "code",
   "execution_count": 1,
   "metadata": {},
   "outputs": [],
   "source": [
    "import numpy as np\n",
    "import pandas as pd\n",
    "from tqdm import tqdm\n",
    "import re\n",
    "import nltk\n",
    "\n",
    "from elasticsearch import helpers, Elasticsearch\n",
    "import csv\n",
    "import re\n",
    "import nltk\n",
    "from nltk.corpus import stopwords \n",
    "from nltk.tokenize import word_tokenize\n",
    "from inflection import singularize\n",
    "import matplotlib.pyplot as plt\n",
    "from scipy.spatial.distance import cosine as cs"
   ]
  },
  {
   "cell_type": "code",
   "execution_count": 2,
   "metadata": {},
   "outputs": [],
   "source": [
    "df1 = pd.read_json('/Users/s0c02nj/Desktop/BioAsq_data/BioASQ-train-factoid-4b.json')\n",
    "df2 = pd.read_json('/Users/s0c02nj/Desktop/BioAsq_data/BioASQ-train-factoid-5b.json')\n",
    "\n",
    "df3 = pd.read_json('/Users/s0c02nj/Desktop/BioAsq_data/BioASQ-train-factoid-6b.json')\n",
    "\n",
    "df4 = pd.read_json('/Users/s0c02nj/Downloads/BioASQ-67b-15Oct2019/BioASQ-7b/train/Full-Abstract/'+\n",
    "                   'BioASQ-train-factoid-7b-full-annotated.json')"
   ]
  },
  {
   "cell_type": "code",
   "execution_count": 3,
   "metadata": {},
   "outputs": [],
   "source": [
    "l1 = len(df1['data'].iloc[0]['paragraphs'])\n",
    "l2 = len(df2['data'].iloc[0]['paragraphs'])\n",
    "l3 = len(df3['data'].iloc[0]['paragraphs'])\n",
    "l4 = len(df4['data'].iloc[0]['paragraphs'])"
   ]
  },
  {
   "cell_type": "code",
   "execution_count": 4,
   "metadata": {},
   "outputs": [],
   "source": [
    "def get_df(l,df) :\n",
    "\n",
    "    question = []\n",
    "    q_id = []\n",
    "    ans = []\n",
    "\n",
    "    for i in tqdm(range(0,l)):\n",
    "\n",
    "        para = df['data'].iloc[0]['paragraphs'][i]\n",
    "        qas = para['qas'][0]\n",
    "\n",
    "        question.append(qas['question'])\n",
    "        q_id.append(qas['id'])\n",
    "        ans.append(para['context'])\n",
    "        \n",
    "    \n",
    "    \n",
    "    #Dataframe\n",
    "    df_qa = pd.DataFrame()\n",
    "    \n",
    "    \n",
    "    #dataframe\n",
    "    df_qa['id'] = q_id\n",
    "    df_qa['question'] = question\n",
    "    df_qa['answer'] = ans\n",
    "\n",
    "    return df_qa\n",
    "\n"
   ]
  },
  {
   "cell_type": "code",
   "execution_count": 5,
   "metadata": {},
   "outputs": [
    {
     "name": "stderr",
     "output_type": "stream",
     "text": [
      "100%|██████████| 3266/3266 [00:00<00:00, 72397.76it/s]\n",
      "100%|██████████| 4950/4950 [00:00<00:00, 66760.15it/s]\n",
      "100%|██████████| 4772/4772 [00:00<00:00, 57555.68it/s]\n",
      "100%|██████████| 5537/5537 [00:00<00:00, 66872.05it/s]\n"
     ]
    }
   ],
   "source": [
    "df_qa1 = get_df(l1,df1)\n",
    "df_qa2 = get_df(l2,df2)\n",
    "df_qa3 = get_df(l3,df3)\n",
    "df_qa4 = get_df(l4,df4)"
   ]
  },
  {
   "cell_type": "code",
   "execution_count": 6,
   "metadata": {},
   "outputs": [],
   "source": [
    "df_qa = pd.concat([df_qa1,df_qa2,df_qa3,df_qa4],sort=False)"
   ]
  },
  {
   "cell_type": "code",
   "execution_count": 7,
   "metadata": {},
   "outputs": [],
   "source": [
    "df_qa = df_qa.drop(['id'],axis=1)"
   ]
  },
  {
   "cell_type": "code",
   "execution_count": 8,
   "metadata": {},
   "outputs": [
    {
     "data": {
      "text/plain": [
       "3022"
      ]
     },
     "execution_count": 8,
     "metadata": {},
     "output_type": "execute_result"
    }
   ],
   "source": [
    "df_qa['answer'].nunique()"
   ]
  },
  {
   "cell_type": "code",
   "execution_count": 9,
   "metadata": {},
   "outputs": [],
   "source": [
    "df_qa_un = df_qa.drop_duplicates(keep='first')"
   ]
  },
  {
   "cell_type": "code",
   "execution_count": 10,
   "metadata": {},
   "outputs": [
    {
     "data": {
      "text/plain": [
       "'Balanced t(11;15)(q23;q15) in a TP53+/+ breast cancer patient from a Li-Fraumeni syndrome family. Li-Fraumeni Syndrome (LFS) is characterized by early-onset carcinogenesis involving multiple tumor types and shows autosomal dominant inheritance. Approximately 70% of LFS cases are due to germline mutations in the TP53 gene on chromosome 17p13.1. Mutations have also been found in the CHEK2 gene on chromosome 22q11, and others have been mapped to chromosome 11q23. While characterizing an LFS family with a documented defect in TP53, we found one family member who developed bilateral breast cancer at age 37 yet was homozygous for wild-type TP53. Her mother also developed early-onset primary bilateral breast cancer, and a sister had unilateral breast cancer and a soft tissue sarcoma. Cytogenetic analysis using fluorescence in situ hybridization of a primary skin fibroblast cell line revealed that the patient had a novel balanced reciprocal translocation between the long arms of chromosomes 11 and 15: t(11;15)(q23;q15). This translocation was not present in a primary skin fibroblast cell line from a brother with neuroblastoma, who was heterozygous for the TP53 mutation. There was no evidence of acute lymphoblastic leukemia in either the patient or her mother, although a nephew did develop leukemia and died in childhood. These data may implicate the region at breakpoint 11q23 and/or 15q15 as playing a significant role in predisposition to breast cancer development.'"
      ]
     },
     "execution_count": 10,
     "metadata": {},
     "output_type": "execute_result"
    }
   ],
   "source": [
    "df_qa_un['answer'].iloc[0]"
   ]
  },
  {
   "cell_type": "code",
   "execution_count": null,
   "metadata": {},
   "outputs": [],
   "source": []
  },
  {
   "cell_type": "code",
   "execution_count": 11,
   "metadata": {},
   "outputs": [],
   "source": [
    "def text_preprocessing(text):\n",
    "    text= text.lower()\n",
    "    text= re.sub(r'[^a-z]',' ',text)\n",
    "    #text= \" \".join([s for s in text.split() if len(s)>2])\n",
    "    text= \" \".join([x for x in text.split() if x not in stopwords.words('english')])\n",
    "    #text= \" \".join([inflection.singularize(x) for x in text.split()])\n",
    "    text= text.strip()\n",
    "    return(text)"
   ]
  },
  {
   "cell_type": "code",
   "execution_count": 12,
   "metadata": {},
   "outputs": [],
   "source": [
    "tqdm.pandas()"
   ]
  },
  {
   "cell_type": "code",
   "execution_count": 13,
   "metadata": {
    "scrolled": true
   },
   "outputs": [
    {
     "name": "stderr",
     "output_type": "stream",
     "text": [
      "100%|██████████| 3052/3052 [00:07<00:00, 425.72it/s]\n",
      "/Users/s0c02nj/anaconda2/envs/graph/lib/python3.6/site-packages/ipykernel_launcher.py:1: SettingWithCopyWarning: \n",
      "A value is trying to be set on a copy of a slice from a DataFrame.\n",
      "Try using .loc[row_indexer,col_indexer] = value instead\n",
      "\n",
      "See the caveats in the documentation: http://pandas.pydata.org/pandas-docs/stable/user_guide/indexing.html#returning-a-view-versus-a-copy\n",
      "  \"\"\"Entry point for launching an IPython kernel.\n",
      "100%|██████████| 3052/3052 [03:01<00:00, 16.80it/s]\n",
      "/Users/s0c02nj/anaconda2/envs/graph/lib/python3.6/site-packages/ipykernel_launcher.py:2: SettingWithCopyWarning: \n",
      "A value is trying to be set on a copy of a slice from a DataFrame.\n",
      "Try using .loc[row_indexer,col_indexer] = value instead\n",
      "\n",
      "See the caveats in the documentation: http://pandas.pydata.org/pandas-docs/stable/user_guide/indexing.html#returning-a-view-versus-a-copy\n",
      "  \n"
     ]
    }
   ],
   "source": [
    "df_qa_un['question'] = df_qa_un['question'].progress_apply(lambda x: text_preprocessing(x))\n",
    "df_qa_un['answer'] =   df_qa_un['answer'].progress_apply(lambda x: text_preprocessing(x))"
   ]
  },
  {
   "cell_type": "code",
   "execution_count": 53,
   "metadata": {
    "scrolled": true
   },
   "outputs": [],
   "source": [
    "df_qa_un.index = range(0,len(df_qa_un))\n",
    "df_qa_un = df_qa_un[1:]"
   ]
  },
  {
   "cell_type": "code",
   "execution_count": 54,
   "metadata": {},
   "outputs": [
    {
     "data": {
      "text/html": [
       "<div>\n",
       "<style scoped>\n",
       "    .dataframe tbody tr th:only-of-type {\n",
       "        vertical-align: middle;\n",
       "    }\n",
       "\n",
       "    .dataframe tbody tr th {\n",
       "        vertical-align: top;\n",
       "    }\n",
       "\n",
       "    .dataframe thead th {\n",
       "        text-align: right;\n",
       "    }\n",
       "</style>\n",
       "<table border=\"1\" class=\"dataframe\">\n",
       "  <thead>\n",
       "    <tr style=\"text-align: right;\">\n",
       "      <th></th>\n",
       "      <th>question</th>\n",
       "      <th>answer</th>\n",
       "    </tr>\n",
       "  </thead>\n",
       "  <tbody>\n",
       "    <tr>\n",
       "      <th>1</th>\n",
       "      <td>inheritance pattern li fraumeni syndrome</td>\n",
       "      <td>genetic modeling li fraumeni syndrome zebrafis...</td>\n",
       "    </tr>\n",
       "    <tr>\n",
       "      <th>2</th>\n",
       "      <td>type lung cancer afatinib used</td>\n",
       "      <td>clinical perspective afatinib non small cell l...</td>\n",
       "    </tr>\n",
       "    <tr>\n",
       "      <th>3</th>\n",
       "      <td>hormone abnormalities characteristic pendred s...</td>\n",
       "      <td>doca sensitive pendrin expression kidney heart...</td>\n",
       "    </tr>\n",
       "    <tr>\n",
       "      <th>4</th>\n",
       "      <td>hormone abnormalities characteristic pendred s...</td>\n",
       "      <td>clinical molecular characteristics pendred syn...</td>\n",
       "    </tr>\n",
       "    <tr>\n",
       "      <th>5</th>\n",
       "      <td>hormone abnormalities characteristic pendred s...</td>\n",
       "      <td>pendred syndrome tunisia objectives report cli...</td>\n",
       "    </tr>\n",
       "  </tbody>\n",
       "</table>\n",
       "</div>"
      ],
      "text/plain": [
       "                                            question  \\\n",
       "1           inheritance pattern li fraumeni syndrome   \n",
       "2                     type lung cancer afatinib used   \n",
       "3  hormone abnormalities characteristic pendred s...   \n",
       "4  hormone abnormalities characteristic pendred s...   \n",
       "5  hormone abnormalities characteristic pendred s...   \n",
       "\n",
       "                                              answer  \n",
       "1  genetic modeling li fraumeni syndrome zebrafis...  \n",
       "2  clinical perspective afatinib non small cell l...  \n",
       "3  doca sensitive pendrin expression kidney heart...  \n",
       "4  clinical molecular characteristics pendred syn...  \n",
       "5  pendred syndrome tunisia objectives report cli...  "
      ]
     },
     "execution_count": 54,
     "metadata": {},
     "output_type": "execute_result"
    }
   ],
   "source": [
    "df_qa_un.head()"
   ]
  },
  {
   "cell_type": "code",
   "execution_count": 55,
   "metadata": {},
   "outputs": [
    {
     "data": {
      "text/html": [
       "<div>\n",
       "<style scoped>\n",
       "    .dataframe tbody tr th:only-of-type {\n",
       "        vertical-align: middle;\n",
       "    }\n",
       "\n",
       "    .dataframe tbody tr th {\n",
       "        vertical-align: top;\n",
       "    }\n",
       "\n",
       "    .dataframe thead th {\n",
       "        text-align: right;\n",
       "    }\n",
       "</style>\n",
       "<table border=\"1\" class=\"dataframe\">\n",
       "  <thead>\n",
       "    <tr style=\"text-align: right;\">\n",
       "      <th></th>\n",
       "      <th>documents</th>\n",
       "      <th>embedding</th>\n",
       "    </tr>\n",
       "  </thead>\n",
       "  <tbody>\n",
       "    <tr>\n",
       "      <th>0</th>\n",
       "      <td>inheritance pattern l ##i f ##ra ##ume ##ni sy...</td>\n",
       "      <td>[0.127406, 0.62203, 0.225955, -1.393971, 0.031...</td>\n",
       "    </tr>\n",
       "    <tr>\n",
       "      <th>1</th>\n",
       "      <td>type lung cancer a ##fa ##tin ##ib used</td>\n",
       "      <td>[-0.114247, 1.132709, -0.575134, 0.330794, -1....</td>\n",
       "    </tr>\n",
       "    <tr>\n",
       "      <th>2</th>\n",
       "      <td>hormone abnormal ##ities characteristic pen ##...</td>\n",
       "      <td>[0.620397, 0.101496, 0.195067, 0.45327, 0.2404...</td>\n",
       "    </tr>\n",
       "    <tr>\n",
       "      <th>3</th>\n",
       "      <td>hormone abnormal ##ities characteristic pen ##...</td>\n",
       "      <td>[0.620397, 0.101496, 0.195067, 0.45327, 0.2404...</td>\n",
       "    </tr>\n",
       "    <tr>\n",
       "      <th>4</th>\n",
       "      <td>hormone abnormal ##ities characteristic pen ##...</td>\n",
       "      <td>[0.620397, 0.101496, 0.195067, 0.45327, 0.2404...</td>\n",
       "    </tr>\n",
       "  </tbody>\n",
       "</table>\n",
       "</div>"
      ],
      "text/plain": [
       "                                           documents  \\\n",
       "0  inheritance pattern l ##i f ##ra ##ume ##ni sy...   \n",
       "1            type lung cancer a ##fa ##tin ##ib used   \n",
       "2  hormone abnormal ##ities characteristic pen ##...   \n",
       "3  hormone abnormal ##ities characteristic pen ##...   \n",
       "4  hormone abnormal ##ities characteristic pen ##...   \n",
       "\n",
       "                                           embedding  \n",
       "0  [0.127406, 0.62203, 0.225955, -1.393971, 0.031...  \n",
       "1  [-0.114247, 1.132709, -0.575134, 0.330794, -1....  \n",
       "2  [0.620397, 0.101496, 0.195067, 0.45327, 0.2404...  \n",
       "3  [0.620397, 0.101496, 0.195067, 0.45327, 0.2404...  \n",
       "4  [0.620397, 0.101496, 0.195067, 0.45327, 0.2404...  "
      ]
     },
     "execution_count": 55,
     "metadata": {},
     "output_type": "execute_result"
    }
   ],
   "source": [
    "df_qvec.head()"
   ]
  },
  {
   "cell_type": "code",
   "execution_count": 48,
   "metadata": {},
   "outputs": [
    {
     "data": {
      "text/html": [
       "<div>\n",
       "<style scoped>\n",
       "    .dataframe tbody tr th:only-of-type {\n",
       "        vertical-align: middle;\n",
       "    }\n",
       "\n",
       "    .dataframe tbody tr th {\n",
       "        vertical-align: top;\n",
       "    }\n",
       "\n",
       "    .dataframe thead th {\n",
       "        text-align: right;\n",
       "    }\n",
       "</style>\n",
       "<table border=\"1\" class=\"dataframe\">\n",
       "  <thead>\n",
       "    <tr style=\"text-align: right;\">\n",
       "      <th></th>\n",
       "      <th>documents</th>\n",
       "      <th>embedding</th>\n",
       "    </tr>\n",
       "  </thead>\n",
       "  <tbody>\n",
       "    <tr>\n",
       "      <th>0</th>\n",
       "      <td>genetic modeling l ##i f ##ra ##ume ##ni syndr...</td>\n",
       "      <td>[-0.476865, 0.976585, 0.59813, -0.45718, -0.93...</td>\n",
       "    </tr>\n",
       "    <tr>\n",
       "      <th>1</th>\n",
       "      <td>clinical perspective a ##fa ##tin ##ib non sma...</td>\n",
       "      <td>[0.032693, 1.321281, 0.742127, -1.232175, -0.8...</td>\n",
       "    </tr>\n",
       "    <tr>\n",
       "      <th>2</th>\n",
       "      <td>do ##ca sensitive pen ##dr ##in expression kid...</td>\n",
       "      <td>[-0.034027, 1.207761, 1.166138, -0.48594, -1.0...</td>\n",
       "    </tr>\n",
       "    <tr>\n",
       "      <th>3</th>\n",
       "      <td>clinical molecular characteristics pen ##dre #...</td>\n",
       "      <td>[-0.59723, 1.333176, 0.339485, -0.107071, -0.8...</td>\n",
       "    </tr>\n",
       "    <tr>\n",
       "      <th>4</th>\n",
       "      <td>pen ##dre ##d syndrome t ##uni ##sia objective...</td>\n",
       "      <td>[-0.020153, -0.491783, -0.226507, -0.491128, -...</td>\n",
       "    </tr>\n",
       "  </tbody>\n",
       "</table>\n",
       "</div>"
      ],
      "text/plain": [
       "                                           documents  \\\n",
       "0  genetic modeling l ##i f ##ra ##ume ##ni syndr...   \n",
       "1  clinical perspective a ##fa ##tin ##ib non sma...   \n",
       "2  do ##ca sensitive pen ##dr ##in expression kid...   \n",
       "3  clinical molecular characteristics pen ##dre #...   \n",
       "4  pen ##dre ##d syndrome t ##uni ##sia objective...   \n",
       "\n",
       "                                           embedding  \n",
       "0  [-0.476865, 0.976585, 0.59813, -0.45718, -0.93...  \n",
       "1  [0.032693, 1.321281, 0.742127, -1.232175, -0.8...  \n",
       "2  [-0.034027, 1.207761, 1.166138, -0.48594, -1.0...  \n",
       "3  [-0.59723, 1.333176, 0.339485, -0.107071, -0.8...  \n",
       "4  [-0.020153, -0.491783, -0.226507, -0.491128, -...  "
      ]
     },
     "execution_count": 48,
     "metadata": {},
     "output_type": "execute_result"
    }
   ],
   "source": [
    "df_avec.head()"
   ]
  },
  {
   "cell_type": "code",
   "execution_count": null,
   "metadata": {},
   "outputs": [],
   "source": []
  },
  {
   "cell_type": "code",
   "execution_count": null,
   "metadata": {},
   "outputs": [],
   "source": [
    "#Loading the pretrained vecs\n",
    "df_qvec = pd.read_pickle('/Users/s0c02nj/Downloads/question.pkl')\n",
    "df_avec = pd.read_pickle('/Users/s0c02nj/Downloads/answer.pkl')"
   ]
  },
  {
   "cell_type": "markdown",
   "metadata": {},
   "source": [
    "#### Creating Vector Dictionaries"
   ]
  },
  {
   "cell_type": "code",
   "execution_count": 56,
   "metadata": {},
   "outputs": [
    {
     "name": "stderr",
     "output_type": "stream",
     "text": [
      "100%|██████████| 3051/3051 [00:00<00:00, 12349.08it/s]\n"
     ]
    }
   ],
   "source": [
    "dict_qvec = {}\n",
    "dict_avec = {}\n",
    "\n",
    "for i in tqdm(range(0,len(df_qa_un))):\n",
    "    \n",
    "    #ques and ans\n",
    "    qustn = df_qa_un['question'].iloc[i]\n",
    "    ans =  df_qa_un['answer'].iloc[i]\n",
    "    \n",
    "    #vectors\n",
    "    qvec = df_qvec['embedding'].iloc[i]\n",
    "    avec = df_avec['embedding'].iloc[i]\n",
    "    \n",
    "    #dict qs_vec\n",
    "    dict_qvec[qustn] = qvec\n",
    "    \n",
    "    #dict ans_vec\n",
    "    dict_avec[ans] = avec\n",
    "    "
   ]
  },
  {
   "cell_type": "code",
   "execution_count": 57,
   "metadata": {},
   "outputs": [],
   "source": [
    "unique_ques = list(df_qa_un['question'].unique())\n",
    "unique_ans =  list(df_qa_un['answer'].unique())"
   ]
  },
  {
   "cell_type": "code",
   "execution_count": 58,
   "metadata": {},
   "outputs": [],
   "source": [
    "dict_ques = {}\n",
    "\n",
    "for i,qs in enumerate(unique_ques):\n",
    "    dict_ques[qs] = i   "
   ]
  },
  {
   "cell_type": "code",
   "execution_count": 59,
   "metadata": {},
   "outputs": [],
   "source": [
    "dict_ans = {}\n",
    "\n",
    "for i,ans in enumerate(unique_ans):\n",
    "    dict_ans[ans] = i    "
   ]
  },
  {
   "cell_type": "code",
   "execution_count": 60,
   "metadata": {},
   "outputs": [
    {
     "name": "stderr",
     "output_type": "stream",
     "text": [
      "100%|██████████| 3051/3051 [00:00<00:00, 31861.90it/s]\n"
     ]
    }
   ],
   "source": [
    "qid = []\n",
    "pid = []\n",
    "\n",
    "\n",
    "for i in tqdm(range(0,len(df_qa_un))):\n",
    "    \n",
    "    ques = df_qa_un['question'].iloc[i]\n",
    "    ans = df_qa_un['answer'].iloc[i]\n",
    "    \n",
    "    qid.append(dict_ques[ques])\n",
    "    pid.append(dict_ans[ans])"
   ]
  },
  {
   "cell_type": "code",
   "execution_count": 61,
   "metadata": {},
   "outputs": [
    {
     "name": "stderr",
     "output_type": "stream",
     "text": [
      "/Users/s0c02nj/anaconda2/envs/graph/lib/python3.6/site-packages/ipykernel_launcher.py:1: SettingWithCopyWarning: \n",
      "A value is trying to be set on a copy of a slice from a DataFrame.\n",
      "Try using .loc[row_indexer,col_indexer] = value instead\n",
      "\n",
      "See the caveats in the documentation: http://pandas.pydata.org/pandas-docs/stable/user_guide/indexing.html#returning-a-view-versus-a-copy\n",
      "  \"\"\"Entry point for launching an IPython kernel.\n",
      "/Users/s0c02nj/anaconda2/envs/graph/lib/python3.6/site-packages/ipykernel_launcher.py:2: SettingWithCopyWarning: \n",
      "A value is trying to be set on a copy of a slice from a DataFrame.\n",
      "Try using .loc[row_indexer,col_indexer] = value instead\n",
      "\n",
      "See the caveats in the documentation: http://pandas.pydata.org/pandas-docs/stable/user_guide/indexing.html#returning-a-view-versus-a-copy\n",
      "  \n"
     ]
    }
   ],
   "source": [
    "df_qa_un['qid'] = qid\n",
    "df_qa_un['pid'] = pid"
   ]
  },
  {
   "cell_type": "code",
   "execution_count": 62,
   "metadata": {},
   "outputs": [
    {
     "data": {
      "text/html": [
       "<div>\n",
       "<style scoped>\n",
       "    .dataframe tbody tr th:only-of-type {\n",
       "        vertical-align: middle;\n",
       "    }\n",
       "\n",
       "    .dataframe tbody tr th {\n",
       "        vertical-align: top;\n",
       "    }\n",
       "\n",
       "    .dataframe thead th {\n",
       "        text-align: right;\n",
       "    }\n",
       "</style>\n",
       "<table border=\"1\" class=\"dataframe\">\n",
       "  <thead>\n",
       "    <tr style=\"text-align: right;\">\n",
       "      <th></th>\n",
       "      <th>question</th>\n",
       "      <th>answer</th>\n",
       "      <th>qid</th>\n",
       "      <th>pid</th>\n",
       "    </tr>\n",
       "  </thead>\n",
       "  <tbody>\n",
       "    <tr>\n",
       "      <th>1</th>\n",
       "      <td>inheritance pattern li fraumeni syndrome</td>\n",
       "      <td>genetic modeling li fraumeni syndrome zebrafis...</td>\n",
       "      <td>0</td>\n",
       "      <td>0</td>\n",
       "    </tr>\n",
       "    <tr>\n",
       "      <th>2</th>\n",
       "      <td>type lung cancer afatinib used</td>\n",
       "      <td>clinical perspective afatinib non small cell l...</td>\n",
       "      <td>1</td>\n",
       "      <td>1</td>\n",
       "    </tr>\n",
       "    <tr>\n",
       "      <th>3</th>\n",
       "      <td>hormone abnormalities characteristic pendred s...</td>\n",
       "      <td>doca sensitive pendrin expression kidney heart...</td>\n",
       "      <td>2</td>\n",
       "      <td>2</td>\n",
       "    </tr>\n",
       "    <tr>\n",
       "      <th>4</th>\n",
       "      <td>hormone abnormalities characteristic pendred s...</td>\n",
       "      <td>clinical molecular characteristics pendred syn...</td>\n",
       "      <td>2</td>\n",
       "      <td>3</td>\n",
       "    </tr>\n",
       "    <tr>\n",
       "      <th>5</th>\n",
       "      <td>hormone abnormalities characteristic pendred s...</td>\n",
       "      <td>pendred syndrome tunisia objectives report cli...</td>\n",
       "      <td>2</td>\n",
       "      <td>4</td>\n",
       "    </tr>\n",
       "  </tbody>\n",
       "</table>\n",
       "</div>"
      ],
      "text/plain": [
       "                                            question  \\\n",
       "1           inheritance pattern li fraumeni syndrome   \n",
       "2                     type lung cancer afatinib used   \n",
       "3  hormone abnormalities characteristic pendred s...   \n",
       "4  hormone abnormalities characteristic pendred s...   \n",
       "5  hormone abnormalities characteristic pendred s...   \n",
       "\n",
       "                                              answer  qid  pid  \n",
       "1  genetic modeling li fraumeni syndrome zebrafis...    0    0  \n",
       "2  clinical perspective afatinib non small cell l...    1    1  \n",
       "3  doca sensitive pendrin expression kidney heart...    2    2  \n",
       "4  clinical molecular characteristics pendred syn...    2    3  \n",
       "5  pendred syndrome tunisia objectives report cli...    2    4  "
      ]
     },
     "execution_count": 62,
     "metadata": {},
     "output_type": "execute_result"
    }
   ],
   "source": [
    "df_qa_un.head()"
   ]
  },
  {
   "cell_type": "code",
   "execution_count": 63,
   "metadata": {},
   "outputs": [
    {
     "data": {
      "text/plain": [
       "(3051, 4)"
      ]
     },
     "execution_count": 63,
     "metadata": {},
     "output_type": "execute_result"
    }
   ],
   "source": [
    "df_qa_un.shape"
   ]
  },
  {
   "cell_type": "code",
   "execution_count": 64,
   "metadata": {},
   "outputs": [],
   "source": [
    "df_qa_un = df_qa_un.drop_duplicates(keep='first')"
   ]
  },
  {
   "cell_type": "code",
   "execution_count": 65,
   "metadata": {},
   "outputs": [
    {
     "data": {
      "text/plain": [
       "(3049, 4)"
      ]
     },
     "execution_count": 65,
     "metadata": {},
     "output_type": "execute_result"
    }
   ],
   "source": [
    "df_qa_un.shape"
   ]
  },
  {
   "cell_type": "code",
   "execution_count": null,
   "metadata": {},
   "outputs": [],
   "source": [
    "# df_qa_un['pid'].nunique()"
   ]
  },
  {
   "cell_type": "code",
   "execution_count": null,
   "metadata": {},
   "outputs": [],
   "source": [
    "# # df_qa_un.to_csv('/Users/s0c02nj/Desktop/Tuned_BioAsq_QA_dataset.csv',index = False)\n",
    "# df_new =   df_qa_un.groupby('qid').head(10).reset_index(drop=True)"
   ]
  },
  {
   "cell_type": "code",
   "execution_count": 66,
   "metadata": {},
   "outputs": [
    {
     "name": "stderr",
     "output_type": "stream",
     "text": [
      "100%|██████████| 3049/3049 [00:00<00:00, 16482.93it/s]\n"
     ]
    }
   ],
   "source": [
    "percent_match = []\n",
    "\n",
    "for i in tqdm(range(0,len(df_qa_un))):\n",
    "    \n",
    "    ques_set = set(df_qa_un['question'].iloc[i].split())\n",
    "    answer_set = set(df_qa_un['answer'].iloc[i].split())\n",
    "    \n",
    "    den = len(ques_set)\n",
    "    num = len(ques_set.intersection(answer_set))\n",
    "    \n",
    "    per = (num/den) * 100\n",
    "    \n",
    "    percent_match.append(per)"
   ]
  },
  {
   "cell_type": "code",
   "execution_count": 67,
   "metadata": {},
   "outputs": [
    {
     "data": {
      "text/plain": [
       "Text(0.5, 1.0, 'Frequency_Distribution')"
      ]
     },
     "execution_count": 67,
     "metadata": {},
     "output_type": "execute_result"
    },
    {
     "data": {
      "image/png": "[encoded data removed]",
      "text/plain": [
       "<Figure size 432x288 with 1 Axes>"
      ]
     },
     "metadata": {
      "needs_background": "light"
     },
     "output_type": "display_data"
    }
   ],
   "source": [
    "import seaborn as sns\n",
    "sns.distplot(percent_match)\n",
    "\n",
    "plt.xlabel('Percent_match_query')\n",
    "plt.title('Frequency_Distribution')"
   ]
  },
  {
   "cell_type": "code",
   "execution_count": 68,
   "metadata": {},
   "outputs": [],
   "source": [
    "df_qa_un['percent'] = percent_match"
   ]
  },
  {
   "cell_type": "code",
   "execution_count": 71,
   "metadata": {},
   "outputs": [],
   "source": [
    "df_sub = df_qa_un[df_qa_un['percent'] < 30]"
   ]
  },
  {
   "cell_type": "code",
   "execution_count": 72,
   "metadata": {},
   "outputs": [],
   "source": [
    "list_sub = list(df_sub['qid'].unique())"
   ]
  },
  {
   "cell_type": "code",
   "execution_count": null,
   "metadata": {},
   "outputs": [],
   "source": [
    "# #df_sub['question'].value_counts()\n",
    "# #df_qa_un\n",
    "# df_qa_un.to_pickle('/Users/s0c02nj/Desktop/Bioasq_subset_intersect.pkl')"
   ]
  },
  {
   "cell_type": "code",
   "execution_count": 73,
   "metadata": {},
   "outputs": [
    {
     "data": {
      "text/plain": [
       "62"
      ]
     },
     "execution_count": 73,
     "metadata": {},
     "output_type": "execute_result"
    }
   ],
   "source": [
    "df_sub['question'].nunique()"
   ]
  },
  {
   "cell_type": "code",
   "execution_count": 74,
   "metadata": {},
   "outputs": [
    {
     "data": {
      "text/plain": [
       "bone protein used archaelogy dating species identification                         13\n",
       "enzyme inhibited drug fostamatinib                                                  8\n",
       "kingdom microsporidia belong according current classification scheme                7\n",
       "disease velcade bortezomib mainly used                                              6\n",
       "dx investigational name drug                                                        5\n",
       "                                                                                   ..\n",
       "dinutuximab used treatment disease                                                  1\n",
       "prevalent form arrhythmia worldwide                                                 1\n",
       "simpson grading used describe resection brain tumor                                 1\n",
       "gallbladder carriage well recognised means spread bacteria                          1\n",
       "fusarium oxysporum f sp lycopersici plant pathogen plants producing common food     1\n",
       "Name: question, Length: 62, dtype: int64"
      ]
     },
     "execution_count": 74,
     "metadata": {},
     "output_type": "execute_result"
    }
   ],
   "source": [
    "df_sub['question'].value_counts()"
   ]
  },
  {
   "cell_type": "code",
   "execution_count": 75,
   "metadata": {},
   "outputs": [],
   "source": [
    "# df_qa_un['qid'].nunique()\n",
    "df_test = df_sub.drop_duplicates(keep='first')"
   ]
  },
  {
   "cell_type": "code",
   "execution_count": 213,
   "metadata": {},
   "outputs": [
    {
     "data": {
      "text/html": [
       "<div>\n",
       "<style scoped>\n",
       "    .dataframe tbody tr th:only-of-type {\n",
       "        vertical-align: middle;\n",
       "    }\n",
       "\n",
       "    .dataframe tbody tr th {\n",
       "        vertical-align: top;\n",
       "    }\n",
       "\n",
       "    .dataframe thead th {\n",
       "        text-align: right;\n",
       "    }\n",
       "</style>\n",
       "<table border=\"1\" class=\"dataframe\">\n",
       "  <thead>\n",
       "    <tr style=\"text-align: right;\">\n",
       "      <th></th>\n",
       "      <th>question</th>\n",
       "      <th>answer</th>\n",
       "      <th>qid</th>\n",
       "      <th>pid</th>\n",
       "      <th>percent</th>\n",
       "    </tr>\n",
       "  </thead>\n",
       "  <tbody>\n",
       "    <tr>\n",
       "      <th>43</th>\n",
       "      <td>main regulatory molecule serca function cardia...</td>\n",
       "      <td>serca prime target modulation cardiac contract...</td>\n",
       "      <td>8</td>\n",
       "      <td>42</td>\n",
       "      <td>28.571429</td>\n",
       "    </tr>\n",
       "    <tr>\n",
       "      <th>45</th>\n",
       "      <td>main regulatory molecule serca function cardia...</td>\n",
       "      <td>anti apoptotic protein hax interacts serca reg...</td>\n",
       "      <td>8</td>\n",
       "      <td>44</td>\n",
       "      <td>28.571429</td>\n",
       "    </tr>\n",
       "    <tr>\n",
       "      <th>81</th>\n",
       "      <td>prevalent form arrhythmia worldwide</td>\n",
       "      <td>atrial fibrillation athletes atrial fibrillati...</td>\n",
       "      <td>13</td>\n",
       "      <td>80</td>\n",
       "      <td>25.000000</td>\n",
       "    </tr>\n",
       "    <tr>\n",
       "      <th>86</th>\n",
       "      <td>rindopepimut analog growth factor</td>\n",
       "      <td>targeting egf receptor variant iii tumor speci...</td>\n",
       "      <td>14</td>\n",
       "      <td>85</td>\n",
       "      <td>25.000000</td>\n",
       "    </tr>\n",
       "    <tr>\n",
       "      <th>87</th>\n",
       "      <td>rindopepimut analog growth factor</td>\n",
       "      <td>rindopepimut mer injectable peptide vaccine eg...</td>\n",
       "      <td>14</td>\n",
       "      <td>86</td>\n",
       "      <td>25.000000</td>\n",
       "    </tr>\n",
       "  </tbody>\n",
       "</table>\n",
       "</div>"
      ],
      "text/plain": [
       "                                             question  \\\n",
       "43  main regulatory molecule serca function cardia...   \n",
       "45  main regulatory molecule serca function cardia...   \n",
       "81                prevalent form arrhythmia worldwide   \n",
       "86                  rindopepimut analog growth factor   \n",
       "87                  rindopepimut analog growth factor   \n",
       "\n",
       "                                               answer  qid  pid    percent  \n",
       "43  serca prime target modulation cardiac contract...    8   42  28.571429  \n",
       "45  anti apoptotic protein hax interacts serca reg...    8   44  28.571429  \n",
       "81  atrial fibrillation athletes atrial fibrillati...   13   80  25.000000  \n",
       "86  targeting egf receptor variant iii tumor speci...   14   85  25.000000  \n",
       "87  rindopepimut mer injectable peptide vaccine eg...   14   86  25.000000  "
      ]
     },
     "execution_count": 213,
     "metadata": {},
     "output_type": "execute_result"
    }
   ],
   "source": [
    "df_test.head()"
   ]
  },
  {
   "cell_type": "code",
   "execution_count": 214,
   "metadata": {},
   "outputs": [
    {
     "data": {
      "text/html": [
       "<div>\n",
       "<style scoped>\n",
       "    .dataframe tbody tr th:only-of-type {\n",
       "        vertical-align: middle;\n",
       "    }\n",
       "\n",
       "    .dataframe tbody tr th {\n",
       "        vertical-align: top;\n",
       "    }\n",
       "\n",
       "    .dataframe thead th {\n",
       "        text-align: right;\n",
       "    }\n",
       "</style>\n",
       "<table border=\"1\" class=\"dataframe\">\n",
       "  <thead>\n",
       "    <tr style=\"text-align: right;\">\n",
       "      <th></th>\n",
       "      <th>question</th>\n",
       "      <th>answer</th>\n",
       "      <th>qid</th>\n",
       "      <th>pid</th>\n",
       "      <th>percent</th>\n",
       "    </tr>\n",
       "  </thead>\n",
       "  <tbody>\n",
       "    <tr>\n",
       "      <th>43</th>\n",
       "      <td>main regulatory molecule serca function cardia...</td>\n",
       "      <td>serca prime target modulation cardiac contract...</td>\n",
       "      <td>8</td>\n",
       "      <td>42</td>\n",
       "      <td>28.571429</td>\n",
       "    </tr>\n",
       "    <tr>\n",
       "      <th>45</th>\n",
       "      <td>main regulatory molecule serca function cardia...</td>\n",
       "      <td>anti apoptotic protein hax interacts serca reg...</td>\n",
       "      <td>8</td>\n",
       "      <td>44</td>\n",
       "      <td>28.571429</td>\n",
       "    </tr>\n",
       "    <tr>\n",
       "      <th>81</th>\n",
       "      <td>prevalent form arrhythmia worldwide</td>\n",
       "      <td>atrial fibrillation athletes atrial fibrillati...</td>\n",
       "      <td>13</td>\n",
       "      <td>80</td>\n",
       "      <td>25.000000</td>\n",
       "    </tr>\n",
       "    <tr>\n",
       "      <th>86</th>\n",
       "      <td>rindopepimut analog growth factor</td>\n",
       "      <td>targeting egf receptor variant iii tumor speci...</td>\n",
       "      <td>14</td>\n",
       "      <td>85</td>\n",
       "      <td>25.000000</td>\n",
       "    </tr>\n",
       "    <tr>\n",
       "      <th>87</th>\n",
       "      <td>rindopepimut analog growth factor</td>\n",
       "      <td>rindopepimut mer injectable peptide vaccine eg...</td>\n",
       "      <td>14</td>\n",
       "      <td>86</td>\n",
       "      <td>25.000000</td>\n",
       "    </tr>\n",
       "  </tbody>\n",
       "</table>\n",
       "</div>"
      ],
      "text/plain": [
       "                                             question  \\\n",
       "43  main regulatory molecule serca function cardia...   \n",
       "45  main regulatory molecule serca function cardia...   \n",
       "81                prevalent form arrhythmia worldwide   \n",
       "86                  rindopepimut analog growth factor   \n",
       "87                  rindopepimut analog growth factor   \n",
       "\n",
       "                                               answer  qid  pid    percent  \n",
       "43  serca prime target modulation cardiac contract...    8   42  28.571429  \n",
       "45  anti apoptotic protein hax interacts serca reg...    8   44  28.571429  \n",
       "81  atrial fibrillation athletes atrial fibrillati...   13   80  25.000000  \n",
       "86  targeting egf receptor variant iii tumor speci...   14   85  25.000000  \n",
       "87  rindopepimut mer injectable peptide vaccine eg...   14   86  25.000000  "
      ]
     },
     "execution_count": 214,
     "metadata": {},
     "output_type": "execute_result"
    }
   ],
   "source": [
    "df_test.head()"
   ]
  },
  {
   "cell_type": "markdown",
   "metadata": {},
   "source": [
    "#### Elactic Search"
   ]
  },
  {
   "cell_type": "code",
   "execution_count": 78,
   "metadata": {},
   "outputs": [],
   "source": [
    "from elasticsearch import helpers, Elasticsearch\n",
    "import csv\n",
    "import re\n",
    "import nltk\n",
    "from nltk.corpus import stopwords \n",
    "from nltk.tokenize import word_tokenize\n",
    "from inflection import singularize\n",
    "import matplotlib.pyplot as plt\n",
    "from scipy.spatial.distance import cosine as cs"
   ]
  },
  {
   "cell_type": "code",
   "execution_count": 81,
   "metadata": {},
   "outputs": [
    {
     "data": {
      "text/plain": [
       "{'name': 'm-c02wv1jnhtd5',\n",
       " 'cluster_name': 'elasticsearch',\n",
       " 'cluster_uuid': 'i0Q_KCKeTLGlRZzF8qt__A',\n",
       " 'version': {'number': '7.6.2',\n",
       "  'build_flavor': 'default',\n",
       "  'build_type': 'tar',\n",
       "  'build_hash': 'ef48eb35cf30adf4db14086e8aabd07ef6fb113f',\n",
       "  'build_date': '2020-03-26T06:34:37.794943Z',\n",
       "  'build_snapshot': False,\n",
       "  'lucene_version': '8.4.0',\n",
       "  'minimum_wire_compatibility_version': '6.8.0',\n",
       "  'minimum_index_compatibility_version': '6.0.0-beta1'},\n",
       " 'tagline': 'You Know, for Search'}"
      ]
     },
     "execution_count": 81,
     "metadata": {},
     "output_type": "execute_result"
    }
   ],
   "source": [
    "es = Elasticsearch([{'host': 'localhost', 'port': 9200}])\n",
    "es.info()"
   ]
  },
  {
   "cell_type": "code",
   "execution_count": 82,
   "metadata": {},
   "outputs": [],
   "source": [
    "index='index_23june'"
   ]
  },
  {
   "cell_type": "code",
   "execution_count": 83,
   "metadata": {},
   "outputs": [],
   "source": [
    "def doc_generator(data,index):\n",
    "    df_iter= data.iterrows()\n",
    "    \n",
    "    for index,document in df_iter:\n",
    "        yield{\n",
    "            \"_index\": 'index_23june',\n",
    "            \"_type\": \"_doc\",\n",
    "            \"_id\" : f\"{index}\",\n",
    "            \"_source\": document.to_json()\n",
    "        }\n",
    "    raise StopIteration"
   ]
  },
  {
   "cell_type": "code",
   "execution_count": 84,
   "metadata": {},
   "outputs": [
    {
     "name": "stderr",
     "output_type": "stream",
     "text": [
      "3049it [00:02, 1508.78it/s]\n"
     ]
    },
    {
     "data": {
      "text/plain": [
       "{'_shards': {'total': 2, 'successful': 1, 'failed': 0}}"
      ]
     },
     "execution_count": 84,
     "metadata": {},
     "output_type": "execute_result"
    }
   ],
   "source": [
    "for success,info in tqdm(helpers.parallel_bulk(es,doc_generator(df_qa_un[['pid','answer']],index))):\n",
    "    if not success:\n",
    "        print('A document failed:', info)\n",
    "es.indices.refresh(index=index)"
   ]
  },
  {
   "cell_type": "code",
   "execution_count": 215,
   "metadata": {},
   "outputs": [],
   "source": [
    "def SEARCH(text,index,field):\n",
    "    \n",
    "    res= es.search(index=index,body={\"query\":{\"match\":{field:{\"query\":text,\"operator\":\"or\",\"fuzziness\": \"0\"\n",
    "                                                            }}}},size = 30)\n",
    "    \n",
    "    return([(x.get('_source'),x.get('_score')) for x in res['hits']['hits']])"
   ]
  },
  {
   "cell_type": "code",
   "execution_count": 216,
   "metadata": {},
   "outputs": [],
   "source": [
    "index='index_23june'\n",
    "field = 'answer'"
   ]
  },
  {
   "cell_type": "code",
   "execution_count": 217,
   "metadata": {},
   "outputs": [],
   "source": [
    "#SEARCH('corporation',index,field)\n",
    "question_un = list(df_sub['question'].unique())\n",
    "\n",
    "df_ques = pd.DataFrame()\n",
    "df_ques['question'] = question_un"
   ]
  },
  {
   "cell_type": "code",
   "execution_count": 218,
   "metadata": {},
   "outputs": [
    {
     "data": {
      "text/plain": [
       "62"
      ]
     },
     "execution_count": 218,
     "metadata": {},
     "output_type": "execute_result"
    }
   ],
   "source": [
    "df_ques['question'].nunique()"
   ]
  },
  {
   "cell_type": "code",
   "execution_count": 219,
   "metadata": {},
   "outputs": [],
   "source": [
    "def query_generator(df):\n",
    "    while True:\n",
    "        yield (df_ques['question'])"
   ]
  },
  {
   "cell_type": "code",
   "execution_count": 220,
   "metadata": {},
   "outputs": [
    {
     "data": {
      "text/plain": [
       "<generator object query_generator at 0x12e1d05c8>"
      ]
     },
     "execution_count": 220,
     "metadata": {},
     "output_type": "execute_result"
    }
   ],
   "source": [
    "query_generator(df_ques[['question']])"
   ]
  },
  {
   "cell_type": "code",
   "execution_count": 221,
   "metadata": {},
   "outputs": [],
   "source": [
    "import concurrent.futures"
   ]
  },
  {
   "cell_type": "code",
   "execution_count": 222,
   "metadata": {},
   "outputs": [
    {
     "name": "stderr",
     "output_type": "stream",
     "text": [
      "100%|██████████| 62/62 [00:00<00:00, 771.33it/s]\n"
     ]
    },
    {
     "name": "stdout",
     "output_type": "stream",
     "text": [
      "CPU times: user 120 ms, sys: 82.5 ms, total: 203 ms\n",
      "Wall time: 259 ms\n"
     ]
    }
   ],
   "source": [
    "%%time\n",
    "\n",
    "queries=[]\n",
    "with concurrent.futures.ThreadPoolExecutor() as executor:\n",
    "    queries={executor.submit(SEARCH, query,index,'answer'): query for query in tqdm(df_ques.question)}\n"
   ]
  },
  {
   "cell_type": "code",
   "execution_count": 223,
   "metadata": {},
   "outputs": [
    {
     "name": "stderr",
     "output_type": "stream",
     "text": [
      "100%|██████████| 62/62 [00:00<00:00, 100598.39it/s]\n"
     ]
    }
   ],
   "source": [
    "out = [x.result() for x in tqdm(queries)]"
   ]
  },
  {
   "cell_type": "code",
   "execution_count": 224,
   "metadata": {},
   "outputs": [],
   "source": [
    "def get_std_ref_match(data_current):\n",
    "    \n",
    "    #UPC to match\n",
    "    questions = []\n",
    "    \n",
    "    #Original\n",
    "    answers = []\n",
    "    \n",
    "    #Score\n",
    "    score_bm25 = []\n",
    "    \n",
    "    #qid\n",
    "    #qs_id = []\n",
    "    \n",
    "    #pid\n",
    "    ps_id = []\n",
    "    \n",
    "        \n",
    "    \n",
    "    #Reindex\n",
    "    data_current.index = range(0,len(data_current))\n",
    "    \n",
    "    \n",
    "    for i in tqdm(range(0,len(data_current))):\n",
    "\n",
    "            \n",
    "            #question\n",
    "            qs = data_current['question'].iloc[i]\n",
    "            \n",
    "           \n",
    "            #Getting the search result\n",
    "            temp_out = out[i]\n",
    "            val = len(temp_out)\n",
    "\n",
    "            if val ==0:\n",
    "                \n",
    "                #questions\n",
    "                questions.append(qs)\n",
    "                \n",
    "\n",
    "                #answer\n",
    "                answers.append('NA')\n",
    "                \n",
    "                #qs_id ps_9d\n",
    "                #qs_id.append('NA')\n",
    "                ps_id.append('NA')\n",
    "                \n",
    "                #Score\n",
    "                score_bm25.append(0)\n",
    "                \n",
    "             \n",
    "            else:\n",
    "                for j in np.arange(val):\n",
    "\n",
    "                    #clean_ingred\n",
    "                    questions.append(qs)\n",
    "                \n",
    "\n",
    "                    #Creating temp\n",
    "                    temp2 = temp_out[j]\n",
    "\n",
    "                    #Separting the tuple\n",
    "                    doc_txt = temp2[0]['answer']\n",
    "                    \n",
    "                    #qs_i = temp2[0]['qid']\n",
    "                    ps_i = temp2[0]['pid']\n",
    "                    \n",
    "                    #query,passage ids\n",
    "                    ps_id.append(ps_i)\n",
    "\n",
    "                    #bm25\n",
    "                    doc_scr = temp2[1]\n",
    "\n",
    "\n",
    "                    #matched answers\n",
    "                    answers.append(doc_txt)\n",
    "                    \n",
    "\n",
    "                    #Score\n",
    "                    score_bm25.append(doc_scr)\n",
    "                    \n",
    "                    \n",
    "                    \n",
    "    \n",
    "\n",
    "    #Converting to a Dataframe   \n",
    "    df_out = pd.DataFrame()\n",
    "    #df_result['qid'] = qs_id\n",
    "    df_out['pid'] = ps_id\n",
    "    df_out['question'] = questions\n",
    "    df_out['answer'] = answers\n",
    "    df_out['score'] = score_bm25\n",
    "\n",
    "    return df_out\n",
    "\n"
   ]
  },
  {
   "cell_type": "code",
   "execution_count": 225,
   "metadata": {},
   "outputs": [
    {
     "name": "stderr",
     "output_type": "stream",
     "text": [
      "100%|██████████| 62/62 [00:00<00:00, 13992.30it/s]\n"
     ]
    }
   ],
   "source": [
    "df_out = get_std_ref_match(df_ques)"
   ]
  },
  {
   "cell_type": "code",
   "execution_count": 226,
   "metadata": {},
   "outputs": [
    {
     "data": {
      "text/plain": [
       "gene harbors mutation                                                              30\n",
       "dinutuximab used treatment disease                                                 30\n",
       "fusarium oxysporum f sp lycopersici plant pathogen plants producing common food    30\n",
       "prevalent form arrhythmia worldwide                                                30\n",
       "human enhancers promoters evolving faster                                          30\n",
       "                                                                                   ..\n",
       "many tap isoforms identified humans                                                30\n",
       "species bacteria mitochondria originate                                            30\n",
       "condition usually represented acronym sudep                                        30\n",
       "curb score used stratification disease                                             30\n",
       "alternate indication vanoxerine repositioned                                       23\n",
       "Name: question, Length: 62, dtype: int64"
      ]
     },
     "execution_count": 226,
     "metadata": {},
     "output_type": "execute_result"
    }
   ],
   "source": [
    "df_out['question'].value_counts()"
   ]
  },
  {
   "cell_type": "code",
   "execution_count": 227,
   "metadata": {},
   "outputs": [],
   "source": [
    "#q1 = df_ques['question'].iloc[3]"
   ]
  },
  {
   "cell_type": "code",
   "execution_count": 228,
   "metadata": {},
   "outputs": [
    {
     "data": {
      "text/html": [
       "<div>\n",
       "<style scoped>\n",
       "    .dataframe tbody tr th:only-of-type {\n",
       "        vertical-align: middle;\n",
       "    }\n",
       "\n",
       "    .dataframe tbody tr th {\n",
       "        vertical-align: top;\n",
       "    }\n",
       "\n",
       "    .dataframe thead th {\n",
       "        text-align: right;\n",
       "    }\n",
       "</style>\n",
       "<table border=\"1\" class=\"dataframe\">\n",
       "  <thead>\n",
       "    <tr style=\"text-align: right;\">\n",
       "      <th></th>\n",
       "      <th>pid</th>\n",
       "      <th>question</th>\n",
       "      <th>answer</th>\n",
       "      <th>score</th>\n",
       "    </tr>\n",
       "  </thead>\n",
       "  <tbody>\n",
       "    <tr>\n",
       "      <th>0</th>\n",
       "      <td>51</td>\n",
       "      <td>main regulatory molecule serca function cardia...</td>\n",
       "      <td>role serca pln complex ca homeostasis anti apo...</td>\n",
       "      <td>20.603191</td>\n",
       "    </tr>\n",
       "    <tr>\n",
       "      <th>1</th>\n",
       "      <td>51</td>\n",
       "      <td>main regulatory molecule serca function cardia...</td>\n",
       "      <td>role serca pln complex ca homeostasis anti apo...</td>\n",
       "      <td>20.603191</td>\n",
       "    </tr>\n",
       "    <tr>\n",
       "      <th>2</th>\n",
       "      <td>108</td>\n",
       "      <td>main regulatory molecule serca function cardia...</td>\n",
       "      <td>serca genesis arrhythmias already know new rev...</td>\n",
       "      <td>20.036608</td>\n",
       "    </tr>\n",
       "    <tr>\n",
       "      <th>3</th>\n",
       "      <td>57</td>\n",
       "      <td>main regulatory molecule serca function cardia...</td>\n",
       "      <td>sarcoplasmic reticulum dynamic calcium governo...</td>\n",
       "      <td>18.549107</td>\n",
       "    </tr>\n",
       "    <tr>\n",
       "      <th>4</th>\n",
       "      <td>50</td>\n",
       "      <td>main regulatory molecule serca function cardia...</td>\n",
       "      <td>chronic phospholamban sarcoplasmic reticulum c...</td>\n",
       "      <td>18.356573</td>\n",
       "    </tr>\n",
       "  </tbody>\n",
       "</table>\n",
       "</div>"
      ],
      "text/plain": [
       "   pid                                           question  \\\n",
       "0   51  main regulatory molecule serca function cardia...   \n",
       "1   51  main regulatory molecule serca function cardia...   \n",
       "2  108  main regulatory molecule serca function cardia...   \n",
       "3   57  main regulatory molecule serca function cardia...   \n",
       "4   50  main regulatory molecule serca function cardia...   \n",
       "\n",
       "                                              answer      score  \n",
       "0  role serca pln complex ca homeostasis anti apo...  20.603191  \n",
       "1  role serca pln complex ca homeostasis anti apo...  20.603191  \n",
       "2  serca genesis arrhythmias already know new rev...  20.036608  \n",
       "3  sarcoplasmic reticulum dynamic calcium governo...  18.549107  \n",
       "4  chronic phospholamban sarcoplasmic reticulum c...  18.356573  "
      ]
     },
     "execution_count": 228,
     "metadata": {},
     "output_type": "execute_result"
    }
   ],
   "source": [
    "df_out.head()"
   ]
  },
  {
   "cell_type": "code",
   "execution_count": 229,
   "metadata": {},
   "outputs": [],
   "source": [
    "df_out = df_out.drop_duplicates(keep='first')"
   ]
  },
  {
   "cell_type": "code",
   "execution_count": 116,
   "metadata": {},
   "outputs": [],
   "source": [
    "#df_sub[df_sub['question'] == q1]\n",
    "#df_out[df_out['question'] == q1]"
   ]
  },
  {
   "cell_type": "code",
   "execution_count": 233,
   "metadata": {},
   "outputs": [],
   "source": [
    "#Bringing the unique qids\n",
    "df_out['qid'] = df_out['question'].apply(lambda x : dict_ques[x])"
   ]
  },
  {
   "cell_type": "code",
   "execution_count": 118,
   "metadata": {},
   "outputs": [],
   "source": [
    "df_out1 = df_out.sort_values(by=['question','score'],ascending = False)"
   ]
  },
  {
   "cell_type": "code",
   "execution_count": 119,
   "metadata": {},
   "outputs": [],
   "source": [
    "df_out1['indices'] = range(0,len(df_out1))\n",
    "df_out1['rank'] = (df_out1.groupby('question')['indices'].rank(ascending=True))\n",
    "df_out1 = df_out1.drop(['indices'],axis=1)"
   ]
  },
  {
   "cell_type": "code",
   "execution_count": 120,
   "metadata": {},
   "outputs": [],
   "source": [
    "df_pred = df_out1[['qid','pid','rank']]"
   ]
  },
  {
   "cell_type": "code",
   "execution_count": 121,
   "metadata": {},
   "outputs": [
    {
     "data": {
      "text/plain": [
       "62"
      ]
     },
     "execution_count": 121,
     "metadata": {},
     "output_type": "execute_result"
    }
   ],
   "source": [
    "df_pred['qid'].nunique()"
   ]
  },
  {
   "cell_type": "code",
   "execution_count": 122,
   "metadata": {},
   "outputs": [],
   "source": [
    "df_true = df_sub[['qid','pid']]"
   ]
  },
  {
   "cell_type": "code",
   "execution_count": 123,
   "metadata": {},
   "outputs": [],
   "source": [
    "def compute_metrics(df_true, df_pred, MaxMRRRank):\n",
    "    \n",
    "    \"\"\"Compute MRR metric\n",
    "    Assumptions: Ensure we have top 10 results for all the questions for the code sanity\n",
    "    Sort the results by cosine similarity and give the top 10\n",
    "    \"\"\"\n",
    "    all_scores = {}\n",
    "    MRR = 0\n",
    "    \n",
    "    \n",
    "    #list of true and predicted\n",
    "    list1= list(set(df_pred['qid'].to_list()))\n",
    "    list2= list(set(df_true['qid'].to_list()))\n",
    "    \n",
    "    \n",
    "    for qid in list1:\n",
    "        if qid in list2:\n",
    "            #print (qid)\n",
    "            target_pid = list(df_true[df_true['qid']==qid]['pid'])\n",
    "            candidate_pid = list(df_pred[df_pred['qid']==qid]['pid'])\n",
    "            rank_pid = list(df_pred[df_pred['qid']==qid]['rank'])\n",
    "            \n",
    "            for i in range(0,MaxMRRRank):\n",
    "                #print (MaxMRRRank)\n",
    "                if candidate_pid[i] in target_pid:\n",
    "                    #print (i)\n",
    "                    MRR += 1/(rank_pid[i] + 1)\n",
    "                    #print (MRR)\n",
    "                \n",
    "\n",
    "    \n",
    "    \n",
    "    #calculating the final MRR\n",
    "    MRR = MRR/len(list1)\n",
    "    all_scores['MRR @10'] = MRR\n",
    "    all_scores['QueriesRanked'] = len(list1)\n",
    "    return all_scores"
   ]
  },
  {
   "cell_type": "code",
   "execution_count": 195,
   "metadata": {},
   "outputs": [
    {
     "data": {
      "text/plain": [
       "{'MRR @10': 0.17258064516129032, 'QueriesRanked': 62}"
      ]
     },
     "execution_count": 195,
     "metadata": {},
     "output_type": "execute_result"
    }
   ],
   "source": [
    "compute_metrics(df_true, df_pred,5)"
   ]
  },
  {
   "cell_type": "code",
   "execution_count": 211,
   "metadata": {},
   "outputs": [],
   "source": [
    "MAX_RANK = 3\n",
    "\n",
    "hits = pd.merge(df_true, df_pred,\n",
    "    on=[\"qid\", \"pid\"],\n",
    "    how=\"left\").fillna(MAX_RANK)\n",
    "\n"
   ]
  },
  {
   "cell_type": "code",
   "execution_count": 212,
   "metadata": {},
   "outputs": [
    {
     "data": {
      "text/plain": [
       "0.3756888861939794"
      ]
     },
     "execution_count": 212,
     "metadata": {},
     "output_type": "execute_result"
    }
   ],
   "source": [
    "mrr_type2 = (1 / hits.groupby('qid')['rank'].min()).mean()\n",
    "mrr_type2"
   ]
  },
  {
   "cell_type": "code",
   "execution_count": null,
   "metadata": {},
   "outputs": [],
   "source": []
  },
  {
   "cell_type": "markdown",
   "metadata": {},
   "source": [
    "#### Word_vector based approach"
   ]
  },
  {
   "cell_type": "code",
   "execution_count": null,
   "metadata": {},
   "outputs": [],
   "source": []
  },
  {
   "cell_type": "code",
   "execution_count": 230,
   "metadata": {},
   "outputs": [
    {
     "data": {
      "text/html": [
       "<div>\n",
       "<style scoped>\n",
       "    .dataframe tbody tr th:only-of-type {\n",
       "        vertical-align: middle;\n",
       "    }\n",
       "\n",
       "    .dataframe tbody tr th {\n",
       "        vertical-align: top;\n",
       "    }\n",
       "\n",
       "    .dataframe thead th {\n",
       "        text-align: right;\n",
       "    }\n",
       "</style>\n",
       "<table border=\"1\" class=\"dataframe\">\n",
       "  <thead>\n",
       "    <tr style=\"text-align: right;\">\n",
       "      <th></th>\n",
       "      <th>pid</th>\n",
       "      <th>question</th>\n",
       "      <th>answer</th>\n",
       "      <th>score</th>\n",
       "    </tr>\n",
       "  </thead>\n",
       "  <tbody>\n",
       "    <tr>\n",
       "      <th>0</th>\n",
       "      <td>51</td>\n",
       "      <td>main regulatory molecule serca function cardia...</td>\n",
       "      <td>role serca pln complex ca homeostasis anti apo...</td>\n",
       "      <td>20.603191</td>\n",
       "    </tr>\n",
       "    <tr>\n",
       "      <th>2</th>\n",
       "      <td>108</td>\n",
       "      <td>main regulatory molecule serca function cardia...</td>\n",
       "      <td>serca genesis arrhythmias already know new rev...</td>\n",
       "      <td>20.036608</td>\n",
       "    </tr>\n",
       "    <tr>\n",
       "      <th>3</th>\n",
       "      <td>57</td>\n",
       "      <td>main regulatory molecule serca function cardia...</td>\n",
       "      <td>sarcoplasmic reticulum dynamic calcium governo...</td>\n",
       "      <td>18.549107</td>\n",
       "    </tr>\n",
       "    <tr>\n",
       "      <th>4</th>\n",
       "      <td>50</td>\n",
       "      <td>main regulatory molecule serca function cardia...</td>\n",
       "      <td>chronic phospholamban sarcoplasmic reticulum c...</td>\n",
       "      <td>18.356573</td>\n",
       "    </tr>\n",
       "    <tr>\n",
       "      <th>5</th>\n",
       "      <td>45</td>\n",
       "      <td>main regulatory molecule serca function cardia...</td>\n",
       "      <td>myotonic dystrophy protein kinase phosphorylat...</td>\n",
       "      <td>16.944004</td>\n",
       "    </tr>\n",
       "  </tbody>\n",
       "</table>\n",
       "</div>"
      ],
      "text/plain": [
       "   pid                                           question  \\\n",
       "0   51  main regulatory molecule serca function cardia...   \n",
       "2  108  main regulatory molecule serca function cardia...   \n",
       "3   57  main regulatory molecule serca function cardia...   \n",
       "4   50  main regulatory molecule serca function cardia...   \n",
       "5   45  main regulatory molecule serca function cardia...   \n",
       "\n",
       "                                              answer      score  \n",
       "0  role serca pln complex ca homeostasis anti apo...  20.603191  \n",
       "2  serca genesis arrhythmias already know new rev...  20.036608  \n",
       "3  sarcoplasmic reticulum dynamic calcium governo...  18.549107  \n",
       "4  chronic phospholamban sarcoplasmic reticulum c...  18.356573  \n",
       "5  myotonic dystrophy protein kinase phosphorylat...  16.944004  "
      ]
     },
     "execution_count": 230,
     "metadata": {},
     "output_type": "execute_result"
    }
   ],
   "source": [
    "df_out.head()"
   ]
  },
  {
   "cell_type": "code",
   "execution_count": 159,
   "metadata": {},
   "outputs": [],
   "source": [
    "#df_out = df_out.drop_duplicates(keep='first')"
   ]
  },
  {
   "cell_type": "code",
   "execution_count": 234,
   "metadata": {},
   "outputs": [],
   "source": [
    "df1 = df_out.groupby('qid').agg({'answer': 'count'}).reset_index()"
   ]
  },
  {
   "cell_type": "code",
   "execution_count": 235,
   "metadata": {},
   "outputs": [],
   "source": [
    "#df1.head()"
   ]
  },
  {
   "cell_type": "code",
   "execution_count": 236,
   "metadata": {},
   "outputs": [],
   "source": [
    "df_inp = df_out[['qid','question','pid','answer']]"
   ]
  },
  {
   "cell_type": "code",
   "execution_count": 237,
   "metadata": {},
   "outputs": [
    {
     "data": {
      "text/plain": [
       "(1826, 4)"
      ]
     },
     "execution_count": 237,
     "metadata": {},
     "output_type": "execute_result"
    }
   ],
   "source": [
    "df_inp.shape"
   ]
  },
  {
   "cell_type": "code",
   "execution_count": 238,
   "metadata": {},
   "outputs": [],
   "source": [
    "# def sent_vectorizer(sent_ls, model ,size):\n",
    "    \n",
    "#     sent_vec = np.zeros(size)\n",
    "#     numw = 0\n",
    "#     for w in sent_ls:\n",
    "#         try:\n",
    "#             sent_vec = np.add(sent_vec, model[w])\n",
    "#             numw+=1\n",
    "#         except:\n",
    "#             pass\n",
    "#     return sent_vec / np.sqrt(sent_vec.dot(sent_vec))"
   ]
  },
  {
   "cell_type": "code",
   "execution_count": 239,
   "metadata": {},
   "outputs": [],
   "source": [
    "size = 1024"
   ]
  },
  {
   "cell_type": "code",
   "execution_count": 240,
   "metadata": {},
   "outputs": [],
   "source": [
    "df_inp_sub = df_inp[df_inp['qid'].isin(list_sub)]"
   ]
  },
  {
   "cell_type": "code",
   "execution_count": 241,
   "metadata": {},
   "outputs": [
    {
     "data": {
      "text/html": [
       "<div>\n",
       "<style scoped>\n",
       "    .dataframe tbody tr th:only-of-type {\n",
       "        vertical-align: middle;\n",
       "    }\n",
       "\n",
       "    .dataframe tbody tr th {\n",
       "        vertical-align: top;\n",
       "    }\n",
       "\n",
       "    .dataframe thead th {\n",
       "        text-align: right;\n",
       "    }\n",
       "</style>\n",
       "<table border=\"1\" class=\"dataframe\">\n",
       "  <thead>\n",
       "    <tr style=\"text-align: right;\">\n",
       "      <th></th>\n",
       "      <th>qid</th>\n",
       "      <th>question</th>\n",
       "      <th>pid</th>\n",
       "      <th>answer</th>\n",
       "    </tr>\n",
       "  </thead>\n",
       "  <tbody>\n",
       "    <tr>\n",
       "      <th>0</th>\n",
       "      <td>8</td>\n",
       "      <td>main regulatory molecule serca function cardia...</td>\n",
       "      <td>51</td>\n",
       "      <td>role serca pln complex ca homeostasis anti apo...</td>\n",
       "    </tr>\n",
       "    <tr>\n",
       "      <th>2</th>\n",
       "      <td>8</td>\n",
       "      <td>main regulatory molecule serca function cardia...</td>\n",
       "      <td>108</td>\n",
       "      <td>serca genesis arrhythmias already know new rev...</td>\n",
       "    </tr>\n",
       "    <tr>\n",
       "      <th>3</th>\n",
       "      <td>8</td>\n",
       "      <td>main regulatory molecule serca function cardia...</td>\n",
       "      <td>57</td>\n",
       "      <td>sarcoplasmic reticulum dynamic calcium governo...</td>\n",
       "    </tr>\n",
       "    <tr>\n",
       "      <th>4</th>\n",
       "      <td>8</td>\n",
       "      <td>main regulatory molecule serca function cardia...</td>\n",
       "      <td>50</td>\n",
       "      <td>chronic phospholamban sarcoplasmic reticulum c...</td>\n",
       "    </tr>\n",
       "    <tr>\n",
       "      <th>5</th>\n",
       "      <td>8</td>\n",
       "      <td>main regulatory molecule serca function cardia...</td>\n",
       "      <td>45</td>\n",
       "      <td>myotonic dystrophy protein kinase phosphorylat...</td>\n",
       "    </tr>\n",
       "  </tbody>\n",
       "</table>\n",
       "</div>"
      ],
      "text/plain": [
       "   qid                                           question  pid  \\\n",
       "0    8  main regulatory molecule serca function cardia...   51   \n",
       "2    8  main regulatory molecule serca function cardia...  108   \n",
       "3    8  main regulatory molecule serca function cardia...   57   \n",
       "4    8  main regulatory molecule serca function cardia...   50   \n",
       "5    8  main regulatory molecule serca function cardia...   45   \n",
       "\n",
       "                                              answer  \n",
       "0  role serca pln complex ca homeostasis anti apo...  \n",
       "2  serca genesis arrhythmias already know new rev...  \n",
       "3  sarcoplasmic reticulum dynamic calcium governo...  \n",
       "4  chronic phospholamban sarcoplasmic reticulum c...  \n",
       "5  myotonic dystrophy protein kinase phosphorylat...  "
      ]
     },
     "execution_count": 241,
     "metadata": {},
     "output_type": "execute_result"
    }
   ],
   "source": [
    "df_inp_sub.head()"
   ]
  },
  {
   "cell_type": "code",
   "execution_count": 242,
   "metadata": {},
   "outputs": [
    {
     "name": "stderr",
     "output_type": "stream",
     "text": [
      "100%|██████████| 1826/1826 [00:00<00:00, 4568.88it/s]\n"
     ]
    }
   ],
   "source": [
    "cosine = []\n",
    "\n",
    "for i in tqdm(range(0,len(df_inp_sub))):\n",
    "    \n",
    "    query = df_inp_sub['question'].iloc[i]\n",
    "    answer = df_inp_sub['answer'].iloc[i]\n",
    "    \n",
    "    q_vec = dict_qvec[query]\n",
    "    a_vec = dict_avec[answer]\n",
    "    \n",
    "    cosine.append(1- cs(q_vec,a_vec))\n"
   ]
  },
  {
   "cell_type": "code",
   "execution_count": 243,
   "metadata": {},
   "outputs": [],
   "source": [
    "df_inp_sub['cosine'] = cosine"
   ]
  },
  {
   "cell_type": "code",
   "execution_count": 244,
   "metadata": {},
   "outputs": [
    {
     "data": {
      "text/html": [
       "<div>\n",
       "<style scoped>\n",
       "    .dataframe tbody tr th:only-of-type {\n",
       "        vertical-align: middle;\n",
       "    }\n",
       "\n",
       "    .dataframe tbody tr th {\n",
       "        vertical-align: top;\n",
       "    }\n",
       "\n",
       "    .dataframe thead th {\n",
       "        text-align: right;\n",
       "    }\n",
       "</style>\n",
       "<table border=\"1\" class=\"dataframe\">\n",
       "  <thead>\n",
       "    <tr style=\"text-align: right;\">\n",
       "      <th></th>\n",
       "      <th>qid</th>\n",
       "      <th>question</th>\n",
       "      <th>pid</th>\n",
       "      <th>answer</th>\n",
       "      <th>cosine</th>\n",
       "    </tr>\n",
       "  </thead>\n",
       "  <tbody>\n",
       "    <tr>\n",
       "      <th>0</th>\n",
       "      <td>8</td>\n",
       "      <td>main regulatory molecule serca function cardia...</td>\n",
       "      <td>51</td>\n",
       "      <td>role serca pln complex ca homeostasis anti apo...</td>\n",
       "      <td>0.653867</td>\n",
       "    </tr>\n",
       "    <tr>\n",
       "      <th>2</th>\n",
       "      <td>8</td>\n",
       "      <td>main regulatory molecule serca function cardia...</td>\n",
       "      <td>108</td>\n",
       "      <td>serca genesis arrhythmias already know new rev...</td>\n",
       "      <td>0.725890</td>\n",
       "    </tr>\n",
       "    <tr>\n",
       "      <th>3</th>\n",
       "      <td>8</td>\n",
       "      <td>main regulatory molecule serca function cardia...</td>\n",
       "      <td>57</td>\n",
       "      <td>sarcoplasmic reticulum dynamic calcium governo...</td>\n",
       "      <td>0.624094</td>\n",
       "    </tr>\n",
       "    <tr>\n",
       "      <th>4</th>\n",
       "      <td>8</td>\n",
       "      <td>main regulatory molecule serca function cardia...</td>\n",
       "      <td>50</td>\n",
       "      <td>chronic phospholamban sarcoplasmic reticulum c...</td>\n",
       "      <td>0.588352</td>\n",
       "    </tr>\n",
       "    <tr>\n",
       "      <th>5</th>\n",
       "      <td>8</td>\n",
       "      <td>main regulatory molecule serca function cardia...</td>\n",
       "      <td>45</td>\n",
       "      <td>myotonic dystrophy protein kinase phosphorylat...</td>\n",
       "      <td>0.616899</td>\n",
       "    </tr>\n",
       "  </tbody>\n",
       "</table>\n",
       "</div>"
      ],
      "text/plain": [
       "   qid                                           question  pid  \\\n",
       "0    8  main regulatory molecule serca function cardia...   51   \n",
       "2    8  main regulatory molecule serca function cardia...  108   \n",
       "3    8  main regulatory molecule serca function cardia...   57   \n",
       "4    8  main regulatory molecule serca function cardia...   50   \n",
       "5    8  main regulatory molecule serca function cardia...   45   \n",
       "\n",
       "                                              answer    cosine  \n",
       "0  role serca pln complex ca homeostasis anti apo...  0.653867  \n",
       "2  serca genesis arrhythmias already know new rev...  0.725890  \n",
       "3  sarcoplasmic reticulum dynamic calcium governo...  0.624094  \n",
       "4  chronic phospholamban sarcoplasmic reticulum c...  0.588352  \n",
       "5  myotonic dystrophy protein kinase phosphorylat...  0.616899  "
      ]
     },
     "execution_count": 244,
     "metadata": {},
     "output_type": "execute_result"
    }
   ],
   "source": [
    "df_inp_sub.head()"
   ]
  },
  {
   "cell_type": "code",
   "execution_count": 245,
   "metadata": {},
   "outputs": [],
   "source": [
    "df_result_vec = df_inp_sub.sort_values(by=['question','cosine'],ascending = False)"
   ]
  },
  {
   "cell_type": "code",
   "execution_count": 246,
   "metadata": {},
   "outputs": [],
   "source": [
    "df_result_vec['indices'] = range(0,len(df_result_vec))\n",
    "df_result_vec['rank'] = (df_result_vec.groupby('question')['cosine'].rank(ascending=False))\n",
    "df_result_vec = df_result_vec.drop(['indices'],axis=1)"
   ]
  },
  {
   "cell_type": "code",
   "execution_count": 247,
   "metadata": {},
   "outputs": [],
   "source": [
    "df_pred_vec = df_result_vec[['qid','pid','rank']]"
   ]
  },
  {
   "cell_type": "code",
   "execution_count": 248,
   "metadata": {},
   "outputs": [],
   "source": [
    "df_pred_vec.index = range(0,len(df_pred_vec))\n"
   ]
  },
  {
   "cell_type": "code",
   "execution_count": 249,
   "metadata": {},
   "outputs": [],
   "source": [
    "df_true_vec = df_sub[['qid','pid']]"
   ]
  },
  {
   "cell_type": "code",
   "execution_count": 250,
   "metadata": {},
   "outputs": [],
   "source": [
    "def compute_metrics(df_true, df_pred, MaxMRRRank):\n",
    "    \n",
    "    \"\"\"Compute MRR metric\n",
    "    Assumptions: Ensure we have top 10 results for all the questions for the code sanity\n",
    "    Sort the results by cosine similarity and give the top 10\n",
    "    \"\"\"\n",
    "    all_scores = {}\n",
    "    MRR = 0\n",
    "    \n",
    "    \n",
    "    #list of true and predicted\n",
    "    list1= list(set(df_pred['qid'].to_list()))\n",
    "    list2= list(set(df_true['qid'].to_list()))\n",
    "    \n",
    "    \n",
    "    for qid in list1:\n",
    "        if qid in list2:\n",
    "            #print (qid)\n",
    "            target_pid = list(df_true[df_true['qid']==qid]['pid'])\n",
    "            candidate_pid = list(df_pred[df_pred['qid']==qid]['pid'])\n",
    "            rank_pid = list(df_pred[df_pred['qid']==qid]['rank'])\n",
    "            \n",
    "            for i in range(0,MaxMRRRank):\n",
    "                #print (MaxMRRRank)\n",
    "                if candidate_pid[i] in target_pid:\n",
    "                    #print (i)\n",
    "                    MRR += 1/(rank_pid[i] + 1)\n",
    "                    #print (MRR)\n",
    "                \n",
    "\n",
    "    \n",
    "    \n",
    "    #calculating the final MRR\n",
    "    MRR = MRR/len(list1)\n",
    "    all_scores['MRR @10'] = MRR\n",
    "    all_scores['QueriesRanked'] = len(list1)\n",
    "    return all_scores"
   ]
  },
  {
   "cell_type": "code",
   "execution_count": 251,
   "metadata": {},
   "outputs": [
    {
     "data": {
      "text/plain": [
       "{'MRR @10': 0.23682795698924733, 'QueriesRanked': 62}"
      ]
     },
     "execution_count": 251,
     "metadata": {},
     "output_type": "execute_result"
    }
   ],
   "source": [
    "compute_metrics(df_true_vec, df_pred_vec,5)"
   ]
  },
  {
   "cell_type": "code",
   "execution_count": null,
   "metadata": {},
   "outputs": [],
   "source": []
  },
  {
   "cell_type": "code",
   "execution_count": 252,
   "metadata": {},
   "outputs": [],
   "source": [
    "MAX_RANK = 3\n",
    "\n",
    "hits = pd.merge(df_true_vec, df_pred_vec,\n",
    "    on=[\"qid\", \"pid\"],\n",
    "    how=\"left\").fillna(MAX_RANK)\n",
    "\n"
   ]
  },
  {
   "cell_type": "code",
   "execution_count": 253,
   "metadata": {},
   "outputs": [
    {
     "data": {
      "text/plain": [
       "0.4570119859076187"
      ]
     },
     "execution_count": 253,
     "metadata": {},
     "output_type": "execute_result"
    }
   ],
   "source": [
    "mrr_type2 = (1 / hits.groupby('qid')['rank'].min()).mean()\n",
    "mrr_type2"
   ]
  },
  {
   "cell_type": "code",
   "execution_count": null,
   "metadata": {},
   "outputs": [],
   "source": []
  },
  {
   "cell_type": "code",
   "execution_count": null,
   "metadata": {},
   "outputs": [],
   "source": []
  },
  {
   "cell_type": "code",
   "execution_count": null,
   "metadata": {},
   "outputs": [],
   "source": []
  },
  {
   "cell_type": "code",
   "execution_count": null,
   "metadata": {},
   "outputs": [],
   "source": []
  },
  {
   "cell_type": "code",
   "execution_count": null,
   "metadata": {},
   "outputs": [],
   "source": []
  },
  {
   "cell_type": "code",
   "execution_count": null,
   "metadata": {},
   "outputs": [],
   "source": []
  },
  {
   "cell_type": "code",
   "execution_count": null,
   "metadata": {},
   "outputs": [],
   "source": []
  },
  {
   "cell_type": "code",
   "execution_count": null,
   "metadata": {},
   "outputs": [],
   "source": []
  },
  {
   "cell_type": "code",
   "execution_count": null,
   "metadata": {},
   "outputs": [],
   "source": []
  }
 ],
 "metadata": {
  "kernelspec": {
   "display_name": "Python 3",
   "language": "python",
   "name": "python3"
  },
  "language_info": {
   "codemirror_mode": {
    "name": "ipython",
    "version": 3
   },
   "file_extension": ".py",
   "mimetype": "text/x-python",
   "name": "python",
   "nbconvert_exporter": "python",
   "pygments_lexer": "ipython3",
   "version": "3.6.8"
  }
 },
 "nbformat": 4,
 "nbformat_minor": 2
}

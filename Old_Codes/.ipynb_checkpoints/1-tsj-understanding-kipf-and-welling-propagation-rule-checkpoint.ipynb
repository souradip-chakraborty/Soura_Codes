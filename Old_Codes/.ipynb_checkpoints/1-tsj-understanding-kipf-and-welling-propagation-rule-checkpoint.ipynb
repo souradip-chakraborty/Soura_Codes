{
 "cells": [
  {
   "cell_type": "markdown",
   "metadata": {},
   "source": [
    "# Investigation of the Kipf and Welling Propagation Rule\n",
    "Read below sources for context.\n",
    " - Blog post by Kipf: https://tkipf.github.io/graph-convolutional-networks/\n",
    " - Paper on arXiv: https://arxiv.org/pdf/1609.02907.pdf"
   ]
  },
  {
   "cell_type": "code",
   "execution_count": 1,
   "metadata": {},
   "outputs": [],
   "source": [
    "from pprint import pprint\n",
    "import numpy as np\n",
    "from scipy.linalg import fractional_matrix_power\n",
    "\n",
    "def power(matrix, fraction):\n",
    "    return np.matrix(fractional_matrix_power(matrix, fraction))"
   ]
  },
  {
   "cell_type": "code",
   "execution_count": 2,
   "metadata": {},
   "outputs": [
    {
     "data": {
      "text/plain": [
       "matrix([[0., 1., 0., 0.],\n",
       "        [0., 0., 1., 1.],\n",
       "        [0., 1., 0., 0.],\n",
       "        [1., 0., 1., 0.]])"
      ]
     },
     "execution_count": 2,
     "metadata": {},
     "output_type": "execute_result"
    }
   ],
   "source": [
    "A = np.matrix([\n",
    "    [0, 1, 0, 0],\n",
    "    [0, 0, 1, 1], \n",
    "    [0, 1, 0, 0],\n",
    "    [1, 0, 1, 0]],\n",
    "    dtype=float\n",
    ")\n",
    "A"
   ]
  },
  {
   "cell_type": "code",
   "execution_count": 3,
   "metadata": {},
   "outputs": [
    {
     "data": {
      "image/png": "[encoded data removed]",
      "text/plain": [
       "<Figure size 432x288 with 1 Axes>"
      ]
     },
     "metadata": {
      "needs_background": "light"
     },
     "output_type": "display_data"
    }
   ],
   "source": [
    "%matplotlib inline\n",
    "from matplotlib import pyplot as plt\n",
    "from networkx import (\n",
    "    from_numpy_matrix, DiGraph,\n",
    "    draw_networkx_nodes, draw_networkx_labels, \n",
    "    draw_networkx_edges,\n",
    "    spring_layout)\n",
    "\n",
    "G = from_numpy_matrix(A, create_using=DiGraph())\n",
    "pos = spring_layout(G)\n",
    "\n",
    "draw_networkx_nodes(G, pos, node_color='lightblue')\n",
    "draw_networkx_edges(G,pos,width=1.0,alpha=0.5)\n",
    "\n",
    "labels = dict(zip(G.nodes(), G.nodes()))\n",
    "draw_networkx_labels(G, pos, labels, font_size=12)\n",
    "plt.axis('off')\n",
    "plt.savefig('../reports/figures/simple_graph.png')"
   ]
  },
  {
   "cell_type": "code",
   "execution_count": 4,
   "metadata": {},
   "outputs": [
    {
     "data": {
      "text/plain": [
       "matrix([[ 0.,  0.],\n",
       "        [ 1., -1.],\n",
       "        [ 2., -2.],\n",
       "        [ 3., -3.]])"
      ]
     },
     "execution_count": 4,
     "metadata": {},
     "output_type": "execute_result"
    }
   ],
   "source": [
    "X = np.matrix([\n",
    "    [i, -i]\n",
    "    for i in range(A.shape[0])\n",
    "], dtype=float)\n",
    "X"
   ]
  },
  {
   "cell_type": "code",
   "execution_count": 5,
   "metadata": {},
   "outputs": [
    {
     "data": {
      "text/plain": [
       "matrix([[1., 0., 0., 0.],\n",
       "        [0., 1., 0., 0.],\n",
       "        [0., 0., 1., 0.],\n",
       "        [0., 0., 0., 1.]])"
      ]
     },
     "execution_count": 5,
     "metadata": {},
     "output_type": "execute_result"
    }
   ],
   "source": [
    "I = np.matrix(np.eye(A.shape[0]))\n",
    "I"
   ]
  },
  {
   "cell_type": "markdown",
   "metadata": {},
   "source": [
    "# Naive Propagation Rule\n",
    "Represents a node as the **sum** of neighboring (connected by an in edge) nodes' features."
   ]
  },
  {
   "cell_type": "code",
   "execution_count": 6,
   "metadata": {},
   "outputs": [
    {
     "data": {
      "text/plain": [
       "matrix([[0., 1., 0., 0.],\n",
       "        [0., 0., 1., 1.],\n",
       "        [0., 1., 0., 0.],\n",
       "        [1., 0., 1., 0.]])"
      ]
     },
     "execution_count": 6,
     "metadata": {},
     "output_type": "execute_result"
    }
   ],
   "source": [
    "A"
   ]
  },
  {
   "cell_type": "code",
   "execution_count": 7,
   "metadata": {},
   "outputs": [
    {
     "name": "stdout",
     "output_type": "stream",
     "text": [
      "matrix([[ 0.,  0.],\n",
      "        [ 1., -1.],\n",
      "        [ 2., -2.],\n",
      "        [ 3., -3.]])\n"
     ]
    },
    {
     "data": {
      "text/plain": [
       "matrix([[ 1., -1.],\n",
       "        [ 5., -5.],\n",
       "        [ 1., -1.],\n",
       "        [ 2., -2.]])"
      ]
     },
     "execution_count": 7,
     "metadata": {},
     "output_type": "execute_result"
    }
   ],
   "source": [
    "pprint(X)\n",
    "A * X"
   ]
  },
  {
   "cell_type": "markdown",
   "metadata": {},
   "source": [
    "## Add Self Loop\n",
    "Equivalent to the above, but the node's own features is always included in the sum."
   ]
  },
  {
   "cell_type": "code",
   "execution_count": 8,
   "metadata": {},
   "outputs": [
    {
     "name": "stdout",
     "output_type": "stream",
     "text": [
      "matrix([[ 0.,  0.],\n",
      "        [ 1., -1.],\n",
      "        [ 2., -2.],\n",
      "        [ 3., -3.]])\n"
     ]
    },
    {
     "data": {
      "text/plain": [
       "matrix([[ 1., -1.],\n",
       "        [ 6., -6.],\n",
       "        [ 3., -3.],\n",
       "        [ 5., -5.]])"
      ]
     },
     "execution_count": 8,
     "metadata": {},
     "output_type": "execute_result"
    }
   ],
   "source": [
    "pprint(X)\n",
    "A_hat = A + I\n",
    "A_hat * X"
   ]
  },
  {
   "cell_type": "markdown",
   "metadata": {},
   "source": [
    "# Normalized Propagation\n",
    "Normalizes the features by node degree. Represents a node as the **mean** of neighboring (connected by an in edge) nodes' features. "
   ]
  },
  {
   "cell_type": "code",
   "execution_count": 9,
   "metadata": {},
   "outputs": [
    {
     "data": {
      "text/plain": [
       "matrix([[1., 0., 0., 0.],\n",
       "        [0., 2., 0., 0.],\n",
       "        [0., 0., 2., 0.],\n",
       "        [0., 0., 0., 1.]])"
      ]
     },
     "execution_count": 9,
     "metadata": {},
     "output_type": "execute_result"
    }
   ],
   "source": [
    "# Compute Degree Matrix\n",
    "D = np.array(np.sum(A, axis=0))[0]\n",
    "D = np.matrix(np.diag(D))\n",
    "D"
   ]
  },
  {
   "cell_type": "code",
   "execution_count": 10,
   "metadata": {},
   "outputs": [
    {
     "data": {
      "text/plain": [
       "matrix([[0. , 1. , 0. , 0. ],\n",
       "        [0. , 0. , 0.5, 0.5],\n",
       "        [0. , 0.5, 0. , 0. ],\n",
       "        [1. , 0. , 1. , 0. ]])"
      ]
     },
     "execution_count": 10,
     "metadata": {},
     "output_type": "execute_result"
    }
   ],
   "source": [
    "D**-1 * A"
   ]
  },
  {
   "cell_type": "code",
   "execution_count": 11,
   "metadata": {},
   "outputs": [
    {
     "name": "stdout",
     "output_type": "stream",
     "text": [
      "matrix([[ 0.,  0.],\n",
      "        [ 1., -1.],\n",
      "        [ 2., -2.],\n",
      "        [ 3., -3.]])\n"
     ]
    },
    {
     "data": {
      "text/plain": [
       "matrix([[ 1. , -1. ],\n",
       "        [ 2.5, -2.5],\n",
       "        [ 0.5, -0.5],\n",
       "        [ 2. , -2. ]])"
      ]
     },
     "execution_count": 11,
     "metadata": {},
     "output_type": "execute_result"
    }
   ],
   "source": [
    "pprint(X)\n",
    "D**-1 * A * X"
   ]
  },
  {
   "cell_type": "markdown",
   "metadata": {},
   "source": [
    "## Add Self Loop\n",
    "Equivalent to the above, but the node's own features is always included in the mean."
   ]
  },
  {
   "cell_type": "code",
   "execution_count": 12,
   "metadata": {},
   "outputs": [
    {
     "data": {
      "text/plain": [
       "matrix([[2., 0., 0., 0.],\n",
       "        [0., 3., 0., 0.],\n",
       "        [0., 0., 3., 0.],\n",
       "        [0., 0., 0., 2.]])"
      ]
     },
     "execution_count": 12,
     "metadata": {},
     "output_type": "execute_result"
    }
   ],
   "source": [
    "D_hat = np.array(np.sum(A_hat, axis=0))[0]\n",
    "D_hat = np.matrix(np.diag(D_hat))\n",
    "D_hat"
   ]
  },
  {
   "cell_type": "code",
   "execution_count": 13,
   "metadata": {},
   "outputs": [
    {
     "data": {
      "text/plain": [
       "matrix([[0.5       , 0.5       , 0.        , 0.        ],\n",
       "        [0.        , 0.33333333, 0.33333333, 0.33333333],\n",
       "        [0.        , 0.33333333, 0.33333333, 0.        ],\n",
       "        [0.5       , 0.        , 0.5       , 0.5       ]])"
      ]
     },
     "execution_count": 13,
     "metadata": {},
     "output_type": "execute_result"
    }
   ],
   "source": [
    "D_hat**-1 * A_hat"
   ]
  },
  {
   "cell_type": "code",
   "execution_count": 14,
   "metadata": {},
   "outputs": [
    {
     "name": "stdout",
     "output_type": "stream",
     "text": [
      "matrix([[ 0.,  0.],\n",
      "        [ 1., -1.],\n",
      "        [ 2., -2.],\n",
      "        [ 3., -3.]])\n"
     ]
    },
    {
     "data": {
      "text/plain": [
       "matrix([[ 0.5, -0.5],\n",
       "        [ 2. , -2. ],\n",
       "        [ 1. , -1. ],\n",
       "        [ 2.5, -2.5]])"
      ]
     },
     "execution_count": 14,
     "metadata": {},
     "output_type": "execute_result"
    }
   ],
   "source": [
    "pprint(X)\n",
    "D_hat**-1 * A_hat * X"
   ]
  },
  {
   "cell_type": "markdown",
   "metadata": {},
   "source": [
    "# Symmetric Normalization\n",
    "Represents a node as a **weighted sum** of neighboring (connected by an in edge) nodes' features. The weight of a neighbor $n$ of $v$ is $\\deg(v)^{0.5} \\cdot \\deg(n)^{0.5}$."
   ]
  },
  {
   "cell_type": "code",
   "execution_count": 15,
   "metadata": {},
   "outputs": [
    {
     "name": "stdout",
     "output_type": "stream",
     "text": [
      "matrix([[0., 1., 0., 0.],\n",
      "        [0., 0., 1., 1.],\n",
      "        [0., 1., 0., 0.],\n",
      "        [1., 0., 1., 0.]])\n",
      "matrix([[1., 0., 0., 0.],\n",
      "        [0., 2., 0., 0.],\n",
      "        [0., 0., 2., 0.],\n",
      "        [0., 0., 0., 1.]])\n"
     ]
    },
    {
     "data": {
      "text/plain": [
       "matrix([[1.        , 0.        , 0.        , 0.        ],\n",
       "        [0.        , 0.70710678, 0.        , 0.        ],\n",
       "        [0.        , 0.        , 0.70710678, 0.        ],\n",
       "        [0.        , 0.        , 0.        , 1.        ]])"
      ]
     },
     "execution_count": 15,
     "metadata": {},
     "output_type": "execute_result"
    }
   ],
   "source": [
    "pprint(A)\n",
    "pprint(D)\n",
    "power(D, -0.5)"
   ]
  },
  {
   "cell_type": "code",
   "execution_count": 16,
   "metadata": {},
   "outputs": [
    {
     "data": {
      "text/plain": [
       "matrix([[0.        , 1.        , 0.        , 0.        ],\n",
       "        [0.        , 0.        , 0.70710678, 0.70710678],\n",
       "        [0.        , 0.70710678, 0.        , 0.        ],\n",
       "        [1.        , 0.        , 1.        , 0.        ]])"
      ]
     },
     "execution_count": 16,
     "metadata": {},
     "output_type": "execute_result"
    }
   ],
   "source": [
    "power(D, -0.5) * A # Apply weight for own degree"
   ]
  },
  {
   "cell_type": "code",
   "execution_count": 17,
   "metadata": {},
   "outputs": [
    {
     "data": {
      "text/plain": [
       "matrix([[0.        , 0.70710678, 0.        , 0.        ],\n",
       "        [0.        , 0.        , 0.5       , 0.70710678],\n",
       "        [0.        , 0.5       , 0.        , 0.        ],\n",
       "        [1.        , 0.        , 0.70710678, 0.        ]])"
      ]
     },
     "execution_count": 17,
     "metadata": {},
     "output_type": "execute_result"
    }
   ],
   "source": [
    "power(D, -0.5) * A * power(D, -0.5) # Apply weight for neighbor degree"
   ]
  },
  {
   "cell_type": "code",
   "execution_count": 18,
   "metadata": {},
   "outputs": [
    {
     "name": "stdout",
     "output_type": "stream",
     "text": [
      "matrix([[0.        , 1.        , 0.        , 0.        ],\n",
      "        [0.        , 0.        , 0.70710678, 0.70710678],\n",
      "        [0.        , 0.70710678, 0.        , 0.        ],\n",
      "        [1.        , 0.        , 1.        , 0.        ]])\n",
      "matrix([[0.        , 0.70710678, 0.        , 0.        ],\n",
      "        [0.        , 0.        , 0.5       , 0.70710678],\n",
      "        [0.        , 0.5       , 0.        , 0.        ],\n",
      "        [1.        , 0.        , 0.70710678, 0.        ]])\n"
     ]
    }
   ],
   "source": [
    "pprint(power(D, -0.5) * A) # Apply weight for own degree\n",
    "pprint(power(D, -0.5) * A * power(D, -0.5)) # Apply weight for neighbor degree"
   ]
  },
  {
   "cell_type": "code",
   "execution_count": 19,
   "metadata": {},
   "outputs": [
    {
     "name": "stdout",
     "output_type": "stream",
     "text": [
      "matrix([[0. , 1. , 0. , 0. ],\n",
      "        [0. , 0. , 0.5, 0.5],\n",
      "        [0. , 0.5, 0. , 0. ],\n",
      "        [1. , 0. , 1. , 0. ]])\n",
      "matrix([[0.        , 0.84089642, 0.        , 0.        ],\n",
      "        [0.        , 0.        , 0.5       , 0.59460356],\n",
      "        [0.        , 0.5       , 0.        , 0.        ],\n",
      "        [1.        , 0.        , 0.84089642, 0.        ]])\n",
      "matrix([[0.        , 0.59460356, 0.        , 0.        ],\n",
      "        [0.        , 0.        , 0.5       , 0.84089642],\n",
      "        [0.        , 0.5       , 0.        , 0.        ],\n",
      "        [1.        , 0.        , 0.59460356, 0.        ]])\n",
      "matrix([[0. , 1. , 0. , 0. ],\n",
      "        [0. , 0. , 0.5, 0.5],\n",
      "        [0. , 0.5, 0. , 0. ],\n",
      "        [1. , 0. , 1. , 0. ]])\n"
     ]
    }
   ],
   "source": [
    "pprint(D**-1 * A)\n",
    "pprint(power(D, -0.75) * A * power(D, -0.25)) # Importance of neighbor degree decreases\n",
    "pprint(power(D, -0.25) * A * power(D, -0.75)) # Importance of neighbor degree increases\n",
    "pprint(power(D, -1.0) * A * power(D, -0.0)) # Is a generalization of asymmetric normalization"
   ]
  },
  {
   "cell_type": "code",
   "execution_count": 20,
   "metadata": {},
   "outputs": [
    {
     "name": "stdout",
     "output_type": "stream",
     "text": [
      "matrix([[ 0.,  0.],\n",
      "        [ 1., -1.],\n",
      "        [ 2., -2.],\n",
      "        [ 3., -3.]])\n"
     ]
    },
    {
     "data": {
      "text/plain": [
       "matrix([[ 0.70710678, -0.70710678],\n",
       "        [ 3.12132034, -3.12132034],\n",
       "        [ 0.5       , -0.5       ],\n",
       "        [ 1.41421356, -1.41421356]])"
      ]
     },
     "execution_count": 20,
     "metadata": {},
     "output_type": "execute_result"
    }
   ],
   "source": [
    "pprint(X)\n",
    "power(D, -0.5) * A * power(D, -0.5) * X"
   ]
  },
  {
   "cell_type": "markdown",
   "metadata": {},
   "source": [
    "##  Add Self Loops"
   ]
  },
  {
   "cell_type": "code",
   "execution_count": 21,
   "metadata": {},
   "outputs": [
    {
     "data": {
      "text/plain": [
       "matrix([[0.5       , 0.40824829, 0.        , 0.        ],\n",
       "        [0.        , 0.33333333, 0.33333333, 0.40824829],\n",
       "        [0.        , 0.33333333, 0.33333333, 0.        ],\n",
       "        [0.5       , 0.        , 0.40824829, 0.5       ]])"
      ]
     },
     "execution_count": 21,
     "metadata": {},
     "output_type": "execute_result"
    }
   ],
   "source": [
    "power(D_hat, -0.5) * A_hat * power(D_hat, -0.5)"
   ]
  },
  {
   "cell_type": "code",
   "execution_count": 22,
   "metadata": {},
   "outputs": [
    {
     "name": "stdout",
     "output_type": "stream",
     "text": [
      "matrix([[ 0.,  0.],\n",
      "        [ 1., -1.],\n",
      "        [ 2., -2.],\n",
      "        [ 3., -3.]])\n"
     ]
    },
    {
     "data": {
      "text/plain": [
       "matrix([[ 0.40824829, -0.40824829],\n",
       "        [ 2.22474487, -2.22474487],\n",
       "        [ 1.        , -1.        ],\n",
       "        [ 2.31649658, -2.31649658]])"
      ]
     },
     "execution_count": 22,
     "metadata": {},
     "output_type": "execute_result"
    }
   ],
   "source": [
    "pprint(X)\n",
    "power(D_hat, -0.5) * A_hat * power(D_hat, -0.5) * X"
   ]
  },
  {
   "cell_type": "code",
   "execution_count": 23,
   "metadata": {},
   "outputs": [
    {
     "data": {
      "text/plain": [
       "matrix([[ 0.40824829, -0.40824829],\n",
       "        [ 2.22474487, -2.22474487],\n",
       "        [ 1.        , -1.        ],\n",
       "        [ 2.31649658, -2.31649658]])"
      ]
     },
     "execution_count": 23,
     "metadata": {},
     "output_type": "execute_result"
    }
   ],
   "source": [
    "power(D_hat, -0.5) * A_hat * power(D_hat, -0.5) * X * np.matrix([[1, -1], [0, 0]])"
   ]
  },
  {
   "cell_type": "markdown",
   "metadata": {},
   "source": [
    "# Desimplification"
   ]
  },
  {
   "cell_type": "markdown",
   "metadata": {},
   "source": [
    "# Add Weights"
   ]
  },
  {
   "cell_type": "code",
   "execution_count": 24,
   "metadata": {},
   "outputs": [
    {
     "data": {
      "text/plain": [
       "matrix([[ 0.5, -0.5],\n",
       "        [ 2. , -2. ],\n",
       "        [ 1. , -1. ],\n",
       "        [ 2.5, -2.5]])"
      ]
     },
     "execution_count": 24,
     "metadata": {},
     "output_type": "execute_result"
    }
   ],
   "source": [
    "D_hat**-1 * A_hat * X"
   ]
  },
  {
   "cell_type": "code",
   "execution_count": 25,
   "metadata": {},
   "outputs": [
    {
     "data": {
      "text/plain": [
       "matrix([[ 1., -1.],\n",
       "        [ 4., -4.],\n",
       "        [ 2., -2.],\n",
       "        [ 5., -5.]])"
      ]
     },
     "execution_count": 25,
     "metadata": {},
     "output_type": "execute_result"
    }
   ],
   "source": [
    "W = np.matrix([\n",
    "    [1, -1], [-1, 1]\n",
    "])\n",
    "D_hat**-1 * A_hat * X * W"
   ]
  },
  {
   "cell_type": "code",
   "execution_count": 26,
   "metadata": {},
   "outputs": [
    {
     "data": {
      "text/plain": [
       "matrix([[1.],\n",
       "        [4.],\n",
       "        [2.],\n",
       "        [5.]])"
      ]
     },
     "execution_count": 26,
     "metadata": {},
     "output_type": "execute_result"
    }
   ],
   "source": [
    "W = np.matrix([\n",
    "    [1], [-1]\n",
    "])\n",
    "D_hat**-1 * A_hat * X * W"
   ]
  },
  {
   "cell_type": "code",
   "execution_count": 27,
   "metadata": {},
   "outputs": [],
   "source": [
    "def relu(m):\n",
    "   return np.maximum(m, 0)"
   ]
  },
  {
   "cell_type": "code",
   "execution_count": 28,
   "metadata": {},
   "outputs": [
    {
     "data": {
      "text/plain": [
       "matrix([[1., 0.],\n",
       "        [4., 0.],\n",
       "        [2., 0.],\n",
       "        [5., 0.]])"
      ]
     },
     "execution_count": 28,
     "metadata": {},
     "output_type": "execute_result"
    }
   ],
   "source": [
    "W = np.matrix([\n",
    "    [1, -1], [-1, 1]\n",
    "])\n",
    "relu(D_hat**-1 * A_hat * X * W)"
   ]
  },
  {
   "cell_type": "markdown",
   "metadata": {},
   "source": [
    "# Embedding Zachary's Karate Club"
   ]
  },
  {
   "cell_type": "code",
   "execution_count": 8,
   "metadata": {},
   "outputs": [
    {
     "name": "stdout",
     "output_type": "stream",
     "text": [
      "Instructor\n"
     ]
    },
    {
     "data": {
      "image/png": "[encoded data removed]",
      "text/plain": [
       "<Figure size 432x288 with 1 Axes>"
      ]
     },
     "metadata": {
      "needs_background": "light"
     },
     "output_type": "display_data"
    }
   ],
   "source": [
    "from networkx import (\n",
    "    karate_club_graph,\n",
    "    spring_layout, draw_networkx_nodes, draw_networkx_edges, draw_networkx_labels,\n",
    "    set_node_attributes,\n",
    "    write_edgelist\n",
    ")\n",
    "import matplotlib.pyplot as plt\n",
    "from csv import DictWriter\n",
    "zkc = karate_club_graph()\n",
    "\n",
    "pos = spring_layout(zkc)\n",
    "\n",
    "administrator = set(\n",
    "    n -1 for n in (1, 2, 3, 4, 5, 6, 7, 8, 9, 11, 12, 13, 14, 17, 18, 20, 22))\n",
    "instructor = set(node for node in zkc.nodes() if node not in administrator)\n",
    "\n",
    "draw_networkx_nodes(zkc, pos, nodelist=[0], node_size=300, node_color='C0')\n",
    "draw_networkx_nodes(zkc, pos, nodelist=list(administrator - set([0])), node_color='C0')\n",
    "\n",
    "draw_networkx_nodes(zkc, pos, nodelist=[33], node_size=300, node_color='C1')\n",
    "draw_networkx_nodes(zkc, pos, nodelist=list(instructor - set([33])), node_color='C1')\n",
    "\n",
    "#draw_networkx_nodes(zkc, pos, node_color='lightblue')\n",
    "draw_networkx_edges(zkc, pos,width=1.0,alpha=0.5)\n",
    "\n",
    "labels = {33: 'I', 0: 'A'}\n",
    "draw_networkx_labels(zkc, pos, labels, font_size=12)\n",
    "plt.axis('off')\n",
    "plt.savefig('../reports/figures/karateclub_visualised.pdf')"
   ]
  },
  {
   "cell_type": "code",
   "execution_count": 8,
   "metadata": {},
   "outputs": [],
   "source": [
    "def gcn_layer(A_hat, D_hat, X, W):\n",
    "    return relu(D_hat**-1 * A_hat * X * W)"
   ]
  },
  {
   "cell_type": "code",
   "execution_count": 9,
   "metadata": {},
   "outputs": [
    {
     "ename": "NameError",
     "evalue": "name 'np' is not defined",
     "output_type": "error",
     "traceback": [
      "\u001b[0;31m---------------------------------------------------------------------------\u001b[0m",
      "\u001b[0;31mNameError\u001b[0m                                 Traceback (most recent call last)",
      "\u001b[0;32m<ipython-input-9-b8f1ebef462e>\u001b[0m in \u001b[0;36m<module>\u001b[0;34m()\u001b[0m\n\u001b[1;32m      7\u001b[0m \u001b[0;34m\u001b[0m\u001b[0m\n\u001b[1;32m      8\u001b[0m \u001b[0mA\u001b[0m \u001b[0;34m=\u001b[0m \u001b[0mto_numpy_matrix\u001b[0m\u001b[0;34m(\u001b[0m\u001b[0mzkc\u001b[0m\u001b[0;34m,\u001b[0m \u001b[0mnodelist\u001b[0m\u001b[0;34m=\u001b[0m\u001b[0morder\u001b[0m\u001b[0;34m)\u001b[0m\u001b[0;34m\u001b[0m\u001b[0m\n\u001b[0;32m----> 9\u001b[0;31m \u001b[0mI\u001b[0m \u001b[0;34m=\u001b[0m \u001b[0mnp\u001b[0m\u001b[0;34m.\u001b[0m\u001b[0meye\u001b[0m\u001b[0;34m(\u001b[0m\u001b[0mzkc\u001b[0m\u001b[0;34m.\u001b[0m\u001b[0mnumber_of_nodes\u001b[0m\u001b[0;34m(\u001b[0m\u001b[0;34m)\u001b[0m\u001b[0;34m)\u001b[0m\u001b[0;34m\u001b[0m\u001b[0m\n\u001b[0m\u001b[1;32m     10\u001b[0m \u001b[0;34m\u001b[0m\u001b[0m\n\u001b[1;32m     11\u001b[0m \u001b[0mA_hat\u001b[0m \u001b[0;34m=\u001b[0m \u001b[0mA\u001b[0m \u001b[0;34m+\u001b[0m \u001b[0mI\u001b[0m\u001b[0;34m\u001b[0m\u001b[0m\n",
      "\u001b[0;31mNameError\u001b[0m: name 'np' is not defined"
     ]
    }
   ],
   "source": [
    "from networkx import to_numpy_matrix\n",
    "def gcn_layer(A_hat, D_hat, X, W):\n",
    "    return relu(D_hat**-1 * A_hat * X * W)\n",
    "\n",
    "zkc = karate_club_graph()\n",
    "order = sorted(list(zkc.nodes()))\n",
    "\n",
    "A = to_numpy_matrix(zkc, nodelist=order)\n",
    "I = np.eye(zkc.number_of_nodes())\n",
    "\n",
    "A_hat = A + I\n",
    "D_hat = np.array(np.sum(A_hat, axis=0))[0]\n",
    "D_hat = np.matrix(np.diag(D_hat))"
   ]
  },
  {
   "cell_type": "code",
   "execution_count": 10,
   "metadata": {},
   "outputs": [
    {
     "ename": "NameError",
     "evalue": "name 'np' is not defined",
     "output_type": "error",
     "traceback": [
      "\u001b[0;31m---------------------------------------------------------------------------\u001b[0m",
      "\u001b[0;31mNameError\u001b[0m                                 Traceback (most recent call last)",
      "\u001b[0;32m<ipython-input-10-6cfe6916a550>\u001b[0m in \u001b[0;36m<module>\u001b[0;34m()\u001b[0m\n\u001b[0;32m----> 1\u001b[0;31m \u001b[0mW_1\u001b[0m \u001b[0;34m=\u001b[0m \u001b[0mnp\u001b[0m\u001b[0;34m.\u001b[0m\u001b[0mrandom\u001b[0m\u001b[0;34m.\u001b[0m\u001b[0mnormal\u001b[0m\u001b[0;34m(\u001b[0m\u001b[0mloc\u001b[0m\u001b[0;34m=\u001b[0m\u001b[0;36m0\u001b[0m\u001b[0;34m,\u001b[0m \u001b[0msize\u001b[0m\u001b[0;34m=\u001b[0m\u001b[0;34m(\u001b[0m\u001b[0mzkc\u001b[0m\u001b[0;34m.\u001b[0m\u001b[0mnumber_of_nodes\u001b[0m\u001b[0;34m(\u001b[0m\u001b[0;34m)\u001b[0m\u001b[0;34m,\u001b[0m \u001b[0;36m4\u001b[0m\u001b[0;34m)\u001b[0m\u001b[0;34m)\u001b[0m \u001b[0;34m*\u001b[0m \u001b[0mnp\u001b[0m\u001b[0;34m.\u001b[0m\u001b[0msqrt\u001b[0m\u001b[0;34m(\u001b[0m\u001b[0mzkc\u001b[0m\u001b[0;34m.\u001b[0m\u001b[0mnumber_of_nodes\u001b[0m\u001b[0;34m(\u001b[0m\u001b[0;34m)\u001b[0m\u001b[0;34m)\u001b[0m\u001b[0;34m\u001b[0m\u001b[0m\n\u001b[0m\u001b[1;32m      2\u001b[0m \u001b[0mW_2\u001b[0m \u001b[0;34m=\u001b[0m \u001b[0mnp\u001b[0m\u001b[0;34m.\u001b[0m\u001b[0mrandom\u001b[0m\u001b[0;34m.\u001b[0m\u001b[0mnormal\u001b[0m\u001b[0;34m(\u001b[0m\u001b[0mloc\u001b[0m\u001b[0;34m=\u001b[0m\u001b[0;36m0\u001b[0m\u001b[0;34m,\u001b[0m \u001b[0msize\u001b[0m\u001b[0;34m=\u001b[0m\u001b[0;34m(\u001b[0m\u001b[0mW_1\u001b[0m\u001b[0;34m.\u001b[0m\u001b[0mshape\u001b[0m\u001b[0;34m[\u001b[0m\u001b[0;36m1\u001b[0m\u001b[0;34m]\u001b[0m\u001b[0;34m,\u001b[0m \u001b[0;36m2\u001b[0m\u001b[0;34m)\u001b[0m\u001b[0;34m)\u001b[0m \u001b[0;34m*\u001b[0m \u001b[0mnp\u001b[0m\u001b[0;34m.\u001b[0m\u001b[0msqrt\u001b[0m\u001b[0;34m(\u001b[0m\u001b[0mW_1\u001b[0m\u001b[0;34m.\u001b[0m\u001b[0mshape\u001b[0m\u001b[0;34m[\u001b[0m\u001b[0;36m1\u001b[0m\u001b[0;34m]\u001b[0m\u001b[0;34m)\u001b[0m\u001b[0;34m\u001b[0m\u001b[0m\n",
      "\u001b[0;31mNameError\u001b[0m: name 'np' is not defined"
     ]
    }
   ],
   "source": [
    "W_1 = np.random.normal(loc=0, size=(zkc.number_of_nodes(), 4)) * np.sqrt(zkc.number_of_nodes())\n",
    "W_2 = np.random.normal(loc=0, size=(W_1.shape[1], 2)) * np.sqrt(W_1.shape[1])"
   ]
  },
  {
   "cell_type": "code",
   "execution_count": 400,
   "metadata": {},
   "outputs": [
    {
     "data": {
      "text/plain": [
       "matrix([[ 2.63293008,  7.43778465],\n",
       "        [ 2.24505092,  2.91362338],\n",
       "        [ 2.83026642,  0.5634119 ],\n",
       "        [ 1.08966081,  0.32438816],\n",
       "        [ 1.79323777, 13.79109651],\n",
       "        [ 3.06628699, 18.25658238],\n",
       "        [ 3.21941518, 17.28625863],\n",
       "        [ 0.70127455,  0.50411151],\n",
       "        [ 1.5775419 ,  1.19264042],\n",
       "        [ 2.41248938,  0.        ],\n",
       "        [ 0.42243448, 17.10532581],\n",
       "        [ 0.86754691,  3.90286076],\n",
       "        [ 0.6058438 ,  0.96613536],\n",
       "        [ 1.33205488,  0.47538461],\n",
       "        [ 8.36241182,  4.64927433],\n",
       "        [ 4.62180863,  7.0732635 ],\n",
       "        [ 5.1135601 , 22.35850875],\n",
       "        [ 1.70646141,  1.69760565],\n",
       "        [ 5.86441444,  9.13353296],\n",
       "        [ 4.25920495,  3.22131688],\n",
       "        [ 5.26073025,  6.0839208 ],\n",
       "        [ 0.82100255,  5.53144834],\n",
       "        [ 6.53179582,  2.39148119],\n",
       "        [ 2.73306619,  5.16939565],\n",
       "        [ 3.70424684,  6.16738001],\n",
       "        [ 3.51263702,  6.9258294 ],\n",
       "        [ 5.18609157,  3.74912318],\n",
       "        [ 1.83819583,  2.39213272],\n",
       "        [ 4.26890576,  3.15070172],\n",
       "        [ 4.0930635 ,  3.97051002],\n",
       "        [ 2.10299468,  1.15175888],\n",
       "        [ 2.91493136,  3.92510608],\n",
       "        [ 8.34575795,  7.70866892],\n",
       "        [ 8.45076729,  6.29221508]])"
      ]
     },
     "execution_count": 400,
     "metadata": {},
     "output_type": "execute_result"
    }
   ],
   "source": [
    "W_1_ = (W_1 / np.sqrt(zkc.number_of_nodes())) * np.sqrt(2/zkc.number_of_nodes())\n",
    "W_2_ = (W_2 / np.sqrt(W_1.shape[1])) *  np.sqrt(2/W_1.shape[1])\n",
    "H_1 = gcn_layer(A_hat, D_hat, I, W_1)\n",
    "H_2 = gcn_layer(A_hat, D_hat, H_1, W_2)\n",
    "\n",
    "output = H_2\n",
    "output"
   ]
  },
  {
   "cell_type": "code",
   "execution_count": 401,
   "metadata": {},
   "outputs": [
    {
     "data": {
      "image/png": "[encoded data removed]",
      "text/plain": [
       "<Figure size 432x288 with 1 Axes>"
      ]
     },
     "metadata": {
      "needs_background": "light"
     },
     "output_type": "display_data"
    }
   ],
   "source": [
    "%matplotlib inline\n",
    "import matplotlib.pyplot as plt\n",
    "embedding = {node: np.array(output)[node] for node in zkc.nodes()}\n",
    "\n",
    "s=300\n",
    "plt.scatter(*embedding[0], c='C0', s=s)\n",
    "plt.annotate('A', xy=embedding[0], ha='center', va='center')\n",
    "x, y = zip(*[embedding[node] for node in administrator - set([0])])\n",
    "plt.scatter(x, y, c='C0', s=s)\n",
    "\n",
    "plt.scatter(*embedding[33], c='C1', s=s)\n",
    "plt.annotate('I', xy=embedding[33], ha='center', va='center')\n",
    "x, y = zip(*[embedding[node] for node in instructor- set([33])])\n",
    "plt.scatter(x, y, c='C1', s=s)\n",
    "plt.savefig('../reports/figures/randomly_initialized_2layer_GCN_on_karate_club.pdf')"
   ]
  },
  {
   "cell_type": "code",
   "execution_count": null,
   "metadata": {},
   "outputs": [],
   "source": []
  },
  {
   "cell_type": "code",
   "execution_count": null,
   "metadata": {},
   "outputs": [],
   "source": []
  }
 ],
 "metadata": {
  "kernelspec": {
   "display_name": "gcn",
   "language": "python",
   "name": "gcn"
  },
  "language_info": {
   "codemirror_mode": {
    "name": "ipython",
    "version": 3
   },
   "file_extension": ".py",
   "mimetype": "text/x-python",
   "name": "python",
   "nbconvert_exporter": "python",
   "pygments_lexer": "ipython3",
   "version": "3.6.4"
  }
 },
 "nbformat": 4,
 "nbformat_minor": 2
}

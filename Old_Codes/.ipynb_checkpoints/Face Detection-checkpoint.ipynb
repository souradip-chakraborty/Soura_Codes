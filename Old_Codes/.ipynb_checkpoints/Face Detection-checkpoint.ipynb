{
 "cells": [
  {
   "cell_type": "code",
   "execution_count": 225,
   "metadata": {},
   "outputs": [],
   "source": [
    "import pandas as pd\n",
    "import numpy as np\n",
    "import operator\n",
    "import json\n",
    "import datetime\n",
    "import itertools"
   ]
  },
  {
   "cell_type": "code",
   "execution_count": 163,
   "metadata": {},
   "outputs": [],
   "source": [
    "df=pd.read_csv('/users/s0p00zp/Downloads/analysis_38507735-A182-4F98-90C4-08D762F92557_12012019-12062019.csv',\n",
    "               header=None)"
   ]
  },
  {
   "cell_type": "code",
   "execution_count": 197,
   "metadata": {},
   "outputs": [
    {
     "data": {
      "text/plain": [
       "28"
      ]
     },
     "execution_count": 197,
     "metadata": {},
     "output_type": "execute_result"
    }
   ],
   "source": [
    " int(float(df[3][0] .split(\":\")[1]))"
   ]
  },
  {
   "cell_type": "code",
   "execution_count": 208,
   "metadata": {},
   "outputs": [],
   "source": [
    "h=[int(x.split(\":\")[0]) for x in df[3]]\n",
    "minute=[int(float(x.split(\":\")[1])) for x in df[3]]\n",
    "second=[float(x.split(\":\")[1])-int(float(x.split(\":\")[1])) for x in df[3]]"
   ]
  },
  {
   "cell_type": "code",
   "execution_count": 229,
   "metadata": {},
   "outputs": [
    {
     "name": "stdout",
     "output_type": "stream",
     "text": [
      "0 28 0.8999999999999986\n",
      "0 31 0.0\n",
      "0 36 0.5\n",
      "0 37 0.6000000000000014\n",
      "0 37 0.7999999999999972\n",
      "1 58 0.20000000000000284\n",
      "1 58 0.29999999999999716\n",
      "1 59 0.5\n",
      "2 0 0.2\n",
      "2 0 0.2\n",
      "2 0 0.6\n",
      "2 1 0.6000000000000001\n",
      "2 1 0.7\n",
      "2 5 0.9000000000000004\n",
      "2 49 0.8999999999999986\n",
      "2 51 0.7000000000000028\n",
      "2 52 0.10000000000000142\n",
      "3 0 0.7\n",
      "3 5 0.2999999999999998\n",
      "3 6 0.09999999999999964\n",
      "3 7 0.5\n",
      "3 13 0.5\n",
      "3 13 0.9000000000000004\n",
      "3 18 0.5\n",
      "4 3 0.7999999999999998\n",
      "4 27 0.5\n",
      "4 27 0.6000000000000014\n",
      "4 53 0.3999999999999986\n",
      "4 54 0.20000000000000284\n",
      "4 55 0.29999999999999716\n",
      "4 56 0.6000000000000014\n",
      "4 56 0.8999999999999986\n",
      "4 57 0.20000000000000284\n",
      "4 57 0.7999999999999972\n",
      "6 6 0.20000000000000018\n",
      "6 6 0.20000000000000018\n",
      "6 7 0.09999999999999964\n",
      "6 7 0.2999999999999998\n",
      "6 7 0.5999999999999996\n",
      "6 7 0.7999999999999998\n",
      "6 8 0.1999999999999993\n",
      "6 8 0.3000000000000007\n",
      "6 8 0.5999999999999996\n",
      "6 21 0.6999999999999993\n",
      "6 21 0.6999999999999993\n",
      "6 26 0.5\n",
      "6 31 0.3999999999999986\n",
      "6 41 0.8999999999999986\n",
      "6 57 0.3999999999999986\n",
      "6 58 0.8999999999999986\n",
      "7 0 0.7\n",
      "7 11 0.5\n",
      "7 17 0.3999999999999986\n",
      "7 17 0.8000000000000007\n",
      "7 29 0.10000000000000142\n",
      "7 33 0.3999999999999986\n",
      "7 55 0.8999999999999986\n",
      "7 57 0.6000000000000014\n",
      "8 12 0.9000000000000004\n",
      "8 15 0.40000000000000036\n",
      "8 22 0.8999999999999986\n",
      "8 58 0.0\n",
      "8 59 0.6000000000000014\n",
      "9 22 0.6000000000000014\n",
      "9 26 0.0\n",
      "9 38 0.8999999999999986\n",
      "9 53 0.29999999999999716\n",
      "9 55 0.3999999999999986\n",
      "9 55 0.5\n",
      "9 55 0.6000000000000014\n",
      "10 35 0.3999999999999986\n",
      "10 41 0.3999999999999986\n",
      "11 7 0.2999999999999998\n",
      "11 11 0.8000000000000007\n",
      "11 51 0.20000000000000284\n",
      "11 51 0.29999999999999716\n",
      "11 51 0.29999999999999716\n",
      "11 52 0.8999999999999986\n",
      "11 53 0.7000000000000028\n",
      "11 55 0.20000000000000284\n",
      "11 59 0.0\n",
      "12 23 0.10000000000000142\n",
      "12 41 0.29999999999999716\n",
      "12 55 0.7999999999999972\n",
      "12 57 0.29999999999999716\n",
      "13 0 0.9\n",
      "13 1 0.19999999999999996\n",
      "13 34 0.29999999999999716\n",
      "13 34 0.5\n",
      "13 35 0.20000000000000284\n",
      "13 36 0.3999999999999986\n",
      "13 36 0.6000000000000014\n",
      "13 36 0.6000000000000014\n",
      "13 39 0.5\n",
      "13 47 0.6000000000000014\n",
      "14 0 0.3\n",
      "14 2 0.8999999999999999\n",
      "14 15 0.5999999999999996\n",
      "14 23 0.8000000000000007\n",
      "14 26 0.10000000000000142\n",
      "14 37 0.20000000000000284\n",
      "14 38 0.6000000000000014\n",
      "14 55 0.20000000000000284\n",
      "15 0 0.9\n",
      "15 2 0.3999999999999999\n",
      "15 2 0.3999999999999999\n",
      "15 18 0.3000000000000007\n",
      "15 30 0.3000000000000007\n",
      "15 31 0.3000000000000007\n",
      "15 48 0.10000000000000142\n",
      "15 51 0.7999999999999972\n",
      "16 3 0.2999999999999998\n",
      "16 8 0.09999999999999964\n",
      "16 13 0.5\n",
      "16 20 0.6000000000000014\n",
      "16 26 0.10000000000000142\n",
      "16 32 0.7999999999999972\n",
      "16 35 0.3999999999999986\n",
      "16 44 0.7000000000000028\n",
      "16 54 0.0\n",
      "17 6 0.9000000000000004\n",
      "17 9 0.3000000000000007\n",
      "17 14 0.6999999999999993\n",
      "17 20 0.0\n",
      "17 45 0.8999999999999986\n",
      "17 45 0.8999999999999986\n",
      "18 5 0.09999999999999964\n",
      "18 30 0.10000000000000142\n",
      "18 49 0.7000000000000028\n",
      "19 10 0.5999999999999996\n",
      "19 12 0.3000000000000007\n",
      "19 13 0.0\n",
      "19 13 0.1999999999999993\n",
      "19 13 0.3000000000000007\n",
      "19 26 0.6000000000000014\n",
      "19 27 0.0\n",
      "19 32 0.8999999999999986\n",
      "20 6 0.2999999999999998\n",
      "20 18 0.3000000000000007\n",
      "20 22 0.3999999999999986\n",
      "20 39 0.0\n",
      "20 39 0.20000000000000284\n",
      "20 39 0.5\n",
      "20 40 0.6000000000000014\n",
      "21 12 0.40000000000000036\n",
      "21 38 0.10000000000000142\n",
      "22 9 0.40000000000000036\n",
      "22 22 0.8000000000000007\n",
      "22 23 0.3000000000000007\n",
      "22 23 0.6000000000000014\n",
      "22 25 0.5\n",
      "22 25 0.6000000000000014\n",
      "22 28 0.3000000000000007\n",
      "22 28 0.3999999999999986\n",
      "22 40 0.7999999999999972\n",
      "22 41 0.7999999999999972\n",
      "23 34 0.7999999999999972\n",
      "23 35 0.0\n",
      "23 35 0.0\n",
      "23 37 0.20000000000000284\n",
      "23 38 0.20000000000000284\n",
      "23 38 0.3999999999999986\n",
      "23 43 0.29999999999999716\n",
      "23 54 0.0\n",
      "23 54 0.10000000000000142\n",
      "24 4 0.5999999999999996\n"
     ]
    },
    {
     "ename": "ValueError",
     "evalue": "hour must be in 0..23",
     "output_type": "error",
     "traceback": [
      "\u001b[0;31m---------------------------------------------------------------------------\u001b[0m",
      "\u001b[0;31mValueError\u001b[0m                                Traceback (most recent call last)",
      "\u001b[0;32m<ipython-input-229-6cde03d9f57e>\u001b[0m in \u001b[0;36m<module>\u001b[0;34m()\u001b[0m\n\u001b[1;32m      2\u001b[0m \u001b[0;32mfor\u001b[0m \u001b[0;34m(\u001b[0m\u001b[0ma\u001b[0m\u001b[0;34m,\u001b[0m\u001b[0mb\u001b[0m\u001b[0;34m,\u001b[0m\u001b[0mc\u001b[0m\u001b[0;34m)\u001b[0m \u001b[0;32min\u001b[0m \u001b[0mzip\u001b[0m\u001b[0;34m(\u001b[0m\u001b[0mh\u001b[0m\u001b[0;34m,\u001b[0m\u001b[0mminute\u001b[0m\u001b[0;34m,\u001b[0m\u001b[0msecond\u001b[0m\u001b[0;34m)\u001b[0m\u001b[0;34m:\u001b[0m\u001b[0;34m\u001b[0m\u001b[0m\n\u001b[1;32m      3\u001b[0m     \u001b[0mprint\u001b[0m\u001b[0;34m(\u001b[0m\u001b[0ma\u001b[0m\u001b[0;34m,\u001b[0m\u001b[0mb\u001b[0m\u001b[0;34m,\u001b[0m\u001b[0mc\u001b[0m\u001b[0;34m)\u001b[0m\u001b[0;34m\u001b[0m\u001b[0m\n\u001b[0;32m----> 4\u001b[0;31m     \u001b[0mtmp\u001b[0m\u001b[0;34m=\u001b[0m\u001b[0mdatetime\u001b[0m\u001b[0;34m.\u001b[0m\u001b[0mtime\u001b[0m\u001b[0;34m(\u001b[0m\u001b[0ma\u001b[0m\u001b[0;34m,\u001b[0m\u001b[0mb\u001b[0m\u001b[0;34m,\u001b[0m\u001b[0mint\u001b[0m\u001b[0;34m(\u001b[0m\u001b[0mc\u001b[0m\u001b[0;34m*\u001b[0m\u001b[0;36m60\u001b[0m\u001b[0;34m)\u001b[0m\u001b[0;34m)\u001b[0m\u001b[0;34m.\u001b[0m\u001b[0mstrftime\u001b[0m\u001b[0;34m(\u001b[0m\u001b[0;34m'%H:%M:%S'\u001b[0m\u001b[0;34m)\u001b[0m\u001b[0;34m\u001b[0m\u001b[0m\n\u001b[0m\u001b[1;32m      5\u001b[0m     \u001b[0mtime_stamp\u001b[0m\u001b[0;34m.\u001b[0m\u001b[0mappend\u001b[0m\u001b[0;34m(\u001b[0m\u001b[0mtmp\u001b[0m\u001b[0;34m)\u001b[0m\u001b[0;34m\u001b[0m\u001b[0m\n",
      "\u001b[0;31mValueError\u001b[0m: hour must be in 0..23"
     ]
    }
   ],
   "source": [
    "time_stamp=[]\n",
    "for (a,b,c) in zip(h,minute,second):\n",
    "    print(a,b,c)\n",
    "    tmp=datetime.time(a,b,int(c*60)).strftime('%H:%M:%S')\n",
    "    time_stamp.append(tmp)"
   ]
  },
  {
   "cell_type": "code",
   "execution_count": 220,
   "metadata": {},
   "outputs": [
    {
     "ename": "ValueError",
     "evalue": "hour must be in 0..23",
     "output_type": "error",
     "traceback": [
      "\u001b[0;31m---------------------------------------------------------------------------\u001b[0m",
      "\u001b[0;31mValueError\u001b[0m                                Traceback (most recent call last)",
      "\u001b[0;32m<ipython-input-220-94b7f8185100>\u001b[0m in \u001b[0;36m<module>\u001b[0;34m()\u001b[0m\n\u001b[1;32m      1\u001b[0m times = [(datetime.time(int(x.split(\":\")[0]),int(float(x.split(\":\")[1])),\n\u001b[0;32m----> 2\u001b[0;31m                         int((float(x.split(\":\")[1])-int(float(x.split(\":\")[1])))*60))).strftime('%H:%M:%S') for x in df[3]]\n\u001b[0m",
      "\u001b[0;32m<ipython-input-220-94b7f8185100>\u001b[0m in \u001b[0;36m<listcomp>\u001b[0;34m(.0)\u001b[0m\n\u001b[1;32m      1\u001b[0m times = [(datetime.time(int(x.split(\":\")[0]),int(float(x.split(\":\")[1])),\n\u001b[0;32m----> 2\u001b[0;31m                         int((float(x.split(\":\")[1])-int(float(x.split(\":\")[1])))*60))).strftime('%H:%M:%S') for x in df[3]]\n\u001b[0m",
      "\u001b[0;31mValueError\u001b[0m: hour must be in 0..23"
     ]
    }
   ],
   "source": [
    "times = [(datetime.time(int(x.split(\":\")[0]),int(float(x.split(\":\")[1])),\n",
    "                        int((float(x.split(\":\")[1])-int(float(x.split(\":\")[1])))*60)),).strftime('%H:%M:%S') for x in df[3]]"
   ]
  },
  {
   "cell_type": "code",
   "execution_count": 101,
   "metadata": {},
   "outputs": [],
   "source": [
    "parsed_json=json.loads(df.loc[198][1])"
   ]
  },
  {
   "cell_type": "code",
   "execution_count": 102,
   "metadata": {},
   "outputs": [
    {
     "data": {
      "text/plain": [
       "dict_keys(['FaceGeometry', 'ThirdPartyLibrariesFace', 'FullBodyGeometry', 'UpperBodyGeometry', 'LowerBodyGeometry', 'ProfileFaceGeometry'])"
      ]
     },
     "execution_count": 102,
     "metadata": {},
     "output_type": "execute_result"
    }
   ],
   "source": [
    "parsed_json.keys()"
   ]
  },
  {
   "cell_type": "code",
   "execution_count": 103,
   "metadata": {},
   "outputs": [],
   "source": [
    "t=parsed_json.get('ThirdPartyLibrariesFace')"
   ]
  },
  {
   "cell_type": "code",
   "execution_count": 104,
   "metadata": {},
   "outputs": [
    {
     "data": {
      "text/plain": [
       "{'FaceGeometry': '[{\"X\":883,\"Y\":205,\"Width\":35,\"Height\":35,\"Top\":205,\"Bottom\":239,\"Left\":883,\"Right\":917,\"Location\":{\"X\":883,\"Y\":205},\"Size\":{\"Width\":35,\"Height\":35},\"TopLeft\":{\"X\":883,\"Y\":205},\"BottomRight\":{\"X\":917,\"Y\":239}}]',\n",
       " 'FullBodyGeometry': '[{\"X\":247,\"Y\":419,\"Width\":48,\"Height\":96,\"Top\":419,\"Bottom\":514,\"Left\":247,\"Right\":294,\"Location\":{\"X\":247,\"Y\":419},\"Size\":{\"Width\":48,\"Height\":96},\"TopLeft\":{\"X\":247,\"Y\":419},\"BottomRight\":{\"X\":294,\"Y\":514}},{\"X\":817,\"Y\":145,\"Width\":163,\"Height\":325,\"Top\":145,\"Bottom\":469,\"Left\":817,\"Right\":979,\"Location\":{\"X\":817,\"Y\":145},\"Size\":{\"Width\":163,\"Height\":325},\"TopLeft\":{\"X\":817,\"Y\":145},\"BottomRight\":{\"X\":979,\"Y\":469}}]',\n",
       " 'LowerBodyGeometry': '[{\"X\":247,\"Y\":457,\"Width\":48,\"Height\":58,\"Top\":457,\"Bottom\":514,\"Left\":247,\"Right\":294,\"Location\":{\"X\":247,\"Y\":457},\"Size\":{\"Width\":48,\"Height\":58},\"TopLeft\":{\"X\":247,\"Y\":457},\"BottomRight\":{\"X\":294,\"Y\":514}},{\"X\":731,\"Y\":187,\"Width\":48,\"Height\":59,\"Top\":187,\"Bottom\":245,\"Left\":731,\"Right\":778,\"Location\":{\"X\":731,\"Y\":187},\"Size\":{\"Width\":48,\"Height\":59},\"TopLeft\":{\"X\":731,\"Y\":187},\"BottomRight\":{\"X\":778,\"Y\":245}}]',\n",
       " 'ProfileFaceGeometry': '[{\"X\":1165,\"Y\":669,\"Width\":62,\"Height\":62,\"Top\":669,\"Bottom\":730,\"Left\":1165,\"Right\":1226,\"Location\":{\"X\":1165,\"Y\":669},\"Size\":{\"Width\":62,\"Height\":62},\"TopLeft\":{\"X\":1165,\"Y\":669},\"BottomRight\":{\"X\":1226,\"Y\":730}}]',\n",
       " 'ThirdPartyLibrariesFace': '{\"MicrosoftData\":\"[{\\\\\"faceId\\\\\":\\\\\"8527346d-a02e-438c-ac2c-cf97491857cc\\\\\",\\\\\"recognitionModel\\\\\":null,\\\\\"faceRectangle\\\\\":{\\\\\"width\\\\\":38,\\\\\"height\\\\\":38,\\\\\"left\\\\\":143,\\\\\"top\\\\\":308},\\\\\"faceLandmarks\\\\\":{\\\\\"pupilLeft\\\\\":{\\\\\"x\\\\\":153.7,\\\\\"y\\\\\":318.9},\\\\\"pupilRight\\\\\":{\\\\\"x\\\\\":167.0,\\\\\"y\\\\\":315.8},\\\\\"noseTip\\\\\":{\\\\\"x\\\\\":160.8,\\\\\"y\\\\\":329.8},\\\\\"mouthLeft\\\\\":{\\\\\"x\\\\\":158.9,\\\\\"y\\\\\":338.1},\\\\\"mouthRight\\\\\":{\\\\\"x\\\\\":171.1,\\\\\"y\\\\\":335.8},\\\\\"eyebrowLeftOuter\\\\\":{\\\\\"x\\\\\":147.6,\\\\\"y\\\\\":317.0},\\\\\"eyebrowLeftInner\\\\\":{\\\\\"x\\\\\":155.5,\\\\\"y\\\\\":314.4},\\\\\"eyeLeftOuter\\\\\":{\\\\\"x\\\\\":151.7,\\\\\"y\\\\\":319.7},\\\\\"eyeLeftTop\\\\\":{\\\\\"x\\\\\":153.4,\\\\\"y\\\\\":318.0},\\\\\"eyeLeftBottom\\\\\":{\\\\\"x\\\\\":153.8,\\\\\"y\\\\\":320.0},\\\\\"eyeLeftInner\\\\\":{\\\\\"x\\\\\":155.6,\\\\\"y\\\\\":318.9},\\\\\"eyebrowRightInner\\\\\":{\\\\\"x\\\\\":162.0,\\\\\"y\\\\\":313.6},\\\\\"eyebrowRightOuter\\\\\":{\\\\\"x\\\\\":172.4,\\\\\"y\\\\\":312.7},\\\\\"eyeRightInner\\\\\":{\\\\\"x\\\\\":165.1,\\\\\"y\\\\\":316.6},\\\\\"eyeRightTop\\\\\":{\\\\\"x\\\\\":167.2,\\\\\"y\\\\\":314.8},\\\\\"eyeRightBottom\\\\\":{\\\\\"x\\\\\":167.7,\\\\\"y\\\\\":316.8},\\\\\"eyeRightOuter\\\\\":{\\\\\"x\\\\\":169.8,\\\\\"y\\\\\":315.6},\\\\\"noseRootLeft\\\\\":{\\\\\"x\\\\\":157.7,\\\\\"y\\\\\":319.2},\\\\\"noseRootRight\\\\\":{\\\\\"x\\\\\":161.9,\\\\\"y\\\\\":318.1},\\\\\"noseLeftAlarTop\\\\\":{\\\\\"x\\\\\":157.7,\\\\\"y\\\\\":326.7},\\\\\"noseRightAlarTop\\\\\":{\\\\\"x\\\\\":163.9,\\\\\"y\\\\\":324.6},\\\\\"noseLeftAlarOutTip\\\\\":{\\\\\"x\\\\\":157.4,\\\\\"y\\\\\":330.0},\\\\\"noseRightAlarOutTip\\\\\":{\\\\\"x\\\\\":166.3,\\\\\"y\\\\\":327.4},\\\\\"upperLipTop\\\\\":{\\\\\"x\\\\\":163.3,\\\\\"y\\\\\":335.4},\\\\\"upperLipBottom\\\\\":{\\\\\"x\\\\\":163.6,\\\\\"y\\\\\":336.8},\\\\\"underLipTop\\\\\":{\\\\\"x\\\\\":164.0,\\\\\"y\\\\\":338.4},\\\\\"underLipBottom\\\\\":{\\\\\"x\\\\\":164.4,\\\\\"y\\\\\":340.0}},\\\\\"faceAttributes\\\\\":{\\\\\"age\\\\\":34.0,\\\\\"gender\\\\\":\\\\\"male\\\\\",\\\\\"smile\\\\\":0.0,\\\\\"facialHair\\\\\":{\\\\\"moustache\\\\\":0.1,\\\\\"beard\\\\\":0.1,\\\\\"sideburns\\\\\":0.1},\\\\\"glasses\\\\\":\\\\\"noGlasses\\\\\",\\\\\"headPose\\\\\":{\\\\\"roll\\\\\":-14.4,\\\\\"yaw\\\\\":-21.5,\\\\\"pitch\\\\\":-9.4},\\\\\"emotion\\\\\":{\\\\\"anger\\\\\":0.044,\\\\\"contempt\\\\\":0.0,\\\\\"disgust\\\\\":0.0,\\\\\"fear\\\\\":0.0,\\\\\"happiness\\\\\":0.0,\\\\\"neutral\\\\\":0.951,\\\\\"sadness\\\\\":0.004,\\\\\"surprise\\\\\":0.0},\\\\\"hair\\\\\":{\\\\\"bald\\\\\":0.17,\\\\\"invisible\\\\\":false,\\\\\"hairColor\\\\\":[{\\\\\"color\\\\\":\\\\\"black\\\\\",\\\\\"confidence\\\\\":0.99},{\\\\\"color\\\\\":\\\\\"gray\\\\\",\\\\\"confidence\\\\\":0.65},{\\\\\"color\\\\\":\\\\\"brown\\\\\",\\\\\"confidence\\\\\":0.54},{\\\\\"color\\\\\":\\\\\"other\\\\\",\\\\\"confidence\\\\\":0.39},{\\\\\"color\\\\\":\\\\\"blond\\\\\",\\\\\"confidence\\\\\":0.31},{\\\\\"color\\\\\":\\\\\"red\\\\\",\\\\\"confidence\\\\\":0.02}]},\\\\\"makeup\\\\\":{\\\\\"eyeMakeup\\\\\":false,\\\\\"lipMakeup\\\\\":false},\\\\\"occlusion\\\\\":{\\\\\"foreheadOccluded\\\\\":false,\\\\\"eyeOccluded\\\\\":false,\\\\\"mouthOccluded\\\\\":false},\\\\\"accessories\\\\\":[],\\\\\"blur\\\\\":{\\\\\"blurLevel\\\\\":\\\\\"Low\\\\\",\\\\\"value\\\\\":0.01},\\\\\"exposure\\\\\":{\\\\\"exposureLevel\\\\\":\\\\\"GoodExposure\\\\\",\\\\\"value\\\\\":0.52},\\\\\"noise\\\\\":{\\\\\"noiseLevel\\\\\":\\\\\"High\\\\\",\\\\\"value\\\\\":1.0}}}]\"}',\n",
       " 'UpperBodyGeometry': '[{\"X\":1420,\"Y\":213,\"Width\":55,\"Height\":45,\"Top\":213,\"Bottom\":257,\"Left\":1420,\"Right\":1474,\"Location\":{\"X\":1420,\"Y\":213},\"Size\":{\"Width\":55,\"Height\":45},\"TopLeft\":{\"X\":1420,\"Y\":213},\"BottomRight\":{\"X\":1474,\"Y\":257}},{\"X\":312,\"Y\":117,\"Width\":49,\"Height\":40,\"Top\":117,\"Bottom\":156,\"Left\":312,\"Right\":360,\"Location\":{\"X\":312,\"Y\":117},\"Size\":{\"Width\":49,\"Height\":40},\"TopLeft\":{\"X\":312,\"Y\":117},\"BottomRight\":{\"X\":360,\"Y\":156}},{\"X\":41,\"Y\":434,\"Width\":60,\"Height\":49,\"Top\":434,\"Bottom\":482,\"Left\":41,\"Right\":100,\"Location\":{\"X\":41,\"Y\":434},\"Size\":{\"Width\":60,\"Height\":49},\"TopLeft\":{\"X\":41,\"Y\":434},\"BottomRight\":{\"X\":100,\"Y\":482}},{\"X\":1031,\"Y\":738,\"Width\":46,\"Height\":38,\"Top\":738,\"Bottom\":775,\"Left\":1031,\"Right\":1076,\"Location\":{\"X\":1031,\"Y\":738},\"Size\":{\"Width\":46,\"Height\":38},\"TopLeft\":{\"X\":1031,\"Y\":738},\"BottomRight\":{\"X\":1076,\"Y\":775}},{\"X\":1446,\"Y\":770,\"Width\":76,\"Height\":62,\"Top\":770,\"Bottom\":831,\"Left\":1446,\"Right\":1521,\"Location\":{\"X\":1446,\"Y\":770},\"Size\":{\"Width\":76,\"Height\":62},\"TopLeft\":{\"X\":1446,\"Y\":770},\"BottomRight\":{\"X\":1521,\"Y\":831}}]'}"
      ]
     },
     "execution_count": 104,
     "metadata": {},
     "output_type": "execute_result"
    }
   ],
   "source": [
    "parsed_json"
   ]
  },
  {
   "cell_type": "code",
   "execution_count": 9,
   "metadata": {},
   "outputs": [],
   "source": [
    "def as_complex(dct):\n",
    "    if '__complex__' in dct:\n",
    "        return complex(dct)\n",
    "    return(dct)"
   ]
  },
  {
   "cell_type": "code",
   "execution_count": 129,
   "metadata": {},
   "outputs": [],
   "source": [
    "attributes=['age','facialHair','gender','emotion','hair','glasses']\n",
    "def get_attributes(json_data):\n",
    "    faceId=json.loads(json.loads(json_data,object_hook=as_complex).get('MicrosoftData'),\n",
    "           object_hook=as_complex)[0].get('faceId')\n",
    "    faceAttributes=json.loads(json.loads(json_data,object_hook=as_complex).get('MicrosoftData'),\n",
    "           object_hook=as_complex)[0].get('faceAttributes')\n",
    "    age=faceAttributes.get(attributes[0])\n",
    "    facialHair=max(faceAttributes.get(attributes[1]).items(),key=operator.itemgetter(1))[0]\n",
    "    gender=faceAttributes.get(attributes[2])\n",
    "    emotion=max(faceAttributes.get(attributes[3]).items(),key=operator.itemgetter(1))[0]\n",
    "    #hair=max(faceAttributes.get(attributes[4]).items(),key=operator.itemgetter(1))[0]\n",
    "    glasses=faceAttributes.get(attributes[5])\n",
    "    return(pd.DataFrame({'faceId':faceId,\n",
    "                       'age':age,'facialHair':facialHair,'glasses':glasses,\n",
    "                       'gender':gender,'emotion':emotion},index=[0]))"
   ]
  },
  {
   "cell_type": "code",
   "execution_count": 145,
   "metadata": {},
   "outputs": [
    {
     "name": "stdout",
     "output_type": "stream",
     "text": [
      "Parsed : 10000\n",
      "Parsed : 20000\n",
      "Parsed : 30000\n",
      "Parsed : 40000\n",
      "Parsed : 50000\n"
     ]
    }
   ],
   "source": [
    "error=[]\n",
    "time=[]\n",
    "final_df=pd.DataFrame()\n",
    "for i in range(df.shape[0]):\n",
    "    j=i+1\n",
    "    if j % 10000==0:\n",
    "        print(\"Parsed :\",j)\n",
    "    parsed_json=json.loads(df.loc[i][1])\n",
    "    if 'ThirdPartyLibrariesFace' in parsed_json.keys():\n",
    "        text=parsed_json.get('ThirdPartyLibrariesFace')\n",
    "        try:\n",
    "            tmp_df=get_attributes(text)\n",
    "            final_df=pd.concat([final_df,tmp_df])\n",
    "            time.append(df[3][i])\n",
    "        except:\n",
    "            error.append(i)\n",
    "    else:\n",
    "        error.append(i)  "
   ]
  },
  {
   "cell_type": "code",
   "execution_count": 147,
   "metadata": {},
   "outputs": [],
   "source": [
    "final_df['time']=time"
   ]
  },
  {
   "cell_type": "code",
   "execution_count": 105,
   "metadata": {},
   "outputs": [],
   "source": [
    "faceAttributes=json.loads(json.loads(t,object_hook=as_complex).get('MicrosoftData'),\n",
    "           object_hook=as_complex)[0].get('faceAttributes')"
   ]
  },
  {
   "cell_type": "code",
   "execution_count": 110,
   "metadata": {},
   "outputs": [
    {
     "data": {
      "text/html": [
       "<div>\n",
       "<style scoped>\n",
       "    .dataframe tbody tr th:only-of-type {\n",
       "        vertical-align: middle;\n",
       "    }\n",
       "\n",
       "    .dataframe tbody tr th {\n",
       "        vertical-align: top;\n",
       "    }\n",
       "\n",
       "    .dataframe thead th {\n",
       "        text-align: right;\n",
       "    }\n",
       "</style>\n",
       "<table border=\"1\" class=\"dataframe\">\n",
       "  <thead>\n",
       "    <tr style=\"text-align: right;\">\n",
       "      <th></th>\n",
       "      <th>faceId</th>\n",
       "      <th>age</th>\n",
       "      <th>facialHair</th>\n",
       "      <th>gender</th>\n",
       "      <th>emotion</th>\n",
       "    </tr>\n",
       "  </thead>\n",
       "  <tbody>\n",
       "    <tr>\n",
       "      <th>0</th>\n",
       "      <td>8527346d-a02e-438c-ac2c-cf97491857cc</td>\n",
       "      <td>34.0</td>\n",
       "      <td>moustache</td>\n",
       "      <td>male</td>\n",
       "      <td>neutral</td>\n",
       "    </tr>\n",
       "  </tbody>\n",
       "</table>\n",
       "</div>"
      ],
      "text/plain": [
       "                                 faceId   age facialHair gender  emotion\n",
       "0  8527346d-a02e-438c-ac2c-cf97491857cc  34.0  moustache   male  neutral"
      ]
     },
     "execution_count": 110,
     "metadata": {},
     "output_type": "execute_result"
    }
   ],
   "source": [
    "get_attributes(t)"
   ]
  },
  {
   "cell_type": "code",
   "execution_count": 124,
   "metadata": {},
   "outputs": [
    {
     "data": {
      "text/plain": [
       "{'bald': 0.17,\n",
       " 'hairColor': [{'color': 'black', 'confidence': 0.99},\n",
       "  {'color': 'gray', 'confidence': 0.65},\n",
       "  {'color': 'brown', 'confidence': 0.54},\n",
       "  {'color': 'other', 'confidence': 0.39},\n",
       "  {'color': 'blond', 'confidence': 0.31},\n",
       "  {'color': 'red', 'confidence': 0.02}],\n",
       " 'invisible': False}"
      ]
     },
     "execution_count": 124,
     "metadata": {},
     "output_type": "execute_result"
    }
   ],
   "source": [
    "faceAttributes.get(attributes[4])"
   ]
  },
  {
   "cell_type": "code",
   "execution_count": 122,
   "metadata": {},
   "outputs": [
    {
     "data": {
      "text/plain": [
       "{'accessories': [],\n",
       " 'age': 34.0,\n",
       " 'blur': {'blurLevel': 'Low', 'value': 0.01},\n",
       " 'emotion': {'anger': 0.044,\n",
       "  'contempt': 0.0,\n",
       "  'disgust': 0.0,\n",
       "  'fear': 0.0,\n",
       "  'happiness': 0.0,\n",
       "  'neutral': 0.951,\n",
       "  'sadness': 0.004,\n",
       "  'surprise': 0.0},\n",
       " 'exposure': {'exposureLevel': 'GoodExposure', 'value': 0.52},\n",
       " 'facialHair': {'beard': 0.1, 'moustache': 0.1, 'sideburns': 0.1},\n",
       " 'gender': 'male',\n",
       " 'glasses': 'noGlasses',\n",
       " 'hair': {'bald': 0.17,\n",
       "  'hairColor': [{'color': 'black', 'confidence': 0.99},\n",
       "   {'color': 'gray', 'confidence': 0.65},\n",
       "   {'color': 'brown', 'confidence': 0.54},\n",
       "   {'color': 'other', 'confidence': 0.39},\n",
       "   {'color': 'blond', 'confidence': 0.31},\n",
       "   {'color': 'red', 'confidence': 0.02}],\n",
       "  'invisible': False},\n",
       " 'headPose': {'pitch': -9.4, 'roll': -14.4, 'yaw': -21.5},\n",
       " 'makeup': {'eyeMakeup': False, 'lipMakeup': False},\n",
       " 'noise': {'noiseLevel': 'High', 'value': 1.0},\n",
       " 'occlusion': {'eyeOccluded': False,\n",
       "  'foreheadOccluded': False,\n",
       "  'mouthOccluded': False},\n",
       " 'smile': 0.0}"
      ]
     },
     "execution_count": 122,
     "metadata": {},
     "output_type": "execute_result"
    }
   ],
   "source": [
    "max(faceAttributes.get(attributes[3]).items(),key=operator.itemgetter(1))[0]"
   ]
  },
  {
   "cell_type": "code",
   "execution_count": 171,
   "metadata": {},
   "outputs": [],
   "source": [
    "final_df.to_csv('/Users/s0p00zp/Desktop/Face_attributes.csv',index=False)"
   ]
  },
  {
   "cell_type": "code",
   "execution_count": 148,
   "metadata": {},
   "outputs": [
    {
     "data": {
      "text/html": [
       "<div>\n",
       "<style scoped>\n",
       "    .dataframe tbody tr th:only-of-type {\n",
       "        vertical-align: middle;\n",
       "    }\n",
       "\n",
       "    .dataframe tbody tr th {\n",
       "        vertical-align: top;\n",
       "    }\n",
       "\n",
       "    .dataframe thead th {\n",
       "        text-align: right;\n",
       "    }\n",
       "</style>\n",
       "<table border=\"1\" class=\"dataframe\">\n",
       "  <thead>\n",
       "    <tr style=\"text-align: right;\">\n",
       "      <th></th>\n",
       "      <th>faceId</th>\n",
       "      <th>age</th>\n",
       "      <th>facialHair</th>\n",
       "      <th>glasses</th>\n",
       "      <th>gender</th>\n",
       "      <th>emotion</th>\n",
       "      <th>time</th>\n",
       "    </tr>\n",
       "  </thead>\n",
       "  <tbody>\n",
       "    <tr>\n",
       "      <th>0</th>\n",
       "      <td>f87f4d5f-ed67-4e4e-a711-a36140f28260</td>\n",
       "      <td>31.0</td>\n",
       "      <td>moustache</td>\n",
       "      <td>noGlasses</td>\n",
       "      <td>female</td>\n",
       "      <td>neutral</td>\n",
       "      <td>00:37.6</td>\n",
       "    </tr>\n",
       "    <tr>\n",
       "      <th>0</th>\n",
       "      <td>2c11f17a-5393-4953-81e7-95ebf87aeb68</td>\n",
       "      <td>40.0</td>\n",
       "      <td>moustache</td>\n",
       "      <td>noGlasses</td>\n",
       "      <td>female</td>\n",
       "      <td>neutral</td>\n",
       "      <td>03:00.7</td>\n",
       "    </tr>\n",
       "    <tr>\n",
       "      <th>0</th>\n",
       "      <td>777b722e-1fbd-4d11-b511-df390951dd3d</td>\n",
       "      <td>27.0</td>\n",
       "      <td>moustache</td>\n",
       "      <td>readingGlasses</td>\n",
       "      <td>male</td>\n",
       "      <td>neutral</td>\n",
       "      <td>03:07.5</td>\n",
       "    </tr>\n",
       "    <tr>\n",
       "      <th>0</th>\n",
       "      <td>f3af0dbd-5e68-4263-be83-7fa181bcc1d3</td>\n",
       "      <td>30.0</td>\n",
       "      <td>moustache</td>\n",
       "      <td>noGlasses</td>\n",
       "      <td>female</td>\n",
       "      <td>neutral</td>\n",
       "      <td>06:31.4</td>\n",
       "    </tr>\n",
       "    <tr>\n",
       "      <th>0</th>\n",
       "      <td>c330bc29-e964-4926-a8c8-265cfd923ed9</td>\n",
       "      <td>35.0</td>\n",
       "      <td>moustache</td>\n",
       "      <td>noGlasses</td>\n",
       "      <td>female</td>\n",
       "      <td>neutral</td>\n",
       "      <td>06:41.9</td>\n",
       "    </tr>\n",
       "  </tbody>\n",
       "</table>\n",
       "</div>"
      ],
      "text/plain": [
       "                                 faceId   age facialHair         glasses  \\\n",
       "0  f87f4d5f-ed67-4e4e-a711-a36140f28260  31.0  moustache       noGlasses   \n",
       "0  2c11f17a-5393-4953-81e7-95ebf87aeb68  40.0  moustache       noGlasses   \n",
       "0  777b722e-1fbd-4d11-b511-df390951dd3d  27.0  moustache  readingGlasses   \n",
       "0  f3af0dbd-5e68-4263-be83-7fa181bcc1d3  30.0  moustache       noGlasses   \n",
       "0  c330bc29-e964-4926-a8c8-265cfd923ed9  35.0  moustache       noGlasses   \n",
       "\n",
       "   gender  emotion     time  \n",
       "0  female  neutral  00:37.6  \n",
       "0  female  neutral  03:00.7  \n",
       "0    male  neutral  03:07.5  \n",
       "0  female  neutral  06:31.4  \n",
       "0  female  neutral  06:41.9  "
      ]
     },
     "execution_count": 148,
     "metadata": {},
     "output_type": "execute_result"
    }
   ],
   "source": [
    "final_df.head()"
   ]
  },
  {
   "cell_type": "code",
   "execution_count": null,
   "metadata": {},
   "outputs": [],
   "source": []
  }
 ],
 "metadata": {
  "kernelspec": {
   "display_name": "Python 3",
   "language": "python",
   "name": "python3"
  },
  "language_info": {
   "codemirror_mode": {
    "name": "ipython",
    "version": 3
   },
   "file_extension": ".py",
   "mimetype": "text/x-python",
   "name": "python",
   "nbconvert_exporter": "python",
   "pygments_lexer": "ipython3",
   "version": "3.6.6"
  }
 },
 "nbformat": 4,
 "nbformat_minor": 2
}

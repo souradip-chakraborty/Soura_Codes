{
 "cells": [
  {
   "cell_type": "code",
   "execution_count": 35,
   "metadata": {},
   "outputs": [],
   "source": [
    "import numpy as np\n",
    "z = []\n",
    "for i in range(0,100):\n",
    "    z.append(i)\n",
    "    \n",
    "z1 = np.array(z)"
   ]
  },
  {
   "cell_type": "code",
   "execution_count": 36,
   "metadata": {},
   "outputs": [
    {
     "data": {
      "text/plain": [
       "array([0, 1, 2, 3, 4, 5, 6, 7, 8, 9])"
      ]
     },
     "execution_count": 36,
     "metadata": {},
     "output_type": "execute_result"
    }
   ],
   "source": [
    "z1[0:10]"
   ]
  },
  {
   "cell_type": "markdown",
   "metadata": {},
   "source": [
    "\n",
    "#### Binary Search "
   ]
  },
  {
   "cell_type": "code",
   "execution_count": 4,
   "metadata": {},
   "outputs": [],
   "source": [
    "inp = 25"
   ]
  },
  {
   "cell_type": "code",
   "execution_count": 8,
   "metadata": {},
   "outputs": [
    {
     "name": "stdout",
     "output_type": "stream",
     "text": [
      "Element is found at 26\n",
      "CPU times: user 223 µs, sys: 75 µs, total: 298 µs\n",
      "Wall time: 264 µs\n"
     ]
    }
   ],
   "source": [
    "%%time\n",
    "\n",
    "lb = 0\n",
    "ub = len(z)-1\n",
    "\n",
    "\n",
    "while lb <= ub :\n",
    "    \n",
    "    mid = int ((lb + ub)/2)\n",
    "    \n",
    "    if inp == z[mid]:\n",
    "        print ('Element is found at' + ' ' + str(mid+1))\n",
    "        break\n",
    "    \n",
    "    elif inp > z[mid]:\n",
    "        lb = mid + 1\n",
    "    \n",
    "    elif inp < z[mid]:\n",
    "        ub = mid -1 \n",
    "        \n",
    "\n",
    "        \n",
    "if lb > ub :\n",
    "    print ('Element not found')\n",
    "        \n"
   ]
  },
  {
   "cell_type": "markdown",
   "metadata": {},
   "source": [
    "#### Stack Concepts"
   ]
  },
  {
   "cell_type": "code",
   "execution_count": 24,
   "metadata": {},
   "outputs": [],
   "source": [
    "s = [1,3,5,7]\n",
    "\n",
    "def push_item(item):\n",
    "    s.append(item)\n",
    "    \n",
    "def pop_item() :\n",
    "    \n",
    "    if len(s) == 0 :\n",
    "        print ('Stack Underflow')\n",
    "    else :\n",
    "        return s.pop()\n",
    "        \n",
    "\n",
    "def queue() :\n",
    "    \n",
    "    if len(s) == 0 :\n",
    "        print ('Stack Underflow')\n",
    "    else :\n",
    "        return s.pop(0)\n",
    "                "
   ]
  },
  {
   "cell_type": "code",
   "execution_count": 19,
   "metadata": {},
   "outputs": [
    {
     "data": {
      "text/plain": [
       "7"
      ]
     },
     "execution_count": 19,
     "metadata": {},
     "output_type": "execute_result"
    }
   ],
   "source": [
    "pop_item()"
   ]
  },
  {
   "cell_type": "code",
   "execution_count": 20,
   "metadata": {},
   "outputs": [
    {
     "data": {
      "text/plain": [
       "[1, 3, 5]"
      ]
     },
     "execution_count": 20,
     "metadata": {},
     "output_type": "execute_result"
    }
   ],
   "source": [
    "s"
   ]
  },
  {
   "cell_type": "code",
   "execution_count": 21,
   "metadata": {},
   "outputs": [],
   "source": [
    "push_item(10)"
   ]
  },
  {
   "cell_type": "code",
   "execution_count": 23,
   "metadata": {},
   "outputs": [
    {
     "data": {
      "text/plain": [
       "[1, 3, 5, 10]"
      ]
     },
     "execution_count": 23,
     "metadata": {},
     "output_type": "execute_result"
    }
   ],
   "source": [
    "s"
   ]
  },
  {
   "cell_type": "code",
   "execution_count": 25,
   "metadata": {},
   "outputs": [
    {
     "data": {
      "text/plain": [
       "1"
      ]
     },
     "execution_count": 25,
     "metadata": {},
     "output_type": "execute_result"
    }
   ],
   "source": [
    "queue()"
   ]
  },
  {
   "cell_type": "markdown",
   "metadata": {},
   "source": [
    "#### Bubble Sort"
   ]
  },
  {
   "cell_type": "code",
   "execution_count": 38,
   "metadata": {},
   "outputs": [],
   "source": [
    "z = z[::-1]"
   ]
  },
  {
   "cell_type": "code",
   "execution_count": 40,
   "metadata": {},
   "outputs": [],
   "source": [
    "#z"
   ]
  },
  {
   "cell_type": "code",
   "execution_count": 42,
   "metadata": {},
   "outputs": [
    {
     "name": "stdout",
     "output_type": "stream",
     "text": [
      "CPU times: user 2.21 ms, sys: 8 µs, total: 2.22 ms\n",
      "Wall time: 2.22 ms\n"
     ]
    }
   ],
   "source": [
    "%%time\n",
    "\n",
    "for i in range(0,len(z)-1):\n",
    "\n",
    "    for j in range(0,len(z)-i-1):\n",
    "\n",
    "        if z[j] > z[j+1]:\n",
    "            temp = z[j+1]\n",
    "            z[j+1] = z[j]\n",
    "            z[j] = temp\n"
   ]
  },
  {
   "cell_type": "code",
   "execution_count": 44,
   "metadata": {},
   "outputs": [],
   "source": [
    "#z"
   ]
  },
  {
   "cell_type": "markdown",
   "metadata": {},
   "source": [
    "#### Reccursions"
   ]
  },
  {
   "cell_type": "markdown",
   "metadata": {},
   "source": [
    "#### Factorial"
   ]
  },
  {
   "cell_type": "code",
   "execution_count": 45,
   "metadata": {},
   "outputs": [],
   "source": [
    "def get_factorials(n):\n",
    "    \n",
    "    if (n==1) or (n==0) :\n",
    "        return 1 \n",
    "    \n",
    "    else :\n",
    "        return n * get_factorials(n-1)\n",
    "        "
   ]
  },
  {
   "cell_type": "code",
   "execution_count": 46,
   "metadata": {},
   "outputs": [],
   "source": [
    "z = get_factorials(4)"
   ]
  },
  {
   "cell_type": "code",
   "execution_count": 47,
   "metadata": {},
   "outputs": [
    {
     "data": {
      "text/plain": [
       "24"
      ]
     },
     "execution_count": 47,
     "metadata": {},
     "output_type": "execute_result"
    }
   ],
   "source": [
    "z"
   ]
  },
  {
   "cell_type": "code",
   "execution_count": 60,
   "metadata": {},
   "outputs": [],
   "source": [
    "x = 'fedcba'\n",
    "l = len(x)\n",
    "s = ''"
   ]
  },
  {
   "cell_type": "code",
   "execution_count": 112,
   "metadata": {},
   "outputs": [],
   "source": [
    "def get_string_corr(x,s,l):\n",
    "    \n",
    "    if l<0 :\n",
    "        return s\n",
    "    \n",
    "    else :\n",
    "        s = s + x[l]\n",
    "        #print (s)\n",
    "        l = l-1\n",
    "        return get_string_corr(x,s,l)\n",
    "    "
   ]
  },
  {
   "cell_type": "code",
   "execution_count": 115,
   "metadata": {},
   "outputs": [],
   "source": [
    "s = get_string_corr(x,s,l-1)"
   ]
  },
  {
   "cell_type": "code",
   "execution_count": 116,
   "metadata": {},
   "outputs": [
    {
     "data": {
      "text/plain": [
       "'abcdef'"
      ]
     },
     "execution_count": 116,
     "metadata": {},
     "output_type": "execute_result"
    }
   ],
   "source": [
    "s"
   ]
  },
  {
   "cell_type": "code",
   "execution_count": 120,
   "metadata": {},
   "outputs": [
    {
     "name": "stdout",
     "output_type": "stream",
     "text": [
      "9\n"
     ]
    }
   ],
   "source": [
    "#Missing no in an array \n",
    "\n",
    "a = [1,2,3,4,5,6,7,8,10]\n",
    "\n",
    "for i in range(0,len(a)-1):\n",
    "    c = a[i+1]- a[i]\n",
    "    if c != 1 :\n",
    "        print (a[i] + 1)"
   ]
  },
  {
   "cell_type": "code",
   "execution_count": 135,
   "metadata": {},
   "outputs": [
    {
     "name": "stdout",
     "output_type": "stream",
     "text": [
      "CPU times: user 51 µs, sys: 1 µs, total: 52 µs\n",
      "Wall time: 54.1 µs\n"
     ]
    }
   ],
   "source": [
    "%%time\n",
    "#Given an array of distinct integers. \n",
    "#The task is to count all the triplets \n",
    "#such that sum of two elements equals the third element.\n",
    "\n",
    "a = [1,2,3,4,5,6,7,8,10]\n",
    "z = []\n",
    "\n",
    "for i in range(0,len(a)-2):\n",
    "    for j in range(i+1, len(a)-1):\n",
    "        for k in range(j+1, len(a)):\n",
    "            if (a[i] + a[j] == a[k]):\n",
    "                z.append((a[i],a[j],a[k]))\n",
    "            \n",
    "            "
   ]
  },
  {
   "cell_type": "code",
   "execution_count": 136,
   "metadata": {},
   "outputs": [
    {
     "name": "stdout",
     "output_type": "stream",
     "text": [
      "CPU times: user 27 µs, sys: 0 ns, total: 27 µs\n",
      "Wall time: 31 µs\n"
     ]
    }
   ],
   "source": [
    "%%time\n",
    "z1 = []\n",
    "for i in range(0,len(a)-1):\n",
    "    for j in range(i+1, len(a)):\n",
    "        c = a[i] + a[j]\n",
    "        if c in a :\n",
    "            z1.append((a[i],a[j],c))"
   ]
  },
  {
   "cell_type": "code",
   "execution_count": 146,
   "metadata": {},
   "outputs": [],
   "source": [
    "a = [1,2,3,4,5,6,7,8,10]"
   ]
  },
  {
   "cell_type": "code",
   "execution_count": null,
   "metadata": {},
   "outputs": [],
   "source": [
    "for i in range()"
   ]
  },
  {
   "cell_type": "code",
   "execution_count": null,
   "metadata": {},
   "outputs": [],
   "source": []
  },
  {
   "cell_type": "code",
   "execution_count": 162,
   "metadata": {},
   "outputs": [],
   "source": [
    "#Longest Palindrome in a String\n",
    "x = \"aaababababdvdjueaabbaakekekejejjebaaabaaabdd\"\n",
    "z = []\n",
    "\n",
    "for i in range(0,len(x)-1):\n",
    "    for j in range(i+1,len(x)):\n",
    "        strn = x[i:j+1]\n",
    "        strn_rev = strn[::-1]\n",
    "        if strn == strn_rev :\n",
    "            z.append(strn)"
   ]
  },
  {
   "cell_type": "code",
   "execution_count": 166,
   "metadata": {},
   "outputs": [],
   "source": [
    "z = list(set(z))"
   ]
  },
  {
   "cell_type": "code",
   "execution_count": 167,
   "metadata": {},
   "outputs": [],
   "source": [
    "z.sort(key=lambda s: len(s))"
   ]
  },
  {
   "cell_type": "code",
   "execution_count": 168,
   "metadata": {},
   "outputs": [
    {
     "data": {
      "text/plain": [
       "25"
      ]
     },
     "execution_count": 168,
     "metadata": {},
     "output_type": "execute_result"
    }
   ],
   "source": [
    "len(z)"
   ]
  },
  {
   "cell_type": "code",
   "execution_count": 170,
   "metadata": {},
   "outputs": [
    {
     "data": {
      "text/plain": [
       "['baaabaaab',\n",
       " 'abababa',\n",
       " 'aaabaaa',\n",
       " 'bababab',\n",
       " 'aabbaa',\n",
       " 'baaab',\n",
       " 'ekeke',\n",
       " 'aabaa',\n",
       " 'kekek',\n",
       " 'ababa',\n",
       " 'babab',\n",
       " 'ejje',\n",
       " 'abba',\n",
       " 'jej',\n",
       " 'eje',\n",
       " 'kek',\n",
       " 'aba',\n",
       " 'eke',\n",
       " 'bab',\n",
       " 'aaa',\n",
       " 'dvd',\n",
       " 'aa',\n",
       " 'dd',\n",
       " 'bb',\n",
       " 'jj']"
      ]
     },
     "execution_count": 170,
     "metadata": {},
     "output_type": "execute_result"
    }
   ],
   "source": [
    "z[::-1]"
   ]
  },
  {
   "cell_type": "code",
   "execution_count": 172,
   "metadata": {},
   "outputs": [],
   "source": [
    "#Parenthesis problem\n",
    "x = '()]'\n",
    "count_a = 0\n",
    "count_b = 0\n",
    "\n",
    "for i in range(0,len(x)) :\n",
    "    if x[i] == '(' :\n",
    "        count_a = count_a + 1\n",
    "    elif x[i] == ')' :\n",
    "        count_a = count_a - 1\n",
    "    \n",
    "    if x[i] == '[' :\n",
    "        count_b = count_b + 1\n",
    "    elif x[i] == ']' :\n",
    "        count_b = count_b - 1 \n",
    "    "
   ]
  },
  {
   "cell_type": "code",
   "execution_count": 197,
   "metadata": {},
   "outputs": [
    {
     "data": {
      "text/plain": [
       "[(1, 2, 3), (1, 3, 2), (2, 1, 3), (2, 3, 1), (3, 1, 2), (3, 2, 1)]"
      ]
     },
     "execution_count": 197,
     "metadata": {},
     "output_type": "execute_result"
    }
   ],
   "source": [
    "import itertools\n",
    "list(itertools.permutations([1,2,3]))\n"
   ]
  },
  {
   "cell_type": "code",
   "execution_count": 213,
   "metadata": {},
   "outputs": [
    {
     "data": {
      "text/plain": [
       "3.3333333333333335"
      ]
     },
     "execution_count": 213,
     "metadata": {},
     "output_type": "execute_result"
    }
   ],
   "source": [
    "10 / 3"
   ]
  },
  {
   "cell_type": "code",
   "execution_count": 215,
   "metadata": {},
   "outputs": [
    {
     "data": {
      "text/plain": [
       "3"
      ]
     },
     "execution_count": 215,
     "metadata": {},
     "output_type": "execute_result"
    }
   ],
   "source": [
    "26 // 7\n"
   ]
  },
  {
   "cell_type": "code",
   "execution_count": null,
   "metadata": {},
   "outputs": [],
   "source": []
  },
  {
   "cell_type": "code",
   "execution_count": null,
   "metadata": {},
   "outputs": [],
   "source": []
  },
  {
   "cell_type": "code",
   "execution_count": 173,
   "metadata": {},
   "outputs": [
    {
     "data": {
      "text/plain": [
       "0"
      ]
     },
     "execution_count": 173,
     "metadata": {},
     "output_type": "execute_result"
    }
   ],
   "source": [
    "count_a"
   ]
  },
  {
   "cell_type": "code",
   "execution_count": 174,
   "metadata": {},
   "outputs": [
    {
     "data": {
      "text/plain": [
       "-1"
      ]
     },
     "execution_count": 174,
     "metadata": {},
     "output_type": "execute_result"
    }
   ],
   "source": [
    "count_b"
   ]
  },
  {
   "cell_type": "code",
   "execution_count": 175,
   "metadata": {},
   "outputs": [],
   "source": [
    "x = 'abcddcab'\n",
    "x1 = 'cababcdd'"
   ]
  },
  {
   "cell_type": "code",
   "execution_count": 185,
   "metadata": {},
   "outputs": [],
   "source": [
    "from collections import Counter\n",
    "c = Counter(x)"
   ]
  },
  {
   "cell_type": "code",
   "execution_count": 194,
   "metadata": {},
   "outputs": [
    {
     "data": {
      "text/plain": [
       "Counter({1: 1, 3: 1, 5: 1, 15: 1})"
      ]
     },
     "execution_count": 194,
     "metadata": {},
     "output_type": "execute_result"
    }
   ],
   "source": [
    "c"
   ]
  },
  {
   "cell_type": "code",
   "execution_count": 180,
   "metadata": {},
   "outputs": [
    {
     "data": {
      "text/plain": [
       "Counter({'c': 2, 'a': 2, 'b': 2, 'd': 2})"
      ]
     },
     "execution_count": 180,
     "metadata": {},
     "output_type": "execute_result"
    }
   ],
   "source": [
    "Counter(x1)"
   ]
  },
  {
   "cell_type": "code",
   "execution_count": 182,
   "metadata": {},
   "outputs": [],
   "source": [
    "x = [5,15,1,3]"
   ]
  },
  {
   "cell_type": "code",
   "execution_count": 183,
   "metadata": {},
   "outputs": [],
   "source": [
    "x.sort()"
   ]
  },
  {
   "cell_type": "code",
   "execution_count": 184,
   "metadata": {},
   "outputs": [
    {
     "data": {
      "text/plain": [
       "[1, 3, 5, 15]"
      ]
     },
     "execution_count": 184,
     "metadata": {},
     "output_type": "execute_result"
    }
   ],
   "source": [
    "x"
   ]
  },
  {
   "cell_type": "code",
   "execution_count": 209,
   "metadata": {},
   "outputs": [],
   "source": [
    "# i = 0\n",
    "# while i<= 10 :\n",
    "#     print ('Hey')\n",
    "#     i = i + 1"
   ]
  },
  {
   "cell_type": "code",
   "execution_count": null,
   "metadata": {},
   "outputs": [],
   "source": []
  }
 ],
 "metadata": {
  "kernelspec": {
   "display_name": "Python 3",
   "language": "python",
   "name": "python3"
  },
  "language_info": {
   "codemirror_mode": {
    "name": "ipython",
    "version": 3
   },
   "file_extension": ".py",
   "mimetype": "text/x-python",
   "name": "python",
   "nbconvert_exporter": "python",
   "pygments_lexer": "ipython3",
   "version": "3.6.8"
  }
 },
 "nbformat": 4,
 "nbformat_minor": 2
}

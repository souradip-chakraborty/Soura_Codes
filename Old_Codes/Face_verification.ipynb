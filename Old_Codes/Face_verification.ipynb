{
 "cells": [
  {
   "cell_type": "code",
   "execution_count": 32,
   "metadata": {},
   "outputs": [],
   "source": [
    "import numpy as np\n",
    "import pandas as pd\n",
    "import seaborn as sns\n",
    "import datetime\n",
    "import matplotlib.pyplot as plt\n",
    "from scipy.stats import chi2_contingency\n"
   ]
  },
  {
   "cell_type": "code",
   "execution_count": 58,
   "metadata": {},
   "outputs": [],
   "source": [
    "df = pd.read_pickle('/Users/s0c02nj/Desktop/Face_attributes')"
   ]
  },
  {
   "cell_type": "code",
   "execution_count": 59,
   "metadata": {},
   "outputs": [
    {
     "data": {
      "text/html": [
       "<div>\n",
       "<style scoped>\n",
       "    .dataframe tbody tr th:only-of-type {\n",
       "        vertical-align: middle;\n",
       "    }\n",
       "\n",
       "    .dataframe tbody tr th {\n",
       "        vertical-align: top;\n",
       "    }\n",
       "\n",
       "    .dataframe thead th {\n",
       "        text-align: right;\n",
       "    }\n",
       "</style>\n",
       "<table border=\"1\" class=\"dataframe\">\n",
       "  <thead>\n",
       "    <tr style=\"text-align: right;\">\n",
       "      <th></th>\n",
       "      <th>faceId</th>\n",
       "      <th>age</th>\n",
       "      <th>facialHair</th>\n",
       "      <th>glasses</th>\n",
       "      <th>gender</th>\n",
       "      <th>emotion</th>\n",
       "      <th>time</th>\n",
       "      <th>datetime</th>\n",
       "      <th>year</th>\n",
       "      <th>month</th>\n",
       "      <th>day</th>\n",
       "      <th>hour</th>\n",
       "      <th>minute</th>\n",
       "      <th>second</th>\n",
       "    </tr>\n",
       "  </thead>\n",
       "  <tbody>\n",
       "    <tr>\n",
       "      <th>0</th>\n",
       "      <td>d46a8115-c6a4-4b81-9b48-d91c276bd23a</td>\n",
       "      <td>40.0</td>\n",
       "      <td>moustache</td>\n",
       "      <td>noGlasses</td>\n",
       "      <td>female</td>\n",
       "      <td>neutral</td>\n",
       "      <td>2019-12-20 15:52:31</td>\n",
       "      <td>2019-12-20 15:52:31</td>\n",
       "      <td>2019</td>\n",
       "      <td>12</td>\n",
       "      <td>20</td>\n",
       "      <td>15</td>\n",
       "      <td>52</td>\n",
       "      <td>31</td>\n",
       "    </tr>\n",
       "    <tr>\n",
       "      <th>0</th>\n",
       "      <td>017203ca-6f07-4fa6-99db-c0c883afe66c</td>\n",
       "      <td>46.0</td>\n",
       "      <td>moustache</td>\n",
       "      <td>noGlasses</td>\n",
       "      <td>male</td>\n",
       "      <td>neutral</td>\n",
       "      <td>2019-12-20 15:52:47</td>\n",
       "      <td>2019-12-20 15:52:47</td>\n",
       "      <td>2019</td>\n",
       "      <td>12</td>\n",
       "      <td>20</td>\n",
       "      <td>15</td>\n",
       "      <td>52</td>\n",
       "      <td>47</td>\n",
       "    </tr>\n",
       "    <tr>\n",
       "      <th>0</th>\n",
       "      <td>2ea7604f-2ed8-4d5f-838c-464451aa4f93</td>\n",
       "      <td>49.0</td>\n",
       "      <td>moustache</td>\n",
       "      <td>readingGlasses</td>\n",
       "      <td>female</td>\n",
       "      <td>neutral</td>\n",
       "      <td>2019-12-20 15:52:51</td>\n",
       "      <td>2019-12-20 15:52:51</td>\n",
       "      <td>2019</td>\n",
       "      <td>12</td>\n",
       "      <td>20</td>\n",
       "      <td>15</td>\n",
       "      <td>52</td>\n",
       "      <td>51</td>\n",
       "    </tr>\n",
       "    <tr>\n",
       "      <th>0</th>\n",
       "      <td>683566b0-5045-4bdf-bcdb-7c683a80536c</td>\n",
       "      <td>40.0</td>\n",
       "      <td>moustache</td>\n",
       "      <td>noGlasses</td>\n",
       "      <td>female</td>\n",
       "      <td>neutral</td>\n",
       "      <td>2019-12-20 15:52:54</td>\n",
       "      <td>2019-12-20 15:52:54</td>\n",
       "      <td>2019</td>\n",
       "      <td>12</td>\n",
       "      <td>20</td>\n",
       "      <td>15</td>\n",
       "      <td>52</td>\n",
       "      <td>54</td>\n",
       "    </tr>\n",
       "    <tr>\n",
       "      <th>0</th>\n",
       "      <td>cf6994f1-4a66-4e8d-b32c-63b221aa62e5</td>\n",
       "      <td>62.0</td>\n",
       "      <td>moustache</td>\n",
       "      <td>readingGlasses</td>\n",
       "      <td>female</td>\n",
       "      <td>neutral</td>\n",
       "      <td>2019-12-20 15:53:04</td>\n",
       "      <td>2019-12-20 15:53:04</td>\n",
       "      <td>2019</td>\n",
       "      <td>12</td>\n",
       "      <td>20</td>\n",
       "      <td>15</td>\n",
       "      <td>53</td>\n",
       "      <td>4</td>\n",
       "    </tr>\n",
       "  </tbody>\n",
       "</table>\n",
       "</div>"
      ],
      "text/plain": [
       "                                 faceId   age facialHair         glasses  \\\n",
       "0  d46a8115-c6a4-4b81-9b48-d91c276bd23a  40.0  moustache       noGlasses   \n",
       "0  017203ca-6f07-4fa6-99db-c0c883afe66c  46.0  moustache       noGlasses   \n",
       "0  2ea7604f-2ed8-4d5f-838c-464451aa4f93  49.0  moustache  readingGlasses   \n",
       "0  683566b0-5045-4bdf-bcdb-7c683a80536c  40.0  moustache       noGlasses   \n",
       "0  cf6994f1-4a66-4e8d-b32c-63b221aa62e5  62.0  moustache  readingGlasses   \n",
       "\n",
       "   gender  emotion                 time            datetime  year  month  day  \\\n",
       "0  female  neutral  2019-12-20 15:52:31 2019-12-20 15:52:31  2019     12   20   \n",
       "0    male  neutral  2019-12-20 15:52:47 2019-12-20 15:52:47  2019     12   20   \n",
       "0  female  neutral  2019-12-20 15:52:51 2019-12-20 15:52:51  2019     12   20   \n",
       "0  female  neutral  2019-12-20 15:52:54 2019-12-20 15:52:54  2019     12   20   \n",
       "0  female  neutral  2019-12-20 15:53:04 2019-12-20 15:53:04  2019     12   20   \n",
       "\n",
       "   hour  minute  second  \n",
       "0    15      52      31  \n",
       "0    15      52      47  \n",
       "0    15      52      51  \n",
       "0    15      52      54  \n",
       "0    15      53       4  "
      ]
     },
     "execution_count": 59,
     "metadata": {},
     "output_type": "execute_result"
    }
   ],
   "source": [
    "df.head()"
   ]
  },
  {
   "cell_type": "code",
   "execution_count": 35,
   "metadata": {},
   "outputs": [],
   "source": [
    "#df[df['facialHair'] == 'moustache']['gender'].value_counts()"
   ]
  },
  {
   "cell_type": "code",
   "execution_count": 36,
   "metadata": {},
   "outputs": [
    {
     "data": {
      "text/plain": [
       "(74471, 14)"
      ]
     },
     "execution_count": 36,
     "metadata": {},
     "output_type": "execute_result"
    }
   ],
   "source": [
    "df.shape"
   ]
  },
  {
   "cell_type": "code",
   "execution_count": 37,
   "metadata": {},
   "outputs": [
    {
     "data": {
      "text/plain": [
       "24    11187\n",
       "22     9323\n",
       "23     8764\n",
       "21     8393\n",
       "29     8007\n",
       "28     6590\n",
       "27     5548\n",
       "26     5094\n",
       "25     5046\n",
       "20     4169\n",
       "30     2350\n",
       "Name: day, dtype: int64"
      ]
     },
     "execution_count": 37,
     "metadata": {},
     "output_type": "execute_result"
    }
   ],
   "source": [
    "#2156/56951 * 100\n",
    "df['day'].value_counts()"
   ]
  },
  {
   "cell_type": "code",
   "execution_count": 38,
   "metadata": {},
   "outputs": [],
   "source": [
    "#df['hour'] = df['time'].apply(lambda x : x.hour)"
   ]
  },
  {
   "cell_type": "code",
   "execution_count": 39,
   "metadata": {},
   "outputs": [],
   "source": [
    "#df['hour'].unique()"
   ]
  },
  {
   "cell_type": "code",
   "execution_count": 40,
   "metadata": {},
   "outputs": [
    {
     "data": {
      "text/plain": [
       "Text(0.5, 1.0, 'Distribution of Age')"
      ]
     },
     "execution_count": 40,
     "metadata": {},
     "output_type": "execute_result"
    },
    {
     "data": {
      "image/png": "[encoded data removed]",
      "text/plain": [
       "<Figure size 432x288 with 1 Axes>"
      ]
     },
     "metadata": {
      "needs_background": "light"
     },
     "output_type": "display_data"
    }
   ],
   "source": [
    "sns.distplot(df['age'])\n",
    "plt.ylabel('Frequency')\n",
    "plt.title('Distribution of Age')"
   ]
  },
  {
   "cell_type": "code",
   "execution_count": 41,
   "metadata": {},
   "outputs": [
    {
     "data": {
      "text/plain": [
       "(0, 100000)"
      ]
     },
     "execution_count": 41,
     "metadata": {},
     "output_type": "execute_result"
    },
    {
     "data": {
      "image/png": "[encoded data removed]",
      "text/plain": [
       "<Figure size 432x288 with 1 Axes>"
      ]
     },
     "metadata": {
      "needs_background": "light"
     },
     "output_type": "display_data"
    }
   ],
   "source": [
    "sns.countplot(df['gender'])\n",
    "plt.ylabel('Frequency')\n",
    "plt.title('Emotion Distribution')\n",
    "plt.ylim(0,100000)"
   ]
  },
  {
   "cell_type": "code",
   "execution_count": 42,
   "metadata": {},
   "outputs": [
    {
     "data": {
      "text/plain": [
       "female    40153\n",
       "male      34318\n",
       "Name: gender, dtype: int64"
      ]
     },
     "execution_count": 42,
     "metadata": {},
     "output_type": "execute_result"
    }
   ],
   "source": [
    "df['gender'].value_counts()"
   ]
  },
  {
   "cell_type": "code",
   "execution_count": 43,
   "metadata": {},
   "outputs": [
    {
     "data": {
      "text/plain": [
       "Text(0.5, 1.0, 'Emotion Distribution')"
      ]
     },
     "execution_count": 43,
     "metadata": {},
     "output_type": "execute_result"
    },
    {
     "data": {
      "image/png": "[encoded data removed]",
      "text/plain": [
       "<Figure size 432x288 with 1 Axes>"
      ]
     },
     "metadata": {
      "needs_background": "light"
     },
     "output_type": "display_data"
    }
   ],
   "source": [
    "sns.countplot(df['emotion'])\n",
    "plt.ylabel('Frequency')\n",
    "plt.title('Emotion Distribution')"
   ]
  },
  {
   "cell_type": "code",
   "execution_count": 54,
   "metadata": {},
   "outputs": [],
   "source": [
    "#sns.boxplot(x=\"month\", y=\"emotion\", data=pd.melt(df))"
   ]
  },
  {
   "cell_type": "code",
   "execution_count": null,
   "metadata": {},
   "outputs": [],
   "source": []
  },
  {
   "cell_type": "code",
   "execution_count": 12,
   "metadata": {},
   "outputs": [],
   "source": [
    "#df['emotion'].describe()"
   ]
  },
  {
   "cell_type": "code",
   "execution_count": 13,
   "metadata": {},
   "outputs": [],
   "source": [
    "df_sub = df[df['emotion'] != 'neutral']"
   ]
  },
  {
   "cell_type": "code",
   "execution_count": 57,
   "metadata": {},
   "outputs": [
    {
     "data": {
      "text/plain": [
       "<matplotlib.axes._subplots.AxesSubplot at 0x12b1b8b38>"
      ]
     },
     "execution_count": 57,
     "metadata": {},
     "output_type": "execute_result"
    },
    {
     "data": {
      "image/png": "[encoded data removed]",
      "text/plain": [
       "<Figure size 432x288 with 1 Axes>"
      ]
     },
     "metadata": {
      "needs_background": "light"
     },
     "output_type": "display_data"
    }
   ],
   "source": [
    "sns.boxplot(x = df_sub['emotion'].tolist() , y= df_sub['age'].tolist())"
   ]
  },
  {
   "cell_type": "code",
   "execution_count": 16,
   "metadata": {},
   "outputs": [
    {
     "data": {
      "text/plain": [
       "Text(0, 0.5, 'Age in years')"
      ]
     },
     "execution_count": 16,
     "metadata": {},
     "output_type": "execute_result"
    },
    {
     "data": {
      "image/png": "[encoded data removed]",
      "text/plain": [
       "<Figure size 432x288 with 1 Axes>"
      ]
     },
     "metadata": {
      "needs_background": "light"
     },
     "output_type": "display_data"
    }
   ],
   "source": [
    "sns.boxplot(x = df_sub['emotion'].tolist() , y= df_sub['age'].tolist())\n",
    "plt.title('Box Plot of Emotion with Age')\n",
    "plt.xlabel('Emotion')\n",
    "plt.ylabel('Age in years')"
   ]
  },
  {
   "cell_type": "code",
   "execution_count": 18,
   "metadata": {},
   "outputs": [
    {
     "name": "stderr",
     "output_type": "stream",
     "text": [
      "/Users/s0c02nj/anaconda2/envs/graph/lib/python3.6/site-packages/ipykernel_launcher.py:1: SettingWithCopyWarning: \n",
      "A value is trying to be set on a copy of a slice from a DataFrame.\n",
      "Try using .loc[row_indexer,col_indexer] = value instead\n",
      "\n",
      "See the caveats in the documentation: http://pandas.pydata.org/pandas-docs/stable/user_guide/indexing.html#returning-a-view-versus-a-copy\n",
      "  \"\"\"Entry point for launching an IPython kernel.\n"
     ]
    }
   ],
   "source": [
    "df_sub['age_bucket'] = df_sub['age'].apply(lambda x: 'age below 40' if x<40 else 'age above 40')"
   ]
  },
  {
   "cell_type": "code",
   "execution_count": 55,
   "metadata": {},
   "outputs": [
    {
     "data": {
      "text/html": [
       "<div>\n",
       "<style scoped>\n",
       "    .dataframe tbody tr th:only-of-type {\n",
       "        vertical-align: middle;\n",
       "    }\n",
       "\n",
       "    .dataframe tbody tr th {\n",
       "        vertical-align: top;\n",
       "    }\n",
       "\n",
       "    .dataframe thead th {\n",
       "        text-align: right;\n",
       "    }\n",
       "</style>\n",
       "<table border=\"1\" class=\"dataframe\">\n",
       "  <thead>\n",
       "    <tr style=\"text-align: right;\">\n",
       "      <th></th>\n",
       "      <th>faceId</th>\n",
       "      <th>age</th>\n",
       "      <th>facialHair</th>\n",
       "      <th>glasses</th>\n",
       "      <th>gender</th>\n",
       "      <th>emotion</th>\n",
       "      <th>time</th>\n",
       "      <th>datetime</th>\n",
       "      <th>year</th>\n",
       "      <th>month</th>\n",
       "      <th>day</th>\n",
       "      <th>hour</th>\n",
       "      <th>minute</th>\n",
       "      <th>second</th>\n",
       "      <th>age_bucket</th>\n",
       "    </tr>\n",
       "  </thead>\n",
       "  <tbody>\n",
       "    <tr>\n",
       "      <th>0</th>\n",
       "      <td>4853fe11-3e0c-42aa-9824-72bcc2b24e37</td>\n",
       "      <td>65.0</td>\n",
       "      <td>moustache</td>\n",
       "      <td>noGlasses</td>\n",
       "      <td>male</td>\n",
       "      <td>anger</td>\n",
       "      <td>2019-12-20 15:56:58</td>\n",
       "      <td>2019-12-20 15:56:58</td>\n",
       "      <td>2019</td>\n",
       "      <td>12</td>\n",
       "      <td>20</td>\n",
       "      <td>15</td>\n",
       "      <td>56</td>\n",
       "      <td>58</td>\n",
       "      <td>age above 40</td>\n",
       "    </tr>\n",
       "    <tr>\n",
       "      <th>0</th>\n",
       "      <td>41b13543-6d56-420e-a08c-ceecf16634bf</td>\n",
       "      <td>44.0</td>\n",
       "      <td>moustache</td>\n",
       "      <td>readingGlasses</td>\n",
       "      <td>female</td>\n",
       "      <td>happiness</td>\n",
       "      <td>2019-12-20 15:56:58</td>\n",
       "      <td>2019-12-20 15:56:58</td>\n",
       "      <td>2019</td>\n",
       "      <td>12</td>\n",
       "      <td>20</td>\n",
       "      <td>15</td>\n",
       "      <td>56</td>\n",
       "      <td>58</td>\n",
       "      <td>age above 40</td>\n",
       "    </tr>\n",
       "    <tr>\n",
       "      <th>0</th>\n",
       "      <td>8ca97318-aef1-49b1-bbdc-76766dd45fe3</td>\n",
       "      <td>44.0</td>\n",
       "      <td>moustache</td>\n",
       "      <td>readingGlasses</td>\n",
       "      <td>female</td>\n",
       "      <td>happiness</td>\n",
       "      <td>2019-12-20 15:57:13</td>\n",
       "      <td>2019-12-20 15:57:13</td>\n",
       "      <td>2019</td>\n",
       "      <td>12</td>\n",
       "      <td>20</td>\n",
       "      <td>15</td>\n",
       "      <td>57</td>\n",
       "      <td>13</td>\n",
       "      <td>age above 40</td>\n",
       "    </tr>\n",
       "    <tr>\n",
       "      <th>0</th>\n",
       "      <td>7b1de0de-22fc-4a2f-beb5-a965c4dfbc12</td>\n",
       "      <td>33.0</td>\n",
       "      <td>moustache</td>\n",
       "      <td>noGlasses</td>\n",
       "      <td>female</td>\n",
       "      <td>happiness</td>\n",
       "      <td>2019-12-20 15:58:42</td>\n",
       "      <td>2019-12-20 15:58:42</td>\n",
       "      <td>2019</td>\n",
       "      <td>12</td>\n",
       "      <td>20</td>\n",
       "      <td>15</td>\n",
       "      <td>58</td>\n",
       "      <td>42</td>\n",
       "      <td>age below 40</td>\n",
       "    </tr>\n",
       "    <tr>\n",
       "      <th>0</th>\n",
       "      <td>ea290501-e680-4b37-a671-359513571bfa</td>\n",
       "      <td>44.0</td>\n",
       "      <td>moustache</td>\n",
       "      <td>noGlasses</td>\n",
       "      <td>female</td>\n",
       "      <td>contempt</td>\n",
       "      <td>2019-12-20 16:00:33</td>\n",
       "      <td>2019-12-20 16:00:33</td>\n",
       "      <td>2019</td>\n",
       "      <td>12</td>\n",
       "      <td>20</td>\n",
       "      <td>16</td>\n",
       "      <td>0</td>\n",
       "      <td>33</td>\n",
       "      <td>age above 40</td>\n",
       "    </tr>\n",
       "  </tbody>\n",
       "</table>\n",
       "</div>"
      ],
      "text/plain": [
       "                                 faceId   age facialHair         glasses  \\\n",
       "0  4853fe11-3e0c-42aa-9824-72bcc2b24e37  65.0  moustache       noGlasses   \n",
       "0  41b13543-6d56-420e-a08c-ceecf16634bf  44.0  moustache  readingGlasses   \n",
       "0  8ca97318-aef1-49b1-bbdc-76766dd45fe3  44.0  moustache  readingGlasses   \n",
       "0  7b1de0de-22fc-4a2f-beb5-a965c4dfbc12  33.0  moustache       noGlasses   \n",
       "0  ea290501-e680-4b37-a671-359513571bfa  44.0  moustache       noGlasses   \n",
       "\n",
       "   gender    emotion                 time            datetime  year  month  \\\n",
       "0    male      anger  2019-12-20 15:56:58 2019-12-20 15:56:58  2019     12   \n",
       "0  female  happiness  2019-12-20 15:56:58 2019-12-20 15:56:58  2019     12   \n",
       "0  female  happiness  2019-12-20 15:57:13 2019-12-20 15:57:13  2019     12   \n",
       "0  female  happiness  2019-12-20 15:58:42 2019-12-20 15:58:42  2019     12   \n",
       "0  female   contempt  2019-12-20 16:00:33 2019-12-20 16:00:33  2019     12   \n",
       "\n",
       "   day  hour  minute  second    age_bucket  \n",
       "0   20    15      56      58  age above 40  \n",
       "0   20    15      56      58  age above 40  \n",
       "0   20    15      57      13  age above 40  \n",
       "0   20    15      58      42  age below 40  \n",
       "0   20    16       0      33  age above 40  "
      ]
     },
     "execution_count": 55,
     "metadata": {},
     "output_type": "execute_result"
    }
   ],
   "source": [
    "df_sub.head()"
   ]
  },
  {
   "cell_type": "code",
   "execution_count": 56,
   "metadata": {},
   "outputs": [
    {
     "data": {
      "text/plain": [
       "happiness    5291\n",
       "sadness      1002\n",
       "surprise      560\n",
       "anger         381\n",
       "contempt       56\n",
       "disgust        34\n",
       "fear            4\n",
       "Name: emotion, dtype: int64"
      ]
     },
     "execution_count": 56,
     "metadata": {},
     "output_type": "execute_result"
    }
   ],
   "source": [
    "df_sub['emotion'].value_counts()"
   ]
  },
  {
   "cell_type": "code",
   "execution_count": 20,
   "metadata": {},
   "outputs": [
    {
     "data": {
      "text/html": [
       "<div>\n",
       "<style scoped>\n",
       "    .dataframe tbody tr th:only-of-type {\n",
       "        vertical-align: middle;\n",
       "    }\n",
       "\n",
       "    .dataframe tbody tr th {\n",
       "        vertical-align: top;\n",
       "    }\n",
       "\n",
       "    .dataframe thead th {\n",
       "        text-align: right;\n",
       "    }\n",
       "</style>\n",
       "<table border=\"1\" class=\"dataframe\">\n",
       "  <thead>\n",
       "    <tr style=\"text-align: right;\">\n",
       "      <th>emotion</th>\n",
       "      <th>anger</th>\n",
       "      <th>contempt</th>\n",
       "      <th>disgust</th>\n",
       "      <th>fear</th>\n",
       "      <th>happiness</th>\n",
       "      <th>sadness</th>\n",
       "      <th>surprise</th>\n",
       "    </tr>\n",
       "    <tr>\n",
       "      <th>gender</th>\n",
       "      <th></th>\n",
       "      <th></th>\n",
       "      <th></th>\n",
       "      <th></th>\n",
       "      <th></th>\n",
       "      <th></th>\n",
       "      <th></th>\n",
       "    </tr>\n",
       "  </thead>\n",
       "  <tbody>\n",
       "    <tr>\n",
       "      <th>female</th>\n",
       "      <td>157</td>\n",
       "      <td>34</td>\n",
       "      <td>25</td>\n",
       "      <td>2</td>\n",
       "      <td>2808</td>\n",
       "      <td>786</td>\n",
       "      <td>309</td>\n",
       "    </tr>\n",
       "    <tr>\n",
       "      <th>male</th>\n",
       "      <td>224</td>\n",
       "      <td>22</td>\n",
       "      <td>9</td>\n",
       "      <td>2</td>\n",
       "      <td>2483</td>\n",
       "      <td>216</td>\n",
       "      <td>251</td>\n",
       "    </tr>\n",
       "  </tbody>\n",
       "</table>\n",
       "</div>"
      ],
      "text/plain": [
       "emotion  anger  contempt  disgust  fear  happiness  sadness  surprise\n",
       "gender                                                               \n",
       "female     157        34       25     2       2808      786       309\n",
       "male       224        22        9     2       2483      216       251"
      ]
     },
     "execution_count": 20,
     "metadata": {},
     "output_type": "execute_result"
    }
   ],
   "source": [
    "a1 = pd.crosstab(df_sub['gender'],df_sub['emotion'],normalize=False)\n",
    "a1"
   ]
  },
  {
   "cell_type": "code",
   "execution_count": 21,
   "metadata": {},
   "outputs": [
    {
     "data": {
      "text/html": [
       "<div>\n",
       "<style scoped>\n",
       "    .dataframe tbody tr th:only-of-type {\n",
       "        vertical-align: middle;\n",
       "    }\n",
       "\n",
       "    .dataframe tbody tr th {\n",
       "        vertical-align: top;\n",
       "    }\n",
       "\n",
       "    .dataframe thead th {\n",
       "        text-align: right;\n",
       "    }\n",
       "</style>\n",
       "<table border=\"1\" class=\"dataframe\">\n",
       "  <thead>\n",
       "    <tr style=\"text-align: right;\">\n",
       "      <th>emotion</th>\n",
       "      <th>anger</th>\n",
       "      <th>contempt</th>\n",
       "      <th>disgust</th>\n",
       "      <th>fear</th>\n",
       "      <th>happiness</th>\n",
       "      <th>sadness</th>\n",
       "      <th>surprise</th>\n",
       "    </tr>\n",
       "    <tr>\n",
       "      <th>gender</th>\n",
       "      <th></th>\n",
       "      <th></th>\n",
       "      <th></th>\n",
       "      <th></th>\n",
       "      <th></th>\n",
       "      <th></th>\n",
       "      <th></th>\n",
       "    </tr>\n",
       "  </thead>\n",
       "  <tbody>\n",
       "    <tr>\n",
       "      <th>female</th>\n",
       "      <td>157</td>\n",
       "      <td>34</td>\n",
       "      <td>25</td>\n",
       "      <td>2</td>\n",
       "      <td>2808</td>\n",
       "      <td>786</td>\n",
       "      <td>309</td>\n",
       "    </tr>\n",
       "    <tr>\n",
       "      <th>male</th>\n",
       "      <td>224</td>\n",
       "      <td>22</td>\n",
       "      <td>9</td>\n",
       "      <td>2</td>\n",
       "      <td>2483</td>\n",
       "      <td>216</td>\n",
       "      <td>251</td>\n",
       "    </tr>\n",
       "  </tbody>\n",
       "</table>\n",
       "</div>"
      ],
      "text/plain": [
       "emotion  anger  contempt  disgust  fear  happiness  sadness  surprise\n",
       "gender                                                               \n",
       "female     157        34       25     2       2808      786       309\n",
       "male       224        22        9     2       2483      216       251"
      ]
     },
     "execution_count": 21,
     "metadata": {},
     "output_type": "execute_result"
    }
   ],
   "source": [
    "round(a1,2)"
   ]
  },
  {
   "cell_type": "code",
   "execution_count": 22,
   "metadata": {},
   "outputs": [],
   "source": [
    "#chi2, p, dof, ex = chi2_contingency(obs, correction=False) \n",
    "chi2, p, dof, ex  = chi2_contingency(a1)"
   ]
  },
  {
   "cell_type": "code",
   "execution_count": 23,
   "metadata": {},
   "outputs": [
    {
     "data": {
      "text/plain": [
       "1.019614008281461e-53"
      ]
     },
     "execution_count": 23,
     "metadata": {},
     "output_type": "execute_result"
    }
   ],
   "source": [
    "p"
   ]
  },
  {
   "cell_type": "code",
   "execution_count": null,
   "metadata": {},
   "outputs": [],
   "source": []
  },
  {
   "cell_type": "code",
   "execution_count": null,
   "metadata": {},
   "outputs": [],
   "source": []
  },
  {
   "cell_type": "code",
   "execution_count": 1,
   "metadata": {},
   "outputs": [
    {
     "data": {
      "text/plain": [
       "10"
      ]
     },
     "execution_count": 1,
     "metadata": {},
     "output_type": "execute_result"
    }
   ],
   "source": [
    "len('Mahabharat')"
   ]
  },
  {
   "cell_type": "code",
   "execution_count": null,
   "metadata": {},
   "outputs": [],
   "source": []
  },
  {
   "cell_type": "code",
   "execution_count": null,
   "metadata": {},
   "outputs": [],
   "source": []
  },
  {
   "cell_type": "code",
   "execution_count": null,
   "metadata": {},
   "outputs": [],
   "source": []
  },
  {
   "cell_type": "code",
   "execution_count": null,
   "metadata": {},
   "outputs": [],
   "source": []
  },
  {
   "cell_type": "code",
   "execution_count": null,
   "metadata": {},
   "outputs": [],
   "source": []
  },
  {
   "cell_type": "code",
   "execution_count": null,
   "metadata": {},
   "outputs": [],
   "source": []
  }
 ],
 "metadata": {
  "kernelspec": {
   "display_name": "Python 3",
   "language": "python",
   "name": "python3"
  },
  "language_info": {
   "codemirror_mode": {
    "name": "ipython",
    "version": 3
   },
   "file_extension": ".py",
   "mimetype": "text/x-python",
   "name": "python",
   "nbconvert_exporter": "python",
   "pygments_lexer": "ipython3",
   "version": "3.6.8"
  }
 },
 "nbformat": 4,
 "nbformat_minor": 2
}

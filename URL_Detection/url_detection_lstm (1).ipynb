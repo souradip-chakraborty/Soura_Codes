{
 "cells": [
  {
   "cell_type": "code",
   "execution_count": 2,
   "metadata": {},
   "outputs": [],
   "source": [
    "import pandas as pd\n",
    "import numpy as np\n",
    "from tqdm import tqdm \n",
    "import json \n",
    "import re\n",
    "import random\n",
    "random.seed(28)\n",
    "from keras.optimizers import Adam\n",
    "import matplotlib.pyplot as plt\n",
    "import keras\n",
    "from keras.layers import *\n",
    "from keras.models import Sequential\n",
    "from tensorflow.keras.layers import *\n",
    "from keras.callbacks import ModelCheckpoint\n",
    "\n",
    "import tensorflow as tf\n",
    "# from tensorflow.keras import layers\n",
    "# from keras.models import load_model\n",
    "from sklearn.metrics import classification_report\n",
    "from sklearn.model_selection import train_test_split"
   ]
  },
  {
   "cell_type": "code",
   "execution_count": 3,
   "metadata": {},
   "outputs": [],
   "source": [
    "# tf.test.is_gpu_available(\n",
    "#     cuda_only=False,\n",
    "#     min_cuda_compute_capability=None\n",
    "# )"
   ]
  },
  {
   "cell_type": "code",
   "execution_count": null,
   "metadata": {},
   "outputs": [],
   "source": []
  },
  {
   "cell_type": "code",
   "execution_count": null,
   "metadata": {},
   "outputs": [],
   "source": [
    "def load_data():\n",
    "    legit_file = open('/kaggle/input/phising/phising/legitimate_url.json', 'r') \n",
    "    legit_data = json.load(legit_file)\n",
    "\n",
    "    phishing_file = open('/kaggle/input/phising/phising/phishing_url.json', 'r') \n",
    "    phishing_data = json.load(phishing_file)\n",
    "\n",
    "    df_1 = pd.DataFrame(legit_data, columns = ['url'])\n",
    "    df_1['is_phishing'] = 0\n",
    "\n",
    "    df_2 = pd.DataFrame(phishing_data, columns = ['url'])\n",
    "    df_2['is_phishing'] = 1\n",
    "\n",
    "    df = pd.concat([df_1,df_2], axis = 0)\n",
    "    del df_1, df_2\n",
    "    \n",
    "    return df\n"
   ]
  },
  {
   "cell_type": "code",
   "execution_count": null,
   "metadata": {},
   "outputs": [],
   "source": [
    "df_url = load_data()"
   ]
  },
  {
   "cell_type": "code",
   "execution_count": null,
   "metadata": {},
   "outputs": [],
   "source": [
    "df_url['is_phishing'].value_counts()"
   ]
  },
  {
   "cell_type": "code",
   "execution_count": null,
   "metadata": {},
   "outputs": [],
   "source": [
    "#df['url'].iloc[27777]"
   ]
  },
  {
   "cell_type": "code",
   "execution_count": null,
   "metadata": {},
   "outputs": [],
   "source": [
    "urls = list(df_url['url'].values)"
   ]
  },
  {
   "cell_type": "code",
   "execution_count": null,
   "metadata": {},
   "outputs": [],
   "source": [
    "char2idx = dict()\n",
    "max_url_seq_length = 0\n",
    "\n",
    "for url in tqdm(urls):\n",
    "    max_url_seq_length = max(max_url_seq_length, len(url))\n",
    "    for c in url:\n",
    "        if c not in char2idx:\n",
    "            char2idx[c] = len(char2idx)\n",
    "num_input_tokens = len(char2idx)\n",
    "idx2char = dict([(idx, c) for c, idx in char2idx.items()])\n",
    "\n",
    "config = dict()\n",
    "config['num_input_tokens'] = num_input_tokens\n",
    "config['char2idx'] = char2idx\n",
    "config['idx2char'] = idx2char\n",
    "config['max_url_seq_length'] = max_url_seq_length"
   ]
  },
  {
   "cell_type": "code",
   "execution_count": null,
   "metadata": {},
   "outputs": [],
   "source": []
  },
  {
   "cell_type": "code",
   "execution_count": null,
   "metadata": {},
   "outputs": [],
   "source": [
    "import keras\n",
    "data_size = df_url.shape[0]\n",
    "X = np.zeros(shape=(data_size, max_url_seq_length))\n",
    "Y = keras.utils.to_categorical(df_url['is_phishing'])\n"
   ]
  },
  {
   "cell_type": "code",
   "execution_count": null,
   "metadata": {},
   "outputs": [],
   "source": [
    "for i in tqdm(range(data_size)):\n",
    "    url = df_url['url'].iloc[i]\n",
    "    #label = df_url['is_phishing'].iloc[i]\n",
    "    for idx, c in enumerate(url):\n",
    "        X[i, idx] = char2idx[c]\n",
    "    "
   ]
  },
  {
   "cell_type": "code",
   "execution_count": null,
   "metadata": {},
   "outputs": [],
   "source": [
    "X"
   ]
  },
  {
   "cell_type": "code",
   "execution_count": null,
   "metadata": {},
   "outputs": [],
   "source": [
    "num_input_tokens = config['num_input_tokens']\n",
    "char2idx = config['char2idx']\n",
    "idx2char = config['idx2char']\n",
    "max_url_seq_length = config['max_url_seq_length']"
   ]
  },
  {
   "cell_type": "code",
   "execution_count": null,
   "metadata": {},
   "outputs": [],
   "source": [
    "Xtrain, Xtest, Ytrain, Ytest = train_test_split(X, Y, \n",
    "                                                test_size=0.2, \n",
    "                                                stratify = Y,\n",
    "                                                random_state=42)"
   ]
  },
  {
   "cell_type": "code",
   "execution_count": null,
   "metadata": {},
   "outputs": [],
   "source": []
  },
  {
   "cell_type": "markdown",
   "metadata": {},
   "source": [
    "#### Bi-LSTM Model"
   ]
  },
  {
   "cell_type": "code",
   "execution_count": 4,
   "metadata": {},
   "outputs": [],
   "source": [
    "EMBEDDING_SIZE = 100"
   ]
  },
  {
   "cell_type": "code",
   "execution_count": null,
   "metadata": {},
   "outputs": [],
   "source": [
    "def make_bidirectional_lstm_model(num_input_tokens, max_len):\n",
    "    model = tf.keras.Sequential()\n",
    "    model.add(layers.Embedding(input_dim = num_input_tokens, \n",
    "                            output_dim= EMBEDDING_SIZE, \n",
    "                            input_length=max_len))\n",
    "    model.add(layers.SpatialDropout1D(0.2))\n",
    "    model.add(layers.Bidirectional(tf.compat.v1.keras.layers.CuDNNLSTM(units=64,\n",
    "                                 input_shape=(max_len, EMBEDDING_SIZE))))\n",
    "    model.add(layers.Dense(2, activation='softmax'))\n",
    "    return model\n"
   ]
  },
  {
   "cell_type": "code",
   "execution_count": null,
   "metadata": {},
   "outputs": [],
   "source": [
    "num_input_tokens = num_input_tokens\n",
    "max_len = max_url_seq_length"
   ]
  },
  {
   "cell_type": "code",
   "execution_count": null,
   "metadata": {},
   "outputs": [],
   "source": [
    "model = make_bidirectional_lstm_model(num_input_tokens, max_len)"
   ]
  },
  {
   "cell_type": "code",
   "execution_count": null,
   "metadata": {},
   "outputs": [],
   "source": [
    "model.summary()"
   ]
  },
  {
   "cell_type": "code",
   "execution_count": null,
   "metadata": {},
   "outputs": [],
   "source": [
    "lr_opt = 1e-3\n",
    "epochs = 5\n",
    "\n",
    "opt = Adam(lr=lr_opt, decay= lr_opt / epochs)"
   ]
  },
  {
   "cell_type": "code",
   "execution_count": null,
   "metadata": {},
   "outputs": [],
   "source": [
    "model.compile(optimizer= 'adam', loss='categorical_crossentropy', metrics=['accuracy'])"
   ]
  },
  {
   "cell_type": "code",
   "execution_count": null,
   "metadata": {},
   "outputs": [],
   "source": [
    "from tensorflow.keras.utils import plot_model\n",
    "\n",
    "plot_model(model, to_file='/kaggle/working/model.png')"
   ]
  },
  {
   "cell_type": "code",
   "execution_count": null,
   "metadata": {},
   "outputs": [],
   "source": [
    "batch_size = 128\n",
    "epochs = 2"
   ]
  },
  {
   "cell_type": "code",
   "execution_count": null,
   "metadata": {},
   "outputs": [],
   "source": [
    "history = model.fit(Xtrain, Ytrain, \n",
    "                    batch_size=batch_size, \n",
    "                    epochs=epochs, \n",
    "                    verbose=1,\n",
    "                    validation_data=(Xtest, Ytest), \n",
    "                   )"
   ]
  },
  {
   "cell_type": "code",
   "execution_count": null,
   "metadata": {},
   "outputs": [],
   "source": [
    "#model.save(\"/kaggle/working/lstm_model.h5\")"
   ]
  },
  {
   "cell_type": "code",
   "execution_count": null,
   "metadata": {},
   "outputs": [],
   "source": [
    "#Plotting\n",
    "# plt.figure()\n",
    "# plt.plot(np.arange(0, 2), history.history[\"loss\"], label=\"train_loss\")\n",
    "# plt.plot(np.arange(0, 2), history.history[\"val_loss\"], label=\"val_loss\")\n",
    "# plt.plot(np.arange(0, 2), history.history[\"accuracy\"], label=\"train_acc\")\n",
    "# plt.plot(np.arange(0, 2), history.history[\"val_accuracy\"], label=\"val_acc\")\n",
    "# plt.title(\"Plotting Loss and Accuracy on COVID-19 Image Dataset\")\n",
    "# plt.xlabel(\"No of epochs\")\n",
    "# plt.ylabel(\"Loss&Accyracy\")\n",
    "# plt.legend(loc=\"lower left\")"
   ]
  },
  {
   "cell_type": "code",
   "execution_count": null,
   "metadata": {},
   "outputs": [],
   "source": [
    "predIdxs = model.predict(Xtest)\n",
    "predIdxs = np.argmax(predIdxs, axis=1)"
   ]
  },
  {
   "cell_type": "code",
   "execution_count": null,
   "metadata": {},
   "outputs": [],
   "source": [
    "Ytest = np.argmax(Ytest, axis=1)"
   ]
  },
  {
   "cell_type": "code",
   "execution_count": null,
   "metadata": {},
   "outputs": [],
   "source": [
    "import sklearn\n",
    "print(classification_report(Ytest, predIdxs,target_names=['no_phishing', 'phishing']))"
   ]
  },
  {
   "cell_type": "code",
   "execution_count": null,
   "metadata": {},
   "outputs": [],
   "source": [
    "print(sklearn.metrics.confusion_matrix(Ytest, predIdxs))"
   ]
  },
  {
   "cell_type": "code",
   "execution_count": null,
   "metadata": {},
   "outputs": [],
   "source": [
    "from sklearn.metrics import roc_curve\n"
   ]
  }
 ],
 "metadata": {
  "kernelspec": {
   "display_name": "Python 3",
   "language": "python",
   "name": "python3"
  },
  "language_info": {
   "codemirror_mode": {
    "name": "ipython",
    "version": 3
   },
   "file_extension": ".py",
   "mimetype": "text/x-python",
   "name": "python",
   "nbconvert_exporter": "python",
   "pygments_lexer": "ipython3",
   "version": "3.6.8"
  }
 },
 "nbformat": 4,
 "nbformat_minor": 4
}

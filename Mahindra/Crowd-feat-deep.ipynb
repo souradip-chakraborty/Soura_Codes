{
 "cells": [
  {
   "cell_type": "code",
   "execution_count": 2,
   "metadata": {},
   "outputs": [],
   "source": [
    "import numpy as np\n",
    "import pandas as pd \n",
    "import matplotlib.pyplot as plt\n",
    "import seaborn as sns\n",
    "sns.set(style=\"whitegrid\")\n",
    "np.random.seed(203)\n",
    "from tqdm import tqdm\n",
    "import datetime\n",
    "from itertools import combinations\n",
    "from collections import Counter\n",
    "import itertools\n",
    "import re\n",
    "\n",
    "from sklearn.model_selection import train_test_split \n",
    "from sklearn.preprocessing import StandardScaler\n",
    "from sklearn.linear_model import LogisticRegression\n",
    "from sklearn.metrics import classification_report, accuracy_score\n",
    "from sklearn.manifold import TSNE\n",
    "from sklearn import preprocessing\n",
    "from sklearn.preprocessing import LabelEncoder\n",
    "from sklearn.decomposition import PCA\n",
    "\n",
    "from sklearn.metrics import precision_score , recall_score , f1_score\n",
    "from scipy import stats\n",
    "from scipy.spatial.distance import mahalanobis\n",
    "\n",
    "import tensorflow as tf\n",
    "from keras.models import Model,Sequential\n",
    "from keras.layers import *\n",
    "from keras.callbacks import Callback, ModelCheckpoint, EarlyStopping, ReduceLROnPlateau\n",
    "from keras import backend as K\n",
    "from keras.utils import to_categorical\n",
    "from keras.optimizers import RMSprop, Adam"
   ]
  },
  {
   "cell_type": "code",
   "execution_count": 3,
   "metadata": {},
   "outputs": [],
   "source": [
    "data_train = pd.read_csv('/Users/s0c02nj/Desktop/Mortgage Modelling/CAX_MortgageModeling_Train.csv')\n",
    "data_test =  pd.read_csv('/Users/s0c02nj/Desktop/Mortgage Modelling/CAX_MortgageModeling_Test.csv')\n",
    "data_sub =   pd.read_csv('/Users/s0c02nj/Desktop/Mortgage Modelling/CAX_MortgageModeling_SubmissionFormat.csv')"
   ]
  },
  {
   "cell_type": "code",
   "execution_count": null,
   "metadata": {},
   "outputs": [],
   "source": []
  },
  {
   "cell_type": "code",
   "execution_count": 4,
   "metadata": {},
   "outputs": [],
   "source": [
    "data_train = data_train.drop(['Unique_ID','MORTGAGE NUMBER'],axis=1)\n",
    "data_test =  data_test.drop(['Unique_ID','MORTGAGE NUMBER','RESULT'], axis=1)"
   ]
  },
  {
   "cell_type": "code",
   "execution_count": 5,
   "metadata": {},
   "outputs": [],
   "source": [
    "#Train data separating the response\n",
    "y       = data_train['RESULT']\n",
    "x_train = data_train.drop(['RESULT'],axis=1)\n"
   ]
  },
  {
   "cell_type": "code",
   "execution_count": 6,
   "metadata": {},
   "outputs": [],
   "source": [
    "#Test data and train data merged for pre-processing\n",
    "x_comb = pd.concat([x_train,data_test],sort=False)"
   ]
  },
  {
   "cell_type": "code",
   "execution_count": 7,
   "metadata": {},
   "outputs": [],
   "source": [
    "cont_cols = ['PROPERTY VALUE','MORTGAGE PAYMENT','GDS','LTV','TDS','AMORTIZATION','MORTGAGE AMOUNT',\n",
    "             'INCOME','CREDIT SCORE','RATE']"
   ]
  },
  {
   "cell_type": "code",
   "execution_count": 8,
   "metadata": {},
   "outputs": [],
   "source": [
    "cat_cols = ['PAYMENT FREQUENCY','PROPERTY TYPE','FSA','TERM','AGE RANGE','GENDER','INCOME TYPE',\n",
    "           'NAICS CODE','MORTGAGE PURPOSE']"
   ]
  },
  {
   "cell_type": "code",
   "execution_count": 10,
   "metadata": {},
   "outputs": [],
   "source": [
    "log_transformed = ['PROPERTY VALUE','MORTGAGE PAYMENT','LTV','INCOME','CREDIT SCORE','MORTGAGE AMOUNT']"
   ]
  },
  {
   "cell_type": "code",
   "execution_count": 11,
   "metadata": {},
   "outputs": [],
   "source": [
    "non_log_cols = ['GDS','LTV','TDS','AMORTIZATION','RATE']"
   ]
  },
  {
   "cell_type": "code",
   "execution_count": 12,
   "metadata": {},
   "outputs": [
    {
     "name": "stderr",
     "output_type": "stream",
     "text": [
      "100%|██████████| 9/9 [00:00<00:00, 17.68it/s]\n"
     ]
    }
   ],
   "source": [
    "for col in tqdm(cat_cols):\n",
    "    le = LabelEncoder()\n",
    "    x_comb[col] = le.fit_transform(x_comb[col])"
   ]
  },
  {
   "cell_type": "code",
   "execution_count": 13,
   "metadata": {},
   "outputs": [
    {
     "name": "stderr",
     "output_type": "stream",
     "text": [
      "100%|██████████| 9/9 [00:00<00:00, 497.93it/s]\n"
     ]
    }
   ],
   "source": [
    "z=[]\n",
    "for col in tqdm(cat_cols):\n",
    "    z.append((col,x_comb[col].unique().shape))"
   ]
  },
  {
   "cell_type": "code",
   "execution_count": 14,
   "metadata": {},
   "outputs": [],
   "source": [
    "#Label Encoding the y-var\n",
    "le_y = LabelEncoder()\n",
    "\n",
    "y_cat = le_y.fit_transform(y)"
   ]
  },
  {
   "cell_type": "code",
   "execution_count": 15,
   "metadata": {},
   "outputs": [
    {
     "data": {
      "text/plain": [
       "PROPERTY VALUE         5.260160\n",
       "MORTGAGE PAYMENT       4.135354\n",
       "GDS                  180.294731\n",
       "LTV                   -1.875249\n",
       "TDS                  154.046538\n",
       "AMORTIZATION          -4.740900\n",
       "MORTGAGE AMOUNT        3.665322\n",
       "RATE                   1.145228\n",
       "MORTGAGE PURPOSE       0.141211\n",
       "PAYMENT FREQUENCY     -4.023413\n",
       "PROPERTY TYPE         -0.406087\n",
       "TERM                   2.376065\n",
       "FSA                    0.569508\n",
       "AGE RANGE              0.377381\n",
       "GENDER                 0.192380\n",
       "INCOME                 6.571547\n",
       "INCOME TYPE            0.619233\n",
       "NAICS CODE            -0.296763\n",
       "CREDIT SCORE          -3.087467\n",
       "dtype: float64"
      ]
     },
     "execution_count": 15,
     "metadata": {},
     "output_type": "execute_result"
    }
   ],
   "source": [
    "x_comb.skew()"
   ]
  },
  {
   "cell_type": "code",
   "execution_count": 16,
   "metadata": {},
   "outputs": [
    {
     "data": {
      "text/plain": [
       "RESULT\n",
       "FUNDED        [[AxesSubplot(0.125,0.725918;0.215278x0.154082...\n",
       "NOT FUNDED    [[AxesSubplot(0.125,0.725918;0.215278x0.154082...\n",
       "dtype: object"
      ]
     },
     "execution_count": 16,
     "metadata": {},
     "output_type": "execute_result"
    },
    {
     "data": {
      "image/png": "[encoded data removed]",
      "text/plain": [
       "<Figure size 432x288 with 12 Axes>"
      ]
     },
     "metadata": {},
     "output_type": "display_data"
    },
    {
     "data": {
      "image/png": "[encoded data removed]",
      "text/plain": [
       "<Figure size 432x288 with 12 Axes>"
      ]
     },
     "metadata": {},
     "output_type": "display_data"
    }
   ],
   "source": [
    "data_train.groupby('RESULT').hist()"
   ]
  },
  {
   "cell_type": "code",
   "execution_count": null,
   "metadata": {},
   "outputs": [],
   "source": [
    "#plt.hist(data_train[data_train['RESULT'] == 'NOT FUNDED']['AMORTIZATION'])"
   ]
  },
  {
   "cell_type": "code",
   "execution_count": null,
   "metadata": {},
   "outputs": [],
   "source": [
    "#plt.hist(data_train[data_train['RESULT'] == 'FUNDED']['AMORTIZATION'])"
   ]
  },
  {
   "cell_type": "code",
   "execution_count": 31,
   "metadata": {},
   "outputs": [],
   "source": [
    "for col in log_transformed:\n",
    "    x_comb[col] = np.log1p(x_comb[col])\n",
    "    "
   ]
  },
  {
   "cell_type": "code",
   "execution_count": 32,
   "metadata": {},
   "outputs": [],
   "source": [
    "cont_cols = cont_cols + log_transformed"
   ]
  },
  {
   "cell_type": "code",
   "execution_count": 33,
   "metadata": {
    "scrolled": true
   },
   "outputs": [
    {
     "name": "stderr",
     "output_type": "stream",
     "text": [
      "100%|██████████| 16/16 [00:02<00:00,  6.65it/s]\n"
     ]
    }
   ],
   "source": [
    "col_count = []\n",
    "\n",
    "for col in tqdm(cont_cols):\n",
    "    counter = Counter(x_comb[col])\n",
    "    col_count.append(str(col)+'count')\n",
    "    x_comb[str(col)+'count'] = x_comb[col].apply(lambda x:counter[x])"
   ]
  },
  {
   "cell_type": "code",
   "execution_count": 34,
   "metadata": {},
   "outputs": [
    {
     "name": "stderr",
     "output_type": "stream",
     "text": [
      "100%|██████████| 15/15 [00:23<00:00,  1.59s/it]\n"
     ]
    }
   ],
   "source": [
    "aggs = {}\n",
    "\n",
    "aggs['MORTGAGE PAYMENT'] = ['median', 'mean','std']\n",
    "aggs['GDS'] = ['median', 'mean','std']\n",
    "aggs['LTV'] = ['median', 'mean','std']\n",
    "aggs['TDS'] = ['median', 'mean','std']\n",
    "aggs['AMORTIZATION'] = ['median', 'mean','std']\n",
    "aggs['INCOME'] = ['median', 'mean','std']\n",
    "aggs['CREDIT SCORE'] = ['median', 'mean','std']\n",
    "aggs['MORTGAGE AMOUNT'] = ['median', 'mean','std']\n",
    "aggs['PROPERTY VALUE'] = ['median', 'mean','std']\n",
    "aggs['RATE'] = ['median', 'mean','std']\n",
    "aggs['PAYMENT FREQUENCY'] = ['count','mean','median']\n",
    "aggs['PROPERTY TYPE'] = ['count','mean','median']\n",
    "aggs['FSA'] = ['count','mean','median']\n",
    "aggs['TERM'] = ['count','mean','median']\n",
    "aggs['AGE RANGE'] = ['count','mean','median']\n",
    "aggs['GENDER'] = ['count','mean','median']\n",
    "aggs['INCOME TYPE'] = ['count','mean','median']\n",
    "aggs['NAICS CODE'] = ['count','mean','median']\n",
    "aggs['MORTGAGE PURPOSE'] = ['count','mean','median']\n",
    "\n",
    "\n",
    "for col in tqdm(cat_cols):\n",
    "    agg_df = x_comb.groupby(col).agg(aggs).reset_index()\n",
    "    agg_df.columns = [col] + [col + '_' + c[0] +'_' + c[1] for c in agg_df.columns[1:]]\n",
    "    x_comb = pd.merge(x_comb, agg_df, on=col, how=\"left\")"
   ]
  },
  {
   "cell_type": "code",
   "execution_count": 35,
   "metadata": {},
   "outputs": [
    {
     "name": "stderr",
     "output_type": "stream",
     "text": [
      "100%|██████████| 120/120 [00:04<00:00, 29.07it/s]\n"
     ]
    }
   ],
   "source": [
    "#Continuous-continuous features\n",
    "list_cont_cont = list(combinations(cont_cols,2))\n",
    "\n",
    "for cols in tqdm(list_cont_cont):\n",
    "    col1 = cols[0]\n",
    "    col2 = cols[1]\n",
    "    x_comb[col1+col2+'sum'] =  x_comb[col1]+x_comb[col2]\n",
    "    x_comb[col1+col2+'mult'] = x_comb[col1]*x_comb[col2]\n",
    "    x_comb[col1+col2+'div1'] = x_comb[col1]/x_comb[col2]\n",
    "    x_comb[col1+col2+'div2'] = x_comb[col2]/x_comb[col1]\n",
    "    x_comb[col1+col2+'sub'] =  x_comb[col1] - x_comb[col2]"
   ]
  },
  {
   "cell_type": "code",
   "execution_count": 36,
   "metadata": {},
   "outputs": [
    {
     "name": "stderr",
     "output_type": "stream",
     "text": [
      "100%|██████████| 105/105 [00:01<00:00, 85.66it/s]\n"
     ]
    }
   ],
   "source": [
    "#Categorical-Categorical features\n",
    "list_cat_cat = list(combinations(cat_cols,2))\n",
    "\n",
    "for cols in tqdm(list_cat_cat):\n",
    "    col1 = cols[0]\n",
    "    col2 = cols[1]\n",
    "    x_comb['cat'+col1+col2+'mult'] = x_comb[col1]*x_comb[col2]\n",
    "            "
   ]
  },
  {
   "cell_type": "code",
   "execution_count": 38,
   "metadata": {},
   "outputs": [
    {
     "name": "stderr",
     "output_type": "stream",
     "text": [
      "100%|██████████| 455/455 [00:02<00:00, 168.10it/s]\n"
     ]
    }
   ],
   "source": [
    "#Categorical-Categorical features\n",
    "list_cat_cat2 = list(combinations(cat_cols,3))\n",
    "\n",
    "for cols in tqdm(list_cat_cat2):\n",
    "    col1 = cols[0]\n",
    "    col2 = cols[1]\n",
    "    col3 = cols[2]\n",
    "    x_comb['cat3'+col1+col2+col3+'mult'] = x_comb[col1]*x_comb[col2]*x_comb[col3]\n",
    "            "
   ]
  },
  {
   "cell_type": "code",
   "execution_count": 39,
   "metadata": {},
   "outputs": [
    {
     "name": "stderr",
     "output_type": "stream",
     "text": [
      "100%|██████████| 560/560 [00:06<00:00, 89.84it/s]\n"
     ]
    }
   ],
   "source": [
    "#Categorical-Categorical features\n",
    "list_cont_cont2 = list(combinations(cont_cols,3))\n",
    "\n",
    "for cols in tqdm(list_cont_cont2):\n",
    "    col1 = cols[0]\n",
    "    col2 = cols[1]\n",
    "    col3 = cols[2]\n",
    "    x_comb['cont3'+col1+col2+col3+'mult'] = x_comb[col1]*x_comb[col2]*x_comb[col3]\n",
    "            "
   ]
  },
  {
   "cell_type": "code",
   "execution_count": 40,
   "metadata": {},
   "outputs": [
    {
     "name": "stderr",
     "output_type": "stream",
     "text": [
      "100%|██████████| 240/240 [00:02<00:00, 119.56it/s]\n"
     ]
    }
   ],
   "source": [
    "#Categorical-continuous\n",
    "list_cat_cont = list(itertools.product(cat_cols, cont_cols))\n",
    "\n",
    "for cols in tqdm(list_cat_cont):\n",
    "    col1 = cols[0]\n",
    "    col2 = cols[1]\n",
    "    x_comb['cat_cont'+col1+col2+'mult'] = x_comb[col1]*x_comb[col2]"
   ]
  },
  {
   "cell_type": "code",
   "execution_count": 43,
   "metadata": {},
   "outputs": [],
   "source": [
    "train_x = x_comb[0:45642]\n",
    "test_x =  x_comb[45642:]"
   ]
  },
  {
   "cell_type": "code",
   "execution_count": 49,
   "metadata": {},
   "outputs": [],
   "source": [
    "y_ker = to_categorical(y_cat)"
   ]
  },
  {
   "cell_type": "code",
   "execution_count": 50,
   "metadata": {},
   "outputs": [],
   "source": [
    "x1_train, x1_val, y1_train, y1_val = train_test_split(train_x, y_ker,test_size=0.2,random_state=0,\n",
    "                                                      stratify = y)\n",
    "                                                      "
   ]
  },
  {
   "cell_type": "code",
   "execution_count": null,
   "metadata": {},
   "outputs": [],
   "source": []
  },
  {
   "cell_type": "code",
   "execution_count": 46,
   "metadata": {},
   "outputs": [],
   "source": [
    "def f1(y_true, y_pred):\n",
    "    def recall(y_true, y_pred):\n",
    "        \"\"\"Recall metric.\n",
    "\n",
    "        Only computes a batch-wise average of recall.\n",
    "\n",
    "        Computes the recall, a metric for multi-label classification of\n",
    "        how many relevant items are selected.\n",
    "        \"\"\"\n",
    "        true_positives = K.sum(K.round(K.clip(y_true * y_pred, 0, 1)))\n",
    "        possible_positives = K.sum(K.round(K.clip(y_true, 0, 1)))\n",
    "        recall = true_positives / (possible_positives + K.epsilon())\n",
    "        return recall\n",
    "\n",
    "    def precision(y_true, y_pred):\n",
    "        \"\"\"Precision metric.\n",
    "\n",
    "        Only computes a batch-wise average of precision.\n",
    "\n",
    "        Computes the precision, a metric for multi-label classification of\n",
    "        how many selected items are relevant.\n",
    "        \"\"\"\n",
    "        true_positives = K.sum(K.round(K.clip(y_true * y_pred, 0, 1)))\n",
    "        predicted_positives = K.sum(K.round(K.clip(y_pred, 0, 1)))\n",
    "        precision = true_positives / (predicted_positives + K.epsilon())\n",
    "        return precision\n",
    "    precision = precision(y_true, y_pred)\n",
    "    recall = recall(y_true, y_pred)\n",
    "    return 2*((precision*recall)/(precision+recall+K.epsilon()))\n"
   ]
  },
  {
   "cell_type": "code",
   "execution_count": 59,
   "metadata": {},
   "outputs": [],
   "source": [
    "def model_deep():\n",
    "    \n",
    "    #Defining the input-----> Transaction\n",
    "    inputs = Input(shape=(2438,))\n",
    "    layer_dense = Dense(500, activation='relu')(inputs)\n",
    "    layer_dense = Dropout(0.5)(layer_dense)\n",
    "    \n",
    "    layer_dense = Dense(100, activation='relu')(layer_dense)\n",
    "    layer_dense = Dropout(0.5)(layer_dense)\n",
    "    \n",
    "    layer_dense = Dense(50, activation='relu')(layer_dense)\n",
    "    layer_dense = Dropout(0.5)(layer_dense)\n",
    "    \n",
    "    layer_dense = Dense(40, activation='relu')(layer_dense)\n",
    "    layer_dense = Dropout(0.5)(layer_dense)\n",
    "    \n",
    "    layer_dense = Dense(30, activation='relu')(layer_dense)\n",
    "    layer_dense = Dropout(0.5)(layer_dense)\n",
    "    \n",
    "    layer_dense = Dense(20, activation='relu')(layer_dense)\n",
    "    layer_dense = Dropout(0.5)(layer_dense)\n",
    "    \n",
    "    layer_dense = Dense(10, activation='relu')(layer_dense)\n",
    "    layer_dense = Dropout(0.5)(layer_dense)\n",
    "    \n",
    "    layer_dense = Dense(5, activation='relu')(layer_dense)\n",
    "    layer_dense = Dropout(0.5)(layer_dense)\n",
    "    \n",
    "    layer_dense = Dense(5, activation='relu')(layer_dense)\n",
    "    layer_dense = Dropout(0.5)(layer_dense)\n",
    "    \n",
    "    layer_dense = Dense(5, activation='relu')(layer_dense)\n",
    "    layer_dense = Dropout(0.5)(layer_dense)\n",
    "    \n",
    "    layer_dense = Dense(5, activation='relu')(layer_dense)\n",
    "    layer_dense = Dropout(0.5)(layer_dense)\n",
    "    \n",
    "    layer_dense = Dense(5, activation='relu')(layer_dense)\n",
    "    layer_dense = Dropout(0.5)(layer_dense)\n",
    "    \n",
    "    layer_dense = Dense(5, activation='relu')(layer_dense)\n",
    "    layer_dense = Dropout(0.5)(layer_dense)\n",
    "    \n",
    "    layer_dense = Dense(5, activation='relu')(layer_dense)\n",
    "    layer_dense = Dropout(0.5)(layer_dense)\n",
    "    \n",
    "    probabilities = Dense(2,activation='softmax')(layer_dense)\n",
    "    \n",
    "    model = Model(inputs=inputs,outputs=probabilities)\n",
    "    return model"
   ]
  },
  {
   "cell_type": "code",
   "execution_count": 60,
   "metadata": {},
   "outputs": [],
   "source": [
    "model1 = model_deep()"
   ]
  },
  {
   "cell_type": "code",
   "execution_count": 61,
   "metadata": {},
   "outputs": [],
   "source": [
    "model1.compile(loss = \"categorical_crossentropy\", \n",
    "              optimizer = Adam(lr=0.01), \n",
    "              metrics = [f1])"
   ]
  },
  {
   "cell_type": "code",
   "execution_count": 63,
   "metadata": {},
   "outputs": [],
   "source": [
    "# history = model1.fit(train_x,\n",
    "#                      y_ker,\n",
    "#                      batch_size = 256, \n",
    "#                      epochs = 10, \n",
    "#                      class_weight = {0:2,1:0.8},\n",
    "#                      validation_split=0.16,\n",
    "#                      verbose = 1)"
   ]
  },
  {
   "cell_type": "code",
   "execution_count": 58,
   "metadata": {},
   "outputs": [
    {
     "data": {
      "text/plain": [
       "(45642, 2438)"
      ]
     },
     "execution_count": 58,
     "metadata": {},
     "output_type": "execute_result"
    }
   ],
   "source": [
    "train_x.shape"
   ]
  },
  {
   "cell_type": "code",
   "execution_count": null,
   "metadata": {},
   "outputs": [],
   "source": []
  },
  {
   "cell_type": "code",
   "execution_count": null,
   "metadata": {},
   "outputs": [],
   "source": []
  },
  {
   "cell_type": "code",
   "execution_count": null,
   "metadata": {},
   "outputs": [],
   "source": []
  },
  {
   "cell_type": "code",
   "execution_count": null,
   "metadata": {},
   "outputs": [],
   "source": []
  },
  {
   "cell_type": "code",
   "execution_count": null,
   "metadata": {},
   "outputs": [],
   "source": []
  },
  {
   "cell_type": "code",
   "execution_count": null,
   "metadata": {},
   "outputs": [],
   "source": []
  },
  {
   "cell_type": "code",
   "execution_count": null,
   "metadata": {},
   "outputs": [],
   "source": []
  },
  {
   "cell_type": "code",
   "execution_count": null,
   "metadata": {
    "scrolled": true
   },
   "outputs": [],
   "source": [
    "### funded : 0,  not funded 1\n",
    "best_thresh = None\n",
    "val_score = 0\n",
    "\n",
    "for thresh in np.linspace(start = 0.4, stop = 0.8, num = 40):\n",
    "    \n",
    "    val_preds = lgb_clf.predict(x1_val, num_iteration = lgb_clf.best_iteration)\n",
    "    ans = [1 if (val > thresh) else 0 for val in val_preds]\n",
    "    \n",
    "    score = f1_score(y1_val, ans, average='macro')\n",
    "    print(\"Thresh\", thresh, \"F1 score:\", score)\n",
    "    \n",
    "    if score > val_score:\n",
    "        val_score = score\n",
    "        best_thresh = thresh\n",
    "\n",
    "        \n",
    "print(\"\\nThresh\", best_thresh, \"F1 score:\", val_score)\n"
   ]
  },
  {
   "cell_type": "code",
   "execution_count": null,
   "metadata": {},
   "outputs": [],
   "source": [
    "#('\\nThresh', 0.5948717948717949, 'F1 score:', 0.6749024684341038)"
   ]
  },
  {
   "cell_type": "code",
   "execution_count": null,
   "metadata": {},
   "outputs": [],
   "source": [
    "pred = lgb_clf.predict(test_x)"
   ]
  },
  {
   "cell_type": "code",
   "execution_count": null,
   "metadata": {},
   "outputs": [],
   "source": [
    "y_pred = ['NOT FUNDED' if x >= 0.5538 else 'FUNDED' for x in pred]"
   ]
  },
  {
   "cell_type": "code",
   "execution_count": null,
   "metadata": {},
   "outputs": [],
   "source": [
    "print (y_pred.count('NOT FUNDED'))\n",
    "print (y_pred.count('FUNDED'))"
   ]
  },
  {
   "cell_type": "code",
   "execution_count": null,
   "metadata": {},
   "outputs": [],
   "source": [
    "data_sub['Result_Predicted'] = y_pred"
   ]
  },
  {
   "cell_type": "code",
   "execution_count": null,
   "metadata": {},
   "outputs": [],
   "source": [
    "data_sub.to_csv('/Users/s0c02nj/Desktop/Mortgage Modelling/Submission_new5.csv',index=False)"
   ]
  },
  {
   "cell_type": "code",
   "execution_count": null,
   "metadata": {},
   "outputs": [],
   "source": []
  },
  {
   "cell_type": "markdown",
   "metadata": {},
   "source": [
    "Error Analysis"
   ]
  },
  {
   "cell_type": "code",
   "execution_count": null,
   "metadata": {},
   "outputs": [],
   "source": [
    "pred_val  = lgb_clf.predict(x1_val)"
   ]
  },
  {
   "cell_type": "code",
   "execution_count": null,
   "metadata": {},
   "outputs": [],
   "source": [
    "err = (y1_val - pred_val)**2"
   ]
  },
  {
   "cell_type": "code",
   "execution_count": null,
   "metadata": {},
   "outputs": [],
   "source": [
    "plt.scatter(x1_val['AMORTIZATION'],err)"
   ]
  },
  {
   "cell_type": "code",
   "execution_count": null,
   "metadata": {},
   "outputs": [],
   "source": []
  },
  {
   "cell_type": "code",
   "execution_count": null,
   "metadata": {},
   "outputs": [],
   "source": []
  },
  {
   "cell_type": "code",
   "execution_count": null,
   "metadata": {},
   "outputs": [],
   "source": []
  },
  {
   "cell_type": "code",
   "execution_count": null,
   "metadata": {},
   "outputs": [],
   "source": []
  },
  {
   "cell_type": "code",
   "execution_count": null,
   "metadata": {},
   "outputs": [],
   "source": [
    "list(x1_val.columns)"
   ]
  },
  {
   "cell_type": "code",
   "execution_count": null,
   "metadata": {},
   "outputs": [],
   "source": []
  },
  {
   "cell_type": "code",
   "execution_count": null,
   "metadata": {},
   "outputs": [],
   "source": []
  },
  {
   "cell_type": "code",
   "execution_count": null,
   "metadata": {},
   "outputs": [],
   "source": []
  },
  {
   "cell_type": "code",
   "execution_count": null,
   "metadata": {},
   "outputs": [],
   "source": []
  },
  {
   "cell_type": "code",
   "execution_count": null,
   "metadata": {},
   "outputs": [],
   "source": []
  },
  {
   "cell_type": "code",
   "execution_count": null,
   "metadata": {},
   "outputs": [],
   "source": []
  },
  {
   "cell_type": "code",
   "execution_count": null,
   "metadata": {},
   "outputs": [],
   "source": []
  },
  {
   "cell_type": "code",
   "execution_count": null,
   "metadata": {},
   "outputs": [],
   "source": []
  },
  {
   "cell_type": "code",
   "execution_count": null,
   "metadata": {},
   "outputs": [],
   "source": []
  },
  {
   "cell_type": "code",
   "execution_count": null,
   "metadata": {},
   "outputs": [],
   "source": []
  },
  {
   "cell_type": "code",
   "execution_count": null,
   "metadata": {},
   "outputs": [],
   "source": []
  }
 ],
 "metadata": {
  "kernelspec": {
   "display_name": "Python 3",
   "language": "python",
   "name": "python3"
  },
  "language_info": {
   "codemirror_mode": {
    "name": "ipython",
    "version": 2
   },
   "file_extension": ".py",
   "mimetype": "text/x-python",
   "name": "python",
   "nbconvert_exporter": "python",
   "pygments_lexer": "ipython2",
   "version": "2.7.15"
  }
 },
 "nbformat": 4,
 "nbformat_minor": 2
}

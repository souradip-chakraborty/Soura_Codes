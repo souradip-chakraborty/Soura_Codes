{
 "cells": [
  {
   "cell_type": "code",
   "execution_count": 1,
   "metadata": {},
   "outputs": [
    {
     "name": "stderr",
     "output_type": "stream",
     "text": [
      "/Users/s0c02nj/anaconda2/lib/python2.7/site-packages/lightgbm/__init__.py:46: UserWarning: Starting from version 2.2.1, the library file in distribution wheels for macOS is built by the Apple Clang (Xcode_9.4.1) compiler.\n",
      "This means that in case of installing LightGBM from PyPI via the ``pip install lightgbm`` command, you don't need to install the gcc compiler anymore.\n",
      "Instead of that, you need to install the OpenMP library, which is required for running LightGBM on the system with the Apple Clang compiler.\n",
      "You can install the OpenMP library by the following command: ``brew install libomp``.\n",
      "  \"You can install the OpenMP library by the following command: ``brew install libomp``.\", UserWarning)\n"
     ]
    }
   ],
   "source": [
    "import numpy as np\n",
    "import pandas as pd \n",
    "import matplotlib.pyplot as plt\n",
    "import seaborn as sns\n",
    "sns.set(style=\"whitegrid\")\n",
    "np.random.seed(203)\n",
    "from tqdm import tqdm\n",
    "import datetime\n",
    "from itertools import combinations\n",
    "from collections import Counter\n",
    "import itertools\n",
    "import re\n",
    "\n",
    "from sklearn.model_selection import train_test_split \n",
    "from sklearn.preprocessing import StandardScaler\n",
    "from sklearn.linear_model import LogisticRegression\n",
    "from sklearn.metrics import classification_report, accuracy_score\n",
    "from sklearn.manifold import TSNE\n",
    "from sklearn import preprocessing\n",
    "from sklearn.preprocessing import LabelEncoder\n",
    "from sklearn.decomposition import PCA\n",
    "\n",
    "from sklearn.metrics import precision_score , recall_score , f1_score\n",
    "import lightgbm as lgb\n",
    "from scipy import stats\n",
    "from scipy.spatial.distance import mahalanobis"
   ]
  },
  {
   "cell_type": "code",
   "execution_count": 2,
   "metadata": {},
   "outputs": [],
   "source": [
    "data_train = pd.read_csv('/Users/s0c02nj/Desktop/Mortgage Modelling/CAX_MortgageModeling_Train.csv')\n",
    "data_test =  pd.read_csv('/Users/s0c02nj/Desktop/Mortgage Modelling/CAX_MortgageModeling_Test.csv')\n",
    "data_sub =   pd.read_csv('/Users/s0c02nj/Desktop/Mortgage Modelling/CAX_MortgageModeling_SubmissionFormat.csv')"
   ]
  },
  {
   "cell_type": "code",
   "execution_count": null,
   "metadata": {},
   "outputs": [],
   "source": []
  },
  {
   "cell_type": "code",
   "execution_count": 3,
   "metadata": {},
   "outputs": [],
   "source": [
    "data_train = data_train.drop(['Unique_ID','MORTGAGE NUMBER'],axis=1)\n",
    "data_test =  data_test.drop(['Unique_ID','MORTGAGE NUMBER','RESULT'], axis=1)"
   ]
  },
  {
   "cell_type": "code",
   "execution_count": 4,
   "metadata": {},
   "outputs": [],
   "source": [
    "#Train data separating the response\n",
    "y       = data_train['RESULT']\n",
    "x_train = data_train.drop(['RESULT'],axis=1)\n"
   ]
  },
  {
   "cell_type": "code",
   "execution_count": 5,
   "metadata": {},
   "outputs": [],
   "source": [
    "#Test data and train data merged for pre-processing\n",
    "x_comb = pd.concat([x_train,data_test],sort=False)"
   ]
  },
  {
   "cell_type": "code",
   "execution_count": 6,
   "metadata": {},
   "outputs": [],
   "source": [
    "cont_cols = ['PROPERTY VALUE','MORTGAGE PAYMENT','GDS','LTV','TDS','AMORTIZATION','MORTGAGE AMOUNT',\n",
    "             'INCOME','CREDIT SCORE','RATE']"
   ]
  },
  {
   "cell_type": "code",
   "execution_count": 7,
   "metadata": {},
   "outputs": [],
   "source": [
    "cat_cols = ['PAYMENT FREQUENCY','PROPERTY TYPE','FSA','TERM','AGE RANGE','GENDER','INCOME TYPE',\n",
    "           'NAICS CODE','MORTGAGE PURPOSE']"
   ]
  },
  {
   "cell_type": "code",
   "execution_count": 8,
   "metadata": {},
   "outputs": [],
   "source": [
    "# cat_cols_new = ['PROPERTY_TYPE','FSA','TERM','AGE_RANGE','GENDER','INCOME_TYPE',\n",
    "#            'NAICS_CODE','MORTGAGE_PURPOSE']"
   ]
  },
  {
   "cell_type": "code",
   "execution_count": 9,
   "metadata": {},
   "outputs": [],
   "source": [
    "log_transformed = ['PROPERTY VALUE','MORTGAGE PAYMENT','LTV','INCOME','CREDIT SCORE','MORTGAGE AMOUNT']"
   ]
  },
  {
   "cell_type": "code",
   "execution_count": 10,
   "metadata": {},
   "outputs": [],
   "source": [
    "non_log_cols = ['GDS','LTV','TDS','AMORTIZATION','RATE']"
   ]
  },
  {
   "cell_type": "code",
   "execution_count": 11,
   "metadata": {},
   "outputs": [
    {
     "name": "stderr",
     "output_type": "stream",
     "text": [
      "100%|██████████| 9/9 [00:00<00:00, 38.33it/s]\n"
     ]
    }
   ],
   "source": [
    "for col in tqdm(cat_cols):\n",
    "    le = LabelEncoder()\n",
    "    x_comb[col] = le.fit_transform(x_comb[col])"
   ]
  },
  {
   "cell_type": "code",
   "execution_count": 12,
   "metadata": {},
   "outputs": [
    {
     "name": "stderr",
     "output_type": "stream",
     "text": [
      "100%|██████████| 9/9 [00:00<00:00, 1164.58it/s]\n"
     ]
    }
   ],
   "source": [
    "z=[]\n",
    "for col in tqdm(cat_cols):\n",
    "    z.append((col,x_comb[col].unique().shape))"
   ]
  },
  {
   "cell_type": "code",
   "execution_count": 13,
   "metadata": {},
   "outputs": [],
   "source": [
    "#Label Encoding the y-var\n",
    "le_y = LabelEncoder()\n",
    "\n",
    "y_cat = le_y.fit_transform(y)"
   ]
  },
  {
   "cell_type": "code",
   "execution_count": 14,
   "metadata": {},
   "outputs": [
    {
     "data": {
      "text/plain": [
       "PROPERTY VALUE         5.260160\n",
       "MORTGAGE PAYMENT       4.135354\n",
       "GDS                  180.294731\n",
       "LTV                   -1.875249\n",
       "TDS                  154.046538\n",
       "AMORTIZATION          -4.740900\n",
       "MORTGAGE AMOUNT        3.665322\n",
       "RATE                   1.145228\n",
       "MORTGAGE PURPOSE       0.141211\n",
       "PAYMENT FREQUENCY     -4.023413\n",
       "PROPERTY TYPE         -0.406087\n",
       "TERM                   2.376065\n",
       "FSA                    0.569508\n",
       "AGE RANGE              0.377381\n",
       "GENDER                 0.192380\n",
       "INCOME                 6.571547\n",
       "INCOME TYPE            0.619233\n",
       "NAICS CODE            -0.296763\n",
       "CREDIT SCORE          -3.087467\n",
       "dtype: float64"
      ]
     },
     "execution_count": 14,
     "metadata": {},
     "output_type": "execute_result"
    }
   ],
   "source": [
    "x_comb.skew()"
   ]
  },
  {
   "cell_type": "code",
   "execution_count": 15,
   "metadata": {},
   "outputs": [
    {
     "data": {
      "text/plain": [
       "RESULT\n",
       "FUNDED        [[AxesSubplot(0.125,0.725918;0.215278x0.154082...\n",
       "NOT FUNDED    [[AxesSubplot(0.125,0.725918;0.215278x0.154082...\n",
       "dtype: object"
      ]
     },
     "execution_count": 15,
     "metadata": {},
     "output_type": "execute_result"
    },
    {
     "data": {
      "image/png": "[encoded data removed]",
      "text/plain": [
       "<Figure size 432x288 with 12 Axes>"
      ]
     },
     "metadata": {},
     "output_type": "display_data"
    },
    {
     "data": {
      "image/png": "[encoded data removed]",
      "text/plain": [
       "<Figure size 432x288 with 12 Axes>"
      ]
     },
     "metadata": {},
     "output_type": "display_data"
    }
   ],
   "source": [
    "data_train.groupby('RESULT').hist()"
   ]
  },
  {
   "cell_type": "code",
   "execution_count": 16,
   "metadata": {},
   "outputs": [],
   "source": [
    "#plt.hist(data_train[data_train['RESULT'] == 'NOT FUNDED']['AMORTIZATION'])"
   ]
  },
  {
   "cell_type": "code",
   "execution_count": 17,
   "metadata": {},
   "outputs": [],
   "source": [
    "#plt.hist(data_train[data_train['RESULT'] == 'FUNDED']['AMORTIZATION'])"
   ]
  },
  {
   "cell_type": "raw",
   "metadata": {},
   "source": [
    "+ Feature Buckets for LTV\n",
    "1. If between 60-75 or not\n",
    "\n",
    "+ Feature Buckets for GDS\n",
    "1. If <0 or not\n",
    "2. -20-40,40-90,90-100,>100\n",
    "\n",
    "+ Feature Buckets for TDS\n",
    "1. If between 40-100 \n",
    "2. 0-40, 40-100, 100-200,>200\n",
    "\n",
    "+ Feature Buckets for AMORTIZATION\n",
    "1. 150-200 , 200-300 , 300-350 , >350\n",
    "\n"
   ]
  },
  {
   "cell_type": "code",
   "execution_count": null,
   "metadata": {},
   "outputs": [],
   "source": [
    "#Features for LTV\n",
    "ind_ltv = []\n",
    "for i in tqdm(range(0,len(x_comb))):\n",
    "    ltv_val = x_comb['LTV'].iloc[0]\n",
    "    \n",
    "    if ltv_val>=55 and ltv_val<=78 :\n",
    "        ind_ltv.append(1)\n",
    "    else :\n",
    "        ind_ltv.append(0)"
   ]
  },
  {
   "cell_type": "code",
   "execution_count": null,
   "metadata": {},
   "outputs": [],
   "source": [
    "x_comb['ind_ltv']= ind_ltv"
   ]
  },
  {
   "cell_type": "code",
   "execution_count": null,
   "metadata": {},
   "outputs": [],
   "source": [
    "#Features for GDS\n",
    "ind_gds_bin1 = []\n",
    "\n",
    "for i in tqdm(range(0,len(x_comb))):\n",
    "    gds_val = x_comb['GDS'].iloc[0]\n",
    "    \n",
    "    if gds_val>0:\n",
    "        ind_gds_bin1.append(1)\n",
    "    else :\n",
    "        ind_gds_bin1.append(0)\n"
   ]
  },
  {
   "cell_type": "code",
   "execution_count": null,
   "metadata": {},
   "outputs": [],
   "source": [
    "x_comb['ind_gds_bin1'] = ind_gds_bin1"
   ]
  },
  {
   "cell_type": "code",
   "execution_count": null,
   "metadata": {},
   "outputs": [],
   "source": [
    "#Features for GDS\n",
    "ind_gds_bin2 = []\n",
    "\n",
    "for i in tqdm(range(0,len(x_comb))):\n",
    "    gds_val = x_comb['GDS'].iloc[0]\n",
    "     \n",
    "    if gds_val<-20 :\n",
    "        ind_gds_bin2.append(0)\n",
    "    \n",
    "    if gds_val>=-20 and gds_val<40:\n",
    "        ind_gds_bin2.append(1)\n",
    "    \n",
    "    elif gds_val>=-40 and gds_val<-20:\n",
    "        ind_gds_bin2.append(2)\n",
    "    \n",
    "    elif gds_val>=40 and gds_val<90:\n",
    "        ind_gds_bin2.append(3)\n",
    "    \n",
    "    elif gds_val>=90 and gds_val<100:\n",
    "        ind_gds_bin2.append(4)\n",
    "    \n",
    "    elif gds_val>=90 and gds_val<100:\n",
    "        ind_gds_bin2.append(5)\n",
    "    \n",
    "    else :\n",
    "        ind_gds_bin2.append(6)"
   ]
  },
  {
   "cell_type": "code",
   "execution_count": null,
   "metadata": {},
   "outputs": [],
   "source": [
    "x_comb['ind_gds_bin2'] = ind_gds_bin2"
   ]
  },
  {
   "cell_type": "code",
   "execution_count": null,
   "metadata": {},
   "outputs": [],
   "source": [
    "#Features for TDS\n",
    "ind_tds_bin1 = []\n",
    "\n",
    "for i in tqdm(range(0,len(x_comb))):\n",
    "    tds_val = x_comb['TDS'].iloc[0]\n",
    "    \n",
    "    if tds_val>=40 and tds_val<=100:\n",
    "        ind_tds_bin1.append(1)\n",
    "    else :\n",
    "        ind_tds_bin1.append(0)\n"
   ]
  },
  {
   "cell_type": "code",
   "execution_count": null,
   "metadata": {},
   "outputs": [],
   "source": [
    "x_comb['ind_tds_bin1'] = ind_tds_bin1"
   ]
  },
  {
   "cell_type": "code",
   "execution_count": null,
   "metadata": {},
   "outputs": [],
   "source": [
    "#Features for GDS\n",
    "ind_tds_bin2 = []\n",
    "\n",
    "for i in tqdm(range(0,len(x_comb))):\n",
    "    tds_val = x_comb['GDS'].iloc[0]\n",
    "     \n",
    "    if tds_val<0 :\n",
    "        ind_tds_bin2.append(0)\n",
    "    \n",
    "    if tds_val>=0 and tds_val<40:\n",
    "        ind_tds_bin2.append(1)\n",
    "    \n",
    "    elif tds_val>=40 and tds_val<100:\n",
    "        ind_tds_bin2.append(2)\n",
    "    \n",
    "    elif tds_val>=100 and tds_val<200:\n",
    "        ind_tds_bin2.append(3)\n",
    "    \n",
    "    else :\n",
    "        ind_tds_bin2.append(4)"
   ]
  },
  {
   "cell_type": "code",
   "execution_count": null,
   "metadata": {},
   "outputs": [],
   "source": [
    "x_comb['ind_tds_bin2'] = ind_tds_bin2"
   ]
  },
  {
   "cell_type": "code",
   "execution_count": null,
   "metadata": {},
   "outputs": [],
   "source": [
    "#Features for GDS\n",
    "ind_am_bin2 = []\n",
    "\n",
    "for i in tqdm(range(0,len(x_comb))):\n",
    "    tds_am = x_comb['AMORTIZATION'].iloc[0]\n",
    "     \n",
    "    if tds_am<150 :\n",
    "        ind_am_bin2.append(0)\n",
    "    \n",
    "    if tds_am>=150 and tds_am<200:\n",
    "        ind_am_bin2.append(1)\n",
    "    \n",
    "    elif tds_am>=200 and tds_am<300:\n",
    "        ind_am_bin2.append(2)\n",
    "    \n",
    "    elif tds_am>=300 and tds_am<350:\n",
    "        ind_am_bin2.append(3)\n",
    "    \n",
    "    else :\n",
    "        ind_am_bin2.append(4)"
   ]
  },
  {
   "cell_type": "code",
   "execution_count": null,
   "metadata": {},
   "outputs": [],
   "source": [
    "x_comb['ind_am_bin2'] = ind_am_bin2"
   ]
  },
  {
   "cell_type": "code",
   "execution_count": null,
   "metadata": {},
   "outputs": [],
   "source": [
    "#new_cols = ['ind_ltv','ind_gds_bin1','ind_gds_bin2','ind_tds_bin1','ind_tds_bin2','ind_am_bin2']"
   ]
  },
  {
   "cell_type": "code",
   "execution_count": null,
   "metadata": {},
   "outputs": [],
   "source": [
    "#cat_cols = cat_cols + new_cols"
   ]
  },
  {
   "cell_type": "code",
   "execution_count": 18,
   "metadata": {},
   "outputs": [],
   "source": [
    "for col in log_transformed:\n",
    "    x_comb[col] = np.log1p(x_comb[col])\n",
    "    "
   ]
  },
  {
   "cell_type": "code",
   "execution_count": 19,
   "metadata": {},
   "outputs": [],
   "source": [
    "cont_cols = cont_cols + log_transformed"
   ]
  },
  {
   "cell_type": "code",
   "execution_count": 20,
   "metadata": {
    "scrolled": true
   },
   "outputs": [
    {
     "name": "stderr",
     "output_type": "stream",
     "text": [
      "100%|██████████| 16/16 [00:01<00:00, 14.56it/s]\n"
     ]
    }
   ],
   "source": [
    "col_count = []\n",
    "\n",
    "for col in tqdm(cont_cols):\n",
    "    counter = Counter(x_comb[col])\n",
    "    col_count.append(str(col)+'count')\n",
    "    x_comb[str(col)+'count'] = x_comb[col].apply(lambda x:counter[x])"
   ]
  },
  {
   "cell_type": "code",
   "execution_count": null,
   "metadata": {},
   "outputs": [],
   "source": []
  },
  {
   "cell_type": "code",
   "execution_count": null,
   "metadata": {},
   "outputs": [],
   "source": []
  },
  {
   "cell_type": "code",
   "execution_count": null,
   "metadata": {},
   "outputs": [],
   "source": []
  },
  {
   "cell_type": "code",
   "execution_count": null,
   "metadata": {},
   "outputs": [],
   "source": []
  },
  {
   "cell_type": "code",
   "execution_count": null,
   "metadata": {},
   "outputs": [],
   "source": []
  },
  {
   "cell_type": "code",
   "execution_count": null,
   "metadata": {},
   "outputs": [],
   "source": [
    "aggs = {}\n",
    "\n",
    "aggs['MORTGAGE PAYMENT'] = ['median', 'mean','std']\n",
    "aggs['GDS'] = ['median', 'mean','std']\n",
    "aggs['LTV'] = ['median', 'mean','std']\n",
    "aggs['TDS'] = ['median', 'mean','std']\n",
    "aggs['AMORTIZATION'] = ['median', 'mean','std']\n",
    "aggs['INCOME'] = ['median', 'mean','std']\n",
    "aggs['CREDIT SCORE'] = ['median', 'mean','std']\n",
    "aggs['MORTGAGE AMOUNT'] = ['median', 'mean','std']\n",
    "aggs['PROPERTY VALUE'] = ['median', 'mean','std']\n",
    "aggs['RATE'] = ['median', 'mean','std']\n",
    "aggs['PAYMENT FREQUENCY'] = ['count','mean','median']\n",
    "aggs['PROPERTY TYPE'] = ['count','mean','median']\n",
    "aggs['FSA'] = ['count','mean','median']\n",
    "aggs['TERM'] = ['count','mean','median']\n",
    "aggs['AGE RANGE'] = ['count','mean','median']\n",
    "aggs['GENDER'] = ['count','mean','median']\n",
    "aggs['INCOME TYPE'] = ['count','mean','median']\n",
    "aggs['NAICS CODE'] = ['count','mean','median']\n",
    "aggs['MORTGAGE PURPOSE'] = ['count','mean','median']\n",
    "\n",
    "\n",
    "for col in tqdm(cat_cols):\n",
    "    agg_df = x_comb.groupby(col).agg(aggs).reset_index()\n",
    "    agg_df.columns = [col] + [col + '_' + c[0] +'_' + c[1] for c in agg_df.columns[1:]]\n",
    "    x_comb = pd.merge(x_comb, agg_df, on=col, how=\"left\")"
   ]
  },
  {
   "cell_type": "code",
   "execution_count": null,
   "metadata": {},
   "outputs": [],
   "source": [
    "#Continuous-continuous features\n",
    "list_cont_cont = list(combinations(cont_cols,2))\n",
    "\n",
    "for cols in tqdm(list_cont_cont):\n",
    "    col1 = cols[0]\n",
    "    col2 = cols[1]\n",
    "    x_comb[col1+col2+'sum'] =  x_comb[col1]+x_comb[col2]\n",
    "    x_comb[col1+col2+'mult'] = x_comb[col1]*x_comb[col2]\n",
    "    x_comb[col1+col2+'div1'] = x_comb[col1]/x_comb[col2]\n",
    "    x_comb[col1+col2+'div2'] = x_comb[col2]/x_comb[col1]\n",
    "    x_comb[col1+col2+'sub'] =  x_comb[col1] - x_comb[col2]"
   ]
  },
  {
   "cell_type": "code",
   "execution_count": null,
   "metadata": {},
   "outputs": [],
   "source": [
    "#Categorical-Categorical features\n",
    "list_cat_cat = list(combinations(cat_cols,2))\n",
    "\n",
    "for cols in tqdm(list_cat_cat):\n",
    "    col1 = cols[0]\n",
    "    col2 = cols[1]\n",
    "    x_comb['cat'+col1+col2+'mult'] = x_comb[col1]*x_comb[col2]\n",
    "            "
   ]
  },
  {
   "cell_type": "code",
   "execution_count": null,
   "metadata": {},
   "outputs": [],
   "source": [
    "#Categorical-Categorical features\n",
    "# list_cat_cat2 = list(combinations(cat_cols,3))\n",
    "\n",
    "# for cols in tqdm(list_cat_cat2):\n",
    "#     col1 = cols[0]\n",
    "#     col2 = cols[1]\n",
    "#     col3 = cols[2]\n",
    "#     x_comb['cat3'+col1+col2+col3+'mult'] = x_comb[col1]*x_comb[col2]*x_comb[col3]\n",
    "            "
   ]
  },
  {
   "cell_type": "code",
   "execution_count": null,
   "metadata": {},
   "outputs": [],
   "source": [
    "#Categorical-Categorical features\n",
    "# list_cont_cont2 = list(combinations(cont_cols,3))\n",
    "\n",
    "# for cols in tqdm(list_cont_cont2):\n",
    "#     col1 = cols[0]\n",
    "#     col2 = cols[1]\n",
    "#     col3 = cols[2]\n",
    "#     x_comb['cont3'+col1+col2+col3+'mult'] = x_comb[col1]*x_comb[col2]*x_comb[col3]\n",
    "            "
   ]
  },
  {
   "cell_type": "code",
   "execution_count": null,
   "metadata": {},
   "outputs": [],
   "source": [
    "#Categorical-continuous\n",
    "list_cat_cont = list(itertools.product(cat_cols, cont_cols))\n",
    "\n",
    "for cols in tqdm(list_cat_cont):\n",
    "    col1 = cols[0]\n",
    "    col2 = cols[1]\n",
    "    x_comb['cat_cont'+col1+col2+'mult'] = x_comb[col1]*x_comb[col2]"
   ]
  },
  {
   "cell_type": "code",
   "execution_count": null,
   "metadata": {},
   "outputs": [],
   "source": []
  },
  {
   "cell_type": "code",
   "execution_count": null,
   "metadata": {},
   "outputs": [],
   "source": [
    "train_x = x_comb[0:45642]\n",
    "test_x =  x_comb[45642:]"
   ]
  },
  {
   "cell_type": "code",
   "execution_count": null,
   "metadata": {},
   "outputs": [],
   "source": [
    "x1_train, x1_val, y1_train, y1_val = train_test_split(train_x, y_cat,test_size=0.2,random_state=0,\n",
    "                                                      stratify = y)\n",
    "                                                      "
   ]
  },
  {
   "cell_type": "code",
   "execution_count": null,
   "metadata": {},
   "outputs": [],
   "source": [
    "def lgb_f1_score(y_hat, data):\n",
    "    y_true = data.get_label()\n",
    "    y_hat = np.round(y_hat) # scikits f1 doesn't like probabilities\n",
    "    return 'f1', f1_score(y_true, y_hat), True"
   ]
  },
  {
   "cell_type": "code",
   "execution_count": null,
   "metadata": {},
   "outputs": [],
   "source": [
    "random_state = 42\n",
    "np.random.seed(random_state)\n",
    "\n",
    "lgb_params = {\n",
    "    \"objective\" : \"binary\",\n",
    "    'metric':{lgb_f1_score},\n",
    "    \"boosting\": 'gbdt',\n",
    "    \"max_depth\" : 6,\n",
    "    \"num_leaves\" : 30,\n",
    "    \"learning_rate\" : 0.01,\n",
    "    \"bagging_freq\": 5,\n",
    "    \"bagging_fraction\" : 0.6,\n",
    "    \"feature_fraction\" : 0.1,\n",
    "    \"min_data_in_leaf\":  40,\n",
    "    \"min_sum_heassian_in_leaf\": 10,\n",
    "    \"tree_learner\": \"serial\",\n",
    "    \"boost_from_average\": \"false\",\n",
    "    'min_split_gain': .001,\n",
    "    'reg_alpha': 0.1,\n",
    "    'reg_lambda': 0.1,\n",
    "    \"bagging_seed\" : random_state,\n",
    "    \"verbosity\" : 1,\n",
    "    \"is_unbalance\":'TRUE',\n",
    "    \"seed\": random_state\n",
    "}"
   ]
  },
  {
   "cell_type": "code",
   "execution_count": null,
   "metadata": {},
   "outputs": [],
   "source": [
    "trn_data = lgb.Dataset(x1_train_new, label= y1_train_new )\n",
    "val_data = lgb.Dataset(x1_val,   label=  y1_val)"
   ]
  },
  {
   "cell_type": "code",
   "execution_count": null,
   "metadata": {
    "scrolled": true
   },
   "outputs": [],
   "source": [
    "lgb_clf = lgb.train(lgb_params,\n",
    "                    trn_data,\n",
    "                    13000,\n",
    "                    valid_sets = [trn_data, val_data],\n",
    "                    early_stopping_rounds=3000,\n",
    "                    feval=lgb_f1_score\n",
    "                    )"
   ]
  },
  {
   "cell_type": "code",
   "execution_count": null,
   "metadata": {},
   "outputs": [],
   "source": [
    "# oof = np.zeros(len(train_df))\n",
    "# predictions = np.zeros(len(test_df))\n",
    "\n",
    "# for train_index, valid_index in kf.split(feature_matrix_train):\n",
    "    \n",
    "#     d_train = lgb.Dataset(feature_matrix_train.iloc[train_index], label=y.iloc[train_index])\n",
    "#     d_val =   lgb.Dataset(feature_matrix_train.iloc[valid_index], label=y.iloc[valid_index])\n",
    "\n",
    "#     clf = lgb.train(params, d_train, 150000, verbose_eval=1000, \n",
    "#                     valid_sets = [d_train, d_val], early_stopping_rounds = 500,\n",
    "#                     categorical_feature=categorical_features)\n",
    "    \n",
    "#     oof[valid_index] = clf.predict(feature_matrix_train.iloc[valid_index])\n",
    "\n",
    "#     predictions += clf.predict(feature_matrix_test)"
   ]
  },
  {
   "cell_type": "code",
   "execution_count": null,
   "metadata": {
    "scrolled": true
   },
   "outputs": [],
   "source": [
    "### funded : 0,  not funded 1\n",
    "best_thresh = None\n",
    "val_score = 0\n",
    "\n",
    "for thresh in np.linspace(start = 0.4, stop = 0.8, num = 40):\n",
    "    \n",
    "    val_preds = lgb_clf.predict(x1_val, num_iteration = lgb_clf.best_iteration)\n",
    "    ans = [1 if (val > thresh) else 0 for val in val_preds]\n",
    "    \n",
    "    score = f1_score(y1_val, ans, average='macro')\n",
    "    print(\"Thresh\", thresh, \"F1 score:\", score)\n",
    "    \n",
    "    if score > val_score:\n",
    "        val_score = score\n",
    "        best_thresh = thresh\n",
    "\n",
    "        \n",
    "print(\"\\nThresh\", best_thresh, \"F1 score:\", val_score)\n"
   ]
  },
  {
   "cell_type": "code",
   "execution_count": null,
   "metadata": {},
   "outputs": [],
   "source": [
    "#('\\nThresh', 0.5948717948717949, 'F1 score:', 0.6749024684341038)"
   ]
  },
  {
   "cell_type": "code",
   "execution_count": null,
   "metadata": {
    "scrolled": true
   },
   "outputs": [],
   "source": [
    "fig, ax = plt.subplots(figsize=(12,30))\n",
    "lgb.plot_importance(lgb_clf, max_num_features=150, height=0.8, ax=ax)\n",
    "ax.grid(False)\n",
    "plt.title(\"LightGBM - Feature Importance\", fontsize=12)\n",
    "plt.show()"
   ]
  },
  {
   "cell_type": "code",
   "execution_count": null,
   "metadata": {},
   "outputs": [],
   "source": [
    "pred = lgb_clf.predict(test_x)"
   ]
  },
  {
   "cell_type": "code",
   "execution_count": null,
   "metadata": {},
   "outputs": [],
   "source": [
    "y_pred = ['NOT FUNDED' if x >= 0.6 else 'FUNDED' for x in pred]"
   ]
  },
  {
   "cell_type": "code",
   "execution_count": null,
   "metadata": {},
   "outputs": [],
   "source": [
    "print (y_pred.count('NOT FUNDED'))\n",
    "print (y_pred.count('FUNDED'))"
   ]
  },
  {
   "cell_type": "code",
   "execution_count": null,
   "metadata": {},
   "outputs": [],
   "source": [
    "data_sub['Result_Predicted'] = y_pred"
   ]
  },
  {
   "cell_type": "code",
   "execution_count": null,
   "metadata": {},
   "outputs": [],
   "source": [
    "data_sub.to_csv('/Users/s0c02nj/Desktop/Mortgage Modelling/Submission_new7.csv',index=False)"
   ]
  },
  {
   "cell_type": "code",
   "execution_count": null,
   "metadata": {},
   "outputs": [],
   "source": []
  },
  {
   "cell_type": "code",
   "execution_count": null,
   "metadata": {},
   "outputs": [],
   "source": []
  },
  {
   "cell_type": "code",
   "execution_count": null,
   "metadata": {},
   "outputs": [],
   "source": []
  },
  {
   "cell_type": "markdown",
   "metadata": {},
   "source": [
    "Error Analysis"
   ]
  },
  {
   "cell_type": "code",
   "execution_count": null,
   "metadata": {},
   "outputs": [],
   "source": [
    "pred_val  = lgb_clf.predict(x1_val)"
   ]
  },
  {
   "cell_type": "code",
   "execution_count": null,
   "metadata": {},
   "outputs": [],
   "source": [
    "err = (y1_val - pred_val)**2"
   ]
  },
  {
   "cell_type": "code",
   "execution_count": null,
   "metadata": {},
   "outputs": [],
   "source": [
    "plt.scatter(x1_val['AMORTIZATION'],err)"
   ]
  },
  {
   "cell_type": "code",
   "execution_count": null,
   "metadata": {},
   "outputs": [],
   "source": []
  },
  {
   "cell_type": "code",
   "execution_count": null,
   "metadata": {},
   "outputs": [],
   "source": []
  },
  {
   "cell_type": "code",
   "execution_count": null,
   "metadata": {},
   "outputs": [],
   "source": []
  },
  {
   "cell_type": "code",
   "execution_count": null,
   "metadata": {},
   "outputs": [],
   "source": []
  },
  {
   "cell_type": "code",
   "execution_count": null,
   "metadata": {},
   "outputs": [],
   "source": [
    "list(x1_val.columns)"
   ]
  },
  {
   "cell_type": "code",
   "execution_count": null,
   "metadata": {},
   "outputs": [],
   "source": []
  },
  {
   "cell_type": "code",
   "execution_count": null,
   "metadata": {},
   "outputs": [],
   "source": []
  },
  {
   "cell_type": "code",
   "execution_count": null,
   "metadata": {},
   "outputs": [],
   "source": []
  },
  {
   "cell_type": "code",
   "execution_count": null,
   "metadata": {},
   "outputs": [],
   "source": []
  },
  {
   "cell_type": "code",
   "execution_count": null,
   "metadata": {},
   "outputs": [],
   "source": []
  },
  {
   "cell_type": "code",
   "execution_count": null,
   "metadata": {},
   "outputs": [],
   "source": []
  },
  {
   "cell_type": "code",
   "execution_count": null,
   "metadata": {},
   "outputs": [],
   "source": []
  },
  {
   "cell_type": "code",
   "execution_count": null,
   "metadata": {},
   "outputs": [],
   "source": []
  },
  {
   "cell_type": "code",
   "execution_count": null,
   "metadata": {},
   "outputs": [],
   "source": []
  },
  {
   "cell_type": "code",
   "execution_count": null,
   "metadata": {},
   "outputs": [],
   "source": []
  },
  {
   "cell_type": "code",
   "execution_count": null,
   "metadata": {},
   "outputs": [],
   "source": []
  }
 ],
 "metadata": {
  "kernelspec": {
   "display_name": "Python 3",
   "language": "python",
   "name": "python3"
  },
  "language_info": {
   "codemirror_mode": {
    "name": "ipython",
    "version": 2
   },
   "file_extension": ".py",
   "mimetype": "text/x-python",
   "name": "python",
   "nbconvert_exporter": "python",
   "pygments_lexer": "ipython2",
   "version": "2.7.15"
  }
 },
 "nbformat": 4,
 "nbformat_minor": 2
}

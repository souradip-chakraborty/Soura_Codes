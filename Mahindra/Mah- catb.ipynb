{
 "cells": [
  {
   "cell_type": "code",
   "execution_count": null,
   "metadata": {},
   "outputs": [],
   "source": [
    "import numpy as np\n",
    "import pandas as pd \n",
    "import matplotlib.pyplot as plt\n",
    "import seaborn as sns\n",
    "sns.set(style=\"whitegrid\")\n",
    "np.random.seed(203)\n",
    "from tqdm import tqdm\n",
    "import datetime\n",
    "from collections import Counter\n",
    "import re\n",
    "\n",
    "from sklearn.model_selection import train_test_split \n",
    "from sklearn.preprocessing import StandardScaler\n",
    "from sklearn.linear_model import LogisticRegression\n",
    "from sklearn.metrics import classification_report, accuracy_score\n",
    "from sklearn.manifold import TSNE\n",
    "from sklearn import preprocessing\n",
    "from sklearn.preprocessing import LabelEncoder\n",
    "\n",
    "from catboost import Pool, CatBoostRegressor"
   ]
  },
  {
   "cell_type": "code",
   "execution_count": null,
   "metadata": {},
   "outputs": [],
   "source": [
    "#!pip install catboost"
   ]
  },
  {
   "cell_type": "code",
   "execution_count": null,
   "metadata": {},
   "outputs": [],
   "source": [
    "data_train = pd.read_csv('/Users/s0c02nj/Desktop/Mahindra/train_5CLrC8b/train.csv')\n",
    "#data_dict = pd.read_csv('/Users/s0c02nj/Desktop/train_5CLrC8b/Data_Dictionary.xlsx')\n",
    "data_test = pd.read_csv('/Users/s0c02nj/Desktop/Mahindra/test.csv')\n",
    "data_sub = pd.read_csv('/Users/s0c02nj/Desktop/Mahindra/sample_submission.csv')"
   ]
  },
  {
   "cell_type": "code",
   "execution_count": null,
   "metadata": {},
   "outputs": [],
   "source": [
    "# #Train data separating the response\n",
    "# x_train = data_train.drop('amount_spent_per_room_night_scaled',axis=1)\n",
    "# y_def = data_train['amount_spent_per_room_night_scaled']"
   ]
  },
  {
   "cell_type": "markdown",
   "metadata": {},
   "source": [
    "#### Doing Outlier treatement\n",
    "+ Based on distribution of response variable"
   ]
  },
  {
   "cell_type": "code",
   "execution_count": null,
   "metadata": {},
   "outputs": [],
   "source": [
    "# mu = data_train['amount_spent_per_room_night_scaled'].mean()\n",
    "# sigma =  np.sqrt(data_train['amount_spent_per_room_night_scaled'].var())\n",
    "\n",
    "# thres_u = mu+4*sigma\n",
    "# thres_l = mu-4*sigma\n",
    "\n",
    "# ind=[]\n",
    "# for i in tqdm(range(0,len(data_train))):\n",
    "#     val = data_train['amount_spent_per_room_night_scaled'].iloc[i]\n",
    "    \n",
    "#     if val <=thres_u and val >=thres_l :\n",
    "#         ind.append(1)\n",
    "#     else :\n",
    "#         ind.append(0)\n",
    "        \n",
    "# data_train['outlier_ind'] = ind\n"
   ]
  },
  {
   "cell_type": "code",
   "execution_count": null,
   "metadata": {},
   "outputs": [],
   "source": [
    "data_train_new = data_train"
   ]
  },
  {
   "cell_type": "code",
   "execution_count": null,
   "metadata": {},
   "outputs": [],
   "source": [
    "# data_train_new = data_train[data_train['outlier_ind']==1]\n",
    "# data_train_new = data_train_new.drop(['outlier_ind'],axis=1)"
   ]
  },
  {
   "cell_type": "code",
   "execution_count": null,
   "metadata": {},
   "outputs": [],
   "source": [
    "#Train data separating the response\n",
    "x_train = data_train_new.drop('amount_spent_per_room_night_scaled',axis=1)\n",
    "y_def =  data_train_new['amount_spent_per_room_night_scaled']"
   ]
  },
  {
   "cell_type": "code",
   "execution_count": null,
   "metadata": {},
   "outputs": [],
   "source": [
    "#Test data and train data merged for pre-processing\n",
    "x_comb = pd.concat([x_train,data_test],sort=False)"
   ]
  },
  {
   "cell_type": "markdown",
   "metadata": {},
   "source": [
    "Missing value current\n",
    "+ season_holidayed_code        149\n",
    "+ state_code_residence        7024\n",
    "\n",
    "Replacing Missing values with 'unknown' token for now"
   ]
  },
  {
   "cell_type": "code",
   "execution_count": null,
   "metadata": {},
   "outputs": [],
   "source": [
    "#x_comb = x_comb.replace(np.nan, 0.0, regex=True)\n",
    "#x_comb.head()"
   ]
  },
  {
   "cell_type": "code",
   "execution_count": null,
   "metadata": {},
   "outputs": [],
   "source": [
    "x_comb['season_holidayed_code'].fillna(x_comb['season_holidayed_code'].mode()[0], inplace=True)\n",
    "x_comb['state_code_residence'].fillna(x_comb['state_code_residence'].mode()[0], inplace=True)"
   ]
  },
  {
   "cell_type": "markdown",
   "metadata": {},
   "source": [
    "Time Related features engineering"
   ]
  },
  {
   "cell_type": "code",
   "execution_count": null,
   "metadata": {},
   "outputs": [],
   "source": [
    "from datetime import timedelta, date\n",
    "x_comb['booking_date'] =  pd.to_datetime(x_comb['booking_date'], format='%d/%m/%y')\n",
    "x_comb['checkin_date'] =  pd.to_datetime(x_comb['checkin_date'], format= '%d/%m/%y')\n",
    "x_comb['checkout_date'] = pd.to_datetime(x_comb['checkout_date'],format= '%d/%m/%y')"
   ]
  },
  {
   "cell_type": "code",
   "execution_count": null,
   "metadata": {},
   "outputs": [],
   "source": [
    "#Duration stay\n",
    "x_comb['Duration_stay'] = x_comb['checkout_date'] - x_comb['checkin_date']\n",
    "x_comb['Duration_stay'] = x_comb['Duration_stay'].apply(lambda x:x.days)"
   ]
  },
  {
   "cell_type": "code",
   "execution_count": null,
   "metadata": {},
   "outputs": [],
   "source": [
    "x_comb.shape"
   ]
  },
  {
   "cell_type": "code",
   "execution_count": null,
   "metadata": {},
   "outputs": [],
   "source": [
    "#Date-time year for all the time variables\n",
    "cols =['booking_date','checkin_date','checkout_date']\n",
    "\n",
    "\n",
    "for i in tqdm(cols):\n",
    "    x_comb[i +' '+'month'] = x_comb[i].dt.month\n",
    "    x_comb[i +' '+'week'] =  x_comb[i].dt.week\n",
    "    x_comb[i +' '+'year'] =  x_comb[i].dt.year\n",
    "    x_comb[i +' '+'day'] =   x_comb[i].dt.day\n",
    "        "
   ]
  },
  {
   "cell_type": "code",
   "execution_count": null,
   "metadata": {},
   "outputs": [],
   "source": [
    "x_comb = x_comb.drop(['booking_date','checkin_date','checkout_date'],axis=1)"
   ]
  },
  {
   "cell_type": "code",
   "execution_count": null,
   "metadata": {},
   "outputs": [],
   "source": [
    "x_comb.columns"
   ]
  },
  {
   "cell_type": "code",
   "execution_count": null,
   "metadata": {},
   "outputs": [],
   "source": [
    "total_cols = ['channel_code', 'main_product_code', 'numberofadults',\n",
    "       'numberofchildren',  'resort_region_code',\n",
    "       'resort_type_code', 'room_type_booked_code', 'roomnights',\n",
    "       'season_holidayed_code', 'state_code_residence', 'state_code_resort',\n",
    "       'total_pax', 'member_age_buckets', 'booking_type_code','memberid',\n",
    "       'cluster_code', 'reservationstatusid_code', 'resort_id',\n",
    "       'Duration_stay', 'booking_date month', 'booking_date week',\n",
    "       'booking_date year', 'booking_date day', 'checkin_date month',\n",
    "       'checkin_date week', 'checkin_date year', 'checkin_date day',\n",
    "       'checkout_date month', 'checkout_date week', 'checkout_date year',\n",
    "       'checkout_date day']"
   ]
  },
  {
   "cell_type": "code",
   "execution_count": null,
   "metadata": {},
   "outputs": [],
   "source": [
    "cat_cols = ['channel_code', 'main_product_code',\n",
    "        'resort_region_code',\n",
    "       'resort_type_code', 'room_type_booked_code',\n",
    "       'season_holidayed_code', 'state_code_residence', 'state_code_resort',\n",
    "       'member_age_buckets', 'booking_type_code','memberid',\n",
    "       'cluster_code', 'reservationstatusid_code', 'resort_id',\n",
    "       'booking_date month', 'booking_date week',\n",
    "       'booking_date year', 'checkin_date month',\n",
    "       'checkin_date week', 'checkin_date year',\n",
    "       'checkout_date month', 'checkout_date week', 'checkout_date year']"
   ]
  },
  {
   "cell_type": "code",
   "execution_count": null,
   "metadata": {},
   "outputs": [],
   "source": [
    "x_comb['roomnights'] = x_comb['roomnights'].replace(-45, 45)"
   ]
  },
  {
   "cell_type": "code",
   "execution_count": null,
   "metadata": {},
   "outputs": [],
   "source": [
    "for col in tqdm(cat_cols):\n",
    "    le = LabelEncoder()\n",
    "    x_comb[col] = le.fit_transform(x_comb[col])"
   ]
  },
  {
   "cell_type": "code",
   "execution_count": null,
   "metadata": {},
   "outputs": [],
   "source": [
    "x_comb = x_comb.drop(['reservation_id','persontravellingid'],axis=1)"
   ]
  },
  {
   "cell_type": "code",
   "execution_count": null,
   "metadata": {},
   "outputs": [],
   "source": [
    "# new_cols = ['resort_region_code','reservation_id',\n",
    "#        'resort_type_code', 'room_type_booked_code',\n",
    "#        'season_holidayed_code', 'state_code_residence', 'state_code_resort',\n",
    "#        'total_pax', 'member_age_buckets', 'booking_type_code', 'memberid',\n",
    "#        'cluster_code', 'reservationstatusid_code', 'resort_id',\n",
    "#        'Duration_stay']\n",
    "\n",
    "# new_ls=[]\n",
    "# for col1 in tqdm(new_cols):\n",
    "#     for col2 in new_cols :\n",
    "#         if col1 != col2:\n",
    "#             new_ls.append(col1+col2)\n",
    "#             x_comb[col1+col2] = x_comb[col1]*x_comb[col2]\n",
    "            \n",
    "# for col in tqdm(new_ls):\n",
    "#     le = LabelEncoder()\n",
    "#     x_comb[col] = le.fit_transform(x_comb[col])\n",
    "\n",
    "#total_cat_cols = cat_cols + new_ls"
   ]
  },
  {
   "cell_type": "code",
   "execution_count": null,
   "metadata": {},
   "outputs": [],
   "source": []
  },
  {
   "cell_type": "code",
   "execution_count": null,
   "metadata": {},
   "outputs": [],
   "source": [
    "train_x = x_comb[0:341424]\n",
    "test_x =  x_comb[341424:]"
   ]
  },
  {
   "cell_type": "code",
   "execution_count": null,
   "metadata": {},
   "outputs": [],
   "source": [
    "x1_train, x1_val, y1_train, y1_val = train_test_split(train_x, y_def,test_size=0.2,random_state=0)"
   ]
  },
  {
   "cell_type": "code",
   "execution_count": null,
   "metadata": {},
   "outputs": [],
   "source": [
    "#let us make the catboost model, use_best_model params will make the model prevent overfitting\n",
    "model = CatBoostRegressor(iterations=1300, \n",
    "                           learning_rate=0.03, \n",
    "                           l2_leaf_reg=4, \n",
    "                           depth=12, \n",
    "                           eval_metric='RMSE',\n",
    "                           use_best_model=True,\n",
    "                           random_seed=42)"
   ]
  },
  {
   "cell_type": "code",
   "execution_count": null,
   "metadata": {
    "scrolled": true
   },
   "outputs": [],
   "source": [
    "model.fit(x1_train,y1_train,cat_features= cat_cols, eval_set=(x1_val,y1_val))"
   ]
  },
  {
   "cell_type": "code",
   "execution_count": null,
   "metadata": {},
   "outputs": [],
   "source": [
    "#pred_trans = model.predict(test_x)\n",
    "#pred = np.expm1(pred_trans)"
   ]
  },
  {
   "cell_type": "code",
   "execution_count": null,
   "metadata": {},
   "outputs": [],
   "source": [
    "pred_trans = model.predict(test_x)\n",
    "pred = (1.0/pred_trans)-1\n"
   ]
  },
  {
   "cell_type": "code",
   "execution_count": null,
   "metadata": {},
   "outputs": [],
   "source": [
    "pred = model.predict(test_x)"
   ]
  },
  {
   "cell_type": "code",
   "execution_count": null,
   "metadata": {},
   "outputs": [],
   "source": [
    "data_sub['amount_spent_per_room_night_scaled']=pred"
   ]
  },
  {
   "cell_type": "code",
   "execution_count": null,
   "metadata": {},
   "outputs": [],
   "source": [
    "data_sub.to_csv('/Users/s0c02nj/Desktop/Mahindra/Sub_cat6.csv',index=False)"
   ]
  },
  {
   "cell_type": "code",
   "execution_count": null,
   "metadata": {},
   "outputs": [],
   "source": []
  },
  {
   "cell_type": "code",
   "execution_count": null,
   "metadata": {},
   "outputs": [],
   "source": []
  }
 ],
 "metadata": {
  "kernelspec": {
   "display_name": "Python 2",
   "language": "python",
   "name": "python2"
  },
  "language_info": {
   "codemirror_mode": {
    "name": "ipython",
    "version": 2
   },
   "file_extension": ".py",
   "mimetype": "text/x-python",
   "name": "python",
   "nbconvert_exporter": "python",
   "pygments_lexer": "ipython2",
   "version": "2.7.16"
  }
 },
 "nbformat": 4,
 "nbformat_minor": 2
}

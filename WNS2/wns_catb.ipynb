{
 "cells": [
  {
   "cell_type": "code",
   "execution_count": 80,
   "metadata": {},
   "outputs": [],
   "source": [
    "import pandas as pd\n",
    "from tqdm import tqdm\n",
    "import numpy as np\n",
    "from collections import Counter\n",
    "import holidays\n",
    "from sklearn import preprocessing\n",
    "from sklearn.model_selection import train_test_split, StratifiedKFold\n",
    "import lightgbm as lgb\n",
    "import seaborn as sns\n",
    "import matplotlib.pyplot as plt\n",
    "from subprocess import check_output\n",
    "from catboost import Pool, CatBoostClassifier"
   ]
  },
  {
   "cell_type": "code",
   "execution_count": 3,
   "metadata": {},
   "outputs": [],
   "source": [
    "#### read files\n",
    "df_train = pd.read_csv(\"/Users/s0c02nj/Desktop/WNS2/train_NA17Sgz/train.csv\")\n",
    "df_log = pd.read_csv(\"/Users/s0c02nj/Desktop/WNS2/train_NA17Sgz/view_log.csv\")\n",
    "df_item = pd.read_csv(\"/Users/s0c02nj/Desktop/WNS2/train_NA17Sgz/item_data.csv\")"
   ]
  },
  {
   "cell_type": "code",
   "execution_count": 4,
   "metadata": {},
   "outputs": [],
   "source": [
    "df_test = pd.read_csv(\"/Users/s0c02nj/Desktop/WNS2/test.csv\")"
   ]
  },
  {
   "cell_type": "code",
   "execution_count": 5,
   "metadata": {},
   "outputs": [],
   "source": [
    "df_log_item = pd.merge(left = df_log, \n",
    "                  right= df_item, \n",
    "                  how='left',\n",
    "                  left_on=['item_id'], \n",
    "                  right_on=['item_id'])"
   ]
  },
  {
   "cell_type": "code",
   "execution_count": 6,
   "metadata": {},
   "outputs": [],
   "source": [
    "cat_cols = ['device_type', 'category_1', 'category_2', 'category_3', 'product_type', 'item_id']\n",
    "\n",
    "for col in cat_cols:\n",
    "    le = preprocessing.LabelEncoder()\n",
    "    df_log_item[col] = le.fit_transform(df_log_item[col].astype(str))"
   ]
  },
  {
   "cell_type": "code",
   "execution_count": 7,
   "metadata": {},
   "outputs": [],
   "source": [
    "##### server feature week, month, day and hour\n",
    "df_log_item['server_time'] = pd.to_datetime(df_log_item['server_time'])\n",
    "\n",
    "df_log_item['server_wk'] = df_log_item['server_time'].dt.week\n",
    "df_log_item['server_mth'] = df_log_item['server_time'].dt.month\n",
    "df_log_item['server_day'] = df_log_item['server_time'].dt.day\n",
    "df_log_item['server_hr'] = df_log_item['server_time'].dt.hour\n",
    "df_log_item['server_weekend'] = (df_log_item['server_time'].dt.weekday >= 5).astype(int)"
   ]
  },
  {
   "cell_type": "code",
   "execution_count": 8,
   "metadata": {},
   "outputs": [],
   "source": [
    "### impute price\n",
    "df_log_item['item_price'] = df_log_item['item_price'].apply(lambda x:np.log1p(x))\n",
    "price_med = df_log_item['item_price'].median()\n",
    "df_log_item['item_price'] = df_log_item['item_price'].replace(np.nan, price_med, regex = True)"
   ]
  },
  {
   "cell_type": "code",
   "execution_count": 9,
   "metadata": {},
   "outputs": [],
   "source": [
    "df_log_item[\"cat1_cat2\"] = df_log_item[\"category_1\"].astype(\"str\") + df_log_item[\"category_2\"].astype(\"str\")\n",
    "df_log_item[\"cat1_cat3\"] = df_log_item[\"category_1\"].astype(\"str\") + df_log_item[\"category_3\"].astype(\"str\")\n",
    "df_log_item[\"cat2_cat3\"] = df_log_item[\"category_2\"].astype(\"str\") + df_log_item[\"category_3\"].astype(\"str\")\n",
    "df_log_item[\"cat1_cat2_cat3\"] = df_log_item[\"category_1\"].astype(\"str\") + df_log_item[\"category_2\"].astype(\"str\") + df_log_item[\"category_3\"].astype(\"str\")\n"
   ]
  },
  {
   "cell_type": "code",
   "execution_count": 10,
   "metadata": {},
   "outputs": [],
   "source": [
    "def q3(x):\n",
    "    return np.percentile(x , 75)\n",
    "\n",
    "def q1(x):\n",
    "    return np.percentile(x , 25)\n",
    "\n",
    "def mode(x):\n",
    "    return Counter(x).most_common(1)[0][0]\n",
    "\n",
    "def mode_1(x):\n",
    "    try:\n",
    "        return Counter(x).most_common(2)[1][0]\n",
    "    except:\n",
    "        return 999999"
   ]
  },
  {
   "cell_type": "code",
   "execution_count": 11,
   "metadata": {},
   "outputs": [],
   "source": [
    "aggs = {}\n",
    "aggs['item_price'] = ['median', 'mean', 'sum', 'max', 'min','var', q1, q3,  mode, mode_1]\n",
    "aggs['device_type'] = ['count', 'nunique', mode, mode_1]\n",
    "aggs['user_id'] = ['count', 'nunique']\n",
    "aggs['session_id'] = ['count', 'nunique']\n",
    "aggs['item_id'] =   ['nunique', mode, mode_1]\n",
    "aggs['category_1'] = ['nunique', mode, mode_1]\n",
    "aggs['category_2'] = ['nunique', mode, mode_1]\n",
    "aggs['category_3'] = ['nunique', mode, mode_1]\n",
    "aggs['cat1_cat2'] = ['nunique', mode, mode_1]\n",
    "aggs['cat1_cat3'] = ['nunique', mode, mode_1]\n",
    "aggs['cat2_cat3'] = ['nunique', mode, mode_1]\n",
    "aggs['cat1_cat2_cat3'] = ['nunique', mode, mode_1]\n",
    "aggs['product_type'] = ['nunique', mode, mode_1]\n",
    "\n",
    "\n",
    "aggs['server_wk'] = ['nunique', mode, mode_1, 'mean']\n",
    "aggs['server_mth'] = ['nunique', mode, mode_1, 'mean']\n",
    "aggs['server_day'] = ['nunique', mode, mode_1,  'mean']\n",
    "aggs['server_hr'] = ['nunique', mode, mode_1, 'mean']\n",
    "aggs['server_weekend'] = ['nunique', mode, mode_1, 'sum']"
   ]
  },
  {
   "cell_type": "code",
   "execution_count": 12,
   "metadata": {},
   "outputs": [],
   "source": [
    "is_click = df_train[\"is_click\"]\n",
    "df_train = df_train.drop([\"is_click\"], axis=1)\n",
    "df_combined = pd.concat([df_train, df_test])"
   ]
  },
  {
   "cell_type": "code",
   "execution_count": 13,
   "metadata": {},
   "outputs": [
    {
     "name": "stderr",
     "output_type": "stream",
     "text": [
      "100%|██████████| 1/1 [02:17<00:00, 137.10s/it]\n"
     ]
    }
   ],
   "source": [
    "for col in tqdm([\"user_id\"]):\n",
    "    \n",
    "    aggs_temp = aggs.copy()\n",
    "    aggs_temp.pop(col)\n",
    "    \n",
    "    agg_df = df_log_item.groupby(col).agg(aggs_temp).reset_index()\n",
    "    agg_df.columns = [col] + [col + '_' + c[0] +'_' + c[1] for c in agg_df.columns[1:]]\n",
    "    \n",
    "    df_final = pd.merge(left = df_combined, right= agg_df, how='left',\n",
    "                    left_on=[col], right_on=[col])\n",
    "    "
   ]
  },
  {
   "cell_type": "code",
   "execution_count": 15,
   "metadata": {},
   "outputs": [
    {
     "data": {
      "text/plain": [
       "Index(['impression_id', 'impression_time', 'user_id', 'app_code', 'os_version',\n",
       "       'is_4G', 'user_id_item_price_median', 'user_id_item_price_mean',\n",
       "       'user_id_item_price_sum', 'user_id_item_price_max',\n",
       "       'user_id_item_price_min', 'user_id_item_price_var',\n",
       "       'user_id_item_price_q1', 'user_id_item_price_q3',\n",
       "       'user_id_item_price_mode', 'user_id_item_price_mode_1',\n",
       "       'user_id_device_type_count', 'user_id_device_type_nunique',\n",
       "       'user_id_device_type_mode', 'user_id_device_type_mode_1',\n",
       "       'user_id_session_id_count', 'user_id_session_id_nunique',\n",
       "       'user_id_item_id_nunique', 'user_id_item_id_mode',\n",
       "       'user_id_item_id_mode_1', 'user_id_category_1_nunique',\n",
       "       'user_id_category_1_mode', 'user_id_category_1_mode_1',\n",
       "       'user_id_category_2_nunique', 'user_id_category_2_mode',\n",
       "       'user_id_category_2_mode_1', 'user_id_category_3_nunique',\n",
       "       'user_id_category_3_mode', 'user_id_category_3_mode_1',\n",
       "       'user_id_cat1_cat2_nunique', 'user_id_cat1_cat2_mode',\n",
       "       'user_id_cat1_cat2_mode_1', 'user_id_cat1_cat3_nunique',\n",
       "       'user_id_cat1_cat3_mode', 'user_id_cat1_cat3_mode_1',\n",
       "       'user_id_cat2_cat3_nunique', 'user_id_cat2_cat3_mode',\n",
       "       'user_id_cat2_cat3_mode_1', 'user_id_cat1_cat2_cat3_nunique',\n",
       "       'user_id_cat1_cat2_cat3_mode', 'user_id_cat1_cat2_cat3_mode_1',\n",
       "       'user_id_product_type_nunique', 'user_id_product_type_mode',\n",
       "       'user_id_product_type_mode_1', 'user_id_server_wk_nunique',\n",
       "       'user_id_server_wk_mode', 'user_id_server_wk_mode_1',\n",
       "       'user_id_server_wk_mean', 'user_id_server_mth_nunique',\n",
       "       'user_id_server_mth_mode', 'user_id_server_mth_mode_1',\n",
       "       'user_id_server_mth_mean', 'user_id_server_day_nunique',\n",
       "       'user_id_server_day_mode', 'user_id_server_day_mode_1',\n",
       "       'user_id_server_day_mean', 'user_id_server_hr_nunique',\n",
       "       'user_id_server_hr_mode', 'user_id_server_hr_mode_1',\n",
       "       'user_id_server_hr_mean', 'user_id_server_weekend_nunique',\n",
       "       'user_id_server_weekend_mode', 'user_id_server_weekend_mode_1',\n",
       "       'user_id_server_weekend_sum'],\n",
       "      dtype='object')"
      ]
     },
     "execution_count": 15,
     "metadata": {},
     "output_type": "execute_result"
    }
   ],
   "source": [
    "df_final.columns"
   ]
  },
  {
   "cell_type": "code",
   "execution_count": 23,
   "metadata": {},
   "outputs": [],
   "source": [
    "cont_cols = ['user_id_item_price_mean',\n",
    "       'user_id_item_price_sum', 'user_id_item_price_max',\n",
    "       'user_id_item_price_min', 'user_id_item_price_var',\n",
    "       'user_id_item_price_q1', 'user_id_item_price_q3',\n",
    "       'user_id_item_price_mode', 'user_id_item_price_mode_1']"
   ]
  },
  {
   "cell_type": "code",
   "execution_count": 24,
   "metadata": {},
   "outputs": [],
   "source": [
    "df_final['impression_time'] = pd.to_datetime(df_final['impression_time'])\n",
    "\n",
    "df_final['impression_wk'] = df_final['impression_time'].dt.week\n",
    "df_final['impression_mth'] = df_final['impression_time'].dt.month\n",
    "df_final['impression_day'] = df_final['impression_time'].dt.day\n",
    "df_final['impression_hr'] = df_final['impression_time'].dt.hour\n",
    "\n",
    "df_final['impression_weekend'] = (df_final['impression_time'].dt.weekday >= 5).astype(int)"
   ]
  },
  {
   "cell_type": "code",
   "execution_count": 26,
   "metadata": {},
   "outputs": [],
   "source": [
    "df_final['user_time_int1'] = df_final['impression_hr'] + df_final['user_id_item_price_mean']\n",
    "df_final['user_time_int2'] = df_final['impression_day'] + df_final['user_id_item_price_mean']\n",
    "df_final['session_cat_int1'] = df_final['user_id_session_id_nunique'] + df_final['user_id_item_price_mean']\n",
    "df_final['app_price_int'] = df_final['app_code'] + df_final['user_id_item_price_mean']\n"
   ]
  },
  {
   "cell_type": "code",
   "execution_count": 30,
   "metadata": {},
   "outputs": [],
   "source": [
    "df_embed = pd.read_csv('/Users/s0c02nj/Desktop/WNS2/golden_feats/user_embed_20.csv')"
   ]
  },
  {
   "cell_type": "code",
   "execution_count": 32,
   "metadata": {},
   "outputs": [],
   "source": [
    "col = 'user_id'\n",
    "df_final1 = pd.merge(left = df_final, right= df_embed, how='left',\n",
    "                    left_on=[col], right_on=[col])"
   ]
  },
  {
   "cell_type": "code",
   "execution_count": 33,
   "metadata": {},
   "outputs": [],
   "source": [
    "df_final = df_final.drop(['impression_id', 'impression_time', 'user_id'], axis =1)"
   ]
  },
  {
   "cell_type": "code",
   "execution_count": 34,
   "metadata": {},
   "outputs": [],
   "source": [
    "df_final1 = df_final1.drop(['impression_id', 'impression_time', 'user_id'], axis =1)"
   ]
  },
  {
   "cell_type": "code",
   "execution_count": 35,
   "metadata": {},
   "outputs": [
    {
     "name": "stderr",
     "output_type": "stream",
     "text": [
      "100%|██████████| 75/75 [00:33<00:00,  5.35it/s]\n"
     ]
    }
   ],
   "source": [
    "col_counts = []\n",
    "\n",
    "for col in tqdm(df_final.columns):\n",
    "    \n",
    "    counter = Counter(df_final[col])\n",
    "    col_counts.append(str(col)+'_count')\n",
    "    \n",
    "    df_final1[str(col)+'_count'] = df_final1[col].apply(lambda x:counter[x])"
   ]
  },
  {
   "cell_type": "code",
   "execution_count": 37,
   "metadata": {},
   "outputs": [],
   "source": [
    "df_final = df_final1"
   ]
  },
  {
   "cell_type": "code",
   "execution_count": 38,
   "metadata": {},
   "outputs": [
    {
     "name": "stdout",
     "output_type": "stream",
     "text": [
      "user_id_cat1_cat2_mode object\n",
      "user_id_cat1_cat2_mode_1 object\n",
      "user_id_cat1_cat3_mode object\n",
      "user_id_cat1_cat3_mode_1 object\n",
      "user_id_cat2_cat3_mode object\n",
      "user_id_cat2_cat3_mode_1 object\n",
      "user_id_cat1_cat2_cat3_mode object\n",
      "user_id_cat1_cat2_cat3_mode_1 object\n"
     ]
    }
   ],
   "source": [
    "cat_appended_cols = []\n",
    "for col in df_final.columns:\n",
    "    if df_final[col].dtype == \"object\":\n",
    "        cat_appended_cols.append(col)\n",
    "        print(col , df_final[col].dtype)"
   ]
  },
  {
   "cell_type": "code",
   "execution_count": 39,
   "metadata": {},
   "outputs": [
    {
     "name": "stderr",
     "output_type": "stream",
     "text": [
      "100%|██████████| 170/170 [00:43<00:00,  7.33it/s]\n"
     ]
    }
   ],
   "source": [
    "col_counts = []\n",
    "\n",
    "for col in tqdm(df_final.columns):\n",
    "    \n",
    "    counter = Counter(df_final[col])\n",
    "    col_counts.append(str(col)+'_count')\n",
    "    \n",
    "    df_final1[str(col)+'_count'] = df_final1[col].apply(lambda x:counter[x])"
   ]
  },
  {
   "cell_type": "code",
   "execution_count": 44,
   "metadata": {},
   "outputs": [],
   "source": [
    "df_final = df_final1"
   ]
  },
  {
   "cell_type": "code",
   "execution_count": 45,
   "metadata": {},
   "outputs": [
    {
     "name": "stdout",
     "output_type": "stream",
     "text": [
      "user_id_cat1_cat2_mode object\n",
      "user_id_cat1_cat2_mode_1 object\n",
      "user_id_cat1_cat3_mode object\n",
      "user_id_cat1_cat3_mode_1 object\n",
      "user_id_cat2_cat3_mode object\n",
      "user_id_cat2_cat3_mode_1 object\n",
      "user_id_cat1_cat2_cat3_mode object\n",
      "user_id_cat1_cat2_cat3_mode_1 object\n"
     ]
    }
   ],
   "source": [
    "cat_appended_cols = []\n",
    "for col in df_final.columns:\n",
    "    if df_final[col].dtype == \"object\":\n",
    "        cat_appended_cols.append(col)\n",
    "        print(col , df_final[col].dtype)"
   ]
  },
  {
   "cell_type": "code",
   "execution_count": 46,
   "metadata": {},
   "outputs": [
    {
     "name": "stdout",
     "output_type": "stream",
     "text": [
      "app_code\n",
      "os_version\n",
      "user_id_cat1_cat2_mode\n",
      "user_id_cat1_cat2_mode_1\n",
      "user_id_cat1_cat3_mode\n",
      "user_id_cat1_cat3_mode_1\n",
      "user_id_cat2_cat3_mode\n",
      "user_id_cat2_cat3_mode_1\n",
      "user_id_cat1_cat2_cat3_mode\n",
      "user_id_cat1_cat2_cat3_mode_1\n"
     ]
    }
   ],
   "source": [
    "cat_cols_train = ['app_code', 'os_version'] + cat_appended_cols\n",
    "\n",
    "for col in cat_cols_train:\n",
    "    print(col)\n",
    "    le = preprocessing.LabelEncoder()\n",
    "    df_final[col] = le.fit_transform(df_final[col].astype(int))"
   ]
  },
  {
   "cell_type": "code",
   "execution_count": 47,
   "metadata": {},
   "outputs": [],
   "source": [
    "cont_cols_total = cont_cols + list(cont_cols2)"
   ]
  },
  {
   "cell_type": "code",
   "execution_count": 48,
   "metadata": {},
   "outputs": [],
   "source": [
    "cat_cols_total = [i for i in df_final.columns if i not in cont_cols_total]"
   ]
  },
  {
   "cell_type": "code",
   "execution_count": 84,
   "metadata": {},
   "outputs": [
    {
     "name": "stderr",
     "output_type": "stream",
     "text": [
      "100%|██████████| 236/236 [00:52<00:00,  4.70it/s]\n"
     ]
    }
   ],
   "source": [
    "for col in tqdm(cat_cols_total):\n",
    "    le = LabelEncoder()\n",
    "    df_final[col] = le.fit_transform(df_final[col].astype(str))"
   ]
  },
  {
   "cell_type": "code",
   "execution_count": 85,
   "metadata": {},
   "outputs": [],
   "source": [
    "x_train = df_final[0 : df_train.shape[0]]\n",
    "x_test = df_final[df_train.shape[0] : ]\n",
    "y = is_click"
   ]
  },
  {
   "cell_type": "code",
   "execution_count": 86,
   "metadata": {},
   "outputs": [],
   "source": [
    "x_t, x_v, y_t, y_v = train_test_split(x_train, y, stratify=y, random_state=42, test_size=0.2)"
   ]
  },
  {
   "cell_type": "code",
   "execution_count": 87,
   "metadata": {},
   "outputs": [],
   "source": [
    "#let us make the catboost model, use_best_model params will make the model prevent overfitting\n",
    "model = CatBoostClassifier(iterations=500, \n",
    "                           learning_rate=0.01, \n",
    "                           l2_leaf_reg=3.5, \n",
    "                           depth=8, \n",
    "                           rsm=0.98, \n",
    "                           loss_function= 'Logloss', \n",
    "                           eval_metric='AUC',\n",
    "                           use_best_model=True,\n",
    "                           random_seed=42)"
   ]
  },
  {
   "cell_type": "code",
   "execution_count": 88,
   "metadata": {
    "scrolled": true
   },
   "outputs": [
    {
     "name": "stdout",
     "output_type": "stream",
     "text": [
      "0:\ttest: 0.5000000\tbest: 0.5000000 (0)\ttotal: 1.81s\tremaining: 15m 4s\n",
      "1:\ttest: 0.5026345\tbest: 0.5026345 (1)\ttotal: 4.68s\tremaining: 19m 26s\n",
      "2:\ttest: 0.5014290\tbest: 0.5026345 (1)\ttotal: 5.27s\tremaining: 14m 33s\n",
      "3:\ttest: 0.5025315\tbest: 0.5026345 (1)\ttotal: 7s\tremaining: 14m 28s\n",
      "4:\ttest: 0.5024902\tbest: 0.5026345 (1)\ttotal: 7.61s\tremaining: 12m 33s\n",
      "5:\ttest: 0.5355707\tbest: 0.5355707 (5)\ttotal: 12.3s\tremaining: 16m 56s\n",
      "6:\ttest: 0.5525658\tbest: 0.5525658 (6)\ttotal: 15.1s\tremaining: 17m 44s\n",
      "7:\ttest: 0.5526746\tbest: 0.5526746 (7)\ttotal: 16.1s\tremaining: 16m 27s\n",
      "8:\ttest: 0.5553484\tbest: 0.5553484 (8)\ttotal: 17.2s\tremaining: 15m 40s\n",
      "9:\ttest: 0.5581728\tbest: 0.5581728 (9)\ttotal: 20.2s\tremaining: 16m 31s\n",
      "10:\ttest: 0.5589678\tbest: 0.5589678 (10)\ttotal: 20.9s\tremaining: 15m 30s\n",
      "11:\ttest: 0.5637173\tbest: 0.5637173 (11)\ttotal: 25.8s\tremaining: 17m 29s\n",
      "12:\ttest: 0.5656592\tbest: 0.5656592 (12)\ttotal: 26.5s\tremaining: 16m 32s\n",
      "13:\ttest: 0.5656865\tbest: 0.5656865 (13)\ttotal: 27.1s\tremaining: 15m 42s\n",
      "14:\ttest: 0.5649951\tbest: 0.5656865 (13)\ttotal: 28.4s\tremaining: 15m 17s\n",
      "15:\ttest: 0.5709809\tbest: 0.5709809 (15)\ttotal: 31.3s\tremaining: 15m 45s\n",
      "16:\ttest: 0.5685969\tbest: 0.5709809 (15)\ttotal: 33.7s\tremaining: 15m 58s\n",
      "17:\ttest: 0.5668448\tbest: 0.5709809 (15)\ttotal: 36.1s\tremaining: 16m 7s\n",
      "18:\ttest: 0.5697561\tbest: 0.5709809 (15)\ttotal: 40.4s\tremaining: 17m 2s\n",
      "19:\ttest: 0.6347831\tbest: 0.6347831 (19)\ttotal: 41.6s\tremaining: 16m 38s\n",
      "20:\ttest: 0.6341668\tbest: 0.6347831 (19)\ttotal: 46.1s\tremaining: 17m 30s\n",
      "21:\ttest: 0.6552330\tbest: 0.6552330 (21)\ttotal: 49.6s\tremaining: 17m 56s\n",
      "22:\ttest: 0.6553482\tbest: 0.6553482 (22)\ttotal: 50.2s\tremaining: 17m 21s\n",
      "23:\ttest: 0.6564307\tbest: 0.6564307 (23)\ttotal: 54.3s\tremaining: 17m 56s\n",
      "24:\ttest: 0.6572855\tbest: 0.6572855 (24)\ttotal: 55.1s\tremaining: 17m 26s\n",
      "25:\ttest: 0.6578214\tbest: 0.6578214 (25)\ttotal: 57.7s\tremaining: 17m 32s\n",
      "26:\ttest: 0.6588542\tbest: 0.6588542 (26)\ttotal: 1m\tremaining: 17m 36s\n",
      "27:\ttest: 0.6773723\tbest: 0.6773723 (27)\ttotal: 1m 2s\tremaining: 17m 40s\n",
      "28:\ttest: 0.6777032\tbest: 0.6777032 (28)\ttotal: 1m 4s\tremaining: 17m 29s\n",
      "29:\ttest: 0.6777032\tbest: 0.6777032 (28)\ttotal: 1m 5s\tremaining: 17m 12s\n",
      "30:\ttest: 0.6777032\tbest: 0.6777032 (28)\ttotal: 1m 6s\tremaining: 16m 48s\n",
      "31:\ttest: 0.6748707\tbest: 0.6777032 (28)\ttotal: 1m 11s\tremaining: 17m 23s\n",
      "32:\ttest: 0.6744740\tbest: 0.6777032 (28)\ttotal: 1m 13s\tremaining: 17m 13s\n",
      "33:\ttest: 0.6744740\tbest: 0.6777032 (28)\ttotal: 1m 13s\tremaining: 16m 50s\n",
      "34:\ttest: 0.6744699\tbest: 0.6777032 (28)\ttotal: 1m 15s\tremaining: 16m 43s\n",
      "35:\ttest: 0.6746522\tbest: 0.6777032 (28)\ttotal: 1m 16s\tremaining: 16m 21s\n",
      "36:\ttest: 0.6746120\tbest: 0.6777032 (28)\ttotal: 1m 17s\tremaining: 16m 13s\n",
      "37:\ttest: 0.6746521\tbest: 0.6777032 (28)\ttotal: 1m 18s\tremaining: 15m 53s\n",
      "38:\ttest: 0.6909357\tbest: 0.6909357 (38)\ttotal: 1m 23s\tremaining: 16m 24s\n",
      "39:\ttest: 0.6907218\tbest: 0.6909357 (38)\ttotal: 1m 25s\tremaining: 16m 18s\n",
      "40:\ttest: 0.6907218\tbest: 0.6909357 (38)\ttotal: 1m 25s\tremaining: 15m 54s\n",
      "41:\ttest: 0.6901102\tbest: 0.6909357 (38)\ttotal: 1m 25s\tremaining: 15m 37s\n",
      "42:\ttest: 0.6898363\tbest: 0.6909357 (38)\ttotal: 1m 30s\tremaining: 15m 59s\n",
      "43:\ttest: 0.6907258\tbest: 0.6909357 (38)\ttotal: 1m 34s\tremaining: 16m 23s\n",
      "44:\ttest: 0.6890984\tbest: 0.6909357 (38)\ttotal: 1m 39s\tremaining: 16m 45s\n",
      "45:\ttest: 0.6920925\tbest: 0.6920925 (45)\ttotal: 1m 42s\tremaining: 16m 49s\n",
      "46:\ttest: 0.6922536\tbest: 0.6922536 (46)\ttotal: 1m 47s\tremaining: 17m 12s\n",
      "47:\ttest: 0.6929692\tbest: 0.6929692 (47)\ttotal: 1m 52s\tremaining: 17m 35s\n",
      "48:\ttest: 0.6929693\tbest: 0.6929693 (48)\ttotal: 1m 53s\tremaining: 17m 20s\n",
      "49:\ttest: 0.6929693\tbest: 0.6929693 (48)\ttotal: 1m 53s\tremaining: 16m 59s\n",
      "50:\ttest: 0.6929693\tbest: 0.6929693 (48)\ttotal: 1m 53s\tremaining: 16m 39s\n",
      "51:\ttest: 0.6929402\tbest: 0.6929693 (48)\ttotal: 1m 57s\tremaining: 16m 50s\n",
      "52:\ttest: 0.6929402\tbest: 0.6929693 (48)\ttotal: 1m 57s\tremaining: 16m 31s\n",
      "53:\ttest: 0.6929837\tbest: 0.6929837 (53)\ttotal: 1m 59s\tremaining: 16m 23s\n",
      "54:\ttest: 0.6929837\tbest: 0.6929837 (53)\ttotal: 2m\tremaining: 16m 15s\n",
      "55:\ttest: 0.6930873\tbest: 0.6930873 (55)\ttotal: 2m 1s\tremaining: 16m 2s\n",
      "56:\ttest: 0.6930186\tbest: 0.6930873 (55)\ttotal: 2m 2s\tremaining: 15m 50s\n",
      "57:\ttest: 0.6930186\tbest: 0.6930873 (55)\ttotal: 2m 2s\tremaining: 15m 34s\n",
      "58:\ttest: 0.6934994\tbest: 0.6934994 (58)\ttotal: 2m 6s\tremaining: 15m 44s\n",
      "59:\ttest: 0.6934780\tbest: 0.6934994 (58)\ttotal: 2m 9s\tremaining: 15m 49s\n",
      "60:\ttest: 0.6932887\tbest: 0.6934994 (58)\ttotal: 2m 14s\tremaining: 16m 11s\n",
      "61:\ttest: 0.6939457\tbest: 0.6939457 (61)\ttotal: 2m 21s\tremaining: 16m 42s\n",
      "62:\ttest: 0.6942979\tbest: 0.6942979 (62)\ttotal: 2m 29s\tremaining: 17m 19s\n",
      "63:\ttest: 0.6942979\tbest: 0.6942979 (62)\ttotal: 2m 30s\tremaining: 17m 4s\n",
      "64:\ttest: 0.6946201\tbest: 0.6946201 (64)\ttotal: 2m 39s\tremaining: 17m 44s\n",
      "65:\ttest: 0.6950051\tbest: 0.6950051 (65)\ttotal: 2m 51s\tremaining: 18m 45s\n",
      "66:\ttest: 0.6950051\tbest: 0.6950051 (65)\ttotal: 2m 55s\tremaining: 18m 51s\n",
      "67:\ttest: 0.6950051\tbest: 0.6950051 (65)\ttotal: 2m 57s\tremaining: 18m 48s\n",
      "68:\ttest: 0.6950051\tbest: 0.6950051 (65)\ttotal: 2m 58s\tremaining: 18m 33s\n",
      "69:\ttest: 0.6944872\tbest: 0.6950051 (65)\ttotal: 3m 4s\tremaining: 18m 55s\n",
      "70:\ttest: 0.6940195\tbest: 0.6950051 (65)\ttotal: 3m 14s\tremaining: 19m 37s\n",
      "71:\ttest: 0.6939534\tbest: 0.6950051 (65)\ttotal: 3m 31s\tremaining: 20m 54s\n",
      "72:\ttest: 0.6942421\tbest: 0.6950051 (65)\ttotal: 3m 41s\tremaining: 21m 36s\n",
      "73:\ttest: 0.6935485\tbest: 0.6950051 (65)\ttotal: 3m 51s\tremaining: 22m 9s\n",
      "74:\ttest: 0.6936465\tbest: 0.6950051 (65)\ttotal: 3m 56s\tremaining: 22m 17s\n",
      "75:\ttest: 0.6936465\tbest: 0.6950051 (65)\ttotal: 3m 58s\tremaining: 22m 12s\n",
      "76:\ttest: 0.6941000\tbest: 0.6950051 (65)\ttotal: 4m 1s\tremaining: 22m 8s\n",
      "77:\ttest: 0.6938383\tbest: 0.6950051 (65)\ttotal: 4m 2s\tremaining: 21m 54s\n",
      "78:\ttest: 0.6938576\tbest: 0.6950051 (65)\ttotal: 4m 5s\tremaining: 21m 50s\n",
      "79:\ttest: 0.6938576\tbest: 0.6950051 (65)\ttotal: 4m 6s\tremaining: 21m 36s\n",
      "80:\ttest: 0.6936590\tbest: 0.6950051 (65)\ttotal: 4m 13s\tremaining: 21m 48s\n",
      "81:\ttest: 0.6934191\tbest: 0.6950051 (65)\ttotal: 4m 19s\tremaining: 22m 1s\n",
      "82:\ttest: 0.6937191\tbest: 0.6950051 (65)\ttotal: 4m 22s\tremaining: 22m\n",
      "83:\ttest: 0.6937191\tbest: 0.6950051 (65)\ttotal: 4m 23s\tremaining: 21m 43s\n",
      "84:\ttest: 0.6937227\tbest: 0.6950051 (65)\ttotal: 4m 24s\tremaining: 21m 32s\n",
      "85:\ttest: 0.6937227\tbest: 0.6950051 (65)\ttotal: 4m 24s\tremaining: 21m 15s\n",
      "86:\ttest: 0.6945402\tbest: 0.6950051 (65)\ttotal: 4m 30s\tremaining: 21m 25s\n",
      "87:\ttest: 0.6943950\tbest: 0.6950051 (65)\ttotal: 4m 32s\tremaining: 21m 14s\n",
      "88:\ttest: 0.6942622\tbest: 0.6950051 (65)\ttotal: 4m 37s\tremaining: 21m 19s\n",
      "89:\ttest: 0.6941980\tbest: 0.6950051 (65)\ttotal: 4m 37s\tremaining: 21m 6s\n",
      "90:\ttest: 0.6941980\tbest: 0.6950051 (65)\ttotal: 4m 38s\tremaining: 20m 50s\n",
      "91:\ttest: 0.6941980\tbest: 0.6950051 (65)\ttotal: 4m 38s\tremaining: 20m 36s\n",
      "92:\ttest: 0.6949162\tbest: 0.6950051 (65)\ttotal: 4m 44s\tremaining: 20m 45s\n",
      "93:\ttest: 0.6945864\tbest: 0.6950051 (65)\ttotal: 4m 46s\tremaining: 20m 38s\n",
      "94:\ttest: 0.6945864\tbest: 0.6950051 (65)\ttotal: 4m 47s\tremaining: 20m 23s\n",
      "95:\ttest: 0.6945864\tbest: 0.6950051 (65)\ttotal: 4m 47s\tremaining: 20m 8s\n",
      "96:\ttest: 0.6943366\tbest: 0.6950051 (65)\ttotal: 4m 51s\tremaining: 20m 9s\n"
     ]
    },
    {
     "ename": "KeyboardInterrupt",
     "evalue": "",
     "output_type": "error",
     "traceback": [
      "\u001b[0;31m---------------------------------------------------------------------------\u001b[0m",
      "\u001b[0;31mKeyboardInterrupt\u001b[0m                         Traceback (most recent call last)",
      "\u001b[0;32m<ipython-input-88-606537fed0f6>\u001b[0m in \u001b[0;36m<module>\u001b[0;34m\u001b[0m\n\u001b[0;32m----> 1\u001b[0;31m \u001b[0mmodel\u001b[0m\u001b[0;34m.\u001b[0m\u001b[0mfit\u001b[0m\u001b[0;34m(\u001b[0m\u001b[0mx_t\u001b[0m\u001b[0;34m,\u001b[0m\u001b[0my_t\u001b[0m\u001b[0;34m,\u001b[0m\u001b[0mcat_features\u001b[0m\u001b[0;34m=\u001b[0m\u001b[0mcat_cols_total\u001b[0m\u001b[0;34m,\u001b[0m \u001b[0meval_set\u001b[0m\u001b[0;34m=\u001b[0m\u001b[0;34m(\u001b[0m\u001b[0mx_v\u001b[0m\u001b[0;34m,\u001b[0m\u001b[0my_v\u001b[0m\u001b[0;34m)\u001b[0m\u001b[0;34m)\u001b[0m\u001b[0;34m\u001b[0m\u001b[0;34m\u001b[0m\u001b[0m\n\u001b[0m",
      "\u001b[0;32m~/anaconda2/envs/graph/lib/python3.6/site-packages/catboost/core.py\u001b[0m in \u001b[0;36mfit\u001b[0;34m(self, X, y, cat_features, sample_weight, baseline, use_best_model, eval_set, verbose, logging_level, plot, column_description, verbose_eval, metric_period, silent, early_stopping_rounds, save_snapshot, snapshot_file, snapshot_interval)\u001b[0m\n\u001b[1;32m   2452\u001b[0m         self._fit(X, y, cat_features, None, sample_weight, None, None, None, None, baseline, use_best_model,\n\u001b[1;32m   2453\u001b[0m                   \u001b[0meval_set\u001b[0m\u001b[0;34m,\u001b[0m \u001b[0mverbose\u001b[0m\u001b[0;34m,\u001b[0m \u001b[0mlogging_level\u001b[0m\u001b[0;34m,\u001b[0m \u001b[0mplot\u001b[0m\u001b[0;34m,\u001b[0m \u001b[0mcolumn_description\u001b[0m\u001b[0;34m,\u001b[0m \u001b[0mverbose_eval\u001b[0m\u001b[0;34m,\u001b[0m \u001b[0mmetric_period\u001b[0m\u001b[0;34m,\u001b[0m\u001b[0;34m\u001b[0m\u001b[0;34m\u001b[0m\u001b[0m\n\u001b[0;32m-> 2454\u001b[0;31m                   silent, early_stopping_rounds, save_snapshot, snapshot_file, snapshot_interval)\n\u001b[0m\u001b[1;32m   2455\u001b[0m         \u001b[0;32mreturn\u001b[0m \u001b[0mself\u001b[0m\u001b[0;34m\u001b[0m\u001b[0;34m\u001b[0m\u001b[0m\n\u001b[1;32m   2456\u001b[0m \u001b[0;34m\u001b[0m\u001b[0m\n",
      "\u001b[0;32m~/anaconda2/envs/graph/lib/python3.6/site-packages/catboost/core.py\u001b[0m in \u001b[0;36m_fit\u001b[0;34m(self, X, y, cat_features, pairs, sample_weight, group_id, group_weight, subgroup_id, pairs_weight, baseline, use_best_model, eval_set, verbose, logging_level, plot, column_description, verbose_eval, metric_period, silent, early_stopping_rounds, save_snapshot, snapshot_file, snapshot_interval)\u001b[0m\n\u001b[1;32m   1199\u001b[0m \u001b[0;34m\u001b[0m\u001b[0m\n\u001b[1;32m   1200\u001b[0m         \u001b[0;32mwith\u001b[0m \u001b[0mlog_fixup\u001b[0m\u001b[0;34m(\u001b[0m\u001b[0;34m)\u001b[0m\u001b[0;34m,\u001b[0m \u001b[0mplot_wrapper\u001b[0m\u001b[0;34m(\u001b[0m\u001b[0mplot\u001b[0m\u001b[0;34m,\u001b[0m \u001b[0mself\u001b[0m\u001b[0;34m.\u001b[0m\u001b[0mget_params\u001b[0m\u001b[0;34m(\u001b[0m\u001b[0;34m)\u001b[0m\u001b[0;34m)\u001b[0m\u001b[0;34m:\u001b[0m\u001b[0;34m\u001b[0m\u001b[0;34m\u001b[0m\u001b[0m\n\u001b[0;32m-> 1201\u001b[0;31m             \u001b[0mself\u001b[0m\u001b[0;34m.\u001b[0m\u001b[0m_train\u001b[0m\u001b[0;34m(\u001b[0m\u001b[0mtrain_pool\u001b[0m\u001b[0;34m,\u001b[0m \u001b[0meval_sets\u001b[0m\u001b[0;34m,\u001b[0m \u001b[0mparams\u001b[0m\u001b[0;34m,\u001b[0m \u001b[0mallow_clear_pool\u001b[0m\u001b[0;34m)\u001b[0m\u001b[0;34m\u001b[0m\u001b[0;34m\u001b[0m\u001b[0m\n\u001b[0m\u001b[1;32m   1202\u001b[0m \u001b[0;34m\u001b[0m\u001b[0m\n\u001b[1;32m   1203\u001b[0m         \u001b[0;32mif\u001b[0m \u001b[0;34m(\u001b[0m\u001b[0;32mnot\u001b[0m \u001b[0mself\u001b[0m\u001b[0;34m.\u001b[0m\u001b[0m_object\u001b[0m\u001b[0;34m.\u001b[0m\u001b[0m_has_leaf_weights_in_model\u001b[0m\u001b[0;34m(\u001b[0m\u001b[0;34m)\u001b[0m\u001b[0;34m)\u001b[0m \u001b[0;32mand\u001b[0m \u001b[0mallow_clear_pool\u001b[0m\u001b[0;34m:\u001b[0m\u001b[0;34m\u001b[0m\u001b[0;34m\u001b[0m\u001b[0m\n",
      "\u001b[0;32m~/anaconda2/envs/graph/lib/python3.6/site-packages/catboost/core.py\u001b[0m in \u001b[0;36m_train\u001b[0;34m(self, train_pool, test_pool, params, allow_clear_pool)\u001b[0m\n\u001b[1;32m    892\u001b[0m \u001b[0;34m\u001b[0m\u001b[0m\n\u001b[1;32m    893\u001b[0m     \u001b[0;32mdef\u001b[0m \u001b[0m_train\u001b[0m\u001b[0;34m(\u001b[0m\u001b[0mself\u001b[0m\u001b[0;34m,\u001b[0m \u001b[0mtrain_pool\u001b[0m\u001b[0;34m,\u001b[0m \u001b[0mtest_pool\u001b[0m\u001b[0;34m,\u001b[0m \u001b[0mparams\u001b[0m\u001b[0;34m,\u001b[0m \u001b[0mallow_clear_pool\u001b[0m\u001b[0;34m)\u001b[0m\u001b[0;34m:\u001b[0m\u001b[0;34m\u001b[0m\u001b[0;34m\u001b[0m\u001b[0m\n\u001b[0;32m--> 894\u001b[0;31m         \u001b[0mself\u001b[0m\u001b[0;34m.\u001b[0m\u001b[0m_object\u001b[0m\u001b[0;34m.\u001b[0m\u001b[0m_train\u001b[0m\u001b[0;34m(\u001b[0m\u001b[0mtrain_pool\u001b[0m\u001b[0;34m,\u001b[0m \u001b[0mtest_pool\u001b[0m\u001b[0;34m,\u001b[0m \u001b[0mparams\u001b[0m\u001b[0;34m,\u001b[0m \u001b[0mallow_clear_pool\u001b[0m\u001b[0;34m)\u001b[0m\u001b[0;34m\u001b[0m\u001b[0;34m\u001b[0m\u001b[0m\n\u001b[0m\u001b[1;32m    895\u001b[0m         \u001b[0mself\u001b[0m\u001b[0;34m.\u001b[0m\u001b[0m_set_trained_model_attributes\u001b[0m\u001b[0;34m(\u001b[0m\u001b[0;34m)\u001b[0m\u001b[0;34m\u001b[0m\u001b[0;34m\u001b[0m\u001b[0m\n\u001b[1;32m    896\u001b[0m \u001b[0;34m\u001b[0m\u001b[0m\n",
      "\u001b[0;32m_catboost.pyx\u001b[0m in \u001b[0;36m_catboost._CatBoost._train\u001b[0;34m()\u001b[0m\n",
      "\u001b[0;32m_catboost.pyx\u001b[0m in \u001b[0;36m_catboost._CatBoost._train\u001b[0;34m()\u001b[0m\n",
      "\u001b[0;31mKeyboardInterrupt\u001b[0m: "
     ]
    }
   ],
   "source": [
    "model.fit(x_t,y_t,cat_features=cat_cols_total, eval_set=(x_v,y_v))\n"
   ]
  },
  {
   "cell_type": "code",
   "execution_count": null,
   "metadata": {},
   "outputs": [],
   "source": []
  },
  {
   "cell_type": "code",
   "execution_count": null,
   "metadata": {},
   "outputs": [],
   "source": []
  },
  {
   "cell_type": "code",
   "execution_count": null,
   "metadata": {},
   "outputs": [],
   "source": []
  },
  {
   "cell_type": "code",
   "execution_count": null,
   "metadata": {},
   "outputs": [],
   "source": []
  }
 ],
 "metadata": {
  "kernelspec": {
   "display_name": "Python 3",
   "language": "python",
   "name": "python3"
  },
  "language_info": {
   "codemirror_mode": {
    "name": "ipython",
    "version": 3
   },
   "file_extension": ".py",
   "mimetype": "text/x-python",
   "name": "python",
   "nbconvert_exporter": "python",
   "pygments_lexer": "ipython3",
   "version": "3.6.8"
  }
 },
 "nbformat": 4,
 "nbformat_minor": 2
}

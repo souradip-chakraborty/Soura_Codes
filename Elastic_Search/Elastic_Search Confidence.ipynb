{
 "cells": [
  {
   "cell_type": "code",
   "execution_count": 1,
   "metadata": {},
   "outputs": [],
   "source": [
    "import numpy as np\n",
    "import math\n",
    "import csv\n",
    "import pandas as pd\n",
    "import os\n",
    "import time\n",
    "from tqdm import tqdm\n",
    "from collections import Counter\n",
    "import seaborn as sns\n",
    "import pickle"
   ]
  },
  {
   "cell_type": "code",
   "execution_count": 2,
   "metadata": {},
   "outputs": [],
   "source": [
    "df_result = pd.read_pickle('/Users/s0c02nj/Desktop/Item_search_Std_Ref/')"
   ]
  },
  {
   "cell_type": "code",
   "execution_count": 3,
   "metadata": {},
   "outputs": [
    {
     "data": {
      "text/html": [
       "<div>\n",
       "<style scoped>\n",
       "    .dataframe tbody tr th:only-of-type {\n",
       "        vertical-align: middle;\n",
       "    }\n",
       "\n",
       "    .dataframe tbody tr th {\n",
       "        vertical-align: top;\n",
       "    }\n",
       "\n",
       "    .dataframe thead th {\n",
       "        text-align: right;\n",
       "    }\n",
       "</style>\n",
       "<table border=\"1\" class=\"dataframe\">\n",
       "  <thead>\n",
       "    <tr style=\"text-align: right;\">\n",
       "      <th></th>\n",
       "      <th>Ingredients_cln</th>\n",
       "      <th>Ingredients_org</th>\n",
       "      <th>UPC_match</th>\n",
       "      <th>Signing_Desc_Match</th>\n",
       "      <th>Qarth_Desc_Match</th>\n",
       "      <th>list_score_qarth</th>\n",
       "    </tr>\n",
       "  </thead>\n",
       "  <tbody>\n",
       "    <tr>\n",
       "      <th>0</th>\n",
       "      <td>habanero extract</td>\n",
       "      <td>HABANERO EXTRACT</td>\n",
       "      <td>85761000560</td>\n",
       "      <td>HABANERO 4OZ</td>\n",
       "      <td>habanero</td>\n",
       "      <td>10.1642</td>\n",
       "    </tr>\n",
       "    <tr>\n",
       "      <th>1</th>\n",
       "      <td>habanero extract</td>\n",
       "      <td>HABANERO EXTRACT</td>\n",
       "      <td>1996235125</td>\n",
       "      <td>HABANERO 4OZ</td>\n",
       "      <td>habanero</td>\n",
       "      <td>10.1642</td>\n",
       "    </tr>\n",
       "    <tr>\n",
       "      <th>2</th>\n",
       "      <td>habanero extract</td>\n",
       "      <td>HABANERO EXTRACT</td>\n",
       "      <td>40008464060</td>\n",
       "      <td>CINTA #9 50YARD CON DISEO</td>\n",
       "      <td>habanero</td>\n",
       "      <td>10.1642</td>\n",
       "    </tr>\n",
       "    <tr>\n",
       "      <th>3</th>\n",
       "      <td>habanero extract</td>\n",
       "      <td>HABANERO EXTRACT</td>\n",
       "      <td>40555164658</td>\n",
       "      <td>NAME HABANERO</td>\n",
       "      <td>habanero</td>\n",
       "      <td>10.1642</td>\n",
       "    </tr>\n",
       "    <tr>\n",
       "      <th>4</th>\n",
       "      <td>habanero extract</td>\n",
       "      <td>HABANERO EXTRACT</td>\n",
       "      <td>71106953272</td>\n",
       "      <td>HABANERO 2OZ</td>\n",
       "      <td>habanero</td>\n",
       "      <td>10.1642</td>\n",
       "    </tr>\n",
       "  </tbody>\n",
       "</table>\n",
       "</div>"
      ],
      "text/plain": [
       "    Ingredients_cln   Ingredients_org    UPC_match         Signing_Desc_Match  \\\n",
       "0  habanero extract  HABANERO EXTRACT  85761000560               HABANERO 4OZ   \n",
       "1  habanero extract  HABANERO EXTRACT   1996235125               HABANERO 4OZ   \n",
       "2  habanero extract  HABANERO EXTRACT  40008464060  CINTA #9 50YARD CON DISEO   \n",
       "3  habanero extract  HABANERO EXTRACT  40555164658              NAME HABANERO   \n",
       "4  habanero extract  HABANERO EXTRACT  71106953272               HABANERO 2OZ   \n",
       "\n",
       "  Qarth_Desc_Match list_score_qarth  \n",
       "0         habanero          10.1642  \n",
       "1         habanero          10.1642  \n",
       "2         habanero          10.1642  \n",
       "3         habanero          10.1642  \n",
       "4         habanero          10.1642  "
      ]
     },
     "execution_count": 3,
     "metadata": {},
     "output_type": "execute_result"
    }
   ],
   "source": [
    "df_result.head()"
   ]
  },
  {
   "cell_type": "code",
   "execution_count": 4,
   "metadata": {},
   "outputs": [
    {
     "data": {
      "text/plain": [
       "(28536,)"
      ]
     },
     "execution_count": 4,
     "metadata": {},
     "output_type": "execute_result"
    }
   ],
   "source": [
    "df_result['Ingredients_cln'].unique().shape"
   ]
  },
  {
   "cell_type": "code",
   "execution_count": null,
   "metadata": {},
   "outputs": [],
   "source": [
    "def get_cosine(str1, str2):\n",
    "    \n",
    "    #Counter forms a dictionary----> Frequency of words as values and key is the word\n",
    "    vec1 = Counter(str1.split())\n",
    "    vec2 = Counter(str2.split())\n",
    "    \n",
    "    #Intersection contains the set of common words\n",
    "    intersection = set(vec1.keys()) & set(vec2.keys())\n",
    "    \n",
    "    #W1W2W2=[1,2,3] and W1W2W3=[2,4,6] ,it finds the a.b value\n",
    "    numerator = sum([vec1[x] * vec2[x] for x in intersection])\n",
    "\n",
    "    #|a| and |b| are computed through the process\n",
    "    sum1 = sum([vec1[x]**2 for x in vec1.keys()])\n",
    "    sum2 = sum([vec2[x]**2 for x in vec2.keys()])\n",
    "    denominator = math.sqrt(sum1) * math.sqrt(sum2)\n",
    "\n",
    "    #cosine value is computed\n",
    "    if not denominator:\n",
    "        return 0.0\n",
    "    else:\n",
    "        return float(numerator) / denominator"
   ]
  },
  {
   "cell_type": "code",
   "execution_count": null,
   "metadata": {},
   "outputs": [],
   "source": [
    "#Getting Jaccard Distance\n",
    "def DistJaccard(str1, str2):\n",
    "    str1 = set(str1.split())\n",
    "    str2 = set(str2.split())\n",
    "    #a_intersection_b ---unique\n",
    "    numerator = len(str1 & str2)\n",
    "    #a_union_b---unique\n",
    "    denominator = min(len(str1),len(str2))\n",
    "    if not denominator:\n",
    "        return 0.0\n",
    "    else:\n",
    "        return float(numerator) / denominator\n"
   ]
  },
  {
   "cell_type": "code",
   "execution_count": null,
   "metadata": {},
   "outputs": [],
   "source": []
  },
  {
   "cell_type": "code",
   "execution_count": null,
   "metadata": {},
   "outputs": [],
   "source": [
    "jacc_sim = []\n",
    "cosine_sim = []\n",
    "\n",
    "for i in tqdm(range(0,len(df_result))):\n",
    "    \n",
    "    inred = df_result['Ingredients_cln'].iloc[i]\n",
    "    match_desc = df_result['Qarth_Desc_Match'].iloc[i]\n",
    "    \n",
    "    jacc_sim.append(DistJaccard(inred,match_desc))\n",
    "    cosine_sim.append(get_cosine(inred,match_desc))"
   ]
  },
  {
   "cell_type": "code",
   "execution_count": null,
   "metadata": {},
   "outputs": [],
   "source": [
    "df_result['jacc_ind'] = jacc_sim\n",
    "df_result['cosine_sim'] = cosine_sim"
   ]
  },
  {
   "cell_type": "code",
   "execution_count": null,
   "metadata": {
    "scrolled": false
   },
   "outputs": [],
   "source": [
    "df_result.head()"
   ]
  },
  {
   "cell_type": "code",
   "execution_count": null,
   "metadata": {},
   "outputs": [],
   "source": [
    "list_ingred_un = list(df_result['Ingredients_org'].unique())"
   ]
  },
  {
   "cell_type": "code",
   "execution_count": null,
   "metadata": {},
   "outputs": [],
   "source": []
  },
  {
   "cell_type": "code",
   "execution_count": null,
   "metadata": {},
   "outputs": [],
   "source": [
    "#list_total\n",
    "total_list = []\n",
    "\n",
    "\n",
    "for ing in tqdm(list_ingred_un):\n",
    "    \n",
    "    df_temp = df_result[df_result['Ingredients_org'] == ing]\n",
    "    \n",
    "    \n",
    "    #Adding elements to the list - Clean Ingredients\n",
    "    ingred_clean = list(df_temp['Ingredients_cln'].unique())\n",
    "    \n",
    "    #Original Ingredient\n",
    "    ingred_org = [ing]\n",
    "    \n",
    "    #Matched_upc_list\n",
    "    upc_match = list(df_temp['UPC_match'])\n",
    "    \n",
    "    #Matched Qarth_desc\n",
    "    qarth_match = list(df_temp['Qarth_Desc_Match'])\n",
    "    \n",
    "    #BM-25 score\n",
    "    score_bm = list(df_temp['list_score_qarth'])\n",
    "    \n",
    "    #Appending it to list\n",
    "    list_temp = [ingred_clean,ingred_org,upc_match,qarth_match,score_bm]\n",
    "    \n",
    "    #Combined_list\n",
    "    total_list.append(list_temp)\n",
    "    \n",
    "    "
   ]
  },
  {
   "cell_type": "code",
   "execution_count": null,
   "metadata": {},
   "outputs": [],
   "source": [
    "#df_result[df_result['Ingredients_org'] == 'HABANERO EXTRACT']['UPC_match']"
   ]
  },
  {
   "cell_type": "code",
   "execution_count": null,
   "metadata": {},
   "outputs": [],
   "source": [
    "#df_result.head()\n",
    "df_search = pd.DataFrame()\n",
    "df_search['res_search'] = total_list"
   ]
  },
  {
   "cell_type": "code",
   "execution_count": null,
   "metadata": {},
   "outputs": [],
   "source": [
    "total_list[0][1]"
   ]
  },
  {
   "cell_type": "code",
   "execution_count": null,
   "metadata": {},
   "outputs": [],
   "source": [
    "df_search.to_excel('/Users/s0c02nj/Desktop/search_result.xlsx')"
   ]
  },
  {
   "cell_type": "code",
   "execution_count": null,
   "metadata": {},
   "outputs": [],
   "source": [
    "## Order\n",
    "# ingred_clean\n",
    "# ingred_orginal\n",
    "# upc_match\n",
    "# qarth_match ---> Description of Match\n",
    "# score_bm25\n"
   ]
  },
  {
   "cell_type": "markdown",
   "metadata": {},
   "source": [
    "#### Statistical Analysis"
   ]
  },
  {
   "cell_type": "code",
   "execution_count": null,
   "metadata": {},
   "outputs": [],
   "source": []
  },
  {
   "cell_type": "code",
   "execution_count": null,
   "metadata": {},
   "outputs": [],
   "source": [
    "np.corrcoef(df_result['list_score_qarth'].tolist(),df_result['jacc_ind'].tolist())"
   ]
  },
  {
   "cell_type": "code",
   "execution_count": null,
   "metadata": {},
   "outputs": [],
   "source": [
    "np.corrcoef(df_result['list_score_qarth'].tolist(),df_result['cosine_sim'].tolist())"
   ]
  },
  {
   "cell_type": "code",
   "execution_count": null,
   "metadata": {},
   "outputs": [],
   "source": [
    "np.corrcoef(df_result['jacc_ind'].tolist(),df_result['cosine_sim'].tolist())"
   ]
  },
  {
   "cell_type": "code",
   "execution_count": null,
   "metadata": {},
   "outputs": [],
   "source": [
    "df_result['cosine_sim'].mean()"
   ]
  },
  {
   "cell_type": "code",
   "execution_count": null,
   "metadata": {},
   "outputs": [],
   "source": []
  },
  {
   "cell_type": "code",
   "execution_count": null,
   "metadata": {},
   "outputs": [],
   "source": []
  },
  {
   "cell_type": "code",
   "execution_count": null,
   "metadata": {},
   "outputs": [],
   "source": []
  },
  {
   "cell_type": "code",
   "execution_count": null,
   "metadata": {},
   "outputs": [],
   "source": []
  },
  {
   "cell_type": "code",
   "execution_count": null,
   "metadata": {},
   "outputs": [],
   "source": []
  },
  {
   "cell_type": "code",
   "execution_count": null,
   "metadata": {},
   "outputs": [],
   "source": []
  },
  {
   "cell_type": "code",
   "execution_count": null,
   "metadata": {},
   "outputs": [],
   "source": []
  },
  {
   "cell_type": "code",
   "execution_count": null,
   "metadata": {},
   "outputs": [],
   "source": []
  },
  {
   "cell_type": "code",
   "execution_count": null,
   "metadata": {},
   "outputs": [],
   "source": []
  },
  {
   "cell_type": "code",
   "execution_count": null,
   "metadata": {},
   "outputs": [],
   "source": [
    "#sns.distplot(df_result['list_score_qarth'])\n",
    "sns.distplot(df_result['list_score_qarth'].tolist())"
   ]
  },
  {
   "cell_type": "code",
   "execution_count": null,
   "metadata": {},
   "outputs": [],
   "source": [
    "#sns.distplot(df_result['list_score_qarth'])\n",
    "sns.distplot(df_result['cosine_sim'].tolist())"
   ]
  },
  {
   "cell_type": "code",
   "execution_count": null,
   "metadata": {},
   "outputs": [],
   "source": []
  },
  {
   "cell_type": "code",
   "execution_count": null,
   "metadata": {},
   "outputs": [],
   "source": []
  },
  {
   "cell_type": "code",
   "execution_count": null,
   "metadata": {},
   "outputs": [],
   "source": []
  },
  {
   "cell_type": "code",
   "execution_count": null,
   "metadata": {},
   "outputs": [],
   "source": []
  },
  {
   "cell_type": "code",
   "execution_count": null,
   "metadata": {},
   "outputs": [],
   "source": [
    "#Rank Based on Similarity measures --bm25\n",
    "df_result['rank_bm25_score'] = df_result.groupby('Ingredients_cln')['len_char'].rank(ascending=False,method ='dense')\n",
    "\n",
    "#Rank Based on Similarity measures --cosine\n",
    "df_result['rank_cos_score'] = df_result.groupby('Ingredients_cln')['len_char'].rank(ascending=False,method ='dense')\n",
    "\n",
    "#Rank Based on Similarity measures --jaccard\n",
    "df_result['rank_jac_score'] = df_result.groupby('Ingredients_cln')['len_char'].rank(ascending=False,method ='dense')"
   ]
  },
  {
   "cell_type": "code",
   "execution_count": null,
   "metadata": {},
   "outputs": [],
   "source": []
  },
  {
   "cell_type": "code",
   "execution_count": null,
   "metadata": {},
   "outputs": [],
   "source": []
  },
  {
   "cell_type": "code",
   "execution_count": null,
   "metadata": {},
   "outputs": [],
   "source": []
  },
  {
   "cell_type": "code",
   "execution_count": 5,
   "metadata": {},
   "outputs": [],
   "source": [
    "df_ingred = pd.read_pickle('/Users/s0c02nj/Downloads/df_ingred')"
   ]
  },
  {
   "cell_type": "code",
   "execution_count": 7,
   "metadata": {},
   "outputs": [
    {
     "data": {
      "text/plain": [
       "(29566,)"
      ]
     },
     "execution_count": 7,
     "metadata": {},
     "output_type": "execute_result"
    }
   ],
   "source": [
    "df_ingred['Ingredients_cln'].unique().shape"
   ]
  },
  {
   "cell_type": "code",
   "execution_count": 11,
   "metadata": {},
   "outputs": [
    {
     "data": {
      "text/plain": [
       "(31033,)"
      ]
     },
     "execution_count": 11,
     "metadata": {},
     "output_type": "execute_result"
    }
   ],
   "source": [
    "df_ingred['Ingredients'].unique().shape"
   ]
  },
  {
   "cell_type": "code",
   "execution_count": null,
   "metadata": {},
   "outputs": [],
   "source": []
  }
 ],
 "metadata": {
  "kernelspec": {
   "display_name": "Python 3",
   "language": "python",
   "name": "python3"
  },
  "language_info": {
   "codemirror_mode": {
    "name": "ipython",
    "version": 3
   },
   "file_extension": ".py",
   "mimetype": "text/x-python",
   "name": "python",
   "nbconvert_exporter": "python",
   "pygments_lexer": "ipython3",
   "version": "3.6.8"
  }
 },
 "nbformat": 4,
 "nbformat_minor": 2
}

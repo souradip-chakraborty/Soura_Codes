{
 "cells": [
  {
   "cell_type": "code",
   "execution_count": 1,
   "metadata": {},
   "outputs": [],
   "source": [
    "import numpy as np\n",
    "import csv\n",
    "import pandas as pd\n",
    "import os\n",
    "import time\n",
    "from tqdm import tqdm\n",
    "from multiprocessing import Pool"
   ]
  },
  {
   "cell_type": "code",
   "execution_count": 2,
   "metadata": {},
   "outputs": [],
   "source": [
    "df_ques = pd.read_pickle('/Users/s0c02nj/Downloads/df_query_ms.pkl')"
   ]
  },
  {
   "cell_type": "code",
   "execution_count": 3,
   "metadata": {},
   "outputs": [],
   "source": [
    "df_res = pd.read_pickle('/Users/s0c02nj/Downloads/df_result_ms.pkl')"
   ]
  },
  {
   "cell_type": "code",
   "execution_count": 4,
   "metadata": {},
   "outputs": [
    {
     "data": {
      "text/html": [
       "<div>\n",
       "<style scoped>\n",
       "    .dataframe tbody tr th:only-of-type {\n",
       "        vertical-align: middle;\n",
       "    }\n",
       "\n",
       "    .dataframe tbody tr th {\n",
       "        vertical-align: top;\n",
       "    }\n",
       "\n",
       "    .dataframe thead th {\n",
       "        text-align: right;\n",
       "    }\n",
       "</style>\n",
       "<table border=\"1\" class=\"dataframe\">\n",
       "  <thead>\n",
       "    <tr style=\"text-align: right;\">\n",
       "      <th></th>\n",
       "      <th>qid</th>\n",
       "      <th>pid</th>\n",
       "      <th>query</th>\n",
       "      <th>passage</th>\n",
       "    </tr>\n",
       "  </thead>\n",
       "  <tbody>\n",
       "    <tr>\n",
       "      <th>0</th>\n",
       "      <td>188714</td>\n",
       "      <td>1000052</td>\n",
       "      <td>foods and supplements to lower blood sugar</td>\n",
       "      <td>Watch portion sizes: ■ Even healthy foods will...</td>\n",
       "    </tr>\n",
       "    <tr>\n",
       "      <th>1</th>\n",
       "      <td>1082792</td>\n",
       "      <td>1000084</td>\n",
       "      <td>what does the golgi apparatus do to the protei...</td>\n",
       "      <td>Start studying Bonding, Carbs, Proteins, Lipid...</td>\n",
       "    </tr>\n",
       "    <tr>\n",
       "      <th>2</th>\n",
       "      <td>995526</td>\n",
       "      <td>1000094</td>\n",
       "      <td>where is the federal penitentiary in ind</td>\n",
       "      <td>It takes THOUSANDS of Macy's associates to bri...</td>\n",
       "    </tr>\n",
       "    <tr>\n",
       "      <th>3</th>\n",
       "      <td>199776</td>\n",
       "      <td>1000115</td>\n",
       "      <td>health benefits of eating vegetarian</td>\n",
       "      <td>The good news is that you will discover what g...</td>\n",
       "    </tr>\n",
       "    <tr>\n",
       "      <th>4</th>\n",
       "      <td>660957</td>\n",
       "      <td>1000115</td>\n",
       "      <td>what foods are good if you have gout?</td>\n",
       "      <td>The good news is that you will discover what g...</td>\n",
       "    </tr>\n",
       "    <tr>\n",
       "      <th>...</th>\n",
       "      <td>...</td>\n",
       "      <td>...</td>\n",
       "      <td>...</td>\n",
       "      <td>...</td>\n",
       "    </tr>\n",
       "    <tr>\n",
       "      <th>6667572</th>\n",
       "      <td>959083</td>\n",
       "      <td>984571</td>\n",
       "      <td>when was niagara falls created</td>\n",
       "      <td>Quick Search for Gas Prices Find the lowest ga...</td>\n",
       "    </tr>\n",
       "    <tr>\n",
       "      <th>6667592</th>\n",
       "      <td>199776</td>\n",
       "      <td>984719</td>\n",
       "      <td>health benefits of eating vegetarian</td>\n",
       "      <td>Hemp is an excellent protein source for vegeta...</td>\n",
       "    </tr>\n",
       "    <tr>\n",
       "      <th>6668346</th>\n",
       "      <td>1099065</td>\n",
       "      <td>993530</td>\n",
       "      <td>how far deep to plant beet early wonder</td>\n",
       "      <td>Dipladenia Rio Deep Red, Dipladenia 'Rio™ Deep...</td>\n",
       "    </tr>\n",
       "    <tr>\n",
       "      <th>6668574</th>\n",
       "      <td>1084910</td>\n",
       "      <td>995866</td>\n",
       "      <td>what disease do roof rats cause</td>\n",
       "      <td>Roof Shapes, Overhangs and Materials Gables, h...</td>\n",
       "    </tr>\n",
       "    <tr>\n",
       "      <th>6668591</th>\n",
       "      <td>345453</td>\n",
       "      <td>996086</td>\n",
       "      <td>how to become a teacher assistant</td>\n",
       "      <td>Pennsylvania Physician Assistant - Medical Sal...</td>\n",
       "    </tr>\n",
       "  </tbody>\n",
       "</table>\n",
       "<p>20000 rows × 4 columns</p>\n",
       "</div>"
      ],
      "text/plain": [
       "             qid      pid                                              query  \\\n",
       "0         188714  1000052         foods and supplements to lower blood sugar   \n",
       "1        1082792  1000084  what does the golgi apparatus do to the protei...   \n",
       "2         995526  1000094           where is the federal penitentiary in ind   \n",
       "3         199776  1000115               health benefits of eating vegetarian   \n",
       "4         660957  1000115              what foods are good if you have gout?   \n",
       "...          ...      ...                                                ...   \n",
       "6667572   959083   984571                     when was niagara falls created   \n",
       "6667592   199776   984719               health benefits of eating vegetarian   \n",
       "6668346  1099065   993530            how far deep to plant beet early wonder   \n",
       "6668574  1084910   995866                    what disease do roof rats cause   \n",
       "6668591   345453   996086                  how to become a teacher assistant   \n",
       "\n",
       "                                                   passage  \n",
       "0        Watch portion sizes: ■ Even healthy foods will...  \n",
       "1        Start studying Bonding, Carbs, Proteins, Lipid...  \n",
       "2        It takes THOUSANDS of Macy's associates to bri...  \n",
       "3        The good news is that you will discover what g...  \n",
       "4        The good news is that you will discover what g...  \n",
       "...                                                    ...  \n",
       "6667572  Quick Search for Gas Prices Find the lowest ga...  \n",
       "6667592  Hemp is an excellent protein source for vegeta...  \n",
       "6668346  Dipladenia Rio Deep Red, Dipladenia 'Rio™ Deep...  \n",
       "6668574  Roof Shapes, Overhangs and Materials Gables, h...  \n",
       "6668591  Pennsylvania Physician Assistant - Medical Sal...  \n",
       "\n",
       "[20000 rows x 4 columns]"
      ]
     },
     "execution_count": 4,
     "metadata": {},
     "output_type": "execute_result"
    }
   ],
   "source": [
    "df_ques"
   ]
  },
  {
   "cell_type": "code",
   "execution_count": 5,
   "metadata": {},
   "outputs": [
    {
     "data": {
      "text/html": [
       "<div>\n",
       "<style scoped>\n",
       "    .dataframe tbody tr th:only-of-type {\n",
       "        vertical-align: middle;\n",
       "    }\n",
       "\n",
       "    .dataframe tbody tr th {\n",
       "        vertical-align: top;\n",
       "    }\n",
       "\n",
       "    .dataframe thead th {\n",
       "        text-align: right;\n",
       "    }\n",
       "</style>\n",
       "<table border=\"1\" class=\"dataframe\">\n",
       "  <thead>\n",
       "    <tr style=\"text-align: right;\">\n",
       "      <th></th>\n",
       "      <th>qid</th>\n",
       "      <th>random1</th>\n",
       "      <th>pid</th>\n",
       "      <th>random2</th>\n",
       "    </tr>\n",
       "  </thead>\n",
       "  <tbody>\n",
       "    <tr>\n",
       "      <th>492</th>\n",
       "      <td>1084910</td>\n",
       "      <td>0</td>\n",
       "      <td>7123877</td>\n",
       "      <td>1</td>\n",
       "    </tr>\n",
       "    <tr>\n",
       "      <th>666</th>\n",
       "      <td>1082792</td>\n",
       "      <td>0</td>\n",
       "      <td>4879323</td>\n",
       "      <td>1</td>\n",
       "    </tr>\n",
       "    <tr>\n",
       "      <th>1439</th>\n",
       "      <td>1019649</td>\n",
       "      <td>0</td>\n",
       "      <td>7234626</td>\n",
       "      <td>1</td>\n",
       "    </tr>\n",
       "    <tr>\n",
       "      <th>1939</th>\n",
       "      <td>1099065</td>\n",
       "      <td>0</td>\n",
       "      <td>7290134</td>\n",
       "      <td>1</td>\n",
       "    </tr>\n",
       "    <tr>\n",
       "      <th>2359</th>\n",
       "      <td>167436</td>\n",
       "      <td>0</td>\n",
       "      <td>7352415</td>\n",
       "      <td>1</td>\n",
       "    </tr>\n",
       "  </tbody>\n",
       "</table>\n",
       "</div>"
      ],
      "text/plain": [
       "          qid  random1      pid  random2\n",
       "492   1084910        0  7123877        1\n",
       "666   1082792        0  4879323        1\n",
       "1439  1019649        0  7234626        1\n",
       "1939  1099065        0  7290134        1\n",
       "2359   167436        0  7352415        1"
      ]
     },
     "execution_count": 5,
     "metadata": {},
     "output_type": "execute_result"
    }
   ],
   "source": [
    "df_res.head()"
   ]
  },
  {
   "cell_type": "code",
   "execution_count": 6,
   "metadata": {},
   "outputs": [],
   "source": [
    "from elasticsearch import helpers, Elasticsearch\n",
    "import csv\n",
    "import re\n",
    "import nltk\n",
    "from nltk.corpus import stopwords \n",
    "from nltk.tokenize import word_tokenize\n",
    "from inflection import singularize\n",
    "import matplotlib.pyplot as plt\n",
    "from scipy.spatial.distance import cosine as cs"
   ]
  },
  {
   "cell_type": "code",
   "execution_count": 7,
   "metadata": {},
   "outputs": [
    {
     "data": {
      "text/plain": [
       "{'name': 'm-c02wv1jnhtd5',\n",
       " 'cluster_name': 'elasticsearch',\n",
       " 'cluster_uuid': 'i0Q_KCKeTLGlRZzF8qt__A',\n",
       " 'version': {'number': '7.6.2',\n",
       "  'build_flavor': 'default',\n",
       "  'build_type': 'tar',\n",
       "  'build_hash': 'ef48eb35cf30adf4db14086e8aabd07ef6fb113f',\n",
       "  'build_date': '2020-03-26T06:34:37.794943Z',\n",
       "  'build_snapshot': False,\n",
       "  'lucene_version': '8.4.0',\n",
       "  'minimum_wire_compatibility_version': '6.8.0',\n",
       "  'minimum_index_compatibility_version': '6.0.0-beta1'},\n",
       " 'tagline': 'You Know, for Search'}"
      ]
     },
     "execution_count": 7,
     "metadata": {},
     "output_type": "execute_result"
    }
   ],
   "source": [
    "es = Elasticsearch([{'host': 'localhost', 'port': 9200}])\n",
    "es.info()"
   ]
  },
  {
   "cell_type": "code",
   "execution_count": 8,
   "metadata": {},
   "outputs": [],
   "source": [
    "def text_preprocessing(text):\n",
    "    text= text.lower()\n",
    "    text= re.sub(r'[^a-z]',' ',text)\n",
    "    #text= \" \".join([s for s in text.split() if len(s)>2])\n",
    "    #text= \" \".join([x for x in text.split() if x not in stopwords.words('english')])\n",
    "    #text= \" \".join([inflection.singularize(x) for x in text.split()])\n",
    "    text= text.strip()\n",
    "    return(text)"
   ]
  },
  {
   "cell_type": "code",
   "execution_count": 9,
   "metadata": {},
   "outputs": [],
   "source": [
    "tqdm.pandas()"
   ]
  },
  {
   "cell_type": "code",
   "execution_count": 10,
   "metadata": {},
   "outputs": [
    {
     "name": "stderr",
     "output_type": "stream",
     "text": [
      "100%|██████████| 20000/20000 [00:00<00:00, 32558.51it/s]\n",
      "100%|██████████| 20000/20000 [00:00<00:00, 142523.06it/s]\n"
     ]
    }
   ],
   "source": [
    "df_ques['passage'] = df_ques['passage'].progress_apply(lambda x: text_preprocessing(x))\n",
    "\n",
    "df_ques['query'] = df_ques['query'].progress_apply(lambda x: text_preprocessing(x))"
   ]
  },
  {
   "cell_type": "code",
   "execution_count": 11,
   "metadata": {},
   "outputs": [],
   "source": [
    "index='index_v1'"
   ]
  },
  {
   "cell_type": "code",
   "execution_count": 12,
   "metadata": {},
   "outputs": [],
   "source": [
    "def doc_generator(data,index):\n",
    "    df_iter= data.iterrows()\n",
    "    \n",
    "    for index,document in df_iter:\n",
    "        yield{\n",
    "            \"_index\": 'index_v1',\n",
    "            \"_type\": \"_doc\",\n",
    "            \"_id\" : f\"{index}\",\n",
    "            \"_source\": document.to_json()\n",
    "        }\n",
    "    raise StopIteration"
   ]
  },
  {
   "cell_type": "code",
   "execution_count": 13,
   "metadata": {},
   "outputs": [
    {
     "data": {
      "text/plain": [
       "0          1000052\n",
       "1          1000084\n",
       "2          1000094\n",
       "3          1000115\n",
       "4          1000115\n",
       "            ...   \n",
       "6667572     984571\n",
       "6667592     984719\n",
       "6668346     993530\n",
       "6668574     995866\n",
       "6668591     996086\n",
       "Name: pid, Length: 20000, dtype: int64"
      ]
     },
     "execution_count": 13,
     "metadata": {},
     "output_type": "execute_result"
    }
   ],
   "source": [
    "df_ques['pid']"
   ]
  },
  {
   "cell_type": "code",
   "execution_count": 14,
   "metadata": {},
   "outputs": [
    {
     "name": "stderr",
     "output_type": "stream",
     "text": [
      "20000it [00:03, 5022.29it/s]\n"
     ]
    },
    {
     "data": {
      "text/plain": [
       "{'_shards': {'total': 2, 'successful': 1, 'failed': 0}}"
      ]
     },
     "execution_count": 14,
     "metadata": {},
     "output_type": "execute_result"
    }
   ],
   "source": [
    "for success,info in tqdm(helpers.parallel_bulk(es,doc_generator(df_ques[['passage']],index))):\n",
    "    if not success:\n",
    "        print('A document failed:', info)\n",
    "es.indices.refresh(index=index)"
   ]
  },
  {
   "cell_type": "code",
   "execution_count": 67,
   "metadata": {},
   "outputs": [],
   "source": [
    "def SEARCH(text,index,field):\n",
    "    \n",
    "    res= es.search(index=index,body={\"query\":{\"match\":{field:{\"query\":text,\"operator\":\"or\",\"fuzziness\": \"0\"\n",
    "                                                            }}}},size = 100)\n",
    "    \n",
    "    return([(x.get('_source'),x.get('_score')) for x in res['hits']['hits']])"
   ]
  },
  {
   "cell_type": "code",
   "execution_count": 68,
   "metadata": {},
   "outputs": [],
   "source": [
    "index='index_v1'\n",
    "field = 'passage'"
   ]
  },
  {
   "cell_type": "code",
   "execution_count": 69,
   "metadata": {},
   "outputs": [],
   "source": [
    "#SEARCH('corporation',index,field)\n",
    "question_un = list(df_ques['query'].unique())\n",
    "\n",
    "df_new = pd.DataFrame()\n",
    "df_new['question'] = question_un"
   ]
  },
  {
   "cell_type": "code",
   "execution_count": 70,
   "metadata": {},
   "outputs": [],
   "source": [
    "def query_generator(df):\n",
    "    while True:\n",
    "        yield (df_new['question'])"
   ]
  },
  {
   "cell_type": "code",
   "execution_count": 71,
   "metadata": {},
   "outputs": [
    {
     "data": {
      "text/plain": [
       "<generator object query_generator at 0x108b7aeb8>"
      ]
     },
     "execution_count": 71,
     "metadata": {},
     "output_type": "execute_result"
    }
   ],
   "source": [
    "query_generator(df_new[['question']])"
   ]
  },
  {
   "cell_type": "code",
   "execution_count": 72,
   "metadata": {},
   "outputs": [],
   "source": [
    "import concurrent.futures"
   ]
  },
  {
   "cell_type": "code",
   "execution_count": 73,
   "metadata": {},
   "outputs": [
    {
     "name": "stderr",
     "output_type": "stream",
     "text": [
      "100%|██████████| 20/20 [00:00<00:00, 488.69it/s]"
     ]
    },
    {
     "name": "stdout",
     "output_type": "stream",
     "text": [
      "CPU times: user 30.5 ms, sys: 10.2 ms, total: 40.7 ms\n",
      "Wall time: 54.9 ms\n"
     ]
    },
    {
     "name": "stderr",
     "output_type": "stream",
     "text": [
      "\n"
     ]
    }
   ],
   "source": [
    "%%time\n",
    "\n",
    "queries=[]\n",
    "with concurrent.futures.ThreadPoolExecutor() as executor:\n",
    "    queries={executor.submit(SEARCH, query,index,'passage'): query for query in tqdm(df_new.question)}\n"
   ]
  },
  {
   "cell_type": "code",
   "execution_count": 74,
   "metadata": {},
   "outputs": [
    {
     "name": "stderr",
     "output_type": "stream",
     "text": [
      "100%|██████████| 20/20 [00:00<00:00, 68255.56it/s]\n"
     ]
    }
   ],
   "source": [
    "out = [x.result() for x in tqdm(queries)]"
   ]
  },
  {
   "cell_type": "code",
   "execution_count": 75,
   "metadata": {},
   "outputs": [
    {
     "data": {
      "text/plain": [
       "({'passage': 'in people with type   diabetes  supplements made from one type of broiled prickly pear cactus stem may lower blood sugar levels  early research shows that the supplements may lower blood sugar by     to     in some people only one species    opuntia streptacantha    had this effect n people with type   diabetes  supplements made from one type of broiled prickly pear cactus stem may lower blood sugar levels  early research shows that the supplements may lower blood sugar by     to     in some people'},\n",
       " 20.598402)"
      ]
     },
     "execution_count": 75,
     "metadata": {},
     "output_type": "execute_result"
    }
   ],
   "source": [
    "len(out)\n",
    "out[0][1]"
   ]
  },
  {
   "cell_type": "code",
   "execution_count": 76,
   "metadata": {},
   "outputs": [],
   "source": [
    "def get_std_ref_match(data_current):\n",
    "    \n",
    "    #UPC to match\n",
    "    questions = []\n",
    "    \n",
    "    #Original\n",
    "    answers = []\n",
    "    \n",
    "    #Score\n",
    "    score_bm25 = []\n",
    "    \n",
    "    #qid\n",
    "    #qs_id = []\n",
    "    \n",
    "    #pid\n",
    "    #ps_id = []\n",
    "    \n",
    "        \n",
    "    \n",
    "    #Reindex\n",
    "    data_current.index = range(0,len(data_current))\n",
    "    \n",
    "    \n",
    "    for i in tqdm(range(0,len(data_current))):\n",
    "\n",
    "            #indexing\n",
    "            #data_current.index = range(0,len(data_current))\n",
    "            \n",
    "            #question\n",
    "            qs = data_current['question'].iloc[i]\n",
    "            \n",
    "           \n",
    "            #Getting the search result\n",
    "            temp_out = out[i]\n",
    "            val = len(temp_out)\n",
    "\n",
    "            if val ==0:\n",
    "                \n",
    "                #questions\n",
    "                questions.append(qs)\n",
    "                \n",
    "\n",
    "                #answer\n",
    "                answers.append('NA')\n",
    "                \n",
    "                #qs_id ps_9d\n",
    "                #qs_id.append('NA')\n",
    "                #ps_id.append('NA')\n",
    "                \n",
    "                #Score\n",
    "                score_bm25.append('NA')\n",
    "                \n",
    "             \n",
    "            else:\n",
    "                for j in np.arange(val):\n",
    "\n",
    "                    #clean_ingred\n",
    "                    questions.append(qs)\n",
    "                \n",
    "\n",
    "                    #Creating temp\n",
    "                    temp2 = temp_out[j]\n",
    "\n",
    "                    #Separting the tuple\n",
    "                    doc_txt = temp2[0]['passage']\n",
    "                    #qs_i = temp2[0]['qid']\n",
    "                    #ps_i = temp2[0]['pid']\n",
    "                    \n",
    "                    #query,passage ids\n",
    "                    #qs_id.append(qs_i)\n",
    "                    #ps_id.append(ps_i)\n",
    "\n",
    "                    #bm25\n",
    "                    doc_scr = temp2[1]\n",
    "\n",
    "\n",
    "                    #matched answers\n",
    "                    answers.append(doc_txt)\n",
    "                    \n",
    "\n",
    "                    #Score\n",
    "                    score_bm25.append(doc_scr)\n",
    "                    \n",
    "                    \n",
    "                    \n",
    "    \n",
    "\n",
    "    #Converting to a Dataframe   \n",
    "    df_out = pd.DataFrame()\n",
    "    \n",
    "    #df_out\n",
    "    #df_out['pid'] = ps_id\n",
    "    df_out['questions'] = questions\n",
    "    df_out['passage'] = answers\n",
    "    df_out['score'] = score_bm25\n",
    "\n",
    "    return df_out\n",
    "\n"
   ]
  },
  {
   "cell_type": "code",
   "execution_count": 77,
   "metadata": {},
   "outputs": [
    {
     "name": "stderr",
     "output_type": "stream",
     "text": [
      "100%|██████████| 20/20 [00:00<00:00, 5334.91it/s]\n"
     ]
    }
   ],
   "source": [
    "df_out = get_std_ref_match(df_new)"
   ]
  },
  {
   "cell_type": "code",
   "execution_count": 78,
   "metadata": {},
   "outputs": [
    {
     "data": {
      "text/plain": [
       "(2000, 3)"
      ]
     },
     "execution_count": 78,
     "metadata": {},
     "output_type": "execute_result"
    }
   ],
   "source": [
    "df_out.shape"
   ]
  },
  {
   "cell_type": "code",
   "execution_count": 79,
   "metadata": {},
   "outputs": [],
   "source": [
    "df_ques_id = df_ques[['qid','query']]\n",
    "\n",
    "df_ques_id = df_ques_id.drop_duplicates()"
   ]
  },
  {
   "cell_type": "code",
   "execution_count": 80,
   "metadata": {},
   "outputs": [],
   "source": [
    "df_pass_id = df_ques[['pid','passage']]\n",
    "\n",
    "df_pass_id = df_pass_id.drop_duplicates()"
   ]
  },
  {
   "cell_type": "code",
   "execution_count": 81,
   "metadata": {},
   "outputs": [
    {
     "data": {
      "text/plain": [
       "(20, 2)"
      ]
     },
     "execution_count": 81,
     "metadata": {},
     "output_type": "execute_result"
    }
   ],
   "source": [
    "df_ques_id.shape"
   ]
  },
  {
   "cell_type": "code",
   "execution_count": 82,
   "metadata": {},
   "outputs": [
    {
     "data": {
      "text/html": [
       "<div>\n",
       "<style scoped>\n",
       "    .dataframe tbody tr th:only-of-type {\n",
       "        vertical-align: middle;\n",
       "    }\n",
       "\n",
       "    .dataframe tbody tr th {\n",
       "        vertical-align: top;\n",
       "    }\n",
       "\n",
       "    .dataframe thead th {\n",
       "        text-align: right;\n",
       "    }\n",
       "</style>\n",
       "<table border=\"1\" class=\"dataframe\">\n",
       "  <thead>\n",
       "    <tr style=\"text-align: right;\">\n",
       "      <th></th>\n",
       "      <th>pid</th>\n",
       "      <th>passage</th>\n",
       "    </tr>\n",
       "  </thead>\n",
       "  <tbody>\n",
       "    <tr>\n",
       "      <th>0</th>\n",
       "      <td>1000052</td>\n",
       "      <td>watch portion sizes    even healthy foods will...</td>\n",
       "    </tr>\n",
       "    <tr>\n",
       "      <th>1</th>\n",
       "      <td>1000084</td>\n",
       "      <td>start studying bonding  carbs  proteins  lipid...</td>\n",
       "    </tr>\n",
       "    <tr>\n",
       "      <th>2</th>\n",
       "      <td>1000094</td>\n",
       "      <td>it takes thousands of macy s associates to bri...</td>\n",
       "    </tr>\n",
       "    <tr>\n",
       "      <th>3</th>\n",
       "      <td>1000115</td>\n",
       "      <td>the good news is that you will discover what g...</td>\n",
       "    </tr>\n",
       "    <tr>\n",
       "      <th>5</th>\n",
       "      <td>1000130</td>\n",
       "      <td>the pancreas secretes pancreatic enzyme which ...</td>\n",
       "    </tr>\n",
       "  </tbody>\n",
       "</table>\n",
       "</div>"
      ],
      "text/plain": [
       "       pid                                            passage\n",
       "0  1000052  watch portion sizes    even healthy foods will...\n",
       "1  1000084  start studying bonding  carbs  proteins  lipid...\n",
       "2  1000094  it takes thousands of macy s associates to bri...\n",
       "3  1000115  the good news is that you will discover what g...\n",
       "5  1000130  the pancreas secretes pancreatic enzyme which ..."
      ]
     },
     "execution_count": 82,
     "metadata": {},
     "output_type": "execute_result"
    }
   ],
   "source": [
    "df_pass_id.head()"
   ]
  },
  {
   "cell_type": "code",
   "execution_count": 83,
   "metadata": {},
   "outputs": [],
   "source": [
    "df_out1 = pd.merge(left= df_out ,\n",
    "                      right= df_ques_id,\n",
    "                      left_on= 'questions',\n",
    "                      right_on = 'query',\n",
    "                      how='left')"
   ]
  },
  {
   "cell_type": "code",
   "execution_count": 84,
   "metadata": {},
   "outputs": [],
   "source": [
    "df_out1 = df_out1.drop(['query'],axis=1)"
   ]
  },
  {
   "cell_type": "code",
   "execution_count": 85,
   "metadata": {},
   "outputs": [],
   "source": [
    "df_out2 = pd.merge(left= df_out1 ,\n",
    "                      right= df_pass_id,\n",
    "                      on= 'passage',\n",
    "                      how='left')"
   ]
  },
  {
   "cell_type": "code",
   "execution_count": 86,
   "metadata": {},
   "outputs": [],
   "source": [
    "df_out2[['questions','passage','qid','pid']].to_pickle('/Users/s0c02nj/Downloads/df_ques_bm25.pkl')"
   ]
  },
  {
   "cell_type": "code",
   "execution_count": 87,
   "metadata": {},
   "outputs": [
    {
     "data": {
      "text/html": [
       "<div>\n",
       "<style scoped>\n",
       "    .dataframe tbody tr th:only-of-type {\n",
       "        vertical-align: middle;\n",
       "    }\n",
       "\n",
       "    .dataframe tbody tr th {\n",
       "        vertical-align: top;\n",
       "    }\n",
       "\n",
       "    .dataframe thead th {\n",
       "        text-align: right;\n",
       "    }\n",
       "</style>\n",
       "<table border=\"1\" class=\"dataframe\">\n",
       "  <thead>\n",
       "    <tr style=\"text-align: right;\">\n",
       "      <th></th>\n",
       "      <th>questions</th>\n",
       "      <th>passage</th>\n",
       "      <th>score</th>\n",
       "      <th>qid</th>\n",
       "      <th>pid</th>\n",
       "    </tr>\n",
       "  </thead>\n",
       "  <tbody>\n",
       "    <tr>\n",
       "      <th>0</th>\n",
       "      <td>foods and supplements to lower blood sugar</td>\n",
       "      <td>easy tips to reduce insulin and lose belly fat...</td>\n",
       "      <td>20.708996</td>\n",
       "      <td>188714</td>\n",
       "      <td>3573129</td>\n",
       "    </tr>\n",
       "    <tr>\n",
       "      <th>1</th>\n",
       "      <td>foods and supplements to lower blood sugar</td>\n",
       "      <td>in people with type   diabetes  supplements ma...</td>\n",
       "      <td>20.598402</td>\n",
       "      <td>188714</td>\n",
       "      <td>4865944</td>\n",
       "    </tr>\n",
       "    <tr>\n",
       "      <th>2</th>\n",
       "      <td>foods and supplements to lower blood sugar</td>\n",
       "      <td>ohio state university  researchers saw insulin...</td>\n",
       "      <td>20.147104</td>\n",
       "      <td>188714</td>\n",
       "      <td>4321742</td>\n",
       "    </tr>\n",
       "    <tr>\n",
       "      <th>3</th>\n",
       "      <td>foods and supplements to lower blood sugar</td>\n",
       "      <td>folate may cause low blood pressure  caution i...</td>\n",
       "      <td>20.016598</td>\n",
       "      <td>188714</td>\n",
       "      <td>7469016</td>\n",
       "    </tr>\n",
       "    <tr>\n",
       "      <th>4</th>\n",
       "      <td>foods and supplements to lower blood sugar</td>\n",
       "      <td>foods that lower blood sugar for people with d...</td>\n",
       "      <td>19.844475</td>\n",
       "      <td>188714</td>\n",
       "      <td>5439925</td>\n",
       "    </tr>\n",
       "    <tr>\n",
       "      <th>...</th>\n",
       "      <td>...</td>\n",
       "      <td>...</td>\n",
       "      <td>...</td>\n",
       "      <td>...</td>\n",
       "      <td>...</td>\n",
       "    </tr>\n",
       "    <tr>\n",
       "      <th>2001</th>\n",
       "      <td>does ichigo lose his powers</td>\n",
       "      <td>at the same time  the number    on ichigo s be...</td>\n",
       "      <td>10.695086</td>\n",
       "      <td>167436</td>\n",
       "      <td>644061</td>\n",
       "    </tr>\n",
       "    <tr>\n",
       "      <th>2002</th>\n",
       "      <td>does ichigo lose his powers</td>\n",
       "      <td>superman s powers and abilities  the powers of...</td>\n",
       "      <td>10.660635</td>\n",
       "      <td>167436</td>\n",
       "      <td>3792806</td>\n",
       "    </tr>\n",
       "    <tr>\n",
       "      <th>2003</th>\n",
       "      <td>does ichigo lose his powers</td>\n",
       "      <td>ichigo kurosaki         kurosaki ichigo  is a ...</td>\n",
       "      <td>10.643302</td>\n",
       "      <td>167436</td>\n",
       "      <td>2939839</td>\n",
       "    </tr>\n",
       "    <tr>\n",
       "      <th>2004</th>\n",
       "      <td>does ichigo lose his powers</td>\n",
       "      <td>in the third austin powers film  goldmember  d...</td>\n",
       "      <td>10.588695</td>\n",
       "      <td>167436</td>\n",
       "      <td>7822002</td>\n",
       "    </tr>\n",
       "    <tr>\n",
       "      <th>2005</th>\n",
       "      <td>does ichigo lose his powers</td>\n",
       "      <td>now this episode was seriously omg  it was ama...</td>\n",
       "      <td>10.583592</td>\n",
       "      <td>167436</td>\n",
       "      <td>7252068</td>\n",
       "    </tr>\n",
       "  </tbody>\n",
       "</table>\n",
       "<p>2006 rows × 5 columns</p>\n",
       "</div>"
      ],
      "text/plain": [
       "                                       questions  \\\n",
       "0     foods and supplements to lower blood sugar   \n",
       "1     foods and supplements to lower blood sugar   \n",
       "2     foods and supplements to lower blood sugar   \n",
       "3     foods and supplements to lower blood sugar   \n",
       "4     foods and supplements to lower blood sugar   \n",
       "...                                          ...   \n",
       "2001                 does ichigo lose his powers   \n",
       "2002                 does ichigo lose his powers   \n",
       "2003                 does ichigo lose his powers   \n",
       "2004                 does ichigo lose his powers   \n",
       "2005                 does ichigo lose his powers   \n",
       "\n",
       "                                                passage      score     qid  \\\n",
       "0     easy tips to reduce insulin and lose belly fat...  20.708996  188714   \n",
       "1     in people with type   diabetes  supplements ma...  20.598402  188714   \n",
       "2     ohio state university  researchers saw insulin...  20.147104  188714   \n",
       "3     folate may cause low blood pressure  caution i...  20.016598  188714   \n",
       "4     foods that lower blood sugar for people with d...  19.844475  188714   \n",
       "...                                                 ...        ...     ...   \n",
       "2001  at the same time  the number    on ichigo s be...  10.695086  167436   \n",
       "2002  superman s powers and abilities  the powers of...  10.660635  167436   \n",
       "2003  ichigo kurosaki         kurosaki ichigo  is a ...  10.643302  167436   \n",
       "2004  in the third austin powers film  goldmember  d...  10.588695  167436   \n",
       "2005  now this episode was seriously omg  it was ama...  10.583592  167436   \n",
       "\n",
       "          pid  \n",
       "0     3573129  \n",
       "1     4865944  \n",
       "2     4321742  \n",
       "3     7469016  \n",
       "4     5439925  \n",
       "...       ...  \n",
       "2001   644061  \n",
       "2002  3792806  \n",
       "2003  2939839  \n",
       "2004  7822002  \n",
       "2005  7252068  \n",
       "\n",
       "[2006 rows x 5 columns]"
      ]
     },
     "execution_count": 87,
     "metadata": {},
     "output_type": "execute_result"
    }
   ],
   "source": [
    "df_out2"
   ]
  },
  {
   "cell_type": "code",
   "execution_count": 34,
   "metadata": {},
   "outputs": [],
   "source": [
    "df_pred = df_out2.sort_values(by=['qid','score'],ascending = False)"
   ]
  },
  {
   "cell_type": "code",
   "execution_count": 35,
   "metadata": {},
   "outputs": [],
   "source": [
    "df_pred['indices'] = range(0,len(df_pred))\n",
    "df_pred['rank'] = (df_pred.groupby('qid')['indices'].rank(ascending=True))\n",
    "df_pred = df_pred.drop(['indices'],axis=1)"
   ]
  },
  {
   "cell_type": "code",
   "execution_count": 36,
   "metadata": {},
   "outputs": [],
   "source": [
    "df_final = df_pred.groupby('qid').head(10).reset_index(drop=True)"
   ]
  },
  {
   "cell_type": "code",
   "execution_count": 37,
   "metadata": {},
   "outputs": [],
   "source": [
    "df_final_v1 = df_final[['qid','pid','rank']]"
   ]
  },
  {
   "cell_type": "code",
   "execution_count": 42,
   "metadata": {},
   "outputs": [],
   "source": [
    "MaxMRRRank = 10\n",
    "def compute_metrics(qids_to_relevant_passageids, qids_to_ranked_candidate_passages):\n",
    "    \"\"\"Compute MRR metric\n",
    "    Args:    \n",
    "    p_qids_to_relevant_passageids (dict): dictionary of query-passage mapping\n",
    "        Dict as read in with load_reference or load_reference_from_stream\n",
    "    p_qids_to_ranked_candidate_passages (dict): dictionary of query-passage candidates\n",
    "    Returns:\n",
    "        dict: dictionary of metrics {'MRR': <MRR Score>}\n",
    "    \"\"\"\n",
    "    all_scores = {}\n",
    "    MRR = 0\n",
    "    qids_with_relevant_passages = 0\n",
    "    ranking = []\n",
    "    list1=list(set(qids_to_ranked_candidate_passages['qid'].to_list()))\n",
    "    #print(list1)\n",
    "    list2=qids_to_relevant_passageids['qid'].to_list()\n",
    "    for qid in list1:\n",
    "        if qid in list2:\n",
    "            ranking.append(0)\n",
    "            target_pid = list(qids_to_relevant_passageids[qids_to_relevant_passageids['qid']==qid]['pid'])\n",
    "            candidate_pid = list(qids_to_ranked_candidate_passages[qids_to_ranked_candidate_passages['qid']==qid]['pid'])\n",
    "            for i in range(0,MaxMRRRank):\n",
    "                if candidate_pid[i] in target_pid:\n",
    "                    MRR += 1/(i + 1)\n",
    "                    #print(MRR)\n",
    "#                     ranking.pop()\n",
    "#                     ranking.append(i+1)\n",
    "                    break\n",
    "#     if len(ranking) == 0:\n",
    "#         raise IOError(\"No matching QIDs found. Are you sure you are scoring the evaluation set?\")\n",
    "# #     print(MRR)\n",
    "#     print(len(qids_to_relevant_passageids))\n",
    "    MRR = MRR/len(list1)\n",
    "    all_scores['MRR @10'] = MRR\n",
    "    all_scores['QueriesRanked'] = qids_to_ranked_candidate_passages['qid'].nunique()\n",
    "    return all_scores"
   ]
  },
  {
   "cell_type": "code",
   "execution_count": 43,
   "metadata": {},
   "outputs": [],
   "source": [
    "mrr = compute_metrics(df_res, df_final_v1)"
   ]
  },
  {
   "cell_type": "code",
   "execution_count": 44,
   "metadata": {},
   "outputs": [
    {
     "data": {
      "text/plain": [
       "{'MRR @10': 0.09791666666666667, 'QueriesRanked': 20}"
      ]
     },
     "execution_count": 44,
     "metadata": {},
     "output_type": "execute_result"
    }
   ],
   "source": [
    "mrr"
   ]
  },
  {
   "cell_type": "code",
   "execution_count": null,
   "metadata": {},
   "outputs": [],
   "source": []
  },
  {
   "cell_type": "code",
   "execution_count": null,
   "metadata": {},
   "outputs": [],
   "source": []
  },
  {
   "cell_type": "code",
   "execution_count": null,
   "metadata": {},
   "outputs": [],
   "source": []
  },
  {
   "cell_type": "code",
   "execution_count": null,
   "metadata": {},
   "outputs": [],
   "source": []
  },
  {
   "cell_type": "code",
   "execution_count": null,
   "metadata": {},
   "outputs": [],
   "source": []
  }
 ],
 "metadata": {
  "kernelspec": {
   "display_name": "Python 3",
   "language": "python",
   "name": "python3"
  },
  "language_info": {
   "codemirror_mode": {
    "name": "ipython",
    "version": 3
   },
   "file_extension": ".py",
   "mimetype": "text/x-python",
   "name": "python",
   "nbconvert_exporter": "python",
   "pygments_lexer": "ipython3",
   "version": "3.8.8"
  }
 },
 "nbformat": 4,
 "nbformat_minor": 2
}

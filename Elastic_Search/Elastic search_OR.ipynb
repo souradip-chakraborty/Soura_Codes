{
 "cells": [
  {
   "cell_type": "code",
   "execution_count": 1,
   "metadata": {},
   "outputs": [],
   "source": [
    "import numpy as np\n",
    "from elasticsearch import helpers, Elasticsearch\n",
    "import csv\n",
    "import pandas as pd\n",
    "import os\n",
    "import time\n",
    "from tqdm import tqdm\n",
    "from spellchecker import SpellChecker"
   ]
  },
  {
   "cell_type": "code",
   "execution_count": 2,
   "metadata": {},
   "outputs": [
    {
     "data": {
      "text/plain": [
       "{'name': 'm-c02wv1jnhtd5',\n",
       " 'cluster_name': 'elasticsearch',\n",
       " 'cluster_uuid': 'fpFxjw6cRjyGQOMl6ThLdw',\n",
       " 'version': {'number': '7.5.0',\n",
       "  'build_flavor': 'default',\n",
       "  'build_type': 'tar',\n",
       "  'build_hash': 'e9ccaed468e2fac2275a3761849cbee64b39519f',\n",
       "  'build_date': '2019-11-26T01:06:52.518245Z',\n",
       "  'build_snapshot': False,\n",
       "  'lucene_version': '8.3.0',\n",
       "  'minimum_wire_compatibility_version': '6.8.0',\n",
       "  'minimum_index_compatibility_version': '6.0.0-beta1'},\n",
       " 'tagline': 'You Know, for Search'}"
      ]
     },
     "execution_count": 2,
     "metadata": {},
     "output_type": "execute_result"
    }
   ],
   "source": [
    "es = Elasticsearch([{'host': 'localhost', 'port': 9200}])\n",
    "es.info()\n"
   ]
  },
  {
   "cell_type": "code",
   "execution_count": 3,
   "metadata": {},
   "outputs": [],
   "source": [
    "df_ingred = pd.read_pickle('/Users/s0c02nj/Downloads/df_ingred')"
   ]
  },
  {
   "cell_type": "code",
   "execution_count": 4,
   "metadata": {},
   "outputs": [
    {
     "data": {
      "text/plain": [
       "(31033, 2)"
      ]
     },
     "execution_count": 4,
     "metadata": {},
     "output_type": "execute_result"
    }
   ],
   "source": [
    "df_ingred.shape"
   ]
  },
  {
   "cell_type": "code",
   "execution_count": 6,
   "metadata": {},
   "outputs": [],
   "source": [
    "#df_ingred_gv = pd.read_pickle('/Users/s0c02nj/Desktop/Item_search_Std_Ref/great_value_and')"
   ]
  },
  {
   "cell_type": "code",
   "execution_count": null,
   "metadata": {},
   "outputs": [],
   "source": [
    "# ingred_gv = list(set(df_ingred_gv['Ingredients_cln']))\n",
    "# ingred_gv = list(filter(None, ingred_gv))"
   ]
  },
  {
   "cell_type": "code",
   "execution_count": null,
   "metadata": {},
   "outputs": [],
   "source": [
    "#df_ingred_non_gv = pd.read_pickle('/Users/s0c02nj/Desktop/Item_search_Std_Ref/non_great_value_and')"
   ]
  },
  {
   "cell_type": "code",
   "execution_count": null,
   "metadata": {},
   "outputs": [],
   "source": [
    "# ingred_non_gv = list(set(df_ingred_non_gv['Ingredients_cln']))\n",
    "# ingred_non_gv = list(filter(None, ingred_non_gv))"
   ]
  },
  {
   "cell_type": "code",
   "execution_count": null,
   "metadata": {},
   "outputs": [],
   "source": [
    "#ingred_total_rem = ingred_gv + ingred_non_gv"
   ]
  },
  {
   "cell_type": "code",
   "execution_count": null,
   "metadata": {},
   "outputs": [],
   "source": [
    "#df_ingred = df_ingred[~df_ingred['Ingredients_cln'].isin(ingred_total_rem)]"
   ]
  },
  {
   "cell_type": "code",
   "execution_count": null,
   "metadata": {},
   "outputs": [],
   "source": [
    "#df_ingred.shape"
   ]
  },
  {
   "cell_type": "code",
   "execution_count": null,
   "metadata": {},
   "outputs": [],
   "source": []
  },
  {
   "cell_type": "code",
   "execution_count": 5,
   "metadata": {},
   "outputs": [],
   "source": [
    "data_df = pd.read_pickle('/Users/s0c02nj/Downloads/data_df')"
   ]
  },
  {
   "cell_type": "code",
   "execution_count": null,
   "metadata": {},
   "outputs": [],
   "source": [
    "index='std_ref'"
   ]
  },
  {
   "cell_type": "code",
   "execution_count": null,
   "metadata": {},
   "outputs": [],
   "source": [
    "document = data_df[['upc_nbr','qarth_product_name','signing_desc']]"
   ]
  },
  {
   "cell_type": "code",
   "execution_count": null,
   "metadata": {},
   "outputs": [],
   "source": [
    "def doc_generator(data,index):\n",
    "    df_iter=data.iterrows()\n",
    "    for index,document in df_iter:\n",
    "        yield{\n",
    "            \"_index\": 'std_ref',\n",
    "           \"_type\": \"_doc\",\n",
    "            \"_id\" : f\"{index}\",\n",
    "            \"_source\": document.to_json()\n",
    "        }\n",
    "    raise StopIteration\n",
    "    \n",
    "for success,info in tqdm(helpers.parallel_bulk(es,doc_generator(document,index))):\n",
    "    if not success:\n",
    "        print('A document failed:', info)\n",
    "es.indices.refresh(index=index)"
   ]
  },
  {
   "cell_type": "code",
   "execution_count": null,
   "metadata": {},
   "outputs": [],
   "source": [
    "def SEARCH(text,index,field):\n",
    "    res=es.search(index=index,body={\"query\":{\"match\":{field:{\"query\":text,\"operator\":\"or\",\"fuzziness\": \"0\"}}}},request_timeout=30)\n",
    "    return([(x.get('_source'),x.get('_score')) for x in res['hits']['hits']])\n",
    "\n"
   ]
  },
  {
   "cell_type": "code",
   "execution_count": null,
   "metadata": {},
   "outputs": [],
   "source": [
    "def query_generator(df):\n",
    "    while True:\n",
    "        yield (df['Ingredients_cln'])"
   ]
  },
  {
   "cell_type": "code",
   "execution_count": null,
   "metadata": {},
   "outputs": [],
   "source": [
    "query_generator(df_ingred)"
   ]
  },
  {
   "cell_type": "code",
   "execution_count": null,
   "metadata": {},
   "outputs": [],
   "source": [
    "import concurrent.futures"
   ]
  },
  {
   "cell_type": "code",
   "execution_count": null,
   "metadata": {},
   "outputs": [],
   "source": [
    "start = time.time()\n",
    "queries=[]\n",
    "with concurrent.futures.ThreadPoolExecutor() as executor:\n",
    "    queries={executor.submit(SEARCH, query,index,'qarth_product_name'): query for query in df_ingred.Ingredients_cln}\n",
    "print(time.time()-start)\n",
    "\n"
   ]
  },
  {
   "cell_type": "code",
   "execution_count": null,
   "metadata": {},
   "outputs": [],
   "source": [
    "#queries"
   ]
  },
  {
   "cell_type": "code",
   "execution_count": null,
   "metadata": {},
   "outputs": [],
   "source": [
    "out = [x.result() for x in queries]"
   ]
  },
  {
   "cell_type": "code",
   "execution_count": null,
   "metadata": {},
   "outputs": [],
   "source": [
    "len(out)"
   ]
  },
  {
   "cell_type": "code",
   "execution_count": null,
   "metadata": {},
   "outputs": [],
   "source": [
    "df_ingred.shape"
   ]
  },
  {
   "cell_type": "code",
   "execution_count": null,
   "metadata": {},
   "outputs": [],
   "source": [
    "def get_std_ref_match(data_current):\n",
    "    \n",
    "    #UPC to match\n",
    "    ingred_to_match = []\n",
    "    #Original\n",
    "    ingred_org = []\n",
    "    #Matched UPC\n",
    "    upc_matched = []\n",
    "    #Qarth Desc\n",
    "    qarth_desc = []\n",
    "    #Signing Desc\n",
    "    sign_desc = []\n",
    "    #Score\n",
    "    score_qarth = []\n",
    "    \n",
    "    #Reindex\n",
    "    data_current.index = range(0,len(data_current))\n",
    "    \n",
    "    \n",
    "    for i in tqdm(range(0,len(data_current))):\n",
    "\n",
    "            #indexing\n",
    "            #data_current.index = range(0,len(data_current))\n",
    "\n",
    "            word = data_current['Ingredients_cln'].iloc[i]\n",
    "            ingred = data_current['Ingredients'].iloc[i]\n",
    "\n",
    "            #Getting the search result\n",
    "            temp_qarth = out[i]\n",
    "            val = len(temp_qarth)\n",
    "\n",
    "            if val ==0:\n",
    "                #clean_ingred\n",
    "                ingred_to_match.append(word)\n",
    "\n",
    "                #org_ingred\n",
    "                ingred_org.append(ingred)\n",
    "\n",
    "                #Matched UPC of top3 WM_SR items\n",
    "                upc_matched.append(0)\n",
    "\n",
    "                #Signing desc of the matched\n",
    "                sign_desc.append('NA')\n",
    "\n",
    "                #Qarth_product_name of the matched\n",
    "                qarth_desc.append('NA')\n",
    "\n",
    "                #Score\n",
    "                score_qarth.append('NA')\n",
    "\n",
    "            else:\n",
    "                for j in np.arange(val):\n",
    "\n",
    "                    #clean_ingred\n",
    "                    ingred_to_match.append(word)\n",
    "\n",
    "                    #org_ingred\n",
    "                    ingred_org.append(ingred)\n",
    "\n",
    "                    #Creating temp\n",
    "                    temp2 = temp_qarth[j]\n",
    "\n",
    "                    #Separting the tiple\n",
    "                    doc_txt = temp2[0]\n",
    "                    doc_scr = temp2[1]\n",
    "\n",
    "\n",
    "                    #Matched UPC of top3 WM_SR items\n",
    "                    upc_matched.append(doc_txt['upc_nbr'])\n",
    "\n",
    "                    #Signing desc of the matched\n",
    "                    sign_desc.append(doc_txt['signing_desc'])\n",
    "\n",
    "                    #Qarth_product_name of the matched\n",
    "                    qarth_desc.append(doc_txt['qarth_product_name'])\n",
    "\n",
    "                    #Score\n",
    "                    score_qarth.append(doc_scr)\n",
    "\n",
    "\n",
    "    #Converting to a Dataframe   \n",
    "    df_result = pd.DataFrame()\n",
    "    df_result['Ingredients_cln'] = ingred_to_match\n",
    "    df_result['Ingredients_org'] = ingred_org\n",
    "    df_result['UPC_match'] = upc_matched\n",
    "    df_result['Signing_Desc_Match'] = sign_desc\n",
    "    df_result['Qarth_Desc_Match'] = qarth_desc\n",
    "    df_result['list_score_qarth'] = score_qarth\n",
    "\n",
    "    return df_result\n",
    "\n"
   ]
  },
  {
   "cell_type": "code",
   "execution_count": null,
   "metadata": {},
   "outputs": [],
   "source": [
    "df_result_or = get_std_ref_match(df_ingred)"
   ]
  },
  {
   "cell_type": "code",
   "execution_count": null,
   "metadata": {},
   "outputs": [],
   "source": [
    "df_result_or.isna().sum()"
   ]
  },
  {
   "cell_type": "code",
   "execution_count": null,
   "metadata": {},
   "outputs": [],
   "source": [
    "df_result_or[df_result_or['UPC_match'] != 0]['Ingredients_cln'].unique().shape"
   ]
  },
  {
   "cell_type": "code",
   "execution_count": null,
   "metadata": {},
   "outputs": [],
   "source": [
    "df_ingred['Ingredients_cln'].unique().shape"
   ]
  },
  {
   "cell_type": "code",
   "execution_count": null,
   "metadata": {},
   "outputs": [],
   "source": [
    "df_result_or.head()"
   ]
  },
  {
   "cell_type": "code",
   "execution_count": null,
   "metadata": {},
   "outputs": [],
   "source": [
    "df_result_or = df_result_or[df_result_or['UPC_match'] != 0]"
   ]
  },
  {
   "cell_type": "code",
   "execution_count": null,
   "metadata": {},
   "outputs": [],
   "source": [
    "df_result_or.to_csv('/Users/s0c02nj/Desktop/Item_search_Std_Ref/result_or.csv',index = False)"
   ]
  },
  {
   "cell_type": "code",
   "execution_count": null,
   "metadata": {},
   "outputs": [],
   "source": [
    "df_result_or.to_pickle('/Users/s0c02nj/Desktop/Item_search_Std_Ref/result_or')"
   ]
  },
  {
   "cell_type": "code",
   "execution_count": null,
   "metadata": {},
   "outputs": [],
   "source": []
  },
  {
   "cell_type": "code",
   "execution_count": null,
   "metadata": {},
   "outputs": [],
   "source": []
  }
 ],
 "metadata": {
  "kernelspec": {
   "display_name": "Python 3",
   "language": "python",
   "name": "python3"
  },
  "language_info": {
   "codemirror_mode": {
    "name": "ipython",
    "version": 3
   },
   "file_extension": ".py",
   "mimetype": "text/x-python",
   "name": "python",
   "nbconvert_exporter": "python",
   "pygments_lexer": "ipython3",
   "version": "3.6.8"
  }
 },
 "nbformat": 4,
 "nbformat_minor": 2
}

{
 "cells": [
  {
   "cell_type": "markdown",
   "metadata": {},
   "source": [
    "#### Document Re-ranking"
   ]
  },
  {
   "cell_type": "code",
   "execution_count": 60,
   "metadata": {},
   "outputs": [],
   "source": [
    "import numpy as np\n",
    "import pandas as pd\n",
    "from tqdm import tqdm\n",
    "from scipy.spatial.distance import cosine as cs\n",
    "from numpy.linalg import norm"
   ]
  },
  {
   "cell_type": "markdown",
   "metadata": {},
   "source": [
    "size ----> Dimension of the model embedding "
   ]
  },
  {
   "cell_type": "code",
   "execution_count": 22,
   "metadata": {},
   "outputs": [],
   "source": [
    "def sent_vectorizer(sent, model ,size):\n",
    "    \n",
    "    sent_vec = np.zeros(size)\n",
    "    numw = 0\n",
    "    for w in sent:\n",
    "        try:\n",
    "            sent_vec = np.add(sent_vec, model[w])\n",
    "            numw+=1\n",
    "        except:\n",
    "            pass\n",
    "    return sent_vec / np.sqrt(sent_vec.dot(sent_vec))"
   ]
  },
  {
   "cell_type": "code",
   "execution_count": 30,
   "metadata": {},
   "outputs": [],
   "source": [
    "def get_query_embedding(query,model ,size):\n",
    "    \n",
    "    #Tokenization\n",
    "    query_tok = query.split(' ')\n",
    "    \n",
    "    #Need to use the tokenization of the appropriate model\n",
    "    \n",
    "    #Extracting the query embedding\n",
    "    query_embed = sent_vectorizer(query_tok, model ,size)\n",
    "    \n",
    "    return query_embed\n",
    "    "
   ]
  },
  {
   "cell_type": "code",
   "execution_count": 53,
   "metadata": {},
   "outputs": [],
   "source": [
    "def get_ans_embeddings(list_ans,model ,size):\n",
    "    \n",
    "    #Tokenization ---> List Comprehension\n",
    "    list_ans = [ans.split(' ') for ans in list_ans]\n",
    "    \n",
    "    #Getting embedding ----> List comprehensions\n",
    "    ans_embed = [sent_vectorizer(ans_tok,model,size) for ans_tok in list_ans]\n",
    "    \n",
    "    #Need to use the tokenization of the appropriate model\n",
    "    return np.array(ans_embed)\n",
    "    "
   ]
  },
  {
   "cell_type": "code",
   "execution_count": 150,
   "metadata": {},
   "outputs": [],
   "source": [
    "def get_cosine_sim(query, list_ans, model ,size,topk) :\n",
    "    \n",
    "    #Input\n",
    "    question = query\n",
    "    answers = list_ans\n",
    "    \n",
    "    \n",
    "    #Query embedding\n",
    "    query_embed = get_query_embedding(query,model ,size)\n",
    "    query_embed_norm = query_embed/norm(query_embed)\n",
    "    \n",
    "    #Answers embedding\n",
    "    ans_embed = get_ans_embeddings(list_ans,model ,size)\n",
    "    ans_embed_norm = ans_embed/norm(ans_embed,axis=1,keepdims= True)\n",
    "    \n",
    "    cos_sim = np.dot(ans_embed_norm,query_embed_norm)\n",
    "    \n",
    "    \n",
    "    #Output Format\n",
    "    df_out = pd.DataFrame()\n",
    "    df_out['answers'] = answers\n",
    "    df_out['similarity'] = cos_sim\n",
    "    df_out['Query'] = question\n",
    "    \n",
    "    #Output sorted\n",
    "    final_df = df_out.sort_values(by=['similarity'], ascending=False)[['Query','answers','similarity']]\n",
    "\n",
    "    \n",
    "    return final_df.head(topk)"
   ]
  },
  {
   "cell_type": "code",
   "execution_count": null,
   "metadata": {},
   "outputs": [],
   "source": [
    "final_df = get_cosine_sim(query, list_ans, model ,size,topk)"
   ]
  },
  {
   "cell_type": "code",
   "execution_count": null,
   "metadata": {},
   "outputs": [],
   "source": []
  },
  {
   "cell_type": "code",
   "execution_count": null,
   "metadata": {},
   "outputs": [],
   "source": []
  },
  {
   "cell_type": "code",
   "execution_count": null,
   "metadata": {},
   "outputs": [],
   "source": []
  },
  {
   "cell_type": "code",
   "execution_count": null,
   "metadata": {},
   "outputs": [],
   "source": []
  },
  {
   "cell_type": "code",
   "execution_count": null,
   "metadata": {},
   "outputs": [],
   "source": []
  },
  {
   "cell_type": "code",
   "execution_count": null,
   "metadata": {},
   "outputs": [],
   "source": []
  },
  {
   "cell_type": "code",
   "execution_count": null,
   "metadata": {},
   "outputs": [],
   "source": []
  },
  {
   "cell_type": "code",
   "execution_count": null,
   "metadata": {},
   "outputs": [],
   "source": []
  }
 ],
 "metadata": {
  "kernelspec": {
   "display_name": "Python 3",
   "language": "python",
   "name": "python3"
  },
  "language_info": {
   "codemirror_mode": {
    "name": "ipython",
    "version": 3
   },
   "file_extension": ".py",
   "mimetype": "text/x-python",
   "name": "python",
   "nbconvert_exporter": "python",
   "pygments_lexer": "ipython3",
   "version": "3.6.8"
  }
 },
 "nbformat": 4,
 "nbformat_minor": 2
}

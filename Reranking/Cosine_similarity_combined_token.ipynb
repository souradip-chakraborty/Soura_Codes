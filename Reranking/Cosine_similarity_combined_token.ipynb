{
 "cells": [
  {
   "cell_type": "code",
   "execution_count": 1,
   "metadata": {},
   "outputs": [],
   "source": [
    "import numpy as np\n",
    "import pandas as pd\n",
    "#from tqdm import tqdm\n",
    "\n",
    "from numpy.linalg import norm\n",
    "import json\n"
   ]
  },
  {
   "cell_type": "code",
   "execution_count": 2,
   "metadata": {},
   "outputs": [],
   "source": [
    "with open('/Users/s0c02nj/Documents/covid-19/notebooks/output_fra.jsonl') as fin:\n",
    "    output_jsonl = fin.read()"
   ]
  },
  {
   "cell_type": "code",
   "execution_count": null,
   "metadata": {},
   "outputs": [],
   "source": []
  },
  {
   "cell_type": "code",
   "execution_count": 9,
   "metadata": {},
   "outputs": [],
   "source": [
    "def get_sent_embed(output_jsonl) :\n",
    "    \n",
    "    #We will run the model and get the outputs\n",
    "    json_lines = output_jsonl.split('\\n')\n",
    "    \n",
    "    #Removing the blank strings\n",
    "    json_lines =  list(filter(None,json_lines))\n",
    "    \n",
    "    #getting the dimensions & getting the output of the query\n",
    "    line_q = json.loads(json_lines[0])\n",
    "    embed_size = len(line_q['features'][0]['layers'][0]['values'])\n",
    "    \n",
    "    #Temp list for saving the tokens\n",
    "    token_temp_q = []\n",
    "    \n",
    "    #array for saving the embeddings\n",
    "    feat_embed_q =  np.array(line_q['features'][0]['layers'][0]['values'])\n",
    "    \n",
    "    #Getting the final df\n",
    "    df_query = pd.DataFrame()\n",
    "    \n",
    "    for j,feature in enumerate(line_q['features']):\n",
    "        token_temp_q.append(feature['token'])\n",
    "\n",
    "\n",
    "    #final_output_embeddings\n",
    "    tokens_query = ' '.join(token_temp_q[1:len(token_temp_q)-1])\n",
    "\n",
    "    #final query dataframe\n",
    "    df_query['documents'] = [tokens_query]\n",
    "    df_query['embedding'] = [feat_embed_q]\n",
    "    \n",
    "    \n",
    "    #--------------------------------------- answers ----------------------------------------------#\n",
    "    \n",
    "    \n",
    "    #Defining the lists\n",
    "    sent_embed = []\n",
    "    tokens = []\n",
    "    \n",
    "    #Getting the final df\n",
    "    df_ans = pd.DataFrame()\n",
    "    \n",
    "    #Running for the sentence\n",
    "    for i in range(1,len(json_lines)):\n",
    "        line = json.loads(json_lines[i])        \n",
    "    \n",
    "        feat_embed = np.array(line['features'][0]['layers'][0]['values'])\n",
    "        \n",
    "        #Temp list for saving the tokens\n",
    "        token_temp = []\n",
    "        \n",
    "        for j,feature in enumerate(line['features']):\n",
    "            token_temp.append(feature['token'])\n",
    "            \n",
    "        \n",
    "        #sanity checks\n",
    "        if feat_embed.sum() == 0 :\n",
    "            print ('Check_model')\n",
    "        \n",
    "        #final_output_embeddings\n",
    "        sent_embed.append(feat_embed)\n",
    "        tokens.append(' '.join(token_temp[1:len(token_temp)-1]))\n",
    "        \n",
    "         \n",
    "        \n",
    "    df_ans['documents'] = tokens\n",
    "    df_ans['embedding'] = sent_embed\n",
    "    \n",
    "    return df_query, df_ans\n",
    "        "
   ]
  },
  {
   "cell_type": "code",
   "execution_count": 10,
   "metadata": {},
   "outputs": [],
   "source": [
    "df_query, df_ans = get_sent_embed(output_jsonl)"
   ]
  },
  {
   "cell_type": "code",
   "execution_count": null,
   "metadata": {},
   "outputs": [],
   "source": []
  },
  {
   "cell_type": "code",
   "execution_count": 14,
   "metadata": {},
   "outputs": [],
   "source": [
    "def get_cosine_sim(output_jsonl) :\n",
    "    \n",
    "    #We will run the model and get the outputs\n",
    "    \n",
    "    #Getting the dataframes\n",
    "    df_query ,df_ans = get_sent_embed(output_jsonl)\n",
    "    \n",
    "    #Query embedding\n",
    "    query_embed = df_query['embedding'].values[0]\n",
    "    query_embed_norm = query_embed/norm(query_embed)\n",
    "    \n",
    "    #Answers embedding\n",
    "    list_embed = df_ans['embedding'].tolist()\n",
    "    \n",
    "    #getting the answer embedding\n",
    "    ans_embed =  np.stack(list_embed, axis=0)\n",
    "    ans_embed_norm = ans_embed/norm(ans_embed,axis=1,keepdims= True)\n",
    "    \n",
    "    #find the cosine similarity\n",
    "    cos_sim = np.dot(ans_embed_norm,query_embed_norm)\n",
    "    \n",
    "    return cos_sim.argsort()[::-1],np.sort(cos_sim)[::-1]"
   ]
  },
  {
   "cell_type": "code",
   "execution_count": 15,
   "metadata": {},
   "outputs": [],
   "source": [
    "ind,score = get_cosine_sim(output_jsonl)"
   ]
  },
  {
   "cell_type": "code",
   "execution_count": 16,
   "metadata": {},
   "outputs": [
    {
     "data": {
      "text/plain": [
       "array([0, 1, 2, 3])"
      ]
     },
     "execution_count": 16,
     "metadata": {},
     "output_type": "execute_result"
    }
   ],
   "source": [
    "ind"
   ]
  },
  {
   "cell_type": "code",
   "execution_count": 17,
   "metadata": {},
   "outputs": [
    {
     "data": {
      "text/plain": [
       "array([0.97327895, 0.96882837, 0.91632218, 0.44585593])"
      ]
     },
     "execution_count": 17,
     "metadata": {},
     "output_type": "execute_result"
    }
   ],
   "source": [
    "score"
   ]
  },
  {
   "cell_type": "code",
   "execution_count": null,
   "metadata": {},
   "outputs": [],
   "source": []
  },
  {
   "cell_type": "code",
   "execution_count": null,
   "metadata": {},
   "outputs": [],
   "source": []
  },
  {
   "cell_type": "code",
   "execution_count": null,
   "metadata": {},
   "outputs": [],
   "source": []
  }
 ],
 "metadata": {
  "kernelspec": {
   "display_name": "Python 3",
   "language": "python",
   "name": "python3"
  },
  "language_info": {
   "codemirror_mode": {
    "name": "ipython",
    "version": 3
   },
   "file_extension": ".py",
   "mimetype": "text/x-python",
   "name": "python",
   "nbconvert_exporter": "python",
   "pygments_lexer": "ipython3",
   "version": "3.7.7"
  }
 },
 "nbformat": 4,
 "nbformat_minor": 2
}

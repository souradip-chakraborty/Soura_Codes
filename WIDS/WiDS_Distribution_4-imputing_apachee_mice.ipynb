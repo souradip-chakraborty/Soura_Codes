{
 "cells": [
  {
   "cell_type": "code",
   "execution_count": 1,
   "metadata": {},
   "outputs": [
    {
     "name": "stderr",
     "output_type": "stream",
     "text": [
      "/Users/s0c02nj/anaconda2/envs/graph/lib/python3.6/site-packages/lightgbm/__init__.py:46: UserWarning: Starting from version 2.2.1, the library file in distribution wheels for macOS is built by the Apple Clang (Xcode_8.3.3) compiler.\n",
      "This means that in case of installing LightGBM from PyPI via the ``pip install lightgbm`` command, you don't need to install the gcc compiler anymore.\n",
      "Instead of that, you need to install the OpenMP library, which is required for running LightGBM on the system with the Apple Clang compiler.\n",
      "You can install the OpenMP library by the following command: ``brew install libomp``.\n",
      "  \"You can install the OpenMP library by the following command: ``brew install libomp``.\", UserWarning)\n"
     ]
    }
   ],
   "source": [
    "import numpy as np\n",
    "import pandas as pd\n",
    "from tqdm import tqdm\n",
    "from collections import Counter\n",
    "import matplotlib.pyplot as plt\n",
    "import seaborn as sns\n",
    "from sklearn.model_selection import StratifiedKFold\n",
    "from sklearn import metrics, preprocessing\n",
    "from sklearn.impute import SimpleImputer\n",
    "from sklearn.metrics import accuracy_score\n",
    "from sklearn.model_selection import train_test_split\n",
    "from sklearn.model_selection import train_test_split, StratifiedKFold\n",
    "from sklearn.model_selection import train_test_split\n",
    "from sklearn.preprocessing import LabelEncoder\n",
    "from catboost import Pool, CatBoostClassifier\n",
    "import lightgbm as lgb\n",
    "import seaborn as sns\n",
    "#from itertools import izip\n",
    "from impyute.imputation.cs import mice\n"
   ]
  },
  {
   "cell_type": "code",
   "execution_count": 2,
   "metadata": {},
   "outputs": [],
   "source": [
    "#Importing\n",
    "train_data = pd.read_csv('/Users/s0c02nj/Desktop/OneDrive - Walmart Inc/WiDS/training_v2.csv')\n",
    "test_data =  pd.read_csv('/Users/s0c02nj/Desktop/OneDrive - Walmart Inc/WiDS/unlabeled.csv')\n",
    "\n",
    "sub_data =  pd.read_csv('/Users/s0c02nj/Desktop/OneDrive - Walmart Inc/WiDS/samplesubmission.csv')\n",
    "data_dict = pd.read_csv('/Users/s0c02nj/Desktop/OneDrive - Walmart Inc/WiDS/WiDS Datathon 2020 Dictionary.csv')"
   ]
  },
  {
   "cell_type": "code",
   "execution_count": null,
   "metadata": {},
   "outputs": [],
   "source": [
    "#train_data.groupby('hospital_death').hist()\n",
    "#list_plot = list(np.arange(169,173))"
   ]
  },
  {
   "cell_type": "code",
   "execution_count": null,
   "metadata": {},
   "outputs": [],
   "source": [
    "# df = train_data.iloc[:,list_plot]\n",
    "# df['hospital_death'] = train_data['hospital_death']"
   ]
  },
  {
   "cell_type": "code",
   "execution_count": null,
   "metadata": {},
   "outputs": [],
   "source": [
    "#df.groupby('hospital_death').hist()\n",
    "#train_data[['height','hospital_death']].groupby('hospital_death').hist()"
   ]
  },
  {
   "cell_type": "code",
   "execution_count": 3,
   "metadata": {},
   "outputs": [],
   "source": [
    "def weighted_classt(x): \n",
    "    if pd.isna(x):\n",
    "        return np.nan\n",
    "    elif x < 15: \n",
    "        return 'very severely underweight' \n",
    "    elif x >= 15 and x < 16: \n",
    "        return 'severely weight' \n",
    "    elif x >=16 and x < 18.5: \n",
    "        return 'underweight' \n",
    "    elif x >= 18.5 and x < 25: \n",
    "        return 'healthy weight' \n",
    "    elif x >= 25 and x < 30: \n",
    "        return 'overweight'\n",
    "    elif x >= 30 and x < 35: \n",
    "        return 'class 1' \n",
    "    elif x >= 35 and x < 40: \n",
    "        return 'class 2' \n",
    "    else: \n",
    "        return 'class 3' "
   ]
  },
  {
   "cell_type": "code",
   "execution_count": 4,
   "metadata": {},
   "outputs": [],
   "source": [
    "train_data['weightclass'] = train_data['bmi'].map(weighted_classt)\n",
    "test_data['weightclass'] = test_data['bmi'].map(weighted_classt)"
   ]
  },
  {
   "cell_type": "code",
   "execution_count": 5,
   "metadata": {},
   "outputs": [],
   "source": [
    "cat_var = list(data_dict[data_dict['Data Type'].isin(['binary','string','integer'])]['Variable Name'])\n",
    "cat_var.remove('icu_admit_type')\n",
    "cat_var.remove('bmi')\n",
    "cat_var = cat_var[1:]\n",
    "\n",
    "#to_label_encode = list(data_dict[data_dict['Data Type'].isin(['string'])]['Variable Name'])"
   ]
  },
  {
   "cell_type": "code",
   "execution_count": 6,
   "metadata": {},
   "outputs": [],
   "source": [
    "cat_var = cat_var + ['weightclass']"
   ]
  },
  {
   "cell_type": "code",
   "execution_count": 7,
   "metadata": {},
   "outputs": [],
   "source": [
    "cont_var = list(data_dict[data_dict['Data Type'].isin(['numeric'])]['Variable Name'])\n",
    "cont_var.remove('pred')\n",
    "cont_var = cont_var + ['bmi']"
   ]
  },
  {
   "cell_type": "markdown",
   "metadata": {},
   "source": [
    "#### Baseline"
   ]
  },
  {
   "cell_type": "code",
   "execution_count": 8,
   "metadata": {},
   "outputs": [],
   "source": [
    "x_train = train_data.drop('hospital_death',axis=1)\n",
    "y_train = train_data['hospital_death']"
   ]
  },
  {
   "cell_type": "code",
   "execution_count": 9,
   "metadata": {},
   "outputs": [],
   "source": [
    "x_test = test_data.drop('hospital_death',axis=1)"
   ]
  },
  {
   "cell_type": "code",
   "execution_count": 10,
   "metadata": {},
   "outputs": [],
   "source": [
    "x_comb = pd.concat([x_train,x_test],sort=False)"
   ]
  },
  {
   "cell_type": "code",
   "execution_count": 11,
   "metadata": {},
   "outputs": [],
   "source": [
    "list_drop = ['encounter_id', 'patient_id', 'readmission_status']"
   ]
  },
  {
   "cell_type": "code",
   "execution_count": 12,
   "metadata": {},
   "outputs": [],
   "source": [
    "# # Remove Features with more than 70 percent missing values\n",
    "#x_comb = x_comb.drop(['readmission_status'],axis = 1)\n",
    "x_comb = x_comb.drop(list_drop,axis = 1)"
   ]
  },
  {
   "cell_type": "code",
   "execution_count": 13,
   "metadata": {},
   "outputs": [],
   "source": [
    "new_cat_var = list(set(cat_var).intersection(set(x_comb.columns)))"
   ]
  },
  {
   "cell_type": "code",
   "execution_count": 14,
   "metadata": {},
   "outputs": [
    {
     "name": "stderr",
     "output_type": "stream",
     "text": [
      "100%|██████████| 30/30 [00:03<00:00,  8.77it/s]\n"
     ]
    }
   ],
   "source": [
    "for col in tqdm(new_cat_var):\n",
    "    le = LabelEncoder()\n",
    "    x_comb[col] = le.fit_transform(x_comb[col].astype(str))\n"
   ]
  },
  {
   "cell_type": "code",
   "execution_count": 15,
   "metadata": {},
   "outputs": [],
   "source": [
    "x_comb[\"apache_4a_hospital_death_prob\"] = x_comb[\"apache_4a_hospital_death_prob\"].replace(-1, np.nan)\n",
    "x_comb[\"apache_4a_icu_death_prob\"] =  x_comb[\"apache_4a_icu_death_prob\"].replace(-1, np.nan)"
   ]
  },
  {
   "cell_type": "code",
   "execution_count": 16,
   "metadata": {},
   "outputs": [
    {
     "name": "stderr",
     "output_type": "stream",
     "text": [
      "100%|██████████| 131021/131021 [00:01<00:00, 70998.77it/s]\n"
     ]
    }
   ],
   "source": [
    "age_cat = []\n",
    "\n",
    "for i in tqdm(range(0,len(x_comb))):\n",
    "    \n",
    "    val = x_comb['age'].iloc[i]\n",
    "    \n",
    "    if val >= 15 and val <= 24: \n",
    "        age_cat.append('igen')\n",
    "    \n",
    "    elif val >= 25 and val <= 54: \n",
    "       age_cat.append('Prime_working_Age')\n",
    "    \n",
    "    elif val >= 55 and val <= 64: \n",
    "        age_cat.append('Mature_working_Age')\n",
    "        \n",
    "    else: \n",
    "        age_cat.append('Elderly_working_Age')\n"
   ]
  },
  {
   "cell_type": "code",
   "execution_count": 17,
   "metadata": {},
   "outputs": [],
   "source": [
    "x_comb['age_category'] = age_cat\n",
    "le = LabelEncoder()\n",
    "x_comb['age_category'] = le.fit_transform(x_comb['age_category'].astype(str))"
   ]
  },
  {
   "cell_type": "code",
   "execution_count": 18,
   "metadata": {},
   "outputs": [],
   "source": [
    "x_comb1 = x_comb.copy()"
   ]
  },
  {
   "cell_type": "code",
   "execution_count": null,
   "metadata": {},
   "outputs": [],
   "source": [
    "# def apache_prob(x): \n",
    "#     if pd.isna(x):\n",
    "#         return np.nan\n",
    "#     else:\n",
    "#         return str(x)"
   ]
  },
  {
   "cell_type": "code",
   "execution_count": null,
   "metadata": {},
   "outputs": [],
   "source": [
    "# x_comb1['apache_4a_hospital_death_prob'] = x_comb1['apache_4a_hospital_death_prob'].apply(lambda x: \n",
    "#                                                                                           apache_prob(x))"
   ]
  },
  {
   "cell_type": "code",
   "execution_count": null,
   "metadata": {},
   "outputs": [],
   "source": [
    "#x_comb1['apache_4a_hospital_death_prob'] = x_comb1['apache_4a_hospital_death_prob'].astype(str)"
   ]
  },
  {
   "cell_type": "code",
   "execution_count": 19,
   "metadata": {},
   "outputs": [],
   "source": [
    "list_col = list(x_comb1.columns)\n",
    "\n",
    "list_col = list(filter(lambda x: x!= 'apache_4a_hospital_death_prob', list_col))"
   ]
  },
  {
   "cell_type": "code",
   "execution_count": 21,
   "metadata": {
    "scrolled": true
   },
   "outputs": [],
   "source": [
    "# for col in tqdm(list_col):\n",
    "#     print (col)\n",
    "#     le = LabelEncoder()\n",
    "#     x_comb1[col] = le.fit_transform(x_comb1[col].astype(str))"
   ]
  },
  {
   "cell_type": "code",
   "execution_count": 22,
   "metadata": {},
   "outputs": [],
   "source": [
    "import datawig\n"
   ]
  },
  {
   "cell_type": "code",
   "execution_count": 23,
   "metadata": {},
   "outputs": [],
   "source": [
    "#Initialize a SimpleImputer model\n",
    "imputer = datawig.SimpleImputer(\n",
    "    input_columns = list_col, # column(s) containing information about the column we want to impute\n",
    "    output_column= 'apache_4a_hospital_death_prob', # the column we'd like to impute values for\n",
    "    #output_path = 'imputer_model' # stores model data and metrics\n",
    "    )"
   ]
  },
  {
   "cell_type": "code",
   "execution_count": 24,
   "metadata": {
    "scrolled": true
   },
   "outputs": [
    {
     "name": "stderr",
     "output_type": "stream",
     "text": [
      "2020-02-23 03:09:20,382 [INFO]  \n",
      "========== start: fit model\n",
      "2020-02-23 03:09:20,382 [WARNING]  Already bound, ignoring bind()\n",
      "2020-02-23 03:09:23,302 [INFO]  Epoch[0] Batch [0-3685]\tSpeed: 20224.64 samples/sec\tcross-entropy=1.318600\tapache_4a_hospital_death_prob-accuracy=0.000000\n",
      "2020-02-23 03:09:26,376 [INFO]  Epoch[0] Train-cross-entropy=1.070701\n",
      "2020-02-23 03:09:26,377 [INFO]  Epoch[0] Train-apache_4a_hospital_death_prob-accuracy=0.000000\n",
      "2020-02-23 03:09:26,378 [INFO]  Epoch[0] Time cost=5.993\n",
      "2020-02-23 03:09:26,382 [INFO]  Saved checkpoint to \"apache_4a_hospital_death_prob/model-0000.params\"\n",
      "2020-02-23 03:09:26,615 [INFO]  Epoch[0] Validation-cross-entropy=0.446889\n",
      "2020-02-23 03:09:26,616 [INFO]  Epoch[0] Validation-apache_4a_hospital_death_prob-accuracy=0.000000\n",
      "2020-02-23 03:09:30,248 [INFO]  Epoch[1] Batch [0-3685]\tSpeed: 16242.84 samples/sec\tcross-entropy=0.709223\tapache_4a_hospital_death_prob-accuracy=0.000000\n",
      "2020-02-23 03:09:34,006 [INFO]  Epoch[1] Train-cross-entropy=0.682438\n",
      "2020-02-23 03:09:34,007 [INFO]  Epoch[1] Train-apache_4a_hospital_death_prob-accuracy=0.000000\n",
      "2020-02-23 03:09:34,008 [INFO]  Epoch[1] Time cost=7.392\n",
      "2020-02-23 03:09:34,013 [INFO]  Saved checkpoint to \"apache_4a_hospital_death_prob/model-0001.params\"\n",
      "2020-02-23 03:09:34,296 [INFO]  Epoch[1] Validation-cross-entropy=0.410271\n",
      "2020-02-23 03:09:34,298 [INFO]  Epoch[1] Validation-apache_4a_hospital_death_prob-accuracy=0.000000\n",
      "2020-02-23 03:09:37,475 [INFO]  Epoch[2] Batch [0-3685]\tSpeed: 18572.36 samples/sec\tcross-entropy=0.635962\tapache_4a_hospital_death_prob-accuracy=0.000000\n",
      "2020-02-23 03:09:40,462 [INFO]  Epoch[2] Train-cross-entropy=0.608987\n",
      "2020-02-23 03:09:40,462 [INFO]  Epoch[2] Train-apache_4a_hospital_death_prob-accuracy=0.000000\n",
      "2020-02-23 03:09:40,463 [INFO]  Epoch[2] Time cost=6.164\n",
      "2020-02-23 03:09:40,466 [INFO]  Saved checkpoint to \"apache_4a_hospital_death_prob/model-0002.params\"\n",
      "2020-02-23 03:09:40,683 [INFO]  Epoch[2] Validation-cross-entropy=0.386617\n",
      "2020-02-23 03:09:40,684 [INFO]  Epoch[2] Validation-apache_4a_hospital_death_prob-accuracy=0.000000\n",
      "2020-02-23 03:09:43,838 [INFO]  Epoch[3] Batch [0-3685]\tSpeed: 18705.53 samples/sec\tcross-entropy=0.607000\tapache_4a_hospital_death_prob-accuracy=0.000000\n",
      "2020-02-23 03:09:47,067 [INFO]  Epoch[3] Train-cross-entropy=0.582821\n",
      "2020-02-23 03:09:47,068 [INFO]  Epoch[3] Train-apache_4a_hospital_death_prob-accuracy=0.000000\n",
      "2020-02-23 03:09:47,069 [INFO]  Epoch[3] Time cost=6.384\n",
      "2020-02-23 03:09:47,072 [INFO]  Saved checkpoint to \"apache_4a_hospital_death_prob/model-0003.params\"\n",
      "2020-02-23 03:09:47,304 [INFO]  Epoch[3] Validation-cross-entropy=0.368276\n",
      "2020-02-23 03:09:47,305 [INFO]  Epoch[3] Validation-apache_4a_hospital_death_prob-accuracy=0.000000\n",
      "2020-02-23 03:09:50,161 [INFO]  Epoch[4] Batch [0-3685]\tSpeed: 20664.19 samples/sec\tcross-entropy=0.629244\tapache_4a_hospital_death_prob-accuracy=0.000000\n",
      "2020-02-23 03:09:52,973 [INFO]  Epoch[4] Train-cross-entropy=0.582215\n",
      "2020-02-23 03:09:52,974 [INFO]  Epoch[4] Train-apache_4a_hospital_death_prob-accuracy=0.000000\n",
      "2020-02-23 03:09:52,975 [INFO]  Epoch[4] Time cost=5.669\n",
      "2020-02-23 03:09:52,979 [INFO]  Saved checkpoint to \"apache_4a_hospital_death_prob/model-0004.params\"\n",
      "2020-02-23 03:09:53,221 [INFO]  Epoch[4] Validation-cross-entropy=0.371940\n",
      "2020-02-23 03:09:53,222 [INFO]  Epoch[4] Validation-apache_4a_hospital_death_prob-accuracy=0.000000\n",
      "2020-02-23 03:09:56,234 [INFO]  Epoch[5] Batch [0-3685]\tSpeed: 19584.44 samples/sec\tcross-entropy=0.581863\tapache_4a_hospital_death_prob-accuracy=0.000000\n",
      "2020-02-23 03:09:59,063 [INFO]  Epoch[5] Train-cross-entropy=0.563548\n",
      "2020-02-23 03:09:59,064 [INFO]  Epoch[5] Train-apache_4a_hospital_death_prob-accuracy=0.000000\n",
      "2020-02-23 03:09:59,065 [INFO]  Epoch[5] Time cost=5.842\n",
      "2020-02-23 03:09:59,069 [INFO]  Saved checkpoint to \"apache_4a_hospital_death_prob/model-0005.params\"\n",
      "2020-02-23 03:09:59,304 [INFO]  Epoch[5] Validation-cross-entropy=0.396589\n",
      "2020-02-23 03:09:59,304 [INFO]  Epoch[5] Validation-apache_4a_hospital_death_prob-accuracy=0.000000\n",
      "2020-02-23 03:10:02,504 [INFO]  Epoch[6] Batch [0-3685]\tSpeed: 18443.93 samples/sec\tcross-entropy=0.565759\tapache_4a_hospital_death_prob-accuracy=0.000000\n",
      "2020-02-23 03:10:05,888 [INFO]  Epoch[6] Train-cross-entropy=0.546699\n",
      "2020-02-23 03:10:05,889 [INFO]  Epoch[6] Train-apache_4a_hospital_death_prob-accuracy=0.000000\n",
      "2020-02-23 03:10:05,891 [INFO]  Epoch[6] Time cost=6.585\n",
      "2020-02-23 03:10:05,895 [INFO]  Saved checkpoint to \"apache_4a_hospital_death_prob/model-0006.params\"\n",
      "2020-02-23 03:10:06,223 [INFO]  Epoch[6] Validation-cross-entropy=0.353940\n",
      "2020-02-23 03:10:06,224 [INFO]  Epoch[6] Validation-apache_4a_hospital_death_prob-accuracy=0.000000\n",
      "2020-02-23 03:10:09,892 [INFO]  Epoch[7] Batch [0-3685]\tSpeed: 16082.04 samples/sec\tcross-entropy=0.580861\tapache_4a_hospital_death_prob-accuracy=0.000000\n",
      "2020-02-23 03:10:13,387 [INFO]  Epoch[7] Train-cross-entropy=0.555172\n",
      "2020-02-23 03:10:13,388 [INFO]  Epoch[7] Train-apache_4a_hospital_death_prob-accuracy=0.000000\n",
      "2020-02-23 03:10:13,389 [INFO]  Epoch[7] Time cost=7.164\n",
      "2020-02-23 03:10:13,393 [INFO]  Saved checkpoint to \"apache_4a_hospital_death_prob/model-0007.params\"\n",
      "2020-02-23 03:10:13,618 [INFO]  Epoch[7] Validation-cross-entropy=0.402938\n",
      "2020-02-23 03:10:13,619 [INFO]  Epoch[7] Validation-apache_4a_hospital_death_prob-accuracy=0.000000\n",
      "2020-02-23 03:10:17,396 [INFO]  Epoch[8] Batch [0-3685]\tSpeed: 15617.58 samples/sec\tcross-entropy=0.614632\tapache_4a_hospital_death_prob-accuracy=0.000000\n",
      "2020-02-23 03:10:21,660 [INFO]  Epoch[8] Train-cross-entropy=0.566727\n",
      "2020-02-23 03:10:21,661 [INFO]  Epoch[8] Train-apache_4a_hospital_death_prob-accuracy=0.000000\n",
      "2020-02-23 03:10:21,662 [INFO]  Epoch[8] Time cost=8.043\n",
      "2020-02-23 03:10:21,666 [INFO]  Saved checkpoint to \"apache_4a_hospital_death_prob/model-0008.params\"\n",
      "2020-02-23 03:10:21,879 [INFO]  Epoch[8] Validation-cross-entropy=0.346804\n",
      "2020-02-23 03:10:21,880 [INFO]  Epoch[8] Validation-apache_4a_hospital_death_prob-accuracy=0.000000\n",
      "2020-02-23 03:10:25,612 [INFO]  Epoch[9] Batch [0-3685]\tSpeed: 15810.40 samples/sec\tcross-entropy=0.590527\tapache_4a_hospital_death_prob-accuracy=0.000000\n",
      "2020-02-23 03:10:29,416 [INFO]  Epoch[9] Train-cross-entropy=0.560788\n",
      "2020-02-23 03:10:29,417 [INFO]  Epoch[9] Train-apache_4a_hospital_death_prob-accuracy=0.000000\n",
      "2020-02-23 03:10:29,418 [INFO]  Epoch[9] Time cost=7.537\n",
      "2020-02-23 03:10:29,422 [INFO]  Saved checkpoint to \"apache_4a_hospital_death_prob/model-0009.params\"\n",
      "2020-02-23 03:10:29,652 [INFO]  Epoch[9] Validation-cross-entropy=0.341177\n",
      "2020-02-23 03:10:29,653 [INFO]  Epoch[9] Validation-apache_4a_hospital_death_prob-accuracy=0.000000\n",
      "2020-02-23 03:10:33,609 [INFO]  Epoch[10] Batch [0-3685]\tSpeed: 14913.33 samples/sec\tcross-entropy=0.592250\tapache_4a_hospital_death_prob-accuracy=0.000000\n",
      "2020-02-23 03:10:37,546 [INFO]  Epoch[10] Train-cross-entropy=0.562407\n",
      "2020-02-23 03:10:37,547 [INFO]  Epoch[10] Train-apache_4a_hospital_death_prob-accuracy=0.000000\n",
      "2020-02-23 03:10:37,548 [INFO]  Epoch[10] Time cost=7.893\n",
      "2020-02-23 03:10:37,551 [INFO]  Saved checkpoint to \"apache_4a_hospital_death_prob/model-0010.params\"\n",
      "2020-02-23 03:10:37,786 [INFO]  Epoch[10] Validation-cross-entropy=0.363338\n",
      "2020-02-23 03:10:37,787 [INFO]  Epoch[10] Validation-apache_4a_hospital_death_prob-accuracy=0.000000\n",
      "2020-02-23 03:10:41,894 [INFO]  Epoch[11] Batch [0-3685]\tSpeed: 14362.31 samples/sec\tcross-entropy=0.571268\tapache_4a_hospital_death_prob-accuracy=0.000000\n",
      "2020-02-23 03:10:45,873 [INFO]  Epoch[11] Train-cross-entropy=0.547232\n",
      "2020-02-23 03:10:45,874 [INFO]  Epoch[11] Train-apache_4a_hospital_death_prob-accuracy=0.000000\n",
      "2020-02-23 03:10:45,876 [INFO]  Epoch[11] Time cost=8.088\n",
      "2020-02-23 03:10:45,880 [INFO]  Saved checkpoint to \"apache_4a_hospital_death_prob/model-0011.params\"\n",
      "2020-02-23 03:10:46,109 [INFO]  Epoch[11] Validation-cross-entropy=0.333416\n",
      "2020-02-23 03:10:46,110 [INFO]  Epoch[11] Validation-apache_4a_hospital_death_prob-accuracy=0.000000\n",
      "2020-02-23 03:10:50,602 [INFO]  Epoch[12] Batch [0-3685]\tSpeed: 13130.12 samples/sec\tcross-entropy=0.591457\tapache_4a_hospital_death_prob-accuracy=0.000000\n",
      "2020-02-23 03:10:55,150 [INFO]  Epoch[12] Train-cross-entropy=0.550284\n"
     ]
    },
    {
     "name": "stderr",
     "output_type": "stream",
     "text": [
      "2020-02-23 03:10:55,151 [INFO]  Epoch[12] Train-apache_4a_hospital_death_prob-accuracy=0.000000\n",
      "2020-02-23 03:10:55,152 [INFO]  Epoch[12] Time cost=9.042\n",
      "2020-02-23 03:10:55,156 [INFO]  Saved checkpoint to \"apache_4a_hospital_death_prob/model-0012.params\"\n",
      "2020-02-23 03:10:55,421 [INFO]  Epoch[12] Validation-cross-entropy=0.330660\n",
      "2020-02-23 03:10:55,422 [INFO]  Epoch[12] Validation-apache_4a_hospital_death_prob-accuracy=0.000000\n",
      "2020-02-23 03:10:59,803 [INFO]  Epoch[13] Batch [0-3685]\tSpeed: 13468.07 samples/sec\tcross-entropy=0.594132\tapache_4a_hospital_death_prob-accuracy=0.000000\n",
      "2020-02-23 03:11:03,968 [INFO]  Epoch[13] Train-cross-entropy=0.553126\n",
      "2020-02-23 03:11:03,969 [INFO]  Epoch[13] Train-apache_4a_hospital_death_prob-accuracy=0.000000\n",
      "2020-02-23 03:11:03,970 [INFO]  Epoch[13] Time cost=8.547\n",
      "2020-02-23 03:11:03,975 [INFO]  Saved checkpoint to \"apache_4a_hospital_death_prob/model-0013.params\"\n",
      "2020-02-23 03:11:04,193 [INFO]  Epoch[13] Validation-cross-entropy=0.342560\n",
      "2020-02-23 03:11:04,194 [INFO]  Epoch[13] Validation-apache_4a_hospital_death_prob-accuracy=0.000000\n",
      "2020-02-23 03:11:08,484 [INFO]  Epoch[14] Batch [0-3685]\tSpeed: 13750.12 samples/sec\tcross-entropy=0.564890\tapache_4a_hospital_death_prob-accuracy=0.000000\n",
      "2020-02-23 03:11:12,822 [INFO]  Epoch[14] Train-cross-entropy=0.539089\n",
      "2020-02-23 03:11:12,823 [INFO]  Epoch[14] Train-apache_4a_hospital_death_prob-accuracy=0.000000\n",
      "2020-02-23 03:11:12,824 [INFO]  Epoch[14] Time cost=8.630\n",
      "2020-02-23 03:11:12,828 [INFO]  Saved checkpoint to \"apache_4a_hospital_death_prob/model-0014.params\"\n",
      "2020-02-23 03:11:13,048 [INFO]  Epoch[14] Validation-cross-entropy=0.396034\n",
      "2020-02-23 03:11:13,049 [INFO]  Epoch[14] Validation-apache_4a_hospital_death_prob-accuracy=0.000000\n",
      "2020-02-23 03:11:17,430 [INFO]  Epoch[15] Batch [0-3685]\tSpeed: 13467.72 samples/sec\tcross-entropy=0.679304\tapache_4a_hospital_death_prob-accuracy=0.000000\n",
      "2020-02-23 03:11:22,045 [INFO]  Epoch[15] Train-cross-entropy=0.588903\n",
      "2020-02-23 03:11:22,045 [INFO]  Epoch[15] Train-apache_4a_hospital_death_prob-accuracy=0.000000\n",
      "2020-02-23 03:11:22,046 [INFO]  Epoch[15] Time cost=8.996\n",
      "2020-02-23 03:11:22,050 [INFO]  Saved checkpoint to \"apache_4a_hospital_death_prob/model-0015.params\"\n",
      "2020-02-23 03:11:22,270 [INFO]  Epoch[15] Validation-cross-entropy=0.342027\n",
      "2020-02-23 03:11:22,271 [INFO]  Epoch[15] Validation-apache_4a_hospital_death_prob-accuracy=0.000000\n",
      "2020-02-23 03:11:27,136 [INFO]  Epoch[16] Batch [0-3685]\tSpeed: 12125.12 samples/sec\tcross-entropy=0.615875\tapache_4a_hospital_death_prob-accuracy=0.000000\n",
      "2020-02-23 03:11:31,963 [INFO]  Epoch[16] Train-cross-entropy=0.568995\n",
      "2020-02-23 03:11:31,973 [INFO]  Epoch[16] Train-apache_4a_hospital_death_prob-accuracy=0.000000\n",
      "2020-02-23 03:11:31,974 [INFO]  Epoch[16] Time cost=9.702\n",
      "2020-02-23 03:11:31,978 [INFO]  Saved checkpoint to \"apache_4a_hospital_death_prob/model-0016.params\"\n",
      "2020-02-23 03:11:32,194 [INFO]  No improvement detected for 5 epochs compared to 0.333416159868282 last error obtained: 0.39469179018874073, stopping here\n",
      "2020-02-23 03:11:32,194 [INFO]  \n",
      "========== done (131.81310296058655 s) fit model\n",
      "/Users/s0c02nj/anaconda2/envs/graph/lib/python3.6/site-packages/datawig/calibration.py:92: RuntimeWarning: invalid value encountered in log\n",
      "  return np.log(probas)\n",
      "/Users/s0c02nj/anaconda2/envs/graph/lib/python3.6/site-packages/datawig/calibration.py:59: RuntimeWarning: invalid value encountered in greater_equal\n",
      "  bin_mask = (top_probas >= bin_lower) & (top_probas < bin_upper)\n",
      "/Users/s0c02nj/anaconda2/envs/graph/lib/python3.6/site-packages/datawig/calibration.py:59: RuntimeWarning: invalid value encountered in less\n",
      "  bin_mask = (top_probas >= bin_lower) & (top_probas < bin_upper)\n"
     ]
    },
    {
     "data": {
      "text/plain": [
       "<datawig.simple_imputer.SimpleImputer at 0x132839518>"
      ]
     },
     "execution_count": 24,
     "metadata": {},
     "output_type": "execute_result"
    }
   ],
   "source": [
    "#Fit an imputer model on the train data\n",
    "imputer.fit(train_df=x_comb1, num_epochs = 50)\n"
   ]
  },
  {
   "cell_type": "code",
   "execution_count": 25,
   "metadata": {},
   "outputs": [
    {
     "name": "stderr",
     "output_type": "stream",
     "text": [
      "/Users/s0c02nj/anaconda2/envs/graph/lib/python3.6/site-packages/datawig/imputer.py:822: FutureWarning: The 'contains' method is deprecated and will be removed in a future version. Use 'key in index' instead of 'index.contains(key)'\n",
      "  if data_frame.columns.contains(imputation_col):\n"
     ]
    }
   ],
   "source": [
    "#Impute missing values and return original dataframe with predictions\n",
    "imputed = imputer.predict(x_comb1)"
   ]
  },
  {
   "cell_type": "code",
   "execution_count": 26,
   "metadata": {},
   "outputs": [],
   "source": [
    "x_comb['apache_4a_hospital_death_prob'] = imputed['apache_4a_hospital_death_prob_imputed']"
   ]
  },
  {
   "cell_type": "code",
   "execution_count": null,
   "metadata": {},
   "outputs": [],
   "source": [
    "#'gender, age, height, weight'"
   ]
  },
  {
   "cell_type": "code",
   "execution_count": null,
   "metadata": {},
   "outputs": [],
   "source": []
  },
  {
   "cell_type": "code",
   "execution_count": 31,
   "metadata": {},
   "outputs": [],
   "source": [
    "#Initialize a SimpleImputer model\n",
    "imputer = datawig.SimpleImputer(\n",
    "    input_columns = ['age','gender','weight','height'],\n",
    "    output_column = 'bmi'\n",
    "    )"
   ]
  },
  {
   "cell_type": "code",
   "execution_count": null,
   "metadata": {},
   "outputs": [],
   "source": [
    "#Impute missing values and return original dataframe with predictions\n",
    "imputed = imputer.predict(x_comb1)"
   ]
  },
  {
   "cell_type": "code",
   "execution_count": null,
   "metadata": {},
   "outputs": [],
   "source": []
  },
  {
   "cell_type": "code",
   "execution_count": null,
   "metadata": {},
   "outputs": [],
   "source": []
  },
  {
   "cell_type": "code",
   "execution_count": null,
   "metadata": {},
   "outputs": [],
   "source": []
  },
  {
   "cell_type": "code",
   "execution_count": null,
   "metadata": {},
   "outputs": [],
   "source": []
  },
  {
   "cell_type": "code",
   "execution_count": null,
   "metadata": {},
   "outputs": [],
   "source": []
  },
  {
   "cell_type": "code",
   "execution_count": null,
   "metadata": {},
   "outputs": [],
   "source": []
  },
  {
   "cell_type": "code",
   "execution_count": null,
   "metadata": {},
   "outputs": [],
   "source": []
  },
  {
   "cell_type": "code",
   "execution_count": null,
   "metadata": {},
   "outputs": [],
   "source": []
  },
  {
   "cell_type": "code",
   "execution_count": null,
   "metadata": {},
   "outputs": [],
   "source": []
  },
  {
   "cell_type": "code",
   "execution_count": null,
   "metadata": {},
   "outputs": [],
   "source": []
  },
  {
   "cell_type": "code",
   "execution_count": null,
   "metadata": {},
   "outputs": [],
   "source": []
  },
  {
   "cell_type": "code",
   "execution_count": null,
   "metadata": {},
   "outputs": [],
   "source": []
  },
  {
   "cell_type": "code",
   "execution_count": null,
   "metadata": {},
   "outputs": [],
   "source": []
  },
  {
   "cell_type": "code",
   "execution_count": null,
   "metadata": {},
   "outputs": [],
   "source": []
  },
  {
   "cell_type": "code",
   "execution_count": null,
   "metadata": {},
   "outputs": [],
   "source": []
  },
  {
   "cell_type": "code",
   "execution_count": null,
   "metadata": {},
   "outputs": [],
   "source": [
    "count_var = []\n",
    "for i,col in tqdm(enumerate(new_cat_var)):\n",
    "    counter = Counter(x_comb[col])\n",
    "    x_comb[str(col)+'count'] = x_comb[col].apply(lambda x:counter[x])\n",
    "    count_var.append(str(col)+'count')"
   ]
  },
  {
   "cell_type": "code",
   "execution_count": null,
   "metadata": {},
   "outputs": [],
   "source": [
    "#List to be biined -----> VITALS\n",
    "#to_binned_columns = list(data_dict[data_dict['Category'] == 'labs blood gas']['Variable Name'].unique())\n",
    "to_binned_columns = list(data_dict[data_dict['Category'] == 'labs']['Variable Name'].unique())\n",
    "to_binned_columns = list(set(to_binned_columns).intersection(set(x_comb.columns)))"
   ]
  },
  {
   "cell_type": "code",
   "execution_count": null,
   "metadata": {},
   "outputs": [],
   "source": [
    "binned_cols = []\n",
    "\n",
    "for cols in tqdm(to_binned_columns) :\n",
    "    x_comb[cols+'_binned'] = list(pd.cut(x_comb[cols], 10 ,labels=False))\n",
    "    binned_cols.append(cols+'_binned')\n",
    "    "
   ]
  },
  {
   "cell_type": "code",
   "execution_count": null,
   "metadata": {},
   "outputs": [],
   "source": [
    "x_comb['height'+'_binned'] = list(pd.cut(x_comb['height'], 8,labels=False))"
   ]
  },
  {
   "cell_type": "code",
   "execution_count": null,
   "metadata": {},
   "outputs": [],
   "source": [
    "featured_cols = binned_cols + ['age_category','height'+'_binned']"
   ]
  },
  {
   "cell_type": "code",
   "execution_count": null,
   "metadata": {},
   "outputs": [],
   "source": [
    "#2way interaction\n",
    "bias_cols = ['gender','age']"
   ]
  },
  {
   "cell_type": "code",
   "execution_count": null,
   "metadata": {},
   "outputs": [],
   "source": [
    "inter_cols6 = []\n",
    "\n",
    "for i in tqdm(bias_cols):\n",
    "    \n",
    "    for j in binned_cols :\n",
    "        \n",
    "        x_comb[i+'_'+j] = x_comb[i].astype(str) + '_' + x_comb[j].astype(str)\n",
    "        \n",
    "        inter_cols6.append(i+'_'+j)"
   ]
  },
  {
   "cell_type": "code",
   "execution_count": null,
   "metadata": {},
   "outputs": [],
   "source": [
    "#Critical -3way interaction\n",
    "\n",
    "\n",
    "x_comb['age'+'gender'+'weighted_classt'] = x_comb['age'].astype(str) + '_' + x_comb['gender'].astype(str) + '_' + x_comb['weightclass'].astype(str)\n",
    "x_comb['age'+'gender'+'ethnicity'] = x_comb['age'].astype(str) + '_' + x_comb['gender'].astype(str) + '_' + x_comb['ethnicity'].astype(str)\n",
    "x_comb['age'+'gender'+'ethnicity' +'weighted_classt' ] = x_comb['age'].astype(str) + '_' + x_comb['gender'].astype(str) + '_' + x_comb['ethnicity'].astype(str) +'_' + x_comb['weightclass'].astype(str)\n",
    "\n",
    "\n",
    "inter_cols6 = inter_cols6 + ['age'+'gender'+'weighted_classt'] +['age'+'gender'+'ethnicity'] + ['age'+'gender'+'ethnicity'+'weighted_classt']"
   ]
  },
  {
   "cell_type": "code",
   "execution_count": null,
   "metadata": {},
   "outputs": [],
   "source": [
    "for cols in tqdm(inter_cols6):\n",
    "    le = LabelEncoder()\n",
    "    x_comb[cols] = le.fit_transform(x_comb[cols].astype(str))"
   ]
  },
  {
   "cell_type": "code",
   "execution_count": null,
   "metadata": {},
   "outputs": [],
   "source": [
    "list_illness = ['aids',\n",
    "                'cirrhosis',\n",
    "                'diabetes_mellitus',\n",
    "                'hepatic_failure',\n",
    "                'immunosuppression',\n",
    "                'leukemia',\n",
    "                'lymphoma',\n",
    "                'solid_tumor_with_metastasis']\n"
   ]
  },
  {
   "cell_type": "code",
   "execution_count": null,
   "metadata": {},
   "outputs": [],
   "source": [
    "inter_cols1 = []\n",
    "\n",
    "for col in tqdm(list_illness) :\n",
    "    x_comb['hospital_id'+str(col)] = x_comb['hospital_id'].astype(str) + '_' + x_comb[col].astype(str)\n",
    "    x_comb['gender'+str(col)] = x_comb['gender'].astype(str) + '_' + x_comb[col].astype(str)\n",
    "    x_comb['age'+str(col)] = x_comb['age'].astype(str) + '_' + x_comb[col].astype(str)\n",
    "    x_comb['bmi'+str(col)] = x_comb['bmi'].astype(str) + '_' + x_comb[col].astype(str)\n",
    "    \n",
    "    inter_cols1.append('hospital_id'+str(col))\n",
    "    inter_cols1.append('gender'+str(col))\n",
    "    inter_cols1.append('age'+str(col))\n",
    "    inter_cols1.append('bmi'+str(col))"
   ]
  },
  {
   "cell_type": "code",
   "execution_count": null,
   "metadata": {},
   "outputs": [],
   "source": [
    "for cols in tqdm(inter_cols1):\n",
    "    le = LabelEncoder()\n",
    "    x_comb[cols] = le.fit_transform(x_comb[cols])\n",
    "    "
   ]
  },
  {
   "cell_type": "code",
   "execution_count": null,
   "metadata": {},
   "outputs": [],
   "source": [
    "inter_cols2 = []\n",
    "\n",
    "for col in tqdm(list_illness) :\n",
    "    x_comb['age_category'+str(col)] = x_comb['age_category'].astype(str) + '_' + x_comb[col].astype(str)\n",
    "    inter_cols2.append('age_category'+str(col))"
   ]
  },
  {
   "cell_type": "code",
   "execution_count": null,
   "metadata": {},
   "outputs": [],
   "source": [
    "for cols in tqdm(inter_cols2):\n",
    "    le = LabelEncoder()\n",
    "    x_comb[cols] = le.fit_transform(x_comb[cols])\n",
    "    "
   ]
  },
  {
   "cell_type": "code",
   "execution_count": null,
   "metadata": {},
   "outputs": [],
   "source": [
    "temp_train = x_train.copy()\n",
    "temp_train['hospital_death'] = train_data['hospital_death']\n"
   ]
  },
  {
   "cell_type": "code",
   "execution_count": null,
   "metadata": {},
   "outputs": [],
   "source": [
    "cat_count_var = []\n",
    "\n",
    "for i,col in tqdm(enumerate(new_cat_var)):\n",
    "    mean = temp_train['hospital_death'].mean()\n",
    "    \n",
    "    #Compute the number of values and the mean of each group\n",
    "    agg = temp_train.groupby(col)['hospital_death'].agg(['count', 'mean'])\n",
    "    counts = agg['count']\n",
    "    means =  agg['mean']\n",
    "    \n",
    "    #Compute the \"smoothed\" means\n",
    "    m= 3\n",
    "    smooth = (counts * means + m * mean) / (counts + m)\n",
    "    \n",
    "    #Final_val\n",
    "    x_comb[str(col)+'count_new'] = x_comb[col].map(smooth)\n",
    "    cat_count_var.append(str(col)+'count_new')\n",
    "    "
   ]
  },
  {
   "cell_type": "code",
   "execution_count": null,
   "metadata": {},
   "outputs": [],
   "source": [
    "# aggs = {}\n",
    "# aggs['apache_4a_hospital_death_prob'] = ['median', 'mean', 'max', 'min']\n",
    "# aggs['apache_4a_icu_death_prob'] = ['median', 'mean', 'max', 'min']\n"
   ]
  },
  {
   "cell_type": "code",
   "execution_count": null,
   "metadata": {},
   "outputs": [],
   "source": [
    "new_cat_var = list(set(new_cat_var).intersection(x_comb.columns))"
   ]
  },
  {
   "cell_type": "code",
   "execution_count": null,
   "metadata": {
    "scrolled": true
   },
   "outputs": [],
   "source": [
    "# for col in tqdm(new_cat_var):\n",
    "    \n",
    "#     aggs_temp = aggs.copy()\n",
    "#     #aggs_temp.pop(col)\n",
    "    \n",
    "#     agg_df = x_comb.groupby(col).agg(aggs_temp).reset_index()\n",
    "#     agg_df.columns = [col] + [col + '_' + c[0] +'_' + c[1] for c in agg_df.columns[1:]]\n",
    "    \n",
    "#     x_comb = pd.merge(left = x_comb, right= agg_df, how='left',\n",
    "#                     left_on=[col], right_on=[col])\n",
    "# cat_count_var2 = []\n",
    "\n",
    "# for i,col in tqdm(enumerate(new_cat_var)):\n",
    "#     mean = x_comb['apache_4a_hospital_death_prob'].mean()\n",
    "    \n",
    "#     #Compute the number of values and the mean of each group\n",
    "#     agg = x_comb.groupby(col)['apache_4a_hospital_death_prob'].agg(['count', 'mean'])\n",
    "#     counts = agg['count']\n",
    "#     means =  agg['mean']\n",
    "    \n",
    "#     #Compute the \"smoothed\" means\n",
    "#     m= 3\n",
    "#     smooth = (counts * means + m * mean) / (counts + m)\n",
    "    \n",
    "#     #Final_val\n",
    "#     x_comb[str(col)+'count_new'] = x_comb[col].map(smooth)\n",
    "#     cat_count_var.append(str(col)+'count_new')\n",
    "    "
   ]
  },
  {
   "cell_type": "code",
   "execution_count": null,
   "metadata": {},
   "outputs": [],
   "source": []
  },
  {
   "cell_type": "code",
   "execution_count": null,
   "metadata": {},
   "outputs": [],
   "source": [
    "# # Remove Features with more than 70 percent missing values\n",
    "data_missing = (x_comb.isnull().sum() / len(x_comb)).sort_values(ascending = False)\n",
    "data_missing = data_missing.index[data_missing > 0.9]\n",
    "\n",
    "x_comb = x_comb.drop(columns = data_missing)"
   ]
  },
  {
   "cell_type": "code",
   "execution_count": null,
   "metadata": {},
   "outputs": [],
   "source": [
    "cat_count_var_new = list(set(cat_count_var).intersection(x_comb.columns))\n",
    "#x_comb.isna().sum()"
   ]
  },
  {
   "cell_type": "code",
   "execution_count": null,
   "metadata": {},
   "outputs": [],
   "source": [
    "for col in tqdm(cat_count_var_new):\n",
    "    le = LabelEncoder()\n",
    "    x_comb[col] = le.fit_transform(x_comb[col].astype(str))"
   ]
  },
  {
   "cell_type": "code",
   "execution_count": null,
   "metadata": {},
   "outputs": [],
   "source": [
    "def mode(x):\n",
    "    return Counter(x).most_common(1)[0][0]\n"
   ]
  },
  {
   "cell_type": "code",
   "execution_count": null,
   "metadata": {},
   "outputs": [],
   "source": [
    "aggs = {}\n",
    "\n",
    "for col in tqdm(new_cat_var):\n",
    "    aggs[col] = ['nunique','count',mode]\n",
    "    "
   ]
  },
  {
   "cell_type": "code",
   "execution_count": null,
   "metadata": {},
   "outputs": [],
   "source": [
    "new_cat_var = list(set(new_cat_var).intersection(set(x_comb.columns)))"
   ]
  },
  {
   "cell_type": "code",
   "execution_count": null,
   "metadata": {},
   "outputs": [],
   "source": [
    "for col in tqdm(new_cat_var):\n",
    "    \n",
    "    aggs_temp = aggs.copy()\n",
    "    #aggs_temp.pop(col)\n",
    "    \n",
    "    agg_df = x_comb.groupby(col).agg(aggs_temp).reset_index()\n",
    "    agg_df.columns = [col] + [col + '_' + c[0] +'_' + c[1] for c in agg_df.columns[1:]]\n",
    "    \n",
    "    x_comb = pd.merge(left = x_comb, right= agg_df, how='left',\n",
    "                    left_on=[col], right_on=[col])"
   ]
  },
  {
   "cell_type": "code",
   "execution_count": null,
   "metadata": {},
   "outputs": [],
   "source": [
    "x_comb['hospital_icu_id'] = x_comb['hospital_id'].astype(str) + '_' +  x_comb['icu_id'].astype(str)\n",
    "\n",
    "le = LabelEncoder()\n",
    "x_comb['hospital_icu_id'] = le.fit_transform(x_comb['hospital_icu_id'].astype(str))"
   ]
  },
  {
   "cell_type": "code",
   "execution_count": null,
   "metadata": {},
   "outputs": [],
   "source": [
    "#x_comb = x_comb.drop(['encounter_id','patient_id'],axis=1)"
   ]
  },
  {
   "cell_type": "code",
   "execution_count": null,
   "metadata": {},
   "outputs": [],
   "source": [
    "#x_comb = x_comb.drop(list_unimp,axis=1)\n",
    "x_comb.shape\n"
   ]
  },
  {
   "cell_type": "code",
   "execution_count": null,
   "metadata": {},
   "outputs": [],
   "source": [
    "y_train.shape"
   ]
  },
  {
   "cell_type": "code",
   "execution_count": null,
   "metadata": {},
   "outputs": [],
   "source": [
    "train_x = x_comb[0:91713]\n",
    "test_x =  x_comb[91713:]"
   ]
  },
  {
   "cell_type": "code",
   "execution_count": null,
   "metadata": {},
   "outputs": [],
   "source": [
    "x1_train, x1_val, y1_train, y1_val = train_test_split(train_x, y_train, \n",
    "                                                      test_size=0.2,\n",
    "                                                      random_state=0,\n",
    "                                                      stratify = y_train)"
   ]
  },
  {
   "cell_type": "code",
   "execution_count": null,
   "metadata": {},
   "outputs": [],
   "source": [
    "random_state = 42\n",
    "np.random.seed(random_state)\n",
    "\n",
    "lgb_params = {\n",
    "    'boost': 'gbdt',\n",
    "    'learning_rate': 0.01,\n",
    "    'max_depth':6,\n",
    "    'metric':{'auc'},\n",
    "    'num_threads': -1,\n",
    "    'objective': 'binary',\n",
    "    'verbosity': 1,\n",
    "    'num_leaves':15,\n",
    "    'bagging_fraction':0.5, #rows\n",
    "    'bagging_frequency':5,\n",
    "    'min_data_in_leaf':50,\n",
    "    'feature_fraction':0.3, # features\n",
    "    'lambda_l1':10,\n",
    "    'lambda_l2':15,\n",
    "    'bagging_seed':2019,\n",
    "    'min_gain_split':0.3\n",
    "}"
   ]
  },
  {
   "cell_type": "code",
   "execution_count": null,
   "metadata": {},
   "outputs": [],
   "source": [
    "trn_data = lgb.Dataset(x1_train, label= y1_train)\n",
    "val_data = lgb.Dataset(x1_val,  label=  y1_val)"
   ]
  },
  {
   "cell_type": "code",
   "execution_count": null,
   "metadata": {
    "scrolled": true
   },
   "outputs": [],
   "source": [
    "lgb_clf = lgb.train(lgb_params,\n",
    "                    trn_data,\n",
    "                    13000,\n",
    "                    valid_sets = [trn_data, val_data],\n",
    "                    early_stopping_rounds=1500,\n",
    "                    verbose_eval=200\n",
    "                    )"
   ]
  },
  {
   "cell_type": "code",
   "execution_count": null,
   "metadata": {},
   "outputs": [],
   "source": [
    "predictions = lgb_clf.predict(test_x)"
   ]
  },
  {
   "cell_type": "code",
   "execution_count": null,
   "metadata": {},
   "outputs": [],
   "source": [
    "data_sub = x_test[['encounter_id']]\n",
    "data_sub['hospital_death'] = predictions"
   ]
  },
  {
   "cell_type": "code",
   "execution_count": null,
   "metadata": {},
   "outputs": [],
   "source": [
    "data_sub.to_csv('/Users/s0c02nj/Desktop/OneDrive - Walmart Inc/WiDS/labs_apache_imputed_21thfeb_canbeoverfit.csv',index = False)\n"
   ]
  },
  {
   "cell_type": "code",
   "execution_count": null,
   "metadata": {},
   "outputs": [],
   "source": []
  },
  {
   "cell_type": "code",
   "execution_count": null,
   "metadata": {},
   "outputs": [],
   "source": []
  },
  {
   "cell_type": "code",
   "execution_count": null,
   "metadata": {},
   "outputs": [],
   "source": [
    "feature_imp = pd.DataFrame(sorted(zip(lgb_clf.feature_importance(), \n",
    "                                      x_comb.columns), reverse=True), columns=['Value','Feature'])"
   ]
  },
  {
   "cell_type": "code",
   "execution_count": null,
   "metadata": {},
   "outputs": [],
   "source": [
    "list_unimp = list(feature_imp[feature_imp['Value'] == 0]['Feature'])"
   ]
  },
  {
   "cell_type": "code",
   "execution_count": null,
   "metadata": {},
   "outputs": [],
   "source": []
  },
  {
   "cell_type": "code",
   "execution_count": null,
   "metadata": {},
   "outputs": [],
   "source": []
  },
  {
   "cell_type": "code",
   "execution_count": null,
   "metadata": {},
   "outputs": [],
   "source": []
  },
  {
   "cell_type": "code",
   "execution_count": null,
   "metadata": {},
   "outputs": [],
   "source": [
    "# fig, ax = plt.subplots(figsize=(12,30))\n",
    "# lgb.plot_importance(lgb_clf, max_num_features=130, height=0.8, ax=ax)\n",
    "# ax.grid(False)\n",
    "# plt.title(\"LightGBM - Feature Importance\", fontsize=12)\n",
    "# plt.show()\n",
    "# #data_sub"
   ]
  },
  {
   "cell_type": "code",
   "execution_count": null,
   "metadata": {},
   "outputs": [],
   "source": [
    "kf = StratifiedKFold(n_splits=10, random_state=42, shuffle=True)"
   ]
  },
  {
   "cell_type": "code",
   "execution_count": null,
   "metadata": {
    "scrolled": true
   },
   "outputs": [],
   "source": [
    "predictions = np.zeros(len(x_test))\n",
    "num_models = 0\n",
    "\n",
    "for train_index, valid_index in tqdm(kf.split(train_x, y_train)):\n",
    "    \n",
    "    d_train = lgb.Dataset(train_x.iloc[train_index], label=y_train[train_index])\n",
    "    d_val = lgb.Dataset(train_x.iloc[valid_index], label=y_train[valid_index])\n",
    "\n",
    "    clf = lgb.train(lgb_params, d_train, 20000, verbose_eval=1000, \n",
    "                    valid_sets = [d_train, d_val], early_stopping_rounds = 1500)\n",
    "    \n",
    "\n",
    "    \n",
    "    num_models += 1\n",
    "    \n",
    "    predictions += clf.predict(test_x)"
   ]
  },
  {
   "cell_type": "code",
   "execution_count": null,
   "metadata": {},
   "outputs": [],
   "source": [
    "predictions_10 = predictions /10.0\n",
    "data_sub = x_test[['encounter_id']]\n",
    "data_sub['hospital_death'] = predictions_10"
   ]
  },
  {
   "cell_type": "code",
   "execution_count": null,
   "metadata": {},
   "outputs": [],
   "source": [
    "data_sub.to_csv('/Users/s0c02nj/Desktop/OneDrive - Walmart Inc/WiDS/best_till_now_imputing_apache_20thfeb.csv',index = False)\n"
   ]
  },
  {
   "cell_type": "code",
   "execution_count": null,
   "metadata": {},
   "outputs": [],
   "source": []
  },
  {
   "cell_type": "code",
   "execution_count": null,
   "metadata": {},
   "outputs": [],
   "source": []
  },
  {
   "cell_type": "code",
   "execution_count": null,
   "metadata": {},
   "outputs": [],
   "source": []
  },
  {
   "cell_type": "code",
   "execution_count": null,
   "metadata": {},
   "outputs": [],
   "source": []
  },
  {
   "cell_type": "code",
   "execution_count": null,
   "metadata": {},
   "outputs": [],
   "source": []
  },
  {
   "cell_type": "code",
   "execution_count": null,
   "metadata": {},
   "outputs": [],
   "source": [
    "#feature_imp = pd.DataFrame(sorted(zip(lgb_clf.feature_importance(), \n",
    "                                      x_comb.columns), reverse=True), columns=['Value','Feature'])"
   ]
  },
  {
   "cell_type": "code",
   "execution_count": null,
   "metadata": {},
   "outputs": [],
   "source": [
    "#feature_imp[feature_imp['Feature'] == 'weightclass']\n"
   ]
  },
  {
   "cell_type": "code",
   "execution_count": null,
   "metadata": {},
   "outputs": [],
   "source": [
    "#feature_imp[feature_imp['Value'] == 0]"
   ]
  },
  {
   "cell_type": "code",
   "execution_count": null,
   "metadata": {},
   "outputs": [],
   "source": []
  },
  {
   "cell_type": "code",
   "execution_count": null,
   "metadata": {},
   "outputs": [],
   "source": []
  },
  {
   "cell_type": "code",
   "execution_count": null,
   "metadata": {},
   "outputs": [],
   "source": [
    "a1 =  pd.read_csv('/Users/s0c02nj/Desktop/sub_10fold_keep_missing_as_it_is_18thFeb2020_newfeat.csv')\n",
    "a2 =  pd.read_csv('/Users/s0c02nj/Desktop/OneDrive - Walmart Inc/WiDS/ensemble_till_now_12thfeb.csv')"
   ]
  },
  {
   "cell_type": "code",
   "execution_count": null,
   "metadata": {},
   "outputs": [],
   "source": []
  },
  {
   "cell_type": "code",
   "execution_count": null,
   "metadata": {},
   "outputs": [],
   "source": []
  },
  {
   "cell_type": "code",
   "execution_count": null,
   "metadata": {},
   "outputs": [],
   "source": [
    "# a1 =  pd.read_csv('/Users/s0c02nj/Desktop/WiDS/ensemble4_lgbold_10thfeb_new_bmi_impute.csv')\n",
    "# a2 =  pd.read_csv('/Users/s0c02nj/Desktop/WiDS/sub_10fold_keep_missing_as_it_is_10thFeb2020_lgb_type4_ff_20_na_bmi.csv')\n",
    "# #a2 =  pd.read_csv('/Users/s0c02nj/Desktop/WiDS/sub_10fold_keep_missing_as_it_is_9thFeb2020_lgb_type3_ff_27.csv')\n",
    "# a3 =  pd.read_csv('/Users/s0c02nj/Desktop/WiDS/sub_type1_type2_ensemble_5thFeb2020.csv')\n",
    "# a4 =  pd.read_csv('/Users/s0c02nj/Desktop/WiDS/sub_10fold_keep_missing_as_it_is_11thFeb2020_lgb_type3_ff_27.csv')\n",
    "# a5 =  pd.read_csv('/Users/s0c02nj/Desktop/WiDS/pred_lgb_keeping_cat_cont_interchanged_11th_feb.csv')\n",
    "# a6 = pd.read_csv('/Users/s0c02nj/Desktop/WiDS/ensemble4tillnpw_11thfeb.csv')"
   ]
  },
  {
   "cell_type": "code",
   "execution_count": null,
   "metadata": {},
   "outputs": [],
   "source": [
    "sub = pd.DataFrame()\n",
    "sub['encounter_id'] = a1['encounter_id']"
   ]
  },
  {
   "cell_type": "code",
   "execution_count": null,
   "metadata": {},
   "outputs": [],
   "source": [
    "pred_ens = (a1['hospital_death'] + a2['hospital_death']\n",
    "           )/2.0\n",
    "            "
   ]
  },
  {
   "cell_type": "code",
   "execution_count": null,
   "metadata": {},
   "outputs": [],
   "source": [
    "sub['hospital_death'] = pred_ens"
   ]
  },
  {
   "cell_type": "code",
   "execution_count": null,
   "metadata": {},
   "outputs": [],
   "source": [
    "sub.to_csv('/Users/s0c02nj/Desktop/OneDrive - Walmart Inc/WiDS/ensemble_till_now_18thfeb.csv',index = False)"
   ]
  },
  {
   "cell_type": "code",
   "execution_count": null,
   "metadata": {},
   "outputs": [],
   "source": []
  },
  {
   "cell_type": "code",
   "execution_count": null,
   "metadata": {},
   "outputs": [],
   "source": []
  },
  {
   "cell_type": "code",
   "execution_count": null,
   "metadata": {},
   "outputs": [],
   "source": []
  },
  {
   "cell_type": "code",
   "execution_count": null,
   "metadata": {},
   "outputs": [],
   "source": []
  },
  {
   "cell_type": "code",
   "execution_count": null,
   "metadata": {},
   "outputs": [],
   "source": []
  },
  {
   "cell_type": "code",
   "execution_count": null,
   "metadata": {},
   "outputs": [],
   "source": []
  },
  {
   "cell_type": "code",
   "execution_count": null,
   "metadata": {},
   "outputs": [],
   "source": []
  },
  {
   "cell_type": "code",
   "execution_count": null,
   "metadata": {},
   "outputs": [],
   "source": []
  },
  {
   "cell_type": "code",
   "execution_count": null,
   "metadata": {},
   "outputs": [],
   "source": []
  },
  {
   "cell_type": "code",
   "execution_count": null,
   "metadata": {},
   "outputs": [],
   "source": []
  }
 ],
 "metadata": {
  "kernelspec": {
   "display_name": "Python 3",
   "language": "python",
   "name": "python3"
  },
  "language_info": {
   "codemirror_mode": {
    "name": "ipython",
    "version": 3
   },
   "file_extension": ".py",
   "mimetype": "text/x-python",
   "name": "python",
   "nbconvert_exporter": "python",
   "pygments_lexer": "ipython3",
   "version": "3.6.8"
  }
 },
 "nbformat": 4,
 "nbformat_minor": 2
}

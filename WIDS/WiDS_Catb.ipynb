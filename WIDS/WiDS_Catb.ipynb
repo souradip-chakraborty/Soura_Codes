{
 "cells": [
  {
   "cell_type": "code",
   "execution_count": 1,
   "metadata": {},
   "outputs": [],
   "source": [
    "import numpy as np\n",
    "import pandas as pd\n",
    "from tqdm import tqdm\n",
    "from collections import Counter\n",
    "\n",
    "from sklearn.model_selection import StratifiedKFold\n",
    "from sklearn import metrics, preprocessing\n",
    "from sklearn.impute import SimpleImputer\n",
    "from sklearn.metrics import accuracy_score\n",
    "from sklearn.model_selection import train_test_split\n",
    "from sklearn.model_selection import train_test_split\n",
    "from sklearn.preprocessing import LabelEncoder\n",
    "from catboost import Pool, CatBoostClassifier\n",
    "import category_encoders as ce\n"
   ]
  },
  {
   "cell_type": "code",
   "execution_count": 2,
   "metadata": {},
   "outputs": [],
   "source": [
    "#Importing\n",
    "train_data = pd.read_csv('/Users/s0c02nj/Desktop/WiDS/training_v2.csv')\n",
    "test_data =  pd.read_csv('/Users/s0c02nj/Desktop/WiDS/unlabeled.csv')\n",
    "\n",
    "sub_data = pd.read_csv('/Users/s0c02nj/Desktop/WiDS/samplesubmission.csv')\n",
    "data_dict = pd.read_csv('/Users/s0c02nj/Desktop/WiDS/WiDS Datathon 2020 Dictionary.csv')"
   ]
  },
  {
   "cell_type": "code",
   "execution_count": 3,
   "metadata": {},
   "outputs": [],
   "source": [
    "def weighted_classt(x): \n",
    "    if pd.isna(x):\n",
    "        return np.nan\n",
    "    elif x < 15: \n",
    "        return 'very severely underweight' \n",
    "    elif x >= 15 and x < 16: \n",
    "        return 'severely weight' \n",
    "    elif x >=16 and x < 18.5: \n",
    "        return 'underweight' \n",
    "    elif x >= 18.5 and x < 25: \n",
    "        return 'healthy weight' \n",
    "    elif x >= 25 and x < 30: \n",
    "        return 'overweight'\n",
    "    elif x >= 30 and x < 35: \n",
    "        return 'class 1' \n",
    "    elif x >= 35 and x < 40: \n",
    "        return 'class 2' \n",
    "    else: \n",
    "        return 'class 3' "
   ]
  },
  {
   "cell_type": "code",
   "execution_count": 4,
   "metadata": {},
   "outputs": [],
   "source": [
    "train_data['weightclass'] = train_data['bmi'].map(weighted_classt)\n",
    "test_data['weightclass'] = test_data['bmi'].map(weighted_classt)"
   ]
  },
  {
   "cell_type": "code",
   "execution_count": null,
   "metadata": {},
   "outputs": [],
   "source": [
    "ls  = list(set(test_data['hospital_id']).intersection(set(train_data['hospital_id'])))"
   ]
  },
  {
   "cell_type": "code",
   "execution_count": null,
   "metadata": {},
   "outputs": [],
   "source": [
    "cat_var = list(data_dict[data_dict['Data Type'].isin(['binary','string'])]['Variable Name'])\n",
    "cat_var.remove('icu_admit_type')\n",
    "cat_var.remove('bmi')\n",
    "cat_var = cat_var[1:]"
   ]
  },
  {
   "cell_type": "code",
   "execution_count": null,
   "metadata": {},
   "outputs": [],
   "source": [
    "#cat_var = cat_var[1:]\n",
    "cat_var = cat_var + ['weightclass']\n"
   ]
  },
  {
   "cell_type": "code",
   "execution_count": null,
   "metadata": {},
   "outputs": [],
   "source": [
    "cont_var = list(data_dict[data_dict['Data Type'].isin(['integer','numeric'])]['Variable Name'])\n",
    "cont_var.remove('pred')\n",
    "cont_var = cont_var + ['bmi']"
   ]
  },
  {
   "cell_type": "markdown",
   "metadata": {},
   "source": [
    "#### Baseline"
   ]
  },
  {
   "cell_type": "code",
   "execution_count": null,
   "metadata": {},
   "outputs": [],
   "source": [
    "x_train = train_data.drop('hospital_death',axis=1)\n",
    "y_train = train_data['hospital_death']"
   ]
  },
  {
   "cell_type": "code",
   "execution_count": null,
   "metadata": {},
   "outputs": [],
   "source": [
    "x_test = test_data.drop('hospital_death',axis=1)"
   ]
  },
  {
   "cell_type": "code",
   "execution_count": null,
   "metadata": {},
   "outputs": [],
   "source": [
    "x_comb = pd.concat([x_train,x_test],sort=False)"
   ]
  },
  {
   "cell_type": "code",
   "execution_count": null,
   "metadata": {},
   "outputs": [],
   "source": [
    "### impute bmi values based on height and weight\n",
    "count = 0\n",
    "bmi_list = []\n",
    "for i in tqdm(range(x_comb.shape[0])):\n",
    "    \n",
    "    if pd.isnull(x_comb[\"weight\"].iloc[i]) or pd.isnull(x_comb[\"height\"].iloc[i]):\n",
    "        bmi_list.append(x_comb[\"bmi\"].iloc[i])\n",
    "        continue\n",
    "    else:\n",
    "        \n",
    "        count += 1\n",
    "        bmi_list.append(x_comb[\"weight\"].iloc[i] / ((x_comb[\"height\"].iloc[i]/100) ** 2))"
   ]
  },
  {
   "cell_type": "code",
   "execution_count": null,
   "metadata": {},
   "outputs": [],
   "source": [
    "x_comb['bmi'] = bmi_list"
   ]
  },
  {
   "cell_type": "code",
   "execution_count": null,
   "metadata": {},
   "outputs": [],
   "source": [
    "# # Remove Features with more than 70 percent missing values\n",
    "# data_missing = (x_comb.isnull().sum() / len(x_comb)).sort_values(ascending = False)\n",
    "# data_missing = data_missing.index[data_missing > 0.60]\n",
    "\n",
    "# x_comb = x_comb.drop(columns = data_missing)\n",
    "#x_comb.isna().sum()"
   ]
  },
  {
   "cell_type": "code",
   "execution_count": null,
   "metadata": {},
   "outputs": [],
   "source": [
    "#Imputing Missing values"
   ]
  },
  {
   "cell_type": "code",
   "execution_count": null,
   "metadata": {},
   "outputs": [],
   "source": [
    "x_comb[\"apache_4a_hospital_death_prob\"] = x_comb[\"apache_4a_hospital_death_prob\"].replace(-1, np.nan)\n",
    "x_comb[\"apache_4a_icu_death_prob\"] = x_comb[\"apache_4a_icu_death_prob\"].replace(-1, np.nan)"
   ]
  },
  {
   "cell_type": "code",
   "execution_count": null,
   "metadata": {},
   "outputs": [],
   "source": [
    "new_cat_var = list(set(cat_var).intersection(set(x_comb.columns)))"
   ]
  },
  {
   "cell_type": "code",
   "execution_count": null,
   "metadata": {},
   "outputs": [],
   "source": [
    "for col in tqdm(new_cat_var):\n",
    "    le = LabelEncoder()\n",
    "    x_comb[col] = le.fit_transform(x_comb[col].astype(str))\n"
   ]
  },
  {
   "cell_type": "code",
   "execution_count": null,
   "metadata": {},
   "outputs": [],
   "source": [
    "new_cont_var = list(set(cont_var).intersection(set(x_comb.columns)))"
   ]
  },
  {
   "cell_type": "code",
   "execution_count": null,
   "metadata": {},
   "outputs": [],
   "source": [
    "for col in tqdm(new_cont_var):\n",
    "    x_comb[col] = x_comb[col].fillna(x_comb[col].mode().values[0])"
   ]
  },
  {
   "cell_type": "code",
   "execution_count": null,
   "metadata": {},
   "outputs": [],
   "source": [
    "count_var = []\n",
    "for i,col in tqdm(enumerate(new_cont_var + new_cat_var)):\n",
    "    counter = Counter(x_comb[col])\n",
    "    x_comb[str(col)+'count'] = x_comb[col].apply(lambda x:counter[x])\n",
    "    count_var.append(str(col)+'count')"
   ]
  },
  {
   "cell_type": "code",
   "execution_count": null,
   "metadata": {},
   "outputs": [],
   "source": [
    "age_cat = []\n",
    "\n",
    "for i in tqdm(range(0,len(x_comb))):\n",
    "    \n",
    "    val = x_comb['age'].iloc[i]\n",
    "    \n",
    "    if val >= 15 and val <= 24: \n",
    "        age_cat.append('igen')\n",
    "    \n",
    "    elif val >= 25 and val <= 54: \n",
    "       age_cat.append('Prime_working_Age')\n",
    "    \n",
    "    elif val >= 55 and val <= 64: \n",
    "        age_cat.append('Mature_working_Age')\n",
    "        \n",
    "    else: \n",
    "        age_cat.append('Elderly_working_Age')\n"
   ]
  },
  {
   "cell_type": "code",
   "execution_count": null,
   "metadata": {},
   "outputs": [],
   "source": [
    "x_comb['age_category'] = age_cat\n",
    "le = LabelEncoder()\n",
    "x_comb['age_category'] = le.fit_transform(x_comb['age_category'].astype(str))"
   ]
  },
  {
   "cell_type": "code",
   "execution_count": null,
   "metadata": {},
   "outputs": [],
   "source": [
    "list_illness = ['aids',\n",
    "                'cirrhosis',\n",
    "                'diabetes_mellitus',\n",
    "                'hepatic_failure',\n",
    "                'immunosuppression',\n",
    "                'leukemia',\n",
    "                'lymphoma',\n",
    "                'solid_tumor_with_metastasis']"
   ]
  },
  {
   "cell_type": "code",
   "execution_count": null,
   "metadata": {},
   "outputs": [],
   "source": [
    "inter_cols1 = []\n",
    "\n",
    "for col in tqdm(list_illness) :\n",
    "    x_comb['hospital_id'+str(col)] = x_comb['hospital_id'].astype(str) + '_' + x_comb[col].astype(str)\n",
    "    x_comb['gender'+str(col)] = x_comb['gender'].astype(str) + '_' + x_comb[col].astype(str)\n",
    "    x_comb['age'+str(col)] = x_comb['age'].astype(str) + '_' + x_comb[col].astype(str)\n",
    "    x_comb['bmi'+str(col)] = x_comb['bmi'].astype(str) + '_' + x_comb[col].astype(str)\n",
    "    \n",
    "    inter_cols1.append('hospital_id'+str(col))\n",
    "    inter_cols1.append('gender'+str(col))\n",
    "    inter_cols1.append('age'+str(col))\n",
    "    inter_cols1.append('bmi'+str(col))"
   ]
  },
  {
   "cell_type": "code",
   "execution_count": null,
   "metadata": {},
   "outputs": [],
   "source": [
    "for cols in tqdm(inter_cols1):\n",
    "    le = LabelEncoder()\n",
    "    x_comb[cols] = le.fit_transform(x_comb[cols])\n",
    "    "
   ]
  },
  {
   "cell_type": "code",
   "execution_count": null,
   "metadata": {},
   "outputs": [],
   "source": [
    "inter_cols2 = []\n",
    "\n",
    "for col in tqdm(list_illness) :\n",
    "    x_comb['age_category'+str(col)] = x_comb['age_category'].astype(str) + '_' + x_comb[col].astype(str)\n",
    "    inter_cols2.append('age_category'+str(col))"
   ]
  },
  {
   "cell_type": "code",
   "execution_count": null,
   "metadata": {},
   "outputs": [],
   "source": [
    "for cols in tqdm(inter_cols2):\n",
    "    le = LabelEncoder()\n",
    "    x_comb[cols] = le.fit_transform(x_comb[cols])\n",
    "    "
   ]
  },
  {
   "cell_type": "code",
   "execution_count": null,
   "metadata": {},
   "outputs": [],
   "source": [
    "inter_cols3 = []\n",
    "\n",
    "for col1 in tqdm(list_illness) :\n",
    "    for col2 in list_illness:\n",
    "        if col1 !=col2 :\n",
    "            x_comb[col1+col2] = x_comb[col1].astype(str) + '_' + x_comb[col2].astype(str)\n",
    "            inter_cols3.append(col1+col2)"
   ]
  },
  {
   "cell_type": "code",
   "execution_count": null,
   "metadata": {},
   "outputs": [],
   "source": [
    "for cols in tqdm(inter_cols3):\n",
    "    le = LabelEncoder()\n",
    "    x_comb[cols] = le.fit_transform(x_comb[cols])\n",
    "    "
   ]
  },
  {
   "cell_type": "code",
   "execution_count": null,
   "metadata": {},
   "outputs": [],
   "source": [
    "#train_data.columns[0:100]\n",
    "\n",
    "list_imp_cols = ['icu_type','bmi','age','gender','d1_heartrate_max']\n",
    "\n",
    "inter_cols4 = []\n",
    "\n",
    "for col1 in tqdm(list_imp_cols) :\n",
    "    for col2 in list_imp_cols:\n",
    "        if col1 !=col2 :\n",
    "            x_comb[col1+col2] = x_comb[col1].astype(str) + '_' + x_comb[col2].astype(str)\n",
    "            inter_cols4.append(col1+col2)\n",
    "            "
   ]
  },
  {
   "cell_type": "code",
   "execution_count": null,
   "metadata": {},
   "outputs": [],
   "source": [
    "for cols in tqdm(inter_cols4):\n",
    "    le = LabelEncoder()\n",
    "    x_comb[cols] = le.fit_transform(x_comb[cols])"
   ]
  },
  {
   "cell_type": "code",
   "execution_count": 18,
   "metadata": {},
   "outputs": [
    {
     "name": "stderr",
     "output_type": "stream",
     "text": [
      "100%|██████████| 9/9 [00:00<00:00, 894.35it/s]\n"
     ]
    }
   ],
   "source": [
    "list_groups = list(data_dict['Category'].unique())\n",
    "list_groups = list_groups[1:]\n",
    "\n",
    "grp_ls = []\n",
    "\n",
    "for grp in tqdm(list_groups):\n",
    "    \n",
    "    grp_ls.append(list(data_dict[data_dict['Category'] == grp]['Variable Name']))"
   ]
  },
  {
   "cell_type": "code",
   "execution_count": 41,
   "metadata": {},
   "outputs": [
    {
     "name": "stderr",
     "output_type": "stream",
     "text": [
      "100%|██████████| 9/9 [00:00<00:00, 15847.50it/s]\n"
     ]
    }
   ],
   "source": [
    "inter_cols5 = []\n",
    "\n",
    "for i in tqdm(range(0,len(grp_ls))):\n",
    "    p = grp_ls[i]\n",
    "    p_net = list(set(p).intersection(set(x_comb.columns)))\n",
    "    \n",
    "    temp = ''\n",
    "    x_comb[temp] = []\n",
    "\n",
    "    for j in range(0,len(p_net)):\n",
    "        #print (i)\n",
    "\n",
    "        temp = p[j]+ '_'+ temp\n",
    "        x_comb[temp] = x_comb[p[j]] + x_comb[temp]\n",
    "    \n",
    "    inter_cols5.append(temp)\n",
    "\n"
   ]
  },
  {
   "cell_type": "code",
   "execution_count": 40,
   "metadata": {},
   "outputs": [
    {
     "data": {
      "text/plain": [
       "'weight_readmission_status_pre_icu_los_days_icu_type_icu_stay_type_icu_id_icu_admit_type_icu_admit_source_hospital_admit_source_height_gender_ethnicity_elective_surgery_bmi_age_hospital_death_'"
      ]
     },
     "execution_count": 40,
     "metadata": {},
     "output_type": "execute_result"
    }
   ],
   "source": [
    "x"
   ]
  },
  {
   "cell_type": "code",
   "execution_count": 47,
   "metadata": {},
   "outputs": [],
   "source": [
    "a = pd.DataFrame()\n",
    "b = [1,2,3,4]\n",
    "a['a1'] = b"
   ]
  },
  {
   "cell_type": "code",
   "execution_count": 48,
   "metadata": {},
   "outputs": [],
   "source": [
    "a['temp'] = ''"
   ]
  },
  {
   "cell_type": "code",
   "execution_count": 51,
   "metadata": {},
   "outputs": [
    {
     "data": {
      "text/plain": [
       "0    _1\n",
       "1    _2\n",
       "2    _3\n",
       "3    _4\n",
       "dtype: object"
      ]
     },
     "execution_count": 51,
     "metadata": {},
     "output_type": "execute_result"
    }
   ],
   "source": [
    "a['temp']+'_'+a['a1'].astype(str)"
   ]
  },
  {
   "cell_type": "code",
   "execution_count": null,
   "metadata": {},
   "outputs": [],
   "source": []
  },
  {
   "cell_type": "code",
   "execution_count": null,
   "metadata": {},
   "outputs": [],
   "source": [
    "final_cat_var = new_cat_var + count_var + ['age_category'] + inter_cols1 + inter_cols2 + inter_cols3 + inter_cols4"
   ]
  },
  {
   "cell_type": "code",
   "execution_count": null,
   "metadata": {},
   "outputs": [],
   "source": []
  },
  {
   "cell_type": "markdown",
   "metadata": {},
   "source": [
    "##### Target Encoding"
   ]
  },
  {
   "cell_type": "code",
   "execution_count": null,
   "metadata": {},
   "outputs": [],
   "source": [
    "temp_train = x_train.copy()\n",
    "temp_train['hospital_death'] = train_data['hospital_death']"
   ]
  },
  {
   "cell_type": "code",
   "execution_count": null,
   "metadata": {},
   "outputs": [],
   "source": [
    "cat_count_var = []\n",
    "\n",
    "for i,col in tqdm(enumerate(cat_var)):\n",
    "    mean = temp_train['hospital_death'].mean()\n",
    "    \n",
    "    #Compute the number of values and the mean of each group\n",
    "    agg = temp_train.groupby(col)['hospital_death'].agg(['count', 'mean'])\n",
    "    counts = agg['count']\n",
    "    means =  agg['mean']\n",
    "    \n",
    "    #Compute the \"smoothed\" means\n",
    "    m=3\n",
    "    smooth = (counts * means + m * mean) / (counts + m)\n",
    "    \n",
    "    #Final_val\n",
    "    x_comb[str(col)+'count_new'] = x_comb[col].map(smooth)\n",
    "    cat_count_var.append(str(col)+'count_new')\n",
    "    "
   ]
  },
  {
   "cell_type": "code",
   "execution_count": null,
   "metadata": {},
   "outputs": [],
   "source": [
    "# # Remove Features with more than 70 percent missing values\n",
    "data_missing = (x_comb.isnull().sum() / len(x_comb)).sort_values(ascending = False)\n",
    "data_missing = data_missing.index[data_missing > 0.90]\n",
    "\n",
    "x_comb = x_comb.drop(columns = data_missing)"
   ]
  },
  {
   "cell_type": "code",
   "execution_count": null,
   "metadata": {},
   "outputs": [],
   "source": [
    "cat_count_var_new = list(set(cat_count_var).intersection(set(x_comb.columns)))"
   ]
  },
  {
   "cell_type": "code",
   "execution_count": null,
   "metadata": {},
   "outputs": [],
   "source": [
    "for col in tqdm(cat_count_var_new):\n",
    "    x_comb[col] = x_comb[col].fillna(x_comb[col].mode().values[0])"
   ]
  },
  {
   "cell_type": "code",
   "execution_count": null,
   "metadata": {},
   "outputs": [],
   "source": [
    "x_comb = x_comb.drop(['encounter_id','patient_id'],axis=1)"
   ]
  },
  {
   "cell_type": "code",
   "execution_count": null,
   "metadata": {},
   "outputs": [],
   "source": [
    "x_comb.shape"
   ]
  },
  {
   "cell_type": "code",
   "execution_count": null,
   "metadata": {},
   "outputs": [],
   "source": [
    "train_x = x_comb[0:91713]\n",
    "test_x = x_comb[91713:]"
   ]
  },
  {
   "cell_type": "code",
   "execution_count": null,
   "metadata": {},
   "outputs": [],
   "source": [
    "x1_train, x1_val, y1_train, y1_val = train_test_split(train_x, y_train, \n",
    "                                                      test_size=0.2,\n",
    "                                                      random_state=42,\n",
    "                                                      stratify = y_train)"
   ]
  },
  {
   "cell_type": "code",
   "execution_count": null,
   "metadata": {},
   "outputs": [],
   "source": [
    "#let us make the catboost model, use_best_model params will make the model prevent overfitting\n",
    "model = CatBoostClassifier(iterations=2000, \n",
    "                           learning_rate=0.04, \n",
    "                           l2_leaf_reg= 3.5,  \n",
    "                           depth= 8, \n",
    "                           rsm=0.98, \n",
    "                           loss_function= 'Logloss', \n",
    "                           eval_metric='AUC',\n",
    "                           use_best_model=True,\n",
    "                           random_seed=42)"
   ]
  },
  {
   "cell_type": "code",
   "execution_count": null,
   "metadata": {
    "scrolled": true
   },
   "outputs": [],
   "source": [
    "model.fit(x1_train,y1_train, cat_features= new_cat_var, eval_set=(x1_val,y1_val))\n"
   ]
  },
  {
   "cell_type": "code",
   "execution_count": null,
   "metadata": {},
   "outputs": [],
   "source": [
    "#last let us make the submission,note that you have to make the pred to be int!\n",
    "pred = model.predict_proba(test_x)\n",
    "preds= pred[:,1]"
   ]
  },
  {
   "cell_type": "code",
   "execution_count": null,
   "metadata": {},
   "outputs": [],
   "source": [
    "#sub_data"
   ]
  },
  {
   "cell_type": "code",
   "execution_count": null,
   "metadata": {},
   "outputs": [],
   "source": [
    "data_sub = x_test[['encounter_id']]\n",
    "data_sub['hospital_death'] = preds"
   ]
  },
  {
   "cell_type": "code",
   "execution_count": null,
   "metadata": {},
   "outputs": [],
   "source": [
    "data_sub.to_csv('/Users/s0c02nj/Desktop/WiDS/sub4_catb_01022020.csv',index = False)"
   ]
  },
  {
   "cell_type": "code",
   "execution_count": null,
   "metadata": {},
   "outputs": [],
   "source": [
    "data_sub.shape"
   ]
  },
  {
   "cell_type": "code",
   "execution_count": null,
   "metadata": {},
   "outputs": [],
   "source": []
  },
  {
   "cell_type": "code",
   "execution_count": null,
   "metadata": {},
   "outputs": [],
   "source": [
    "kf = StratifiedKFold(n_splits=12, random_state=42, shuffle=True)"
   ]
  },
  {
   "cell_type": "code",
   "execution_count": null,
   "metadata": {},
   "outputs": [],
   "source": [
    "predictions = np.zeros(len(x_test))\n",
    "num_models = 0\n",
    "\n",
    "for train_index, valid_index in tqdm(kf.split(train_x, y_train)):\n",
    "    \n",
    "    x1_train = train_x.iloc[train_index]\n",
    "    y1_train =y_train[train_index]\n",
    "    x1_val = train_x.iloc[valid_index]\n",
    "    y1_val = y_train[valid_index]\n",
    "\n",
    "    catb_model.fit(x1_train,y1_train, cat_features= new_cat_var, eval_set=(x1_val,y1_val))\n",
    "\n",
    "    num_models += 1\n",
    "    \n",
    "    predictions += catb_model.predict(test_x)"
   ]
  },
  {
   "cell_type": "code",
   "execution_count": null,
   "metadata": {},
   "outputs": [],
   "source": []
  },
  {
   "cell_type": "code",
   "execution_count": null,
   "metadata": {},
   "outputs": [],
   "source": []
  },
  {
   "cell_type": "code",
   "execution_count": null,
   "metadata": {},
   "outputs": [],
   "source": []
  },
  {
   "cell_type": "code",
   "execution_count": null,
   "metadata": {},
   "outputs": [],
   "source": []
  },
  {
   "cell_type": "code",
   "execution_count": null,
   "metadata": {},
   "outputs": [],
   "source": []
  },
  {
   "cell_type": "code",
   "execution_count": null,
   "metadata": {},
   "outputs": [],
   "source": []
  },
  {
   "cell_type": "code",
   "execution_count": null,
   "metadata": {},
   "outputs": [],
   "source": []
  },
  {
   "cell_type": "code",
   "execution_count": null,
   "metadata": {},
   "outputs": [],
   "source": []
  },
  {
   "cell_type": "code",
   "execution_count": null,
   "metadata": {},
   "outputs": [],
   "source": []
  },
  {
   "cell_type": "code",
   "execution_count": null,
   "metadata": {},
   "outputs": [],
   "source": []
  },
  {
   "cell_type": "code",
   "execution_count": null,
   "metadata": {},
   "outputs": [],
   "source": []
  },
  {
   "cell_type": "code",
   "execution_count": null,
   "metadata": {},
   "outputs": [],
   "source": []
  },
  {
   "cell_type": "code",
   "execution_count": null,
   "metadata": {},
   "outputs": [],
   "source": []
  },
  {
   "cell_type": "code",
   "execution_count": null,
   "metadata": {},
   "outputs": [],
   "source": []
  },
  {
   "cell_type": "code",
   "execution_count": null,
   "metadata": {},
   "outputs": [],
   "source": []
  },
  {
   "cell_type": "code",
   "execution_count": null,
   "metadata": {},
   "outputs": [],
   "source": []
  },
  {
   "cell_type": "code",
   "execution_count": null,
   "metadata": {},
   "outputs": [],
   "source": []
  },
  {
   "cell_type": "code",
   "execution_count": null,
   "metadata": {},
   "outputs": [],
   "source": [
    "# a1 = pd.read_csv('/Users/s0c02nj/Desktop/WiDS/Submission/sub2.csv')\n",
    "# a2 = pd.read_csv('/Users/s0c02nj/Desktop/WiDS/Submission/sub3.csv')\n",
    "# a3 = pd.read_csv('/Users/s0c02nj/Desktop/WiDS/Submission/sub3_lgb.csv')\n",
    "# a4 = pd.read_csv('/Users/s0c02nj/Desktop/WiDS/Submission/sub4_lgb.csv')\n",
    "# a5 = pd.read_csv('/Users/s0c02nj/Desktop/WiDS/Submission/sub5_lgb.csv')\n",
    "# a6 = pd.read_csv('/Users/s0c02nj/Desktop/WiDS/Submission/sub6_lgb.csv')\n",
    "# a7 = pd.read_csv('/Users/s0c02nj/Desktop/WiDS/Submission/sub7_catb_agg.csv')\n",
    "# a8 = pd.read_csv('/Users/s0c02nj/Desktop/WiDS/sub6_catb.csv')\n",
    "# a9 = pd.read_csv('/Users/s0c02nj/Desktop/WiDS/sub5_catb.csv')\n",
    "                      \n",
    "a1 = pd.read_csv('/Users/s0c02nj/Desktop/WiDS/Submission/sub_ensemble.csv')\n",
    "a2 = pd.read_csv('/Users/s0c02nj/Desktop/WiDS/Submission/sub_ensemble_gm.csv')\n",
    "a3 = pd.read_csv('/Users/s0c02nj/Desktop/WiDS/Submission/sub_ensemble_gm1.csv')\n",
    "a4 = pd.read_csv('/Users/s0c02nj/Desktop/WiDS/sub_ensemble_gm2.csv')\n",
    "a5 = pd.read_csv('/Users/s0c02nj/Desktop/WiDS/sub8_lgb_10fold1.csv')\n",
    "a6 = pd.read_csv('/Users/s0c02nj/Desktop/WiDS/sub8_lgb_10fold.csv')\n",
    "a7 = pd.read_csv('/Users/s0c02nj/Desktop/WiDS/sub10_lgb_kfold2.csv')\n",
    "a8 = pd.read_csv('/Users/s0c02nj/Desktop/WiDS/xgboost.csv')\n",
    "a9 = pd.read_csv('/Users/s0c02nj/Desktop/WiDS/sub11_ensemble_imp1.csv')\n",
    "a10 = pd.read_csv('/Users/s0c02nj/Desktop/WiDS/sub12_catb.csv')\n",
    "$a11 = pd.read_csv('/Users/s0c02nj/Desktop/WiDS/sub14_catb_sudolabel.csv')"
   ]
  },
  {
   "cell_type": "code",
   "execution_count": null,
   "metadata": {},
   "outputs": [],
   "source": [
    "sub = pd.DataFrame()\n",
    "sub['encounter_id'] = a1['encounter_id']"
   ]
  },
  {
   "cell_type": "code",
   "execution_count": null,
   "metadata": {},
   "outputs": [],
   "source": [
    "pred_ens = (a1['hospital_death'] + a2['hospital_death'] + a3['hospital_death'] + \n",
    "            a4['hospital_death'] + a5['hospital_death'] + a6['hospital_death'] +\n",
    "            a7['hospital_death'] + a8['hospital_death'] + a9['hospital_death'] +\n",
    "            a10['hospital_death'] + a11['hospital_death']\n",
    "           )/11.0\n",
    "            "
   ]
  },
  {
   "cell_type": "code",
   "execution_count": null,
   "metadata": {},
   "outputs": [],
   "source": [
    "sub['hospital_death'] = pred_ens"
   ]
  },
  {
   "cell_type": "code",
   "execution_count": null,
   "metadata": {},
   "outputs": [],
   "source": [
    "sub.to_csv('/Users/s0c02nj/Desktop/WiDS/sub15_ensemble_sudolabel.csv',index = False)"
   ]
  },
  {
   "cell_type": "code",
   "execution_count": null,
   "metadata": {},
   "outputs": [],
   "source": []
  },
  {
   "cell_type": "code",
   "execution_count": null,
   "metadata": {},
   "outputs": [],
   "source": []
  },
  {
   "cell_type": "code",
   "execution_count": null,
   "metadata": {},
   "outputs": [],
   "source": []
  },
  {
   "cell_type": "code",
   "execution_count": null,
   "metadata": {},
   "outputs": [],
   "source": []
  },
  {
   "cell_type": "code",
   "execution_count": null,
   "metadata": {},
   "outputs": [],
   "source": [
    "predictions = np.zeros(len(x_test))\n",
    "num_models = 0\n",
    "\n",
    "for train_index, valid_index in tqdm(kf.split(train_x, y_train)):\n",
    "    \n",
    "    d_train = lgb.Dataset(train_x.iloc[train_index], label=y_train[train_index])\n",
    "    d_val = lgb.Dataset(train_x.iloc[valid_index], label=y_train[valid_index])\n",
    "\n",
    "    clf = lgb.train(lgb_params, d_train, 130000, verbose_eval=1000, \n",
    "                    valid_sets = [d_train, d_val], early_stopping_rounds = 3000)\n",
    "    \n",
    "\n",
    "    \n",
    "    num_models += 1\n",
    "    \n",
    "    predictions += clf.predict(test_x)"
   ]
  },
  {
   "cell_type": "code",
   "execution_count": null,
   "metadata": {},
   "outputs": [],
   "source": []
  },
  {
   "cell_type": "code",
   "execution_count": null,
   "metadata": {},
   "outputs": [],
   "source": []
  },
  {
   "cell_type": "code",
   "execution_count": null,
   "metadata": {},
   "outputs": [],
   "source": []
  },
  {
   "cell_type": "code",
   "execution_count": null,
   "metadata": {},
   "outputs": [],
   "source": []
  },
  {
   "cell_type": "code",
   "execution_count": null,
   "metadata": {},
   "outputs": [],
   "source": []
  },
  {
   "cell_type": "code",
   "execution_count": null,
   "metadata": {},
   "outputs": [],
   "source": []
  },
  {
   "cell_type": "code",
   "execution_count": null,
   "metadata": {},
   "outputs": [],
   "source": []
  },
  {
   "cell_type": "code",
   "execution_count": null,
   "metadata": {},
   "outputs": [],
   "source": []
  },
  {
   "cell_type": "code",
   "execution_count": null,
   "metadata": {},
   "outputs": [],
   "source": []
  },
  {
   "cell_type": "code",
   "execution_count": null,
   "metadata": {},
   "outputs": [],
   "source": [
    "x_test1 = x_test.copy()"
   ]
  },
  {
   "cell_type": "code",
   "execution_count": null,
   "metadata": {},
   "outputs": [],
   "source": [
    "x_test1"
   ]
  },
  {
   "cell_type": "code",
   "execution_count": null,
   "metadata": {},
   "outputs": [],
   "source": [
    "test_x['hospital_death'] = pred_ens"
   ]
  },
  {
   "cell_type": "code",
   "execution_count": null,
   "metadata": {},
   "outputs": [],
   "source": [
    "df_zero = test_x[test_x['hospital_death']< 0.0008]\n",
    "df_zero['hospital_death'] = 0"
   ]
  },
  {
   "cell_type": "code",
   "execution_count": null,
   "metadata": {},
   "outputs": [],
   "source": [
    "df_ones = test_x[test_x['hospital_death']>0.9]\n",
    "df_ones['hospital_death'] = 1"
   ]
  },
  {
   "cell_type": "code",
   "execution_count": null,
   "metadata": {},
   "outputs": [],
   "source": [
    "df_sudo = pd.concat([df_zero,df_ones])"
   ]
  },
  {
   "cell_type": "code",
   "execution_count": null,
   "metadata": {},
   "outputs": [],
   "source": [
    "y_sudo = df_sudo['hospital_death']\n",
    "train_sudo = df_sudo.drop(['hospital_death'],axis=1)"
   ]
  },
  {
   "cell_type": "code",
   "execution_count": null,
   "metadata": {},
   "outputs": [],
   "source": [
    "# a1 = pd.read_csv('/Users/s0c02nj/Desktop/WiDS/Submission/sub_ensemble.csv')\n",
    "# a2 = pd.read_csv('/Users/s0c02nj/Desktop/WiDS/Submission/sub_ensemble_gm.csv')\n",
    "# a3 = pd.read_csv('/Users/s0c02nj/Desktop/WiDS/Submission/sub_ensemble_gm1.csv')\n",
    "# a4 = pd.read_csv('/Users/s0c02nj/Desktop/WiDS/sub_ensemble_gm2.csv')\n",
    "# a5 = pd.read_csv('/Users/s0c02nj/Desktop/WiDS/sub8_lgb_10fold1.csv')\n",
    "# a6 = pd.read_csv('/Users/s0c02nj/Desktop/WiDS/sub8_lgb_10fold.csv')\n",
    "# a7 = pd.read_csv('/Users/s0c02nj/Desktop/WiDS/sub10_lgb_kfold2.csv')\n",
    "# a8 = pd.read_csv('/Users/s0c02nj/Desktop/WiDS/xgboost.csv')\n",
    "# a9 = pd.read_csv('/Users/s0c02nj/Desktop/WiDS/sub11_ensemble_imp1.csv')\n",
    "# a10 = pd.read_csv('/Users/s0c02nj/Desktop/WiDS/sub12_catb.csv')\n",
    "# $a11 = pd.read_csv('/Users/s0c02nj/Desktop/WiDS/sub14_catb_sudolabel.csv')"
   ]
  },
  {
   "cell_type": "code",
   "execution_count": null,
   "metadata": {},
   "outputs": [],
   "source": []
  },
  {
   "cell_type": "code",
   "execution_count": null,
   "metadata": {},
   "outputs": [],
   "source": []
  }
 ],
 "metadata": {
  "kernelspec": {
   "display_name": "Python 3",
   "language": "python",
   "name": "python3"
  },
  "language_info": {
   "codemirror_mode": {
    "name": "ipython",
    "version": 3
   },
   "file_extension": ".py",
   "mimetype": "text/x-python",
   "name": "python",
   "nbconvert_exporter": "python",
   "pygments_lexer": "ipython3",
   "version": "3.6.8"
  }
 },
 "nbformat": 4,
 "nbformat_minor": 2
}
